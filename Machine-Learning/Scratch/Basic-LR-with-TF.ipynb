{
 "cells": [
  {
   "cell_type": "code",
   "execution_count": 1,
   "metadata": {},
   "outputs": [],
   "source": [
    "%matplotlib inline\n",
    "%load_ext autoreload\n",
    "%autoreload 2\n",
    "\n",
    "import warnings\n",
    "warnings.filterwarnings('ignore')"
   ]
  },
  {
   "cell_type": "code",
   "execution_count": 2,
   "metadata": {},
   "outputs": [],
   "source": [
    "import numpy as np\n",
    "import tensorflow as tf\n",
    "import os\n",
    "import pandas as pd\n",
    "from pandas import DataFrame\n",
    "import matplotlib.pyplot as plt\n",
    "\n",
    "from sklearn.datasets import load_boston\n",
    "from sklearn.preprocessing import StandardScaler\n",
    "from sklearn.pipeline import FeatureUnion\n",
    "from sklearn.model_selection import train_test_split"
   ]
  },
  {
   "cell_type": "code",
   "execution_count": 3,
   "metadata": {},
   "outputs": [],
   "source": [
    "# Load the data\n",
    "boston = load_boston()\n",
    "boston.keys()\n",
    "\n",
    "data = DataFrame(boston['data'])\n",
    "labels = DataFrame(boston['target'])"
   ]
  },
  {
   "cell_type": "code",
   "execution_count": 4,
   "metadata": {},
   "outputs": [
    {
     "name": "stdout",
     "output_type": "stream",
     "text": [
      "        0     1     2    3      4      5     6     7    8      9     10  \\\n",
      "0  0.00632  18.0  2.31  0.0  0.538  6.575  65.2  4.09  1.0  296.0  15.3   \n",
      "\n",
      "      11    12  \n",
      "0  396.9  4.98  \n",
      "[-0.41526932 -0.48772236 -0.59338101 -0.27259857 -0.74026221  0.19427445\n",
      "  0.36716642  0.55715988 -0.8678825  -0.98732948 -0.30309415  0.44105193\n",
      " -0.49243937]\n"
     ]
    },
    {
     "data": {
      "text/plain": [
       "(506, 13)"
      ]
     },
     "execution_count": 4,
     "metadata": {},
     "output_type": "execute_result"
    }
   ],
   "source": [
    "# Normalize the data\n",
    "scaler = StandardScaler().fit(data)\n",
    "dataS = scaler.transform(data)\n",
    "print(data.head(1))\n",
    "print(dataS[1,:])\n",
    "dataS.shape"
   ]
  },
  {
   "cell_type": "code",
   "execution_count": 5,
   "metadata": {},
   "outputs": [
    {
     "data": {
      "text/plain": [
       "(506, 14)"
      ]
     },
     "execution_count": 5,
     "metadata": {},
     "output_type": "execute_result"
    }
   ],
   "source": [
    "# Add bias \n",
    "dataB = np.hstack(( np.ones((dataS.shape[0], 1)), dataS))\n",
    "dataB.shape"
   ]
  },
  {
   "cell_type": "code",
   "execution_count": 26,
   "metadata": {},
   "outputs": [],
   "source": [
    "# Split into test train\n",
    "xTrain, xTest, yTrain, yTest = train_test_split(dataB, labels, test_size = 0.2, random_state = 10)"
   ]
  },
  {
   "cell_type": "code",
   "execution_count": 27,
   "metadata": {},
   "outputs": [],
   "source": [
    "# Init vars for ease of use later on\n",
    "rows, cols = xTrain.shape"
   ]
  },
  {
   "cell_type": "code",
   "execution_count": 33,
   "metadata": {},
   "outputs": [],
   "source": [
    "# Step one:  Create the TF CG\n",
    "\n",
    "# Clear any old stuff hanging around\n",
    "tf.reset_default_graph()\n",
    "\n",
    "# Init vars\n",
    "lr = 0.01\n",
    "epochs =  501\n",
    "history = []\n",
    "\n",
    "# Place holders for the X and Y data, to be fed into the CG at run time\n",
    "x = tf.placeholder(tf.float32, [None, cols], name = 'x')\n",
    "y = tf.placeholder(tf.float32, [None, 1], name = 'y')\n",
    "\n",
    "# Create a TF variable we can store values in for the weights, and init with ones\n",
    "# yHat = wX + b\n",
    "w = tf.Variable( tf.ones([cols, 1], name = 'w'))\n",
    "\n",
    "# Outcomes\n",
    "yH = tf.matmul(x, w)\n",
    "\n",
    "# Loss\n",
    "loss = tf.reduce_mean(tf.square(yH - y))\n",
    "\n",
    "# Optimizer\n",
    "optimize = tf.train.GradientDescentOptimizer(lr).minimize(loss)\n"
   ]
  },
  {
   "cell_type": "code",
   "execution_count": 34,
   "metadata": {},
   "outputs": [],
   "source": [
    "# Step two:  Run the TF CG\n",
    "\n",
    "# Create session and init all TF vars\n",
    "sess = tf.Session()\n",
    "init = tf.global_variables_initializer()\n",
    "sess.run(init)\n",
    "\n",
    "# Train the model\n",
    "for e in range(epochs):\n",
    "    sess.run([optimize], feed_dict = {x: xTrain, y: yTrain})\n",
    "    history.append(sess.run([loss], feed_dict = {x: xTrain, y: yTrain}))\n",
    "    "
   ]
  },
  {
   "cell_type": "code",
   "execution_count": 35,
   "metadata": {},
   "outputs": [
    {
     "data": {
      "text/plain": [
       "[<matplotlib.lines.Line2D at 0x16826710>]"
      ]
     },
     "execution_count": 35,
     "metadata": {},
     "output_type": "execute_result"
    },
    {
     "data": {
      "image/png": "[encoded data removed]",
      "text/plain": [
       "<Figure size 432x288 with 1 Axes>"
      ]
     },
     "metadata": {},
     "output_type": "display_data"
    }
   ],
   "source": [
    "plt.plot(history)"
   ]
  },
  {
   "cell_type": "code",
   "execution_count": 31,
   "metadata": {},
   "outputs": [
    {
     "name": "stdout",
     "output_type": "stream",
     "text": [
      "MSE: 34.4027\n"
     ]
    }
   ],
   "source": [
    "# Step three: Predictions\n",
    "\n",
    "# Run test data through forward pass\n",
    "pred = sess.run([yH], feed_dict = {x: xTest})\n",
    "\n",
    "# pred -> list\n",
    "# labels -> DataFrame\n",
    "# Convert labels to np.ndarray, so we can subtract them for MSE calc\n",
    "mse = tf.reduce_mean(tf.square(pred - yTest.values))\n",
    "print(\"MSE: %.4f\" % sess.run(mse)) "
   ]
  },
  {
   "cell_type": "code",
   "execution_count": 32,
   "metadata": {},
   "outputs": [
    {
     "data": {
      "image/png": "[encoded data removed]",
      "text/plain": [
       "<Figure size 432x288 with 1 Axes>"
      ]
     },
     "metadata": {},
     "output_type": "display_data"
    }
   ],
   "source": [
    "pred = np.array(pred)\n",
    "fix, ax = plt.subplots()\n",
    "ax.scatter(yTest, pred)\n",
    "ax.plot([pred.min(),pred.max()], [pred.min(),pred.max()], 'k--', lw = 3)\n",
    "plt.show()"
   ]
  },
  {
   "cell_type": "code",
   "execution_count": null,
   "metadata": {},
   "outputs": [],
   "source": []
  },
  {
   "cell_type": "code",
   "execution_count": 18,
   "metadata": {},
   "outputs": [],
   "source": [
    "sess.close()"
   ]
  },
  {
   "cell_type": "code",
   "execution_count": null,
   "metadata": {},
   "outputs": [],
   "source": []
  },
  {
   "cell_type": "code",
   "execution_count": null,
   "metadata": {},
   "outputs": [],
   "source": []
  }
 ],
 "metadata": {
  "kernelspec": {
   "display_name": "Python 3",
   "language": "python",
   "name": "python3"
  },
  "language_info": {
   "codemirror_mode": {
    "name": "ipython",
    "version": 3
   },
   "file_extension": ".py",
   "mimetype": "text/x-python",
   "name": "python",
   "nbconvert_exporter": "python",
   "pygments_lexer": "ipython3",
   "version": "3.6.5"
  }
 },
 "nbformat": 4,
 "nbformat_minor": 2
}
