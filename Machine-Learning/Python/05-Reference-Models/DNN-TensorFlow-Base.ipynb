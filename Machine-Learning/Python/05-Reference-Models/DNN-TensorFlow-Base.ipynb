{
 "cells": [
  {
   "cell_type": "markdown",
   "metadata": {
    "toc": true
   },
   "source": [
    "<h1>Table of Contents<span class=\"tocSkip\"></span></h1>\n",
    "<div class=\"toc\"><ul class=\"toc-item\"><li><span><a href=\"#Alt1:-Layers-by-hand\" data-toc-modified-id=\"Alt1:-Layers-by-hand-1\"><span class=\"toc-item-num\">1&nbsp;&nbsp;</span>Alt1: Layers by hand</a></span></li><li><span><a href=\"#Alt2:-Layers-via-tf.layers.dense\" data-toc-modified-id=\"Alt2:-Layers-via-tf.layers.dense-2\"><span class=\"toc-item-num\">2&nbsp;&nbsp;</span>Alt2: Layers via tf.layers.dense</a></span></li></ul></div>"
   ]
  },
  {
   "cell_type": "code",
   "execution_count": null,
   "metadata": {
    "ExecuteTime": {
     "end_time": "2018-09-07T19:58:13.775671Z",
     "start_time": "2018-09-07T19:57:51.530Z"
    }
   },
   "outputs": [],
   "source": [
    "import numpy as np\n",
    "import tensorflow as tf\n",
    "from tensorflow.examples.tutorials.mnist import input_data"
   ]
  },
  {
   "cell_type": "code",
   "execution_count": null,
   "metadata": {
    "ExecuteTime": {
     "end_time": "2018-09-07T19:58:13.778703Z",
     "start_time": "2018-09-07T19:57:53.744Z"
    }
   },
   "outputs": [],
   "source": [
    "# Setup vars for the MINST data set\n",
    "inputs = 28 * 28    # image dim in pixels\n",
    "hidden1 = 300\n",
    "hidden2 = 100\n",
    "outputs = 10\n",
    "\n",
    "lr = 0.01\n",
    "epochs = 40\n",
    "batchSize = 50\n",
    "\n",
    "mninst = input_data.read_data_sets(\"/tmp/data/\")"
   ]
  },
  {
   "cell_type": "markdown",
   "metadata": {},
   "source": [
    "# Alt1: Layers by hand"
   ]
  },
  {
   "cell_type": "code",
   "execution_count": 5,
   "metadata": {
    "ExecuteTime": {
     "end_time": "2018-09-07T19:58:14.248666Z",
     "start_time": "2018-09-07T19:58:14.216665Z"
    }
   },
   "outputs": [],
   "source": [
    "# Build functions to create NN layer\n",
    "\n",
    "def nnLayer(x, neurons, name, activation = None):\n",
    "    with tf.name_scope(name):\n",
    "        # Get number of features\n",
    "        inputs = int(x.shape[1])\n",
    "        \n",
    "        # Truncated normal (Gaussian) distribution with a standard deviation of -> 2/sqrt(inputs)\n",
    "        # It is important to initialize connection weights randomly for all hidden layers to avoid \n",
    "        # any symmetries that the Gradient Descent algorithm would be unable to break.\n",
    "        stddev = 2 / np.sqrt(inputs)\n",
    "        \n",
    "        # init the weights\n",
    "        # tf.truncate_normal:\n",
    "        #    The generated values follow a normal distribution with specified mean and standard deviation, \n",
    "        #    except that values whose magnitude is more than 2 standard deviations from the mean are dropped and re-picked.\n",
    "        init = tf.truncated_normal( (inputs, neurons), stddev = stddev)\n",
    "        \n",
    "        w = tf.Variable(init, name = 'kernel')\n",
    "        b = tf.Variable(tf.zeros([neurons]), name = 'bias')\n",
    "        z = tf.matmul(x, w) + b\n",
    "        \n",
    "        if activation is not None:\n",
    "            return activation(z)\n",
    "        else:\n",
    "            return z"
   ]
  },
  {
   "cell_type": "code",
   "execution_count": 9,
   "metadata": {
    "ExecuteTime": {
     "end_time": "2018-09-07T19:59:07.296869Z",
     "start_time": "2018-09-07T19:59:07.006074Z"
    }
   },
   "outputs": [],
   "source": [
    "# Build TF CG\n",
    "x = tf.placeholder(tf.float32, shape = [None, inputs], name = 'x')\n",
    "y = tf.placeholder(tf.int64, shape = [None], name = 'y')\n",
    "\n",
    "with tf.name_scope(\"neuralNet\"):\n",
    "    layer1 = nnLayer(x, hidden1, \"hLayerOne\", tf.nn.relu)\n",
    "    layer2 = nnLayer(layer1, hidden2, \"hLayerTwo\", tf.nn.relu)\n",
    "    yH = nnLayer(layer2, outputs, \"yH\")\n",
    "    \n",
    "with tf.name_scope(\"loss\"):\n",
    "    entropy = tf.nn.sparse_softmax_cross_entropy_with_logits(labels = y, logits = yH)\n",
    "    loss = tf.reduce_mean(entropy, name = \"loss\")\n",
    "    \n",
    "with tf.name_scope(\"optimizer\"):\n",
    "    opt =  tf.train.GradientDescentOptimizer(lr).minimize(loss)\n",
    "    \n",
    "# Eval the model's accuracy\n",
    "with tf.name_scope(\"eval\"):\n",
    "    correct = tf.nn.in_top_k(yH, y, 1)\n",
    "    accuracy = tf.reduce_mean(tf.cast(correct, tf.float32))\n",
    "\n",
    "init = tf.global_variables_initializer()\n",
    "\n",
    "# Save our trained model parameters to disk\n",
    "saver = tf.train.Saver()"
   ]
  },
  {
   "cell_type": "code",
   "execution_count": 12,
   "metadata": {
    "ExecuteTime": {
     "end_time": "2018-09-07T20:09:31.074528Z",
     "start_time": "2018-09-07T20:06:52.632956Z"
    }
   },
   "outputs": [
    {
     "name": "stdout",
     "output_type": "stream",
     "text": [
      "0 Train Acc:  0.98 Test Acc:  0.9174\n",
      "1 Train Acc:  0.98 Test Acc:  0.9336\n",
      "2 Train Acc:  0.94 Test Acc:  0.9407\n",
      "3 Train Acc:  0.96 Test Acc:  0.9443\n",
      "4 Train Acc:  0.94 Test Acc:  0.9489\n",
      "5 Train Acc:  0.98 Test Acc:  0.9521\n",
      "6 Train Acc:  0.96 Test Acc:  0.9571\n",
      "7 Train Acc:  0.98 Test Acc:  0.9604\n",
      "8 Train Acc:  0.98 Test Acc:  0.9624\n",
      "9 Train Acc:  0.96 Test Acc:  0.9621\n",
      "10 Train Acc:  0.92 Test Acc:  0.9664\n",
      "11 Train Acc:  0.92 Test Acc:  0.9661\n",
      "12 Train Acc:  0.98 Test Acc:  0.9669\n",
      "13 Train Acc:  1.0 Test Acc:  0.9693\n",
      "14 Train Acc:  0.94 Test Acc:  0.9713\n",
      "15 Train Acc:  1.0 Test Acc:  0.9712\n",
      "16 Train Acc:  0.98 Test Acc:  0.9718\n",
      "17 Train Acc:  1.0 Test Acc:  0.9724\n",
      "18 Train Acc:  0.98 Test Acc:  0.9726\n",
      "19 Train Acc:  1.0 Test Acc:  0.9723\n",
      "20 Train Acc:  1.0 Test Acc:  0.9741\n",
      "21 Train Acc:  0.98 Test Acc:  0.9742\n",
      "22 Train Acc:  0.98 Test Acc:  0.9754\n",
      "23 Train Acc:  0.96 Test Acc:  0.9741\n",
      "24 Train Acc:  0.98 Test Acc:  0.9754\n",
      "25 Train Acc:  1.0 Test Acc:  0.9756\n",
      "26 Train Acc:  1.0 Test Acc:  0.976\n",
      "27 Train Acc:  1.0 Test Acc:  0.9761\n",
      "28 Train Acc:  1.0 Test Acc:  0.9765\n",
      "29 Train Acc:  1.0 Test Acc:  0.9769\n",
      "30 Train Acc:  1.0 Test Acc:  0.9766\n",
      "31 Train Acc:  1.0 Test Acc:  0.9773\n",
      "32 Train Acc:  1.0 Test Acc:  0.9769\n",
      "33 Train Acc:  1.0 Test Acc:  0.9769\n",
      "34 Train Acc:  1.0 Test Acc:  0.9786\n",
      "35 Train Acc:  1.0 Test Acc:  0.9777\n",
      "36 Train Acc:  1.0 Test Acc:  0.9784\n",
      "37 Train Acc:  1.0 Test Acc:  0.9782\n",
      "38 Train Acc:  1.0 Test Acc:  0.978\n",
      "39 Train Acc:  1.0 Test Acc:  0.9791\n"
     ]
    }
   ],
   "source": [
    "# Execute the TF CG\n",
    "with tf.Session() as sess:\n",
    "    init.run()\n",
    "    \n",
    "    for e in range(epochs):\n",
    "        for i in range(mninst.train.num_examples // batchSize):\n",
    "            xBatch, yBatch = mninst.train.next_batch(batchSize)\n",
    "            sess.run([opt], feed_dict = {x: xBatch, y: yBatch})\n",
    "        accTrain = accuracy.eval(feed_dict = {x: xBatch, y: yBatch})\n",
    "        accTest = accuracy.eval(feed_dict = {x: mninst.test.images, y: mninst.test.labels})\n",
    "        print(e, \"Train Acc: \", accTrain, \"Test Acc: \", accTest)\n",
    "        \n",
    "    savePath = saver.save(sess, \"./DNN-Using-Plain-TensorFlow-Model.ckpt\")"
   ]
  },
  {
   "cell_type": "code",
   "execution_count": 28,
   "metadata": {
    "ExecuteTime": {
     "end_time": "2018-09-07T20:17:14.329535Z",
     "start_time": "2018-09-07T20:17:14.113492Z"
    }
   },
   "outputs": [
    {
     "name": "stdout",
     "output_type": "stream",
     "text": [
      "INFO:tensorflow:Restoring parameters from ./DNN-Using-Plain-TensorFlow-Model.ckpt\n",
      "New data acc: 97.91%\n"
     ]
    }
   ],
   "source": [
    "# Use the saved model\n",
    "# We don't have new iamges, so we'll just reuse the test images\n",
    "\n",
    "xNew = mninst.test.images\n",
    "yNew = mninst.test.labels\n",
    "    \n",
    "with tf.Session() as sess:\n",
    "    saver.restore(sess, \"./DNN-Using-Plain-TensorFlow-Model.ckpt\")  \n",
    "    newZ = yH.eval(feed_dict = {x: xNew})\n",
    "    yHNew = np.argmax(newZ, axis = 1)\n",
    "    \n",
    "print(\"New data acc: %.2f%%\" % (np.sum(yHNew == yNew) / len(yNew) * 100))"
   ]
  },
  {
   "cell_type": "code",
   "execution_count": null,
   "metadata": {},
   "outputs": [],
   "source": []
  },
  {
   "cell_type": "markdown",
   "metadata": {},
   "source": [
    "# Alt2: Layers via tf.layers.dense"
   ]
  },
  {
   "cell_type": "code",
   "execution_count": 35,
   "metadata": {
    "ExecuteTime": {
     "end_time": "2018-09-07T20:34:11.423984Z",
     "start_time": "2018-09-07T20:34:11.419045Z"
    }
   },
   "outputs": [],
   "source": [
    "# Reset the TF CG\n",
    "tf.reset_default_graph()"
   ]
  },
  {
   "cell_type": "code",
   "execution_count": 36,
   "metadata": {
    "ExecuteTime": {
     "end_time": "2018-09-07T20:34:11.933298Z",
     "start_time": "2018-09-07T20:34:11.738285Z"
    }
   },
   "outputs": [],
   "source": [
    "# Build TF CG\n",
    "x = tf.placeholder(tf.float32, shape = [None, inputs], name = 'x')\n",
    "y = tf.placeholder(tf.int64, shape = [None], name = 'y')\n",
    "\n",
    "# This will let TF take care of creating and init'ing the weights and creating the bias\n",
    "with tf.name_scope(\"neuralNetEasy\"):\n",
    "    layer1 = tf.layers.dense(x, hidden1, name = \"hLayerOne\", activation = tf.nn.relu)\n",
    "    layer2 = tf.layers.dense(layer1, hidden2, name = \"hLayerTwo\", activation = tf.nn.relu)\n",
    "    yH = tf.layers.dense(layer2, outputs, name = \"yH\")\n",
    "    \n",
    "with tf.name_scope(\"loss\"):\n",
    "    entropy = tf.nn.sparse_softmax_cross_entropy_with_logits(labels = y, logits = yH)\n",
    "    loss = tf.reduce_mean(entropy, name = \"loss\")\n",
    "    \n",
    "with tf.name_scope(\"optimizer\"):\n",
    "    opt =  tf.train.GradientDescentOptimizer(lr).minimize(loss)\n",
    "    \n",
    "# Eval the model's accuracy\n",
    "with tf.name_scope(\"eval\"):\n",
    "    correct = tf.nn.in_top_k(yH, y, 1)\n",
    "    accuracy = tf.reduce_mean(tf.cast(correct, tf.float32))\n",
    "\n",
    "init = tf.global_variables_initializer()\n",
    "\n",
    "# Save our trained model parameters to disk\n",
    "saver = tf.train.Saver()"
   ]
  },
  {
   "cell_type": "code",
   "execution_count": 37,
   "metadata": {
    "ExecuteTime": {
     "end_time": "2018-09-07T20:36:47.256046Z",
     "start_time": "2018-09-07T20:34:12.052450Z"
    }
   },
   "outputs": [
    {
     "name": "stdout",
     "output_type": "stream",
     "text": [
      "0 Train Acc:  0.94 Test Acc:  0.9055\n",
      "10 Train Acc:  0.96 Test Acc:  0.9612\n",
      "20 Train Acc:  0.96 Test Acc:  0.971\n",
      "30 Train Acc:  1.0 Test Acc:  0.9755\n",
      "FINAL ::  Train Acc:  0.96 Test Acc:  0.9775\n"
     ]
    }
   ],
   "source": [
    "# Execute the TF CG\n",
    "with tf.Session() as sess:\n",
    "    init.run()\n",
    "    \n",
    "    for e in range(epochs):\n",
    "        for i in range(mninst.train.num_examples // batchSize):\n",
    "            xBatch, yBatch = mninst.train.next_batch(batchSize)\n",
    "            sess.run([opt], feed_dict = {x: xBatch, y: yBatch})\n",
    "        accTrain = accuracy.eval(feed_dict = {x: xBatch, y: yBatch})\n",
    "        accTest = accuracy.eval(feed_dict = {x: mninst.test.images, y: mninst.test.labels})\n",
    "        if e % 10 == 0:\n",
    "            print(e, \"Train Acc: \", accTrain, \"Test Acc: \", accTest)\n",
    "        \n",
    "    print(\" \")\n",
    "    print(\"FINAL :: \", \"Train Acc: \", accTrain, \"Test Acc: \", accTest)\n",
    "    \n",
    "    savePath = saver.save(sess, \"./DNN-Using-Plain-TensorFlow-Model-Easy.ckpt\")"
   ]
  },
  {
   "cell_type": "code",
   "execution_count": null,
   "metadata": {},
   "outputs": [],
   "source": []
  }
 ],
 "metadata": {
  "kernelspec": {
   "display_name": "Python 3",
   "language": "python",
   "name": "python3"
  },
  "language_info": {
   "codemirror_mode": {
    "name": "ipython",
    "version": 3
   },
   "file_extension": ".py",
   "mimetype": "text/x-python",
   "name": "python",
   "nbconvert_exporter": "python",
   "pygments_lexer": "ipython3",
   "version": "3.6.4"
  },
  "toc": {
   "nav_menu": {},
   "number_sections": true,
   "sideBar": true,
   "skip_h1_title": false,
   "title_cell": "Table of Contents",
   "title_sidebar": "Contents",
   "toc_cell": true,
   "toc_position": {},
   "toc_section_display": true,
   "toc_window_display": false
  }
 },
 "nbformat": 4,
 "nbformat_minor": 2
}
