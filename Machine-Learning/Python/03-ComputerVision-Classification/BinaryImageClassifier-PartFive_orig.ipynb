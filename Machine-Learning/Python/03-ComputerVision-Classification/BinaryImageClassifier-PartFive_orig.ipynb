{
 "cells": [
  {
   "cell_type": "markdown",
   "metadata": {
    "toc": true
   },
   "source": [
    "<h1>Table of Contents<span class=\"tocSkip\"></span></h1>\n",
    "<div class=\"toc\"><ul class=\"toc-item\"><li><span><a href=\"#Image-Classifiers---Part-Four\" data-toc-modified-id=\"Image-Classifiers---Part-Four-1\"><span class=\"toc-item-num\">1&nbsp;&nbsp;</span>Image Classifiers - Part Four</a></span><ul class=\"toc-item\"><li><span><a href=\"#Introduction\" data-toc-modified-id=\"Introduction-1.1\"><span class=\"toc-item-num\">1.1&nbsp;&nbsp;</span>Introduction</a></span></li></ul></li><li><span><a href=\"#ReLu-activations-and-&quot;He&quot;-initialization\" data-toc-modified-id=\"ReLu-activations-and-&quot;He&quot;-initialization-2\"><span class=\"toc-item-num\">2&nbsp;&nbsp;</span>ReLu activations and \"He\" initialization</a></span><ul class=\"toc-item\"><li><span><a href=\"#What-is-it?\" data-toc-modified-id=\"What-is-it?-2.1\"><span class=\"toc-item-num\">2.1&nbsp;&nbsp;</span>What is it?</a></span></li><li><span><a href=\"#Implementation\" data-toc-modified-id=\"Implementation-2.2\"><span class=\"toc-item-num\">2.2&nbsp;&nbsp;</span>Implementation</a></span><ul class=\"toc-item\"><li><span><a href=\"#&quot;He-Initialization&quot;\" data-toc-modified-id=\"&quot;He-Initialization&quot;-2.2.1\"><span class=\"toc-item-num\">2.2.1&nbsp;&nbsp;</span>\"He Initialization\"</a></span></li><li><span><a href=\"#ReLU\" data-toc-modified-id=\"ReLU-2.2.2\"><span class=\"toc-item-num\">2.2.2&nbsp;&nbsp;</span>ReLU</a></span></li></ul></li></ul></li><li><span><a href=\"#Drop-out-regularization\" data-toc-modified-id=\"Drop-out-regularization-3\"><span class=\"toc-item-num\">3&nbsp;&nbsp;</span>Drop out regularization</a></span><ul class=\"toc-item\"><li><span><a href=\"#What-is-it?\" data-toc-modified-id=\"What-is-it?-3.1\"><span class=\"toc-item-num\">3.1&nbsp;&nbsp;</span>What is it?</a></span></li><li><span><a href=\"#Implementation\" data-toc-modified-id=\"Implementation-3.2\"><span class=\"toc-item-num\">3.2&nbsp;&nbsp;</span>Implementation</a></span></li></ul></li><li><span><a href=\"#Mini-batch-gradient-descent\" data-toc-modified-id=\"Mini-batch-gradient-descent-4\"><span class=\"toc-item-num\">4&nbsp;&nbsp;</span>Mini-batch gradient descent</a></span><ul class=\"toc-item\"><li><span><a href=\"#What-is-it?\" data-toc-modified-id=\"What-is-it?-4.1\"><span class=\"toc-item-num\">4.1&nbsp;&nbsp;</span>What is it?</a></span></li><li><span><a href=\"#Implementation\" data-toc-modified-id=\"Implementation-4.2\"><span class=\"toc-item-num\">4.2&nbsp;&nbsp;</span>Implementation</a></span></li></ul></li><li><span><a href=\"#Testing-what-we-have-so-far\" data-toc-modified-id=\"Testing-what-we-have-so-far-5\"><span class=\"toc-item-num\">5&nbsp;&nbsp;</span>Testing what we have so far</a></span></li><li><span><a href=\"#Adam-optimization\" data-toc-modified-id=\"Adam-optimization-6\"><span class=\"toc-item-num\">6&nbsp;&nbsp;</span>Adam optimization</a></span><ul class=\"toc-item\"><li><span><a href=\"#What-is-it?\" data-toc-modified-id=\"What-is-it?-6.1\"><span class=\"toc-item-num\">6.1&nbsp;&nbsp;</span>What is it?</a></span><ul class=\"toc-item\"><li><span><a href=\"#Adam\" data-toc-modified-id=\"Adam-6.1.1\"><span class=\"toc-item-num\">6.1.1&nbsp;&nbsp;</span>Adam</a></span></li><li><span><a href=\"#Momentum\" data-toc-modified-id=\"Momentum-6.1.2\"><span class=\"toc-item-num\">6.1.2&nbsp;&nbsp;</span>Momentum</a></span></li><li><span><a href=\"#RMSprop\" data-toc-modified-id=\"RMSprop-6.1.3\"><span class=\"toc-item-num\">6.1.3&nbsp;&nbsp;</span>RMSprop</a></span></li><li><span><a href=\"#Combined-summary-resource\" data-toc-modified-id=\"Combined-summary-resource-6.1.4\"><span class=\"toc-item-num\">6.1.4&nbsp;&nbsp;</span>Combined summary resource</a></span></li></ul></li><li><span><a href=\"#Implementation\" data-toc-modified-id=\"Implementation-6.2\"><span class=\"toc-item-num\">6.2&nbsp;&nbsp;</span>Implementation</a></span></li></ul></li><li><span><a href=\"#Testing-it-out\" data-toc-modified-id=\"Testing-it-out-7\"><span class=\"toc-item-num\">7&nbsp;&nbsp;</span>Testing it out</a></span></li><li><span><a href=\"#In-progress....\" data-toc-modified-id=\"In-progress....-8\"><span class=\"toc-item-num\">8&nbsp;&nbsp;</span>In progress....</a></span></li></ul></div>"
   ]
  },
  {
   "cell_type": "code",
   "execution_count": 213,
   "metadata": {},
   "outputs": [
    {
     "name": "stdout",
     "output_type": "stream",
     "text": [
      "The autoreload extension is already loaded. To reload it, use:\n",
      "  %reload_ext autoreload\n"
     ]
    }
   ],
   "source": [
    "%matplotlib inline\n",
    "%load_ext autoreload\n",
    "%autoreload 2\n",
    "\n",
    "import warnings\n",
    "warnings.filterwarnings('ignore')"
   ]
  },
  {
   "cell_type": "code",
   "execution_count": 214,
   "metadata": {},
   "outputs": [],
   "source": [
    "import numpy as np\n",
    "np.random.seed(10)\n",
    "\n",
    "import random \n",
    "random.seed(10)\n",
    "\n",
    "from os import path\n",
    "import pandas as pd\n",
    "from IPython.display import display, HTML\n",
    "from matplotlib import pyplot as plt\n",
    "import matplotlib.image as mpimg\n",
    "import inspect\n",
    "import time\n",
    "import copy\n",
    "import h5py\n",
    "import math\n",
    "import keras"
   ]
  },
  {
   "cell_type": "code",
   "execution_count": 215,
   "metadata": {},
   "outputs": [],
   "source": [
    "#Convolutional NN, Maxpool, Flatten\n",
    "from keras.preprocessing.image import ImageDataGenerator\n",
    "from keras.models import Sequential\n",
    "from keras.layers import Activation, Dropout, Flatten, Dense, Conv2D, MaxPooling2D"
   ]
  },
  {
   "cell_type": "code",
   "execution_count": 216,
   "metadata": {},
   "outputs": [],
   "source": [
    "# We need to know the shape of our images\n",
    "# The keras backend module has information stored about how Keras wants to interact with its backend (TensorFlow)\n",
    "from keras import backend as K\n",
    "\n",
    "# We will resize all images to 150 by 150 pixels\n",
    "img_width, img_height = 150, 150\n",
    "\n",
    "if K.image_data_format() == 'channels_first':\n",
    "    input_shape = (3, img_width, img_height)\n",
    "else:\n",
    "    input_shape = (img_width, img_height, 3)"
   ]
  },
  {
   "cell_type": "code",
   "execution_count": 217,
   "metadata": {},
   "outputs": [],
   "source": [
    "#use the sequential model api in Keras\n",
    "model = Sequential()\n",
    "# First conv layer:\n",
    "# Filters: 32\n",
    "# Kernel: 3x3 (9px)\n",
    "model.add(Conv2D(32, (3, 3), input_shape=input_shape))\n",
    "model.add(Activation('relu'))\n",
    "# Max pool\n",
    "# Size: 2x2 (combine 4px to 1)\n",
    "model.add(MaxPooling2D(pool_size=(2, 2)))\n",
    "\n",
    "# Second conv layer\n",
    "# Filters: 32\n",
    "# Kernel: 3x3 (9px)\n",
    "model.add(Conv2D(32, (3, 3)))\n",
    "model.add(Activation('relu'))\n",
    "# Max pool\n",
    "# Size: 2x2 (combine 4px to 1)\n",
    "model.add(MaxPooling2D(pool_size=(2, 2)))\n",
    "\n",
    "# Third conv layer\n",
    "# Filters: 64\n",
    "# Kernel: 3x3 (9px)\n",
    "model.add(Conv2D(64, (3, 3)))\n",
    "model.add(Activation('relu'))\n",
    "\n",
    "# Max pool\n",
    "# Size: 2x2 (combine 4px to 1)\n",
    "model.add(MaxPooling2D(pool_size=(2, 2)))\n",
    "\n",
    "# Flatten turns 3D map into vector - hence the name ;p\n",
    "model.add(Flatten())\n",
    "# Dense layer\n",
    "model.add(Dense(64))\n",
    "model.add(Activation('relu'))\n",
    "model.add(Dropout(0.5))\n",
    "# Output layer\n",
    "model.add(Dense(1))\n",
    "model.add(Activation('sigmoid'))"
   ]
  },
  {
   "cell_type": "code",
   "execution_count": 218,
   "metadata": {},
   "outputs": [],
   "source": [
    "#compile model using adam, our metric of success is accuracy; can it distinguish cats from dogs?\n",
    "model.compile(loss='binary_crossentropy',\n",
    "              optimizer='adam',\n",
    "              metrics=['accuracy'])"
   ]
  },
  {
   "cell_type": "code",
   "execution_count": 219,
   "metadata": {},
   "outputs": [
    {
     "name": "stdout",
     "output_type": "stream",
     "text": [
      "_________________________________________________________________\n",
      "Layer (type)                 Output Shape              Param #   \n",
      "=================================================================\n",
      "conv2d_4 (Conv2D)            (None, 148, 148, 32)      896       \n",
      "_________________________________________________________________\n",
      "activation_6 (Activation)    (None, 148, 148, 32)      0         \n",
      "_________________________________________________________________\n",
      "max_pooling2d_4 (MaxPooling2 (None, 74, 74, 32)        0         \n",
      "_________________________________________________________________\n",
      "conv2d_5 (Conv2D)            (None, 72, 72, 32)        9248      \n",
      "_________________________________________________________________\n",
      "activation_7 (Activation)    (None, 72, 72, 32)        0         \n",
      "_________________________________________________________________\n",
      "max_pooling2d_5 (MaxPooling2 (None, 36, 36, 32)        0         \n",
      "_________________________________________________________________\n",
      "conv2d_6 (Conv2D)            (None, 34, 34, 64)        18496     \n",
      "_________________________________________________________________\n",
      "activation_8 (Activation)    (None, 34, 34, 64)        0         \n",
      "_________________________________________________________________\n",
      "max_pooling2d_6 (MaxPooling2 (None, 17, 17, 64)        0         \n",
      "_________________________________________________________________\n",
      "flatten_2 (Flatten)          (None, 18496)             0         \n",
      "_________________________________________________________________\n",
      "dense_3 (Dense)              (None, 64)                1183808   \n",
      "_________________________________________________________________\n",
      "activation_9 (Activation)    (None, 64)                0         \n",
      "_________________________________________________________________\n",
      "dropout_2 (Dropout)          (None, 64)                0         \n",
      "_________________________________________________________________\n",
      "dense_4 (Dense)              (None, 1)                 65        \n",
      "_________________________________________________________________\n",
      "activation_10 (Activation)   (None, 1)                 0         \n",
      "=================================================================\n",
      "Total params: 1,212,513\n",
      "Trainable params: 1,212,513\n",
      "Non-trainable params: 0\n",
      "_________________________________________________________________\n"
     ]
    }
   ],
   "source": [
    "#print a summary of what we have so far please\n",
    "model.summary()"
   ]
  },
  {
   "cell_type": "code",
   "execution_count": 235,
   "metadata": {},
   "outputs": [],
   "source": [
    "from keras.preprocessing.image import ImageDataGenerator\n",
    "\n",
    "datagen = ImageDataGenerator(\n",
    "        rotation_range=40, # Rotate up to 40 degrees\n",
    "        width_shift_range=0.2, # Shift width by max 20%\n",
    "        height_shift_range=0.2, # Shift height by max 20%\n",
    "        rescale=1./255, # Rescale pixel activations from 0 to 255 (as it is in files) to 0 to 1\n",
    "        #shear_range=0.2, # Cut away max 20% of the image\n",
    "        #zoom_range=0.2, # Zoom in 20% max\n",
    "        horizontal_flip=True, # Flip image randomly\n",
    "        fill_mode='nearest') # Fill missing pixels with the nearest value"
   ]
  },
  {
   "cell_type": "code",
   "execution_count": 236,
   "metadata": {},
   "outputs": [],
   "source": [
    "# only rescaling\n",
    "validation_datagen = ImageDataGenerator(rescale=1./255)"
   ]
  },
  {
   "cell_type": "code",
   "execution_count": 237,
   "metadata": {},
   "outputs": [],
   "source": [
    "# only rescaling\n",
    "test_datagen = ImageDataGenerator(rescale=1./255)"
   ]
  },
  {
   "cell_type": "code",
   "execution_count": 238,
   "metadata": {},
   "outputs": [
    {
     "name": "stdout",
     "output_type": "stream",
     "text": [
      "Found 246 images belonging to 2 classes.\n"
     ]
    }
   ],
   "source": [
    "# Set up batch size\n",
    "batch_size = 16\n",
    "train_generator = datagen.flow_from_directory(\n",
    "        './datasets/train',  # this is the target directory\n",
    "        target_size=(150, 150),  # all images will be resized to 150x150\n",
    "        batch_size=batch_size, # How many images do we need at a time\n",
    "        class_mode='binary')"
   ]
  },
  {
   "cell_type": "code",
   "execution_count": 239,
   "metadata": {},
   "outputs": [
    {
     "name": "stdout",
     "output_type": "stream",
     "text": [
      "Found 59 images belonging to 2 classes.\n"
     ]
    }
   ],
   "source": [
    "validation_generator = validation_datagen.flow_from_directory(\n",
    "        './datasets/validation',  # this is the target directory\n",
    "        target_size=(150, 150),  # all images will be resized to 150x150\n",
    "        batch_size=batch_size, # How many images do we need at a time\n",
    "        class_mode='binary')"
   ]
  },
  {
   "cell_type": "code",
   "execution_count": 240,
   "metadata": {},
   "outputs": [
    {
     "name": "stdout",
     "output_type": "stream",
     "text": [
      "Found 20 images belonging to 2 classes.\n"
     ]
    }
   ],
   "source": [
    "test_generator = test_datagen.flow_from_directory(\n",
    "        './datasets/test',  # this is the target directory\n",
    "        target_size=(150, 150),  # all images will be resized to 150x150\n",
    "        batch_size=1, # How many images do we need at a time\n",
    "        shuffle=False,\n",
    "        class_mode='binary')"
   ]
  },
  {
   "cell_type": "code",
   "execution_count": 241,
   "metadata": {},
   "outputs": [
    {
     "name": "stdout",
     "output_type": "stream",
     "text": [
      "Epoch 1/3\n",
      "375/375 [==============================] - 131s 348ms/step - loss: 0.0547 - acc: 0.9825 - val_loss: 0.0035 - val_acc: 1.0000\n",
      "Epoch 2/3\n",
      "375/375 [==============================] - 127s 339ms/step - loss: 0.0556 - acc: 0.9838 - val_loss: 0.0933 - val_acc: 0.9492\n",
      "Epoch 3/3\n",
      "375/375 [==============================] - 126s 337ms/step - loss: 0.0469 - acc: 0.9851 - val_loss: 0.0386 - val_acc: 0.9831\n"
     ]
    }
   ],
   "source": [
    "history = model.fit_generator(\n",
    "        train_generator, # Get training data from training generator\n",
    "        steps_per_epoch=6000 // batch_size, # // is the integer rounded division\n",
    "        epochs=3, # train for 50 epochs\n",
    "        validation_data=validation_generator, # Validate with validation generator\n",
    "        validation_steps=1000 // batch_size\n",
    ")"
   ]
  },
  {
   "cell_type": "code",
   "execution_count": 242,
   "metadata": {},
   "outputs": [
    {
     "data": {
      "text/plain": [
       "[<matplotlib.lines.Line2D at 0x188ae3c8>]"
      ]
     },
     "execution_count": 242,
     "metadata": {},
     "output_type": "execute_result"
    },
    {
     "data": {
      "image/png": "[encoded data removed]",
      "text/plain": [
       "<Figure size 432x288 with 1 Axes>"
      ]
     },
     "metadata": {},
     "output_type": "display_data"
    }
   ],
   "source": [
    "plt.plot(history.history['acc'])"
   ]
  },
  {
   "cell_type": "code",
   "execution_count": 250,
   "metadata": {},
   "outputs": [
    {
     "data": {
      "text/plain": [
       "[<matplotlib.lines.Line2D at 0x18822320>]"
      ]
     },
     "execution_count": 250,
     "metadata": {},
     "output_type": "execute_result"
    },
    {
     "data": {
      "image/png": "[encoded data removed]",
      "text/plain": [
       "<Figure size 432x288 with 1 Axes>"
      ]
     },
     "metadata": {},
     "output_type": "display_data"
    }
   ],
   "source": [
    "plt.plot(history.history['loss'])"
   ]
  },
  {
   "cell_type": "code",
   "execution_count": 243,
   "metadata": {},
   "outputs": [
    {
     "data": {
      "text/plain": [
       "[0.03860653467650004, 0.9830508525088683]"
      ]
     },
     "execution_count": 243,
     "metadata": {},
     "output_type": "execute_result"
    }
   ],
   "source": [
    "model.evaluate_generator(generator=validation_generator)"
   ]
  },
  {
   "cell_type": "code",
   "execution_count": 244,
   "metadata": {},
   "outputs": [
    {
     "name": "stdout",
     "output_type": "stream",
     "text": [
      "20/20 [==============================] - 0s 10ms/step\n"
     ]
    }
   ],
   "source": [
    "test_generator.reset()\n",
    "pred=model.predict_generator(test_generator,verbose=1)"
   ]
  },
  {
   "cell_type": "code",
   "execution_count": 245,
   "metadata": {
    "scrolled": true
   },
   "outputs": [
    {
     "data": {
      "text/plain": [
       "[0.1491159203380512, 0.95]"
      ]
     },
     "execution_count": 245,
     "metadata": {},
     "output_type": "execute_result"
    }
   ],
   "source": [
    "model.evaluate_generator(generator=test_generator)"
   ]
  },
  {
   "cell_type": "code",
   "execution_count": 246,
   "metadata": {},
   "outputs": [
    {
     "name": "stdout",
     "output_type": "stream",
     "text": [
      "Predicted labels:   [0 0 0 0 0 0 0 1 0 0 1 1 1 1 1 1 1 1 1 1]\n",
      "Actual labels   :   [0 0 0 0 0 0 0 0 0 0 1 1 1 1 1 1 1 1 1 1]\n"
     ]
    }
   ],
   "source": [
    "predicted_class_indices = np.zeros(len(pred), dtype=int)\n",
    "predicted_class_indices[np.squeeze(pred > 0.5)] = 1\n",
    "print(\"Predicted labels:  \", predicted_class_indices)\n",
    "print(\"Actual labels   :  \", test_generator.classes)"
   ]
  },
  {
   "cell_type": "code",
   "execution_count": 247,
   "metadata": {},
   "outputs": [
    {
     "name": "stdout",
     "output_type": "stream",
     "text": [
      "{0: 'kangaroo', 1: 'watch'}\n"
     ]
    }
   ],
   "source": [
    "classIndicesRev = {v:k for k,v in train_generator.class_indices.items()}\n",
    "print(classIndicesRev)"
   ]
  },
  {
   "cell_type": "code",
   "execution_count": 248,
   "metadata": {},
   "outputs": [],
   "source": [
    "assert(len(predicted_class_indices) == len(test_generator.classes))\n",
    "wrong = []\n",
    "label = []\n",
    "\n",
    "for i, val in enumerate(predicted_class_indices):\n",
    "    if (predicted_class_indices[i] != test_generator.classes[i]):\n",
    "        wrong.append('.\\\\datasets\\\\test\\\\' + test_generator.filenames[i])\n",
    "        txt = \"{}{}\".format(\"Predicted: \", classIndicesRev[predicted_class_indices[i]])\n",
    "        txt = \"{}{}{}\".format(txt, \"\\nActual: \", classIndicesRev[test_generator.classes[i]])\n",
    "        txt = \"{}{}{}\".format(txt, \"\\nImage file: \", test_generator.filenames[i])\n",
    "        label.append(txt)   "
   ]
  },
  {
   "cell_type": "code",
   "execution_count": 249,
   "metadata": {},
   "outputs": [
    {
     "data": {
      "image/png": "[encoded data removed]",
      "text/plain": [
       "<Figure size 432x288 with 1 Axes>"
      ]
     },
     "metadata": {},
     "output_type": "display_data"
    }
   ],
   "source": [
    "for i, img in enumerate(wrong):\n",
    "    img = mpimg.imread(img)\n",
    "    imgplot = plt.imshow(img)    \n",
    "    plt.xlabel(label[i])\n",
    "    plt.show()"
   ]
  },
  {
   "cell_type": "code",
   "execution_count": null,
   "metadata": {},
   "outputs": [],
   "source": []
  },
  {
   "cell_type": "code",
   "execution_count": null,
   "metadata": {},
   "outputs": [],
   "source": []
  },
  {
   "cell_type": "code",
   "execution_count": 185,
   "metadata": {},
   "outputs": [
    {
     "data": {
      "text/plain": [
       "'this, that'"
      ]
     },
     "execution_count": 185,
     "metadata": {},
     "output_type": "execute_result"
    }
   ],
   "source": [
    "\"{}, {}\".format(\"this\", \"that\")"
   ]
  },
  {
   "cell_type": "code",
   "execution_count": 187,
   "metadata": {},
   "outputs": [
    {
     "data": {
      "text/plain": [
       "{'kangaroo': 0, 'watch': 1}"
      ]
     },
     "execution_count": 187,
     "metadata": {},
     "output_type": "execute_result"
    }
   ],
   "source": [
    "train_generator.class_indices"
   ]
  },
  {
   "cell_type": "code",
   "execution_count": null,
   "metadata": {},
   "outputs": [],
   "source": []
  },
  {
   "cell_type": "code",
   "execution_count": null,
   "metadata": {},
   "outputs": [],
   "source": []
  },
  {
   "cell_type": "code",
   "execution_count": null,
   "metadata": {},
   "outputs": [],
   "source": []
  },
  {
   "cell_type": "code",
   "execution_count": null,
   "metadata": {},
   "outputs": [],
   "source": []
  },
  {
   "cell_type": "code",
   "execution_count": null,
   "metadata": {},
   "outputs": [],
   "source": []
  },
  {
   "cell_type": "code",
   "execution_count": null,
   "metadata": {},
   "outputs": [],
   "source": []
  },
  {
   "cell_type": "markdown",
   "metadata": {},
   "source": [
    "<h1 style=\"text-align: center;\">Image Classifiers - Part Four</h1>"
   ]
  },
  {
   "cell_type": "markdown",
   "metadata": {},
   "source": [
    "## Introduction\n",
    "\n",
    "<img style=\"float: left; margin-right: 25px;\" src=\"images/catMonocle.jpg\" />\n",
    "\n",
    "The overall goal of this series of write-ups is to explore a number of models performing binary classification on a given set of images.  In this fourth write-up we want to add optimization and regularization into the deep nueral network model code we wrote previously.  \n",
    "\n",
    "In the [last write-up] we summarized with the following observation:\n",
    "\n",
    "_What is interesting is that we are definitely suffering from a variance problem (i.e. over fitting) the way things stand. The models consistently reach training accuracy rates of 99%, but the test accuracy isn't much more than what we achieved with a shallow neural network. Hopefully as we move forward with additional regularization techniques in later write ups this will improve, and we'll be able to increase the training accuracy rates._\n",
    "\n",
    "Thus the goals of this write-up are to being adding elements to the model to combat variance as well as optimize how quickly and accurately we can train our neural networks.  This write-up will cover:\n",
    "\n",
    "* He initialization\n",
    "* Switching over to the ReLu activation function\n",
    "* Drop out regularization\n",
    "* Mini-batch gradient descent\n",
    "* Adam optimization\n",
    "\n",
    "\n",
    "For reference here are links to the previous entries in this series:\n",
    "* [The logistics of acquiring and developing an image dataset](https://github.com/nrasch/Portfolio/tree/master/Machine-Learning/Python/02-ComputerVision-Dataset-Creation)\n",
    "* [Binary image classification utilizing logistic regression with gradient descent](https://nbviewer.jupyter.org/github/nrasch/Portfolio/blob/master/Machine-Learning/Python/03-ComputerVision-Classification/BinaryImageClassifier-PartOne.ipynb)\n",
    "* [Binary image classification utilizing a shallow neural network](https://nbviewer.jupyter.org/github/nrasch/Portfolio/blob/master/Machine-Learning/Python/03-ComputerVision-Classification/BinaryImageClassifier-PartTwo.ipynb)\n",
    "\n",
    "So, let's get started!\n"
   ]
  },
  {
   "cell_type": "markdown",
   "metadata": {},
   "source": [
    "# ReLu activations and \"He\" initialization\n",
    "\n",
    "## What is it?\n",
    "\n",
    "First, for those interested the paper can be found here describing these topics:\n",
    "* https://www.cv-foundation.org/openaccess/content_iccv_2015/papers/He_Delving_Deep_into_ICCV_2015_paper.pdf\n",
    "\n",
    "\n",
    "The rectified linear unit activation (ReLu) function defines the output of a node given an input or set of inputs. For example in the image below the calcuation \n",
    "\n",
    "\\begin{equation}z^{(i)} = w^T x^{(i)} + b\\end{equation} \n",
    "\n",
    "is fed into the activation function \\begin{equation}a^{(i)} = sigma(z^{(i)})\\end{equation}\n",
    "\n",
    "\n",
    "And below is a diagram of a neural network using a ReLu activation in the cells, and then a final sigmoid activation to output the model's y-hat values:\n",
    "\n",
    "<img src=\"images/relu_activation.png\" align=\"left\" height=\"30%\" width=\"30%\" padding-left=\"100px\" />\n",
    "<p style=\"clear: both;\">&nbsp;</p>\n",
    "\n",
    "Benfits of utilizing ReLu include:\n",
    "* Mitigate exploding or vanishing gradient problems\n",
    "* Faster learning\n",
    "* Avoids computing exponents\n",
    "* Outputs sparse representations with true zeros\n",
    "\n",
    "Note that if you wish to read more about rectified linear units a good article can be found [here](https://www.kaggle.com/dansbecker/rectified-linear-units-relu-in-deep-learning).\n",
    "\n",
    "The \"He\" initialization is a method to initialize the parameters in a neural network utilizing ReLu functions.  In short the formula is:\n",
    "$\\sqrt{\\frac{2}{\\text{dim(L - 1)}}}$  where L is a layer in the neural network.  \n",
    "\n",
    "The paper cited above summarizes with the following:\n",
    "\n",
    "_Second, we derive a robust initialization method that particularly considers the rectifier nonlinearities. This method enables us to train extremely deep rectified models directly from scratch and to investigate deeper or wider network architectures.  Based on the learnable activation and advanced initialization, we achieve 4.94% top-5 test error on the ImageNet 2012 classification dataset. This is a 26% relative improvement over the ILSVRC 2014 winner (GoogLeNet, 6.66% )._\n",
    "\n",
    "And finally, [here](https://en.wikipedia.org/wiki/Activation_function) is a good summary of the various activation functions and their graphs.\n",
    "\n",
    "\n",
    "## Implementation"
   ]
  },
  {
   "cell_type": "markdown",
   "metadata": {},
   "source": [
    "### \"He Initialization\""
   ]
  },
  {
   "cell_type": "code",
   "execution_count": 17,
   "metadata": {},
   "outputs": [],
   "source": [
    "#  Initialize model params (i.e. W and b)\n",
    "def initilizeParameters(dimensionDict):\n",
    "\n",
    "    params = {}\n",
    "    lastDimSize = dimensionDict[\"numberInputs\"]\n",
    "    \n",
    "    for index, size in enumerate(dimensionDict['hiddenLayerSizes'], start=1):\n",
    "        wName = \"w\" + str(index)\n",
    "        bName = \"b\" + str(index)\n",
    "        \n",
    "        # Initialize utilizing \"He Initialization\"\n",
    "        np.random.seed(10)  # Yes, this has to be done every time...  :(\n",
    "        params[wName] = np.random.randn(size, lastDimSize) * np.sqrt(2/lastDimSize)\n",
    "        params[bName] = np.zeros((size, 1))\n",
    "        lastDimSize = size\n",
    "   \n",
    "    # add final output layer\n",
    "    wName = \"w\" + str(len(dimensionDict['hiddenLayerSizes']) + 1)\n",
    "    bName = \"b\" + str(len(dimensionDict['hiddenLayerSizes']) + 1)\n",
    "        \n",
    "    # Initialize utilizing \"He Initialization\"\n",
    "    np.random.seed(10)  # Yes, this has to be done every time...  :(\n",
    "    params[wName] = np.random.randn(dimensionDict[\"numberOutputs\"], lastDimSize) * np.sqrt(2/lastDimSize)\n",
    "    \n",
    "    params[bName] = np.zeros((dimensionDict[\"numberOutputs\"], 1))\n",
    "      \n",
    "    return params"
   ]
  },
  {
   "cell_type": "markdown",
   "metadata": {},
   "source": [
    "### ReLU"
   ]
  },
  {
   "cell_type": "code",
   "execution_count": 18,
   "metadata": {},
   "outputs": [],
   "source": [
    "# Define ReLu activation\n",
    "def relu(x):\n",
    "    return x * (x > 0)\n",
    "\n",
    "# Define ReLu derivative\n",
    "def dRelu(x):\n",
    "    return 1. * (x > 0)"
   ]
  },
  {
   "cell_type": "code",
   "execution_count": 19,
   "metadata": {},
   "outputs": [],
   "source": [
    "# Perform forward propogation\n",
    "def forwardPropagation(data, params):\n",
    "    \n",
    "    # Init vars\n",
    "    numLayers = (len(params))//2 \n",
    "    cache = {}\n",
    "    cache['a0'] = a = data\n",
    "\n",
    "    # Process each layer of the NN\n",
    "    for i in range(1, numLayers + 1):\n",
    "\n",
    "        # Made the code below easier to read\n",
    "        aPrev = cache['a' + str(i-1)]\n",
    "        w = params['w' + str(i)]\n",
    "        b = params['b' + str(i)]\n",
    "       \n",
    "        # Perform linear calculations & sanity check\n",
    "        z = np.dot(w, aPrev) + b\n",
    "        assert(z.shape == (w.shape[0], aPrev.shape[1]))\n",
    "        \n",
    "        # Perform sigmoid or ReLu activation\n",
    "        if (i == numLayers):\n",
    "            # last layer; sigmoid activation\n",
    "            cache['a' + str(i)] = 1 / (1 + np.exp(-(z)))\n",
    "            assert(cache['a' + str(i)].shape == z.shape)\n",
    "        else:\n",
    "            # Hidden layer; ReLu activation\n",
    "            cache['a' + str(i)] = relu(z)\n",
    "            assert(cache['a' + str(i)].shape == z.shape)\n",
    "        \n",
    "    # Final sanity check\n",
    "    assert(cache['a' + str((len(params))//2)].shape == (1, data.shape[1]))\n",
    "        \n",
    "    return cache"
   ]
  },
  {
   "cell_type": "code",
   "execution_count": 20,
   "metadata": {},
   "outputs": [],
   "source": [
    "# Perform backward propogation\n",
    "def backwardPropagation(labels, cache, params, lamb):\n",
    "    \n",
    "    # Init variables\n",
    "    grads = {}\n",
    "    layers = (len(params)//2)\n",
    "    \n",
    "    # Make the code below easier to read\n",
    "    aL = cache['a' + str(layers)]\n",
    "    dw = \"dw\" + str(layers)\n",
    "    db = \"db\" + str(layers)\n",
    "    aPrev = 'a' + str(layers-1)\n",
    "    w = 'w' + str(layers)\n",
    "    b = 'b' + str(layers)\n",
    "    m = aL.shape[1]\n",
    "    \n",
    "\n",
    "    # Initialize backprop:  Calc dz, dw, and db for layer L\n",
    "    dz = aL - labels\n",
    "    grads[dw], grads[db] = linearBackProp(dz, cache[aPrev], params[w], params[b], lamb)\n",
    "       \n",
    "    # Backprop for the hidden layers\n",
    "    for i in reversed(range(1, layers)):\n",
    "        \n",
    "        # Make the code below easier to read\n",
    "        dw = \"dw\" + str(i)\n",
    "        db = \"db\" + str(i)\n",
    "        a = 'a' + str(i)\n",
    "        aPrev = 'a' + str(i-1)\n",
    "        dzBefore = dz\n",
    "        w = 'w' + str(i)\n",
    "        wBefore = 'w' + str(i+1)\n",
    "        b = 'b' + str(i)\n",
    "        m = aL.shape[1]\n",
    "        \n",
    "        dz = np.dot(params[wBefore].T, dzBefore) * dRelu(cache[a])\n",
    "        grads[dw], grads[db] = linearBackProp(dz, cache[aPrev], params[w], params[b], lamb)\n",
    "    \n",
    "    return grads"
   ]
  },
  {
   "cell_type": "markdown",
   "metadata": {},
   "source": [
    "# Drop out regularization\n",
    "## What is it?\n",
    "Drop out regularization is a method to combat over fitting on the training data.  This is done by randomly \"dropping out\" nodes in the neural network by setting all the values for that node to zero.  This in theory prevents the model from \"fixating\" too heavily on the training data and should reduce variance issues.\n",
    "\n",
    "A quick visual:\n",
    "\n",
    "<img src=\"images/dropout.png\" align=\"left\" height=\"40%\" width=\"40%\" padding-left=\"100px\" />\n",
    "<p style=\"clear: both;\">&nbsp;</p>\n",
    "\n",
    "You can read more about drop out regularization [here](https://medium.com/@amarbudhiraja/https-medium-com-amarbudhiraja-learning-less-to-learn-better-dropout-in-deep-machine-learning-74334da4bfc5).\n",
    "\n",
    "\n",
    "## Implementation"
   ]
  },
  {
   "cell_type": "code",
   "execution_count": 21,
   "metadata": {},
   "outputs": [],
   "source": [
    "# Perform forward propogation\n",
    "def forwardPropagation(data, params, dropProb):\n",
    "    \n",
    "    # Init vars\n",
    "    numLayers = (len(params))//2 \n",
    "    cache = {}\n",
    "    cache['a0'] = a = data\n",
    "\n",
    "    # Process each layer of the NN\n",
    "    for i in range(1, numLayers + 1):\n",
    "\n",
    "        # Made the code below easier to read\n",
    "        aPrev = cache['a' + str(i-1)]\n",
    "        w = params['w' + str(i)]\n",
    "        b = params['b' + str(i)]\n",
    "       \n",
    "        # Perform linear calculations & sanity check\n",
    "        z = np.dot(w, aPrev) + b\n",
    "        assert(z.shape == (w.shape[0], aPrev.shape[1]))\n",
    "        \n",
    "        # Perform sigmoid or ReLu activation\n",
    "        if (i == numLayers):\n",
    "            # last layer; sigmoid activation\n",
    "            cache['a' + str(i)] = 1 / (1 + np.exp(-(z)))\n",
    "            assert(cache['a' + str(i)].shape == z.shape)\n",
    "        else:\n",
    "            # Hidden layer; ReLu activation\n",
    "            cache['a' + str(i)] = relu(z)\n",
    "            assert(cache['a' + str(i)].shape == z.shape)\n",
    "            \n",
    "            # Dropout regularization\n",
    "            np.random.seed(10)  # Yes, this has to be done every time...  :(\n",
    "            cache['dropMask' + str(i)] = np.random.rand(cache['a' + str(i)].shape[0], cache['a' + str(i)].shape[1])\n",
    "            cache['dropMask' + str(i)] = cache['dropMask' + str(i)] < dropProb\n",
    "            cache['a' + str(i)] = cache['a' + str(i)] * cache['dropMask' + str(i)]\n",
    "            cache['a' + str(i)] = cache['a' + str(i)] / dropProb\n",
    "        \n",
    "    # Final sanity check\n",
    "    assert(cache['a' + str((len(params))//2)].shape == (1, data.shape[1]))\n",
    "        \n",
    "    return cache"
   ]
  },
  {
   "cell_type": "code",
   "execution_count": 22,
   "metadata": {},
   "outputs": [],
   "source": [
    "# Perform backward propogation\n",
    "def backwardPropagation(labels, cache, params, lamb, dropProb):\n",
    "    \n",
    "    # Init variables\n",
    "    grads = {}\n",
    "    layers = (len(params)//2)\n",
    "    \n",
    "    # Make the code below easier to read\n",
    "    aL = cache['a' + str(layers)]\n",
    "    dw = \"dw\" + str(layers)\n",
    "    db = \"db\" + str(layers)\n",
    "    aPrev = 'a' + str(layers-1)\n",
    "    w = 'w' + str(layers)\n",
    "    b = 'b' + str(layers)\n",
    "    m = aL.shape[1]\n",
    "    \n",
    "\n",
    "    # Initialize backprop:  Calc dz, dw, and db for layer L\n",
    "    dz = aL - labels\n",
    "    grads[dw], grads[db] = linearBackProp(dz, cache[aPrev], params[w], params[b], lamb)\n",
    "       \n",
    "    # Backprop for the hidden layers\n",
    "    for i in reversed(range(1, layers)):\n",
    "        \n",
    "        # Make the code below easier to read\n",
    "        dw = \"dw\" + str(i)\n",
    "        db = \"db\" + str(i)\n",
    "        a = 'a' + str(i)\n",
    "        aPrev = 'a' + str(i-1)\n",
    "        dzBefore = dz\n",
    "        w = 'w' + str(i)\n",
    "        wBefore = 'w' + str(i+1)\n",
    "        b = 'b' + str(i)\n",
    "        m = aL.shape[1]\n",
    "        dropMask = 'dropMask' + str(i)\n",
    "        \n",
    "        # Apply backprop with dropout regularization and calc grads; breaking up the calc steps for readability\n",
    "        # dz = np.dot(params[wBefore].T, dzBefore) * dRelu(cache[a])\n",
    "        dz = np.dot(params[wBefore].T, dzBefore)\n",
    "        dz = dz * cache[dropMask]\n",
    "        dz = dz / dropProb\n",
    "        dz = dz * dRelu(cache[a])\n",
    "        grads[dw], grads[db] = linearBackProp(dz, cache[aPrev], params[w], params[b], lamb)\n",
    "    \n",
    "    return grads"
   ]
  },
  {
   "cell_type": "markdown",
   "metadata": {},
   "source": [
    "# Mini-batch gradient descent\n",
    "## What is it?\n",
    "\n",
    "Mini-batch gradient descent is another way to combat variance issues.  In essence the training examples are randomly divided up into N number of groups, and then each of these groups is sent through the model.  As the groups are sent through the model forward and backward propagation occurs, the parameters are updated, and so forth.  However, all this happens for only one batch at a time, and similar to drop out regularization this prevents the model from \"fixating\" too heavily on one set of training examples.\n",
    "\n",
    "<img src=\"images/mini_batch_process.png\" align=\"left\" height=\"60%\" width=\"60%\" padding-left=\"100px\" />\n",
    "<p style=\"clear: both;\">&nbsp;</p>\n",
    "\n",
    "In code it looks something like this, which I think helps illustrate the mechanics:\n",
    "\n",
    "```python\n",
    "# For each training iteration\n",
    "for i in range(0, numIterations):\n",
    "    \n",
    "    # Create the mini batches - This is where we split up the training examples into N number of groups or \"batches\"\n",
    "    miniBatches = createMiniBatches(data, labels, batchSize, seed)\n",
    "    \n",
    "    # Now we feed the batches through the model\n",
    "    for batch in miniBatches:\n",
    "\n",
    "        # Perform forward and backward prop, update params, etc. using the batch of training examples\n",
    "```\n",
    "\n",
    "You can read more about mini-batch and other gradient descent algorithms [here](http://ruder.io/optimizing-gradient-descent/index.html#gradientdescentvariants), as well as an article dedicated strictly to mini-batch gradient descent [here](https://machinelearningmastery.com/gentle-introduction-mini-batch-gradient-descent-configure-batch-size/).\n",
    "\n",
    "## Implementation\n"
   ]
  },
  {
   "cell_type": "code",
   "execution_count": 23,
   "metadata": {},
   "outputs": [],
   "source": [
    "def createMiniBatches(data, labels, batchSize, seed):  \n",
    "    m = data.shape[1]\n",
    "    miniBatches = []\n",
    "    \n",
    "    # Shuffle the data and labels\n",
    "    np.random.seed(seed)\n",
    "    permutation = list(np.random.permutation(m))\n",
    "    \n",
    "    shuffledData = data[:, permutation]\n",
    "    shuffledLabels = labels[:, permutation].reshape((1,m))\n",
    "    \n",
    "    # Create the mini batches\n",
    "    # First take all the groupings that fit into the \"batchSize\" bucket\n",
    "    batches = math.floor(m / batchSize)\n",
    "    for i in range(0, batches):\n",
    "        batchData = shuffledData[:, i * batchSize : (i + 1) * batchSize]\n",
    "        batchLabels = shuffledLabels[:, i * batchSize : (i + 1) * batchSize]\n",
    "        miniBatch = (batchData, batchLabels)\n",
    "        miniBatches.append(miniBatch)\n",
    "        \n",
    "    # Next take the final grouping of records that are left over\n",
    "    if m % batchSize != 0:\n",
    "        batchData = shuffledData[:, batches * batchSize : m]\n",
    "        batchLabels = shuffledLabels[:, batches * batchSize : m]\n",
    "        miniBatch = (batchData, batchLabels)\n",
    "        miniBatches.append(miniBatch)\n",
    "        \n",
    "    return miniBatches"
   ]
  },
  {
   "cell_type": "code",
   "execution_count": 24,
   "metadata": {},
   "outputs": [],
   "source": [
    "# Define the actual neural network classification model\n",
    "def model(data, labels, dims, numIterations, learningRate, lamb, batchSize, dropProb, printCost = False, showGraph = False):\n",
    "    \n",
    "    # Init vars\n",
    "    params = initilizeParameters(dims)\n",
    "    seed = 10\n",
    "    \n",
    "    #return params;\n",
    "    \n",
    "    costs = []\n",
    "    descendingGraph = True\n",
    "    \n",
    "    # For each training iteration\n",
    "    for i in range(0, numIterations + 1):\n",
    "         \n",
    "        # Create the mini batches\n",
    "        seed = seed + 1   # assure we get a different batch composition each time through\n",
    "        miniBatches = createMiniBatches(data, labels, batchSize, seed)\n",
    "        \n",
    "        for batch in miniBatches:\n",
    "        \n",
    "            # Get a set of data and lable records\n",
    "            (batchData, batchLabels) = batch\n",
    "            \n",
    "            # Forward propagation\n",
    "            cache = forwardPropagation(batchData, params, dropProb)\n",
    "\n",
    "            # Cost function\n",
    "            cost = calculateCost(batchLabels, params, cache, lamb)\n",
    "\n",
    "            # Backward  propagation\n",
    "            grads = backwardPropagation(batchLabels, cache, params, lamb, dropProb)\n",
    "\n",
    "            # Gradient descent parameter update\n",
    "            params = updateParams(params, grads, learningRate)\n",
    "        \n",
    "        # Print the cost every N number of iterations\n",
    "        if printCost and i % 500 == 0:\n",
    "            print (\"Cost after iteration\", str(i), \"is\", str(cost))\n",
    "        \n",
    "        # Record the cost every N number of iterations\n",
    "        if i % 50 == 0:\n",
    "            if (len(costs) != 0) and (cost > costs[-1]):\n",
    "                descendingGraph = False\n",
    "            costs.append(cost)\n",
    "      \n",
    "    # Print the model training cost graph\n",
    "    if showGraph:\n",
    "        _costs = np.squeeze(costs)\n",
    "        plt.plot(_costs)\n",
    "        plt.ylabel('Cost')\n",
    "        plt.xlabel('Iterations (every 50)')\n",
    "        plt.title(\"Learning rate =\" + str(learningRate))\n",
    "        plt.show()\n",
    "\n",
    "    return params, costs, descendingGraph"
   ]
  },
  {
   "cell_type": "markdown",
   "metadata": {},
   "source": [
    "# Testing what we have so far\n",
    "\n",
    "Ok, let's test what we have so far, and ensure everything works as we expect."
   ]
  },
  {
   "cell_type": "code",
   "execution_count": 25,
   "metadata": {},
   "outputs": [
    {
     "name": "stdout",
     "output_type": "stream",
     "text": [
      "The autoreload extension is already loaded. To reload it, use:\n",
      "  %reload_ext autoreload\n"
     ]
    }
   ],
   "source": [
    "%matplotlib inline\n",
    "%load_ext autoreload\n",
    "%autoreload 2\n",
    "\n",
    "import warnings\n",
    "warnings.filterwarnings('ignore')"
   ]
  },
  {
   "cell_type": "code",
   "execution_count": 26,
   "metadata": {},
   "outputs": [],
   "source": [
    "import numpy as np\n",
    "np.random.seed(10)\n",
    "\n",
    "import random \n",
    "random.seed(10)\n",
    "\n",
    "from os import path\n",
    "import pandas as pd\n",
    "from IPython.display import display, HTML\n",
    "from matplotlib import pyplot as plt\n",
    "import inspect\n",
    "import time\n",
    "import copy\n",
    "import h5py\n",
    "import math\n",
    "\n",
    "from utils_v1 import *"
   ]
  },
  {
   "cell_type": "code",
   "execution_count": 27,
   "metadata": {},
   "outputs": [],
   "source": [
    "# Load, shape, and normalize the data used for training the model\n",
    "imageData = path.join(\"datasets\", \"imageData500_64pixels.hdf5\")\n",
    "\n",
    "with h5py.File(imageData, \"r\") as archive:   \n",
    "    trainingData = np.squeeze(archive[\"trainData\"][:])\n",
    "    testData = np.squeeze(archive[\"testData\"][:])\n",
    "    trainingLabels = np.array(archive[\"trainLabels\"][:])\n",
    "    testLabels = np.array(archive[\"testLabels\"][:])\n",
    "    archive.close()\n",
    "\n",
    "# Reshape the training and test data and label matrices\n",
    "trainingData = trainingData.reshape(trainingData.shape[0], -1).T\n",
    "testData = testData.reshape(testData.shape[0], -1).T\n",
    "\n",
    "# Normalization\n",
    "trainingData = trainingData/255.\n",
    "testData = testData/255."
   ]
  },
  {
   "cell_type": "code",
   "execution_count": 32,
   "metadata": {
    "deletable": false,
    "editable": false,
    "run_control": {
     "frozen": true
    }
   },
   "outputs": [
    {
     "name": "stdout",
     "output_type": "stream",
     "text": [
      "Cost after iteration 0 is 0.901112309065816\n",
      "Cost after iteration 500 is 0.4853297051889699\n",
      "Cost after iteration 1000 is 0.3595267318773825\n",
      "Cost after iteration 1500 is 0.33043265250081566\n",
      "Cost after iteration 2000 is 0.30033542870505747\n",
      "Cost after iteration 2500 is 0.2721246728216369\n",
      "Cost after iteration 3000 is 0.2850309686729501\n"
     ]
    },
    {
     "data": {
      "image/png": "[encoded data removed]",
      "text/plain": [
       "<Figure size 432x288 with 1 Axes>"
      ]
     },
     "metadata": {},
     "output_type": "display_data"
    },
    {
     "name": "stdout",
     "output_type": "stream",
     "text": [
      "67.5\n"
     ]
    }
   ],
   "source": [
    "# model(data, labels, dims, numIterations, learningRate, lamb, batchSize, dropProb, printCost = False, showGraph = False):\n",
    "testParams, testCosts, testGraph = model(\n",
    "    data= trainingData, \n",
    "    labels = trainingLabels, \n",
    "    dims = defineDimensions(trainingData, trainingLabels, (2, 4, 4)),\n",
    "    numIterations = 3000,\n",
    "    learningRate = 0.0005,\n",
    "    lamb = 0.9, \n",
    "    batchSize = 32,\n",
    "    dropProb = 0.85, \n",
    "    printCost = True, \n",
    "    showGraph = True\n",
    ")\n",
    "\n",
    "testPreds = predict(testData, testParams, testLabels)\n",
    "print(testPreds['accuracy'])"
   ]
  },
  {
   "cell_type": "markdown",
   "metadata": {},
   "source": [
    "OK, that doesn't look half bad for a first try, and it certainly gives us confidence we don't have any bugs or other issues with the changes we've made so far.  Let's go ahead and add in the last optimization, and then we'll work on training the model.\n",
    "\n",
    "Also note that now that we are utilizing mini-batch gradient descent the cost/convergence graph is no longer smooth although it does have an overall downward slope as the error rate of the model decreases during training."
   ]
  },
  {
   "cell_type": "markdown",
   "metadata": {},
   "source": [
    "# Adam optimization\n",
    "\n",
    "## What is it?\n",
    "\n",
    "### Adam\n",
    "\n",
    "For those interested the paper on Adam can be found [here](https://arxiv.org/abs/1412.6980).\n",
    "\n",
    "In a nutshell Adam combines Momentum and RMSprop together to get the best of both worlds.  Adam attempts to accelerate convergence while dampening the oscillations that occur during training with methods such as mini-batch gradient descent.\n",
    "\n",
    "An excerpt from [Andrew Ng's lecture on Coursera](https://www.coursera.org/lecture/deep-neural-network/adam-optimization-algorithm-w9VCZ) fleshes things out still further:\n",
    "\n",
    "\n",
    "**How does Adam work?**\n",
    "1. It calculates an exponentially weighted average of past gradients, and stores it in variables $v$ (before bias correction) and $v^{corrected}$ (with bias correction). \n",
    "2. It calculates an exponentially weighted average of the squares of the past gradients, and stores it in variables $s$ (before bias correction) and $s^{corrected}$ (with bias correction). \n",
    "3. It updates parameters in a direction based on combining information from \"1\" and \"2\".\n",
    "\n",
    "The update rule is, for $l = 1, ..., L$: \n",
    "\n",
    "$$\\begin{cases}\n",
    "v_{dW^{[l]}} = \\beta_1 v_{dW^{[l]}} + (1 - \\beta_1) \\frac{\\partial \\mathcal{J} }{ \\partial W^{[l]} } \\\\\n",
    "v^{corrected}_{dW^{[l]}} = \\frac{v_{dW^{[l]}}}{1 - (\\beta_1)^t} \\\\\n",
    "s_{dW^{[l]}} = \\beta_2 s_{dW^{[l]}} + (1 - \\beta_2) (\\frac{\\partial \\mathcal{J} }{\\partial W^{[l]} })^2 \\\\\n",
    "s^{corrected}_{dW^{[l]}} = \\frac{s_{dW^{[l]}}}{1 - (\\beta_1)^t} \\\\\n",
    "W^{[l]} = W^{[l]} - \\alpha \\frac{v^{corrected}_{dW^{[l]}}}{\\sqrt{s^{corrected}_{dW^{[l]}}} + \\varepsilon}\n",
    "\\end{cases}$$\n",
    "where:\n",
    "- t counts the number of steps taken of Adam \n",
    "- L is the number of layers\n",
    "- $\\beta_1$ and $\\beta_2$ are hyperparameters that control the two exponentially weighted averages. \n",
    "- $\\alpha$ is the learning rate\n",
    "- $\\varepsilon$ is a very small number to avoid dividing by zero\n",
    "\n",
    "\n",
    "\n",
    "And, since Adam combines aspects of Momentum and RMSprop we'll say a brief word about them both below.\n",
    "\n",
    "### Momentum\n",
    "\n",
    "A fantastic write-up on Momentum can be found [here](https://distill.pub/2017/momentum/).  The interactive graph at the top that models the impact of the various values of alpha and beta is worth visiting the page for alone.\n",
    "\n",
    "In summary, _[i]nstead of using only the gradient of the current step to guide the search, momentum also accumulates the gradient of the past steps to determine the direction to go.  [1](https://blog.paperspace.com/intro-to-optimization-momentum-rmsprop-adam/)._\n",
    "\n",
    "A very common diagram that often appears when discussing Momentum:\n",
    "\n",
    "<img src=\"images/momentum.png\" align=\"left\" height=\"60%\" width=\"60%\" padding-left=\"100px\" />\n",
    "<p style=\"clear: both;\">&nbsp;</p>\n",
    "\n",
    "The goal is to reduce the movement of the blue line up and down (i.e the oscillations) while accelerating if possible the movement toward the optima (i.e. the descent).\n",
    "\n",
    "### RMSprop\n",
    "\n",
    "How it works:\n",
    "\n",
    "_Rather than having just a global, scalar learning rate, we have a vector of learning rates for each trainable parameter. It is iteratively updated with a running average of magnitudes of squares of previous gradients. Changes to the weights during training are now not purely in the direction of the gradient, but rather in the direction of the elementwise division of the gradient by this vector you are maintaining.  [2](https://www.quora.com/What-is-an-intuitive-explanation-of-RMSProp)_\n",
    "\n",
    "And here are the [equations](https://towardsdatascience.com/a-look-at-gradient-descent-and-rmsprop-optimizers-f77d483ef08b) for Momentum and RMSprop, which you can see are very similar:\n",
    "\n",
    "<img src=\"images/momentum_rmsprop_equations.png\" align=\"left\" height=\"60%\" width=\"60%\" padding-left=\"100px\" />\n",
    "<p style=\"clear: both;\">&nbsp;</p>\n",
    "\n",
    "### Combined summary resource\n",
    "\n",
    "And finally, another good resource discussing Adam, Momentum, and RMSprop can be found [here](https://blog.paperspace.com/intro-to-optimization-momentum-rmsprop-adam/).\n",
    "\n",
    "## Implementation\n"
   ]
  },
  {
   "cell_type": "code",
   "execution_count": 28,
   "metadata": {},
   "outputs": [],
   "source": [
    "#  Initialize Adam model params (i.e. v and s)\n",
    "#  v - exponentially weighted average of the gradient\n",
    "#  s - exponentially weighted average of the squared gradient\n",
    "def initilizeAdamParameters(params):\n",
    "\n",
    "    # 'Params' contains the W and b value matrices for each layer of the NN\n",
    "    # So we divide by two to get the number of NN layers which we'll label 'm' similiar to other code blocks\n",
    "    m = len(params) // 2\n",
    "    \n",
    "    v = {}\n",
    "    s = {}\n",
    "    \n",
    "    \n",
    "    for i in range(m):\n",
    "        v[\"dw\" + str(i + 1)] = np.zeros((params[\"w\" + str(i + 1)].shape))\n",
    "        v[\"db\" + str(i + 1)] = np.zeros((params[\"b\" + str(i + 1)].shape))\n",
    "        s[\"dw\" + str(i + 1)] = np.zeros((params[\"w\" + str(i + 1)].shape))\n",
    "        s[\"db\" + str(i + 1)] = np.zeros((params[\"b\" + str(i + 1)].shape))\n",
    "             \n",
    "    return v, s"
   ]
  },
  {
   "cell_type": "code",
   "execution_count": 29,
   "metadata": {},
   "outputs": [],
   "source": [
    "# Update the model params using Adam\n",
    "def updateParamsAdam(params, grads, v, s, t, learningRate, beta1 = 0.9, beta2 = 0.999,  epsilon = 1e-8):    \n",
    "   \n",
    "    # Init vars\n",
    "    layers = (len(params)//2)\n",
    "    # Adam moment estimate containers\n",
    "    vCorrected = {}                  \n",
    "    sCorrected = {}\n",
    "    \n",
    "    # Perform the param updates utilizing Adam\n",
    "    for l in range(layers):\n",
    "        # Moving average of the gradients\n",
    "        v[\"dw\" + str(l+1)] = beta1 * v['dw' + str(l+1)] + (1 - beta1) * grads['dw' + str(l+1)]\n",
    "        v[\"db\" + str(l+1)] = beta1 * v['db' + str(l+1)] + (1 - beta1) * grads['db' + str(l+1)]\n",
    "\n",
    "        # Compute bias-corrected first moment estimate\n",
    "        vCorrected[\"dw\" + str(l+1)] = v[\"dw\" + str(l+1)] / (1 - beta1**t)\n",
    "        vCorrected[\"db\" + str(l+1)] = v[\"db\" + str(l+1)] / (1 - beta1**t)\n",
    "\n",
    "        # Moving average of the squared gradients\n",
    "        s[\"dw\" + str(l+1)] = beta2 * s['dw' + str(l+1)] + (1 - beta2) * (grads['dw' + str(l+1)]**2)\n",
    "        s[\"db\" + str(l+1)] = beta2 * s['db' + str(l+1)] + (1 - beta2) * (grads['db' + str(l+1)]**2)\n",
    "\n",
    "        # Compute bias-corrected second raw moment estimate\n",
    "        sCorrected[\"dw\" + str(l+1)] = s[\"dw\" + str(l+1)] / (1 - beta2**t)\n",
    "        sCorrected[\"db\" + str(l+1)] = s[\"db\" + str(l+1)] / (1 - beta2**t)\n",
    "\n",
    "        # Update params\n",
    "        params[\"w\" + str(l+1)] = params[\"w\" + str(l+1)] - learningRate * (vCorrected[\"dw\" + str(l+1)] / np.sqrt(sCorrected[\"dw\" + str(l+1)] + epsilon))\n",
    "        params[\"b\" + str(l+1)] = params[\"b\" + str(l+1)] - learningRate * (vCorrected[\"db\" + str(l+1)] / np.sqrt(sCorrected[\"db\" + str(l+1)] + epsilon))\n",
    "\n",
    "    return params, v, s"
   ]
  },
  {
   "cell_type": "code",
   "execution_count": 30,
   "metadata": {},
   "outputs": [],
   "source": [
    "# Define the actual neural network classification model\n",
    "def model(data, labels, dims, numIterations, learningRate, lamb, batchSize, dropProb, \n",
    "          beta1 = 0.9, beta2 = 0.999,  epsilon = 1e-8, printCost = False, showGraph = False):\n",
    "    \n",
    "    # Init vars\n",
    "    params = initilizeParameters(dims)\n",
    "    seed = 10    # mini-batch seed\n",
    "    t = 0        # Adam counter\n",
    "    v, s = initilizeAdamParameters(params)\n",
    "    \n",
    "    #return params;\n",
    "    \n",
    "    costs = []\n",
    "    descendingGraph = True\n",
    "    \n",
    "    # For each training iteration\n",
    "    for i in range(0, numIterations + 1):\n",
    "         \n",
    "        # Create the mini batches\n",
    "        seed = seed + 1   # assure we get a different batch composition each time through\n",
    "        miniBatches = createMiniBatches(data, labels, batchSize, seed)\n",
    "        \n",
    "        for batch in miniBatches:\n",
    "        \n",
    "            # Get a set of data and lable records\n",
    "            (batchData, batchLabels) = batch\n",
    "            \n",
    "            # Forward propagation\n",
    "            cache = forwardPropagation(batchData, params, dropProb)\n",
    "\n",
    "            # Cost function\n",
    "            cost = calculateCost(batchLabels, params, cache, lamb)\n",
    "\n",
    "            # Backward  propagation\n",
    "            grads = backwardPropagation(batchLabels, cache, params, lamb, dropProb)\n",
    "\n",
    "            # Gradient descent parameter update with Adam\n",
    "            t = t + 1 # Update Adam counter\n",
    "            params, v, s = updateParamsAdam(params, grads, v, s, t, learningRate, beta1, beta2, epsilon)    \n",
    "        \n",
    "        # Print the cost every N number of iterations\n",
    "        if printCost and i % 500 == 0:\n",
    "            print (\"Cost after iteration\", str(i), \"is\", str(cost))\n",
    "        \n",
    "        # Record the cost every N number of iterations\n",
    "        if i % 50 == 0:\n",
    "            if (len(costs) != 0) and (cost > costs[-1]):\n",
    "                descendingGraph = False\n",
    "            costs.append(cost)\n",
    "      \n",
    "    # Print the model training cost graph\n",
    "    if showGraph:\n",
    "        _costs = np.squeeze(costs)\n",
    "        plt.plot(_costs)\n",
    "        plt.ylabel('Cost')\n",
    "        plt.xlabel('Iterations (every 50)')\n",
    "        plt.title(\"Learning rate =\" + str(learningRate))\n",
    "        plt.show()\n",
    "\n",
    "    return params, costs, descendingGraph"
   ]
  },
  {
   "cell_type": "markdown",
   "metadata": {},
   "source": [
    "We'll save the code we just wrote above into 'utils_v2.py' and then import it for our testing below."
   ]
  },
  {
   "cell_type": "markdown",
   "metadata": {},
   "source": [
    "# Testing it out\n",
    "\n",
    "OK, let's give our updated model a test, and then we'll do some training."
   ]
  },
  {
   "cell_type": "code",
   "execution_count": 31,
   "metadata": {},
   "outputs": [],
   "source": [
    "import numpy as np\n",
    "np.random.seed(10)\n",
    "\n",
    "import random \n",
    "random.seed(10)\n",
    "\n",
    "from os import path\n",
    "import pandas as pd\n",
    "from IPython.display import display, HTML\n",
    "from matplotlib import pyplot as plt\n",
    "import inspect\n",
    "import time\n",
    "import copy\n",
    "import h5py\n",
    "import math\n",
    "\n",
    "# Contains our Adam updates...\n",
    "from utils_v2 import *"
   ]
  },
  {
   "cell_type": "code",
   "execution_count": 32,
   "metadata": {},
   "outputs": [],
   "source": [
    "# Load, shape, and normalize the data used for training the model\n",
    "imageData = path.join(\"datasets\", \"imageData500_64pixels.hdf5\")\n",
    "\n",
    "with h5py.File(imageData, \"r\") as archive:   \n",
    "    trainingData = np.squeeze(archive[\"trainData\"][:])\n",
    "    testData = np.squeeze(archive[\"testData\"][:])\n",
    "    trainingLabels = np.array(archive[\"trainLabels\"][:])\n",
    "    testLabels = np.array(archive[\"testLabels\"][:])\n",
    "    archive.close()\n",
    "\n",
    "# Reshape the training and test data and label matrices\n",
    "trainingData = trainingData.reshape(trainingData.shape[0], -1).T\n",
    "testData = testData.reshape(testData.shape[0], -1).T\n",
    "\n",
    "# Normalization\n",
    "trainingData = trainingData/255.\n",
    "testData = testData/255.\n",
    "\n",
    "data = [trainingData, trainingLabels, testData, testLabels]"
   ]
  },
  {
   "cell_type": "code",
   "execution_count": 41,
   "metadata": {},
   "outputs": [
    {
     "name": "stdout",
     "output_type": "stream",
     "text": [
      "Cost after iteration 0 is 0.9391259836730748\n",
      "Cost after iteration 500 is 0.501374180873784\n",
      "Cost after iteration 1000 is 0.2600798995202709\n",
      "Cost after iteration 1500 is 0.41737573486728974\n",
      "Cost after iteration 2000 is 0.1682669845983697\n"
     ]
    },
    {
     "data": {
      "image/png": "[encoded data removed]",
      "text/plain": [
       "<Figure size 432x288 with 1 Axes>"
      ]
     },
     "metadata": {},
     "output_type": "display_data"
    },
    {
     "name": "stdout",
     "output_type": "stream",
     "text": [
      "61.5\n"
     ]
    }
   ],
   "source": [
    "# def model(data, labels, dims, numIterations, learningRate, lamb, batchSize, dropProb, \n",
    "#           beta1 = 0.9, beta2 = 0.999,  epsilon = 1e-8, printCost = False, showGraph = False):\n",
    "\n",
    "testParams, testCosts, testGraph = model(\n",
    "    data = trainingData, \n",
    "    labels = trainingLabels, \n",
    "    dims = defineDimensions(trainingData, trainingLabels, (3, 5, 5)),\n",
    "    numIterations = 2000,\n",
    "    learningRate = 0.0005,\n",
    "    lamb = 0.5, \n",
    "    batchSize = 32,\n",
    "    dropProb = 0.86,\n",
    "    beta1 = 0.8, \n",
    "    beta2 = 0.888,  \n",
    "    epsilon = 1e-8,\n",
    "    printCost = True, \n",
    "    showGraph = True\n",
    ")\n",
    "\n",
    "adamPreds = predict(testData, testParams, testLabels)\n",
    "print(adamPreds['accuracy'])"
   ]
  },
  {
   "cell_type": "markdown",
   "metadata": {},
   "source": [
    "<h1>In progress....</h1>"
   ]
  },
  {
   "cell_type": "code",
   "execution_count": null,
   "metadata": {},
   "outputs": [],
   "source": []
  }
 ],
 "metadata": {
  "kernelspec": {
   "display_name": "Python 3",
   "language": "python",
   "name": "python3"
  },
  "language_info": {
   "codemirror_mode": {
    "name": "ipython",
    "version": 3
   },
   "file_extension": ".py",
   "mimetype": "text/x-python",
   "name": "python",
   "nbconvert_exporter": "python",
   "pygments_lexer": "ipython3",
   "version": "3.6.5"
  },
  "toc": {
   "base_numbering": 1,
   "nav_menu": {},
   "number_sections": true,
   "sideBar": true,
   "skip_h1_title": false,
   "title_cell": "Table of Contents",
   "title_sidebar": "Contents",
   "toc_cell": true,
   "toc_position": {},
   "toc_section_display": true,
   "toc_window_display": false
  }
 },
 "nbformat": 4,
 "nbformat_minor": 2
}
