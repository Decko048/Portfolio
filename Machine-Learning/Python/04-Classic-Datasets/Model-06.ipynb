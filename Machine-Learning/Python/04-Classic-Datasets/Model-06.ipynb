{
 "cells": [
  {
   "cell_type": "markdown",
   "metadata": {
    "toc": true
   },
   "source": [
    "<h1>Table of Contents<span class=\"tocSkip\"></span></h1>\n",
    "<div class=\"toc\"><ul class=\"toc-item\"><li><span><a href=\"#IMDB-Movie-Review-Sentiment-Classification\" data-toc-modified-id=\"IMDB-Movie-Review-Sentiment-Classification-1\"><span class=\"toc-item-num\">1&nbsp;&nbsp;</span>IMDB Movie Review Sentiment Classification</a></span></li><li><span><a href=\"#Purpose\" data-toc-modified-id=\"Purpose-2\"><span class=\"toc-item-num\">2&nbsp;&nbsp;</span>Purpose</a></span></li><li><span><a href=\"#Process\" data-toc-modified-id=\"Process-3\"><span class=\"toc-item-num\">3&nbsp;&nbsp;</span>Process</a></span><ul class=\"toc-item\"><li><span><a href=\"#Problem-definition\" data-toc-modified-id=\"Problem-definition-3.1\"><span class=\"toc-item-num\">3.1&nbsp;&nbsp;</span>Problem definition</a></span></li><li><span><a href=\"#Evaluation-strategy\" data-toc-modified-id=\"Evaluation-strategy-3.2\"><span class=\"toc-item-num\">3.2&nbsp;&nbsp;</span>Evaluation strategy</a></span></li><li><span><a href=\"#Baseline-model(s)\" data-toc-modified-id=\"Baseline-model(s)-3.3\"><span class=\"toc-item-num\">3.3&nbsp;&nbsp;</span>Baseline model(s)</a></span></li><li><span><a href=\"#Data-validation\" data-toc-modified-id=\"Data-validation-3.4\"><span class=\"toc-item-num\">3.4&nbsp;&nbsp;</span>Data validation</a></span></li><li><span><a href=\"#Model-development\" data-toc-modified-id=\"Model-development-3.5\"><span class=\"toc-item-num\">3.5&nbsp;&nbsp;</span>Model development</a></span></li></ul></li><li><span><a href=\"#Configure-notebook-and-import-libraries\" data-toc-modified-id=\"Configure-notebook-and-import-libraries-4\"><span class=\"toc-item-num\">4&nbsp;&nbsp;</span>Configure notebook and import libraries</a></span></li><li><span><a href=\"#Examine-the-data\" data-toc-modified-id=\"Examine-the-data-5\"><span class=\"toc-item-num\">5&nbsp;&nbsp;</span>Examine the data</a></span></li><li><span><a href=\"#Cleaning-and-preprocessing\" data-toc-modified-id=\"Cleaning-and-preprocessing-6\"><span class=\"toc-item-num\">6&nbsp;&nbsp;</span>Cleaning and preprocessing</a></span></li><li><span><a href=\"#Bag-of-words-feature-creation\" data-toc-modified-id=\"Bag-of-words-feature-creation-7\"><span class=\"toc-item-num\">7&nbsp;&nbsp;</span>Bag-of-words feature creation</a></span></li><li><span><a href=\"#Baseline-Model-development\" data-toc-modified-id=\"Baseline-Model-development-8\"><span class=\"toc-item-num\">8&nbsp;&nbsp;</span>Baseline Model development</a></span><ul class=\"toc-item\"><li><span><a href=\"#Helper-functions\" data-toc-modified-id=\"Helper-functions-8.1\"><span class=\"toc-item-num\">8.1&nbsp;&nbsp;</span>Helper functions</a></span></li><li><span><a href=\"#Create-validation-data-set\" data-toc-modified-id=\"Create-validation-data-set-8.2\"><span class=\"toc-item-num\">8.2&nbsp;&nbsp;</span>Create validation data set</a></span></li><li><span><a href=\"#Initial-pass---Non-ensemble-methods\" data-toc-modified-id=\"Initial-pass---Non-ensemble-methods-8.3\"><span class=\"toc-item-num\">8.3&nbsp;&nbsp;</span>Initial pass - Non-ensemble methods</a></span><ul class=\"toc-item\"><li><span><a href=\"#LR-Tuning\" data-toc-modified-id=\"LR-Tuning-8.3.1\"><span class=\"toc-item-num\">8.3.1&nbsp;&nbsp;</span>LR Tuning</a></span></li></ul></li><li><span><a href=\"#Initial-pass---Ensemble-methods\" data-toc-modified-id=\"Initial-pass---Ensemble-methods-8.4\"><span class=\"toc-item-num\">8.4&nbsp;&nbsp;</span>Initial pass - Ensemble methods</a></span></li></ul></li></ul></div>"
   ]
  },
  {
   "cell_type": "markdown",
   "metadata": {},
   "source": [
    "<h1>IMDB Movie Review Sentiment Classification</h1>"
   ]
  },
  {
   "cell_type": "markdown",
   "metadata": {},
   "source": [
    "<img style=\"float: left; margin-right: 15px; width: 30%; height: 30%;\" src=\"images/imdb.jpg\" />"
   ]
  },
  {
   "cell_type": "markdown",
   "metadata": {},
   "source": [
    "# Purpose\n",
    "\n",
    "The overall goal of this set of write-ups is to explore a number of machine learning algorithms utilizing natural language processing (NLP) to classify the sentiment in a set of IMDB movie reviews.\n",
    "\n",
    "The specific goals of this write-up include:\n",
    "1. Define the model development process \n",
    "2. Explore and prepare the data\n",
    "3. Create the initial, simple, baseline NLP regression model to classify IMDB movie review sentiments\n",
    "\n",
    "This series of write-ups is inspired by the Kaggle [\n",
    "Bag of Words Meets Bags of Popcorn](https://www.kaggle.com/c/word2vec-nlp-tutorial) competition.    \n",
    "\n",
    "Dataset source:  [IMDB Movie Reviews](https://www.kaggle.com/c/word2vec-nlp-tutorial/data)"
   ]
  },
  {
   "cell_type": "markdown",
   "metadata": {},
   "source": [
    "# Process\n",
    "\n",
    "We'll utilize the following process to guide us through this and the following write-ups on the IDMB movie review dataset:\n",
    "\n",
    "1. Problem definition\n",
    "2. Evaluation strategy\n",
    "3. Baseline model(s)\n",
    "4. Data validation\n",
    "5. Model development"
   ]
  },
  {
   "cell_type": "markdown",
   "metadata": {},
   "source": [
    "## Problem definition\n",
    "\n",
    "We want to classify IMDB movie reviews as 'positive' or 'negative' based on the natural language contents of the reviewer's input."
   ]
  },
  {
   "cell_type": "markdown",
   "metadata": {},
   "source": [
    "## Evaluation strategy\n",
    "\n",
    "We'll divide the test data provided by Kaggle into a training and validation split with a 80/20 split ratio using a static seed.  We don't know the labels of the test data, so we'll reply on submission feedback from Kaggle to guide performance on the test set.\n",
    "\n",
    "Algorithms trained on this problem will be evaluated by two qualitative metrics:  `Accuracy` and `standard deviation` with any ties being broken by `accuracy`.  We will also visually evaluate model performance via the use of `Receiver Operating Characteristic (ROC)` graphs.\n",
    "\n",
    "We briefly perform hyperparamter tuning on the top model(s) and again examine `accuracy`, `standard deviation`, and `ROC` curves for further performance increases."
   ]
  },
  {
   "cell_type": "markdown",
   "metadata": {
    "ExecuteTime": {
     "end_time": "2018-10-15T10:20:38.347488Z",
     "start_time": "2018-10-15T10:20:34.190203Z"
    }
   },
   "source": [
    "## Baseline model(s)\n",
    "\n",
    "We'll apply a number of constituent learning algorithms as well as ensemble learning algorithms to the data set to start with.  Scikit-learn makes this very easy to do along with the fact that the data set isn't overly large, and we've already done similar work in previous write-ups we can 'borrow.'\n",
    "\n",
    "Constituent learning algorithms under consideration:\n",
    "* Logistic Regression\n",
    "* Linear Discriminant Analysis\n",
    "* K-Nearest Neighbors\n",
    "* Decision Trees \n",
    "* Gaussian Naive Bayes (GaussianNB)\n",
    "* Support Vector Machines (SVM)\n",
    "\n",
    "Ensemble learning algorithms under consideration:\n",
    "* AdaBoost Classifier\n",
    "* Gradient Boosting\n",
    "* Random Forest\n",
    "* Extra Trees Classifier"
   ]
  },
  {
   "cell_type": "markdown",
   "metadata": {},
   "source": [
    "## Data validation\n",
    "\n",
    "We'll examine and analyze the data (shown below), and perform whatever cleanup steps are required for the modeling technique being utilized.  For example, below we implement a `bag-of-words` strategy for feature creation during this baseline model creation, and so we strip out punctuation, HTML, special characters, and so forth."
   ]
  },
  {
   "cell_type": "markdown",
   "metadata": {},
   "source": [
    "## Model development\n",
    "\n",
    "Each write-up in this series will deal with one or more models, and the specifics of developing that model(s) will be described during the write-up."
   ]
  },
  {
   "cell_type": "markdown",
   "metadata": {},
   "source": [
    "# Configure notebook and import libraries"
   ]
  },
  {
   "cell_type": "code",
   "execution_count": 45,
   "metadata": {
    "ExecuteTime": {
     "end_time": "2018-10-14T18:57:17.448690Z",
     "start_time": "2018-10-14T18:57:17.171699Z"
    }
   },
   "outputs": [
    {
     "name": "stdout",
     "output_type": "stream",
     "text": [
      "The autoreload extension is already loaded. To reload it, use:\n",
      "  %reload_ext autoreload\n"
     ]
    }
   ],
   "source": [
    "%matplotlib inline\n",
    "%load_ext autoreload\n",
    "%autoreload 2\n",
    "\n",
    "import warnings\n",
    "warnings.filterwarnings('ignore')\n",
    "\n",
    "import os\n",
    "import re\n",
    "import numpy as np\n",
    "import matplotlib.pyplot as plt\n",
    "import seaborn as sns\n",
    "\n",
    "import pandas as pd\n",
    "from pandas import set_option\n",
    "\n",
    "from sklearn.feature_extraction.text import CountVectorizer\n",
    "\n",
    "from sklearn.linear_model import LogisticRegression\n",
    "from sklearn.tree import DecisionTreeClassifier\n",
    "from sklearn.neighbors import KNeighborsClassifier\n",
    "from sklearn.discriminant_analysis import LinearDiscriminantAnalysis\n",
    "from sklearn.naive_bayes import GaussianNB\n",
    "from sklearn.svm import SVC\n",
    "\n",
    "from sklearn.feature_selection import SelectKBest\n",
    "from sklearn.feature_selection import f_regression\n",
    "\n",
    "from sklearn.pipeline import Pipeline\n",
    "from sklearn.pipeline import FeatureUnion\n",
    "\n",
    "from sklearn.ensemble import AdaBoostClassifier\n",
    "from sklearn.ensemble import GradientBoostingClassifier\n",
    "from sklearn.ensemble import RandomForestClassifier\n",
    "from sklearn.ensemble import ExtraTreesClassifier\n",
    "\n",
    "from sklearn.model_selection import train_test_split\n",
    "from sklearn.model_selection import KFold\n",
    "from sklearn.model_selection import cross_val_score\n",
    "from sklearn.model_selection import GridSearchCV\n",
    "\n",
    "from sklearn.preprocessing import StandardScaler\n",
    "\n",
    "from sklearn.metrics import classification_report\n",
    "from sklearn.metrics import confusion_matrix\n",
    "from sklearn.metrics import accuracy_score\n",
    "\n",
    "# http://www.nltk.org/index.html\n",
    "# pip install nltk\n",
    "import nltk\n",
    "from nltk.corpus import stopwords\n",
    "\n",
    "# https://www.crummy.com/software/BeautifulSoup/bs4/doc/\n",
    "# pip install BeautifulSoup4\n",
    "from bs4 import BeautifulSoup"
   ]
  },
  {
   "cell_type": "code",
   "execution_count": 6,
   "metadata": {
    "ExecuteTime": {
     "end_time": "2018-10-14T18:53:56.886098Z",
     "start_time": "2018-10-14T18:53:56.747272Z"
    }
   },
   "outputs": [],
   "source": [
    "seed = 10\n",
    "np.random.seed(seed)\n",
    "\n",
    "# Opens a GUI that allows us to download the NLTK data\n",
    "# nltk.download()\n",
    "\n",
    "dataPath = os.path.join('.', 'datasets', 'imdb_movie_reviews')\n",
    "labeledTrainData = os.path.join(dataPath, 'labeledTrainData.tsv')"
   ]
  },
  {
   "cell_type": "markdown",
   "metadata": {},
   "source": [
    "# Examine the data\n",
    "\n",
    "If we open the training data file in a text editor we can see that:\n",
    "* A header row exists with the values 'id\tsentiment\treview'\n",
    "* The values appear to be separated by tabs\n",
    "* There are double quotes around the review text as well as within the contents of the review text\n",
    "\n",
    "Based on the last point we'll tell Pandas to avoid quoting with the parameter `quoting = 3`.\n",
    "\n",
    "Let's go ahead and read the test data file into a Pandas DataFrame and then explore the raw data."
   ]
  },
  {
   "cell_type": "code",
   "execution_count": 7,
   "metadata": {
    "ExecuteTime": {
     "end_time": "2018-10-14T18:53:58.678650Z",
     "start_time": "2018-10-14T18:53:56.886098Z"
    }
   },
   "outputs": [],
   "source": [
    "df = pd.read_csv(labeledTrainData, sep = '\\t', header = 0, quoting = 3)"
   ]
  },
  {
   "cell_type": "markdown",
   "metadata": {},
   "source": [
    "##### Shape and data types"
   ]
  },
  {
   "cell_type": "code",
   "execution_count": 8,
   "metadata": {
    "ExecuteTime": {
     "end_time": "2018-10-14T18:53:58.818260Z",
     "start_time": "2018-10-14T18:53:58.678650Z"
    }
   },
   "outputs": [
    {
     "data": {
      "text/plain": [
       "(25000, 3)"
      ]
     },
     "execution_count": 8,
     "metadata": {},
     "output_type": "execute_result"
    }
   ],
   "source": [
    "df.shape"
   ]
  },
  {
   "cell_type": "code",
   "execution_count": 9,
   "metadata": {
    "ExecuteTime": {
     "end_time": "2018-10-14T18:53:58.958864Z",
     "start_time": "2018-10-14T18:53:58.818260Z"
    }
   },
   "outputs": [
    {
     "data": {
      "text/plain": [
       "id           object\n",
       "sentiment     int64\n",
       "review       object\n",
       "dtype: object"
      ]
     },
     "execution_count": 9,
     "metadata": {},
     "output_type": "execute_result"
    }
   ],
   "source": [
    "df.dtypes"
   ]
  },
  {
   "cell_type": "markdown",
   "metadata": {},
   "source": [
    "##### Inspect a sub sample of the raw data"
   ]
  },
  {
   "cell_type": "code",
   "execution_count": 10,
   "metadata": {
    "ExecuteTime": {
     "end_time": "2018-10-14T18:53:59.121395Z",
     "start_time": "2018-10-14T18:53:58.958864Z"
    }
   },
   "outputs": [
    {
     "data": {
      "text/html": [
       "<div>\n",
       "<style scoped>\n",
       "    .dataframe tbody tr th:only-of-type {\n",
       "        vertical-align: middle;\n",
       "    }\n",
       "\n",
       "    .dataframe tbody tr th {\n",
       "        vertical-align: top;\n",
       "    }\n",
       "\n",
       "    .dataframe thead th {\n",
       "        text-align: right;\n",
       "    }\n",
       "</style>\n",
       "<table border=\"1\" class=\"dataframe\">\n",
       "  <thead>\n",
       "    <tr style=\"text-align: right;\">\n",
       "      <th></th>\n",
       "      <th>id</th>\n",
       "      <th>sentiment</th>\n",
       "      <th>review</th>\n",
       "    </tr>\n",
       "  </thead>\n",
       "  <tbody>\n",
       "    <tr>\n",
       "      <th>8</th>\n",
       "      <td>\"319_1\"</td>\n",
       "      <td>0</td>\n",
       "      <td>\"A friend of mine bought this film for £1, and even then it was grossly overpriced. Despite featuring big names such as Adam Sandler, Billy Bob Thornton and the incredibly talented Burt Young, this film was about as funny as taking a chisel and hammering it straight through your earhole. It uses tired, bottom of the barrel comedic techniques - consistently breaking the fourth wall as Sandler talks to the audience, and seemingly pointless montages of 'hot girls'.&lt;br /&gt;&lt;br /&gt;Adam Sandler plays a waiter on a cruise ship who wants to make it as a successful comedian in order to become successful with women. When the ship's resident comedian - the shamelessly named 'Dickie' due to his unfathomable success with the opposite gender - is presumed lost at sea, Sandler's character Shecker gets his big break. Dickie is not dead, he's rather locked in the bathroom, presumably sea sick.&lt;br /&gt;&lt;br /&gt;Perhaps from his mouth he just vomited the worst film of all time.\"</td>\n",
       "    </tr>\n",
       "    <tr>\n",
       "      <th>9</th>\n",
       "      <td>\"8713_10\"</td>\n",
       "      <td>1</td>\n",
       "      <td>\"&lt;br /&gt;&lt;br /&gt;This movie is full of references. Like \\\"Mad Max II\\\", \\\"The wild one\\\" and many others. The ladybug´s face it´s a clear reference (or tribute) to Peter Lorre. This movie is a masterpiece. We´ll talk much more about in the future.\"</td>\n",
       "    </tr>\n",
       "    <tr>\n",
       "      <th>10</th>\n",
       "      <td>\"2486_3\"</td>\n",
       "      <td>0</td>\n",
       "      <td>\"What happens when an army of wetbacks, towelheads, and Godless Eastern European commies gather their forces south of the border? Gary Busey kicks their butts, of course. Another laughable example of Reagan-era cultural fallout, Bulletproof wastes a decent supporting cast headed by L Q Jones and Thalmus Rasulala.\"</td>\n",
       "    </tr>\n",
       "  </tbody>\n",
       "</table>\n",
       "</div>"
      ],
      "text/plain": [
       "           id  sentiment  \\\n",
       "8   \"319_1\"    0           \n",
       "9   \"8713_10\"  1           \n",
       "10  \"2486_3\"   0           \n",
       "\n",
       "                                                                                                                                                                                                                                                                                                                                                                                                                                                                                                                                                                                                                                                                                                                                                                                                                                                                                                                                                                                                   review  \n",
       "8   \"A friend of mine bought this film for £1, and even then it was grossly overpriced. Despite featuring big names such as Adam Sandler, Billy Bob Thornton and the incredibly talented Burt Young, this film was about as funny as taking a chisel and hammering it straight through your earhole. It uses tired, bottom of the barrel comedic techniques - consistently breaking the fourth wall as Sandler talks to the audience, and seemingly pointless montages of 'hot girls'.<br /><br />Adam Sandler plays a waiter on a cruise ship who wants to make it as a successful comedian in order to become successful with women. When the ship's resident comedian - the shamelessly named 'Dickie' due to his unfathomable success with the opposite gender - is presumed lost at sea, Sandler's character Shecker gets his big break. Dickie is not dead, he's rather locked in the bathroom, presumably sea sick.<br /><br />Perhaps from his mouth he just vomited the worst film of all time.\"  \n",
       "9   \"<br /><br />This movie is full of references. Like \\\"Mad Max II\\\", \\\"The wild one\\\" and many others. The ladybug´s face it´s a clear reference (or tribute) to Peter Lorre. This movie is a masterpiece. We´ll talk much more about in the future.\"                                                                                                                                                                                                                                                                                                                                                                                                                                                                                                                                                                                                                                                                                                                                                   \n",
       "10  \"What happens when an army of wetbacks, towelheads, and Godless Eastern European commies gather their forces south of the border? Gary Busey kicks their butts, of course. Another laughable example of Reagan-era cultural fallout, Bulletproof wastes a decent supporting cast headed by L Q Jones and Thalmus Rasulala.\"                                                                                                                                                                                                                                                                                                                                                                                                                                                                                                                                                                                                                                                                            "
      ]
     },
     "execution_count": 10,
     "metadata": {},
     "output_type": "execute_result"
    }
   ],
   "source": [
    "# Don't truncate\n",
    "pd.set_option('display.max_colwidth', -1)\n",
    "df[8:11].head()"
   ]
  },
  {
   "cell_type": "markdown",
   "metadata": {},
   "source": [
    "It appears there is a lot of noise in the `review` column we are going to have to deal with:  punctuation, html, escaped double quotes, currency symbols, and so forth.  \n",
    "\n",
    "Two of the reviews seem to have a clear sentiment, which will hopefully allow the model to train and learn well against:\n",
    "* Row 8 :: \"This movie is a masterpiece.\" --> Clearly positive\n",
    "* Row 10 :: \"... the worst film of all time.\" --> Clearly negative\n",
    "\n",
    "And then we have Row[10] which even as a human I wouldn't be 100% sure if they were being negative and/or sarcastic but in a positive or snarky way.  I would assume this type of review is going to give our learning algorithm some issues."
   ]
  },
  {
   "cell_type": "markdown",
   "metadata": {},
   "source": [
    "##### Label distribution"
   ]
  },
  {
   "cell_type": "code",
   "execution_count": 11,
   "metadata": {
    "ExecuteTime": {
     "end_time": "2018-10-14T18:53:59.277585Z",
     "start_time": "2018-10-14T18:53:59.121395Z"
    }
   },
   "outputs": [
    {
     "data": {
      "text/plain": [
       "sentiment\n",
       "0    12500\n",
       "1    12500\n",
       "dtype: int64"
      ]
     },
     "execution_count": 11,
     "metadata": {},
     "output_type": "execute_result"
    }
   ],
   "source": [
    "df.groupby('sentiment').size()"
   ]
  },
  {
   "cell_type": "markdown",
   "metadata": {},
   "source": [
    "We have an even split of likes and dislikes; no one classification has a skewed representation in the data set."
   ]
  },
  {
   "cell_type": "markdown",
   "metadata": {},
   "source": [
    "##### ID distribution\n",
    "\n",
    "Kaggle's site has this to say about the ID column:\n",
    "* id - Unique ID of each review\n",
    "\n",
    "It isn't clear; however, if each review is from a unique author, or we have potentially multiple reviews written by the same person.\n",
    "\n",
    "It appears that perhaps the first part of the ID before the underscore might identify the author, and the second part of the ID after the underscore might be the Nth review from that author.\n",
    "\n",
    "We can explore this theory using Pandas:"
   ]
  },
  {
   "cell_type": "code",
   "execution_count": 12,
   "metadata": {
    "ExecuteTime": {
     "end_time": "2018-10-14T18:53:59.449593Z",
     "start_time": "2018-10-14T18:53:59.277585Z"
    }
   },
   "outputs": [
    {
     "data": {
      "text/plain": [
       "(25000,)"
      ]
     },
     "execution_count": 12,
     "metadata": {},
     "output_type": "execute_result"
    }
   ],
   "source": [
    "# Check for dupes against the raw ID values\n",
    "df['id'].value_counts().shape"
   ]
  },
  {
   "cell_type": "code",
   "execution_count": 13,
   "metadata": {
    "ExecuteTime": {
     "end_time": "2018-10-14T18:53:59.683969Z",
     "start_time": "2018-10-14T18:53:59.449593Z"
    }
   },
   "outputs": [
    {
     "data": {
      "text/plain": [
       "0    [5814, 8]\n",
       "Name: id, dtype: object"
      ]
     },
     "execution_count": 13,
     "metadata": {},
     "output_type": "execute_result"
    }
   ],
   "source": [
    "# Split the ID on the underscore\n",
    "split = df['id'].str.replace('\"', '').str.split('_')\n",
    "\n",
    "# Take a look at a sample\n",
    "split.head(1)"
   ]
  },
  {
   "cell_type": "code",
   "execution_count": 14,
   "metadata": {
    "ExecuteTime": {
     "end_time": "2018-10-14T18:53:59.871475Z",
     "start_time": "2018-10-14T18:53:59.683969Z"
    }
   },
   "outputs": [
    {
     "name": "stdout",
     "output_type": "stream",
     "text": [
      "Shape:\n",
      " (12500,) \n",
      "\n",
      "First five:\n",
      " 10529    2\n",
      "6953     2\n",
      "1939     2\n",
      "2671     2\n",
      "4213     2\n",
      "dtype: int64 \n",
      "\n",
      "Last five:\n",
      " 7917     2\n",
      "622      2\n",
      "8855     2\n",
      "11806    2\n",
      "44       2\n",
      "dtype: int64 \n",
      "\n"
     ]
    }
   ],
   "source": [
    "# Pull out the first part of the ID values using a list comprehension, and place results into a Pandas Series object\n",
    "ids = pd.Series([x[0] for x in split])\n",
    "\n",
    "# Let's see if the number of records has changed\n",
    "print(\"Shape:\\n\", ids.value_counts(ascending = False).shape, \"\\n\")\n",
    "print(\"First five:\\n\", ids.value_counts(ascending = False).head(5), \"\\n\")\n",
    "print(\"Last five:\\n\", ids.value_counts(ascending = False).tail(5), \"\\n\")"
   ]
  },
  {
   "cell_type": "markdown",
   "metadata": {},
   "source": [
    "If our theory is correct--which it may not be--then each review author has exactly two entries present in the training observations.  This still provides us with a wide range (12500 in fact) of writing styles, word compositions, and so forth.  It also mitigates the possibility that we might have a few authors with a large number of reviews that would skew the algorithm's ability to generalize to unseen observations.\n",
    "\n",
    "If our theory is incorrect then we simply have 25,000 unique reviews each written by a different author, and this can only help the model to generalize.\n",
    "\n",
    "Just for fun; however, let's pick out two reviews by the same author, and see if the writing styles are similar:"
   ]
  },
  {
   "cell_type": "code",
   "execution_count": 15,
   "metadata": {
    "ExecuteTime": {
     "end_time": "2018-10-14T18:54:00.043241Z",
     "start_time": "2018-10-14T18:53:59.871475Z"
    }
   },
   "outputs": [
    {
     "data": {
      "text/html": [
       "<div>\n",
       "<style scoped>\n",
       "    .dataframe tbody tr th:only-of-type {\n",
       "        vertical-align: middle;\n",
       "    }\n",
       "\n",
       "    .dataframe tbody tr th {\n",
       "        vertical-align: top;\n",
       "    }\n",
       "\n",
       "    .dataframe thead th {\n",
       "        text-align: right;\n",
       "    }\n",
       "</style>\n",
       "<table border=\"1\" class=\"dataframe\">\n",
       "  <thead>\n",
       "    <tr style=\"text-align: right;\">\n",
       "      <th></th>\n",
       "      <th>id</th>\n",
       "      <th>sentiment</th>\n",
       "      <th>review</th>\n",
       "    </tr>\n",
       "  </thead>\n",
       "  <tbody>\n",
       "    <tr>\n",
       "      <th>10936</th>\n",
       "      <td>\"12486_2\"</td>\n",
       "      <td>0</td>\n",
       "      <td>\"Rich ditzy Joan Winfield (a woefully miscast Bette Davis) is engaged to be married to stupid egotistical Allen Brice (Jack Carson looking lost). Her father (Eugene Palette) is determined to stop the marriage and has her kidnapped by pilot Steve Collins (James Cagney. Seriously). They crash land in the desert and hate each other but (sigh) start falling in love.&lt;br /&gt;&lt;br /&gt;This seems to be getting a high rating from reviewers here only because Cagney and Davis are in it. They were both brilliant actors but they were known for dramas NOT comedy and this movie shows why! The script is just horrible--there's not one genuine laugh in the entire movie. The running joke in this has Cagney and Davis falling rump first in a cactus (this is done THREE TIMES!). Only their considerable talents save them from being completely humiliated. As it is they both do their best with the lousy material. Cagney tries his best with his lines and Davis screeches every line full force but it doesn't work. Carson has this \\\"what the hell\\\" look on his face throughout the entire movie (probably because his characters emotions change in seconds). Only Palette with his distinctive voice and over the top readings manges to elicit a few smiles. But, all in all, this was dull and laughless--a real chore to sit through. This gets two stars only for Cagney and Davis' acting and some beautiful cinematography but really--it's not worth seeing. Cagney and Davis hated this film in later years and you can see why.\"</td>\n",
       "    </tr>\n",
       "    <tr>\n",
       "      <th>11427</th>\n",
       "      <td>\"12486_7\"</td>\n",
       "      <td>1</td>\n",
       "      <td>\"Well, this film is a difficult one really. To be straight with you, this film doesn't contain much of a riveting story, nore does it make u 'want' to know how it'll end...but I'll tell you something now...never have I been as tense and jumped up before in my life! This film sure does deliver the jumps and thrills! To be fair, I did watch it at almost midnight so I was kinda sleepy anyway, so maybe that explains why I was jumpy...or maybe it's because this film does deliver in that aspect! It's basically about a couple who lose their child in a tragic event. They decide to move away and rent a cabin looking thing in the mountains...all looks peaceful and calm until they have their first visitors (i think it's it's the sister of the main character, and she brings along her husband)...during the night, the husband hears noises...checks it out, and thats when things start to go really really wrong...they don't stay for another day and tell the couple they should leave asap as something isn't right...to cut a long story short...eventually they find out what has happened in that house in the past few years and decide it needs to be taken care of.&lt;br /&gt;&lt;br /&gt;It's not a Hollywood blockbuster, nore does it have a huge budget, but please don't let that put you off. It's creepy, tense and very very jumpy! Just give it a try :)\"</td>\n",
       "    </tr>\n",
       "  </tbody>\n",
       "</table>\n",
       "</div>"
      ],
      "text/plain": [
       "              id  sentiment  \\\n",
       "10936  \"12486_2\"  0           \n",
       "11427  \"12486_7\"  1           \n",
       "\n",
       "                                                                                                                                                                                                                                                                                                                                                                                                                                                                                                                                                                                                                                                                                                                                                                                                                                                                                                                                                                                                                                                                                                                                                                                                                                                                                                                                                                                                                                                                                                                                                              review  \n",
       "10936  \"Rich ditzy Joan Winfield (a woefully miscast Bette Davis) is engaged to be married to stupid egotistical Allen Brice (Jack Carson looking lost). Her father (Eugene Palette) is determined to stop the marriage and has her kidnapped by pilot Steve Collins (James Cagney. Seriously). They crash land in the desert and hate each other but (sigh) start falling in love.<br /><br />This seems to be getting a high rating from reviewers here only because Cagney and Davis are in it. They were both brilliant actors but they were known for dramas NOT comedy and this movie shows why! The script is just horrible--there's not one genuine laugh in the entire movie. The running joke in this has Cagney and Davis falling rump first in a cactus (this is done THREE TIMES!). Only their considerable talents save them from being completely humiliated. As it is they both do their best with the lousy material. Cagney tries his best with his lines and Davis screeches every line full force but it doesn't work. Carson has this \\\"what the hell\\\" look on his face throughout the entire movie (probably because his characters emotions change in seconds). Only Palette with his distinctive voice and over the top readings manges to elicit a few smiles. But, all in all, this was dull and laughless--a real chore to sit through. This gets two stars only for Cagney and Davis' acting and some beautiful cinematography but really--it's not worth seeing. Cagney and Davis hated this film in later years and you can see why.\"  \n",
       "11427  \"Well, this film is a difficult one really. To be straight with you, this film doesn't contain much of a riveting story, nore does it make u 'want' to know how it'll end...but I'll tell you something now...never have I been as tense and jumped up before in my life! This film sure does deliver the jumps and thrills! To be fair, I did watch it at almost midnight so I was kinda sleepy anyway, so maybe that explains why I was jumpy...or maybe it's because this film does deliver in that aspect! It's basically about a couple who lose their child in a tragic event. They decide to move away and rent a cabin looking thing in the mountains...all looks peaceful and calm until they have their first visitors (i think it's it's the sister of the main character, and she brings along her husband)...during the night, the husband hears noises...checks it out, and thats when things start to go really really wrong...they don't stay for another day and tell the couple they should leave asap as something isn't right...to cut a long story short...eventually they find out what has happened in that house in the past few years and decide it needs to be taken care of.<br /><br />It's not a Hollywood blockbuster, nore does it have a huge budget, but please don't let that put you off. It's creepy, tense and very very jumpy! Just give it a try :)\"                                                                                                                                                                    "
      ]
     },
     "execution_count": 15,
     "metadata": {},
     "output_type": "execute_result"
    }
   ],
   "source": [
    "samples = df[ df['id'].str.contains('12486_') ]\n",
    "pd.set_option('display.max_colwidth', -1)\n",
    "samples"
   ]
  },
  {
   "cell_type": "markdown",
   "metadata": {},
   "source": [
    "Based on the writing styles present in the two samples above the theory that these were written by the same author seems to be weakened.  For example, the second sample utilizes '...' a number of times, but we don't see that present in the first sample.  Likewise the first sample uses all uppercase characters for emphasis, but there are none present in the second sample.  And finally, the use (or misuse) of grammar does not match between the two entries either.\n",
    "\n",
    "We can also examine the second part of the ID column and look for patterns:"
   ]
  },
  {
   "cell_type": "code",
   "execution_count": 16,
   "metadata": {
    "ExecuteTime": {
     "end_time": "2018-10-14T18:54:00.199461Z",
     "start_time": "2018-10-14T18:54:00.043241Z"
    }
   },
   "outputs": [
    {
     "name": "stdout",
     "output_type": "stream",
     "text": [
      "1     5100\n",
      "10    4732\n",
      "8     3009\n",
      "4     2696\n",
      "7     2496\n",
      "3     2420\n",
      "2     2284\n",
      "9     2263\n"
     ]
    }
   ],
   "source": [
    "# Pull out the second part of the ID values using a list comprehension, and place results into a Pandas Series object\n",
    "ids = pd.Series([x[1] for x in split])\n",
    "\n",
    "#Examine the distribution\n",
    "print(ids.value_counts().to_string())"
   ]
  },
  {
   "cell_type": "code",
   "execution_count": 17,
   "metadata": {
    "ExecuteTime": {
     "end_time": "2018-10-14T18:54:00.571339Z",
     "start_time": "2018-10-14T18:54:00.199461Z"
    }
   },
   "outputs": [
    {
     "data": {
      "text/plain": [
       "[<matplotlib.lines.Line2D at 0xfa9d71b2e8>]"
      ]
     },
     "execution_count": 17,
     "metadata": {},
     "output_type": "execute_result"
    },
    {
     "data": {
      "image/png": "[encoded data removed]",
      "text/plain": [
       "<matplotlib.figure.Figure at 0xfa9d83f240>"
      ]
     },
     "metadata": {},
     "output_type": "display_data"
    }
   ],
   "source": [
    "# Visually inspect the distribution\n",
    "plt.plot(ids.value_counts().sort_index(ascending = True, inplace = False))"
   ]
  },
  {
   "cell_type": "markdown",
   "metadata": {},
   "source": [
    "There really doesn't see to be a meaningful pattern here, so we'll move on."
   ]
  },
  {
   "cell_type": "markdown",
   "metadata": {},
   "source": [
    "# Cleaning and preprocessing\n",
    "\n",
    "Now that we have a handle on what the data looks like we can begin the cleaning and preprocessing.  Since we are going to implement a [`bag-of-words model`](https://en.wikipedia.org/wiki/Bag-of-words_model) (covered in more detail below) we want to turn each review into a collection of individual words.  \n",
    "\n",
    "So, first let's find a \"messy\" review full of HTML, punctuation, and other items we can review as we apply each step of the cleaning, and see how things are going."
   ]
  },
  {
   "cell_type": "code",
   "execution_count": 18,
   "metadata": {
    "ExecuteTime": {
     "end_time": "2018-10-14T18:54:00.711941Z",
     "start_time": "2018-10-14T18:54:00.571339Z"
    }
   },
   "outputs": [
    {
     "data": {
      "text/plain": [
       "'108    \"The question, when one sees a movie this bad, is not necessarily, \\\\\"How did a movie this bad get made?\\\\\" or even, \\\\\"Why did I see this awful in the first place?\\\\\" but, \\\\\"What have I learned from this experience?\\\\\" Here\\'s what I learned:<br /><br />- Just because the \\\\\"rules\\\\\" of horror movies have been catalogued and satirized countless times in the last ten years doesn\\'t mean someone won\\'t go ahead and make a movie that uses ALL of them, without a shred of humor or irony.<br /><br />- If your movie has to be described as **loosely** based on the video game, you have script problems.<br /><br />- The black character may not always die first, but the Asian character does always know kung-fu.<br /><br />- While you may be proud that you figured out how to do the \\\\\"the Matrix effect\\\\\" on a budget, that doesn\\'t necessarily mean you should use it over and over again ad nausea.<br /><br />- Being Ron Howard\\'s brother does not guarantee choice roles.<br /><br />- Whenever a scene doesn\\'t edit together, just use some footage from the video game, no one will notice.<br /><br />- If your cousin\\'s rap-metal band offers to write your movie\\'s theme for free, politely decline.<br /><br />- Zombie movies are not about people killing zombies. They\\'re about zombies killing people, preferably in the most gruesome way possible. That\\'s what makes them SCARY.<br /><br />- White people who can pay $1600 to get to a rave deserve to die.<br /><br />- If you find an old book, it will tell you everything you need to know. Anything else you will figure out on your own two lines after someone asks, \\\\\"What was that?\\\\\" or, \\\\\"Where are we?\\\\\"<br /><br />- Bare breasts are not horror movie panacea.<br /><br />- A helicopter boom shot and a licensing deal with Sega magically transforms your movie from \\\\\"student film\\\\\" to \\\\\"major studio release\\\\\". Try it!<br /><br />- Just because you can name-drop all three \\\\\"Living Dead\\\\\" movies, that does not make you George Romero. Or even Paul W. S. Anderson.<br /><br />I\\'ve seen worse movies, but only because I\\'ve seen \\\\\"Mortal Kombat: Annihilation.\\\\\"\"'"
      ]
     },
     "execution_count": 18,
     "metadata": {},
     "output_type": "execute_result"
    }
   ],
   "source": [
    "messy = df.loc[ df['id'] == '\"9170_1\"', 'review'].to_string()\n",
    "messy"
   ]
  },
  {
   "cell_type": "markdown",
   "metadata": {},
   "source": [
    "This one looks like a good candidate.  First, let's deal with the HTML:"
   ]
  },
  {
   "cell_type": "code",
   "execution_count": 19,
   "metadata": {
    "ExecuteTime": {
     "end_time": "2018-10-14T18:54:00.852617Z",
     "start_time": "2018-10-14T18:54:00.711941Z"
    }
   },
   "outputs": [
    {
     "data": {
      "text/plain": [
       "'108    \"The question, when one sees a movie this bad, is not necessarily, \\\\\"How did a movie this bad get made?\\\\\" or even, \\\\\"Why did I see this awful in the first place?\\\\\" but, \\\\\"What have I learned from this experience?\\\\\" Here\\'s what I learned:- Just because the \\\\\"rules\\\\\" of horror movies have been catalogued and satirized countless times in the last ten years doesn\\'t mean someone won\\'t go ahead and make a movie that uses ALL of them, without a shred of humor or irony.- If your movie has to be described as **loosely** based on the video game, you have script problems.- The black character may not always die first, but the Asian character does always know kung-fu.- While you may be proud that you figured out how to do the \\\\\"the Matrix effect\\\\\" on a budget, that doesn\\'t necessarily mean you should use it over and over again ad nausea.- Being Ron Howard\\'s brother does not guarantee choice roles.- Whenever a scene doesn\\'t edit together, just use some footage from the video game, no one will notice.- If your cousin\\'s rap-metal band offers to write your movie\\'s theme for free, politely decline.- Zombie movies are not about people killing zombies. They\\'re about zombies killing people, preferably in the most gruesome way possible. That\\'s what makes them SCARY.- White people who can pay $1600 to get to a rave deserve to die.- If you find an old book, it will tell you everything you need to know. Anything else you will figure out on your own two lines after someone asks, \\\\\"What was that?\\\\\" or, \\\\\"Where are we?\\\\\"- Bare breasts are not horror movie panacea.- A helicopter boom shot and a licensing deal with Sega magically transforms your movie from \\\\\"student film\\\\\" to \\\\\"major studio release\\\\\". Try it!- Just because you can name-drop all three \\\\\"Living Dead\\\\\" movies, that does not make you George Romero. Or even Paul W. S. Anderson.I\\'ve seen worse movies, but only because I\\'ve seen \\\\\"Mortal Kombat: Annihilation.\\\\\"\"'"
      ]
     },
     "execution_count": 19,
     "metadata": {},
     "output_type": "execute_result"
    }
   ],
   "source": [
    "clean = BeautifulSoup(messy)\n",
    "clean.get_text()"
   ]
  },
  {
   "cell_type": "markdown",
   "metadata": {},
   "source": [
    "Next we'll remove anything that's not a letter.  This is overly simplistic; however, as sometimes punctuation could imply sentiment.  We'll address this in later iterations."
   ]
  },
  {
   "cell_type": "code",
   "execution_count": 20,
   "metadata": {
    "ExecuteTime": {
     "end_time": "2018-10-14T18:54:00.993181Z",
     "start_time": "2018-10-14T18:54:00.852617Z"
    }
   },
   "outputs": [
    {
     "data": {
      "text/plain": [
       "'        The question  when one sees a movie this bad  is not necessarily    How did a movie this bad get made    or even    Why did I see this awful in the first place    but    What have I learned from this experience    Here s what I learned   Just because the   rules   of horror movies have been catalogued and satirized countless times in the last ten years doesn t mean someone won t go ahead and make a movie that uses ALL of them  without a shred of humor or irony   If your movie has to be described as   loosely   based on the video game  you have script problems   The black character may not always die first  but the Asian character does always know kung fu   While you may be proud that you figured out how to do the   the Matrix effect   on a budget  that doesn t necessarily mean you should use it over and over again ad nausea   Being Ron Howard s brother does not guarantee choice roles   Whenever a scene doesn t edit together  just use some footage from the video game  no one will notice   If your cousin s rap metal band offers to write your movie s theme for free  politely decline   Zombie movies are not about people killing zombies  They re about zombies killing people  preferably in the most gruesome way possible  That s what makes them SCARY   White people who can pay       to get to a rave deserve to die   If you find an old book  it will tell you everything you need to know  Anything else you will figure out on your own two lines after someone asks    What was that    or    Where are we     Bare breasts are not horror movie panacea   A helicopter boom shot and a licensing deal with Sega magically transforms your movie from   student film   to   major studio release    Try it   Just because you can name drop all three   Living Dead   movies  that does not make you George Romero  Or even Paul W  S  Anderson I ve seen worse movies  but only because I ve seen   Mortal Kombat  Annihilation    '"
      ]
     },
     "execution_count": 20,
     "metadata": {},
     "output_type": "execute_result"
    }
   ],
   "source": [
    "clean = re.sub(\"[^a-zA-Z]\", ' ', clean.get_text())\n",
    "clean"
   ]
  },
  {
   "cell_type": "markdown",
   "metadata": {},
   "source": [
    "This is already starting to look much better.  However, we have a number of \"words\" such as 've' and 't' floating around in the next now.  This is from the punctuation in words such as \"I've\" and \"won't\" being removed.  These will be taken care of when we remove the stop words below.\n",
    "\n",
    "Next let's convert everything to lower case and tokenize the the review:"
   ]
  },
  {
   "cell_type": "code",
   "execution_count": 21,
   "metadata": {
    "ExecuteTime": {
     "end_time": "2018-10-14T18:54:01.133839Z",
     "start_time": "2018-10-14T18:54:00.993181Z"
    }
   },
   "outputs": [
    {
     "name": "stdout",
     "output_type": "stream",
     "text": [
      "['the', 'question', 'when', 'one', 'sees', 'a', 'movie', 'this', 'bad', 'is', 'not', 'necessarily', 'how', 'did', 'a', 'movie', 'this', 'bad', 'get', 'made', 'or', 'even', 'why', 'did', 'i', 'see', 'this', 'awful', 'in', 'the', 'first', 'place', 'but', 'what', 'have', 'i', 'learned', 'from', 'this', 'experience', 'here', 's', 'what', 'i', 'learned', 'just', 'because', 'the', 'rules', 'of', 'horror', 'movies', 'have', 'been', 'catalogued', 'and', 'satirized', 'countless', 'times', 'in', 'the', 'last', 'ten', 'years', 'doesn', 't', 'mean', 'someone', 'won', 't', 'go', 'ahead', 'and', 'make', 'a', 'movie', 'that', 'uses', 'all', 'of', 'them', 'without', 'a', 'shred', 'of', 'humor', 'or', 'irony', 'if', 'your', 'movie', 'has', 'to', 'be', 'described', 'as', 'loosely', 'based', 'on', 'the', 'video', 'game', 'you', 'have', 'script', 'problems', 'the', 'black', 'character', 'may', 'not', 'always', 'die', 'first', 'but', 'the', 'asian', 'character', 'does', 'always', 'know', 'kung', 'fu', 'while', 'you', 'may', 'be', 'proud', 'that', 'you', 'figured', 'out', 'how', 'to', 'do', 'the', 'the', 'matrix', 'effect', 'on', 'a', 'budget', 'that', 'doesn', 't', 'necessarily', 'mean', 'you', 'should', 'use', 'it', 'over', 'and', 'over', 'again', 'ad', 'nausea', 'being', 'ron', 'howard', 's', 'brother', 'does', 'not', 'guarantee', 'choice', 'roles', 'whenever', 'a', 'scene', 'doesn', 't', 'edit', 'together', 'just', 'use', 'some', 'footage', 'from', 'the', 'video', 'game', 'no', 'one', 'will', 'notice', 'if', 'your', 'cousin', 's', 'rap', 'metal', 'band', 'offers', 'to', 'write', 'your', 'movie', 's', 'theme', 'for', 'free', 'politely', 'decline', 'zombie', 'movies', 'are', 'not', 'about', 'people', 'killing', 'zombies', 'they', 're', 'about', 'zombies', 'killing', 'people', 'preferably', 'in', 'the', 'most', 'gruesome', 'way', 'possible', 'that', 's', 'what', 'makes', 'them', 'scary', 'white', 'people', 'who', 'can', 'pay', 'to', 'get', 'to', 'a', 'rave', 'deserve', 'to', 'die', 'if', 'you', 'find', 'an', 'old', 'book', 'it', 'will', 'tell', 'you', 'everything', 'you', 'need', 'to', 'know', 'anything', 'else', 'you', 'will', 'figure', 'out', 'on', 'your', 'own', 'two', 'lines', 'after', 'someone', 'asks', 'what', 'was', 'that', 'or', 'where', 'are', 'we', 'bare', 'breasts', 'are', 'not', 'horror', 'movie', 'panacea', 'a', 'helicopter', 'boom', 'shot', 'and', 'a', 'licensing', 'deal', 'with', 'sega', 'magically', 'transforms', 'your', 'movie', 'from', 'student', 'film', 'to', 'major', 'studio', 'release', 'try', 'it', 'just', 'because', 'you', 'can', 'name', 'drop', 'all', 'three', 'living', 'dead', 'movies', 'that', 'does', 'not', 'make', 'you', 'george', 'romero', 'or', 'even', 'paul', 'w', 's', 'anderson', 'i', 've', 'seen', 'worse', 'movies', 'but', 'only', 'because', 'i', 've', 'seen', 'mortal', 'kombat', 'annihilation']\n"
     ]
    }
   ],
   "source": [
    "clean = clean.lower().split()\n",
    "print(list(clean))"
   ]
  },
  {
   "cell_type": "markdown",
   "metadata": {},
   "source": [
    "And we'll also remove any English stop words:"
   ]
  },
  {
   "cell_type": "code",
   "execution_count": 22,
   "metadata": {
    "ExecuteTime": {
     "end_time": "2018-10-14T18:54:01.383869Z",
     "start_time": "2018-10-14T18:54:01.133839Z"
    }
   },
   "outputs": [
    {
     "name": "stdout",
     "output_type": "stream",
     "text": [
      "['i', 'me', 'my', 'myself', 'we', 'our', 'ours', 'ourselves', 'you', \"you're\", \"you've\", \"you'll\", \"you'd\", 'your', 'yours', 'yourself', 'yourselves', 'he', 'him', 'his', 'himself', 'she', \"she's\", 'her', 'hers', 'herself', 'it', \"it's\", 'its', 'itself', 'they', 'them', 'their', 'theirs', 'themselves', 'what', 'which', 'who', 'whom', 'this', 'that', \"that'll\", 'these', 'those', 'am', 'is', 'are', 'was', 'were', 'be', 'been', 'being', 'have', 'has', 'had', 'having', 'do', 'does', 'did', 'doing', 'a', 'an', 'the', 'and', 'but', 'if', 'or', 'because', 'as', 'until', 'while', 'of', 'at', 'by', 'for', 'with', 'about', 'against', 'between', 'into', 'through', 'during', 'before', 'after', 'above', 'below', 'to', 'from', 'up', 'down', 'in', 'out', 'on', 'off', 'over', 'under', 'again', 'further', 'then', 'once', 'here', 'there', 'when', 'where', 'why', 'how', 'all', 'any', 'both', 'each', 'few', 'more', 'most', 'other', 'some', 'such', 'no', 'nor', 'not', 'only', 'own', 'same', 'so', 'than', 'too', 'very', 's', 't', 'can', 'will', 'just', 'don', \"don't\", 'should', \"should've\", 'now', 'd', 'll', 'm', 'o', 're', 've', 'y', 'ain', 'aren', \"aren't\", 'couldn', \"couldn't\", 'didn', \"didn't\", 'doesn', \"doesn't\", 'hadn', \"hadn't\", 'hasn', \"hasn't\", 'haven', \"haven't\", 'isn', \"isn't\", 'ma', 'mightn', \"mightn't\", 'mustn', \"mustn't\", 'needn', \"needn't\", 'shan', \"shan't\", 'shouldn', \"shouldn't\", 'wasn', \"wasn't\", 'weren', \"weren't\", 'won', \"won't\", 'wouldn', \"wouldn't\"]\n"
     ]
    }
   ],
   "source": [
    "# Examine the list of English stop words from the NLTK stop word dictionary\n",
    "print(stopwords.words(\"english\")) "
   ]
  },
  {
   "cell_type": "code",
   "execution_count": 23,
   "metadata": {
    "ExecuteTime": {
     "end_time": "2018-10-14T18:54:01.633941Z",
     "start_time": "2018-10-14T18:54:01.383869Z"
    }
   },
   "outputs": [
    {
     "name": "stdout",
     "output_type": "stream",
     "text": [
      "question one sees movie bad necessarily movie bad get made even see awful first place learned experience learned rules horror movies catalogued satirized countless times last ten years mean someone go ahead make movie uses without shred humor irony movie described loosely based video game script problems black character may always die first asian character always know kung fu may proud figured matrix effect budget necessarily mean use ad nausea ron howard brother guarantee choice roles whenever scene edit together use footage video game one notice cousin rap metal band offers write movie theme free politely decline zombie movies people killing zombies zombies killing people preferably gruesome way possible makes scary white people pay get rave deserve die find old book tell everything need know anything else figure two lines someone asks bare breasts horror movie panacea helicopter boom shot licensing deal sega magically transforms movie student film major studio release try name drop three living dead movies make george romero even paul w anderson seen worse movies seen mortal kombat annihilation\n"
     ]
    }
   ],
   "source": [
    "# Use a list comprehension to remove any stop words from the 'clean' review\n",
    "# Convert the stop words to a set object to optimize search speed\n",
    "clean = [x for x in clean if not x in set(stopwords.words(\"english\"))]\n",
    "\n",
    "# Review the final, clean review\n",
    "clean = \" \".join(clean)\n",
    "print(clean)"
   ]
  },
  {
   "cell_type": "markdown",
   "metadata": {},
   "source": [
    "Not bad!  This is definitely cleaner than what we started with.  Next we'll create a function that combines all the manual steps we performed above, and then feed the entire training set of review through it. "
   ]
  },
  {
   "cell_type": "code",
   "execution_count": 24,
   "metadata": {
    "ExecuteTime": {
     "end_time": "2018-10-14T18:54:01.805816Z",
     "start_time": "2018-10-14T18:54:01.633941Z"
    }
   },
   "outputs": [],
   "source": [
    "# Convert the stop words to a set\n",
    "stopWords = set(stopwords.words(\"english\"))\n",
    "\n",
    "# Clean IMDB review text\n",
    "def cleanReview(review, stopWords):\n",
    "    # Remove HTML\n",
    "    clean = BeautifulSoup(review)\n",
    "    \n",
    "    # Remove non-alpha chars\n",
    "    clean = re.sub(\"[^a-zA-Z]\", ' ', clean.get_text())\n",
    "    \n",
    "    # Convert to lower case and \"tokenize\"\n",
    "    clean = clean.lower().split()\n",
    "    \n",
    "    # Remove stop words\n",
    "    clean = [x for x in clean if not x in stopWords]\n",
    "\n",
    "    # Prepare final, cleaned review\n",
    "    clean = \" \".join(clean)\n",
    "    \n",
    "    # Return results\n",
    "    return clean\n",
    "    "
   ]
  },
  {
   "cell_type": "markdown",
   "metadata": {},
   "source": [
    "Let's go ahead and test the function on the \"messy\" review we've been using as our benchmark and ensure it works as expected:"
   ]
  },
  {
   "cell_type": "code",
   "execution_count": 25,
   "metadata": {
    "ExecuteTime": {
     "end_time": "2018-10-14T18:54:01.946308Z",
     "start_time": "2018-10-14T18:54:01.805816Z"
    }
   },
   "outputs": [
    {
     "name": "stdout",
     "output_type": "stream",
     "text": [
      "question one sees movie bad necessarily movie bad get made even see awful first place learned experience learned rules horror movies catalogued satirized countless times last ten years mean someone go ahead make movie uses without shred humor irony movie described loosely based video game script problems black character may always die first asian character always know kung fu may proud figured matrix effect budget necessarily mean use ad nausea ron howard brother guarantee choice roles whenever scene edit together use footage video game one notice cousin rap metal band offers write movie theme free politely decline zombie movies people killing zombies zombies killing people preferably gruesome way possible makes scary white people pay get rave deserve die find old book tell everything need know anything else figure two lines someone asks bare breasts horror movie panacea helicopter boom shot licensing deal sega magically transforms movie student film major studio release try name drop three living dead movies make george romero even paul w anderson seen worse movies seen mortal kombat annihilation\n"
     ]
    }
   ],
   "source": [
    "# Feed the \"messy\" review through the cleaning function\n",
    "cleanDef = cleanReview(df.loc[ df['id'] == '\"9170_1\"', 'review'].to_string(), stopWords)\n",
    "\n",
    "# Assert the function ouputs the same results as \"by hand\"\n",
    "assert(cleanDef == clean)\n",
    "\n",
    "# Examine the output\n",
    "print(cleanDef)"
   ]
  },
  {
   "cell_type": "markdown",
   "metadata": {},
   "source": [
    "And finally we'll run the entire set of training reviews through the cleaning function:"
   ]
  },
  {
   "cell_type": "code",
   "execution_count": 26,
   "metadata": {
    "ExecuteTime": {
     "end_time": "2018-10-14T18:54:17.176208Z",
     "start_time": "2018-10-14T18:54:01.946308Z"
    }
   },
   "outputs": [],
   "source": [
    "cleanReviews = [cleanReview(x, stopWords) for x in df['review']]\n",
    "assert(len(df) == (len(cleanReviews)))\n",
    "assert(clean == cleanReviews[108])"
   ]
  },
  {
   "cell_type": "markdown",
   "metadata": {},
   "source": [
    "# Bag-of-words feature creation"
   ]
  },
  {
   "cell_type": "markdown",
   "metadata": {},
   "source": [
    "One of the main goals of this write-up is the initial creating of a simple baseline model we can compare further efforts against.  We are going to do this via a [`bag-of-words model`](https://en.wikipedia.org/wiki/Bag-of-words_model) (BOW).\n",
    "\n",
    "In short the BOW doesn't care about grammar or word order.  It does; however, care about how many of each word appear in the target corpus.  \n",
    "\n",
    "> In practice, the Bag-of-words model is mainly used as a tool of feature generation. After transforming the text into a \"bag of words\", we can calculate various measures to characterize the text. The most common type of characteristics, or features calculated from the Bag-of-words model is term frequency, namely, the number of times a term appears in the text. [Source](https://en.wikipedia.org/wiki/Bag-of-words_model)\n",
    "\n",
    "So in the sample review '9170_1' we were examining above we notice that the word 'bad' appears twice, and the words 'worse' and 'awful' appear once.  It is highly likely that other reviews with a negative rating will also contain these words along with others such as 'hate', 'waste', etc.  In these cases the BOW decide that these reviews are similar and place them in the same 'bag' as review '9170_1' (i.e. a negative review classification).\n",
    "\n",
    "The Wikipedia article provides another example:\n",
    ">In Bayesian spam filtering, an e-mail message is modeled as an unordered collection of words selected from one of two probability distributions: one representing spam and one representing legitimate e-mail (\"ham\"). Imagine that there are two literal bags full of words. One bag is filled with words found in spam messages, and the other bag is filled with words found in legitimate e-mail. While any given word is likely to be found somewhere in both bags, the \"spam\" bag will contain spam-related words such as \"stock\", \"Viagra\", and \"buy\" much more frequently, while the \"ham\" bag will contain more words related to the user's friends or workplace.\n",
    "\n",
    ">To classify an e-mail message, the Bayesian spam filter assumes that the message is a pile of words that has been poured out randomly from one of the two bags, and uses Bayesian probability to determine which bag it is more likely to be.\n",
    "\n",
    "\n",
    "Scikit-Learn has a [CountVectorizer](http://scikit-learn.org/stable/modules/generated/sklearn.feature_extraction.text.CountVectorizer.html) module we can utilize to create the 'bags of words' numeric representation of the reviews suitable for the machine learning model."
   ]
  },
  {
   "cell_type": "code",
   "execution_count": 27,
   "metadata": {
    "ExecuteTime": {
     "end_time": "2018-10-14T18:54:21.846895Z",
     "start_time": "2018-10-14T18:54:17.176208Z"
    }
   },
   "outputs": [
    {
     "name": "stdout",
     "output_type": "stream",
     "text": [
      "Features shape:  (25000, 5000)\n"
     ]
    }
   ],
   "source": [
    "# Utilize the defaults for the object instantiation other than max_features\n",
    "vec = CountVectorizer(max_features = 5000)\n",
    "\n",
    "# Similar to how almost every other Scikit-Learn objects works we'll call the fit() and transform() methods\n",
    "features = vec.fit_transform(cleanReviews)\n",
    "\n",
    "# And finally we'll convert to a np.array\n",
    "features = features.toarray()\n",
    "\n",
    "print(\"Features shape: \", features.shape)"
   ]
  },
  {
   "cell_type": "markdown",
   "metadata": {},
   "source": [
    "Let's examine the first 30 feature entries for review '9170_1'"
   ]
  },
  {
   "cell_type": "code",
   "execution_count": 28,
   "metadata": {
    "ExecuteTime": {
     "end_time": "2018-10-14T18:54:21.987455Z",
     "start_time": "2018-10-14T18:54:21.846895Z"
    }
   },
   "outputs": [
    {
     "name": "stdout",
     "output_type": "stream",
     "text": [
      "[0 0 0 0 0 0 0 0 0 0 0 0 0 0 0 0 0 0 0 0 0 0 0 0 0 0 0 0 0 0]\n"
     ]
    }
   ],
   "source": [
    "print(features[108,0:30])"
   ]
  },
  {
   "cell_type": "markdown",
   "metadata": {},
   "source": [
    "We noticed above that the word 'bad' appeared twice in the review.  Let's confirm the sparse feature matrix (i.e. bag of words) captured this:"
   ]
  },
  {
   "cell_type": "code",
   "execution_count": 29,
   "metadata": {
    "ExecuteTime": {
     "end_time": "2018-10-14T18:54:22.143706Z",
     "start_time": "2018-10-14T18:54:21.987455Z"
    }
   },
   "outputs": [
    {
     "name": "stdout",
     "output_type": "stream",
     "text": [
      "['abandoned', 'abc', 'abilities', 'ability', 'able', 'abraham', 'absence', 'absent', 'absolute', 'absolutely']\n"
     ]
    }
   ],
   "source": [
    "# Take a look at the first 10 words in the vocabulary\n",
    "vocab = vec.get_feature_names()\n",
    "print(vocab[:10])"
   ]
  },
  {
   "cell_type": "code",
   "execution_count": 30,
   "metadata": {
    "ExecuteTime": {
     "end_time": "2018-10-14T18:54:22.284466Z",
     "start_time": "2018-10-14T18:54:22.143706Z"
    }
   },
   "outputs": [
    {
     "data": {
      "text/plain": [
       "323"
      ]
     },
     "execution_count": 30,
     "metadata": {},
     "output_type": "execute_result"
    }
   ],
   "source": [
    "# Which index position is 'bad' in?\n",
    "vocab.index('bad')"
   ]
  },
  {
   "cell_type": "code",
   "execution_count": 31,
   "metadata": {
    "ExecuteTime": {
     "end_time": "2018-10-14T18:54:22.426252Z",
     "start_time": "2018-10-14T18:54:22.284466Z"
    }
   },
   "outputs": [
    {
     "data": {
      "text/plain": [
       "2"
      ]
     },
     "execution_count": 31,
     "metadata": {},
     "output_type": "execute_result"
    }
   ],
   "source": [
    "# How many times did bad appear in review '9170_1'?\n",
    "features[108,323]"
   ]
  },
  {
   "cell_type": "markdown",
   "metadata": {},
   "source": [
    "So everything appears to check out correctly.  Let's review the most and least occurring words in the 'bag', and then we'll move on to model implementation."
   ]
  },
  {
   "cell_type": "code",
   "execution_count": 32,
   "metadata": {
    "ExecuteTime": {
     "end_time": "2018-10-14T18:54:24.082503Z",
     "start_time": "2018-10-14T18:54:22.426252Z"
    }
   },
   "outputs": [],
   "source": [
    "_df = pd.DataFrame(data = features, columns = vocab).sum()\n",
    "_df.sort_values(ascending = False, inplace = True)"
   ]
  },
  {
   "cell_type": "code",
   "execution_count": 33,
   "metadata": {
    "ExecuteTime": {
     "end_time": "2018-10-14T18:54:24.223141Z",
     "start_time": "2018-10-14T18:54:24.082503Z"
    }
   },
   "outputs": [
    {
     "name": "stdout",
     "output_type": "stream",
     "text": [
      "Top 10:\n",
      "\n",
      "movie     44031\n",
      "film      40147\n",
      "one       26788\n",
      "like      20274\n",
      "good      15140\n",
      "time      12724\n",
      "even      12646\n",
      "would     12436\n",
      "story     11983\n",
      "really    11736\n",
      "dtype: int64\n"
     ]
    }
   ],
   "source": [
    "print(\"Top 10:\\n\")\n",
    "print(_df.head(10))"
   ]
  },
  {
   "cell_type": "code",
   "execution_count": 34,
   "metadata": {
    "ExecuteTime": {
     "end_time": "2018-10-14T18:54:24.363785Z",
     "start_time": "2018-10-14T18:54:24.223141Z"
    }
   },
   "outputs": [
    {
     "name": "stdout",
     "output_type": "stream",
     "text": [
      "Bottom 10:\n",
      "\n",
      "skull       78\n",
      "sopranos    78\n",
      "premiere    78\n",
      "bunny       78\n",
      "flair       78\n",
      "fishing     78\n",
      "awhile      78\n",
      "stumbled    78\n",
      "amused      78\n",
      "cream       78\n",
      "dtype: int64\n"
     ]
    }
   ],
   "source": [
    "print(\"Bottom 10:\\n\")\n",
    "print(_df.tail(10))"
   ]
  },
  {
   "cell_type": "markdown",
   "metadata": {},
   "source": [
    "Yes, apparently the word 'cream' was used 78 times in the review corpus..."
   ]
  },
  {
   "cell_type": "markdown",
   "metadata": {},
   "source": [
    "# Baseline Model development"
   ]
  },
  {
   "cell_type": "markdown",
   "metadata": {},
   "source": [
    "We are finally ready to develop the baseline model on the data we've explored, cleaned, and processed.  Because the IMDB data set doesn't include a validation set we'll create one from a portion of the training data.  The processes is similar to our work in previous write-ups such as the [Iris classifier](.//Model-01.ipynb)."
   ]
  },
  {
   "cell_type": "markdown",
   "metadata": {},
   "source": [
    "## Helper functions"
   ]
  },
  {
   "cell_type": "code",
   "execution_count": 35,
   "metadata": {
    "ExecuteTime": {
     "end_time": "2018-10-14T18:54:24.520035Z",
     "start_time": "2018-10-14T18:54:24.363785Z"
    }
   },
   "outputs": [],
   "source": [
    "def makeRange(start, stop, step, multi, dec):\n",
    "    vals = []\n",
    "    for i in range(start, stop, step):\n",
    "        vals.append(np.round(multi * i, decimals = dec))\n",
    "        \n",
    "    return vals"
   ]
  },
  {
   "cell_type": "code",
   "execution_count": 39,
   "metadata": {
    "ExecuteTime": {
     "end_time": "2018-10-14T18:54:54.849069Z",
     "start_time": "2018-10-14T18:54:54.677162Z"
    }
   },
   "outputs": [],
   "source": [
    "def tuneModel(modelName, modelObj, params, returnModel = False, showSummary = True):\n",
    "    # Init vars and params\n",
    "    featureResults = {}\n",
    "    featureFolds = 10\n",
    "    featureSeed = 10\n",
    "\n",
    "    # Use accuracy since this is a classification problem\n",
    "    score = 'accuracy'\n",
    "\n",
    "    # Create a Pandas DF to hold all our spiffy results\n",
    "    featureDF = pd.DataFrame(columns = ['Model', 'Accuracy', 'Best Params'])\n",
    "\n",
    "    # Create feature union\n",
    "    features = []\n",
    "    # The independant variables (i.e. word counts) are already scaled; no need to do it again \n",
    "    features.append(('Scaler', StandardScaler()))\n",
    "    featureUnion = FeatureUnion(features)\n",
    "\n",
    "    # Search for the best combination of parameters\n",
    "    featureResults = GridSearchCV(\n",
    "        Pipeline(\n",
    "            steps = [\n",
    "                ('FeatureUnion', featureUnion),\n",
    "                (modelName, modelObj)\n",
    "        ]),\n",
    "        param_grid = params,\n",
    "        scoring = score,\n",
    "        cv = KFold(n_splits = featureFolds, random_state = featureSeed)      \n",
    "    ).fit(xTrain, yTrain)\n",
    "\n",
    "    featureDF.loc[len(featureDF)] = list([\n",
    "        modelName, \n",
    "        featureResults.best_score_,\n",
    "        featureResults.best_params_,\n",
    "    ])\n",
    "\n",
    "    if showSummary:\n",
    "        set_option('display.max_colwidth', -1)\n",
    "        display(featureDF)\n",
    "    \n",
    "    if returnModel:\n",
    "        return featureResults"
   ]
  },
  {
   "cell_type": "markdown",
   "metadata": {},
   "source": [
    "## Create validation data set"
   ]
  },
  {
   "cell_type": "code",
   "execution_count": 37,
   "metadata": {
    "ExecuteTime": {
     "end_time": "2018-10-14T18:54:25.464713Z",
     "start_time": "2018-10-14T18:54:24.691993Z"
    }
   },
   "outputs": [
    {
     "name": "stdout",
     "output_type": "stream",
     "text": [
      "x.shape =  (25000, 5000)\n",
      "y.shape =  (25000,)\n",
      "--------\n",
      "xTrain.shape =  (20000, 5000)\n",
      "yTrain.shape =  (20000,)\n",
      "xVal.shape =  (5000, 5000)\n",
      "yVal.shape =  (5000,)\n"
     ]
    }
   ],
   "source": [
    "# Seperate X and Y values\n",
    "x = features\n",
    "y = df[\"sentiment\"]\n",
    "\n",
    "print(\"x.shape = \", x.shape)\n",
    "print(\"y.shape = \", y.shape)\n",
    "\n",
    "# Split out validation set -- 80/20 split\n",
    "valSize = 0.2\n",
    "\n",
    "xTrain, xVal, yTrain, yVal = train_test_split(x, y, test_size = valSize, random_state = seed)\n",
    "\n",
    "print(\"--------\")\n",
    "print(\"xTrain.shape = \", xTrain.shape)\n",
    "print(\"yTrain.shape = \", yTrain.shape)\n",
    "print(\"xVal.shape = \", xVal.shape)\n",
    "print(\"yVal.shape = \", yVal.shape)"
   ]
  },
  {
   "cell_type": "markdown",
   "metadata": {},
   "source": [
    "## Initial pass - Non-ensemble methods\n",
    "\n",
    "We'll apply a number of non-ensemble algorithms to the data set to start with.  Scikit-learn makes this very easy to do along with the fact that the data set isn't overly large, and we've already done similar work in previous write-ups we can 'borrow.'\n",
    "\n",
    "*Note:  The code block below took several hours on my machine, so you may want to run this overnight.*"
   ]
  },
  {
   "cell_type": "code",
   "execution_count": 32,
   "metadata": {
    "ExecuteTime": {
     "end_time": "2018-10-13T15:51:21.957448Z",
     "start_time": "2018-10-13T07:27:16.251384Z"
    },
    "deletable": false,
    "editable": false,
    "run_control": {
     "frozen": true
    }
   },
   "outputs": [
    {
     "name": "stdout",
     "output_type": "stream",
     "text": [
      "Training LR ....\n",
      "Training LDA ....\n",
      "Training KNN ....\n",
      "Training CART ....\n",
      "Training NB ....\n",
      "Training SVM ....\n"
     ]
    },
    {
     "data": {
      "text/html": [
       "<div>\n",
       "<style scoped>\n",
       "    .dataframe tbody tr th:only-of-type {\n",
       "        vertical-align: middle;\n",
       "    }\n",
       "\n",
       "    .dataframe tbody tr th {\n",
       "        vertical-align: top;\n",
       "    }\n",
       "\n",
       "    .dataframe thead th {\n",
       "        text-align: right;\n",
       "    }\n",
       "</style>\n",
       "<table border=\"1\" class=\"dataframe\">\n",
       "  <thead>\n",
       "    <tr style=\"text-align: right;\">\n",
       "      <th></th>\n",
       "      <th>Model</th>\n",
       "      <th>Accuracy</th>\n",
       "      <th>StdDev</th>\n",
       "    </tr>\n",
       "  </thead>\n",
       "  <tbody>\n",
       "    <tr>\n",
       "      <th>0</th>\n",
       "      <td>LR</td>\n",
       "      <td>0.85565</td>\n",
       "      <td>0.008100</td>\n",
       "    </tr>\n",
       "    <tr>\n",
       "      <th>5</th>\n",
       "      <td>SVM</td>\n",
       "      <td>0.83530</td>\n",
       "      <td>0.008741</td>\n",
       "    </tr>\n",
       "    <tr>\n",
       "      <th>1</th>\n",
       "      <td>LDA</td>\n",
       "      <td>0.82580</td>\n",
       "      <td>0.008718</td>\n",
       "    </tr>\n",
       "    <tr>\n",
       "      <th>4</th>\n",
       "      <td>NB</td>\n",
       "      <td>0.72740</td>\n",
       "      <td>0.010644</td>\n",
       "    </tr>\n",
       "    <tr>\n",
       "      <th>3</th>\n",
       "      <td>CART</td>\n",
       "      <td>0.70795</td>\n",
       "      <td>0.011534</td>\n",
       "    </tr>\n",
       "    <tr>\n",
       "      <th>2</th>\n",
       "      <td>KNN</td>\n",
       "      <td>0.62465</td>\n",
       "      <td>0.012921</td>\n",
       "    </tr>\n",
       "  </tbody>\n",
       "</table>\n",
       "</div>"
      ],
      "text/plain": [
       "  Model  Accuracy    StdDev\n",
       "0  LR    0.85565   0.008100\n",
       "5  SVM   0.83530   0.008741\n",
       "1  LDA   0.82580   0.008718\n",
       "4  NB    0.72740   0.010644\n",
       "3  CART  0.70795   0.011534\n",
       "2  KNN   0.62465   0.012921"
      ]
     },
     "execution_count": 32,
     "metadata": {},
     "output_type": "execute_result"
    }
   ],
   "source": [
    "# Init vars\n",
    "folds = 10\n",
    "seed = 10\n",
    "models = []\n",
    "results = {}\n",
    "\n",
    "# Use accuracy since this is a classification\n",
    "score = 'accuracy'\n",
    "\n",
    "# Instantiate model objects\n",
    "models.append(('LR', LogisticRegression()))\n",
    "models.append(('LDA', LinearDiscriminantAnalysis()))\n",
    "models.append(('KNN', KNeighborsClassifier()))\n",
    "models.append(('CART', DecisionTreeClassifier()))\n",
    "models.append(('NB', GaussianNB()))\n",
    "models.append(('SVM', SVC()))\n",
    "\n",
    "# Create a Pandas DF to hold all our spiffy results\n",
    "_df = pd.DataFrame(columns = ['Model', 'Accuracy', 'StdDev'])\n",
    "\n",
    "# Run the models\n",
    "for modelName, model in models:\n",
    "    print(\"Training\", modelName, \"....\")\n",
    "    # Implement K-fold cross validation where K = 10\n",
    "    kFold = KFold(n_splits = folds, random_state = seed)\n",
    "    results[modelName] = cross_val_score(model, xTrain, yTrain, cv = kFold, scoring = score)\n",
    "    _df.loc[len(_df)] = list([modelName, results[modelName].mean(), results[modelName].std()])\n",
    "\n",
    "# Print results sorted by Mean desc, StdDev asc, Model asc\n",
    "_df.sort_values(by = ['Accuracy', 'StdDev', 'Model'], ascending = [False, True, True])"
   ]
  },
  {
   "cell_type": "code",
   "execution_count": 35,
   "metadata": {
    "ExecuteTime": {
     "end_time": "2018-10-13T16:18:01.089035Z",
     "start_time": "2018-10-13T16:18:00.719047Z"
    },
    "deletable": false,
    "editable": false,
    "run_control": {
     "frozen": true
    }
   },
   "outputs": [
    {
     "data": {
      "image/png": "[encoded data removed]",
      "text/plain": [
       "<matplotlib.figure.Figure at 0x4b47acab38>"
      ]
     },
     "metadata": {},
     "output_type": "display_data"
    }
   ],
   "source": [
    "figure = plt.figure(figsize = (8,6))\n",
    "figure.suptitle(\"Model Results\")\n",
    "axis = figure.add_subplot(111)\n",
    "plt.boxplot(results.values())\n",
    "axis.set_xticklabels(results.keys())\n",
    "plt.show()"
   ]
  },
  {
   "cell_type": "markdown",
   "metadata": {},
   "source": [
    "The clear winners were Logistic Regression, Support Vector Machines, and Linear Discriminant Analysis in that order.  We can spend some time parameter tuning to see if we can achieve additional results:"
   ]
  },
  {
   "cell_type": "markdown",
   "metadata": {},
   "source": [
    "### LR Tuning"
   ]
  },
  {
   "cell_type": "code",
   "execution_count": 46,
   "metadata": {
    "ExecuteTime": {
     "end_time": "2018-10-15T10:20:34.167223Z",
     "start_time": "2018-10-14T18:57:25.129145Z"
    }
   },
   "outputs": [
    {
     "data": {
      "text/html": [
       "<div>\n",
       "<style scoped>\n",
       "    .dataframe tbody tr th:only-of-type {\n",
       "        vertical-align: middle;\n",
       "    }\n",
       "\n",
       "    .dataframe tbody tr th {\n",
       "        vertical-align: top;\n",
       "    }\n",
       "\n",
       "    .dataframe thead th {\n",
       "        text-align: right;\n",
       "    }\n",
       "</style>\n",
       "<table border=\"1\" class=\"dataframe\">\n",
       "  <thead>\n",
       "    <tr style=\"text-align: right;\">\n",
       "      <th></th>\n",
       "      <th>Model</th>\n",
       "      <th>Accuracy</th>\n",
       "      <th>Best Params</th>\n",
       "    </tr>\n",
       "  </thead>\n",
       "  <tbody>\n",
       "    <tr>\n",
       "      <th>0</th>\n",
       "      <td>LR</td>\n",
       "      <td>0.86345</td>\n",
       "      <td>{'LR__C': 0.1, 'LR__penalty': 'l1'}</td>\n",
       "    </tr>\n",
       "  </tbody>\n",
       "</table>\n",
       "</div>"
      ],
      "text/plain": [
       "  Model  Accuracy                          Best Params\n",
       "0  LR    0.86345   {'LR__C': 0.1, 'LR__penalty': 'l1'}"
      ]
     },
     "metadata": {},
     "output_type": "display_data"
    }
   ],
   "source": [
    "modelName = \"LR\"\n",
    "modelObj =  LogisticRegression()\n",
    "params = {\n",
    "    'LR__penalty' : [ 'l1', 'l2' ],\n",
    "    'LR__C' : makeRange(1, 21, 1, 0.1, 1),\n",
    "}\n",
    "\n",
    "tuneModel(modelName, modelObj, params)"
   ]
  },
  {
   "cell_type": "markdown",
   "metadata": {},
   "source": [
    "## Initial pass - Ensemble methods\n",
    "\n",
    "*Note:  The code block below took several hours on my machine, so you may want to run this overnight.*"
   ]
  },
  {
   "cell_type": "code",
   "execution_count": 37,
   "metadata": {
    "ExecuteTime": {
     "end_time": "2018-10-13T19:11:15.597438Z",
     "start_time": "2018-10-13T16:22:49.920750Z"
    },
    "deletable": false,
    "editable": false,
    "run_control": {
     "frozen": true
    }
   },
   "outputs": [
    {
     "name": "stdout",
     "output_type": "stream",
     "text": [
      "Training AB ....\n",
      "Training GBM ....\n",
      "Training RF ....\n",
      "Training ET ....\n"
     ]
    },
    {
     "data": {
      "text/html": [
       "<div>\n",
       "<style scoped>\n",
       "    .dataframe tbody tr th:only-of-type {\n",
       "        vertical-align: middle;\n",
       "    }\n",
       "\n",
       "    .dataframe tbody tr th {\n",
       "        vertical-align: top;\n",
       "    }\n",
       "\n",
       "    .dataframe thead th {\n",
       "        text-align: right;\n",
       "    }\n",
       "</style>\n",
       "<table border=\"1\" class=\"dataframe\">\n",
       "  <thead>\n",
       "    <tr style=\"text-align: right;\">\n",
       "      <th></th>\n",
       "      <th>Model</th>\n",
       "      <th>Accuracy</th>\n",
       "      <th>StdDev</th>\n",
       "    </tr>\n",
       "  </thead>\n",
       "  <tbody>\n",
       "    <tr>\n",
       "      <th>1</th>\n",
       "      <td>GBM</td>\n",
       "      <td>0.80570</td>\n",
       "      <td>0.010964</td>\n",
       "    </tr>\n",
       "    <tr>\n",
       "      <th>0</th>\n",
       "      <td>AB</td>\n",
       "      <td>0.80100</td>\n",
       "      <td>0.008523</td>\n",
       "    </tr>\n",
       "    <tr>\n",
       "      <th>3</th>\n",
       "      <td>ET</td>\n",
       "      <td>0.77455</td>\n",
       "      <td>0.009242</td>\n",
       "    </tr>\n",
       "    <tr>\n",
       "      <th>2</th>\n",
       "      <td>RF</td>\n",
       "      <td>0.76760</td>\n",
       "      <td>0.005224</td>\n",
       "    </tr>\n",
       "  </tbody>\n",
       "</table>\n",
       "</div>"
      ],
      "text/plain": [
       "  Model  Accuracy    StdDev\n",
       "1  GBM   0.80570   0.010964\n",
       "0  AB    0.80100   0.008523\n",
       "3  ET    0.77455   0.009242\n",
       "2  RF    0.76760   0.005224"
      ]
     },
     "metadata": {},
     "output_type": "display_data"
    }
   ],
   "source": [
    "# Init vars and params\n",
    "eModels = []\n",
    "eResults = {}\n",
    "eFolds = 10\n",
    "eSeed = 10\n",
    "\n",
    "# Use accuracy since this is a classification problem\n",
    "eScore = 'accuracy'\n",
    "\n",
    "# Create a Pandas DF to hold all our spiffy results\n",
    "eDF = pd.DataFrame(columns = ['Model', 'Accuracy', 'StdDev'])\n",
    "\n",
    "# Create the scaled model objects\n",
    "eModels.append(('AB', AdaBoostClassifier()))\n",
    "eModels.append(('GBM', GradientBoostingClassifier()))\n",
    "eModels.append(('RF', RandomForestClassifier()))\n",
    "eModels.append(('ET', ExtraTreesClassifier()))\n",
    "\n",
    "# Run the models\n",
    "for modelName, model in eModels:\n",
    "    print(\"Training\", modelName, \"....\")\n",
    "    # Implement K-fold cross validation where K = 10\n",
    "    kFold = KFold(n_splits = eFolds, random_state = eSeed)\n",
    "    eResults[modelName] = cross_val_score(model, xTrain, yTrain, cv = kFold, scoring = eScore)\n",
    "    eDF.loc[len(eDF)] = list([modelName, eResults[modelName].mean(), eResults[modelName].std()])\n",
    "\n",
    "# Print results sorted by Mean desc, StdDev asc, Model asc\n",
    "display(eDF.sort_values(by = ['Accuracy', 'StdDev', 'Model'], ascending = [False, True, True]))"
   ]
  },
  {
   "cell_type": "code",
   "execution_count": 38,
   "metadata": {
    "ExecuteTime": {
     "end_time": "2018-10-13T19:11:15.938455Z",
     "start_time": "2018-10-13T19:11:15.601407Z"
    },
    "deletable": false,
    "editable": false,
    "run_control": {
     "frozen": true
    }
   },
   "outputs": [
    {
     "data": {
      "image/png": "[encoded data removed]",
      "text/plain": [
       "<matplotlib.figure.Figure at 0x4b4770ad68>"
      ]
     },
     "metadata": {},
     "output_type": "display_data"
    }
   ],
   "source": [
    "figure = plt.figure(figsize = (8,6))\n",
    "figure.suptitle(\"Ensemble Results\")\n",
    "axis = figure.add_subplot(111)\n",
    "plt.boxplot(eResults.values())\n",
    "axis.set_xticklabels(eResults.keys())\n",
    "plt.show()"
   ]
  },
  {
   "cell_type": "code",
   "execution_count": null,
   "metadata": {},
   "outputs": [],
   "source": []
  },
  {
   "cell_type": "code",
   "execution_count": null,
   "metadata": {},
   "outputs": [],
   "source": []
  },
  {
   "cell_type": "code",
   "execution_count": 39,
   "metadata": {
    "ExecuteTime": {
     "end_time": "2018-10-13T20:00:54.866936Z",
     "start_time": "2018-10-13T19:45:53.889385Z"
    }
   },
   "outputs": [
    {
     "data": {
      "text/html": [
       "<div>\n",
       "<style scoped>\n",
       "    .dataframe tbody tr th:only-of-type {\n",
       "        vertical-align: middle;\n",
       "    }\n",
       "\n",
       "    .dataframe tbody tr th {\n",
       "        vertical-align: top;\n",
       "    }\n",
       "\n",
       "    .dataframe thead th {\n",
       "        text-align: right;\n",
       "    }\n",
       "</style>\n",
       "<table border=\"1\" class=\"dataframe\">\n",
       "  <thead>\n",
       "    <tr style=\"text-align: right;\">\n",
       "      <th></th>\n",
       "      <th>Model</th>\n",
       "      <th>Accuracy</th>\n",
       "      <th>StdDev</th>\n",
       "    </tr>\n",
       "  </thead>\n",
       "  <tbody>\n",
       "    <tr>\n",
       "      <th>0</th>\n",
       "      <td>RandomForestClassifier</td>\n",
       "      <td>0.8404</td>\n",
       "      <td>0.008752</td>\n",
       "    </tr>\n",
       "  </tbody>\n",
       "</table>\n",
       "</div>"
      ],
      "text/plain": [
       "                    Model  Accuracy    StdDev\n",
       "0  RandomForestClassifier  0.8404    0.008752"
      ]
     },
     "metadata": {},
     "output_type": "display_data"
    }
   ],
   "source": [
    "_DF = pd.DataFrame(columns = ['Model', 'Accuracy', 'StdDev'])\n",
    "_Results = {}\n",
    "_model = RandomForestClassifier(n_estimators = 100)\n",
    "\n",
    "kFold = KFold(n_splits = eFolds, random_state = eSeed)\n",
    "_Results[modelName] = cross_val_score(_model, xTrain, yTrain, cv = kFold, scoring = eScore)\n",
    "\n",
    "_DF.loc[len(_DF)] = list(['RandomForestClassifier', _Results[modelName].mean(), _Results[modelName].std()])\n",
    "display(_DF.sort_values(by = ['Accuracy', 'StdDev', 'Model'], ascending = [False, True, True]))"
   ]
  },
  {
   "cell_type": "code",
   "execution_count": null,
   "metadata": {},
   "outputs": [],
   "source": []
  }
 ],
 "metadata": {
  "kernelspec": {
   "display_name": "Python 3",
   "language": "python",
   "name": "python3"
  },
  "language_info": {
   "codemirror_mode": {
    "name": "ipython",
    "version": 3
   },
   "file_extension": ".py",
   "mimetype": "text/x-python",
   "name": "python",
   "nbconvert_exporter": "python",
   "pygments_lexer": "ipython3",
   "version": "3.6.4"
  },
  "toc": {
   "nav_menu": {},
   "number_sections": true,
   "sideBar": true,
   "skip_h1_title": false,
   "title_cell": "Table of Contents",
   "title_sidebar": "Contents",
   "toc_cell": true,
   "toc_position": {},
   "toc_section_display": true,
   "toc_window_display": false
  }
 },
 "nbformat": 4,
 "nbformat_minor": 2
}
