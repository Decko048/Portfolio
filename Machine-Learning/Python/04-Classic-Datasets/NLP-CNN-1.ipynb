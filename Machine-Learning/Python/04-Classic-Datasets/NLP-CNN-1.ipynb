{
 "cells": [
  {
   "cell_type": "markdown",
   "metadata": {
    "toc": true
   },
   "source": [
    "<h1>Table of Contents<span class=\"tocSkip\"></span></h1>\n",
    "<div class=\"toc\"><ul class=\"toc-item\"><li><span><a href=\"#Import-libraries\" data-toc-modified-id=\"Import-libraries-1\"><span class=\"toc-item-num\">1&nbsp;&nbsp;</span>Import libraries</a></span></li><li><span><a href=\"#Load-the-data\" data-toc-modified-id=\"Load-the-data-2\"><span class=\"toc-item-num\">2&nbsp;&nbsp;</span>Load the data</a></span></li><li><span><a href=\"#Tokenize-and-numeralize-the-data\" data-toc-modified-id=\"Tokenize-and-numeralize-the-data-3\"><span class=\"toc-item-num\">3&nbsp;&nbsp;</span>Tokenize and numeralize the data</a></span></li><li><span><a href=\"#Creating-embeddings-utilizing-GloVe\" data-toc-modified-id=\"Creating-embeddings-utilizing-GloVe-4\"><span class=\"toc-item-num\">4&nbsp;&nbsp;</span>Creating embeddings utilizing GloVe</a></span></li><li><span><a href=\"#Split-data-into-training-and-validation-sets\" data-toc-modified-id=\"Split-data-into-training-and-validation-sets-5\"><span class=\"toc-item-num\">5&nbsp;&nbsp;</span>Split data into training and validation sets</a></span></li><li><span><a href=\"#Baseline-CNN\" data-toc-modified-id=\"Baseline-CNN-6\"><span class=\"toc-item-num\">6&nbsp;&nbsp;</span>Baseline CNN</a></span><ul class=\"toc-item\"><li><span><a href=\"#Create-and-train-the-model\" data-toc-modified-id=\"Create-and-train-the-model-6.1\"><span class=\"toc-item-num\">6.1&nbsp;&nbsp;</span>Create and train the model</a></span></li><li><span><a href=\"#Examine-metrics\" data-toc-modified-id=\"Examine-metrics-6.2\"><span class=\"toc-item-num\">6.2&nbsp;&nbsp;</span>Examine metrics</a></span></li><li><span><a href=\"#Submit-results-to-Kaggle-for-scoring\" data-toc-modified-id=\"Submit-results-to-Kaggle-for-scoring-6.3\"><span class=\"toc-item-num\">6.3&nbsp;&nbsp;</span>Submit results to Kaggle for scoring</a></span></li><li><span><a href=\"#Results\" data-toc-modified-id=\"Results-6.4\"><span class=\"toc-item-num\">6.4&nbsp;&nbsp;</span>Results</a></span></li></ul></li></ul></div>"
   ]
  },
  {
   "cell_type": "markdown",
   "metadata": {
    "ExecuteTime": {
     "start_time": "2018-12-26T19:40:06.438Z"
    }
   },
   "source": [
    "<h1>IMDB Movie Review Sentiment Classification</h1>"
   ]
  },
  {
   "cell_type": "markdown",
   "metadata": {},
   "source": [
    "<img style=\"float: left; margin-right: 15px; width: 30%; height: 30%;\" src=\"images/imdb.jpg\" />"
   ]
  },
  {
   "cell_type": "markdown",
   "metadata": {},
   "source": [
    "# Purpose\n",
    "\n",
    "The overall goal of this set of write-ups is to explore a number of machine learning algorithms utilizing natural language processing (NLP) to classify sentiment IMDB movie reviews.\n",
    "\n",
    "The specific goals of this write-up include:\n",
    "1. Perform tokenization and numeralization on the IMDb movie review text utilizing [Keras libraries](https://keras.io/preprocessing/text/)\n",
    "3. Create the embedding layer utilizing the weights from the pre-trained [GloVe word vectors](https://nlp.stanford.edu/projects/glove/)\n",
    "3. Tune and train a number of [convolutional neural networks](https://en.wikipedia.org/wiki/Convolutional_neural_network) (CNN) on the movie review corpus \n",
    "4. Determine if utilizing a CNN improves our ability to correctly classify movie review sentiment\n",
    "\n",
    "This series of write-ups is inspired by the Kaggle [\n",
    "Bag of Words Meets Bags of Popcorn](https://www.kaggle.com/c/word2vec-nlp-tutorial) competition.\n",
    "\n",
    "Dataset source:  [IMDB Movie Reviews](https://www.kaggle.com/c/word2vec-nlp-tutorial/data)"
   ]
  },
  {
   "cell_type": "markdown",
   "metadata": {
    "ExecuteTime": {
     "start_time": "2018-12-26T19:52:31.619Z"
    }
   },
   "source": [
    "# Process\n",
    "\n",
    "Previously covered [here](./Model-06.ipynb#Process)."
   ]
  },
  {
   "cell_type": "markdown",
   "metadata": {},
   "source": [
    "# Configure notebook, import libraries, and import dataset"
   ]
  },
  {
   "cell_type": "markdown",
   "metadata": {},
   "source": [
    "## Import libraries"
   ]
  },
  {
   "cell_type": "code",
   "execution_count": 76,
   "metadata": {
    "ExecuteTime": {
     "end_time": "2018-12-31T18:57:54.131516Z",
     "start_time": "2018-12-31T18:57:54.121516Z"
    }
   },
   "outputs": [],
   "source": [
    "import os\n",
    "import csv\n",
    "import h5py\n",
    "import pickle\n",
    "\n",
    "import pandas as pd\n",
    "import numpy as np\n",
    "import matplotlib.pyplot as plt\n",
    "\n",
    "from sklearn.model_selection import train_test_split\n",
    "\n",
    "from keras.preprocessing.text import Tokenizer\n",
    "from keras.preprocessing.sequence import pad_sequences\n",
    "from keras.models import Sequential, Model\n",
    "from keras.layers import Dense, Activation, Flatten, Embedding, Dropout, Input, Concatenate\n",
    "from keras.layers import BatchNormalization, Flatten, Conv1D, MaxPooling1D, GlobalMaxPooling1D\n",
    "from keras.optimizers import Adam, RMSprop, Nadam\n",
    "from keras.callbacks import EarlyStopping, ModelCheckpoint, ReduceLROnPlateau\n",
    "from keras import regularizers\n",
    "from keras.constraints import MaxNorm    # ex: kernel_constraint=max_norm(maxnormValue)\n",
    "\n",
    "from tqdm import tqdm\n",
    "from keras_tqdm import TQDMNotebookCallback\n",
    "tqdm.pandas(desc=\"progress-bar\")\n",
    "\n",
    "from spacy.lang.en.stop_words import STOP_WORDS\n",
    "from bs4 import BeautifulSoup\n",
    "\n",
    "# Don't Show Warning Messages\n",
    "import warnings\n",
    "warnings.filterwarnings('ignore')\n",
    "\n",
    "# Set the seeds\n",
    "seedVal = 10\n",
    "from numpy.random import seed\n",
    "seed(seedVal)\n",
    "from tensorflow import set_random_seed\n",
    "set_random_seed(seedVal)"
   ]
  },
  {
   "cell_type": "markdown",
   "metadata": {},
   "source": [
    "# Helper Functions"
   ]
  },
  {
   "cell_type": "markdown",
   "metadata": {},
   "source": [
    "Plot a given model's loss and accuracy rates over time."
   ]
  },
  {
   "cell_type": "code",
   "execution_count": 2,
   "metadata": {
    "ExecuteTime": {
     "end_time": "2018-12-31T17:11:09.250766Z",
     "start_time": "2018-12-31T17:11:09.238766Z"
    }
   },
   "outputs": [],
   "source": [
    "def plotHistory(history):\n",
    "    fig, (ax1, ax2) = plt.subplots(nrows = 1, ncols = 2, figsize = (8, 4))\n",
    "    \n",
    "    # summarize history for accuracy\n",
    "    ax1.plot(history.history['acc'])\n",
    "    ax1.plot(history.history['val_acc'])\n",
    "    ax1.set_title('model accuracy')\n",
    "    ax1.set_ylabel('accuracy')\n",
    "    ax1.set_xlabel('epoch')\n",
    "    ax1.legend(['train', 'test'], loc='upper left')\n",
    "    \n",
    "    \n",
    "    # summarize history for loss\n",
    "    ax2.plot(history.history['loss'])\n",
    "    ax2.plot(history.history['val_loss'])\n",
    "    ax2.set_title('model loss')\n",
    "    ax2.set_ylabel('loss')\n",
    "    ax2.set_xlabel('epoch')\n",
    "    ax2.legend(['train', 'test'], loc='upper left')\n",
    "    \n",
    "    plt.show()"
   ]
  },
  {
   "cell_type": "code",
   "execution_count": 2,
   "metadata": {
    "ExecuteTime": {
     "end_time": "2018-12-31T17:11:09.250766Z",
     "start_time": "2018-12-31T17:11:09.238766Z"
    }
   },
   "outputs": [],
   "source": [
    "def saveObj(obj, fileName):\n",
    "    with open(fileName + '.pkl', 'wb') as out:\n",
    "        pickle.dump(obj, out)"
   ]
  },
  {
   "cell_type": "code",
   "execution_count": 2,
   "metadata": {
    "ExecuteTime": {
     "end_time": "2018-12-31T17:11:09.250766Z",
     "start_time": "2018-12-31T17:11:09.238766Z"
    }
   },
   "outputs": [],
   "source": [
    "def loadObj(fileName):\n",
    "    obj = None\n",
    "    \n",
    "    with open(fileName + '.pkl', 'rb') as in:\n",
    "        obj = pickle.load(in)\n",
    "    \n",
    "    return obj"
   ]
  },
  {
   "cell_type": "markdown",
   "metadata": {},
   "source": [
    "# Examine the data\n",
    "\n",
    "Previously covered [here](./Model-06.ipynb#Examine-the-data)."
   ]
  },
  {
   "cell_type": "markdown",
   "metadata": {},
   "source": [
    "# Cleaning and processing"
   ]
  },
  {
   "cell_type": "markdown",
   "metadata": {},
   "source": [
    "## Load the data"
   ]
  },
  {
   "cell_type": "code",
   "execution_count": 3,
   "metadata": {
    "ExecuteTime": {
     "end_time": "2018-12-31T17:11:11.349766Z",
     "start_time": "2018-12-31T17:11:09.254766Z"
    }
   },
   "outputs": [
    {
     "name": "stdout",
     "output_type": "stream",
     "text": [
      "labDat.shape : (25000, 3)\n",
      "unlabDat.shape : (50000, 2)\n",
      "testDat.shape : (25000, 2)\n",
      "\n",
      "\n",
      "<class 'pandas.core.frame.DataFrame'>\n",
      "RangeIndex: 25000 entries, 0 to 24999\n",
      "Data columns (total 3 columns):\n",
      "id           25000 non-null object\n",
      "sentiment    25000 non-null int64\n",
      "review       25000 non-null object\n",
      "dtypes: int64(1), object(2)\n",
      "memory usage: 586.0+ KB\n",
      "labDat.info() : None\n",
      "\n",
      "\n",
      "<class 'pandas.core.frame.DataFrame'>\n",
      "RangeIndex: 50000 entries, 0 to 49999\n",
      "Data columns (total 3 columns):\n",
      "id           50000 non-null object\n",
      "review       50000 non-null object\n",
      "sentiment    0 non-null object\n",
      "dtypes: object(3)\n",
      "memory usage: 1.1+ MB\n",
      "unlabDat.info() : None\n",
      "\n",
      "\n",
      "<class 'pandas.core.frame.DataFrame'>\n",
      "RangeIndex: 25000 entries, 0 to 24999\n",
      "Data columns (total 3 columns):\n",
      "id           25000 non-null object\n",
      "review       25000 non-null object\n",
      "sentiment    0 non-null object\n",
      "dtypes: object(3)\n",
      "memory usage: 586.0+ KB\n",
      "testDat.info() : None\n"
     ]
    }
   ],
   "source": [
    "dataPath = os.path.join('.', 'datasets', 'imdb_movie_reviews')\n",
    "labeledTrainData = os.path.join(dataPath, 'labeledTrainData.tsv')\n",
    "unlabeledTrainData = os.path.join(dataPath, 'unlabeledTrainData.tsv')\n",
    "testData = os.path.join(dataPath, 'testData.tsv')\n",
    "\n",
    "\n",
    "labDat = pd.read_csv(labeledTrainData, sep = '\\t', header = 0, quoting = 3)\n",
    "unlabDat = pd.read_csv(unlabeledTrainData, sep = '\\t', header = 0, quoting = 3)\n",
    "testDat = pd.read_csv(testData, sep = '\\t', header = 0, quoting = 3)\n",
    "\n",
    "\n",
    "# Sanity check\n",
    "print('labDat.shape :', labDat.shape)\n",
    "print('unlabDat.shape :', unlabDat.shape)\n",
    "print('testDat.shape :', testDat.shape)\n",
    "\n",
    "unlabDat['sentiment'] = None\n",
    "testDat['sentiment'] = None\n",
    "\n",
    "print(\"\\n\")\n",
    "print('labDat.info() :', labDat.info())\n",
    "print(\"\\n\")\n",
    "print('unlabDat.info() :', unlabDat.info())\n",
    "print(\"\\n\")\n",
    "print('testDat.info() :', testDat.info())"
   ]
  },
  {
   "cell_type": "code",
   "execution_count": 4,
   "metadata": {
    "ExecuteTime": {
     "end_time": "2018-12-31T17:11:11.422766Z",
     "start_time": "2018-12-31T17:11:11.351766Z"
    }
   },
   "outputs": [
    {
     "name": "stdout",
     "output_type": "stream",
     "text": [
      "(100000, 3)\n",
      "\n",
      "\n",
      "<class 'pandas.core.frame.DataFrame'>\n",
      "RangeIndex: 100000 entries, 0 to 99999\n",
      "Data columns (total 3 columns):\n",
      "id           100000 non-null object\n",
      "review       100000 non-null object\n",
      "sentiment    25000 non-null object\n",
      "dtypes: object(3)\n",
      "memory usage: 2.3+ MB\n",
      "None\n"
     ]
    }
   ],
   "source": [
    "combinedDat = pd.concat(objs=[labDat, unlabDat, testDat], axis=0).reset_index(drop=True)\n",
    "print(combinedDat.shape)\n",
    "print(\"\\n\")\n",
    "print(combinedDat.info())"
   ]
  },
  {
   "cell_type": "markdown",
   "metadata": {},
   "source": [
    "## Tokenize and numeralize the data"
   ]
  },
  {
   "cell_type": "code",
   "execution_count": 14,
   "metadata": {
    "ExecuteTime": {
     "end_time": "2018-12-31T17:14:55.157929Z",
     "start_time": "2018-12-31T17:14:55.139929Z"
    }
   },
   "outputs": [],
   "source": [
    "# Examine the Tokenizer arguments\n",
    "?Tokenizer()"
   ]
  },
  {
   "cell_type": "markdown",
   "metadata": {},
   "source": [
    "Note that 'num_words' doesn't work like you'd think (https://github.com/keras-team/keras/issues/8092), so we are going to do some manual processing...\n",
    "\n",
    "---\n",
    "\n",
    "First: Create numerical representations of the words in the texts:"
   ]
  },
  {
   "cell_type": "code",
   "execution_count": 169,
   "metadata": {
    "ExecuteTime": {
     "end_time": "2018-12-31T20:24:07.610792Z",
     "start_time": "2018-12-31T20:24:07.548394Z"
    }
   },
   "outputs": [],
   "source": [
    "allReviews = combinedDat['review'].astype('str')"
   ]
  },
  {
   "cell_type": "code",
   "execution_count": 170,
   "metadata": {
    "ExecuteTime": {
     "end_time": "2018-12-31T20:24:34.943698Z",
     "start_time": "2018-12-31T20:24:08.374973Z"
    }
   },
   "outputs": [],
   "source": [
    "# Remove HTML\n",
    "for i, review in enumerate(allReviews):\n",
    "    allReviews[i] = BeautifulSoup(allReviews[i]).get_text()      "
   ]
  },
  {
   "cell_type": "code",
   "execution_count": 171,
   "metadata": {
    "ExecuteTime": {
     "end_time": "2018-12-31T20:24:49.557330Z",
     "start_time": "2018-12-31T20:24:34.943698Z"
    }
   },
   "outputs": [],
   "source": [
    "# Create the tokens, so we can count freqs\n",
    "t = Tokenizer()\n",
    "t.fit_on_texts(allReviews)"
   ]
  },
  {
   "cell_type": "code",
   "execution_count": 172,
   "metadata": {
    "ExecuteTime": {
     "end_time": "2018-12-31T20:24:49.651927Z",
     "start_time": "2018-12-31T20:24:49.557330Z"
    }
   },
   "outputs": [
    {
     "data": {
      "text/plain": [
       "[('the', 1343498),\n",
       " ('and', 654095),\n",
       " ('a', 650714),\n",
       " ('of', 583206),\n",
       " ('to', 539493)]"
      ]
     },
     "execution_count": 172,
     "metadata": {},
     "output_type": "execute_result"
    }
   ],
   "source": [
    "# Create list of word freqs from most to least\n",
    "freqs = sorted(t.word_counts.items(), key=lambda kv: kv[1], reverse=True)\n",
    "freqs[:5]"
   ]
  },
  {
   "cell_type": "code",
   "execution_count": 173,
   "metadata": {
    "ExecuteTime": {
     "end_time": "2018-12-31T20:24:49.716326Z",
     "start_time": "2018-12-31T20:24:49.651927Z"
    }
   },
   "outputs": [
    {
     "name": "stdout",
     "output_type": "stream",
     "text": [
      "60000\n",
      "['movie', 'film', 'like', \"it's\", 'good', 'time', 'story', 'bad', 'great', 'people']\n"
     ]
    }
   ],
   "source": [
    "# Now filter the tokens down to the most common 60K less any stop words\n",
    "topWords = []\n",
    "maxWords = 60000\n",
    "counter = 0\n",
    "\n",
    "for item in freqs:\n",
    "    if item[0] not in STOP_WORDS:\n",
    "        topWords.append(item[0])\n",
    "        counter += 1\n",
    "    if counter == maxWords:\n",
    "        break\n",
    "        \n",
    "print(len(topWords))\n",
    "print(topWords[:10])"
   ]
  },
  {
   "cell_type": "code",
   "execution_count": 174,
   "metadata": {
    "ExecuteTime": {
     "end_time": "2018-12-31T20:25:01.592225Z",
     "start_time": "2018-12-31T20:24:49.716326Z"
    }
   },
   "outputs": [],
   "source": [
    "# Create the numeric sequences of the documents\n",
    "seqs = t.texts_to_sequences(allReviews)"
   ]
  },
  {
   "cell_type": "code",
   "execution_count": null,
   "metadata": {
    "ExecuteTime": {
     "start_time": "2018-12-31T20:30:31.132Z"
    }
   },
   "outputs": [],
   "source": [
    "# Remove any words not found in the 60K most common words less stop words from the review text sequences\n",
    "for i, seq in enumerate(seqs):\n",
    "    _tmp = []\n",
    "    for x in seq:\n",
    "        if t.index_word[x] in topWords:\n",
    "            _tmp.append(x)\n",
    "\n",
    "    seqs[i] = _tmp"
   ]
  },
  {
   "cell_type": "code",
   "execution_count": null,
   "metadata": {
    "ExecuteTime": {
     "start_time": "2018-12-31T20:30:31.591Z"
    }
   },
   "outputs": [],
   "source": [
    "# sanity check\n",
    "' '.join([t.index_word[x] for x in seqs[0]])"
   ]
  },
  {
   "cell_type": "code",
   "execution_count": null,
   "metadata": {
    "ExecuteTime": {
     "start_time": "2018-12-31T20:30:45.640Z"
    }
   },
   "outputs": [],
   "source": [
    "# Next pad the sequences to maxSeqLength\n",
    "maxSeqLength = 500\n",
    "\n",
    "allReviewsPadded = pad_sequences(seqs, maxlen = maxSeqLength, padding = 'post')\n",
    "print(f'Example seq:')\n",
    "print(allReviewsPadded[0])"
   ]
  },
  {
   "cell_type": "markdown",
   "metadata": {},
   "source": [
    "Split the sequences into the train, unlabeled, and test sets:"
   ]
  },
  {
   "cell_type": "code",
   "execution_count": null,
   "metadata": {
    "ExecuteTime": {
     "start_time": "2018-12-31T20:33:52.092Z"
    }
   },
   "outputs": [],
   "source": [
    "labDatPad = allReviewsPadded[:25000]\n",
    "unlabDatPad = allReviewsPadded[25000:75000]\n",
    "testDatPad = allReviewsPadded[75000:]\n",
    "\n",
    "print('labDatPad :  ', len(labDatPad))\n",
    "print('unlabDatPad :', len(unlabDatPad))\n",
    "print('testDatPad : ', len(testDatPad))"
   ]
  },
  {
   "cell_type": "markdown",
   "metadata": {},
   "source": [
    "## Creating embeddings utilizing GloVe\n",
    "\n",
    "Load the GloVe embedding and add the OOV token:"
   ]
  },
  {
   "cell_type": "code",
   "execution_count": null,
   "metadata": {
    "ExecuteTime": {
     "start_time": "2018-12-31T20:33:53.930Z"
    }
   },
   "outputs": [],
   "source": [
    "oovToken = 'UNK'\n",
    "embeddingsIndex = dict()\n",
    "\n",
    "glovePath = os.path.join('.', 'datasets', 'glove.6B')\n",
    "gloveData = os.path.join(glovePath, 'glove.6B.300d.txt')\n",
    "\n",
    "f = open(gloveData, encoding=\"utf8\")\n",
    "\n",
    "for line in tqdm(f):\n",
    "    values = line.split()\n",
    "    word = values[0]\n",
    "    coefs = np.asarray(values[1:], dtype='float32')\n",
    "    embeddingsIndex[word] = coefs\n",
    "f.close()\n",
    "\n",
    "# Add the OOV token:\n",
    "embeddingsIndex[oovToken] = np.zeros(300)\n",
    "\n",
    "print('Number of loaded %s word vectors.' % len(embeddingsIndex))\n",
    "print('Word vector size: %s' % len(embeddingsIndex['the']))"
   ]
  },
  {
   "cell_type": "code",
   "execution_count": null,
   "metadata": {
    "ExecuteTime": {
     "start_time": "2018-12-31T20:33:54.834Z"
    }
   },
   "outputs": [],
   "source": [
    "# Creating the embeddings utilizing the weights of the GloVe model\n",
    "embeddingMatrix = np.zeros((maxWords+1, 300))\n",
    "\n",
    "for i, word in tqdm(enumerate(topWords)):\n",
    "    embeddingVector = embeddingsIndex.get(word)\n",
    "    if embeddingVector is not None:\n",
    "        embeddingMatrix[i] = embeddingVector\n",
    "    else:\n",
    "        embeddingMatrix[i] = embeddingsIndex[oovToken]\n",
    "        \n",
    "print(\"len(embeddingMatrix):\", len(embeddingMatrix))"
   ]
  },
  {
   "cell_type": "markdown",
   "metadata": {},
   "source": [
    "## Split data into training and validation sets"
   ]
  },
  {
   "cell_type": "code",
   "execution_count": null,
   "metadata": {
    "ExecuteTime": {
     "start_time": "2018-12-31T20:33:56.618Z"
    }
   },
   "outputs": [],
   "source": [
    "X = labDatPad\n",
    "y = labDat['sentiment']\n",
    "\n",
    "print(X.shape)\n",
    "print(y.shape)\n",
    "\n",
    "\n",
    "X_train, X_eval, y_train ,y_eval = train_test_split(X, y, test_size = 0.1, shuffle = True, random_state = seedVal, stratify = y)"
   ]
  },
  {
   "cell_type": "markdown",
   "metadata": {},
   "source": [
    "# CNN development and training"
   ]
  },
  {
   "cell_type": "markdown",
   "metadata": {},
   "source": [
    "## Baseline CNN\n",
    "\n",
    "1st Keras model utilizing the Keras functional API - Will act as the baseline\n",
    "\n",
    "* https://keras.io/getting-started/functional-api-guide/\n",
    "* https://keras.io/models/model/"
   ]
  },
  {
   "cell_type": "markdown",
   "metadata": {},
   "source": [
    "### Create and train the model"
   ]
  },
  {
   "cell_type": "code",
   "execution_count": null,
   "metadata": {
    "ExecuteTime": {
     "start_time": "2018-12-31T20:33:59.195Z"
    }
   },
   "outputs": [],
   "source": [
    "# define callback items\n",
    "early_stopping = EarlyStopping(monitor='val_loss', patience=5, mode='min')\n",
    "save_best = ModelCheckpoint('NLP-CNN-1.3.hdf', save_best_only=True, monitor='val_loss', mode='min')\n",
    "\n",
    "# define the layers and components\n",
    "inputs = Input((500, ), dtype = \"int32\", name = 'inputs')\n",
    "embed = Embedding(maxWords+1, 300, weights=[embeddingMatrix], input_length = maxSeqLength, trainable = False)(inputs)\n",
    "cnnLayer1 = Conv1D(100, 3, padding='valid', activation='relu', strides=1)(embed)\n",
    "pool1 = GlobalMaxPooling1D()(cnnLayer1)\n",
    "dense1 = Dense(1, activation=\"sigmoid\")(pool1)\n",
    "\n",
    "# create model object and compile\n",
    "model = Model(input=inputs, output=dense1)\n",
    "model.compile(loss = 'binary_crossentropy', optimizer = Adam(), metrics = ['accuracy'])\n",
    "\n",
    "# train the model\n",
    "history = model.fit(X_train, y_train, validation_data=(X_eval, y_eval), epochs=100, verbose=0, callbacks=[early_stopping,save_best,TQDMNotebookCallback(leave_inner = True, leave_outer = True)])"
   ]
  },
  {
   "cell_type": "markdown",
   "metadata": {},
   "source": [
    "### Examine metrics"
   ]
  },
  {
   "cell_type": "code",
   "execution_count": 37,
   "metadata": {
    "ExecuteTime": {
     "end_time": "2018-11-27T23:12:30.392186Z",
     "start_time": "2018-11-27T23:12:30.020391Z"
    },
    "deletable": false,
    "editable": false,
    "run_control": {
     "frozen": true
    }
   },
   "outputs": [
    {
     "data": {
      "image/png": "[encoded data removed]",
      "text/plain": [
       "<Figure size 576x288 with 2 Axes>"
      ]
     },
     "metadata": {},
     "output_type": "display_data"
    }
   ],
   "source": [
    "plotHistory(history)"
   ]
  },
  {
   "cell_type": "markdown",
   "metadata": {},
   "source": [
    "### Submit results to Kaggle for scoring"
   ]
  },
  {
   "cell_type": "code",
   "execution_count": 36,
   "metadata": {
    "ExecuteTime": {
     "end_time": "2018-11-27T23:04:18.225471Z",
     "start_time": "2018-11-27T23:03:40.079503Z"
    },
    "deletable": false,
    "editable": false,
    "run_control": {
     "frozen": true
    }
   },
   "outputs": [
    {
     "name": "stdout",
     "output_type": "stream",
     "text": [
      "** First 10 predictions:\n",
      "[1 0 1 0 1 1 0 1 0 1]\n",
      "            sentiment\n",
      "id                   \n",
      "\"12311_10\"          1\n",
      "\"8348_2\"            0\n",
      "\"5828_4\"            1\n",
      "\"7186_2\"            0\n",
      "\"12128_7\"           1\n"
     ]
    }
   ],
   "source": [
    "model.load_weights(filepath = 'NLP-CNN-1.3.hdf')\n",
    "predictions = model.predict(testDatPad)\n",
    "yHat = predictions[:,0]\n",
    "\n",
    "yHat = np.round(yHat).astype(np.int)\n",
    "print(\"** First 10 predictions:\")\n",
    "print(yHat[:10])\n",
    "\n",
    "df_results = pd.DataFrame({'id': testDat.id, 'sentiment': yHat}).set_index('id')\n",
    "print(df_results.head())\n",
    "\n",
    "# create a submission csv file\n",
    "df_results.to_csv('kaggle_submission.csv', quoting = csv.QUOTE_NONE) \n",
    "# Keras cnn + GloVe + Early Stopping v1.3"
   ]
  },
  {
   "cell_type": "markdown",
   "metadata": {},
   "source": [
    "### Results\n",
    "\n",
    "Kaggle score:  0.88840\n",
    "\n",
    "Best so far  :)"
   ]
  }
 ],
 "metadata": {
  "kernelspec": {
   "display_name": "Python 3",
   "language": "python",
   "name": "python3"
  },
  "language_info": {
   "codemirror_mode": {
    "name": "ipython",
    "version": 3
   },
   "file_extension": ".py",
   "mimetype": "text/x-python",
   "name": "python",
   "nbconvert_exporter": "python",
   "pygments_lexer": "ipython3",
   "version": "3.6.5"
  },
  "toc": {
   "base_numbering": 1,
   "nav_menu": {},
   "number_sections": true,
   "sideBar": true,
   "skip_h1_title": true,
   "title_cell": "Table of Contents",
   "title_sidebar": "Contents",
   "toc_cell": true,
   "toc_position": {},
   "toc_section_display": true,
   "toc_window_display": false
  }
 },
 "nbformat": 4,
 "nbformat_minor": 2
}
