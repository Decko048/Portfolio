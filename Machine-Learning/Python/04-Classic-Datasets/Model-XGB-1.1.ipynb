{
 "cells": [
  {
   "cell_type": "markdown",
   "metadata": {
    "toc": true
   },
   "source": [
    "<h1>Table of Contents<span class=\"tocSkip\"></span></h1>\n",
    "<div class=\"toc\"><ul class=\"toc-item\"><li><span><a href=\"#IMDB-Movie-Review-Sentiment-Classification\" data-toc-modified-id=\"IMDB-Movie-Review-Sentiment-Classification-1\"><span class=\"toc-item-num\">1&nbsp;&nbsp;</span>IMDB Movie Review Sentiment Classification</a></span></li><li><span><a href=\"#Purpose\" data-toc-modified-id=\"Purpose-2\"><span class=\"toc-item-num\">2&nbsp;&nbsp;</span>Purpose</a></span></li><li><span><a href=\"#Process\" data-toc-modified-id=\"Process-3\"><span class=\"toc-item-num\">3&nbsp;&nbsp;</span>Process</a></span></li><li><span><a href=\"#Configure-notebook,-import-libraries,-and-import-dataset\" data-toc-modified-id=\"Configure-notebook,-import-libraries,-and-import-dataset-4\"><span class=\"toc-item-num\">4&nbsp;&nbsp;</span>Configure notebook, import libraries, and import dataset</a></span><ul class=\"toc-item\"><li><span><a href=\"#Import-libraries\" data-toc-modified-id=\"Import-libraries-4.1\"><span class=\"toc-item-num\">4.1&nbsp;&nbsp;</span>Import libraries</a></span></li><li><span><a href=\"#Define-global-variables\" data-toc-modified-id=\"Define-global-variables-4.2\"><span class=\"toc-item-num\">4.2&nbsp;&nbsp;</span>Define global variables</a></span></li><li><span><a href=\"#Load-in-data-sets\" data-toc-modified-id=\"Load-in-data-sets-4.3\"><span class=\"toc-item-num\">4.3&nbsp;&nbsp;</span>Load in data sets</a></span></li></ul></li><li><span><a href=\"#Helper-Functions\" data-toc-modified-id=\"Helper-Functions-5\"><span class=\"toc-item-num\">5&nbsp;&nbsp;</span>Helper Functions</a></span></li><li><span><a href=\"#Examine-the-data\" data-toc-modified-id=\"Examine-the-data-6\"><span class=\"toc-item-num\">6&nbsp;&nbsp;</span>Examine the data</a></span></li><li><span><a href=\"#Cleaning-and-preprocessing\" data-toc-modified-id=\"Cleaning-and-preprocessing-7\"><span class=\"toc-item-num\">7&nbsp;&nbsp;</span>Cleaning and preprocessing</a></span><ul class=\"toc-item\"><li><span><a href=\"#Write-helper-functions\" data-toc-modified-id=\"Write-helper-functions-7.1\"><span class=\"toc-item-num\">7.1&nbsp;&nbsp;</span>Write helper functions</a></span><ul class=\"toc-item\"><li><span><a href=\"#Sentence-cleaner\" data-toc-modified-id=\"Sentence-cleaner-7.1.1\"><span class=\"toc-item-num\">7.1.1&nbsp;&nbsp;</span>Sentence cleaner</a></span></li></ul></li><li><span><a href=\"#Create-list-of-Doc2Vec-TaggedDocument-objects\" data-toc-modified-id=\"Create-list-of-Doc2Vec-TaggedDocument-objects-7.2\"><span class=\"toc-item-num\">7.2&nbsp;&nbsp;</span>Create list of Doc2Vec TaggedDocument objects</a></span></li></ul></li><li><span><a href=\"#Tuning-Doc2Vec\" data-toc-modified-id=\"Tuning-Doc2Vec-8\"><span class=\"toc-item-num\">8&nbsp;&nbsp;</span>Tuning Doc2Vec</a></span><ul class=\"toc-item\"><li><span><a href=\"#Implementation\" data-toc-modified-id=\"Implementation-8.1\"><span class=\"toc-item-num\">8.1&nbsp;&nbsp;</span>Implementation</a></span><ul class=\"toc-item\"><li><span><a href=\"#Create-the-Doc2Vec-model,-build-the-vocab,-and-train\" data-toc-modified-id=\"Create-the-Doc2Vec-model,-build-the-vocab,-and-train-8.1.1\"><span class=\"toc-item-num\">8.1.1&nbsp;&nbsp;</span>Create the Doc2Vec model, build the vocab, and train</a></span></li><li><span><a href=\"#Split-Doc2Vec-vectors-into-train,-validation,-and-test-sets\" data-toc-modified-id=\"Split-Doc2Vec-vectors-into-train,-validation,-and-test-sets-8.1.2\"><span class=\"toc-item-num\">8.1.2&nbsp;&nbsp;</span>Split Doc2Vec vectors into train, validation, and test sets</a></span></li></ul></li><li><span><a href=\"#Train-and-assess-classifiers\" data-toc-modified-id=\"Train-and-assess-classifiers-8.2\"><span class=\"toc-item-num\">8.2&nbsp;&nbsp;</span>Train and assess classifiers</a></span></li><li><span><a href=\"#Comments\" data-toc-modified-id=\"Comments-8.3\"><span class=\"toc-item-num\">8.3&nbsp;&nbsp;</span>Comments</a></span></li></ul></li><li><span><a href=\"#Combining-Doc2Vec-models\" data-toc-modified-id=\"Combining-Doc2Vec-models-9\"><span class=\"toc-item-num\">9&nbsp;&nbsp;</span>Combining Doc2Vec models</a></span><ul class=\"toc-item\"><li><span><a href=\"#Create-Doc2Vec-models,-build-vocabulary,-and-train\" data-toc-modified-id=\"Create-Doc2Vec-models,-build-vocabulary,-and-train-9.1\"><span class=\"toc-item-num\">9.1&nbsp;&nbsp;</span>Create Doc2Vec models, build vocabulary, and train</a></span></li><li><span><a href=\"#Combination-one:--Train-and-assess-classifiers\" data-toc-modified-id=\"Combination-one:--Train-and-assess-classifiers-9.2\"><span class=\"toc-item-num\">9.2&nbsp;&nbsp;</span>Combination one:  Train and assess classifiers</a></span></li><li><span><a href=\"#Comments\" data-toc-modified-id=\"Comments-9.3\"><span class=\"toc-item-num\">9.3&nbsp;&nbsp;</span>Comments</a></span></li></ul></li><li><span><a href=\"#Manual-training-and-feature-set-creation-utilizing-combined-Doc2Vec-models\" data-toc-modified-id=\"Manual-training-and-feature-set-creation-utilizing-combined-Doc2Vec-models-10\"><span class=\"toc-item-num\">10&nbsp;&nbsp;</span>Manual training and feature set creation utilizing combined Doc2Vec models</a></span><ul class=\"toc-item\"><li><span><a href=\"#Create-Doc2Vec-models,-build-vocabulary,-and-train\" data-toc-modified-id=\"Create-Doc2Vec-models,-build-vocabulary,-and-train-10.1\"><span class=\"toc-item-num\">10.1&nbsp;&nbsp;</span>Create Doc2Vec models, build vocabulary, and train</a></span></li><li><span><a href=\"#Combination-one:--Train-and-assess-classifiers\" data-toc-modified-id=\"Combination-one:--Train-and-assess-classifiers-10.2\"><span class=\"toc-item-num\">10.2&nbsp;&nbsp;</span>Combination one:  Train and assess classifiers</a></span></li><li><span><a href=\"#Comments\" data-toc-modified-id=\"Comments-10.3\"><span class=\"toc-item-num\">10.3&nbsp;&nbsp;</span>Comments</a></span></li></ul></li><li><span><a href=\"#Doc2Vec-tuning\" data-toc-modified-id=\"Doc2Vec-tuning-11\"><span class=\"toc-item-num\">11&nbsp;&nbsp;</span>Doc2Vec tuning</a></span><ul class=\"toc-item\"><li><span><a href=\"#DM0-training\" data-toc-modified-id=\"DM0-training-11.1\"><span class=\"toc-item-num\">11.1&nbsp;&nbsp;</span>DM0 training</a></span></li><li><span><a href=\"#Train-best-Doc2Vec-models\" data-toc-modified-id=\"Train-best-Doc2Vec-models-11.2\"><span class=\"toc-item-num\">11.2&nbsp;&nbsp;</span>Train best Doc2Vec models</a></span></li><li><span><a href=\"#Tune-XGBoost-using-best-Doc2Vec-models\" data-toc-modified-id=\"Tune-XGBoost-using-best-Doc2Vec-models-11.3\"><span class=\"toc-item-num\">11.3&nbsp;&nbsp;</span>Tune XGBoost using best Doc2Vec models</a></span><ul class=\"toc-item\"><li><span><a href=\"#Pick-sane-model-param-defaults\" data-toc-modified-id=\"Pick-sane-model-param-defaults-11.3.1\"><span class=\"toc-item-num\">11.3.1&nbsp;&nbsp;</span>Pick sane model param defaults</a></span></li><li><span><a href=\"#Calculate-best-initial-n_estimators-value-(i.e.-number-of-trees)\" data-toc-modified-id=\"Calculate-best-initial-n_estimators-value-(i.e.-number-of-trees)-11.3.2\"><span class=\"toc-item-num\">11.3.2&nbsp;&nbsp;</span>Calculate best initial n_estimators value (i.e. number of trees)</a></span></li><li><span><a href=\"#Tune-max_depth-and-min_child_weight\" data-toc-modified-id=\"Tune-max_depth-and-min_child_weight-11.3.3\"><span class=\"toc-item-num\">11.3.3&nbsp;&nbsp;</span>Tune max_depth and min_child_weight</a></span><ul class=\"toc-item\"><li><span><a href=\"#Fine-tune\" data-toc-modified-id=\"Fine-tune-11.3.3.1\"><span class=\"toc-item-num\">11.3.3.1&nbsp;&nbsp;</span>Fine tune</a></span></li></ul></li></ul></li><li><span><a href=\"#Tune-gamma,-subsample-and-colsample_bytree\" data-toc-modified-id=\"Tune-gamma,-subsample-and-colsample_bytree-11.4\"><span class=\"toc-item-num\">11.4&nbsp;&nbsp;</span>Tune gamma, subsample and colsample_bytree</a></span><ul class=\"toc-item\"><li><span><a href=\"#Gamma-tuning\" data-toc-modified-id=\"Gamma-tuning-11.4.1\"><span class=\"toc-item-num\">11.4.1&nbsp;&nbsp;</span>Gamma tuning</a></span></li><li><span><a href=\"#Calculate-optimal-n_estimators-value\" data-toc-modified-id=\"Calculate-optimal-n_estimators-value-11.4.2\"><span class=\"toc-item-num\">11.4.2&nbsp;&nbsp;</span>Calculate optimal n_estimators value</a></span></li><li><span><a href=\"#subsample-and-colsample_bytree-tuning\" data-toc-modified-id=\"subsample-and-colsample_bytree-tuning-11.4.3\"><span class=\"toc-item-num\">11.4.3&nbsp;&nbsp;</span>subsample and colsample_bytree tuning</a></span></li></ul></li></ul></li><li><span><a href=\"#Summary\" data-toc-modified-id=\"Summary-12\"><span class=\"toc-item-num\">12&nbsp;&nbsp;</span>Summary</a></span></li></ul></div>"
   ]
  },
  {
   "cell_type": "markdown",
   "metadata": {},
   "source": [
    "<h1>IMDB Movie Review Sentiment Classification</h1>"
   ]
  },
  {
   "cell_type": "markdown",
   "metadata": {},
   "source": [
    "<img style=\"float: left; margin-right: 15px; width: 30%; height: 30%;\" src=\"images/imdb.jpg\" />"
   ]
  },
  {
   "cell_type": "markdown",
   "metadata": {},
   "source": [
    "# Purpose\n",
    "\n",
    "* Install and confirm XGBoost is working\n",
    "* Create baseline from previous write-up using combined models + bigger vocab\n",
    "* Train and tune Doc2Vec\n",
    "\n",
    "References:\n",
    "* [Gensim Doc2Vec](https://radimrehurek.com/gensim/models/doc2vec.html)\n",
    "* [Original paper](https://arxiv.org/abs/1405.4053) by Mikilov and Le\n",
    "\n",
    "Dataset source:  [IMDB Movie Reviews](https://www.kaggle.com/c/word2vec-nlp-tutorial/data)"
   ]
  },
  {
   "cell_type": "markdown",
   "metadata": {},
   "source": [
    "# Process\n",
    "\n",
    "Previously covered [here](./Model-06.ipynb#Process)."
   ]
  },
  {
   "cell_type": "markdown",
   "metadata": {},
   "source": [
    "# Configure notebook, import libraries, and import dataset"
   ]
  },
  {
   "cell_type": "markdown",
   "metadata": {
    "ExecuteTime": {
     "end_time": "2018-10-16T15:16:22.416553Z",
     "start_time": "2018-10-16T15:16:22.413553Z"
    }
   },
   "source": [
    "## Import libraries"
   ]
  },
  {
   "cell_type": "code",
   "execution_count": 8,
   "metadata": {
    "ExecuteTime": {
     "end_time": "2018-12-03T15:45:29.077639Z",
     "start_time": "2018-12-03T15:45:28.778478Z"
    }
   },
   "outputs": [
    {
     "name": "stdout",
     "output_type": "stream",
     "text": [
      "The autoreload extension is already loaded. To reload it, use:\n",
      "  %reload_ext autoreload\n"
     ]
    }
   ],
   "source": [
    "%matplotlib inline\n",
    "%load_ext autoreload\n",
    "%autoreload 2\n",
    "\n",
    "import warnings\n",
    "warnings.filterwarnings('ignore')\n",
    "warnings.filterwarnings(\"ignore\", category=DeprecationWarning) \n",
    "\n",
    "import os, re\n",
    "import numpy as np\n",
    "from timeit import default_timer as timer\n",
    "from random import shuffle\n",
    "\n",
    "import matplotlib.pyplot as plt\n",
    "\n",
    "import pandas as pd\n",
    "from pandas import set_option\n",
    "\n",
    "from tqdm import tqdm\n",
    "tqdm.pandas(desc=\"progress-bar\")\n",
    "\n",
    "import xgboost as xg\n",
    "\n",
    "from sklearn.linear_model import LogisticRegression\n",
    "\n",
    "from sklearn.model_selection import train_test_split\n",
    "from sklearn.feature_selection import SelectKBest\n",
    "from sklearn.feature_selection import f_regression\n",
    "from sklearn.model_selection import KFold\n",
    "from sklearn.model_selection import cross_val_score\n",
    "from sklearn.model_selection import GridSearchCV, RandomizedSearchCV\n",
    "from sklearn.metrics import confusion_matrix, accuracy_score\n",
    "from sklearn.pipeline import Pipeline, FeatureUnion\n",
    "\n",
    "\n",
    "# http://www.nltk.org/index.html\n",
    "# pip install nltk\n",
    "import nltk\n",
    "from nltk.corpus import stopwords\n",
    "\n",
    "\n",
    "# Creating function implementing punkt tokenizer for sentence splitting\n",
    "import nltk.data\n",
    "\n",
    "# Only need this the first time...\n",
    "# nltk.download('punkt')\n",
    "\n",
    "\n",
    "# https://www.crummy.com/software/BeautifulSoup/bs4/doc/\n",
    "# pip install BeautifulSoup4\n",
    "from bs4 import BeautifulSoup\n",
    "\n",
    "\n",
    "# https://pypi.org/project/gensim/\n",
    "# pip install gensim\n",
    "import gensim.models.doc2vec\n",
    "from gensim.models.doc2vec import Doc2Vec\n",
    "from gensim.models.doc2vec import TaggedDocument\n",
    "\n",
    "import multiprocessing\n",
    "\n",
    "cores = multiprocessing.cpu_count()\n",
    "assert(gensim.models.doc2vec.FAST_VERSION > -1)"
   ]
  },
  {
   "cell_type": "markdown",
   "metadata": {},
   "source": [
    "## Define global variables"
   ]
  },
  {
   "cell_type": "code",
   "execution_count": 9,
   "metadata": {
    "ExecuteTime": {
     "end_time": "2018-12-03T15:45:29.827991Z",
     "start_time": "2018-12-03T15:45:29.559228Z"
    }
   },
   "outputs": [],
   "source": [
    "# Set the seeds\n",
    "seedVal = 10\n",
    "from numpy.random import seed\n",
    "seed(seedVal)\n",
    "from tensorflow import set_random_seed\n",
    "set_random_seed(seedVal)\n",
    "\n",
    "# Opens a GUI that allows us to download the NLTK data\n",
    "# nltk.download()"
   ]
  },
  {
   "cell_type": "markdown",
   "metadata": {},
   "source": [
    "## Load in data sets"
   ]
  },
  {
   "cell_type": "code",
   "execution_count": 10,
   "metadata": {
    "ExecuteTime": {
     "end_time": "2018-12-03T15:45:32.035380Z",
     "start_time": "2018-12-03T15:45:30.409559Z"
    }
   },
   "outputs": [
    {
     "name": "stdout",
     "output_type": "stream",
     "text": [
      "labDat.shape : (25000, 3)\n",
      "unlabDat.shape : (50000, 2)\n",
      "testDat.shape : (25000, 2)\n",
      "\n",
      "\n",
      "<class 'pandas.core.frame.DataFrame'>\n",
      "RangeIndex: 25000 entries, 0 to 24999\n",
      "Data columns (total 3 columns):\n",
      "id           25000 non-null object\n",
      "sentiment    25000 non-null int64\n",
      "review       25000 non-null object\n",
      "dtypes: int64(1), object(2)\n",
      "memory usage: 586.0+ KB\n",
      "labDat.info() : None\n",
      "\n",
      "\n",
      "<class 'pandas.core.frame.DataFrame'>\n",
      "RangeIndex: 50000 entries, 0 to 49999\n",
      "Data columns (total 3 columns):\n",
      "id           50000 non-null object\n",
      "review       50000 non-null object\n",
      "sentiment    0 non-null object\n",
      "dtypes: object(3)\n",
      "memory usage: 1.1+ MB\n",
      "unlabDat.info() : None\n",
      "\n",
      "\n",
      "<class 'pandas.core.frame.DataFrame'>\n",
      "RangeIndex: 25000 entries, 0 to 24999\n",
      "Data columns (total 3 columns):\n",
      "id           25000 non-null object\n",
      "review       25000 non-null object\n",
      "sentiment    0 non-null object\n",
      "dtypes: object(3)\n",
      "memory usage: 586.0+ KB\n",
      "testDat.info() : None\n"
     ]
    }
   ],
   "source": [
    "dataPath = os.path.join('.', 'datasets', 'imdb_movie_reviews')\n",
    "labeledTrainData = os.path.join(dataPath, 'labeledTrainData.tsv')\n",
    "unlabeledTrainData = os.path.join(dataPath, 'unlabeledTrainData.tsv')\n",
    "testData = os.path.join(dataPath, 'testData.tsv')\n",
    "\n",
    "\n",
    "labDat = pd.read_csv(labeledTrainData, sep = '\\t', header = 0, quoting = 3)\n",
    "unlabDat = pd.read_csv(unlabeledTrainData, sep = '\\t', header = 0, quoting = 3)\n",
    "testDat = pd.read_csv(testData, sep = '\\t', header = 0, quoting = 3)\n",
    "\n",
    "\n",
    "# Sanity check\n",
    "print('labDat.shape :', labDat.shape)\n",
    "print('unlabDat.shape :', unlabDat.shape)\n",
    "print('testDat.shape :', testDat.shape)\n",
    "\n",
    "unlabDat['sentiment'] = None\n",
    "testDat['sentiment'] = None\n",
    "\n",
    "print(\"\\n\")\n",
    "print('labDat.info() :', labDat.info())\n",
    "print(\"\\n\")\n",
    "print('unlabDat.info() :', unlabDat.info())\n",
    "print(\"\\n\")\n",
    "print('testDat.info() :', testDat.info())"
   ]
  },
  {
   "cell_type": "code",
   "execution_count": 11,
   "metadata": {
    "ExecuteTime": {
     "end_time": "2018-12-03T15:45:32.440458Z",
     "start_time": "2018-12-03T15:45:32.036384Z"
    },
    "scrolled": true
   },
   "outputs": [
    {
     "name": "stdout",
     "output_type": "stream",
     "text": [
      "(100000, 3)\n",
      "\n",
      "\n",
      "<class 'pandas.core.frame.DataFrame'>\n",
      "RangeIndex: 100000 entries, 0 to 99999\n",
      "Data columns (total 3 columns):\n",
      "id           100000 non-null object\n",
      "review       100000 non-null object\n",
      "sentiment    25000 non-null object\n",
      "dtypes: object(3)\n",
      "memory usage: 2.3+ MB\n",
      "None\n"
     ]
    }
   ],
   "source": [
    "combinedDat = pd.concat(objs=[labDat, unlabDat, testDat], axis=0).reset_index(drop=True)\n",
    "print(combinedDat.shape)\n",
    "print(\"\\n\")\n",
    "print(combinedDat.info())"
   ]
  },
  {
   "cell_type": "markdown",
   "metadata": {},
   "source": [
    "# Helper Functions"
   ]
  },
  {
   "cell_type": "markdown",
   "metadata": {},
   "source": [
    "# Examine the data\n",
    "\n",
    "Previously covered [here](./Model-06.ipynb#Examine-the-data)."
   ]
  },
  {
   "cell_type": "markdown",
   "metadata": {},
   "source": [
    "# Cleaning and preprocessing"
   ]
  },
  {
   "cell_type": "markdown",
   "metadata": {},
   "source": [
    "## Write helper functions\n",
    "\n",
    "Doc2Vec expects a list of `TaggedDocument` objects.  The first argument of the `TaggedDocument` constructor is a contiguous list of words (which we'll clean as usual), and the second argument is a unique tag.  For example, here is what a sample `TaggedDocument` object looks like:\n",
    "\n",
    "```\n",
    "TaggedDocument(words=['with', 'all', 'this', 'stuff', 'going', 'down', 'at', 'the', 'moment', 'with', 'mj', 'i', 've', 'started', 'listening', 'to', 'his', ...... <SNIP>], tags=[0])\n",
    "```\n",
    "\n",
    "In order to facilitate this we'll first write the \"cleaner\" function to process the review text:"
   ]
  },
  {
   "cell_type": "markdown",
   "metadata": {},
   "source": [
    "### Sentence cleaner\n",
    "\n",
    "Take a given sentence and process/clean it (i.e. remove HTML and other cruft, lower case the text, etc.)."
   ]
  },
  {
   "cell_type": "code",
   "execution_count": 12,
   "metadata": {
    "ExecuteTime": {
     "end_time": "2018-12-03T15:45:33.521614Z",
     "start_time": "2018-12-03T15:45:33.193904Z"
    }
   },
   "outputs": [],
   "source": [
    "# Update stop word helper function to output a list of words\n",
    "\n",
    "# Clean IMDB review text\n",
    "def cleanReview(review, removeStopWords = False):\n",
    "    # Convert the stop words to a set\n",
    "    stopWords = set(stopwords.words(\"english\"))\n",
    "    \n",
    "    # Remove HTML\n",
    "    clean = BeautifulSoup(review)\n",
    "    \n",
    "    # Remove non-alpha chars\n",
    "    clean = re.sub(\"[^a-zA-Z]\", ' ', clean.get_text())\n",
    "    \n",
    "    # Convert to lower case and \"tokenize\"\n",
    "    clean = clean.lower().split()\n",
    "    \n",
    "    # Remove stop words\n",
    "    if removeStopWords:\n",
    "        clean = [x for x in clean if not x in stopWords]\n",
    "    \n",
    "    # Return results\n",
    "    return clean"
   ]
  },
  {
   "cell_type": "markdown",
   "metadata": {},
   "source": [
    "A quick examination of the output:"
   ]
  },
  {
   "cell_type": "code",
   "execution_count": 13,
   "metadata": {
    "ExecuteTime": {
     "end_time": "2018-12-03T15:45:34.705092Z",
     "start_time": "2018-12-03T15:45:34.408188Z"
    }
   },
   "outputs": [
    {
     "data": {
      "text/plain": [
       "['looking',\n",
       " 'for',\n",
       " 'quo',\n",
       " 'vadis',\n",
       " 'at',\n",
       " 'my',\n",
       " 'local',\n",
       " 'video',\n",
       " 'store',\n",
       " 'i',\n",
       " 'found',\n",
       " 'this']"
      ]
     },
     "execution_count": 13,
     "metadata": {},
     "output_type": "execute_result"
    }
   ],
   "source": [
    "# Examine\n",
    "cleanReview(combinedDat.iloc[25,1])[:12]"
   ]
  },
  {
   "cell_type": "markdown",
   "metadata": {},
   "source": [
    "## Create list of Doc2Vec TaggedDocument objects\n",
    "\n",
    "Next we need to create a collection of `TaggedDocument` objects; one object for each review:"
   ]
  },
  {
   "cell_type": "code",
   "execution_count": 14,
   "metadata": {
    "ExecuteTime": {
     "end_time": "2018-12-03T15:47:09.814095Z",
     "start_time": "2018-12-03T15:45:35.882153Z"
    }
   },
   "outputs": [],
   "source": [
    "taggedDocs = []\n",
    "\n",
    "for i, s in enumerate(combinedDat.iloc[:,1]):\n",
    "    clean = cleanReview(s)\n",
    "    taggedDocs.append(TaggedDocument(clean, [i]))"
   ]
  },
  {
   "cell_type": "code",
   "execution_count": 15,
   "metadata": {
    "ExecuteTime": {
     "end_time": "2018-12-03T15:47:10.177728Z",
     "start_time": "2018-12-03T15:47:09.814095Z"
    }
   },
   "outputs": [
    {
     "data": {
      "text/plain": [
       "100000"
      ]
     },
     "execution_count": 15,
     "metadata": {},
     "output_type": "execute_result"
    }
   ],
   "source": [
    "# Sanity check we have the same number of objects as reviews\n",
    "len(taggedDocs)"
   ]
  },
  {
   "cell_type": "code",
   "execution_count": 16,
   "metadata": {
    "ExecuteTime": {
     "end_time": "2018-12-03T15:47:10.458222Z",
     "start_time": "2018-12-03T15:47:10.178730Z"
    }
   },
   "outputs": [
    {
     "data": {
      "text/plain": [
       "TaggedDocument(words=['with', 'all', 'this', 'stuff', 'going', 'down', 'at', 'the', 'moment', 'with', 'mj', 'i', 've', 'started', 'listening', 'to', 'his', 'music', 'watching', 'the', 'odd', 'documentary', 'here', 'and', 'there', 'watched', 'the', 'wiz', 'and', 'watched', 'moonwalker', 'again', 'maybe', 'i', 'just', 'want', 'to', 'get', 'a', 'certain', 'insight', 'into', 'this', 'guy', 'who', 'i', 'thought', 'was', 'really', 'cool', 'in', 'the', 'eighties', 'just', 'to', 'maybe', 'make', 'up', 'my', 'mind', 'whether', 'he', 'is', 'guilty', 'or', 'innocent', 'moonwalker', 'is', 'part', 'biography', 'part', 'feature', 'film', 'which', 'i', 'remember', 'going', 'to', 'see', 'at', 'the', 'cinema', 'when', 'it', 'was', 'originally', 'released', 'some', 'of', 'it', 'has', 'subtle', 'messages', 'about', 'mj', 's', 'feeling', 'towards', 'the', 'press', 'and', 'also', 'the', 'obvious', 'message', 'of', 'drugs', 'are', 'bad', 'm', 'kay', 'visually', 'impressive', 'but', 'of', 'course', 'this', 'is', 'all', 'about', 'michael', 'jackson', 'so', 'unless', 'you', 'remotely', 'like', 'mj', 'in', 'anyway', 'then', 'you', 'are', 'going', 'to', 'hate', 'this', 'and', 'find', 'it', 'boring', 'some', 'may', 'call', 'mj', 'an', 'egotist', 'for', 'consenting', 'to', 'the', 'making', 'of', 'this', 'movie', 'but', 'mj', 'and', 'most', 'of', 'his', 'fans', 'would', 'say', 'that', 'he', 'made', 'it', 'for', 'the', 'fans', 'which', 'if', 'true', 'is', 'really', 'nice', 'of', 'him', 'the', 'actual', 'feature', 'film', 'bit', 'when', 'it', 'finally', 'starts', 'is', 'only', 'on', 'for', 'minutes', 'or', 'so', 'excluding', 'the', 'smooth', 'criminal', 'sequence', 'and', 'joe', 'pesci', 'is', 'convincing', 'as', 'a', 'psychopathic', 'all', 'powerful', 'drug', 'lord', 'why', 'he', 'wants', 'mj', 'dead', 'so', 'bad', 'is', 'beyond', 'me', 'because', 'mj', 'overheard', 'his', 'plans', 'nah', 'joe', 'pesci', 's', 'character', 'ranted', 'that', 'he', 'wanted', 'people', 'to', 'know', 'it', 'is', 'he', 'who', 'is', 'supplying', 'drugs', 'etc', 'so', 'i', 'dunno', 'maybe', 'he', 'just', 'hates', 'mj', 's', 'music', 'lots', 'of', 'cool', 'things', 'in', 'this', 'like', 'mj', 'turning', 'into', 'a', 'car', 'and', 'a', 'robot', 'and', 'the', 'whole', 'speed', 'demon', 'sequence', 'also', 'the', 'director', 'must', 'have', 'had', 'the', 'patience', 'of', 'a', 'saint', 'when', 'it', 'came', 'to', 'filming', 'the', 'kiddy', 'bad', 'sequence', 'as', 'usually', 'directors', 'hate', 'working', 'with', 'one', 'kid', 'let', 'alone', 'a', 'whole', 'bunch', 'of', 'them', 'performing', 'a', 'complex', 'dance', 'scene', 'bottom', 'line', 'this', 'movie', 'is', 'for', 'people', 'who', 'like', 'mj', 'on', 'one', 'level', 'or', 'another', 'which', 'i', 'think', 'is', 'most', 'people', 'if', 'not', 'then', 'stay', 'away', 'it', 'does', 'try', 'and', 'give', 'off', 'a', 'wholesome', 'message', 'and', 'ironically', 'mj', 's', 'bestest', 'buddy', 'in', 'this', 'movie', 'is', 'a', 'girl', 'michael', 'jackson', 'is', 'truly', 'one', 'of', 'the', 'most', 'talented', 'people', 'ever', 'to', 'grace', 'this', 'planet', 'but', 'is', 'he', 'guilty', 'well', 'with', 'all', 'the', 'attention', 'i', 've', 'gave', 'this', 'subject', 'hmmm', 'well', 'i', 'don', 't', 'know', 'because', 'people', 'can', 'be', 'different', 'behind', 'closed', 'doors', 'i', 'know', 'this', 'for', 'a', 'fact', 'he', 'is', 'either', 'an', 'extremely', 'nice', 'but', 'stupid', 'guy', 'or', 'one', 'of', 'the', 'most', 'sickest', 'liars', 'i', 'hope', 'he', 'is', 'not', 'the', 'latter'], tags=[0])"
      ]
     },
     "execution_count": 16,
     "metadata": {},
     "output_type": "execute_result"
    }
   ],
   "source": [
    "# Examine an example:\n",
    "taggedDocs[0]"
   ]
  },
  {
   "cell_type": "markdown",
   "metadata": {},
   "source": [
    "# Tuning Doc2Vec\n",
    "\n",
    "We are now ready to train the Doc2Vec model.  The process will go something like this:\n",
    "1. Define the Doc2Vec model object\n",
    "2. Build vocabulary from a sequence of sentences (i.e. our reviews)\n",
    "3. Train the Doc2Vec model (Doc2Vec uses a inner shallow neural network used to train the embeddings)\n",
    "4. Create a feature set utilizing the trained Doc2Vec model\n",
    "5. Pass the feature set to the Scikit-learn models for training and evaluation\n",
    "\n",
    "Two very helpful resources for tuning:\n",
    "\n",
    "1. [The original paper itself](https://arxiv.org/abs/1405.4053) by Mikilov and Le\n",
    "2. [Gensim's Doc2Vec Tutorial](https://github.com/RaRe-Technologies/gensim/blob/develop/docs/notebooks/doc2vec-IMDB.ipynb)\n",
    "\n",
    "One note however:  During my research I came across some discussion/controversy about the validity of the final accuracy score in the original paper.  This also included skepticism voiced by one of the paper's authors, Mikilov.  As such we won't try to replicate the paper's accuracy metrics exactly, as there is some question as to whether that is possible or not on this data set."
   ]
  },
  {
   "cell_type": "markdown",
   "metadata": {},
   "source": [
    "## Implementation\n",
    "\n",
    "### Create the Doc2Vec model, build the vocab, and train"
   ]
  },
  {
   "cell_type": "code",
   "execution_count": 16,
   "metadata": {
    "ExecuteTime": {
     "end_time": "2018-11-30T16:13:15.992570Z",
     "start_time": "2018-11-30T16:10:11.632037Z"
    },
    "scrolled": true
   },
   "outputs": [],
   "source": [
    "doc2vecModel = Doc2Vec(dm = 0, vector_size = 100, negative = 5, hs = 0, min_count = 2, sample = 0, epochs = 20, workers = cores)\n",
    "doc2vecModel.build_vocab(taggedDocs)\n",
    "doc2vecModel.train(taggedDocs, total_examples = doc2vecModel.corpus_count, epochs = doc2vecModel.epochs)"
   ]
  },
  {
   "cell_type": "code",
   "execution_count": 19,
   "metadata": {
    "ExecuteTime": {
     "end_time": "2018-11-30T16:17:56.948458Z",
     "start_time": "2018-11-30T16:17:56.638636Z"
    }
   },
   "outputs": [
    {
     "name": "stdout",
     "output_type": "stream",
     "text": [
      "100000\n"
     ]
    }
   ],
   "source": [
    "print(len(doc2vecModel.docvecs))"
   ]
  },
  {
   "cell_type": "markdown",
   "metadata": {},
   "source": [
    "### Split Doc2Vec vectors into train, validation, and test sets"
   ]
  },
  {
   "cell_type": "code",
   "execution_count": 17,
   "metadata": {
    "ExecuteTime": {
     "end_time": "2018-12-03T15:47:10.811160Z",
     "start_time": "2018-12-03T15:47:10.460229Z"
    }
   },
   "outputs": [
    {
     "ename": "NameError",
     "evalue": "name 'doc2vecModel' is not defined",
     "output_type": "error",
     "traceback": [
      "\u001b[1;31m---------------------------------------------------------------------------\u001b[0m",
      "\u001b[1;31mNameError\u001b[0m                                 Traceback (most recent call last)",
      "\u001b[1;32m<ipython-input-17-79eb02526440>\u001b[0m in \u001b[0;36m<module>\u001b[1;34m\u001b[0m\n\u001b[1;32m----> 1\u001b[1;33m \u001b[0mtrainVecs\u001b[0m \u001b[1;33m=\u001b[0m \u001b[0mdoc2vecModel\u001b[0m\u001b[1;33m.\u001b[0m\u001b[0mdocvecs\u001b[0m\u001b[1;33m.\u001b[0m\u001b[0mdoctag_syn0\u001b[0m\u001b[1;33m[\u001b[0m\u001b[1;33m:\u001b[0m\u001b[1;36m25000\u001b[0m\u001b[1;33m]\u001b[0m\u001b[1;33m\u001b[0m\u001b[0m\n\u001b[0m\u001b[0;32m      2\u001b[0m \u001b[0mvalVecs\u001b[0m \u001b[1;33m=\u001b[0m \u001b[0mdoc2vecModel\u001b[0m\u001b[1;33m.\u001b[0m\u001b[0mdocvecs\u001b[0m\u001b[1;33m.\u001b[0m\u001b[0mdoctag_syn0\u001b[0m\u001b[1;33m[\u001b[0m\u001b[1;36m25000\u001b[0m\u001b[1;33m:\u001b[0m\u001b[1;36m75000\u001b[0m\u001b[1;33m]\u001b[0m\u001b[1;33m\u001b[0m\u001b[0m\n\u001b[0;32m      3\u001b[0m \u001b[0mtestVecs\u001b[0m \u001b[1;33m=\u001b[0m \u001b[0mdoc2vecModel\u001b[0m\u001b[1;33m.\u001b[0m\u001b[0mdocvecs\u001b[0m\u001b[1;33m.\u001b[0m\u001b[0mdoctag_syn0\u001b[0m\u001b[1;33m[\u001b[0m\u001b[1;36m75000\u001b[0m\u001b[1;33m:\u001b[0m\u001b[1;33m]\u001b[0m\u001b[1;33m\u001b[0m\u001b[0m\n\u001b[0;32m      4\u001b[0m \u001b[1;33m\u001b[0m\u001b[0m\n\u001b[0;32m      5\u001b[0m \u001b[0mtrainLabels\u001b[0m \u001b[1;33m=\u001b[0m \u001b[0mlist\u001b[0m\u001b[1;33m(\u001b[0m\u001b[0mcombinedDat\u001b[0m\u001b[1;33m[\u001b[0m\u001b[1;34m'sentiment'\u001b[0m\u001b[1;33m]\u001b[0m\u001b[1;33m[\u001b[0m\u001b[1;33m:\u001b[0m\u001b[1;36m25000\u001b[0m\u001b[1;33m]\u001b[0m\u001b[1;33m)\u001b[0m\u001b[1;33m\u001b[0m\u001b[0m\n",
      "\u001b[1;31mNameError\u001b[0m: name 'doc2vecModel' is not defined"
     ]
    }
   ],
   "source": [
    "trainVecs = doc2vecModel.docvecs.doctag_syn0[:25000]\n",
    "valVecs = doc2vecModel.docvecs.doctag_syn0[25000:75000]\n",
    "testVecs = doc2vecModel.docvecs.doctag_syn0[75000:]\n",
    "\n",
    "trainLabels = list(combinedDat['sentiment'][:25000])\n",
    "\n",
    "print(len(trainVecs))\n",
    "print(len(trainLabels))\n",
    "print(len(valVecs))\n",
    "print(len(testVecs))"
   ]
  },
  {
   "cell_type": "code",
   "execution_count": null,
   "metadata": {
    "ExecuteTime": {
     "end_time": "2018-12-03T15:45:20.324374Z",
     "start_time": "2018-12-03T15:45:02.346Z"
    }
   },
   "outputs": [],
   "source": [
    "X_train, X_eval, y_train, y_eval = train_test_split(\n",
    "    trainVecs, \n",
    "    trainLabels, \n",
    "    test_size = 0.1, \n",
    "    shuffle = True, \n",
    "    random_state = \n",
    "    seedVal, stratify = trainLabels\n",
    ")"
   ]
  },
  {
   "cell_type": "markdown",
   "metadata": {},
   "source": [
    "## Train and assess classifiers"
   ]
  },
  {
   "cell_type": "code",
   "execution_count": null,
   "metadata": {
    "ExecuteTime": {
     "end_time": "2018-12-03T15:47:10.812164Z",
     "start_time": "2018-12-03T15:46:02.085Z"
    }
   },
   "outputs": [],
   "source": [
    "def plotHistory(history):\n",
    "    fig, (ax1) = plt.subplots(nrows = 1, ncols = 1, figsize = (8, 4))\n",
    "    \n",
    "    # summarize history for accuracy\n",
    "    ax1.plot(history['validation_0']['auc'])\n",
    "    ax1.plot(history['validation_1']['auc'])\n",
    "    ax1.set_title('Model AUC')\n",
    "    ax1.set_ylabel('AUC')\n",
    "    ax1.set_xlabel('Epoch')\n",
    "    ax1.legend(['Train', 'Val'], loc='upper left')\n",
    "    \n",
    "    plt.show()"
   ]
  },
  {
   "cell_type": "code",
   "execution_count": null,
   "metadata": {
    "ExecuteTime": {
     "end_time": "2018-12-03T15:45:20.328384Z",
     "start_time": "2018-12-03T15:45:09.290Z"
    }
   },
   "outputs": [],
   "source": [
    "model = xg.XGBClassifier(\n",
    "    objective = \"binary:logistic\",\n",
    "    random_state = seedVal,\n",
    ")\n",
    "\n",
    "model.fit(\n",
    "    X_train, \n",
    "    y_train, \n",
    "    eval_set = [(X_train, y_train), (X_eval, y_eval)],\n",
    "    eval_metric = \"auc\",\n",
    "    verbose = False,\n",
    "    early_stopping_rounds = 5,\n",
    "    callbacks=[\n",
    "        xg.callback.print_evaluation(period = 50, show_stdv = True)\n",
    "    ]\n",
    ")"
   ]
  },
  {
   "cell_type": "code",
   "execution_count": 133,
   "metadata": {
    "ExecuteTime": {
     "end_time": "2018-11-30T18:31:30.659660Z",
     "start_time": "2018-11-30T18:31:30.305720Z"
    }
   },
   "outputs": [
    {
     "name": "stdout",
     "output_type": "stream",
     "text": [
      "[[1068  182]\n",
      " [ 193 1057]]\n",
      "0.85\n"
     ]
    }
   ],
   "source": [
    "preds = model.predict(X_eval)\n",
    "print(confusion_matrix(y_eval, preds))\n",
    "print(accuracy_score(y_eval, preds))"
   ]
  },
  {
   "cell_type": "code",
   "execution_count": 134,
   "metadata": {
    "ExecuteTime": {
     "end_time": "2018-11-30T18:31:31.076079Z",
     "start_time": "2018-11-30T18:31:30.661666Z"
    }
   },
   "outputs": [
    {
     "data": {
      "image/png": "[encoded data removed]",
      "text/plain": [
       "<Figure size 576x288 with 1 Axes>"
      ]
     },
     "metadata": {
      "needs_background": "light"
     },
     "output_type": "display_data"
    }
   ],
   "source": [
    "plotHistory(model.evals_result())"
   ]
  },
  {
   "cell_type": "markdown",
   "metadata": {},
   "source": [
    "## Comments\n",
    "\n",
    "Things are clearly off to a good start with tuning.  We picked up four percentage points from our first Doc2Vec model, achieved the best performing model to date, and still maintained the speed increases we enjoyed above.  \n",
    "\n",
    "Comparison table for reference:\n",
    "\n",
    "\n",
    "|Model|Accuracy|Best Params                                      |\n",
    "|--------------------------|--------|-----------------------------------|\n",
    "|LR (baseline)             |86.35%  |{'LR__C': 0.1, 'LR__penalty': 'l1'}|\n",
    "|SVM centroid              |86.36%  |Scikit-learn defaults              |\n",
    "|SVM Doc2Vec               |84.48%  |Scikit-learn defaults              |\n",
    "|SVM Doc2Vec Init tuning   |88.71%  |dm0, vs100, ng5, hs0, mc2, sm0, e20|\n",
    "\n",
    "<div style=\"clear:both\"></div>"
   ]
  },
  {
   "cell_type": "markdown",
   "metadata": {},
   "source": [
    "# Combining Doc2Vec models\n",
    "\n",
    "Another method we can explore is combining the outputs of two Doc2Vec models similar to an pseudo-ensemble.  This can be done by using `np.hstack` to concatenate the document vectors from the two (or more) models.  The output will be one combined vector per review, and this can be fed into the Scikit-lern evaluations as the feature set.\n",
    "\n",
    "Let's create three Doc2Vec models, train them, make a few feature set combinations, and see if we realize any improvement in accuracy:"
   ]
  },
  {
   "cell_type": "markdown",
   "metadata": {},
   "source": [
    "## Create Doc2Vec models, build vocabulary, and train"
   ]
  },
  {
   "cell_type": "code",
   "execution_count": 135,
   "metadata": {
    "ExecuteTime": {
     "end_time": "2018-11-30T18:48:27.111824Z",
     "start_time": "2018-11-30T18:33:16.271986Z"
    },
    "scrolled": true
   },
   "outputs": [],
   "source": [
    "# Instantiate each model\n",
    "m1 = Doc2Vec(dm=1, dm_concat=1, size=100, window=5, negative=5, hs=0, min_count=2, workers=cores)\n",
    "m2 = Doc2Vec(dm=0, size=100, negative=5, hs=0, min_count=2, workers=cores)\n",
    "m3 = Doc2Vec(dm=1, dm_mean=1, size=100, window=10, negative=5, hs=0, min_count=2, workers=cores)\n",
    "\n",
    "# Build vocab with first model\n",
    "m1.build_vocab(taggedDocs)\n",
    "\n",
    "# Share first model's vocab scan w/ the other models\n",
    "m2.reset_from(m1)\n",
    "m3.reset_from(m1)\n",
    "\n",
    "# Model training params\n",
    "alpha, min_alpha, passes = (0.025, 0.001, 20)\n",
    "\n",
    "# Train each model on the labeled training data\n",
    "m1.train(taggedDocs, total_examples = m1.corpus_count, start_alpha = alpha, end_alpha = min_alpha, epochs = passes)\n",
    "m2.train(taggedDocs, total_examples = m2.corpus_count, start_alpha = alpha, end_alpha = min_alpha, epochs = passes)\n",
    "m3.train(taggedDocs, total_examples = m3.corpus_count, start_alpha = alpha, end_alpha = min_alpha, epochs = passes)\n",
    "\n",
    "print(\"Finished!\")"
   ]
  },
  {
   "cell_type": "markdown",
   "metadata": {},
   "source": [
    "## Combination one:  Train and assess classifiers\n",
    "\n",
    "Notice below how we iterate through the document vectors from both models and combine them with `np.hstack`."
   ]
  },
  {
   "cell_type": "code",
   "execution_count": 147,
   "metadata": {
    "ExecuteTime": {
     "end_time": "2018-11-30T18:52:27.301026Z",
     "start_time": "2018-11-30T18:52:26.991603Z"
    }
   },
   "outputs": [],
   "source": [
    "def assessXGB(xgModel, d2vM1, d2vM2, y):\n",
    "    # Build the feature set by combining vectors from multiple models (m1 and m2)\n",
    "    trainVecs = []\n",
    "\n",
    "    for i in range(0, 25000):\n",
    "        trainVecs.append(np.hstack((d2vM1.docvecs[i], d2vM2.docvecs[i])))\n",
    "\n",
    "    print(\"len(trainVecs)\", len(trainVecs))\n",
    "\n",
    "    X_train, X_eval, y_train, y_eval = train_test_split(\n",
    "        np.asarray(trainVecs), \n",
    "        y, \n",
    "        test_size = 0.1, \n",
    "        shuffle = True, \n",
    "        random_state = seedVal, \n",
    "        stratify = y\n",
    "    )\n",
    "    \n",
    "    xgModel.fit(\n",
    "        X_train, \n",
    "        y_train, \n",
    "        eval_set = [(X_train, y_train), (X_eval, y_eval)],\n",
    "        eval_metric = \"auc\",\n",
    "        verbose = False,\n",
    "        early_stopping_rounds = 5,\n",
    "        callbacks=[\n",
    "            xg.callback.print_evaluation(period = 50, show_stdv = True)\n",
    "        ]\n",
    "    )\n",
    "    \n",
    "    preds = model.predict(X_eval)\n",
    "    print(confusion_matrix(y_eval, preds))\n",
    "    print(accuracy_score(y_eval, preds))\n",
    "\n",
    "    plotHistory(model.evals_result())"
   ]
  },
  {
   "cell_type": "code",
   "execution_count": 148,
   "metadata": {
    "ExecuteTime": {
     "end_time": "2018-11-30T18:53:03.217525Z",
     "start_time": "2018-11-30T18:52:27.301026Z"
    }
   },
   "outputs": [
    {
     "name": "stdout",
     "output_type": "stream",
     "text": [
      "len(trainVecs) 25000\n",
      "[0]\tvalidation_0-auc:0.738928\tvalidation_1-auc:0.715925\n",
      "[50]\tvalidation_0-auc:0.925526\tvalidation_1-auc:0.899297\n",
      "[99]\tvalidation_0-auc:0.950882\tvalidation_1-auc:0.922311\n",
      "[[1060  190]\n",
      " [ 184 1066]]\n",
      "0.8504\n"
     ]
    },
    {
     "data": {
      "image/png": "[encoded data removed]",
      "text/plain": [
       "<Figure size 576x288 with 1 Axes>"
      ]
     },
     "metadata": {
      "needs_background": "light"
     },
     "output_type": "display_data"
    }
   ],
   "source": [
    "model = xg.XGBClassifier(\n",
    "    objective = \"binary:logistic\",\n",
    "    random_state = seedVal,\n",
    ")\n",
    "\n",
    "assessXGB(model, m1, m2, list(combinedDat['sentiment'][:25000]))"
   ]
  },
  {
   "cell_type": "code",
   "execution_count": 149,
   "metadata": {
    "ExecuteTime": {
     "end_time": "2018-11-30T18:54:33.351021Z",
     "start_time": "2018-11-30T18:53:58.273736Z"
    }
   },
   "outputs": [
    {
     "name": "stdout",
     "output_type": "stream",
     "text": [
      "len(trainVecs) 25000\n",
      "[0]\tvalidation_0-auc:0.742903\tvalidation_1-auc:0.720705\n",
      "[50]\tvalidation_0-auc:0.926477\tvalidation_1-auc:0.901955\n",
      "[99]\tvalidation_0-auc:0.950987\tvalidation_1-auc:0.924173\n",
      "[[1063  187]\n",
      " [ 177 1073]]\n",
      "0.8544\n"
     ]
    },
    {
     "data": {
      "image/png": "[encoded data removed]",
      "text/plain": [
       "<Figure size 576x288 with 1 Axes>"
      ]
     },
     "metadata": {
      "needs_background": "light"
     },
     "output_type": "display_data"
    }
   ],
   "source": [
    "model = xg.XGBClassifier(\n",
    "    objective = \"binary:logistic\",\n",
    "    random_state = seedVal,\n",
    ")\n",
    "\n",
    "assessXGB(model, m2, m3, list(combinedDat['sentiment'][:25000]))"
   ]
  },
  {
   "cell_type": "code",
   "execution_count": 150,
   "metadata": {
    "ExecuteTime": {
     "end_time": "2018-11-30T18:55:44.043409Z",
     "start_time": "2018-11-30T18:55:08.722791Z"
    }
   },
   "outputs": [
    {
     "name": "stdout",
     "output_type": "stream",
     "text": [
      "len(trainVecs) 25000\n",
      "[0]\tvalidation_0-auc:0.723415\tvalidation_1-auc:0.703731\n",
      "[50]\tvalidation_0-auc:0.905568\tvalidation_1-auc:0.874824\n",
      "[99]\tvalidation_0-auc:0.931947\tvalidation_1-auc:0.894716\n",
      "[[1031  219]\n",
      " [ 240 1010]]\n",
      "0.8164\n"
     ]
    },
    {
     "data": {
      "image/png": "[encoded data removed]",
      "text/plain": [
       "<Figure size 576x288 with 1 Axes>"
      ]
     },
     "metadata": {
      "needs_background": "light"
     },
     "output_type": "display_data"
    }
   ],
   "source": [
    "model = xg.XGBClassifier(\n",
    "    objective = \"binary:logistic\",\n",
    "    random_state = seedVal,\n",
    ")\n",
    "\n",
    "assessXGB(model, m1, m3, list(combinedDat['sentiment'][:25000]))"
   ]
  },
  {
   "cell_type": "markdown",
   "metadata": {},
   "source": [
    "## Comments\n",
    "\n",
    "We actually dropped a tiny amount in of accuracy from the previous section although it doesn't appear to be statistically significant.  Let's try again, but now we'll expand the corpus the models have access to."
   ]
  },
  {
   "cell_type": "markdown",
   "metadata": {},
   "source": [
    "# Manual training and feature set creation utilizing combined Doc2Vec models\n",
    "\n",
    "Next we'll try the same three Doc2Vec models we utilized before with a vocabulary created from the full suite of review text.  The training process will be implemented manually, we'll adjust the alpha value it epoch, and we'll train the models on the entire review corpus.  Once this is done we'll utilize the `infer_vector` method of the models to manually create the labeled document vectors (i.e. our feature set), since the `docvecs` property will now contain a mix of labeled and un-labeled document vectors."
   ]
  },
  {
   "cell_type": "markdown",
   "metadata": {},
   "source": [
    "## Create Doc2Vec models, build vocabulary, and train"
   ]
  },
  {
   "cell_type": "code",
   "execution_count": 151,
   "metadata": {
    "ExecuteTime": {
     "end_time": "2018-11-30T19:16:02.804207Z",
     "start_time": "2018-11-30T19:00:56.773386Z"
    }
   },
   "outputs": [],
   "source": [
    "# Instantiate each model\n",
    "m1 = Doc2Vec(dm=1, dm_concat=1, size=100, window=5, negative=5, hs=0, min_count=2, workers=cores)\n",
    "m2 = Doc2Vec(dm=0, size=100, negative=5, hs=0, min_count=2, workers=cores)\n",
    "m3 = Doc2Vec(dm=1, dm_mean=1, size=100, window=10, negative=5, hs=0, min_count=2, workers=cores)\n",
    "\n",
    "# Build vocab with first model using all documents\n",
    "m1.build_vocab(taggedDocs)\n",
    "\n",
    "# Share first model's vocab scan w/ the other models\n",
    "m2.reset_from(m1)\n",
    "m3.reset_from(m1)\n",
    "\n",
    "# Set training params\n",
    "alpha, min_alpha, passes = (0.025, 0.001, 20)\n",
    "alpha_delta = (alpha - min_alpha) / passes\n",
    "\n",
    "# Train the models\n",
    "for epoch in range(passes):  \n",
    "    # Shuffle the documents; literature reports this provides the best results\n",
    "    shuffle(taggedDocs)\n",
    "    \n",
    "    # Train the models\n",
    "    m1.alpha, m1.min_alpha = alpha, alpha\n",
    "    m1.train(taggedDocs, total_examples = m1.corpus_count, epochs = 1)\n",
    "    \n",
    "    m2.alpha, m2.min_alpha = alpha, alpha\n",
    "    m2.train(taggedDocs, total_examples = m2.corpus_count, epochs = 1)\n",
    "    \n",
    "    m3.alpha, m3.min_alpha = alpha, alpha\n",
    "    m3.train(taggedDocs, total_examples = m3.corpus_count, epochs = 1)\n",
    "   \n",
    "    alpha -= alpha_delta"
   ]
  },
  {
   "cell_type": "markdown",
   "metadata": {},
   "source": [
    "## Combination one:  Train and assess classifiers"
   ]
  },
  {
   "cell_type": "code",
   "execution_count": 152,
   "metadata": {
    "ExecuteTime": {
     "end_time": "2018-11-30T19:16:37.017527Z",
     "start_time": "2018-11-30T19:16:02.804207Z"
    }
   },
   "outputs": [
    {
     "name": "stdout",
     "output_type": "stream",
     "text": [
      "len(trainVecs) 25000\n",
      "[0]\tvalidation_0-auc:0.734533\tvalidation_1-auc:0.715314\n",
      "[50]\tvalidation_0-auc:0.929131\tvalidation_1-auc:0.904614\n",
      "[99]\tvalidation_0-auc:0.953465\tvalidation_1-auc:0.927355\n",
      "[[1067  183]\n",
      " [ 170 1080]]\n",
      "0.8588\n"
     ]
    },
    {
     "data": {
      "image/png": "[encoded data removed]",
      "text/plain": [
       "<Figure size 576x288 with 1 Axes>"
      ]
     },
     "metadata": {
      "needs_background": "light"
     },
     "output_type": "display_data"
    }
   ],
   "source": [
    "model = xg.XGBClassifier(\n",
    "    objective = \"binary:logistic\",\n",
    "    random_state = seedVal,\n",
    ")\n",
    "\n",
    "assessXGB(model, m1, m2, list(combinedDat['sentiment'][:25000]))"
   ]
  },
  {
   "cell_type": "code",
   "execution_count": 153,
   "metadata": {
    "ExecuteTime": {
     "end_time": "2018-11-30T19:17:11.453270Z",
     "start_time": "2018-11-30T19:16:37.019077Z"
    }
   },
   "outputs": [
    {
     "name": "stdout",
     "output_type": "stream",
     "text": [
      "len(trainVecs) 25000\n",
      "[0]\tvalidation_0-auc:0.735689\tvalidation_1-auc:0.715437\n",
      "[50]\tvalidation_0-auc:0.931923\tvalidation_1-auc:0.910877\n",
      "[99]\tvalidation_0-auc:0.954465\tvalidation_1-auc:0.931558\n",
      "[[1071  179]\n",
      " [ 164 1086]]\n",
      "0.8628\n"
     ]
    },
    {
     "data": {
      "image/png": "[encoded data removed]",
      "text/plain": [
       "<Figure size 576x288 with 1 Axes>"
      ]
     },
     "metadata": {
      "needs_background": "light"
     },
     "output_type": "display_data"
    }
   ],
   "source": [
    "model = xg.XGBClassifier(\n",
    "    objective = \"binary:logistic\",\n",
    "    random_state = seedVal,\n",
    ")\n",
    "\n",
    "assessXGB(model, m2, m3, list(combinedDat['sentiment'][:25000]))"
   ]
  },
  {
   "cell_type": "markdown",
   "metadata": {},
   "source": [
    "## Comments\n",
    "\n",
    "So far Doc2Vec with combined models and manual training has given us the best results with a 89.51% on the training data.  This is 3 percentage points over the baseline and the Doc2Vec centroid models, and 5 percentage points better than the initial, untuned Doc2Ved model. "
   ]
  },
  {
   "cell_type": "markdown",
   "metadata": {},
   "source": [
    "# Doc2Vec tuning\n",
    "\n",
    "Tune models M2 and M3; run against baseline XGBoost model; predict against val data to check perf"
   ]
  },
  {
   "cell_type": "code",
   "execution_count": 29,
   "metadata": {
    "ExecuteTime": {
     "end_time": "2018-12-02T23:01:08.513323Z",
     "start_time": "2018-12-02T23:01:08.242312Z"
    }
   },
   "outputs": [],
   "source": [
    "def trainDoc2Vec(params):\n",
    "    m = Doc2Vec(\n",
    "        dm=params['dm'], \n",
    "        dm_concat=params['dm_concat'], \n",
    "        dm_mean=params['dm_mean'],\n",
    "        size=params['size'], \n",
    "        window=params['window'], \n",
    "        negative=params['negative'], \n",
    "        hs=params['hs'], \n",
    "        min_count=params['min_count'], \n",
    "        workers=cores,\n",
    "        vector_size=['vector_size']\n",
    "    )\n",
    "    \n",
    "    docs = taggedDocs[:25000]\n",
    "    \n",
    "    # Build vocab with first model using all documents\n",
    "    m.build_vocab(docs)\n",
    "\n",
    "    # Set training params\n",
    "    alpha, min_alpha = (0.025, 0.001)\n",
    "    alpha_delta = (alpha - min_alpha) / params['passes']\n",
    "\n",
    "    # Train the models\n",
    "    for epoch in range(params['passes']):  \n",
    "        # Shuffle the documents; literature reports this provides the best results\n",
    "        shuffle(docs)\n",
    "\n",
    "        # Train the models\n",
    "        m.alpha, m.min_alpha = alpha, alpha\n",
    "        m.train(docs, total_examples = m.corpus_count, epochs = 1)\n",
    "        \n",
    "        alpha -= alpha_delta\n",
    "        \n",
    "    return m"
   ]
  },
  {
   "cell_type": "code",
   "execution_count": 26,
   "metadata": {
    "ExecuteTime": {
     "end_time": "2018-12-02T19:49:26.716432Z",
     "start_time": "2018-12-02T19:49:26.481951Z"
    }
   },
   "outputs": [],
   "source": [
    "#trainVecs = doc2vecModel.docvecs.doctag_syn0[:25000]\n",
    "#valVecs = doc2vecModel.docvecs.doctag_syn0[25000:75000]\n",
    "\n",
    "def assessSingleXGB(xgModel, d2vModel, y):\n",
    "    X_train, X_eval, y_train, y_eval = train_test_split(\n",
    "        np.asarray(d2vModel.docvecs.doctag_syn0[:25000]),  \n",
    "        y, \n",
    "        test_size = 0.1, \n",
    "        shuffle = True, \n",
    "        random_state = seedVal, \n",
    "        stratify = y\n",
    "    )\n",
    "    \n",
    "    xgModel.fit(\n",
    "        X_train, \n",
    "        y_train, \n",
    "        eval_set = [(X_train, y_train), (X_eval, y_eval)],\n",
    "        eval_metric = \"auc\",\n",
    "        verbose = False,\n",
    "        early_stopping_rounds = 5,\n",
    "        callbacks=[\n",
    "            #xg.callback.print_evaluation(period = 50, show_stdv = True)\n",
    "        ]\n",
    "    )\n",
    "    \n",
    "    preds = xgModel.predict(X_eval)\n",
    "    #print(confusion_matrix(y_eval, preds))\n",
    "    #print(accuracy_score(y_eval, preds))\n",
    "    \n",
    "    return accuracy_score(y_eval, preds)\n",
    "\n",
    "    #plotHistory(model.evals_result())"
   ]
  },
  {
   "cell_type": "code",
   "execution_count": 27,
   "metadata": {
    "ExecuteTime": {
     "end_time": "2018-12-02T19:49:28.795485Z",
     "start_time": "2018-12-02T19:49:28.467316Z"
    }
   },
   "outputs": [],
   "source": [
    "import copy\n",
    "\n",
    "def searchParams(silent = True):\n",
    "    print(\"**Starting run!\\n\")\n",
    "    \n",
    "    resultsDF = pd.DataFrame(columns = ['Model', 'Accuracy', 'Params'])\n",
    "    \n",
    "    params = []\n",
    "    base = {'dm':1, 'dm_concat':0, 'dm_mean': 1, 'size':500, 'window':3, 'negative':5, 'hs':0, 'min_count':2, 'passes':2, 'vector_size':300}\n",
    "    \n",
    "    for negative_ in np.linspace(5, 11, 4):\n",
    "        for min_count_ in np.linspace(2, 5, 4):\n",
    "            for vector_size_ in np.linspace(300, 500, 2):\n",
    "                _ = copy.deepcopy(base)\n",
    "                _['negative'] = negative_\n",
    "                _['min_count'] = min_count_\n",
    "                _['vector_size'] = vector_size_\n",
    "                params.append(_)\n",
    "    \n",
    "    for i, p in enumerate(params):\n",
    "        if not silent:\n",
    "                print(\"  Starting param run\", i, \"out of\", len(params)-1, \"...\")\n",
    "        \n",
    "        start = timer()\n",
    "        doc2vecModel = trainDoc2Vec(p)\n",
    "        end = timer()\n",
    "        if not silent:\n",
    "            print(\"    Doc2Vec training finished in\", round((end-start)/60, 2), \" mins\")\n",
    "        \n",
    "        xgModel = xg.XGBClassifier(\n",
    "            objective = \"binary:logistic\",\n",
    "            random_state = seedVal\n",
    "        )\n",
    "        \n",
    "        start = timer()\n",
    "        results = assessSingleXGB(xgModel, doc2vecModel, list(combinedDat['sentiment'][:25000]))\n",
    "        end = timer()\n",
    "        if not silent:\n",
    "            print(\"    xgModel training finished in\", round((end-start)/60, 2), \" mins with accuracy\", results)\n",
    "    \n",
    "        resultsDF.loc[len(resultsDF)] = list([\n",
    "            'Pass ' +  str(len(resultsDF)), \n",
    "            results,\n",
    "            p,\n",
    "        ])\n",
    "            \n",
    "    if not silent:\n",
    "        print(\"\\n**Finished!\")\n",
    "    \n",
    "    return resultsDF\n"
   ]
  },
  {
   "cell_type": "code",
   "execution_count": 222,
   "metadata": {
    "ExecuteTime": {
     "end_time": "2018-11-30T22:51:49.672016Z",
     "start_time": "2018-11-30T22:35:18.516844Z"
    }
   },
   "outputs": [
    {
     "name": "stdout",
     "output_type": "stream",
     "text": [
      "**Starting run!\n",
      "\n",
      "  Starting param run 0 ...\n",
      "\n",
      "  Doc2Vec training finished in 4.68  mins\n",
      "  xgModel training finished in 0.3  mins\n",
      "  Starting param run 1 ...\n",
      "\n",
      "  Doc2Vec training finished in 4.68  mins\n",
      "  xgModel training finished in 0.31  mins\n",
      "  Starting param run 2 ...\n",
      "\n",
      "  Doc2Vec training finished in 5.7  mins\n",
      "  xgModel training finished in 0.84  mins\n",
      "\n",
      "**Finished!\n"
     ]
    },
    {
     "data": {
      "text/html": [
       "<div>\n",
       "<style scoped>\n",
       "    .dataframe tbody tr th:only-of-type {\n",
       "        vertical-align: middle;\n",
       "    }\n",
       "\n",
       "    .dataframe tbody tr th {\n",
       "        vertical-align: top;\n",
       "    }\n",
       "\n",
       "    .dataframe thead th {\n",
       "        text-align: right;\n",
       "    }\n",
       "</style>\n",
       "<table border=\"1\" class=\"dataframe\">\n",
       "  <thead>\n",
       "    <tr style=\"text-align: right;\">\n",
       "      <th></th>\n",
       "      <th>Model</th>\n",
       "      <th>Accuracy</th>\n",
       "      <th>Params</th>\n",
       "    </tr>\n",
       "  </thead>\n",
       "  <tbody>\n",
       "    <tr>\n",
       "      <th>2</th>\n",
       "      <td>Pass 2</td>\n",
       "      <td>0.8204</td>\n",
       "      <td>[{'dm': 1, 'dm_concat': 0, 'dm_mean': 0, 'size...</td>\n",
       "    </tr>\n",
       "    <tr>\n",
       "      <th>1</th>\n",
       "      <td>Pass 1</td>\n",
       "      <td>0.8112</td>\n",
       "      <td>[{'dm': 1, 'dm_concat': 0, 'dm_mean': 0, 'size...</td>\n",
       "    </tr>\n",
       "    <tr>\n",
       "      <th>0</th>\n",
       "      <td>Pass 0</td>\n",
       "      <td>0.8032</td>\n",
       "      <td>[{'dm': 1, 'dm_concat': 0, 'dm_mean': 0, 'size...</td>\n",
       "    </tr>\n",
       "  </tbody>\n",
       "</table>\n",
       "</div>"
      ],
      "text/plain": [
       "    Model  Accuracy                                             Params\n",
       "2  Pass 2    0.8204  [{'dm': 1, 'dm_concat': 0, 'dm_mean': 0, 'size...\n",
       "1  Pass 1    0.8112  [{'dm': 1, 'dm_concat': 0, 'dm_mean': 0, 'size...\n",
       "0  Pass 0    0.8032  [{'dm': 1, 'dm_concat': 0, 'dm_mean': 0, 'size..."
      ]
     },
     "execution_count": 222,
     "metadata": {},
     "output_type": "execute_result"
    }
   ],
   "source": [
    "_df = searchParams()\n",
    "\n",
    "# Print results sorted by Accuracy desc\n",
    "pd.set_option('display.max_colwidth', -1)\n",
    "_df.sort_values(by = ['Accuracy'], ascending = [False])"
   ]
  },
  {
   "cell_type": "code",
   "execution_count": 244,
   "metadata": {
    "ExecuteTime": {
     "end_time": "2018-11-30T23:47:53.126814Z",
     "start_time": "2018-11-30T23:41:24.705313Z"
    }
   },
   "outputs": [
    {
     "name": "stdout",
     "output_type": "stream",
     "text": [
      "**Starting run!\n",
      "\n",
      "  Starting param run 0 out of 2 ...\n",
      "    Doc2Vec training finished in 1.55  mins\n",
      "    xgModel training finished in 0.77  mins with accuracy 0.5836\n",
      "  Starting param run 1 out of 2 ...\n",
      "    Doc2Vec training finished in 1.64  mins\n",
      "    xgModel training finished in 0.49  mins with accuracy 0.58\n",
      "  Starting param run 2 out of 2 ...\n",
      "    Doc2Vec training finished in 1.63  mins\n",
      "    xgModel training finished in 0.37  mins with accuracy 0.572\n",
      "\n",
      "**Finished!\n"
     ]
    },
    {
     "data": {
      "text/html": [
       "<div>\n",
       "<style scoped>\n",
       "    .dataframe tbody tr th:only-of-type {\n",
       "        vertical-align: middle;\n",
       "    }\n",
       "\n",
       "    .dataframe tbody tr th {\n",
       "        vertical-align: top;\n",
       "    }\n",
       "\n",
       "    .dataframe thead th {\n",
       "        text-align: right;\n",
       "    }\n",
       "</style>\n",
       "<table border=\"1\" class=\"dataframe\">\n",
       "  <thead>\n",
       "    <tr style=\"text-align: right;\">\n",
       "      <th></th>\n",
       "      <th>Model</th>\n",
       "      <th>Accuracy</th>\n",
       "      <th>Params</th>\n",
       "    </tr>\n",
       "  </thead>\n",
       "  <tbody>\n",
       "    <tr>\n",
       "      <th>0</th>\n",
       "      <td>Pass 0</td>\n",
       "      <td>0.5836</td>\n",
       "      <td>{'dm': 1, 'dm_concat': 0, 'dm_mean': 1, 'size': 500, 'window': 3, 'negative': 5, 'hs': 0, 'min_count': 2, 'passes': 2}</td>\n",
       "    </tr>\n",
       "    <tr>\n",
       "      <th>1</th>\n",
       "      <td>Pass 1</td>\n",
       "      <td>0.5800</td>\n",
       "      <td>{'dm': 1, 'dm_concat': 0, 'dm_mean': 1, 'size': 500, 'window': 5, 'negative': 5, 'hs': 0, 'min_count': 2, 'passes': 2}</td>\n",
       "    </tr>\n",
       "    <tr>\n",
       "      <th>2</th>\n",
       "      <td>Pass 2</td>\n",
       "      <td>0.5720</td>\n",
       "      <td>{'dm': 1, 'dm_concat': 0, 'dm_mean': 1, 'size': 500, 'window': 7, 'negative': 5, 'hs': 0, 'min_count': 2, 'passes': 2}</td>\n",
       "    </tr>\n",
       "  </tbody>\n",
       "</table>\n",
       "</div>"
      ],
      "text/plain": [
       "    Model  Accuracy  \\\n",
       "0  Pass 0  0.5836     \n",
       "1  Pass 1  0.5800     \n",
       "2  Pass 2  0.5720     \n",
       "\n",
       "                                                                                                                   Params  \n",
       "0  {'dm': 1, 'dm_concat': 0, 'dm_mean': 1, 'size': 500, 'window': 3, 'negative': 5, 'hs': 0, 'min_count': 2, 'passes': 2}  \n",
       "1  {'dm': 1, 'dm_concat': 0, 'dm_mean': 1, 'size': 500, 'window': 5, 'negative': 5, 'hs': 0, 'min_count': 2, 'passes': 2}  \n",
       "2  {'dm': 1, 'dm_concat': 0, 'dm_mean': 1, 'size': 500, 'window': 7, 'negative': 5, 'hs': 0, 'min_count': 2, 'passes': 2}  "
      ]
     },
     "execution_count": 244,
     "metadata": {},
     "output_type": "execute_result"
    }
   ],
   "source": [
    "_df = searchParams(False)\n",
    "\n",
    "# Print results sorted by Accuracy desc\n",
    "pd.set_option('display.max_colwidth', -1)\n",
    "_df.sort_values(by = ['Accuracy'], ascending = [False])"
   ]
  },
  {
   "cell_type": "code",
   "execution_count": null,
   "metadata": {
    "ExecuteTime": {
     "start_time": "2018-11-30T23:55:10.417Z"
    }
   },
   "outputs": [
    {
     "name": "stdout",
     "output_type": "stream",
     "text": [
      "**Starting run!\n",
      "\n",
      "  Starting param run 0 out of 15 ...\n",
      "    Doc2Vec training finished in 1.58  mins\n",
      "    xgModel training finished in 0.42  mins with accuracy 0.578\n",
      "  Starting param run 1 out of 15 ...\n"
     ]
    }
   ],
   "source": [
    "_df = searchParams(False)\n",
    "\n",
    "# Print results sorted by Accuracy desc\n",
    "pd.set_option('display.max_colwidth', -1)\n",
    "_df.sort_values(by = ['Accuracy'], ascending = [False])"
   ]
  },
  {
   "cell_type": "code",
   "execution_count": null,
   "metadata": {},
   "outputs": [],
   "source": []
  },
  {
   "cell_type": "code",
   "execution_count": 30,
   "metadata": {
    "ExecuteTime": {
     "end_time": "2018-12-02T23:05:14.264616Z",
     "start_time": "2018-12-02T23:05:14.045696Z"
    }
   },
   "outputs": [
    {
     "data": {
      "text/plain": [
       "array([0., 1.])"
      ]
     },
     "execution_count": 30,
     "metadata": {},
     "output_type": "execute_result"
    }
   ],
   "source": [
    "np.linspace(0, 1, 2)"
   ]
  },
  {
   "cell_type": "code",
   "execution_count": 28,
   "metadata": {
    "ExecuteTime": {
     "end_time": "2018-12-02T21:51:12.471911Z",
     "start_time": "2018-12-02T19:49:32.840093Z"
    },
    "scrolled": false
   },
   "outputs": [
    {
     "name": "stdout",
     "output_type": "stream",
     "text": [
      "**Starting run!\n",
      "\n",
      "  Starting param run 0 out of 31 ...\n",
      "    Doc2Vec training finished in 0.54  mins\n"
     ]
    },
    {
     "name": "stderr",
     "output_type": "stream",
     "text": [
      "c:\\users\\nathan\\appdata\\local\\programs\\python\\python36\\lib\\site-packages\\sklearn\\preprocessing\\label.py:151: DeprecationWarning: The truth value of an empty array is ambiguous. Returning False, but in future this will result in an error. Use `array.size > 0` to check that an array is not empty.\n",
      "  if diff:\n"
     ]
    },
    {
     "name": "stdout",
     "output_type": "stream",
     "text": [
      "    xgModel training finished in 3.09  mins with accuracy 0.736\n",
      "  Starting param run 1 out of 31 ...\n",
      "    Doc2Vec training finished in 0.54  mins\n"
     ]
    },
    {
     "name": "stderr",
     "output_type": "stream",
     "text": [
      "c:\\users\\nathan\\appdata\\local\\programs\\python\\python36\\lib\\site-packages\\sklearn\\preprocessing\\label.py:151: DeprecationWarning: The truth value of an empty array is ambiguous. Returning False, but in future this will result in an error. Use `array.size > 0` to check that an array is not empty.\n",
      "  if diff:\n"
     ]
    },
    {
     "name": "stdout",
     "output_type": "stream",
     "text": [
      "    xgModel training finished in 3.16  mins with accuracy 0.7268\n",
      "  Starting param run 2 out of 31 ...\n",
      "    Doc2Vec training finished in 0.54  mins\n"
     ]
    },
    {
     "name": "stderr",
     "output_type": "stream",
     "text": [
      "c:\\users\\nathan\\appdata\\local\\programs\\python\\python36\\lib\\site-packages\\sklearn\\preprocessing\\label.py:151: DeprecationWarning: The truth value of an empty array is ambiguous. Returning False, but in future this will result in an error. Use `array.size > 0` to check that an array is not empty.\n",
      "  if diff:\n"
     ]
    },
    {
     "name": "stdout",
     "output_type": "stream",
     "text": [
      "    xgModel training finished in 3.12  mins with accuracy 0.7224\n",
      "  Starting param run 3 out of 31 ...\n",
      "    Doc2Vec training finished in 0.53  mins\n"
     ]
    },
    {
     "name": "stderr",
     "output_type": "stream",
     "text": [
      "c:\\users\\nathan\\appdata\\local\\programs\\python\\python36\\lib\\site-packages\\sklearn\\preprocessing\\label.py:151: DeprecationWarning: The truth value of an empty array is ambiguous. Returning False, but in future this will result in an error. Use `array.size > 0` to check that an array is not empty.\n",
      "  if diff:\n"
     ]
    },
    {
     "name": "stdout",
     "output_type": "stream",
     "text": [
      "    xgModel training finished in 3.13  mins with accuracy 0.7252\n",
      "  Starting param run 4 out of 31 ...\n",
      "    Doc2Vec training finished in 0.53  mins\n"
     ]
    },
    {
     "name": "stderr",
     "output_type": "stream",
     "text": [
      "c:\\users\\nathan\\appdata\\local\\programs\\python\\python36\\lib\\site-packages\\sklearn\\preprocessing\\label.py:151: DeprecationWarning: The truth value of an empty array is ambiguous. Returning False, but in future this will result in an error. Use `array.size > 0` to check that an array is not empty.\n",
      "  if diff:\n"
     ]
    },
    {
     "name": "stdout",
     "output_type": "stream",
     "text": [
      "    xgModel training finished in 3.09  mins with accuracy 0.7304\n",
      "  Starting param run 5 out of 31 ...\n",
      "    Doc2Vec training finished in 0.52  mins\n"
     ]
    },
    {
     "name": "stderr",
     "output_type": "stream",
     "text": [
      "c:\\users\\nathan\\appdata\\local\\programs\\python\\python36\\lib\\site-packages\\sklearn\\preprocessing\\label.py:151: DeprecationWarning: The truth value of an empty array is ambiguous. Returning False, but in future this will result in an error. Use `array.size > 0` to check that an array is not empty.\n",
      "  if diff:\n"
     ]
    },
    {
     "name": "stdout",
     "output_type": "stream",
     "text": [
      "    xgModel training finished in 3.2  mins with accuracy 0.7404\n",
      "  Starting param run 6 out of 31 ...\n",
      "    Doc2Vec training finished in 0.51  mins\n"
     ]
    },
    {
     "name": "stderr",
     "output_type": "stream",
     "text": [
      "c:\\users\\nathan\\appdata\\local\\programs\\python\\python36\\lib\\site-packages\\sklearn\\preprocessing\\label.py:151: DeprecationWarning: The truth value of an empty array is ambiguous. Returning False, but in future this will result in an error. Use `array.size > 0` to check that an array is not empty.\n",
      "  if diff:\n"
     ]
    },
    {
     "name": "stdout",
     "output_type": "stream",
     "text": [
      "    xgModel training finished in 3.2  mins with accuracy 0.7212\n",
      "  Starting param run 7 out of 31 ...\n",
      "    Doc2Vec training finished in 0.53  mins\n"
     ]
    },
    {
     "name": "stderr",
     "output_type": "stream",
     "text": [
      "c:\\users\\nathan\\appdata\\local\\programs\\python\\python36\\lib\\site-packages\\sklearn\\preprocessing\\label.py:151: DeprecationWarning: The truth value of an empty array is ambiguous. Returning False, but in future this will result in an error. Use `array.size > 0` to check that an array is not empty.\n",
      "  if diff:\n"
     ]
    },
    {
     "name": "stdout",
     "output_type": "stream",
     "text": [
      "    xgModel training finished in 3.08  mins with accuracy 0.7184\n",
      "  Starting param run 8 out of 31 ...\n",
      "    Doc2Vec training finished in 0.64  mins\n"
     ]
    },
    {
     "name": "stderr",
     "output_type": "stream",
     "text": [
      "c:\\users\\nathan\\appdata\\local\\programs\\python\\python36\\lib\\site-packages\\sklearn\\preprocessing\\label.py:151: DeprecationWarning: The truth value of an empty array is ambiguous. Returning False, but in future this will result in an error. Use `array.size > 0` to check that an array is not empty.\n",
      "  if diff:\n"
     ]
    },
    {
     "name": "stdout",
     "output_type": "stream",
     "text": [
      "    xgModel training finished in 3.07  mins with accuracy 0.728\n",
      "  Starting param run 9 out of 31 ...\n",
      "    Doc2Vec training finished in 0.64  mins\n"
     ]
    },
    {
     "name": "stderr",
     "output_type": "stream",
     "text": [
      "c:\\users\\nathan\\appdata\\local\\programs\\python\\python36\\lib\\site-packages\\sklearn\\preprocessing\\label.py:151: DeprecationWarning: The truth value of an empty array is ambiguous. Returning False, but in future this will result in an error. Use `array.size > 0` to check that an array is not empty.\n",
      "  if diff:\n"
     ]
    },
    {
     "name": "stdout",
     "output_type": "stream",
     "text": [
      "    xgModel training finished in 3.12  mins with accuracy 0.7236\n",
      "  Starting param run 10 out of 31 ...\n",
      "    Doc2Vec training finished in 0.64  mins\n"
     ]
    },
    {
     "name": "stderr",
     "output_type": "stream",
     "text": [
      "c:\\users\\nathan\\appdata\\local\\programs\\python\\python36\\lib\\site-packages\\sklearn\\preprocessing\\label.py:151: DeprecationWarning: The truth value of an empty array is ambiguous. Returning False, but in future this will result in an error. Use `array.size > 0` to check that an array is not empty.\n",
      "  if diff:\n"
     ]
    },
    {
     "name": "stdout",
     "output_type": "stream",
     "text": [
      "    xgModel training finished in 3.08  mins with accuracy 0.7416\n",
      "  Starting param run 11 out of 31 ...\n",
      "    Doc2Vec training finished in 0.62  mins\n"
     ]
    },
    {
     "name": "stderr",
     "output_type": "stream",
     "text": [
      "c:\\users\\nathan\\appdata\\local\\programs\\python\\python36\\lib\\site-packages\\sklearn\\preprocessing\\label.py:151: DeprecationWarning: The truth value of an empty array is ambiguous. Returning False, but in future this will result in an error. Use `array.size > 0` to check that an array is not empty.\n",
      "  if diff:\n"
     ]
    },
    {
     "name": "stdout",
     "output_type": "stream",
     "text": [
      "    xgModel training finished in 3.2  mins with accuracy 0.7144\n",
      "  Starting param run 12 out of 31 ...\n",
      "    Doc2Vec training finished in 0.62  mins\n"
     ]
    },
    {
     "name": "stderr",
     "output_type": "stream",
     "text": [
      "c:\\users\\nathan\\appdata\\local\\programs\\python\\python36\\lib\\site-packages\\sklearn\\preprocessing\\label.py:151: DeprecationWarning: The truth value of an empty array is ambiguous. Returning False, but in future this will result in an error. Use `array.size > 0` to check that an array is not empty.\n",
      "  if diff:\n"
     ]
    },
    {
     "name": "stdout",
     "output_type": "stream",
     "text": [
      "    xgModel training finished in 3.11  mins with accuracy 0.7352\n",
      "  Starting param run 13 out of 31 ...\n",
      "    Doc2Vec training finished in 0.62  mins\n"
     ]
    },
    {
     "name": "stderr",
     "output_type": "stream",
     "text": [
      "c:\\users\\nathan\\appdata\\local\\programs\\python\\python36\\lib\\site-packages\\sklearn\\preprocessing\\label.py:151: DeprecationWarning: The truth value of an empty array is ambiguous. Returning False, but in future this will result in an error. Use `array.size > 0` to check that an array is not empty.\n",
      "  if diff:\n"
     ]
    },
    {
     "name": "stdout",
     "output_type": "stream",
     "text": [
      "    xgModel training finished in 3.21  mins with accuracy 0.7288\n",
      "  Starting param run 14 out of 31 ...\n",
      "    Doc2Vec training finished in 0.61  mins\n"
     ]
    },
    {
     "name": "stderr",
     "output_type": "stream",
     "text": [
      "c:\\users\\nathan\\appdata\\local\\programs\\python\\python36\\lib\\site-packages\\sklearn\\preprocessing\\label.py:151: DeprecationWarning: The truth value of an empty array is ambiguous. Returning False, but in future this will result in an error. Use `array.size > 0` to check that an array is not empty.\n",
      "  if diff:\n"
     ]
    },
    {
     "name": "stdout",
     "output_type": "stream",
     "text": [
      "    xgModel training finished in 3.24  mins with accuracy 0.7228\n",
      "  Starting param run 15 out of 31 ...\n",
      "    Doc2Vec training finished in 0.62  mins\n"
     ]
    },
    {
     "name": "stderr",
     "output_type": "stream",
     "text": [
      "c:\\users\\nathan\\appdata\\local\\programs\\python\\python36\\lib\\site-packages\\sklearn\\preprocessing\\label.py:151: DeprecationWarning: The truth value of an empty array is ambiguous. Returning False, but in future this will result in an error. Use `array.size > 0` to check that an array is not empty.\n",
      "  if diff:\n"
     ]
    },
    {
     "name": "stdout",
     "output_type": "stream",
     "text": [
      "    xgModel training finished in 3.1  mins with accuracy 0.7348\n",
      "  Starting param run 16 out of 31 ...\n",
      "    Doc2Vec training finished in 0.73  mins\n"
     ]
    },
    {
     "name": "stderr",
     "output_type": "stream",
     "text": [
      "c:\\users\\nathan\\appdata\\local\\programs\\python\\python36\\lib\\site-packages\\sklearn\\preprocessing\\label.py:151: DeprecationWarning: The truth value of an empty array is ambiguous. Returning False, but in future this will result in an error. Use `array.size > 0` to check that an array is not empty.\n",
      "  if diff:\n"
     ]
    },
    {
     "name": "stdout",
     "output_type": "stream",
     "text": [
      "    xgModel training finished in 3.18  mins with accuracy 0.7412\n",
      "  Starting param run 17 out of 31 ...\n",
      "    Doc2Vec training finished in 0.73  mins\n"
     ]
    },
    {
     "name": "stderr",
     "output_type": "stream",
     "text": [
      "c:\\users\\nathan\\appdata\\local\\programs\\python\\python36\\lib\\site-packages\\sklearn\\preprocessing\\label.py:151: DeprecationWarning: The truth value of an empty array is ambiguous. Returning False, but in future this will result in an error. Use `array.size > 0` to check that an array is not empty.\n",
      "  if diff:\n"
     ]
    },
    {
     "name": "stdout",
     "output_type": "stream",
     "text": [
      "    xgModel training finished in 3.13  mins with accuracy 0.7432\n",
      "  Starting param run 18 out of 31 ...\n",
      "    Doc2Vec training finished in 0.73  mins\n"
     ]
    },
    {
     "name": "stderr",
     "output_type": "stream",
     "text": [
      "c:\\users\\nathan\\appdata\\local\\programs\\python\\python36\\lib\\site-packages\\sklearn\\preprocessing\\label.py:151: DeprecationWarning: The truth value of an empty array is ambiguous. Returning False, but in future this will result in an error. Use `array.size > 0` to check that an array is not empty.\n",
      "  if diff:\n"
     ]
    },
    {
     "name": "stdout",
     "output_type": "stream",
     "text": [
      "    xgModel training finished in 3.12  mins with accuracy 0.7392\n",
      "  Starting param run 19 out of 31 ...\n",
      "    Doc2Vec training finished in 0.72  mins\n"
     ]
    },
    {
     "name": "stderr",
     "output_type": "stream",
     "text": [
      "c:\\users\\nathan\\appdata\\local\\programs\\python\\python36\\lib\\site-packages\\sklearn\\preprocessing\\label.py:151: DeprecationWarning: The truth value of an empty array is ambiguous. Returning False, but in future this will result in an error. Use `array.size > 0` to check that an array is not empty.\n",
      "  if diff:\n"
     ]
    },
    {
     "name": "stdout",
     "output_type": "stream",
     "text": [
      "    xgModel training finished in 3.21  mins with accuracy 0.7464\n",
      "  Starting param run 20 out of 31 ...\n",
      "    Doc2Vec training finished in 0.71  mins\n"
     ]
    },
    {
     "name": "stderr",
     "output_type": "stream",
     "text": [
      "c:\\users\\nathan\\appdata\\local\\programs\\python\\python36\\lib\\site-packages\\sklearn\\preprocessing\\label.py:151: DeprecationWarning: The truth value of an empty array is ambiguous. Returning False, but in future this will result in an error. Use `array.size > 0` to check that an array is not empty.\n",
      "  if diff:\n"
     ]
    },
    {
     "name": "stdout",
     "output_type": "stream",
     "text": [
      "    xgModel training finished in 3.1  mins with accuracy 0.7476\n",
      "  Starting param run 21 out of 31 ...\n",
      "    Doc2Vec training finished in 0.72  mins\n"
     ]
    },
    {
     "name": "stderr",
     "output_type": "stream",
     "text": [
      "c:\\users\\nathan\\appdata\\local\\programs\\python\\python36\\lib\\site-packages\\sklearn\\preprocessing\\label.py:151: DeprecationWarning: The truth value of an empty array is ambiguous. Returning False, but in future this will result in an error. Use `array.size > 0` to check that an array is not empty.\n",
      "  if diff:\n"
     ]
    },
    {
     "name": "stdout",
     "output_type": "stream",
     "text": [
      "    xgModel training finished in 3.09  mins with accuracy 0.74\n",
      "  Starting param run 22 out of 31 ...\n",
      "    Doc2Vec training finished in 0.71  mins\n"
     ]
    },
    {
     "name": "stderr",
     "output_type": "stream",
     "text": [
      "c:\\users\\nathan\\appdata\\local\\programs\\python\\python36\\lib\\site-packages\\sklearn\\preprocessing\\label.py:151: DeprecationWarning: The truth value of an empty array is ambiguous. Returning False, but in future this will result in an error. Use `array.size > 0` to check that an array is not empty.\n",
      "  if diff:\n"
     ]
    },
    {
     "name": "stdout",
     "output_type": "stream",
     "text": [
      "    xgModel training finished in 3.08  mins with accuracy 0.7496\n",
      "  Starting param run 23 out of 31 ...\n",
      "    Doc2Vec training finished in 0.71  mins\n"
     ]
    },
    {
     "name": "stderr",
     "output_type": "stream",
     "text": [
      "c:\\users\\nathan\\appdata\\local\\programs\\python\\python36\\lib\\site-packages\\sklearn\\preprocessing\\label.py:151: DeprecationWarning: The truth value of an empty array is ambiguous. Returning False, but in future this will result in an error. Use `array.size > 0` to check that an array is not empty.\n",
      "  if diff:\n"
     ]
    },
    {
     "name": "stdout",
     "output_type": "stream",
     "text": [
      "    xgModel training finished in 3.1  mins with accuracy 0.7476\n",
      "  Starting param run 24 out of 31 ...\n",
      "    Doc2Vec training finished in 0.85  mins\n"
     ]
    },
    {
     "name": "stderr",
     "output_type": "stream",
     "text": [
      "c:\\users\\nathan\\appdata\\local\\programs\\python\\python36\\lib\\site-packages\\sklearn\\preprocessing\\label.py:151: DeprecationWarning: The truth value of an empty array is ambiguous. Returning False, but in future this will result in an error. Use `array.size > 0` to check that an array is not empty.\n",
      "  if diff:\n"
     ]
    },
    {
     "name": "stdout",
     "output_type": "stream",
     "text": [
      "    xgModel training finished in 3.09  mins with accuracy 0.7464\n",
      "  Starting param run 25 out of 31 ...\n",
      "    Doc2Vec training finished in 0.83  mins\n"
     ]
    },
    {
     "name": "stderr",
     "output_type": "stream",
     "text": [
      "c:\\users\\nathan\\appdata\\local\\programs\\python\\python36\\lib\\site-packages\\sklearn\\preprocessing\\label.py:151: DeprecationWarning: The truth value of an empty array is ambiguous. Returning False, but in future this will result in an error. Use `array.size > 0` to check that an array is not empty.\n",
      "  if diff:\n"
     ]
    },
    {
     "name": "stdout",
     "output_type": "stream",
     "text": [
      "    xgModel training finished in 3.1  mins with accuracy 0.7488\n",
      "  Starting param run 26 out of 31 ...\n",
      "    Doc2Vec training finished in 0.82  mins\n"
     ]
    },
    {
     "name": "stderr",
     "output_type": "stream",
     "text": [
      "c:\\users\\nathan\\appdata\\local\\programs\\python\\python36\\lib\\site-packages\\sklearn\\preprocessing\\label.py:151: DeprecationWarning: The truth value of an empty array is ambiguous. Returning False, but in future this will result in an error. Use `array.size > 0` to check that an array is not empty.\n",
      "  if diff:\n"
     ]
    },
    {
     "name": "stdout",
     "output_type": "stream",
     "text": [
      "    xgModel training finished in 3.11  mins with accuracy 0.758\n",
      "  Starting param run 27 out of 31 ...\n",
      "    Doc2Vec training finished in 0.83  mins\n"
     ]
    },
    {
     "name": "stderr",
     "output_type": "stream",
     "text": [
      "c:\\users\\nathan\\appdata\\local\\programs\\python\\python36\\lib\\site-packages\\sklearn\\preprocessing\\label.py:151: DeprecationWarning: The truth value of an empty array is ambiguous. Returning False, but in future this will result in an error. Use `array.size > 0` to check that an array is not empty.\n",
      "  if diff:\n"
     ]
    },
    {
     "name": "stdout",
     "output_type": "stream",
     "text": [
      "    xgModel training finished in 3.12  mins with accuracy 0.7392\n",
      "  Starting param run 28 out of 31 ...\n",
      "    Doc2Vec training finished in 0.81  mins\n"
     ]
    },
    {
     "name": "stderr",
     "output_type": "stream",
     "text": [
      "c:\\users\\nathan\\appdata\\local\\programs\\python\\python36\\lib\\site-packages\\sklearn\\preprocessing\\label.py:151: DeprecationWarning: The truth value of an empty array is ambiguous. Returning False, but in future this will result in an error. Use `array.size > 0` to check that an array is not empty.\n",
      "  if diff:\n"
     ]
    },
    {
     "name": "stdout",
     "output_type": "stream",
     "text": [
      "    xgModel training finished in 3.07  mins with accuracy 0.7432\n",
      "  Starting param run 29 out of 31 ...\n",
      "    Doc2Vec training finished in 0.81  mins\n"
     ]
    },
    {
     "name": "stderr",
     "output_type": "stream",
     "text": [
      "c:\\users\\nathan\\appdata\\local\\programs\\python\\python36\\lib\\site-packages\\sklearn\\preprocessing\\label.py:151: DeprecationWarning: The truth value of an empty array is ambiguous. Returning False, but in future this will result in an error. Use `array.size > 0` to check that an array is not empty.\n",
      "  if diff:\n"
     ]
    },
    {
     "name": "stdout",
     "output_type": "stream",
     "text": [
      "    xgModel training finished in 3.12  mins with accuracy 0.7444\n",
      "  Starting param run 30 out of 31 ...\n",
      "    Doc2Vec training finished in 0.8  mins\n"
     ]
    },
    {
     "name": "stderr",
     "output_type": "stream",
     "text": [
      "c:\\users\\nathan\\appdata\\local\\programs\\python\\python36\\lib\\site-packages\\sklearn\\preprocessing\\label.py:151: DeprecationWarning: The truth value of an empty array is ambiguous. Returning False, but in future this will result in an error. Use `array.size > 0` to check that an array is not empty.\n",
      "  if diff:\n"
     ]
    },
    {
     "name": "stdout",
     "output_type": "stream",
     "text": [
      "    xgModel training finished in 3.09  mins with accuracy 0.7444\n",
      "  Starting param run 31 out of 31 ...\n",
      "    Doc2Vec training finished in 0.8  mins\n"
     ]
    },
    {
     "name": "stderr",
     "output_type": "stream",
     "text": [
      "c:\\users\\nathan\\appdata\\local\\programs\\python\\python36\\lib\\site-packages\\sklearn\\preprocessing\\label.py:151: DeprecationWarning: The truth value of an empty array is ambiguous. Returning False, but in future this will result in an error. Use `array.size > 0` to check that an array is not empty.\n",
      "  if diff:\n"
     ]
    },
    {
     "name": "stdout",
     "output_type": "stream",
     "text": [
      "    xgModel training finished in 3.07  mins with accuracy 0.7428\n",
      "\n",
      "**Finished!\n"
     ]
    },
    {
     "data": {
      "text/html": [
       "<div>\n",
       "<style scoped>\n",
       "    .dataframe tbody tr th:only-of-type {\n",
       "        vertical-align: middle;\n",
       "    }\n",
       "\n",
       "    .dataframe tbody tr th {\n",
       "        vertical-align: top;\n",
       "    }\n",
       "\n",
       "    .dataframe thead th {\n",
       "        text-align: right;\n",
       "    }\n",
       "</style>\n",
       "<table border=\"1\" class=\"dataframe\">\n",
       "  <thead>\n",
       "    <tr style=\"text-align: right;\">\n",
       "      <th></th>\n",
       "      <th>Model</th>\n",
       "      <th>Accuracy</th>\n",
       "      <th>Params</th>\n",
       "    </tr>\n",
       "  </thead>\n",
       "  <tbody>\n",
       "    <tr>\n",
       "      <th>26</th>\n",
       "      <td>Pass 26</td>\n",
       "      <td>0.7580</td>\n",
       "      <td>{'dm': 1, 'dm_concat': 0, 'dm_mean': 1, 'size': 500, 'window': 3, 'negative': 11.0, 'hs': 0, 'min_count': 3.0, 'passes': 2, 'vector_size': 300.0}</td>\n",
       "    </tr>\n",
       "    <tr>\n",
       "      <th>22</th>\n",
       "      <td>Pass 22</td>\n",
       "      <td>0.7496</td>\n",
       "      <td>{'dm': 1, 'dm_concat': 0, 'dm_mean': 1, 'size': 500, 'window': 3, 'negative': 9.0, 'hs': 0, 'min_count': 5.0, 'passes': 2, 'vector_size': 300.0}</td>\n",
       "    </tr>\n",
       "    <tr>\n",
       "      <th>25</th>\n",
       "      <td>Pass 25</td>\n",
       "      <td>0.7488</td>\n",
       "      <td>{'dm': 1, 'dm_concat': 0, 'dm_mean': 1, 'size': 500, 'window': 3, 'negative': 11.0, 'hs': 0, 'min_count': 2.0, 'passes': 2, 'vector_size': 500.0}</td>\n",
       "    </tr>\n",
       "    <tr>\n",
       "      <th>23</th>\n",
       "      <td>Pass 23</td>\n",
       "      <td>0.7476</td>\n",
       "      <td>{'dm': 1, 'dm_concat': 0, 'dm_mean': 1, 'size': 500, 'window': 3, 'negative': 9.0, 'hs': 0, 'min_count': 5.0, 'passes': 2, 'vector_size': 500.0}</td>\n",
       "    </tr>\n",
       "    <tr>\n",
       "      <th>20</th>\n",
       "      <td>Pass 20</td>\n",
       "      <td>0.7476</td>\n",
       "      <td>{'dm': 1, 'dm_concat': 0, 'dm_mean': 1, 'size': 500, 'window': 3, 'negative': 9.0, 'hs': 0, 'min_count': 4.0, 'passes': 2, 'vector_size': 300.0}</td>\n",
       "    </tr>\n",
       "    <tr>\n",
       "      <th>24</th>\n",
       "      <td>Pass 24</td>\n",
       "      <td>0.7464</td>\n",
       "      <td>{'dm': 1, 'dm_concat': 0, 'dm_mean': 1, 'size': 500, 'window': 3, 'negative': 11.0, 'hs': 0, 'min_count': 2.0, 'passes': 2, 'vector_size': 300.0}</td>\n",
       "    </tr>\n",
       "    <tr>\n",
       "      <th>19</th>\n",
       "      <td>Pass 19</td>\n",
       "      <td>0.7464</td>\n",
       "      <td>{'dm': 1, 'dm_concat': 0, 'dm_mean': 1, 'size': 500, 'window': 3, 'negative': 9.0, 'hs': 0, 'min_count': 3.0, 'passes': 2, 'vector_size': 500.0}</td>\n",
       "    </tr>\n",
       "    <tr>\n",
       "      <th>30</th>\n",
       "      <td>Pass 30</td>\n",
       "      <td>0.7444</td>\n",
       "      <td>{'dm': 1, 'dm_concat': 0, 'dm_mean': 1, 'size': 500, 'window': 3, 'negative': 11.0, 'hs': 0, 'min_count': 5.0, 'passes': 2, 'vector_size': 300.0}</td>\n",
       "    </tr>\n",
       "    <tr>\n",
       "      <th>29</th>\n",
       "      <td>Pass 29</td>\n",
       "      <td>0.7444</td>\n",
       "      <td>{'dm': 1, 'dm_concat': 0, 'dm_mean': 1, 'size': 500, 'window': 3, 'negative': 11.0, 'hs': 0, 'min_count': 4.0, 'passes': 2, 'vector_size': 500.0}</td>\n",
       "    </tr>\n",
       "    <tr>\n",
       "      <th>17</th>\n",
       "      <td>Pass 17</td>\n",
       "      <td>0.7432</td>\n",
       "      <td>{'dm': 1, 'dm_concat': 0, 'dm_mean': 1, 'size': 500, 'window': 3, 'negative': 9.0, 'hs': 0, 'min_count': 2.0, 'passes': 2, 'vector_size': 500.0}</td>\n",
       "    </tr>\n",
       "    <tr>\n",
       "      <th>28</th>\n",
       "      <td>Pass 28</td>\n",
       "      <td>0.7432</td>\n",
       "      <td>{'dm': 1, 'dm_concat': 0, 'dm_mean': 1, 'size': 500, 'window': 3, 'negative': 11.0, 'hs': 0, 'min_count': 4.0, 'passes': 2, 'vector_size': 300.0}</td>\n",
       "    </tr>\n",
       "    <tr>\n",
       "      <th>31</th>\n",
       "      <td>Pass 31</td>\n",
       "      <td>0.7428</td>\n",
       "      <td>{'dm': 1, 'dm_concat': 0, 'dm_mean': 1, 'size': 500, 'window': 3, 'negative': 11.0, 'hs': 0, 'min_count': 5.0, 'passes': 2, 'vector_size': 500.0}</td>\n",
       "    </tr>\n",
       "    <tr>\n",
       "      <th>10</th>\n",
       "      <td>Pass 10</td>\n",
       "      <td>0.7416</td>\n",
       "      <td>{'dm': 1, 'dm_concat': 0, 'dm_mean': 1, 'size': 500, 'window': 3, 'negative': 7.0, 'hs': 0, 'min_count': 3.0, 'passes': 2, 'vector_size': 300.0}</td>\n",
       "    </tr>\n",
       "    <tr>\n",
       "      <th>16</th>\n",
       "      <td>Pass 16</td>\n",
       "      <td>0.7412</td>\n",
       "      <td>{'dm': 1, 'dm_concat': 0, 'dm_mean': 1, 'size': 500, 'window': 3, 'negative': 9.0, 'hs': 0, 'min_count': 2.0, 'passes': 2, 'vector_size': 300.0}</td>\n",
       "    </tr>\n",
       "    <tr>\n",
       "      <th>5</th>\n",
       "      <td>Pass 5</td>\n",
       "      <td>0.7404</td>\n",
       "      <td>{'dm': 1, 'dm_concat': 0, 'dm_mean': 1, 'size': 500, 'window': 3, 'negative': 5.0, 'hs': 0, 'min_count': 4.0, 'passes': 2, 'vector_size': 500.0}</td>\n",
       "    </tr>\n",
       "    <tr>\n",
       "      <th>21</th>\n",
       "      <td>Pass 21</td>\n",
       "      <td>0.7400</td>\n",
       "      <td>{'dm': 1, 'dm_concat': 0, 'dm_mean': 1, 'size': 500, 'window': 3, 'negative': 9.0, 'hs': 0, 'min_count': 4.0, 'passes': 2, 'vector_size': 500.0}</td>\n",
       "    </tr>\n",
       "    <tr>\n",
       "      <th>18</th>\n",
       "      <td>Pass 18</td>\n",
       "      <td>0.7392</td>\n",
       "      <td>{'dm': 1, 'dm_concat': 0, 'dm_mean': 1, 'size': 500, 'window': 3, 'negative': 9.0, 'hs': 0, 'min_count': 3.0, 'passes': 2, 'vector_size': 300.0}</td>\n",
       "    </tr>\n",
       "    <tr>\n",
       "      <th>27</th>\n",
       "      <td>Pass 27</td>\n",
       "      <td>0.7392</td>\n",
       "      <td>{'dm': 1, 'dm_concat': 0, 'dm_mean': 1, 'size': 500, 'window': 3, 'negative': 11.0, 'hs': 0, 'min_count': 3.0, 'passes': 2, 'vector_size': 500.0}</td>\n",
       "    </tr>\n",
       "    <tr>\n",
       "      <th>0</th>\n",
       "      <td>Pass 0</td>\n",
       "      <td>0.7360</td>\n",
       "      <td>{'dm': 1, 'dm_concat': 0, 'dm_mean': 1, 'size': 500, 'window': 3, 'negative': 5.0, 'hs': 0, 'min_count': 2.0, 'passes': 2, 'vector_size': 300.0}</td>\n",
       "    </tr>\n",
       "    <tr>\n",
       "      <th>12</th>\n",
       "      <td>Pass 12</td>\n",
       "      <td>0.7352</td>\n",
       "      <td>{'dm': 1, 'dm_concat': 0, 'dm_mean': 1, 'size': 500, 'window': 3, 'negative': 7.0, 'hs': 0, 'min_count': 4.0, 'passes': 2, 'vector_size': 300.0}</td>\n",
       "    </tr>\n",
       "    <tr>\n",
       "      <th>15</th>\n",
       "      <td>Pass 15</td>\n",
       "      <td>0.7348</td>\n",
       "      <td>{'dm': 1, 'dm_concat': 0, 'dm_mean': 1, 'size': 500, 'window': 3, 'negative': 7.0, 'hs': 0, 'min_count': 5.0, 'passes': 2, 'vector_size': 500.0}</td>\n",
       "    </tr>\n",
       "    <tr>\n",
       "      <th>4</th>\n",
       "      <td>Pass 4</td>\n",
       "      <td>0.7304</td>\n",
       "      <td>{'dm': 1, 'dm_concat': 0, 'dm_mean': 1, 'size': 500, 'window': 3, 'negative': 5.0, 'hs': 0, 'min_count': 4.0, 'passes': 2, 'vector_size': 300.0}</td>\n",
       "    </tr>\n",
       "    <tr>\n",
       "      <th>13</th>\n",
       "      <td>Pass 13</td>\n",
       "      <td>0.7288</td>\n",
       "      <td>{'dm': 1, 'dm_concat': 0, 'dm_mean': 1, 'size': 500, 'window': 3, 'negative': 7.0, 'hs': 0, 'min_count': 4.0, 'passes': 2, 'vector_size': 500.0}</td>\n",
       "    </tr>\n",
       "    <tr>\n",
       "      <th>8</th>\n",
       "      <td>Pass 8</td>\n",
       "      <td>0.7280</td>\n",
       "      <td>{'dm': 1, 'dm_concat': 0, 'dm_mean': 1, 'size': 500, 'window': 3, 'negative': 7.0, 'hs': 0, 'min_count': 2.0, 'passes': 2, 'vector_size': 300.0}</td>\n",
       "    </tr>\n",
       "    <tr>\n",
       "      <th>1</th>\n",
       "      <td>Pass 1</td>\n",
       "      <td>0.7268</td>\n",
       "      <td>{'dm': 1, 'dm_concat': 0, 'dm_mean': 1, 'size': 500, 'window': 3, 'negative': 5.0, 'hs': 0, 'min_count': 2.0, 'passes': 2, 'vector_size': 500.0}</td>\n",
       "    </tr>\n",
       "    <tr>\n",
       "      <th>3</th>\n",
       "      <td>Pass 3</td>\n",
       "      <td>0.7252</td>\n",
       "      <td>{'dm': 1, 'dm_concat': 0, 'dm_mean': 1, 'size': 500, 'window': 3, 'negative': 5.0, 'hs': 0, 'min_count': 3.0, 'passes': 2, 'vector_size': 500.0}</td>\n",
       "    </tr>\n",
       "    <tr>\n",
       "      <th>9</th>\n",
       "      <td>Pass 9</td>\n",
       "      <td>0.7236</td>\n",
       "      <td>{'dm': 1, 'dm_concat': 0, 'dm_mean': 1, 'size': 500, 'window': 3, 'negative': 7.0, 'hs': 0, 'min_count': 2.0, 'passes': 2, 'vector_size': 500.0}</td>\n",
       "    </tr>\n",
       "    <tr>\n",
       "      <th>14</th>\n",
       "      <td>Pass 14</td>\n",
       "      <td>0.7228</td>\n",
       "      <td>{'dm': 1, 'dm_concat': 0, 'dm_mean': 1, 'size': 500, 'window': 3, 'negative': 7.0, 'hs': 0, 'min_count': 5.0, 'passes': 2, 'vector_size': 300.0}</td>\n",
       "    </tr>\n",
       "    <tr>\n",
       "      <th>2</th>\n",
       "      <td>Pass 2</td>\n",
       "      <td>0.7224</td>\n",
       "      <td>{'dm': 1, 'dm_concat': 0, 'dm_mean': 1, 'size': 500, 'window': 3, 'negative': 5.0, 'hs': 0, 'min_count': 3.0, 'passes': 2, 'vector_size': 300.0}</td>\n",
       "    </tr>\n",
       "    <tr>\n",
       "      <th>6</th>\n",
       "      <td>Pass 6</td>\n",
       "      <td>0.7212</td>\n",
       "      <td>{'dm': 1, 'dm_concat': 0, 'dm_mean': 1, 'size': 500, 'window': 3, 'negative': 5.0, 'hs': 0, 'min_count': 5.0, 'passes': 2, 'vector_size': 300.0}</td>\n",
       "    </tr>\n",
       "    <tr>\n",
       "      <th>7</th>\n",
       "      <td>Pass 7</td>\n",
       "      <td>0.7184</td>\n",
       "      <td>{'dm': 1, 'dm_concat': 0, 'dm_mean': 1, 'size': 500, 'window': 3, 'negative': 5.0, 'hs': 0, 'min_count': 5.0, 'passes': 2, 'vector_size': 500.0}</td>\n",
       "    </tr>\n",
       "    <tr>\n",
       "      <th>11</th>\n",
       "      <td>Pass 11</td>\n",
       "      <td>0.7144</td>\n",
       "      <td>{'dm': 1, 'dm_concat': 0, 'dm_mean': 1, 'size': 500, 'window': 3, 'negative': 7.0, 'hs': 0, 'min_count': 3.0, 'passes': 2, 'vector_size': 500.0}</td>\n",
       "    </tr>\n",
       "  </tbody>\n",
       "</table>\n",
       "</div>"
      ],
      "text/plain": [
       "      Model  Accuracy  \\\n",
       "26  Pass 26  0.7580     \n",
       "22  Pass 22  0.7496     \n",
       "25  Pass 25  0.7488     \n",
       "23  Pass 23  0.7476     \n",
       "20  Pass 20  0.7476     \n",
       "24  Pass 24  0.7464     \n",
       "19  Pass 19  0.7464     \n",
       "30  Pass 30  0.7444     \n",
       "29  Pass 29  0.7444     \n",
       "17  Pass 17  0.7432     \n",
       "28  Pass 28  0.7432     \n",
       "31  Pass 31  0.7428     \n",
       "10  Pass 10  0.7416     \n",
       "16  Pass 16  0.7412     \n",
       "5   Pass 5   0.7404     \n",
       "21  Pass 21  0.7400     \n",
       "18  Pass 18  0.7392     \n",
       "27  Pass 27  0.7392     \n",
       "0   Pass 0   0.7360     \n",
       "12  Pass 12  0.7352     \n",
       "15  Pass 15  0.7348     \n",
       "4   Pass 4   0.7304     \n",
       "13  Pass 13  0.7288     \n",
       "8   Pass 8   0.7280     \n",
       "1   Pass 1   0.7268     \n",
       "3   Pass 3   0.7252     \n",
       "9   Pass 9   0.7236     \n",
       "14  Pass 14  0.7228     \n",
       "2   Pass 2   0.7224     \n",
       "6   Pass 6   0.7212     \n",
       "7   Pass 7   0.7184     \n",
       "11  Pass 11  0.7144     \n",
       "\n",
       "                                                                                                                                               Params  \n",
       "26  {'dm': 1, 'dm_concat': 0, 'dm_mean': 1, 'size': 500, 'window': 3, 'negative': 11.0, 'hs': 0, 'min_count': 3.0, 'passes': 2, 'vector_size': 300.0}  \n",
       "22  {'dm': 1, 'dm_concat': 0, 'dm_mean': 1, 'size': 500, 'window': 3, 'negative': 9.0, 'hs': 0, 'min_count': 5.0, 'passes': 2, 'vector_size': 300.0}   \n",
       "25  {'dm': 1, 'dm_concat': 0, 'dm_mean': 1, 'size': 500, 'window': 3, 'negative': 11.0, 'hs': 0, 'min_count': 2.0, 'passes': 2, 'vector_size': 500.0}  \n",
       "23  {'dm': 1, 'dm_concat': 0, 'dm_mean': 1, 'size': 500, 'window': 3, 'negative': 9.0, 'hs': 0, 'min_count': 5.0, 'passes': 2, 'vector_size': 500.0}   \n",
       "20  {'dm': 1, 'dm_concat': 0, 'dm_mean': 1, 'size': 500, 'window': 3, 'negative': 9.0, 'hs': 0, 'min_count': 4.0, 'passes': 2, 'vector_size': 300.0}   \n",
       "24  {'dm': 1, 'dm_concat': 0, 'dm_mean': 1, 'size': 500, 'window': 3, 'negative': 11.0, 'hs': 0, 'min_count': 2.0, 'passes': 2, 'vector_size': 300.0}  \n",
       "19  {'dm': 1, 'dm_concat': 0, 'dm_mean': 1, 'size': 500, 'window': 3, 'negative': 9.0, 'hs': 0, 'min_count': 3.0, 'passes': 2, 'vector_size': 500.0}   \n",
       "30  {'dm': 1, 'dm_concat': 0, 'dm_mean': 1, 'size': 500, 'window': 3, 'negative': 11.0, 'hs': 0, 'min_count': 5.0, 'passes': 2, 'vector_size': 300.0}  \n",
       "29  {'dm': 1, 'dm_concat': 0, 'dm_mean': 1, 'size': 500, 'window': 3, 'negative': 11.0, 'hs': 0, 'min_count': 4.0, 'passes': 2, 'vector_size': 500.0}  \n",
       "17  {'dm': 1, 'dm_concat': 0, 'dm_mean': 1, 'size': 500, 'window': 3, 'negative': 9.0, 'hs': 0, 'min_count': 2.0, 'passes': 2, 'vector_size': 500.0}   \n",
       "28  {'dm': 1, 'dm_concat': 0, 'dm_mean': 1, 'size': 500, 'window': 3, 'negative': 11.0, 'hs': 0, 'min_count': 4.0, 'passes': 2, 'vector_size': 300.0}  \n",
       "31  {'dm': 1, 'dm_concat': 0, 'dm_mean': 1, 'size': 500, 'window': 3, 'negative': 11.0, 'hs': 0, 'min_count': 5.0, 'passes': 2, 'vector_size': 500.0}  \n",
       "10  {'dm': 1, 'dm_concat': 0, 'dm_mean': 1, 'size': 500, 'window': 3, 'negative': 7.0, 'hs': 0, 'min_count': 3.0, 'passes': 2, 'vector_size': 300.0}   \n",
       "16  {'dm': 1, 'dm_concat': 0, 'dm_mean': 1, 'size': 500, 'window': 3, 'negative': 9.0, 'hs': 0, 'min_count': 2.0, 'passes': 2, 'vector_size': 300.0}   \n",
       "5   {'dm': 1, 'dm_concat': 0, 'dm_mean': 1, 'size': 500, 'window': 3, 'negative': 5.0, 'hs': 0, 'min_count': 4.0, 'passes': 2, 'vector_size': 500.0}   \n",
       "21  {'dm': 1, 'dm_concat': 0, 'dm_mean': 1, 'size': 500, 'window': 3, 'negative': 9.0, 'hs': 0, 'min_count': 4.0, 'passes': 2, 'vector_size': 500.0}   \n",
       "18  {'dm': 1, 'dm_concat': 0, 'dm_mean': 1, 'size': 500, 'window': 3, 'negative': 9.0, 'hs': 0, 'min_count': 3.0, 'passes': 2, 'vector_size': 300.0}   \n",
       "27  {'dm': 1, 'dm_concat': 0, 'dm_mean': 1, 'size': 500, 'window': 3, 'negative': 11.0, 'hs': 0, 'min_count': 3.0, 'passes': 2, 'vector_size': 500.0}  \n",
       "0   {'dm': 1, 'dm_concat': 0, 'dm_mean': 1, 'size': 500, 'window': 3, 'negative': 5.0, 'hs': 0, 'min_count': 2.0, 'passes': 2, 'vector_size': 300.0}   \n",
       "12  {'dm': 1, 'dm_concat': 0, 'dm_mean': 1, 'size': 500, 'window': 3, 'negative': 7.0, 'hs': 0, 'min_count': 4.0, 'passes': 2, 'vector_size': 300.0}   \n",
       "15  {'dm': 1, 'dm_concat': 0, 'dm_mean': 1, 'size': 500, 'window': 3, 'negative': 7.0, 'hs': 0, 'min_count': 5.0, 'passes': 2, 'vector_size': 500.0}   \n",
       "4   {'dm': 1, 'dm_concat': 0, 'dm_mean': 1, 'size': 500, 'window': 3, 'negative': 5.0, 'hs': 0, 'min_count': 4.0, 'passes': 2, 'vector_size': 300.0}   \n",
       "13  {'dm': 1, 'dm_concat': 0, 'dm_mean': 1, 'size': 500, 'window': 3, 'negative': 7.0, 'hs': 0, 'min_count': 4.0, 'passes': 2, 'vector_size': 500.0}   \n",
       "8   {'dm': 1, 'dm_concat': 0, 'dm_mean': 1, 'size': 500, 'window': 3, 'negative': 7.0, 'hs': 0, 'min_count': 2.0, 'passes': 2, 'vector_size': 300.0}   \n",
       "1   {'dm': 1, 'dm_concat': 0, 'dm_mean': 1, 'size': 500, 'window': 3, 'negative': 5.0, 'hs': 0, 'min_count': 2.0, 'passes': 2, 'vector_size': 500.0}   \n",
       "3   {'dm': 1, 'dm_concat': 0, 'dm_mean': 1, 'size': 500, 'window': 3, 'negative': 5.0, 'hs': 0, 'min_count': 3.0, 'passes': 2, 'vector_size': 500.0}   \n",
       "9   {'dm': 1, 'dm_concat': 0, 'dm_mean': 1, 'size': 500, 'window': 3, 'negative': 7.0, 'hs': 0, 'min_count': 2.0, 'passes': 2, 'vector_size': 500.0}   \n",
       "14  {'dm': 1, 'dm_concat': 0, 'dm_mean': 1, 'size': 500, 'window': 3, 'negative': 7.0, 'hs': 0, 'min_count': 5.0, 'passes': 2, 'vector_size': 300.0}   \n",
       "2   {'dm': 1, 'dm_concat': 0, 'dm_mean': 1, 'size': 500, 'window': 3, 'negative': 5.0, 'hs': 0, 'min_count': 3.0, 'passes': 2, 'vector_size': 300.0}   \n",
       "6   {'dm': 1, 'dm_concat': 0, 'dm_mean': 1, 'size': 500, 'window': 3, 'negative': 5.0, 'hs': 0, 'min_count': 5.0, 'passes': 2, 'vector_size': 300.0}   \n",
       "7   {'dm': 1, 'dm_concat': 0, 'dm_mean': 1, 'size': 500, 'window': 3, 'negative': 5.0, 'hs': 0, 'min_count': 5.0, 'passes': 2, 'vector_size': 500.0}   \n",
       "11  {'dm': 1, 'dm_concat': 0, 'dm_mean': 1, 'size': 500, 'window': 3, 'negative': 7.0, 'hs': 0, 'min_count': 3.0, 'passes': 2, 'vector_size': 500.0}   "
      ]
     },
     "execution_count": 28,
     "metadata": {},
     "output_type": "execute_result"
    }
   ],
   "source": [
    "_df = searchParams(False)\n",
    "\n",
    "# Print results sorted by Accuracy desc\n",
    "pd.set_option('display.max_colwidth', -1)\n",
    "_df.sort_values(by = ['Accuracy'], ascending = [False]).head()"
   ]
  },
  {
   "cell_type": "markdown",
   "metadata": {},
   "source": [
    "Best so far for dm1:\n",
    "\n",
    "26 \tPass 26 \t0.7580 \t{'dm': 1, 'dm_concat': 0, 'dm_mean': 1, 'size': 500, 'window': 3, 'negative': 11.0, 'hs': 0, 'min_count': 3.0, 'passes': 2, 'vector_size': 300.0}"
   ]
  },
  {
   "cell_type": "code",
   "execution_count": null,
   "metadata": {},
   "outputs": [],
   "source": []
  },
  {
   "cell_type": "markdown",
   "metadata": {},
   "source": [
    "## DM0 training\n",
    "\n",
    "From previous write-up:  m2 = Doc2Vec(dm=0, size=100, negative=5, hs=0, min_count=2, workers=cores)"
   ]
  },
  {
   "cell_type": "code",
   "execution_count": 42,
   "metadata": {
    "ExecuteTime": {
     "end_time": "2018-12-02T23:26:51.739699Z",
     "start_time": "2018-12-02T23:26:51.517691Z"
    }
   },
   "outputs": [
    {
     "data": {
      "text/plain": [
       "array([100., 300., 500., 700.])"
      ]
     },
     "execution_count": 42,
     "metadata": {},
     "output_type": "execute_result"
    }
   ],
   "source": [
    "np.linspace(100, 700, 4)"
   ]
  },
  {
   "cell_type": "code",
   "execution_count": 43,
   "metadata": {
    "ExecuteTime": {
     "end_time": "2018-12-02T23:27:18.835764Z",
     "start_time": "2018-12-02T23:27:18.505758Z"
    }
   },
   "outputs": [],
   "source": [
    "def searchParams2(silent = True):\n",
    "    print(\"**Starting run!\\n\")\n",
    "    \n",
    "    resultsDF = pd.DataFrame(columns = ['Model', 'Accuracy', 'Params'])\n",
    "    \n",
    "    params = []\n",
    "    # Set concat and mean to 1\n",
    "    #  3 \tPass 3 \t0.7436 \t{'dm': 0, 'dm_concat': 1.0, 'dm_mean': 1.0, 'size': 100, 'window': 3, 'negative': 5, 'hs': 0, 'min_count': 2, 'passes': 2, 'vector_size': 300}\n",
    "    \n",
    "    base = {'dm':0, 'dm_concat':1, 'dm_mean': 1, 'size':100, 'window':3, 'negative':5, \n",
    "            'hs':0, 'min_count':2, 'passes':2, 'vector_size':300}\n",
    "    \n",
    "    #for dm_concat_ in np.linspace(0, 1, 2):\n",
    "    #    for dm_mean_ in np.linspace(0, 1, 2):\n",
    "    #        _ = copy.deepcopy(base)\n",
    "    #        _['dm_concat'] = dm_concat_\n",
    "    #        _['dm_mean'] = dm_mean_\n",
    "    #        params.append(_)\n",
    "                \n",
    "    for size_ in np.linspace(100, 500, 3):\n",
    "        for window_ in np.linspace(3, 7, 3):\n",
    "            for vector_size_ in np.linspace(100, 700, 4):\n",
    "                _ = copy.deepcopy(base)\n",
    "                _['size'] = size_\n",
    "                _['window'] = window_\n",
    "                _['vector_size'] = vector_size_\n",
    "                params.append(_)\n",
    "    \n",
    "    for i, p in enumerate(params):\n",
    "        if not silent:\n",
    "                print(\"  Starting param run\", i, \"out of\", len(params)-1, \"...\")\n",
    "        \n",
    "        start = timer()\n",
    "        doc2vecModel = trainDoc2Vec(p)\n",
    "        end = timer()\n",
    "        if not silent:\n",
    "            print(\"    Doc2Vec training finished in\", round((end-start)/60, 2), \" mins\")\n",
    "        \n",
    "        xgModel = xg.XGBClassifier(\n",
    "            objective = \"binary:logistic\",\n",
    "            random_state = seedVal\n",
    "        )\n",
    "        \n",
    "        start = timer()\n",
    "        results = assessSingleXGB(xgModel, doc2vecModel, list(combinedDat['sentiment'][:25000]))\n",
    "        end = timer()\n",
    "        if not silent:\n",
    "            print(\"    xgModel training finished in\", round((end-start)/60, 2), \" mins with accuracy\", results)\n",
    "    \n",
    "        resultsDF.loc[len(resultsDF)] = list([\n",
    "            'Pass ' +  str(len(resultsDF)), \n",
    "            results,\n",
    "            p,\n",
    "        ])\n",
    "            \n",
    "    if not silent:\n",
    "        print(\"\\n**Finished!\")\n",
    "    \n",
    "    return resultsDF\n"
   ]
  },
  {
   "cell_type": "code",
   "execution_count": 46,
   "metadata": {
    "ExecuteTime": {
     "end_time": "2018-12-03T19:22:48.881141Z",
     "start_time": "2018-12-03T19:22:48.498195Z"
    }
   },
   "outputs": [
    {
     "data": {
      "text/plain": [
       "{'base_score': 0.5,\n",
       " 'booster': 'gbtree',\n",
       " 'colsample_bylevel': 1,\n",
       " 'colsample_bytree': 0.8,\n",
       " 'gamma': 0,\n",
       " 'learning_rate': 0.1,\n",
       " 'max_delta_step': 0,\n",
       " 'max_depth': 5,\n",
       " 'min_child_weight': 1,\n",
       " 'missing': None,\n",
       " 'n_estimators': 918,\n",
       " 'n_jobs': 1,\n",
       " 'nthread': 4,\n",
       " 'objective': 'binary:logistic',\n",
       " 'random_state': 10,\n",
       " 'reg_alpha': 0,\n",
       " 'reg_lambda': 1,\n",
       " 'scale_pos_weight': 1,\n",
       " 'seed': None,\n",
       " 'silent': True,\n",
       " 'subsample': 0.8}"
      ]
     },
     "execution_count": 46,
     "metadata": {},
     "output_type": "execute_result"
    }
   ],
   "source": []
  },
  {
   "cell_type": "code",
   "execution_count": 37,
   "metadata": {
    "ExecuteTime": {
     "end_time": "2018-12-02T23:20:59.207656Z",
     "start_time": "2018-12-02T23:17:18.039307Z"
    },
    "scrolled": true
   },
   "outputs": [
    {
     "name": "stdout",
     "output_type": "stream",
     "text": [
      "**Starting run!\n",
      "\n",
      "  Starting param run 0 out of 3 ...\n",
      "    Doc2Vec training finished in 0.25  mins\n"
     ]
    },
    {
     "name": "stderr",
     "output_type": "stream",
     "text": [
      "c:\\users\\nathan\\appdata\\local\\programs\\python\\python36\\lib\\site-packages\\sklearn\\preprocessing\\label.py:151: DeprecationWarning: The truth value of an empty array is ambiguous. Returning False, but in future this will result in an error. Use `array.size > 0` to check that an array is not empty.\n",
      "  if diff:\n"
     ]
    },
    {
     "name": "stdout",
     "output_type": "stream",
     "text": [
      "    xgModel training finished in 0.66  mins with accuracy 0.732\n",
      "  Starting param run 1 out of 3 ...\n",
      "    Doc2Vec training finished in 0.25  mins\n"
     ]
    },
    {
     "name": "stderr",
     "output_type": "stream",
     "text": [
      "c:\\users\\nathan\\appdata\\local\\programs\\python\\python36\\lib\\site-packages\\sklearn\\preprocessing\\label.py:151: DeprecationWarning: The truth value of an empty array is ambiguous. Returning False, but in future this will result in an error. Use `array.size > 0` to check that an array is not empty.\n",
      "  if diff:\n"
     ]
    },
    {
     "name": "stdout",
     "output_type": "stream",
     "text": [
      "    xgModel training finished in 0.68  mins with accuracy 0.7388\n",
      "  Starting param run 2 out of 3 ...\n",
      "    Doc2Vec training finished in 0.26  mins\n"
     ]
    },
    {
     "name": "stderr",
     "output_type": "stream",
     "text": [
      "c:\\users\\nathan\\appdata\\local\\programs\\python\\python36\\lib\\site-packages\\sklearn\\preprocessing\\label.py:151: DeprecationWarning: The truth value of an empty array is ambiguous. Returning False, but in future this will result in an error. Use `array.size > 0` to check that an array is not empty.\n",
      "  if diff:\n"
     ]
    },
    {
     "name": "stdout",
     "output_type": "stream",
     "text": [
      "    xgModel training finished in 0.66  mins with accuracy 0.7308\n",
      "  Starting param run 3 out of 3 ...\n",
      "    Doc2Vec training finished in 0.26  mins\n"
     ]
    },
    {
     "name": "stderr",
     "output_type": "stream",
     "text": [
      "c:\\users\\nathan\\appdata\\local\\programs\\python\\python36\\lib\\site-packages\\sklearn\\preprocessing\\label.py:151: DeprecationWarning: The truth value of an empty array is ambiguous. Returning False, but in future this will result in an error. Use `array.size > 0` to check that an array is not empty.\n",
      "  if diff:\n"
     ]
    },
    {
     "name": "stdout",
     "output_type": "stream",
     "text": [
      "    xgModel training finished in 0.66  mins with accuracy 0.7436\n",
      "\n",
      "**Finished!\n"
     ]
    },
    {
     "data": {
      "text/html": [
       "<div>\n",
       "<style scoped>\n",
       "    .dataframe tbody tr th:only-of-type {\n",
       "        vertical-align: middle;\n",
       "    }\n",
       "\n",
       "    .dataframe tbody tr th {\n",
       "        vertical-align: top;\n",
       "    }\n",
       "\n",
       "    .dataframe thead th {\n",
       "        text-align: right;\n",
       "    }\n",
       "</style>\n",
       "<table border=\"1\" class=\"dataframe\">\n",
       "  <thead>\n",
       "    <tr style=\"text-align: right;\">\n",
       "      <th></th>\n",
       "      <th>Model</th>\n",
       "      <th>Accuracy</th>\n",
       "      <th>Params</th>\n",
       "    </tr>\n",
       "  </thead>\n",
       "  <tbody>\n",
       "    <tr>\n",
       "      <th>3</th>\n",
       "      <td>Pass 3</td>\n",
       "      <td>0.7436</td>\n",
       "      <td>{'dm': 0, 'dm_concat': 1.0, 'dm_mean': 1.0, 'size': 100, 'window': 3, 'negative': 5, 'hs': 0, 'min_count': 2, 'passes': 2, 'vector_size': 300}</td>\n",
       "    </tr>\n",
       "    <tr>\n",
       "      <th>1</th>\n",
       "      <td>Pass 1</td>\n",
       "      <td>0.7388</td>\n",
       "      <td>{'dm': 0, 'dm_concat': 0.0, 'dm_mean': 1.0, 'size': 100, 'window': 3, 'negative': 5, 'hs': 0, 'min_count': 2, 'passes': 2, 'vector_size': 300}</td>\n",
       "    </tr>\n",
       "    <tr>\n",
       "      <th>0</th>\n",
       "      <td>Pass 0</td>\n",
       "      <td>0.7320</td>\n",
       "      <td>{'dm': 0, 'dm_concat': 0.0, 'dm_mean': 0.0, 'size': 100, 'window': 3, 'negative': 5, 'hs': 0, 'min_count': 2, 'passes': 2, 'vector_size': 300}</td>\n",
       "    </tr>\n",
       "    <tr>\n",
       "      <th>2</th>\n",
       "      <td>Pass 2</td>\n",
       "      <td>0.7308</td>\n",
       "      <td>{'dm': 0, 'dm_concat': 1.0, 'dm_mean': 0.0, 'size': 100, 'window': 3, 'negative': 5, 'hs': 0, 'min_count': 2, 'passes': 2, 'vector_size': 300}</td>\n",
       "    </tr>\n",
       "  </tbody>\n",
       "</table>\n",
       "</div>"
      ],
      "text/plain": [
       "    Model  Accuracy  \\\n",
       "3  Pass 3  0.7436     \n",
       "1  Pass 1  0.7388     \n",
       "0  Pass 0  0.7320     \n",
       "2  Pass 2  0.7308     \n",
       "\n",
       "                                                                                                                                           Params  \n",
       "3  {'dm': 0, 'dm_concat': 1.0, 'dm_mean': 1.0, 'size': 100, 'window': 3, 'negative': 5, 'hs': 0, 'min_count': 2, 'passes': 2, 'vector_size': 300}  \n",
       "1  {'dm': 0, 'dm_concat': 0.0, 'dm_mean': 1.0, 'size': 100, 'window': 3, 'negative': 5, 'hs': 0, 'min_count': 2, 'passes': 2, 'vector_size': 300}  \n",
       "0  {'dm': 0, 'dm_concat': 0.0, 'dm_mean': 0.0, 'size': 100, 'window': 3, 'negative': 5, 'hs': 0, 'min_count': 2, 'passes': 2, 'vector_size': 300}  \n",
       "2  {'dm': 0, 'dm_concat': 1.0, 'dm_mean': 0.0, 'size': 100, 'window': 3, 'negative': 5, 'hs': 0, 'min_count': 2, 'passes': 2, 'vector_size': 300}  "
      ]
     },
     "execution_count": 37,
     "metadata": {},
     "output_type": "execute_result"
    }
   ],
   "source": [
    "_df = searchParams2(False)\n",
    "\n",
    "# Print results sorted by Accuracy desc\n",
    "pd.set_option('display.max_colwidth', -1)\n",
    "_df.sort_values(by = ['Accuracy'], ascending = [False])"
   ]
  },
  {
   "cell_type": "code",
   "execution_count": 48,
   "metadata": {
    "ExecuteTime": {
     "end_time": "2018-12-03T03:54:13.004543Z",
     "start_time": "2018-12-03T02:28:31.222583Z"
    },
    "scrolled": false
   },
   "outputs": [
    {
     "name": "stdout",
     "output_type": "stream",
     "text": [
      "**Starting run!\n",
      "\n",
      "  Starting param run 0 out of 35 ...\n",
      "    Doc2Vec training finished in 4.81  mins\n",
      "    xgModel training finished in 0.69  mins with accuracy 0.7524\n",
      "  Starting param run 1 out of 35 ...\n",
      "    Doc2Vec training finished in 0.27  mins\n",
      "    xgModel training finished in 0.66  mins with accuracy 0.7516\n",
      "  Starting param run 2 out of 35 ...\n",
      "    Doc2Vec training finished in 0.26  mins\n",
      "    xgModel training finished in 0.65  mins with accuracy 0.7444\n",
      "  Starting param run 3 out of 35 ...\n",
      "    Doc2Vec training finished in 0.27  mins\n",
      "    xgModel training finished in 0.68  mins with accuracy 0.7516\n",
      "  Starting param run 4 out of 35 ...\n",
      "    Doc2Vec training finished in 0.26  mins\n",
      "    xgModel training finished in 0.67  mins with accuracy 0.738\n",
      "  Starting param run 5 out of 35 ...\n",
      "    Doc2Vec training finished in 0.26  mins\n",
      "    xgModel training finished in 0.66  mins with accuracy 0.7492\n",
      "  Starting param run 6 out of 35 ...\n",
      "    Doc2Vec training finished in 0.26  mins\n",
      "    xgModel training finished in 0.65  mins with accuracy 0.7436\n",
      "  Starting param run 7 out of 35 ...\n",
      "    Doc2Vec training finished in 0.25  mins\n",
      "    xgModel training finished in 0.64  mins with accuracy 0.7532\n",
      "  Starting param run 8 out of 35 ...\n",
      "    Doc2Vec training finished in 0.25  mins\n",
      "    xgModel training finished in 0.64  mins with accuracy 0.76\n",
      "  Starting param run 9 out of 35 ...\n",
      "    Doc2Vec training finished in 0.25  mins\n",
      "    xgModel training finished in 0.64  mins with accuracy 0.7492\n",
      "  Starting param run 10 out of 35 ...\n",
      "    Doc2Vec training finished in 0.26  mins\n",
      "    xgModel training finished in 0.65  mins with accuracy 0.7332\n",
      "  Starting param run 11 out of 35 ...\n",
      "    Doc2Vec training finished in 0.25  mins\n",
      "    xgModel training finished in 0.64  mins with accuracy 0.7456\n",
      "  Starting param run 12 out of 35 ...\n",
      "    Doc2Vec training finished in 0.36  mins\n",
      "    xgModel training finished in 1.89  mins with accuracy 0.7332\n",
      "  Starting param run 13 out of 35 ...\n",
      "    Doc2Vec training finished in 0.35  mins\n",
      "    xgModel training finished in 1.87  mins with accuracy 0.746\n",
      "  Starting param run 14 out of 35 ...\n",
      "    Doc2Vec training finished in 0.37  mins\n",
      "    xgModel training finished in 1.88  mins with accuracy 0.7436\n",
      "  Starting param run 15 out of 35 ...\n",
      "    Doc2Vec training finished in 0.35  mins\n",
      "    xgModel training finished in 1.87  mins with accuracy 0.74\n",
      "  Starting param run 16 out of 35 ...\n",
      "    Doc2Vec training finished in 0.35  mins\n",
      "    xgModel training finished in 1.88  mins with accuracy 0.7488\n",
      "  Starting param run 17 out of 35 ...\n",
      "    Doc2Vec training finished in 0.36  mins\n",
      "    xgModel training finished in 1.86  mins with accuracy 0.7456\n",
      "  Starting param run 18 out of 35 ...\n",
      "    Doc2Vec training finished in 0.35  mins\n",
      "    xgModel training finished in 1.87  mins with accuracy 0.746\n",
      "  Starting param run 19 out of 35 ...\n",
      "    Doc2Vec training finished in 0.35  mins\n",
      "    xgModel training finished in 1.92  mins with accuracy 0.7352\n",
      "  Starting param run 20 out of 35 ...\n",
      "    Doc2Vec training finished in 0.35  mins\n",
      "    xgModel training finished in 1.89  mins with accuracy 0.732\n",
      "  Starting param run 21 out of 35 ...\n",
      "    Doc2Vec training finished in 0.36  mins\n",
      "    xgModel training finished in 1.83  mins with accuracy 0.7472\n",
      "  Starting param run 22 out of 35 ...\n",
      "    Doc2Vec training finished in 0.35  mins\n",
      "    xgModel training finished in 1.88  mins with accuracy 0.7416\n",
      "  Starting param run 23 out of 35 ...\n",
      "    Doc2Vec training finished in 0.35  mins\n",
      "    xgModel training finished in 1.88  mins with accuracy 0.7392\n",
      "  Starting param run 24 out of 35 ...\n",
      "    Doc2Vec training finished in 0.46  mins\n",
      "    xgModel training finished in 3.11  mins with accuracy 0.7472\n",
      "  Starting param run 25 out of 35 ...\n",
      "    Doc2Vec training finished in 0.47  mins\n",
      "    xgModel training finished in 3.1  mins with accuracy 0.7384\n",
      "  Starting param run 26 out of 35 ...\n",
      "    Doc2Vec training finished in 0.46  mins\n",
      "    xgModel training finished in 3.13  mins with accuracy 0.7324\n",
      "  Starting param run 27 out of 35 ...\n",
      "    Doc2Vec training finished in 0.46  mins\n",
      "    xgModel training finished in 3.1  mins with accuracy 0.7388\n",
      "  Starting param run 28 out of 35 ...\n",
      "    Doc2Vec training finished in 0.47  mins\n",
      "    xgModel training finished in 3.21  mins with accuracy 0.7424\n",
      "  Starting param run 29 out of 35 ...\n",
      "    Doc2Vec training finished in 0.46  mins\n",
      "    xgModel training finished in 3.12  mins with accuracy 0.7364\n",
      "  Starting param run 30 out of 35 ...\n",
      "    Doc2Vec training finished in 0.46  mins\n",
      "    xgModel training finished in 3.12  mins with accuracy 0.7484\n",
      "  Starting param run 31 out of 35 ...\n",
      "    Doc2Vec training finished in 0.46  mins\n",
      "    xgModel training finished in 3.12  mins with accuracy 0.7536\n",
      "  Starting param run 32 out of 35 ...\n",
      "    Doc2Vec training finished in 0.47  mins\n",
      "    xgModel training finished in 3.14  mins with accuracy 0.7272\n",
      "  Starting param run 33 out of 35 ...\n",
      "    Doc2Vec training finished in 0.46  mins\n",
      "    xgModel training finished in 3.1  mins with accuracy 0.7416\n",
      "  Starting param run 34 out of 35 ...\n",
      "    Doc2Vec training finished in 0.46  mins\n",
      "    xgModel training finished in 3.12  mins with accuracy 0.7452\n",
      "  Starting param run 35 out of 35 ...\n",
      "    Doc2Vec training finished in 0.48  mins\n",
      "    xgModel training finished in 3.1  mins with accuracy 0.7476\n",
      "\n",
      "**Finished!\n"
     ]
    },
    {
     "data": {
      "text/html": [
       "<div>\n",
       "<style scoped>\n",
       "    .dataframe tbody tr th:only-of-type {\n",
       "        vertical-align: middle;\n",
       "    }\n",
       "\n",
       "    .dataframe tbody tr th {\n",
       "        vertical-align: top;\n",
       "    }\n",
       "\n",
       "    .dataframe thead th {\n",
       "        text-align: right;\n",
       "    }\n",
       "</style>\n",
       "<table border=\"1\" class=\"dataframe\">\n",
       "  <thead>\n",
       "    <tr style=\"text-align: right;\">\n",
       "      <th></th>\n",
       "      <th>Model</th>\n",
       "      <th>Accuracy</th>\n",
       "      <th>Params</th>\n",
       "    </tr>\n",
       "  </thead>\n",
       "  <tbody>\n",
       "    <tr>\n",
       "      <th>8</th>\n",
       "      <td>Pass 8</td>\n",
       "      <td>0.7600</td>\n",
       "      <td>{'dm': 0, 'dm_concat': 1, 'dm_mean': 1, 'size': 100.0, 'window': 7.0, 'negative': 5, 'hs': 0, 'min_count': 2, 'passes': 2, 'vector_size': 100.0}</td>\n",
       "    </tr>\n",
       "    <tr>\n",
       "      <th>31</th>\n",
       "      <td>Pass 31</td>\n",
       "      <td>0.7536</td>\n",
       "      <td>{'dm': 0, 'dm_concat': 1, 'dm_mean': 1, 'size': 500.0, 'window': 5.0, 'negative': 5, 'hs': 0, 'min_count': 2, 'passes': 2, 'vector_size': 700.0}</td>\n",
       "    </tr>\n",
       "    <tr>\n",
       "      <th>7</th>\n",
       "      <td>Pass 7</td>\n",
       "      <td>0.7532</td>\n",
       "      <td>{'dm': 0, 'dm_concat': 1, 'dm_mean': 1, 'size': 100.0, 'window': 5.0, 'negative': 5, 'hs': 0, 'min_count': 2, 'passes': 2, 'vector_size': 700.0}</td>\n",
       "    </tr>\n",
       "    <tr>\n",
       "      <th>0</th>\n",
       "      <td>Pass 0</td>\n",
       "      <td>0.7524</td>\n",
       "      <td>{'dm': 0, 'dm_concat': 1, 'dm_mean': 1, 'size': 100.0, 'window': 3.0, 'negative': 5, 'hs': 0, 'min_count': 2, 'passes': 2, 'vector_size': 100.0}</td>\n",
       "    </tr>\n",
       "    <tr>\n",
       "      <th>3</th>\n",
       "      <td>Pass 3</td>\n",
       "      <td>0.7516</td>\n",
       "      <td>{'dm': 0, 'dm_concat': 1, 'dm_mean': 1, 'size': 100.0, 'window': 3.0, 'negative': 5, 'hs': 0, 'min_count': 2, 'passes': 2, 'vector_size': 700.0}</td>\n",
       "    </tr>\n",
       "    <tr>\n",
       "      <th>1</th>\n",
       "      <td>Pass 1</td>\n",
       "      <td>0.7516</td>\n",
       "      <td>{'dm': 0, 'dm_concat': 1, 'dm_mean': 1, 'size': 100.0, 'window': 3.0, 'negative': 5, 'hs': 0, 'min_count': 2, 'passes': 2, 'vector_size': 300.0}</td>\n",
       "    </tr>\n",
       "    <tr>\n",
       "      <th>5</th>\n",
       "      <td>Pass 5</td>\n",
       "      <td>0.7492</td>\n",
       "      <td>{'dm': 0, 'dm_concat': 1, 'dm_mean': 1, 'size': 100.0, 'window': 5.0, 'negative': 5, 'hs': 0, 'min_count': 2, 'passes': 2, 'vector_size': 300.0}</td>\n",
       "    </tr>\n",
       "    <tr>\n",
       "      <th>9</th>\n",
       "      <td>Pass 9</td>\n",
       "      <td>0.7492</td>\n",
       "      <td>{'dm': 0, 'dm_concat': 1, 'dm_mean': 1, 'size': 100.0, 'window': 7.0, 'negative': 5, 'hs': 0, 'min_count': 2, 'passes': 2, 'vector_size': 300.0}</td>\n",
       "    </tr>\n",
       "    <tr>\n",
       "      <th>16</th>\n",
       "      <td>Pass 16</td>\n",
       "      <td>0.7488</td>\n",
       "      <td>{'dm': 0, 'dm_concat': 1, 'dm_mean': 1, 'size': 300.0, 'window': 5.0, 'negative': 5, 'hs': 0, 'min_count': 2, 'passes': 2, 'vector_size': 100.0}</td>\n",
       "    </tr>\n",
       "    <tr>\n",
       "      <th>30</th>\n",
       "      <td>Pass 30</td>\n",
       "      <td>0.7484</td>\n",
       "      <td>{'dm': 0, 'dm_concat': 1, 'dm_mean': 1, 'size': 500.0, 'window': 5.0, 'negative': 5, 'hs': 0, 'min_count': 2, 'passes': 2, 'vector_size': 500.0}</td>\n",
       "    </tr>\n",
       "    <tr>\n",
       "      <th>35</th>\n",
       "      <td>Pass 35</td>\n",
       "      <td>0.7476</td>\n",
       "      <td>{'dm': 0, 'dm_concat': 1, 'dm_mean': 1, 'size': 500.0, 'window': 7.0, 'negative': 5, 'hs': 0, 'min_count': 2, 'passes': 2, 'vector_size': 700.0}</td>\n",
       "    </tr>\n",
       "    <tr>\n",
       "      <th>24</th>\n",
       "      <td>Pass 24</td>\n",
       "      <td>0.7472</td>\n",
       "      <td>{'dm': 0, 'dm_concat': 1, 'dm_mean': 1, 'size': 500.0, 'window': 3.0, 'negative': 5, 'hs': 0, 'min_count': 2, 'passes': 2, 'vector_size': 100.0}</td>\n",
       "    </tr>\n",
       "    <tr>\n",
       "      <th>21</th>\n",
       "      <td>Pass 21</td>\n",
       "      <td>0.7472</td>\n",
       "      <td>{'dm': 0, 'dm_concat': 1, 'dm_mean': 1, 'size': 300.0, 'window': 7.0, 'negative': 5, 'hs': 0, 'min_count': 2, 'passes': 2, 'vector_size': 300.0}</td>\n",
       "    </tr>\n",
       "    <tr>\n",
       "      <th>18</th>\n",
       "      <td>Pass 18</td>\n",
       "      <td>0.7460</td>\n",
       "      <td>{'dm': 0, 'dm_concat': 1, 'dm_mean': 1, 'size': 300.0, 'window': 5.0, 'negative': 5, 'hs': 0, 'min_count': 2, 'passes': 2, 'vector_size': 500.0}</td>\n",
       "    </tr>\n",
       "    <tr>\n",
       "      <th>13</th>\n",
       "      <td>Pass 13</td>\n",
       "      <td>0.7460</td>\n",
       "      <td>{'dm': 0, 'dm_concat': 1, 'dm_mean': 1, 'size': 300.0, 'window': 3.0, 'negative': 5, 'hs': 0, 'min_count': 2, 'passes': 2, 'vector_size': 300.0}</td>\n",
       "    </tr>\n",
       "    <tr>\n",
       "      <th>17</th>\n",
       "      <td>Pass 17</td>\n",
       "      <td>0.7456</td>\n",
       "      <td>{'dm': 0, 'dm_concat': 1, 'dm_mean': 1, 'size': 300.0, 'window': 5.0, 'negative': 5, 'hs': 0, 'min_count': 2, 'passes': 2, 'vector_size': 300.0}</td>\n",
       "    </tr>\n",
       "    <tr>\n",
       "      <th>11</th>\n",
       "      <td>Pass 11</td>\n",
       "      <td>0.7456</td>\n",
       "      <td>{'dm': 0, 'dm_concat': 1, 'dm_mean': 1, 'size': 100.0, 'window': 7.0, 'negative': 5, 'hs': 0, 'min_count': 2, 'passes': 2, 'vector_size': 700.0}</td>\n",
       "    </tr>\n",
       "    <tr>\n",
       "      <th>34</th>\n",
       "      <td>Pass 34</td>\n",
       "      <td>0.7452</td>\n",
       "      <td>{'dm': 0, 'dm_concat': 1, 'dm_mean': 1, 'size': 500.0, 'window': 7.0, 'negative': 5, 'hs': 0, 'min_count': 2, 'passes': 2, 'vector_size': 500.0}</td>\n",
       "    </tr>\n",
       "    <tr>\n",
       "      <th>2</th>\n",
       "      <td>Pass 2</td>\n",
       "      <td>0.7444</td>\n",
       "      <td>{'dm': 0, 'dm_concat': 1, 'dm_mean': 1, 'size': 100.0, 'window': 3.0, 'negative': 5, 'hs': 0, 'min_count': 2, 'passes': 2, 'vector_size': 500.0}</td>\n",
       "    </tr>\n",
       "    <tr>\n",
       "      <th>14</th>\n",
       "      <td>Pass 14</td>\n",
       "      <td>0.7436</td>\n",
       "      <td>{'dm': 0, 'dm_concat': 1, 'dm_mean': 1, 'size': 300.0, 'window': 3.0, 'negative': 5, 'hs': 0, 'min_count': 2, 'passes': 2, 'vector_size': 500.0}</td>\n",
       "    </tr>\n",
       "    <tr>\n",
       "      <th>6</th>\n",
       "      <td>Pass 6</td>\n",
       "      <td>0.7436</td>\n",
       "      <td>{'dm': 0, 'dm_concat': 1, 'dm_mean': 1, 'size': 100.0, 'window': 5.0, 'negative': 5, 'hs': 0, 'min_count': 2, 'passes': 2, 'vector_size': 500.0}</td>\n",
       "    </tr>\n",
       "    <tr>\n",
       "      <th>28</th>\n",
       "      <td>Pass 28</td>\n",
       "      <td>0.7424</td>\n",
       "      <td>{'dm': 0, 'dm_concat': 1, 'dm_mean': 1, 'size': 500.0, 'window': 5.0, 'negative': 5, 'hs': 0, 'min_count': 2, 'passes': 2, 'vector_size': 100.0}</td>\n",
       "    </tr>\n",
       "    <tr>\n",
       "      <th>22</th>\n",
       "      <td>Pass 22</td>\n",
       "      <td>0.7416</td>\n",
       "      <td>{'dm': 0, 'dm_concat': 1, 'dm_mean': 1, 'size': 300.0, 'window': 7.0, 'negative': 5, 'hs': 0, 'min_count': 2, 'passes': 2, 'vector_size': 500.0}</td>\n",
       "    </tr>\n",
       "    <tr>\n",
       "      <th>33</th>\n",
       "      <td>Pass 33</td>\n",
       "      <td>0.7416</td>\n",
       "      <td>{'dm': 0, 'dm_concat': 1, 'dm_mean': 1, 'size': 500.0, 'window': 7.0, 'negative': 5, 'hs': 0, 'min_count': 2, 'passes': 2, 'vector_size': 300.0}</td>\n",
       "    </tr>\n",
       "    <tr>\n",
       "      <th>15</th>\n",
       "      <td>Pass 15</td>\n",
       "      <td>0.7400</td>\n",
       "      <td>{'dm': 0, 'dm_concat': 1, 'dm_mean': 1, 'size': 300.0, 'window': 3.0, 'negative': 5, 'hs': 0, 'min_count': 2, 'passes': 2, 'vector_size': 700.0}</td>\n",
       "    </tr>\n",
       "    <tr>\n",
       "      <th>23</th>\n",
       "      <td>Pass 23</td>\n",
       "      <td>0.7392</td>\n",
       "      <td>{'dm': 0, 'dm_concat': 1, 'dm_mean': 1, 'size': 300.0, 'window': 7.0, 'negative': 5, 'hs': 0, 'min_count': 2, 'passes': 2, 'vector_size': 700.0}</td>\n",
       "    </tr>\n",
       "    <tr>\n",
       "      <th>27</th>\n",
       "      <td>Pass 27</td>\n",
       "      <td>0.7388</td>\n",
       "      <td>{'dm': 0, 'dm_concat': 1, 'dm_mean': 1, 'size': 500.0, 'window': 3.0, 'negative': 5, 'hs': 0, 'min_count': 2, 'passes': 2, 'vector_size': 700.0}</td>\n",
       "    </tr>\n",
       "    <tr>\n",
       "      <th>25</th>\n",
       "      <td>Pass 25</td>\n",
       "      <td>0.7384</td>\n",
       "      <td>{'dm': 0, 'dm_concat': 1, 'dm_mean': 1, 'size': 500.0, 'window': 3.0, 'negative': 5, 'hs': 0, 'min_count': 2, 'passes': 2, 'vector_size': 300.0}</td>\n",
       "    </tr>\n",
       "    <tr>\n",
       "      <th>4</th>\n",
       "      <td>Pass 4</td>\n",
       "      <td>0.7380</td>\n",
       "      <td>{'dm': 0, 'dm_concat': 1, 'dm_mean': 1, 'size': 100.0, 'window': 5.0, 'negative': 5, 'hs': 0, 'min_count': 2, 'passes': 2, 'vector_size': 100.0}</td>\n",
       "    </tr>\n",
       "    <tr>\n",
       "      <th>29</th>\n",
       "      <td>Pass 29</td>\n",
       "      <td>0.7364</td>\n",
       "      <td>{'dm': 0, 'dm_concat': 1, 'dm_mean': 1, 'size': 500.0, 'window': 5.0, 'negative': 5, 'hs': 0, 'min_count': 2, 'passes': 2, 'vector_size': 300.0}</td>\n",
       "    </tr>\n",
       "    <tr>\n",
       "      <th>19</th>\n",
       "      <td>Pass 19</td>\n",
       "      <td>0.7352</td>\n",
       "      <td>{'dm': 0, 'dm_concat': 1, 'dm_mean': 1, 'size': 300.0, 'window': 5.0, 'negative': 5, 'hs': 0, 'min_count': 2, 'passes': 2, 'vector_size': 700.0}</td>\n",
       "    </tr>\n",
       "    <tr>\n",
       "      <th>10</th>\n",
       "      <td>Pass 10</td>\n",
       "      <td>0.7332</td>\n",
       "      <td>{'dm': 0, 'dm_concat': 1, 'dm_mean': 1, 'size': 100.0, 'window': 7.0, 'negative': 5, 'hs': 0, 'min_count': 2, 'passes': 2, 'vector_size': 500.0}</td>\n",
       "    </tr>\n",
       "    <tr>\n",
       "      <th>12</th>\n",
       "      <td>Pass 12</td>\n",
       "      <td>0.7332</td>\n",
       "      <td>{'dm': 0, 'dm_concat': 1, 'dm_mean': 1, 'size': 300.0, 'window': 3.0, 'negative': 5, 'hs': 0, 'min_count': 2, 'passes': 2, 'vector_size': 100.0}</td>\n",
       "    </tr>\n",
       "    <tr>\n",
       "      <th>26</th>\n",
       "      <td>Pass 26</td>\n",
       "      <td>0.7324</td>\n",
       "      <td>{'dm': 0, 'dm_concat': 1, 'dm_mean': 1, 'size': 500.0, 'window': 3.0, 'negative': 5, 'hs': 0, 'min_count': 2, 'passes': 2, 'vector_size': 500.0}</td>\n",
       "    </tr>\n",
       "    <tr>\n",
       "      <th>20</th>\n",
       "      <td>Pass 20</td>\n",
       "      <td>0.7320</td>\n",
       "      <td>{'dm': 0, 'dm_concat': 1, 'dm_mean': 1, 'size': 300.0, 'window': 7.0, 'negative': 5, 'hs': 0, 'min_count': 2, 'passes': 2, 'vector_size': 100.0}</td>\n",
       "    </tr>\n",
       "    <tr>\n",
       "      <th>32</th>\n",
       "      <td>Pass 32</td>\n",
       "      <td>0.7272</td>\n",
       "      <td>{'dm': 0, 'dm_concat': 1, 'dm_mean': 1, 'size': 500.0, 'window': 7.0, 'negative': 5, 'hs': 0, 'min_count': 2, 'passes': 2, 'vector_size': 100.0}</td>\n",
       "    </tr>\n",
       "  </tbody>\n",
       "</table>\n",
       "</div>"
      ],
      "text/plain": [
       "      Model  Accuracy  \\\n",
       "8   Pass 8   0.7600     \n",
       "31  Pass 31  0.7536     \n",
       "7   Pass 7   0.7532     \n",
       "0   Pass 0   0.7524     \n",
       "3   Pass 3   0.7516     \n",
       "1   Pass 1   0.7516     \n",
       "5   Pass 5   0.7492     \n",
       "9   Pass 9   0.7492     \n",
       "16  Pass 16  0.7488     \n",
       "30  Pass 30  0.7484     \n",
       "35  Pass 35  0.7476     \n",
       "24  Pass 24  0.7472     \n",
       "21  Pass 21  0.7472     \n",
       "18  Pass 18  0.7460     \n",
       "13  Pass 13  0.7460     \n",
       "17  Pass 17  0.7456     \n",
       "11  Pass 11  0.7456     \n",
       "34  Pass 34  0.7452     \n",
       "2   Pass 2   0.7444     \n",
       "14  Pass 14  0.7436     \n",
       "6   Pass 6   0.7436     \n",
       "28  Pass 28  0.7424     \n",
       "22  Pass 22  0.7416     \n",
       "33  Pass 33  0.7416     \n",
       "15  Pass 15  0.7400     \n",
       "23  Pass 23  0.7392     \n",
       "27  Pass 27  0.7388     \n",
       "25  Pass 25  0.7384     \n",
       "4   Pass 4   0.7380     \n",
       "29  Pass 29  0.7364     \n",
       "19  Pass 19  0.7352     \n",
       "10  Pass 10  0.7332     \n",
       "12  Pass 12  0.7332     \n",
       "26  Pass 26  0.7324     \n",
       "20  Pass 20  0.7320     \n",
       "32  Pass 32  0.7272     \n",
       "\n",
       "                                                                                                                                              Params  \n",
       "8   {'dm': 0, 'dm_concat': 1, 'dm_mean': 1, 'size': 100.0, 'window': 7.0, 'negative': 5, 'hs': 0, 'min_count': 2, 'passes': 2, 'vector_size': 100.0}  \n",
       "31  {'dm': 0, 'dm_concat': 1, 'dm_mean': 1, 'size': 500.0, 'window': 5.0, 'negative': 5, 'hs': 0, 'min_count': 2, 'passes': 2, 'vector_size': 700.0}  \n",
       "7   {'dm': 0, 'dm_concat': 1, 'dm_mean': 1, 'size': 100.0, 'window': 5.0, 'negative': 5, 'hs': 0, 'min_count': 2, 'passes': 2, 'vector_size': 700.0}  \n",
       "0   {'dm': 0, 'dm_concat': 1, 'dm_mean': 1, 'size': 100.0, 'window': 3.0, 'negative': 5, 'hs': 0, 'min_count': 2, 'passes': 2, 'vector_size': 100.0}  \n",
       "3   {'dm': 0, 'dm_concat': 1, 'dm_mean': 1, 'size': 100.0, 'window': 3.0, 'negative': 5, 'hs': 0, 'min_count': 2, 'passes': 2, 'vector_size': 700.0}  \n",
       "1   {'dm': 0, 'dm_concat': 1, 'dm_mean': 1, 'size': 100.0, 'window': 3.0, 'negative': 5, 'hs': 0, 'min_count': 2, 'passes': 2, 'vector_size': 300.0}  \n",
       "5   {'dm': 0, 'dm_concat': 1, 'dm_mean': 1, 'size': 100.0, 'window': 5.0, 'negative': 5, 'hs': 0, 'min_count': 2, 'passes': 2, 'vector_size': 300.0}  \n",
       "9   {'dm': 0, 'dm_concat': 1, 'dm_mean': 1, 'size': 100.0, 'window': 7.0, 'negative': 5, 'hs': 0, 'min_count': 2, 'passes': 2, 'vector_size': 300.0}  \n",
       "16  {'dm': 0, 'dm_concat': 1, 'dm_mean': 1, 'size': 300.0, 'window': 5.0, 'negative': 5, 'hs': 0, 'min_count': 2, 'passes': 2, 'vector_size': 100.0}  \n",
       "30  {'dm': 0, 'dm_concat': 1, 'dm_mean': 1, 'size': 500.0, 'window': 5.0, 'negative': 5, 'hs': 0, 'min_count': 2, 'passes': 2, 'vector_size': 500.0}  \n",
       "35  {'dm': 0, 'dm_concat': 1, 'dm_mean': 1, 'size': 500.0, 'window': 7.0, 'negative': 5, 'hs': 0, 'min_count': 2, 'passes': 2, 'vector_size': 700.0}  \n",
       "24  {'dm': 0, 'dm_concat': 1, 'dm_mean': 1, 'size': 500.0, 'window': 3.0, 'negative': 5, 'hs': 0, 'min_count': 2, 'passes': 2, 'vector_size': 100.0}  \n",
       "21  {'dm': 0, 'dm_concat': 1, 'dm_mean': 1, 'size': 300.0, 'window': 7.0, 'negative': 5, 'hs': 0, 'min_count': 2, 'passes': 2, 'vector_size': 300.0}  \n",
       "18  {'dm': 0, 'dm_concat': 1, 'dm_mean': 1, 'size': 300.0, 'window': 5.0, 'negative': 5, 'hs': 0, 'min_count': 2, 'passes': 2, 'vector_size': 500.0}  \n",
       "13  {'dm': 0, 'dm_concat': 1, 'dm_mean': 1, 'size': 300.0, 'window': 3.0, 'negative': 5, 'hs': 0, 'min_count': 2, 'passes': 2, 'vector_size': 300.0}  \n",
       "17  {'dm': 0, 'dm_concat': 1, 'dm_mean': 1, 'size': 300.0, 'window': 5.0, 'negative': 5, 'hs': 0, 'min_count': 2, 'passes': 2, 'vector_size': 300.0}  \n",
       "11  {'dm': 0, 'dm_concat': 1, 'dm_mean': 1, 'size': 100.0, 'window': 7.0, 'negative': 5, 'hs': 0, 'min_count': 2, 'passes': 2, 'vector_size': 700.0}  \n",
       "34  {'dm': 0, 'dm_concat': 1, 'dm_mean': 1, 'size': 500.0, 'window': 7.0, 'negative': 5, 'hs': 0, 'min_count': 2, 'passes': 2, 'vector_size': 500.0}  \n",
       "2   {'dm': 0, 'dm_concat': 1, 'dm_mean': 1, 'size': 100.0, 'window': 3.0, 'negative': 5, 'hs': 0, 'min_count': 2, 'passes': 2, 'vector_size': 500.0}  \n",
       "14  {'dm': 0, 'dm_concat': 1, 'dm_mean': 1, 'size': 300.0, 'window': 3.0, 'negative': 5, 'hs': 0, 'min_count': 2, 'passes': 2, 'vector_size': 500.0}  \n",
       "6   {'dm': 0, 'dm_concat': 1, 'dm_mean': 1, 'size': 100.0, 'window': 5.0, 'negative': 5, 'hs': 0, 'min_count': 2, 'passes': 2, 'vector_size': 500.0}  \n",
       "28  {'dm': 0, 'dm_concat': 1, 'dm_mean': 1, 'size': 500.0, 'window': 5.0, 'negative': 5, 'hs': 0, 'min_count': 2, 'passes': 2, 'vector_size': 100.0}  \n",
       "22  {'dm': 0, 'dm_concat': 1, 'dm_mean': 1, 'size': 300.0, 'window': 7.0, 'negative': 5, 'hs': 0, 'min_count': 2, 'passes': 2, 'vector_size': 500.0}  \n",
       "33  {'dm': 0, 'dm_concat': 1, 'dm_mean': 1, 'size': 500.0, 'window': 7.0, 'negative': 5, 'hs': 0, 'min_count': 2, 'passes': 2, 'vector_size': 300.0}  \n",
       "15  {'dm': 0, 'dm_concat': 1, 'dm_mean': 1, 'size': 300.0, 'window': 3.0, 'negative': 5, 'hs': 0, 'min_count': 2, 'passes': 2, 'vector_size': 700.0}  \n",
       "23  {'dm': 0, 'dm_concat': 1, 'dm_mean': 1, 'size': 300.0, 'window': 7.0, 'negative': 5, 'hs': 0, 'min_count': 2, 'passes': 2, 'vector_size': 700.0}  \n",
       "27  {'dm': 0, 'dm_concat': 1, 'dm_mean': 1, 'size': 500.0, 'window': 3.0, 'negative': 5, 'hs': 0, 'min_count': 2, 'passes': 2, 'vector_size': 700.0}  \n",
       "25  {'dm': 0, 'dm_concat': 1, 'dm_mean': 1, 'size': 500.0, 'window': 3.0, 'negative': 5, 'hs': 0, 'min_count': 2, 'passes': 2, 'vector_size': 300.0}  \n",
       "4   {'dm': 0, 'dm_concat': 1, 'dm_mean': 1, 'size': 100.0, 'window': 5.0, 'negative': 5, 'hs': 0, 'min_count': 2, 'passes': 2, 'vector_size': 100.0}  \n",
       "29  {'dm': 0, 'dm_concat': 1, 'dm_mean': 1, 'size': 500.0, 'window': 5.0, 'negative': 5, 'hs': 0, 'min_count': 2, 'passes': 2, 'vector_size': 300.0}  \n",
       "19  {'dm': 0, 'dm_concat': 1, 'dm_mean': 1, 'size': 300.0, 'window': 5.0, 'negative': 5, 'hs': 0, 'min_count': 2, 'passes': 2, 'vector_size': 700.0}  \n",
       "10  {'dm': 0, 'dm_concat': 1, 'dm_mean': 1, 'size': 100.0, 'window': 7.0, 'negative': 5, 'hs': 0, 'min_count': 2, 'passes': 2, 'vector_size': 500.0}  \n",
       "12  {'dm': 0, 'dm_concat': 1, 'dm_mean': 1, 'size': 300.0, 'window': 3.0, 'negative': 5, 'hs': 0, 'min_count': 2, 'passes': 2, 'vector_size': 100.0}  \n",
       "26  {'dm': 0, 'dm_concat': 1, 'dm_mean': 1, 'size': 500.0, 'window': 3.0, 'negative': 5, 'hs': 0, 'min_count': 2, 'passes': 2, 'vector_size': 500.0}  \n",
       "20  {'dm': 0, 'dm_concat': 1, 'dm_mean': 1, 'size': 300.0, 'window': 7.0, 'negative': 5, 'hs': 0, 'min_count': 2, 'passes': 2, 'vector_size': 100.0}  \n",
       "32  {'dm': 0, 'dm_concat': 1, 'dm_mean': 1, 'size': 500.0, 'window': 7.0, 'negative': 5, 'hs': 0, 'min_count': 2, 'passes': 2, 'vector_size': 100.0}  "
      ]
     },
     "execution_count": 48,
     "metadata": {},
     "output_type": "execute_result"
    }
   ],
   "source": [
    "import warnings\n",
    "warnings.filterwarnings(\"ignore\", category=DeprecationWarning) \n",
    "\n",
    "_df = searchParams2(False)\n",
    "\n",
    "# Print results sorted by Accuracy desc\n",
    "pd.set_option('display.max_colwidth', -1)\n",
    "_df.sort_values(by = ['Accuracy'], ascending = [False]).head()"
   ]
  },
  {
   "cell_type": "code",
   "execution_count": null,
   "metadata": {},
   "outputs": [],
   "source": []
  },
  {
   "cell_type": "markdown",
   "metadata": {},
   "source": [
    "Best so far for dm0\n",
    "\n",
    "8 \tPass 8 \t0.7600 \t{'dm': 0, 'dm_concat': 1, 'dm_mean': 1, 'size': 100.0, 'window': 7.0, 'negative': 5, 'hs': 0, 'min_count': 2, 'passes': 2, 'vector_size': 100.0}"
   ]
  },
  {
   "cell_type": "markdown",
   "metadata": {},
   "source": [
    "## Train best Doc2Vec models\n",
    "\n",
    "We'll train and assign the best two Doc2Vec models into variables for use later on.\n",
    "\n",
    "Best params so far for dm0\n",
    "* Pass 8 0.7600 {'dm': 0, 'dm_concat': 1, 'dm_mean': 1, 'size': 100, 'window': 7, 'negative': 5, 'hs': 0, 'min_count': 2, 'passes': 2, 'vector_size': 100}\n",
    "\n",
    "Best params so far for dm1:\n",
    "* Pass 26 0.7580 {'dm': 1, 'dm_concat': 0, 'dm_mean': 1, 'size': 500, 'window': 3, 'negative': 11.0, 'hs': 0, 'min_count': 3, 'passes': 2, 'vector_size': 300}"
   ]
  },
  {
   "cell_type": "code",
   "execution_count": 23,
   "metadata": {
    "ExecuteTime": {
     "end_time": "2018-12-03T16:06:04.553750Z",
     "start_time": "2018-12-03T16:03:12.345366Z"
    }
   },
   "outputs": [
    {
     "name": "stdout",
     "output_type": "stream",
     "text": [
      "Finished!\n"
     ]
    }
   ],
   "source": [
    "docs = taggedDocs[:25000]\n",
    "\n",
    "# Instantiate each model\n",
    "m1 = Doc2Vec(dm=0, dm_concat=1, dm_mean=1, size=100, window=7, negative=5,  hs=0, min_count=2, passes=2, vector_size=100, workers=cores)\n",
    "m2 = Doc2Vec(dm=1, dm_concat=0, dm_mean=1, size=500, window=3, negative=11, hs=0, min_count=3, passes=2, vector_size=300, workers=cores)\n",
    "\n",
    "# Build vocab with first model\n",
    "m1.build_vocab(docs)\n",
    "\n",
    "# Share first model's vocab scan w/ the other models\n",
    "m2.reset_from(m1)\n",
    "\n",
    "# Model training params\n",
    "alpha, min_alpha, passes = (0.025, 0.001, 20)\n",
    "\n",
    "# Train each model on the labeled training data\n",
    "m1.train(docs, total_examples = m1.corpus_count, start_alpha = alpha, end_alpha = min_alpha, epochs = passes)\n",
    "m2.train(docs, total_examples = m2.corpus_count, start_alpha = alpha, end_alpha = min_alpha, epochs = passes)\n",
    "\n",
    "# Combine the document vectors, so we can pass to XGBoost model as the feature set\n",
    "#featureSet = np.hstack(m1.docvecs.doctag_syn0, m2.docvecs.doctag_syn0)\n",
    "\n",
    "print(\"Finished!\")"
   ]
  },
  {
   "cell_type": "code",
   "execution_count": 24,
   "metadata": {
    "ExecuteTime": {
     "end_time": "2018-12-03T16:06:04.895506Z",
     "start_time": "2018-12-03T16:06:04.554756Z"
    }
   },
   "outputs": [
    {
     "name": "stdout",
     "output_type": "stream",
     "text": [
      "(25000, 100)\n",
      "(25000, 500)\n"
     ]
    }
   ],
   "source": [
    "print(m1.docvecs.doctag_syn0.shape)\n",
    "print(m2.docvecs.doctag_syn0.shape)"
   ]
  },
  {
   "cell_type": "code",
   "execution_count": 25,
   "metadata": {
    "ExecuteTime": {
     "end_time": "2018-12-03T16:06:05.308316Z",
     "start_time": "2018-12-03T16:06:04.896512Z"
    }
   },
   "outputs": [
    {
     "name": "stdout",
     "output_type": "stream",
     "text": [
      "(25000, 600)\n"
     ]
    }
   ],
   "source": [
    "featureSet = np.hstack((m1.docvecs.doctag_syn0, m2.docvecs.doctag_syn0))\n",
    "print(featureSet.shape)"
   ]
  },
  {
   "cell_type": "code",
   "execution_count": 28,
   "metadata": {
    "ExecuteTime": {
     "end_time": "2018-12-03T18:05:03.109090Z",
     "start_time": "2018-12-03T18:05:02.731075Z"
    }
   },
   "outputs": [],
   "source": [
    "y = list(combinedDat['sentiment'][:25000])\n",
    "\n",
    "X_train, X_eval, y_train, y_eval = train_test_split(\n",
    "    featureSet,  \n",
    "    y, \n",
    "    test_size = 0.1, \n",
    "    shuffle = True, \n",
    "    random_state = seedVal, \n",
    "    stratify = y\n",
    ")"
   ]
  },
  {
   "cell_type": "markdown",
   "metadata": {},
   "source": [
    "## Tune XGBoost using best Doc2Vec models\n",
    "\n",
    "Training XGBoost isn't as straightforward as other models.  Our strategy will be as follows:\n",
    "\n",
    "1. Pick some sane model param defaults\n",
    "2. Calculate best initial n_estimators value (i.e. number of trees)\n",
    "3. Tune max_depth and min_child_weight\n",
    "4. Tune gamma, subsample and colsample_bytree\n",
    "5. Tune regularization params, reg_alpha and reg_lambda\n",
    "6. Obtain new n_estimators value\n",
    "7. Tune the learning rate and re-eval n_estimators\n",
    "\n",
    "References:\n",
    "* https://www.analyticsvidhya.com/blog/2016/03/complete-guide-parameter-tuning-xgboost-with-codes-python/\n",
    "* https://towardsdatascience.com/fine-tuning-xgboost-in-python-like-a-boss-b4543ed8b1e"
   ]
  },
  {
   "cell_type": "markdown",
   "metadata": {
    "ExecuteTime": {
     "end_time": "2018-12-03T17:58:32.035638Z",
     "start_time": "2018-12-03T17:58:31.661972Z"
    }
   },
   "source": [
    "### Pick sane model param defaults"
   ]
  },
  {
   "cell_type": "code",
   "execution_count": 34,
   "metadata": {
    "ExecuteTime": {
     "end_time": "2018-12-03T18:37:07.125037Z",
     "start_time": "2018-12-03T18:35:10.886355Z"
    }
   },
   "outputs": [
    {
     "data": {
      "text/plain": [
       "XGBClassifier(base_score=0.5, booster='gbtree', colsample_bylevel=1,\n",
       "       colsample_bytree=0.8, gamma=0, learning_rate=0.1, max_delta_step=0,\n",
       "       max_depth=5, min_child_weight=1, missing=None, n_estimators=1000,\n",
       "       n_jobs=1, nthread=4, objective='binary:logistic', random_state=10,\n",
       "       reg_alpha=0, reg_lambda=1, scale_pos_weight=1, seed=None,\n",
       "       silent=True, subsample=0.8)"
      ]
     },
     "execution_count": 34,
     "metadata": {},
     "output_type": "execute_result"
    }
   ],
   "source": [
    "xgb1 = xg.XGBClassifier(\n",
    "    learning_rate =0.1,\n",
    "    n_estimators=5000,\n",
    "    max_depth=5,\n",
    "    min_child_weight=1,\n",
    "    gamma=0,\n",
    "    subsample=0.8,\n",
    "    colsample_bytree=0.8,\n",
    "    objective= 'binary:logistic',\n",
    "    nthread=4,\n",
    "    scale_pos_weight=1,\n",
    "    random_state=10\n",
    ")"
   ]
  },
  {
   "cell_type": "markdown",
   "metadata": {},
   "source": [
    "### Calculate best initial n_estimators value (i.e. number of trees)"
   ]
  },
  {
   "cell_type": "code",
   "execution_count": 37,
   "metadata": {
    "ExecuteTime": {
     "end_time": "2018-12-03T19:07:12.841117Z",
     "start_time": "2018-12-03T18:46:28.377502Z"
    }
   },
   "outputs": [
    {
     "data": {
      "text/plain": [
       "XGBClassifier(base_score=0.5, booster='gbtree', colsample_bylevel=1,\n",
       "       colsample_bytree=0.8, gamma=0, learning_rate=0.1, max_delta_step=0,\n",
       "       max_depth=5, min_child_weight=1, missing=None, n_estimators=918,\n",
       "       n_jobs=1, nthread=4, objective='binary:logistic', random_state=10,\n",
       "       reg_alpha=0, reg_lambda=1, scale_pos_weight=1, seed=None,\n",
       "       silent=True, subsample=0.8)"
      ]
     },
     "execution_count": 37,
     "metadata": {},
     "output_type": "execute_result"
    }
   ],
   "source": [
    "params = xgb1.get_xgb_params()\n",
    "dmatrix = xg.DMatrix(X_train, label=y_train)\n",
    "\n",
    "cv = xg.cv(\n",
    "    params, \n",
    "    dmatrix, \n",
    "    num_boost_round = xgb1.get_params()['n_estimators'], \n",
    "    nfold = 5,\n",
    "    metrics = 'auc',\n",
    "    early_stopping_rounds=25\n",
    ")\n",
    "\n",
    "# Assign best n_estimators value to our model\n",
    "xgb1.set_params(n_estimators = cv.shape[0])"
   ]
  },
  {
   "cell_type": "code",
   "execution_count": 43,
   "metadata": {
    "ExecuteTime": {
     "end_time": "2018-12-03T19:18:43.993146Z",
     "start_time": "2018-12-03T19:18:02.791878Z"
    }
   },
   "outputs": [
    {
     "name": "stdout",
     "output_type": "stream",
     "text": [
      "Accuracy on eval data:  0.8648\n"
     ]
    }
   ],
   "source": [
    "xgb1.fit(\n",
    "    X_train, \n",
    "    y_train, \n",
    "    eval_set = [(X_train, y_train), (X_eval, y_eval)],\n",
    "    eval_metric = \"auc\",\n",
    "    verbose = False,\n",
    "    early_stopping_rounds = 5,\n",
    ")\n",
    "    \n",
    "preds = xgb1.predict(X_eval)\n",
    "print(\"Accuracy on eval data: \", accuracy_score(y_eval, preds))"
   ]
  },
  {
   "cell_type": "markdown",
   "metadata": {},
   "source": [
    "### Tune max_depth and min_child_weight"
   ]
  },
  {
   "cell_type": "code",
   "execution_count": 65,
   "metadata": {
    "ExecuteTime": {
     "end_time": "2018-12-03T19:46:30.147642Z",
     "start_time": "2018-12-03T19:46:29.842817Z"
    }
   },
   "outputs": [],
   "source": [
    "def getXGBModel():\n",
    "    model = xg.XGBClassifier(base_score=0.5, booster='gbtree', colsample_bylevel=1,\n",
    "       colsample_bytree=0.8, gamma=0, learning_rate=0.1, max_delta_step=0,\n",
    "       max_depth=5, min_child_weight=1, missing=None, n_estimators=918,\n",
    "       n_jobs=1, nthread=4, objective='binary:logistic', random_state=10,\n",
    "       reg_alpha=0, reg_lambda=1, scale_pos_weight=1, seed=None,\n",
    "       silent=True, subsample=0.8)\n",
    "    return model"
   ]
  },
  {
   "cell_type": "code",
   "execution_count": 83,
   "metadata": {
    "ExecuteTime": {
     "end_time": "2018-12-03T22:18:19.728984Z",
     "start_time": "2018-12-03T22:18:19.385060Z"
    }
   },
   "outputs": [],
   "source": [
    "def evalXGB(model, silent = True):\n",
    "    start = timer()\n",
    "    \n",
    "    model.fit(\n",
    "        X_train, \n",
    "        y_train, \n",
    "        eval_set = [(X_train, y_train), (X_eval, y_eval)],\n",
    "        eval_metric = \"auc\",\n",
    "        verbose = False,\n",
    "        early_stopping_rounds = 25,\n",
    "    )\n",
    "    \n",
    "    preds = model.predict(X_eval)\n",
    "    acc = accuracy_score(y_eval, preds)\n",
    "    \n",
    "    end = timer()\n",
    "    \n",
    "    if not silent:\n",
    "        print(\"    Model training finished in\", round((end-start)/60, 2), \"mins with accuracy\", acc)\n",
    "            \n",
    "    return(acc)"
   ]
  },
  {
   "cell_type": "code",
   "execution_count": 71,
   "metadata": {
    "ExecuteTime": {
     "end_time": "2018-12-03T21:02:50.416622Z",
     "start_time": "2018-12-03T19:55:32.498097Z"
    }
   },
   "outputs": [
    {
     "name": "stdout",
     "output_type": "stream",
     "text": [
      "Training round 1\n",
      "    Model training finished in 1.99  mins with accuracy 0.8836\n",
      "Training round 2\n",
      "    Model training finished in 2.75  mins with accuracy 0.8872\n",
      "Training round 3\n",
      "    Model training finished in 2.83  mins with accuracy 0.89\n",
      "Training round 4\n",
      "    Model training finished in 2.93  mins with accuracy 0.89\n",
      "Training round 5\n",
      "    Model training finished in 1.96  mins with accuracy 0.888\n",
      "Training round 6\n",
      "    Model training finished in 2.05  mins with accuracy 0.8868\n",
      "Training round 7\n",
      "    Model training finished in 1.9  mins with accuracy 0.8864\n",
      "Training round 8\n",
      "    Model training finished in 2.26  mins with accuracy 0.8852\n",
      "Training round 9\n",
      "    Model training finished in 2.38  mins with accuracy 0.878\n",
      "Training round 10\n",
      "    Model training finished in 4.76  mins with accuracy 0.8848\n",
      "Training round 11\n",
      "    Model training finished in 3.99  mins with accuracy 0.8928\n",
      "Training round 12\n",
      "    Model training finished in 3.04  mins with accuracy 0.888\n",
      "Training round 13\n",
      "    Model training finished in 2.01  mins with accuracy 0.8804\n",
      "Training round 14\n",
      "    Model training finished in 4.77  mins with accuracy 0.8824\n",
      "Training round 15\n",
      "    Model training finished in 4.21  mins with accuracy 0.8844\n",
      "Training round 16\n",
      "    Model training finished in 3.62  mins with accuracy 0.89\n",
      "Training round 17\n",
      "    Model training finished in 7.07  mins with accuracy 0.8876\n",
      "Training round 18\n",
      "    Model training finished in 4.56  mins with accuracy 0.8788\n",
      "Training round 19\n",
      "    Model training finished in 3.42  mins with accuracy 0.8816\n",
      "Training round 20\n",
      "    Model training finished in 4.78  mins with accuracy 0.8888\n",
      "\n",
      "Finished!\n"
     ]
    }
   ],
   "source": [
    "resultsDF = pd.DataFrame(columns = ['Accuracy', 'Params'])\n",
    "counter = 1\n",
    "\n",
    "for max_depth in np.linspace(2, 10, 5):\n",
    "    for min_child_weight in np.linspace(2, 8, 4):\n",
    "        print(\"Training round\", counter)\n",
    "        xgb1 = getXGBModel()\n",
    "        xgb1.set_params(max_depth = int(max_depth), min_child_weight = int(min_child_weight))\n",
    "        acc = evalXGB(xgb1, False)\n",
    "            \n",
    "        resultsDF.loc[len(resultsDF)] = list([\n",
    "            acc,\n",
    "            xgb1.get_params()\n",
    "        ])\n",
    "        \n",
    "        counter += 1\n",
    "        \n",
    "print(\"\\nFinished!\")"
   ]
  },
  {
   "cell_type": "code",
   "execution_count": 72,
   "metadata": {
    "ExecuteTime": {
     "end_time": "2018-12-03T21:02:50.756539Z",
     "start_time": "2018-12-03T21:02:50.420632Z"
    }
   },
   "outputs": [
    {
     "data": {
      "text/html": [
       "<div>\n",
       "<style scoped>\n",
       "    .dataframe tbody tr th:only-of-type {\n",
       "        vertical-align: middle;\n",
       "    }\n",
       "\n",
       "    .dataframe tbody tr th {\n",
       "        vertical-align: top;\n",
       "    }\n",
       "\n",
       "    .dataframe thead th {\n",
       "        text-align: right;\n",
       "    }\n",
       "</style>\n",
       "<table border=\"1\" class=\"dataframe\">\n",
       "  <thead>\n",
       "    <tr style=\"text-align: right;\">\n",
       "      <th></th>\n",
       "      <th>Accuracy</th>\n",
       "      <th>Params</th>\n",
       "    </tr>\n",
       "  </thead>\n",
       "  <tbody>\n",
       "    <tr>\n",
       "      <th>10</th>\n",
       "      <td>0.8928</td>\n",
       "      <td>{'base_score': 0.5, 'booster': 'gbtree', 'colsample_bylevel': 1, 'colsample_bytree': 0.8, 'gamma': 0, 'learning_rate': 0.1, 'max_delta_step': 0, 'max_depth': 6, 'min_child_weight': 6, 'missing': None, 'n_estimators': 918, 'n_jobs': 1, 'nthread': 4, 'objective': 'binary:logistic', 'random_state': 10, 'reg_alpha': 0, 'reg_lambda': 1, 'scale_pos_weight': 1, 'seed': None, 'silent': True, 'subsample': 0.8}</td>\n",
       "    </tr>\n",
       "    <tr>\n",
       "      <th>15</th>\n",
       "      <td>0.8900</td>\n",
       "      <td>{'base_score': 0.5, 'booster': 'gbtree', 'colsample_bylevel': 1, 'colsample_bytree': 0.8, 'gamma': 0, 'learning_rate': 0.1, 'max_delta_step': 0, 'max_depth': 8, 'min_child_weight': 8, 'missing': None, 'n_estimators': 918, 'n_jobs': 1, 'nthread': 4, 'objective': 'binary:logistic', 'random_state': 10, 'reg_alpha': 0, 'reg_lambda': 1, 'scale_pos_weight': 1, 'seed': None, 'silent': True, 'subsample': 0.8}</td>\n",
       "    </tr>\n",
       "    <tr>\n",
       "      <th>2</th>\n",
       "      <td>0.8900</td>\n",
       "      <td>{'base_score': 0.5, 'booster': 'gbtree', 'colsample_bylevel': 1, 'colsample_bytree': 0.8, 'gamma': 0, 'learning_rate': 0.1, 'max_delta_step': 0, 'max_depth': 2, 'min_child_weight': 6, 'missing': None, 'n_estimators': 918, 'n_jobs': 1, 'nthread': 4, 'objective': 'binary:logistic', 'random_state': 10, 'reg_alpha': 0, 'reg_lambda': 1, 'scale_pos_weight': 1, 'seed': None, 'silent': True, 'subsample': 0.8}</td>\n",
       "    </tr>\n",
       "    <tr>\n",
       "      <th>3</th>\n",
       "      <td>0.8900</td>\n",
       "      <td>{'base_score': 0.5, 'booster': 'gbtree', 'colsample_bylevel': 1, 'colsample_bytree': 0.8, 'gamma': 0, 'learning_rate': 0.1, 'max_delta_step': 0, 'max_depth': 2, 'min_child_weight': 8, 'missing': None, 'n_estimators': 918, 'n_jobs': 1, 'nthread': 4, 'objective': 'binary:logistic', 'random_state': 10, 'reg_alpha': 0, 'reg_lambda': 1, 'scale_pos_weight': 1, 'seed': None, 'silent': True, 'subsample': 0.8}</td>\n",
       "    </tr>\n",
       "    <tr>\n",
       "      <th>19</th>\n",
       "      <td>0.8888</td>\n",
       "      <td>{'base_score': 0.5, 'booster': 'gbtree', 'colsample_bylevel': 1, 'colsample_bytree': 0.8, 'gamma': 0, 'learning_rate': 0.1, 'max_delta_step': 0, 'max_depth': 10, 'min_child_weight': 8, 'missing': None, 'n_estimators': 918, 'n_jobs': 1, 'nthread': 4, 'objective': 'binary:logistic', 'random_state': 10, 'reg_alpha': 0, 'reg_lambda': 1, 'scale_pos_weight': 1, 'seed': None, 'silent': True, 'subsample': 0.8}</td>\n",
       "    </tr>\n",
       "    <tr>\n",
       "      <th>11</th>\n",
       "      <td>0.8880</td>\n",
       "      <td>{'base_score': 0.5, 'booster': 'gbtree', 'colsample_bylevel': 1, 'colsample_bytree': 0.8, 'gamma': 0, 'learning_rate': 0.1, 'max_delta_step': 0, 'max_depth': 6, 'min_child_weight': 8, 'missing': None, 'n_estimators': 918, 'n_jobs': 1, 'nthread': 4, 'objective': 'binary:logistic', 'random_state': 10, 'reg_alpha': 0, 'reg_lambda': 1, 'scale_pos_weight': 1, 'seed': None, 'silent': True, 'subsample': 0.8}</td>\n",
       "    </tr>\n",
       "    <tr>\n",
       "      <th>4</th>\n",
       "      <td>0.8880</td>\n",
       "      <td>{'base_score': 0.5, 'booster': 'gbtree', 'colsample_bylevel': 1, 'colsample_bytree': 0.8, 'gamma': 0, 'learning_rate': 0.1, 'max_delta_step': 0, 'max_depth': 4, 'min_child_weight': 2, 'missing': None, 'n_estimators': 918, 'n_jobs': 1, 'nthread': 4, 'objective': 'binary:logistic', 'random_state': 10, 'reg_alpha': 0, 'reg_lambda': 1, 'scale_pos_weight': 1, 'seed': None, 'silent': True, 'subsample': 0.8}</td>\n",
       "    </tr>\n",
       "    <tr>\n",
       "      <th>16</th>\n",
       "      <td>0.8876</td>\n",
       "      <td>{'base_score': 0.5, 'booster': 'gbtree', 'colsample_bylevel': 1, 'colsample_bytree': 0.8, 'gamma': 0, 'learning_rate': 0.1, 'max_delta_step': 0, 'max_depth': 10, 'min_child_weight': 2, 'missing': None, 'n_estimators': 918, 'n_jobs': 1, 'nthread': 4, 'objective': 'binary:logistic', 'random_state': 10, 'reg_alpha': 0, 'reg_lambda': 1, 'scale_pos_weight': 1, 'seed': None, 'silent': True, 'subsample': 0.8}</td>\n",
       "    </tr>\n",
       "    <tr>\n",
       "      <th>1</th>\n",
       "      <td>0.8872</td>\n",
       "      <td>{'base_score': 0.5, 'booster': 'gbtree', 'colsample_bylevel': 1, 'colsample_bytree': 0.8, 'gamma': 0, 'learning_rate': 0.1, 'max_delta_step': 0, 'max_depth': 2, 'min_child_weight': 4, 'missing': None, 'n_estimators': 918, 'n_jobs': 1, 'nthread': 4, 'objective': 'binary:logistic', 'random_state': 10, 'reg_alpha': 0, 'reg_lambda': 1, 'scale_pos_weight': 1, 'seed': None, 'silent': True, 'subsample': 0.8}</td>\n",
       "    </tr>\n",
       "    <tr>\n",
       "      <th>5</th>\n",
       "      <td>0.8868</td>\n",
       "      <td>{'base_score': 0.5, 'booster': 'gbtree', 'colsample_bylevel': 1, 'colsample_bytree': 0.8, 'gamma': 0, 'learning_rate': 0.1, 'max_delta_step': 0, 'max_depth': 4, 'min_child_weight': 4, 'missing': None, 'n_estimators': 918, 'n_jobs': 1, 'nthread': 4, 'objective': 'binary:logistic', 'random_state': 10, 'reg_alpha': 0, 'reg_lambda': 1, 'scale_pos_weight': 1, 'seed': None, 'silent': True, 'subsample': 0.8}</td>\n",
       "    </tr>\n",
       "    <tr>\n",
       "      <th>6</th>\n",
       "      <td>0.8864</td>\n",
       "      <td>{'base_score': 0.5, 'booster': 'gbtree', 'colsample_bylevel': 1, 'colsample_bytree': 0.8, 'gamma': 0, 'learning_rate': 0.1, 'max_delta_step': 0, 'max_depth': 4, 'min_child_weight': 6, 'missing': None, 'n_estimators': 918, 'n_jobs': 1, 'nthread': 4, 'objective': 'binary:logistic', 'random_state': 10, 'reg_alpha': 0, 'reg_lambda': 1, 'scale_pos_weight': 1, 'seed': None, 'silent': True, 'subsample': 0.8}</td>\n",
       "    </tr>\n",
       "    <tr>\n",
       "      <th>7</th>\n",
       "      <td>0.8852</td>\n",
       "      <td>{'base_score': 0.5, 'booster': 'gbtree', 'colsample_bylevel': 1, 'colsample_bytree': 0.8, 'gamma': 0, 'learning_rate': 0.1, 'max_delta_step': 0, 'max_depth': 4, 'min_child_weight': 8, 'missing': None, 'n_estimators': 918, 'n_jobs': 1, 'nthread': 4, 'objective': 'binary:logistic', 'random_state': 10, 'reg_alpha': 0, 'reg_lambda': 1, 'scale_pos_weight': 1, 'seed': None, 'silent': True, 'subsample': 0.8}</td>\n",
       "    </tr>\n",
       "    <tr>\n",
       "      <th>9</th>\n",
       "      <td>0.8848</td>\n",
       "      <td>{'base_score': 0.5, 'booster': 'gbtree', 'colsample_bylevel': 1, 'colsample_bytree': 0.8, 'gamma': 0, 'learning_rate': 0.1, 'max_delta_step': 0, 'max_depth': 6, 'min_child_weight': 4, 'missing': None, 'n_estimators': 918, 'n_jobs': 1, 'nthread': 4, 'objective': 'binary:logistic', 'random_state': 10, 'reg_alpha': 0, 'reg_lambda': 1, 'scale_pos_weight': 1, 'seed': None, 'silent': True, 'subsample': 0.8}</td>\n",
       "    </tr>\n",
       "    <tr>\n",
       "      <th>14</th>\n",
       "      <td>0.8844</td>\n",
       "      <td>{'base_score': 0.5, 'booster': 'gbtree', 'colsample_bylevel': 1, 'colsample_bytree': 0.8, 'gamma': 0, 'learning_rate': 0.1, 'max_delta_step': 0, 'max_depth': 8, 'min_child_weight': 6, 'missing': None, 'n_estimators': 918, 'n_jobs': 1, 'nthread': 4, 'objective': 'binary:logistic', 'random_state': 10, 'reg_alpha': 0, 'reg_lambda': 1, 'scale_pos_weight': 1, 'seed': None, 'silent': True, 'subsample': 0.8}</td>\n",
       "    </tr>\n",
       "    <tr>\n",
       "      <th>0</th>\n",
       "      <td>0.8836</td>\n",
       "      <td>{'base_score': 0.5, 'booster': 'gbtree', 'colsample_bylevel': 1, 'colsample_bytree': 0.8, 'gamma': 0, 'learning_rate': 0.1, 'max_delta_step': 0, 'max_depth': 2, 'min_child_weight': 2, 'missing': None, 'n_estimators': 918, 'n_jobs': 1, 'nthread': 4, 'objective': 'binary:logistic', 'random_state': 10, 'reg_alpha': 0, 'reg_lambda': 1, 'scale_pos_weight': 1, 'seed': None, 'silent': True, 'subsample': 0.8}</td>\n",
       "    </tr>\n",
       "    <tr>\n",
       "      <th>13</th>\n",
       "      <td>0.8824</td>\n",
       "      <td>{'base_score': 0.5, 'booster': 'gbtree', 'colsample_bylevel': 1, 'colsample_bytree': 0.8, 'gamma': 0, 'learning_rate': 0.1, 'max_delta_step': 0, 'max_depth': 8, 'min_child_weight': 4, 'missing': None, 'n_estimators': 918, 'n_jobs': 1, 'nthread': 4, 'objective': 'binary:logistic', 'random_state': 10, 'reg_alpha': 0, 'reg_lambda': 1, 'scale_pos_weight': 1, 'seed': None, 'silent': True, 'subsample': 0.8}</td>\n",
       "    </tr>\n",
       "    <tr>\n",
       "      <th>18</th>\n",
       "      <td>0.8816</td>\n",
       "      <td>{'base_score': 0.5, 'booster': 'gbtree', 'colsample_bylevel': 1, 'colsample_bytree': 0.8, 'gamma': 0, 'learning_rate': 0.1, 'max_delta_step': 0, 'max_depth': 10, 'min_child_weight': 6, 'missing': None, 'n_estimators': 918, 'n_jobs': 1, 'nthread': 4, 'objective': 'binary:logistic', 'random_state': 10, 'reg_alpha': 0, 'reg_lambda': 1, 'scale_pos_weight': 1, 'seed': None, 'silent': True, 'subsample': 0.8}</td>\n",
       "    </tr>\n",
       "    <tr>\n",
       "      <th>12</th>\n",
       "      <td>0.8804</td>\n",
       "      <td>{'base_score': 0.5, 'booster': 'gbtree', 'colsample_bylevel': 1, 'colsample_bytree': 0.8, 'gamma': 0, 'learning_rate': 0.1, 'max_delta_step': 0, 'max_depth': 8, 'min_child_weight': 2, 'missing': None, 'n_estimators': 918, 'n_jobs': 1, 'nthread': 4, 'objective': 'binary:logistic', 'random_state': 10, 'reg_alpha': 0, 'reg_lambda': 1, 'scale_pos_weight': 1, 'seed': None, 'silent': True, 'subsample': 0.8}</td>\n",
       "    </tr>\n",
       "    <tr>\n",
       "      <th>17</th>\n",
       "      <td>0.8788</td>\n",
       "      <td>{'base_score': 0.5, 'booster': 'gbtree', 'colsample_bylevel': 1, 'colsample_bytree': 0.8, 'gamma': 0, 'learning_rate': 0.1, 'max_delta_step': 0, 'max_depth': 10, 'min_child_weight': 4, 'missing': None, 'n_estimators': 918, 'n_jobs': 1, 'nthread': 4, 'objective': 'binary:logistic', 'random_state': 10, 'reg_alpha': 0, 'reg_lambda': 1, 'scale_pos_weight': 1, 'seed': None, 'silent': True, 'subsample': 0.8}</td>\n",
       "    </tr>\n",
       "    <tr>\n",
       "      <th>8</th>\n",
       "      <td>0.8780</td>\n",
       "      <td>{'base_score': 0.5, 'booster': 'gbtree', 'colsample_bylevel': 1, 'colsample_bytree': 0.8, 'gamma': 0, 'learning_rate': 0.1, 'max_delta_step': 0, 'max_depth': 6, 'min_child_weight': 2, 'missing': None, 'n_estimators': 918, 'n_jobs': 1, 'nthread': 4, 'objective': 'binary:logistic', 'random_state': 10, 'reg_alpha': 0, 'reg_lambda': 1, 'scale_pos_weight': 1, 'seed': None, 'silent': True, 'subsample': 0.8}</td>\n",
       "    </tr>\n",
       "  </tbody>\n",
       "</table>\n",
       "</div>"
      ],
      "text/plain": [
       "    Accuracy  \\\n",
       "10  0.8928     \n",
       "15  0.8900     \n",
       "2   0.8900     \n",
       "3   0.8900     \n",
       "19  0.8888     \n",
       "11  0.8880     \n",
       "4   0.8880     \n",
       "16  0.8876     \n",
       "1   0.8872     \n",
       "5   0.8868     \n",
       "6   0.8864     \n",
       "7   0.8852     \n",
       "9   0.8848     \n",
       "14  0.8844     \n",
       "0   0.8836     \n",
       "13  0.8824     \n",
       "18  0.8816     \n",
       "12  0.8804     \n",
       "17  0.8788     \n",
       "8   0.8780     \n",
       "\n",
       "                                                                                                                                                                                                                                                                                                                                                                                                                   Params  \n",
       "10  {'base_score': 0.5, 'booster': 'gbtree', 'colsample_bylevel': 1, 'colsample_bytree': 0.8, 'gamma': 0, 'learning_rate': 0.1, 'max_delta_step': 0, 'max_depth': 6, 'min_child_weight': 6, 'missing': None, 'n_estimators': 918, 'n_jobs': 1, 'nthread': 4, 'objective': 'binary:logistic', 'random_state': 10, 'reg_alpha': 0, 'reg_lambda': 1, 'scale_pos_weight': 1, 'seed': None, 'silent': True, 'subsample': 0.8}   \n",
       "15  {'base_score': 0.5, 'booster': 'gbtree', 'colsample_bylevel': 1, 'colsample_bytree': 0.8, 'gamma': 0, 'learning_rate': 0.1, 'max_delta_step': 0, 'max_depth': 8, 'min_child_weight': 8, 'missing': None, 'n_estimators': 918, 'n_jobs': 1, 'nthread': 4, 'objective': 'binary:logistic', 'random_state': 10, 'reg_alpha': 0, 'reg_lambda': 1, 'scale_pos_weight': 1, 'seed': None, 'silent': True, 'subsample': 0.8}   \n",
       "2   {'base_score': 0.5, 'booster': 'gbtree', 'colsample_bylevel': 1, 'colsample_bytree': 0.8, 'gamma': 0, 'learning_rate': 0.1, 'max_delta_step': 0, 'max_depth': 2, 'min_child_weight': 6, 'missing': None, 'n_estimators': 918, 'n_jobs': 1, 'nthread': 4, 'objective': 'binary:logistic', 'random_state': 10, 'reg_alpha': 0, 'reg_lambda': 1, 'scale_pos_weight': 1, 'seed': None, 'silent': True, 'subsample': 0.8}   \n",
       "3   {'base_score': 0.5, 'booster': 'gbtree', 'colsample_bylevel': 1, 'colsample_bytree': 0.8, 'gamma': 0, 'learning_rate': 0.1, 'max_delta_step': 0, 'max_depth': 2, 'min_child_weight': 8, 'missing': None, 'n_estimators': 918, 'n_jobs': 1, 'nthread': 4, 'objective': 'binary:logistic', 'random_state': 10, 'reg_alpha': 0, 'reg_lambda': 1, 'scale_pos_weight': 1, 'seed': None, 'silent': True, 'subsample': 0.8}   \n",
       "19  {'base_score': 0.5, 'booster': 'gbtree', 'colsample_bylevel': 1, 'colsample_bytree': 0.8, 'gamma': 0, 'learning_rate': 0.1, 'max_delta_step': 0, 'max_depth': 10, 'min_child_weight': 8, 'missing': None, 'n_estimators': 918, 'n_jobs': 1, 'nthread': 4, 'objective': 'binary:logistic', 'random_state': 10, 'reg_alpha': 0, 'reg_lambda': 1, 'scale_pos_weight': 1, 'seed': None, 'silent': True, 'subsample': 0.8}  \n",
       "11  {'base_score': 0.5, 'booster': 'gbtree', 'colsample_bylevel': 1, 'colsample_bytree': 0.8, 'gamma': 0, 'learning_rate': 0.1, 'max_delta_step': 0, 'max_depth': 6, 'min_child_weight': 8, 'missing': None, 'n_estimators': 918, 'n_jobs': 1, 'nthread': 4, 'objective': 'binary:logistic', 'random_state': 10, 'reg_alpha': 0, 'reg_lambda': 1, 'scale_pos_weight': 1, 'seed': None, 'silent': True, 'subsample': 0.8}   \n",
       "4   {'base_score': 0.5, 'booster': 'gbtree', 'colsample_bylevel': 1, 'colsample_bytree': 0.8, 'gamma': 0, 'learning_rate': 0.1, 'max_delta_step': 0, 'max_depth': 4, 'min_child_weight': 2, 'missing': None, 'n_estimators': 918, 'n_jobs': 1, 'nthread': 4, 'objective': 'binary:logistic', 'random_state': 10, 'reg_alpha': 0, 'reg_lambda': 1, 'scale_pos_weight': 1, 'seed': None, 'silent': True, 'subsample': 0.8}   \n",
       "16  {'base_score': 0.5, 'booster': 'gbtree', 'colsample_bylevel': 1, 'colsample_bytree': 0.8, 'gamma': 0, 'learning_rate': 0.1, 'max_delta_step': 0, 'max_depth': 10, 'min_child_weight': 2, 'missing': None, 'n_estimators': 918, 'n_jobs': 1, 'nthread': 4, 'objective': 'binary:logistic', 'random_state': 10, 'reg_alpha': 0, 'reg_lambda': 1, 'scale_pos_weight': 1, 'seed': None, 'silent': True, 'subsample': 0.8}  \n",
       "1   {'base_score': 0.5, 'booster': 'gbtree', 'colsample_bylevel': 1, 'colsample_bytree': 0.8, 'gamma': 0, 'learning_rate': 0.1, 'max_delta_step': 0, 'max_depth': 2, 'min_child_weight': 4, 'missing': None, 'n_estimators': 918, 'n_jobs': 1, 'nthread': 4, 'objective': 'binary:logistic', 'random_state': 10, 'reg_alpha': 0, 'reg_lambda': 1, 'scale_pos_weight': 1, 'seed': None, 'silent': True, 'subsample': 0.8}   \n",
       "5   {'base_score': 0.5, 'booster': 'gbtree', 'colsample_bylevel': 1, 'colsample_bytree': 0.8, 'gamma': 0, 'learning_rate': 0.1, 'max_delta_step': 0, 'max_depth': 4, 'min_child_weight': 4, 'missing': None, 'n_estimators': 918, 'n_jobs': 1, 'nthread': 4, 'objective': 'binary:logistic', 'random_state': 10, 'reg_alpha': 0, 'reg_lambda': 1, 'scale_pos_weight': 1, 'seed': None, 'silent': True, 'subsample': 0.8}   \n",
       "6   {'base_score': 0.5, 'booster': 'gbtree', 'colsample_bylevel': 1, 'colsample_bytree': 0.8, 'gamma': 0, 'learning_rate': 0.1, 'max_delta_step': 0, 'max_depth': 4, 'min_child_weight': 6, 'missing': None, 'n_estimators': 918, 'n_jobs': 1, 'nthread': 4, 'objective': 'binary:logistic', 'random_state': 10, 'reg_alpha': 0, 'reg_lambda': 1, 'scale_pos_weight': 1, 'seed': None, 'silent': True, 'subsample': 0.8}   \n",
       "7   {'base_score': 0.5, 'booster': 'gbtree', 'colsample_bylevel': 1, 'colsample_bytree': 0.8, 'gamma': 0, 'learning_rate': 0.1, 'max_delta_step': 0, 'max_depth': 4, 'min_child_weight': 8, 'missing': None, 'n_estimators': 918, 'n_jobs': 1, 'nthread': 4, 'objective': 'binary:logistic', 'random_state': 10, 'reg_alpha': 0, 'reg_lambda': 1, 'scale_pos_weight': 1, 'seed': None, 'silent': True, 'subsample': 0.8}   \n",
       "9   {'base_score': 0.5, 'booster': 'gbtree', 'colsample_bylevel': 1, 'colsample_bytree': 0.8, 'gamma': 0, 'learning_rate': 0.1, 'max_delta_step': 0, 'max_depth': 6, 'min_child_weight': 4, 'missing': None, 'n_estimators': 918, 'n_jobs': 1, 'nthread': 4, 'objective': 'binary:logistic', 'random_state': 10, 'reg_alpha': 0, 'reg_lambda': 1, 'scale_pos_weight': 1, 'seed': None, 'silent': True, 'subsample': 0.8}   \n",
       "14  {'base_score': 0.5, 'booster': 'gbtree', 'colsample_bylevel': 1, 'colsample_bytree': 0.8, 'gamma': 0, 'learning_rate': 0.1, 'max_delta_step': 0, 'max_depth': 8, 'min_child_weight': 6, 'missing': None, 'n_estimators': 918, 'n_jobs': 1, 'nthread': 4, 'objective': 'binary:logistic', 'random_state': 10, 'reg_alpha': 0, 'reg_lambda': 1, 'scale_pos_weight': 1, 'seed': None, 'silent': True, 'subsample': 0.8}   \n",
       "0   {'base_score': 0.5, 'booster': 'gbtree', 'colsample_bylevel': 1, 'colsample_bytree': 0.8, 'gamma': 0, 'learning_rate': 0.1, 'max_delta_step': 0, 'max_depth': 2, 'min_child_weight': 2, 'missing': None, 'n_estimators': 918, 'n_jobs': 1, 'nthread': 4, 'objective': 'binary:logistic', 'random_state': 10, 'reg_alpha': 0, 'reg_lambda': 1, 'scale_pos_weight': 1, 'seed': None, 'silent': True, 'subsample': 0.8}   \n",
       "13  {'base_score': 0.5, 'booster': 'gbtree', 'colsample_bylevel': 1, 'colsample_bytree': 0.8, 'gamma': 0, 'learning_rate': 0.1, 'max_delta_step': 0, 'max_depth': 8, 'min_child_weight': 4, 'missing': None, 'n_estimators': 918, 'n_jobs': 1, 'nthread': 4, 'objective': 'binary:logistic', 'random_state': 10, 'reg_alpha': 0, 'reg_lambda': 1, 'scale_pos_weight': 1, 'seed': None, 'silent': True, 'subsample': 0.8}   \n",
       "18  {'base_score': 0.5, 'booster': 'gbtree', 'colsample_bylevel': 1, 'colsample_bytree': 0.8, 'gamma': 0, 'learning_rate': 0.1, 'max_delta_step': 0, 'max_depth': 10, 'min_child_weight': 6, 'missing': None, 'n_estimators': 918, 'n_jobs': 1, 'nthread': 4, 'objective': 'binary:logistic', 'random_state': 10, 'reg_alpha': 0, 'reg_lambda': 1, 'scale_pos_weight': 1, 'seed': None, 'silent': True, 'subsample': 0.8}  \n",
       "12  {'base_score': 0.5, 'booster': 'gbtree', 'colsample_bylevel': 1, 'colsample_bytree': 0.8, 'gamma': 0, 'learning_rate': 0.1, 'max_delta_step': 0, 'max_depth': 8, 'min_child_weight': 2, 'missing': None, 'n_estimators': 918, 'n_jobs': 1, 'nthread': 4, 'objective': 'binary:logistic', 'random_state': 10, 'reg_alpha': 0, 'reg_lambda': 1, 'scale_pos_weight': 1, 'seed': None, 'silent': True, 'subsample': 0.8}   \n",
       "17  {'base_score': 0.5, 'booster': 'gbtree', 'colsample_bylevel': 1, 'colsample_bytree': 0.8, 'gamma': 0, 'learning_rate': 0.1, 'max_delta_step': 0, 'max_depth': 10, 'min_child_weight': 4, 'missing': None, 'n_estimators': 918, 'n_jobs': 1, 'nthread': 4, 'objective': 'binary:logistic', 'random_state': 10, 'reg_alpha': 0, 'reg_lambda': 1, 'scale_pos_weight': 1, 'seed': None, 'silent': True, 'subsample': 0.8}  \n",
       "8   {'base_score': 0.5, 'booster': 'gbtree', 'colsample_bylevel': 1, 'colsample_bytree': 0.8, 'gamma': 0, 'learning_rate': 0.1, 'max_delta_step': 0, 'max_depth': 6, 'min_child_weight': 2, 'missing': None, 'n_estimators': 918, 'n_jobs': 1, 'nthread': 4, 'objective': 'binary:logistic', 'random_state': 10, 'reg_alpha': 0, 'reg_lambda': 1, 'scale_pos_weight': 1, 'seed': None, 'silent': True, 'subsample': 0.8}   "
      ]
     },
     "execution_count": 72,
     "metadata": {},
     "output_type": "execute_result"
    }
   ],
   "source": [
    "pd.set_option('display.max_colwidth', -1)\n",
    "resultsDF.sort_values(by = ['Accuracy'], ascending = [False]).head()"
   ]
  },
  {
   "cell_type": "markdown",
   "metadata": {},
   "source": [
    "#### Fine tune \n",
    "\n",
    "Best params for `max_depth` and `min_child_weight` were both 6 with a 0.8928 accuracy rate against the evaluation data set.  Next we'll fine tune around the best params, since our initial grid was wide (increased in steps of 2)."
   ]
  },
  {
   "cell_type": "code",
   "execution_count": 79,
   "metadata": {
    "ExecuteTime": {
     "end_time": "2018-12-03T21:53:54.984899Z",
     "start_time": "2018-12-03T21:39:07.307850Z"
    }
   },
   "outputs": [
    {
     "name": "stdout",
     "output_type": "stream",
     "text": [
      "Training round 1\n",
      "    Model training finished in 2.61  mins with accuracy 0.8848\n",
      "Training round 2\n",
      "    Model training finished in 2.53  mins with accuracy 0.8832\n",
      "Training round 3\n",
      "    Model training finished in 5.63  mins with accuracy 0.8948\n",
      "Training round 4\n",
      "    Model training finished in 4.01  mins with accuracy 0.8948\n",
      "\n",
      "Finished!\n"
     ]
    },
    {
     "data": {
      "text/html": [
       "<div>\n",
       "<style scoped>\n",
       "    .dataframe tbody tr th:only-of-type {\n",
       "        vertical-align: middle;\n",
       "    }\n",
       "\n",
       "    .dataframe tbody tr th {\n",
       "        vertical-align: top;\n",
       "    }\n",
       "\n",
       "    .dataframe thead th {\n",
       "        text-align: right;\n",
       "    }\n",
       "</style>\n",
       "<table border=\"1\" class=\"dataframe\">\n",
       "  <thead>\n",
       "    <tr style=\"text-align: right;\">\n",
       "      <th></th>\n",
       "      <th>Accuracy</th>\n",
       "      <th>Params</th>\n",
       "    </tr>\n",
       "  </thead>\n",
       "  <tbody>\n",
       "    <tr>\n",
       "      <th>2</th>\n",
       "      <td>0.8948</td>\n",
       "      <td>{'base_score': 0.5, 'booster': 'gbtree', 'colsample_bylevel': 1, 'colsample_bytree': 0.8, 'gamma': 0, 'learning_rate': 0.1, 'max_delta_step': 0, 'max_depth': 7, 'min_child_weight': 5, 'missing': None, 'n_estimators': 918, 'n_jobs': 1, 'nthread': 4, 'objective': 'binary:logistic', 'random_state': 10, 'reg_alpha': 0, 'reg_lambda': 1, 'scale_pos_weight': 1, 'seed': None, 'silent': True, 'subsample': 0.8}</td>\n",
       "    </tr>\n",
       "    <tr>\n",
       "      <th>3</th>\n",
       "      <td>0.8948</td>\n",
       "      <td>{'base_score': 0.5, 'booster': 'gbtree', 'colsample_bylevel': 1, 'colsample_bytree': 0.8, 'gamma': 0, 'learning_rate': 0.1, 'max_delta_step': 0, 'max_depth': 7, 'min_child_weight': 7, 'missing': None, 'n_estimators': 918, 'n_jobs': 1, 'nthread': 4, 'objective': 'binary:logistic', 'random_state': 10, 'reg_alpha': 0, 'reg_lambda': 1, 'scale_pos_weight': 1, 'seed': None, 'silent': True, 'subsample': 0.8}</td>\n",
       "    </tr>\n",
       "    <tr>\n",
       "      <th>0</th>\n",
       "      <td>0.8848</td>\n",
       "      <td>{'base_score': 0.5, 'booster': 'gbtree', 'colsample_bylevel': 1, 'colsample_bytree': 0.8, 'gamma': 0, 'learning_rate': 0.1, 'max_delta_step': 0, 'max_depth': 5, 'min_child_weight': 5, 'missing': None, 'n_estimators': 918, 'n_jobs': 1, 'nthread': 4, 'objective': 'binary:logistic', 'random_state': 10, 'reg_alpha': 0, 'reg_lambda': 1, 'scale_pos_weight': 1, 'seed': None, 'silent': True, 'subsample': 0.8}</td>\n",
       "    </tr>\n",
       "    <tr>\n",
       "      <th>1</th>\n",
       "      <td>0.8832</td>\n",
       "      <td>{'base_score': 0.5, 'booster': 'gbtree', 'colsample_bylevel': 1, 'colsample_bytree': 0.8, 'gamma': 0, 'learning_rate': 0.1, 'max_delta_step': 0, 'max_depth': 5, 'min_child_weight': 7, 'missing': None, 'n_estimators': 918, 'n_jobs': 1, 'nthread': 4, 'objective': 'binary:logistic', 'random_state': 10, 'reg_alpha': 0, 'reg_lambda': 1, 'scale_pos_weight': 1, 'seed': None, 'silent': True, 'subsample': 0.8}</td>\n",
       "    </tr>\n",
       "  </tbody>\n",
       "</table>\n",
       "</div>"
      ],
      "text/plain": [
       "   Accuracy  \\\n",
       "2  0.8948     \n",
       "3  0.8948     \n",
       "0  0.8848     \n",
       "1  0.8832     \n",
       "\n",
       "                                                                                                                                                                                                                                                                                                                                                                                                                 Params  \n",
       "2  {'base_score': 0.5, 'booster': 'gbtree', 'colsample_bylevel': 1, 'colsample_bytree': 0.8, 'gamma': 0, 'learning_rate': 0.1, 'max_delta_step': 0, 'max_depth': 7, 'min_child_weight': 5, 'missing': None, 'n_estimators': 918, 'n_jobs': 1, 'nthread': 4, 'objective': 'binary:logistic', 'random_state': 10, 'reg_alpha': 0, 'reg_lambda': 1, 'scale_pos_weight': 1, 'seed': None, 'silent': True, 'subsample': 0.8}  \n",
       "3  {'base_score': 0.5, 'booster': 'gbtree', 'colsample_bylevel': 1, 'colsample_bytree': 0.8, 'gamma': 0, 'learning_rate': 0.1, 'max_delta_step': 0, 'max_depth': 7, 'min_child_weight': 7, 'missing': None, 'n_estimators': 918, 'n_jobs': 1, 'nthread': 4, 'objective': 'binary:logistic', 'random_state': 10, 'reg_alpha': 0, 'reg_lambda': 1, 'scale_pos_weight': 1, 'seed': None, 'silent': True, 'subsample': 0.8}  \n",
       "0  {'base_score': 0.5, 'booster': 'gbtree', 'colsample_bylevel': 1, 'colsample_bytree': 0.8, 'gamma': 0, 'learning_rate': 0.1, 'max_delta_step': 0, 'max_depth': 5, 'min_child_weight': 5, 'missing': None, 'n_estimators': 918, 'n_jobs': 1, 'nthread': 4, 'objective': 'binary:logistic', 'random_state': 10, 'reg_alpha': 0, 'reg_lambda': 1, 'scale_pos_weight': 1, 'seed': None, 'silent': True, 'subsample': 0.8}  \n",
       "1  {'base_score': 0.5, 'booster': 'gbtree', 'colsample_bylevel': 1, 'colsample_bytree': 0.8, 'gamma': 0, 'learning_rate': 0.1, 'max_delta_step': 0, 'max_depth': 5, 'min_child_weight': 7, 'missing': None, 'n_estimators': 918, 'n_jobs': 1, 'nthread': 4, 'objective': 'binary:logistic', 'random_state': 10, 'reg_alpha': 0, 'reg_lambda': 1, 'scale_pos_weight': 1, 'seed': None, 'silent': True, 'subsample': 0.8}  "
      ]
     },
     "execution_count": 79,
     "metadata": {},
     "output_type": "execute_result"
    }
   ],
   "source": [
    "resultsDF = pd.DataFrame(columns = ['Accuracy', 'Params'])\n",
    "counter = 1\n",
    "\n",
    "for max_depth in [5, 7]:\n",
    "    for min_child_weight in [5, 7]:\n",
    "        print(\"Training round\", counter)\n",
    "        xgb1 = getXGBModel()\n",
    "        xgb1.set_params(max_depth = int(max_depth), min_child_weight = int(min_child_weight))\n",
    "        acc = evalXGB(xgb1, False)\n",
    "            \n",
    "        resultsDF.loc[len(resultsDF)] = list([\n",
    "            acc,\n",
    "            xgb1.get_params()\n",
    "        ])\n",
    "        \n",
    "        counter += 1\n",
    "        \n",
    "print(\"\\nFinished!\")\n",
    "\n",
    "pd.set_option('display.max_colwidth', -1)\n",
    "resultsDF.sort_values(by = ['Accuracy'], ascending = [False]).head()"
   ]
  },
  {
   "cell_type": "markdown",
   "metadata": {},
   "source": [
    "We have a small increase from 0.8928 to 0.8948 using `max_depth: 7` and `min_child_weight: 7`.  We'll adopt these as the new, optimal parameters.  \n",
    "\n",
    "Note that another model with `min_child_weight: 5` also had an accuracy of 0.8948, but we'll pick the larger value as it has a greater impact against over fitting."
   ]
  },
  {
   "cell_type": "markdown",
   "metadata": {},
   "source": [
    "## Tune gamma, subsample and colsample_bytree\n",
    "\n",
    "We'll start by creating a new function that returns a fresh copy of the XGBoost model w/ the most effective parameters we've found so far:"
   ]
  },
  {
   "cell_type": "code",
   "execution_count": 80,
   "metadata": {
    "ExecuteTime": {
     "end_time": "2018-12-03T22:02:30.382494Z",
     "start_time": "2018-12-03T22:02:30.058631Z"
    }
   },
   "outputs": [],
   "source": [
    "def getXGBModelv2():\n",
    "    model = xg.XGBClassifier(base_score=0.5, booster='gbtree', colsample_bylevel=1,\n",
    "       colsample_bytree=0.8, gamma=0, learning_rate=0.1, max_delta_step=0,\n",
    "       max_depth=7, min_child_weight=7, missing=None, n_estimators=918,\n",
    "       n_jobs=1, nthread=4, objective='binary:logistic', random_state=10,\n",
    "       reg_alpha=0, reg_lambda=1, scale_pos_weight=1, seed=None,\n",
    "       silent=True, subsample=0.8)\n",
    "    return model"
   ]
  },
  {
   "cell_type": "markdown",
   "metadata": {},
   "source": [
    "### Gamma tuning\n",
    "\n",
    "From my research there wasn't a clear consensus on a good, initial value for gamma tuning.  As such we'll start with a wide range and then zero in on the best value for our problem."
   ]
  },
  {
   "cell_type": "markdown",
   "metadata": {},
   "source": [
    "Training results--not shown here--for the following gamma values had no effect on the model's performance:\n",
    "\n",
    "* [.1, .5, 1, 5]\n",
    "* [10, 15, 20]\n",
    "* [.01, .001, .0001]\n",
    "\n",
    "As such the gamma value of zero will be retained."
   ]
  },
  {
   "cell_type": "markdown",
   "metadata": {
    "ExecuteTime": {
     "end_time": "2018-12-03T21:35:06.309933Z",
     "start_time": "2018-12-03T21:35:05.989563Z"
    }
   },
   "source": [
    "### Calculate optimal n_estimators value\n",
    "\n",
    "Let's go ahead and update--if required--the optimal n_estimators value:"
   ]
  },
  {
   "cell_type": "code",
   "execution_count": 87,
   "metadata": {
    "ExecuteTime": {
     "end_time": "2018-12-03T23:13:22.707465Z",
     "start_time": "2018-12-03T22:53:03.186600Z"
    }
   },
   "outputs": [],
   "source": [
    "xgb1 = getXGBModelv2()\n",
    "xgb1.set_params(gamma = 0, n_estimators=5000)\n",
    "\n",
    "params = xgb1.get_xgb_params()\n",
    "dmatrix = xg.DMatrix(X_train, label=y_train)\n",
    "\n",
    "cv = xg.cv(\n",
    "    params, \n",
    "    dmatrix, \n",
    "    num_boost_round = xgb1.get_params()['n_estimators'], \n",
    "    nfold = 5,\n",
    "    metrics = 'auc',\n",
    "    early_stopping_rounds=25\n",
    ")\n",
    "\n",
    "# Assign best n_estimators value to our model\n",
    "xgb1.set_params(n_estimators = cv.shape[0])"
   ]
  },
  {
   "cell_type": "markdown",
   "metadata": {},
   "source": [
    "###  subsample and colsample_bytree tuning\n",
    "\n",
    "* subsample [default=1]\n",
    "  * Same as the subsample of GBM. Denotes the fraction of observations to be randomly samples for each tree.\n",
    "  * Lower values make the algorithm more conservative and prevents overfitting but too small values might lead to under-fitting.\n",
    "  * Typical values: 0.5-1\n",
    "\n",
    "\n",
    "* colsample_bytree [default=1]\n",
    "  * Similar to max_features in GBM. Denotes the fraction of columns to be randomly samples for each tree.\n",
    "  * Typical values: 0.5-1"
   ]
  },
  {
   "cell_type": "code",
   "execution_count": 93,
   "metadata": {
    "ExecuteTime": {
     "end_time": "2018-12-03T23:21:40.040694Z",
     "start_time": "2018-12-03T23:21:39.625585Z"
    }
   },
   "outputs": [],
   "source": [
    "def getXGBModelv3():\n",
    "    model = xg.XGBClassifier(base_score=0.5, booster='gbtree', colsample_bylevel=1,\n",
    "       colsample_bytree=0.8, gamma=0, learning_rate=0.1, max_delta_step=0,\n",
    "       max_depth=7, min_child_weight=7, missing=None, n_estimators=800,\n",
    "       n_jobs=1, nthread=4, objective='binary:logistic', random_state=10,\n",
    "       reg_alpha=0, reg_lambda=1, scale_pos_weight=1, seed=None,\n",
    "       silent=True, subsample=0.8)\n",
    "    return model"
   ]
  },
  {
   "cell_type": "code",
   "execution_count": null,
   "metadata": {
    "ExecuteTime": {
     "start_time": "2018-12-03T23:23:09.595Z"
    }
   },
   "outputs": [
    {
     "name": "stdout",
     "output_type": "stream",
     "text": [
      "Training round 1\n",
      "    Model training finished in 1.67 mins with accuracy 0.8852\n",
      "Training round 2\n"
     ]
    }
   ],
   "source": [
    "resultsDF = pd.DataFrame(columns = ['Accuracy', 'Params'])\n",
    "counter = 1\n",
    "\n",
    "for subsample in np.linspace(0.5, 0.9, 5):\n",
    "    for colsample_bytree in np.linspace(0.5, 0.9, 5):\n",
    "        print(\"Training round\", counter)\n",
    "        xgb1 = getXGBModelv3()\n",
    "        xgb1.set_params(subsample = subsample, colsample_bytree = colsample_bytree)\n",
    "        acc = evalXGB(xgb1, False)\n",
    "            \n",
    "        resultsDF.loc[len(resultsDF)] = list([\n",
    "            acc,\n",
    "            xgb1.get_params()\n",
    "        ])\n",
    "        \n",
    "        counter += 1\n",
    "        \n",
    "print(\"\\nFinished!\")\n",
    "\n",
    "pd.set_option('display.max_colwidth', -1)\n",
    "resultsDF.sort_values(by = ['Accuracy'], ascending = [False]).head()"
   ]
  },
  {
   "cell_type": "code",
   "execution_count": null,
   "metadata": {},
   "outputs": [],
   "source": []
  },
  {
   "cell_type": "markdown",
   "metadata": {},
   "source": [
    "# Summary"
   ]
  },
  {
   "cell_type": "code",
   "execution_count": 34,
   "metadata": {
    "ExecuteTime": {
     "end_time": "2018-11-08T18:51:23.751678Z",
     "start_time": "2018-11-08T18:51:23.283886Z"
    }
   },
   "outputs": [
    {
     "data": {
      "text/html": [
       "<style>\n",
       "table {float:left}\n",
       "</style>"
      ],
      "text/plain": [
       "<IPython.core.display.HTML object>"
      ]
     },
     "metadata": {},
     "output_type": "display_data"
    }
   ],
   "source": [
    "%%html\n",
    "<style>\n",
    "table {float:left}\n",
    "</style>"
   ]
  },
  {
   "cell_type": "markdown",
   "metadata": {},
   "source": [
    "In this write-up we accomplished the following:\n",
    "\n",
    "1. Created a set of document vectors from the IMDb movie review text utilizing [Doc2Vec](https://radimrehurek.com/gensim/models/doc2vec.html)\n",
    "2. Tuned and trained a number of Doc2Vec models on the movie review corpus \n",
    "2. Ran the models from the [first write-up](./Model-06.ipynb) against the Doc2Vec feature set outputs\n",
    "3. Evaluated if utilizing Doc2Vec improved our ability to correctly classify movie review sentiment\n",
    "\n",
    "\n",
    "Performance metrics so far:\n",
    "\n",
    "|Model|Accuracy|Best Params                                      |\n",
    "|--------------------------|--------|-----------------------------------|\n",
    "|LR (baseline)             |86.35%  |{'LR__C': 0.1, 'LR__penalty': 'l1'}|\n",
    "|SVM centroid              |86.36%  |Scikit-learn defaults              |\n",
    "|SVM Doc2Vec               |84.48%  |Scikit-learn defaults              |\n",
    "|SVM Doc2Vec Init tuning   |88.45%  |dm0, vs100, ng5, hs0, mc2, sm0, e20|\n",
    "|LR manual/combined        |89.51%  |model1, model2, model3             |\n",
    "<div style=\"clear:both\"></div>\n",
    "\n",
    "\n",
    "Utilizing Doc2Vec with manual training and combining model outputs has given us the best classification results to date.  We were able to gain over 3 percentage points in performance from the LR baseline model.\n",
    "\n",
    "If we were to continue this write-up it would be interesting to explore adding many models together and seeing how that affected the output  similar to bagging.  We could also likely spend a lot of time with further tuning, because both the Doc2Vec and Scikit-learn models have a large number of tunable parameters we could leverage.  The best strategy would likely be to start with a randomized grid search due to the large number of parameters, and then focus in on a more narrow set once the more performant combinations started to emerge.\n",
    "\n",
    "And lastly, I'd also like to try taking the combined model feature set and feeding it to a neural network or LSTM for final classification.  It would be interesting to see how one of these more complex algorithms compared against the Scikit-learn linear regression model."
   ]
  },
  {
   "cell_type": "code",
   "execution_count": null,
   "metadata": {},
   "outputs": [],
   "source": []
  }
 ],
 "metadata": {
  "kernelspec": {
   "display_name": "Python 3",
   "language": "python",
   "name": "python3"
  },
  "language_info": {
   "codemirror_mode": {
    "name": "ipython",
    "version": 3
   },
   "file_extension": ".py",
   "mimetype": "text/x-python",
   "name": "python",
   "nbconvert_exporter": "python",
   "pygments_lexer": "ipython3",
   "version": "3.6.6"
  },
  "toc": {
   "base_numbering": 1,
   "nav_menu": {},
   "number_sections": true,
   "sideBar": true,
   "skip_h1_title": false,
   "title_cell": "Table of Contents",
   "title_sidebar": "Contents",
   "toc_cell": true,
   "toc_position": {},
   "toc_section_display": true,
   "toc_window_display": false
  }
 },
 "nbformat": 4,
 "nbformat_minor": 2
}
