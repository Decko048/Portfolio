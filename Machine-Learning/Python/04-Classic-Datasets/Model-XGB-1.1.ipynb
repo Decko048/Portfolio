{
 "cells": [
  {
   "cell_type": "markdown",
   "metadata": {
    "toc": true
   },
   "source": [
    "<h1>Table of Contents<span class=\"tocSkip\"></span></h1>\n",
    "<div class=\"toc\"><ul class=\"toc-item\"><li><span><a href=\"#IMDB-Movie-Review-Sentiment-Classification\" data-toc-modified-id=\"IMDB-Movie-Review-Sentiment-Classification-1\"><span class=\"toc-item-num\">1&nbsp;&nbsp;</span>IMDB Movie Review Sentiment Classification</a></span></li><li><span><a href=\"#Purpose\" data-toc-modified-id=\"Purpose-2\"><span class=\"toc-item-num\">2&nbsp;&nbsp;</span>Purpose</a></span></li><li><span><a href=\"#Methodology\" data-toc-modified-id=\"Methodology-3\"><span class=\"toc-item-num\">3&nbsp;&nbsp;</span>Methodology</a></span></li><li><span><a href=\"#Configure-notebook,-import-libraries,-and-import-dataset\" data-toc-modified-id=\"Configure-notebook,-import-libraries,-and-import-dataset-4\"><span class=\"toc-item-num\">4&nbsp;&nbsp;</span>Configure notebook, import libraries, and import dataset</a></span><ul class=\"toc-item\"><li><span><a href=\"#Import-libraries\" data-toc-modified-id=\"Import-libraries-4.1\"><span class=\"toc-item-num\">4.1&nbsp;&nbsp;</span>Import libraries</a></span></li><li><span><a href=\"#Define-global-variables\" data-toc-modified-id=\"Define-global-variables-4.2\"><span class=\"toc-item-num\">4.2&nbsp;&nbsp;</span>Define global variables</a></span></li><li><span><a href=\"#Load-in-data-sets\" data-toc-modified-id=\"Load-in-data-sets-4.3\"><span class=\"toc-item-num\">4.3&nbsp;&nbsp;</span>Load in data sets</a></span></li></ul></li><li><span><a href=\"#Helper-Functions\" data-toc-modified-id=\"Helper-Functions-5\"><span class=\"toc-item-num\">5&nbsp;&nbsp;</span>Helper Functions</a></span></li><li><span><a href=\"#Examine-the-data\" data-toc-modified-id=\"Examine-the-data-6\"><span class=\"toc-item-num\">6&nbsp;&nbsp;</span>Examine the data</a></span></li><li><span><a href=\"#Cleaning-and-preprocessing\" data-toc-modified-id=\"Cleaning-and-preprocessing-7\"><span class=\"toc-item-num\">7&nbsp;&nbsp;</span>Cleaning and preprocessing</a></span><ul class=\"toc-item\"><li><span><a href=\"#Write-helper-functions\" data-toc-modified-id=\"Write-helper-functions-7.1\"><span class=\"toc-item-num\">7.1&nbsp;&nbsp;</span>Write helper functions</a></span><ul class=\"toc-item\"><li><span><a href=\"#Sentence-cleaner\" data-toc-modified-id=\"Sentence-cleaner-7.1.1\"><span class=\"toc-item-num\">7.1.1&nbsp;&nbsp;</span>Sentence cleaner</a></span></li></ul></li><li><span><a href=\"#Create-list-of-cleaned-and-processed-Doc2Vec-TaggedDocument-objects\" data-toc-modified-id=\"Create-list-of-cleaned-and-processed-Doc2Vec-TaggedDocument-objects-7.2\"><span class=\"toc-item-num\">7.2&nbsp;&nbsp;</span>Create list of cleaned and processed Doc2Vec TaggedDocument objects</a></span></li></ul></li><li><span><a href=\"#Doc2Vec-model-tuning\" data-toc-modified-id=\"Doc2Vec-model-tuning-8\"><span class=\"toc-item-num\">8&nbsp;&nbsp;</span>Doc2Vec model tuning</a></span><ul class=\"toc-item\"><li><span><a href=\"#Ensemble-process-sanity-check\" data-toc-modified-id=\"Ensemble-process-sanity-check-8.1\"><span class=\"toc-item-num\">8.1&nbsp;&nbsp;</span>Ensemble process sanity check</a></span><ul class=\"toc-item\"><li><span><a href=\"#Sanity-check---Create-Doc2Vec-model,-build-vocab,-and-train\" data-toc-modified-id=\"Sanity-check---Create-Doc2Vec-model,-build-vocab,-and-train-8.1.1\"><span class=\"toc-item-num\">8.1.1&nbsp;&nbsp;</span>Sanity check - Create Doc2Vec model, build vocab, and train</a></span></li><li><span><a href=\"#Sanity-check---Split-Doc2Vec-vectors-into-train,-validation,-and-test-sets\" data-toc-modified-id=\"Sanity-check---Split-Doc2Vec-vectors-into-train,-validation,-and-test-sets-8.1.2\"><span class=\"toc-item-num\">8.1.2&nbsp;&nbsp;</span>Sanity check - Split Doc2Vec vectors into train, validation, and test sets</a></span></li><li><span><a href=\"#Sanity-check---Train-and-assess-classifier\" data-toc-modified-id=\"Sanity-check---Train-and-assess-classifier-8.1.3\"><span class=\"toc-item-num\">8.1.3&nbsp;&nbsp;</span>Sanity check - Train and assess classifier</a></span></li><li><span><a href=\"#Sanity-check---Comments\" data-toc-modified-id=\"Sanity-check---Comments-8.1.4\"><span class=\"toc-item-num\">8.1.4&nbsp;&nbsp;</span>Sanity check - Comments</a></span></li></ul></li></ul></li><li><span><a href=\"#Combining-Doc2Vec-models\" data-toc-modified-id=\"Combining-Doc2Vec-models-9\"><span class=\"toc-item-num\">9&nbsp;&nbsp;</span>Combining Doc2Vec models</a></span><ul class=\"toc-item\"><li><span><a href=\"#Create-baseline-Doc2Vec-models,-train,-and-evaluate\" data-toc-modified-id=\"Create-baseline-Doc2Vec-models,-train,-and-evaluate-9.1\"><span class=\"toc-item-num\">9.1&nbsp;&nbsp;</span>Create baseline Doc2Vec models, train, and evaluate</a></span><ul class=\"toc-item\"><li><span><a href=\"#Create-Doc2Vec-models\" data-toc-modified-id=\"Create-Doc2Vec-models-9.1.1\"><span class=\"toc-item-num\">9.1.1&nbsp;&nbsp;</span>Create Doc2Vec models</a></span></li><li><span><a href=\"#Assess-combined-model-outputs-on-XGBoost-classifier\" data-toc-modified-id=\"Assess-combined-model-outputs-on-XGBoost-classifier-9.1.2\"><span class=\"toc-item-num\">9.1.2&nbsp;&nbsp;</span>Assess combined model outputs on XGBoost classifier</a></span></li><li><span><a href=\"#Comments\" data-toc-modified-id=\"Comments-9.1.3\"><span class=\"toc-item-num\">9.1.3&nbsp;&nbsp;</span>Comments</a></span></li></ul></li><li><span><a href=\"#Doc2Vec-tuning\" data-toc-modified-id=\"Doc2Vec-tuning-9.2\"><span class=\"toc-item-num\">9.2&nbsp;&nbsp;</span>Doc2Vec tuning</a></span><ul class=\"toc-item\"><li><span><a href=\"#Develop-helper-functions\" data-toc-modified-id=\"Develop-helper-functions-9.2.1\"><span class=\"toc-item-num\">9.2.1&nbsp;&nbsp;</span>Develop helper functions</a></span></li><li><span><a href=\"#PV-DM-(dm-=-1)-model-tuning\" data-toc-modified-id=\"PV-DM-(dm-=-1)-model-tuning-9.2.2\"><span class=\"toc-item-num\">9.2.2&nbsp;&nbsp;</span>PV-DM (dm = 1) model tuning</a></span><ul class=\"toc-item\"><li><span><a href=\"#PV-DM-(dm-=-1)-model-tuning-comments\" data-toc-modified-id=\"PV-DM-(dm-=-1)-model-tuning-comments-9.2.2.1\"><span class=\"toc-item-num\">9.2.2.1&nbsp;&nbsp;</span>PV-DM (dm = 1) model tuning comments</a></span></li></ul></li><li><span><a href=\"#Tune-PV-DBOW-(dm-=-0)-model-tuning\" data-toc-modified-id=\"Tune-PV-DBOW-(dm-=-0)-model-tuning-9.2.3\"><span class=\"toc-item-num\">9.2.3&nbsp;&nbsp;</span>Tune PV-DBOW (dm = 0) model tuning</a></span><ul class=\"toc-item\"><li><span><a href=\"#PV-DBOW-(dm-=-0)-model-tuning-comments\" data-toc-modified-id=\"PV-DBOW-(dm-=-0)-model-tuning-comments-9.2.3.1\"><span class=\"toc-item-num\">9.2.3.1&nbsp;&nbsp;</span>PV-DBOW (dm = 0) model tuning comments</a></span></li></ul></li></ul></li></ul></li><li><span><a href=\"#Create-instances-of-tuned-Doc2Vec-models-and-create-feature-set\" data-toc-modified-id=\"Create-instances-of-tuned-Doc2Vec-models-and-create-feature-set-10\"><span class=\"toc-item-num\">10&nbsp;&nbsp;</span>Create instances of tuned Doc2Vec models and create feature set</a></span></li><li><span><a href=\"#Tune-XGBoost-using-best-Doc2Vec-models\" data-toc-modified-id=\"Tune-XGBoost-using-best-Doc2Vec-models-11\"><span class=\"toc-item-num\">11&nbsp;&nbsp;</span>Tune XGBoost using best Doc2Vec models</a></span><ul class=\"toc-item\"><li><ul class=\"toc-item\"><li><span><a href=\"#Pick-sane-model-param-defaults\" data-toc-modified-id=\"Pick-sane-model-param-defaults-11.0.1\"><span class=\"toc-item-num\">11.0.1&nbsp;&nbsp;</span>Pick sane model param defaults</a></span></li><li><span><a href=\"#Calculate-best-initial-n_estimators-value-(i.e.-number-of-trees)\" data-toc-modified-id=\"Calculate-best-initial-n_estimators-value-(i.e.-number-of-trees)-11.0.2\"><span class=\"toc-item-num\">11.0.2&nbsp;&nbsp;</span>Calculate best initial n_estimators value (i.e. number of trees)</a></span></li><li><span><a href=\"#Tune-max_depth-and-min_child_weight\" data-toc-modified-id=\"Tune-max_depth-and-min_child_weight-11.0.3\"><span class=\"toc-item-num\">11.0.3&nbsp;&nbsp;</span>Tune max_depth and min_child_weight</a></span><ul class=\"toc-item\"><li><span><a href=\"#Fine-tune\" data-toc-modified-id=\"Fine-tune-11.0.3.1\"><span class=\"toc-item-num\">11.0.3.1&nbsp;&nbsp;</span>Fine tune</a></span></li></ul></li></ul></li><li><span><a href=\"#Tune-gamma,-subsample-and-colsample_bytree\" data-toc-modified-id=\"Tune-gamma,-subsample-and-colsample_bytree-11.1\"><span class=\"toc-item-num\">11.1&nbsp;&nbsp;</span>Tune gamma, subsample and colsample_bytree</a></span><ul class=\"toc-item\"><li><span><a href=\"#Gamma-tuning\" data-toc-modified-id=\"Gamma-tuning-11.1.1\"><span class=\"toc-item-num\">11.1.1&nbsp;&nbsp;</span>Gamma tuning</a></span></li><li><span><a href=\"#Calculate-optimal-n_estimators-value\" data-toc-modified-id=\"Calculate-optimal-n_estimators-value-11.1.2\"><span class=\"toc-item-num\">11.1.2&nbsp;&nbsp;</span>Calculate optimal n_estimators value</a></span></li><li><span><a href=\"#subsample-and-colsample_bytree-tuning\" data-toc-modified-id=\"subsample-and-colsample_bytree-tuning-11.1.3\"><span class=\"toc-item-num\">11.1.3&nbsp;&nbsp;</span>subsample and colsample_bytree tuning</a></span></li></ul></li><li><span><a href=\"#Tune-regularization-params,-reg_alpha-and-reg_lambda\" data-toc-modified-id=\"Tune-regularization-params,-reg_alpha-and-reg_lambda-11.2\"><span class=\"toc-item-num\">11.2&nbsp;&nbsp;</span>Tune regularization params, reg_alpha and reg_lambda</a></span></li><li><span><a href=\"#Obtain-new-n_estimators-value\" data-toc-modified-id=\"Obtain-new-n_estimators-value-11.3\"><span class=\"toc-item-num\">11.3&nbsp;&nbsp;</span>Obtain new n_estimators value</a></span></li><li><span><a href=\"#Tune-the-learning-rate-and-re-eval-n_estimators\" data-toc-modified-id=\"Tune-the-learning-rate-and-re-eval-n_estimators-11.4\"><span class=\"toc-item-num\">11.4&nbsp;&nbsp;</span>Tune the learning rate and re-eval n_estimators</a></span></li></ul></li><li><span><a href=\"#Test-set-predictions-and-Kaggle-score\" data-toc-modified-id=\"Test-set-predictions-and-Kaggle-score-12\"><span class=\"toc-item-num\">12&nbsp;&nbsp;</span>Test set predictions and Kaggle score</a></span><ul class=\"toc-item\"><li><span><a href=\"#Training-and-validation-on-the-entire-dataset\" data-toc-modified-id=\"Training-and-validation-on-the-entire-dataset-12.1\"><span class=\"toc-item-num\">12.1&nbsp;&nbsp;</span>Training and validation on the entire dataset</a></span><ul class=\"toc-item\"><li><span><a href=\"#Train-best-Doc2Vec-models\" data-toc-modified-id=\"Train-best-Doc2Vec-models-12.1.1\"><span class=\"toc-item-num\">12.1.1&nbsp;&nbsp;</span>Train best Doc2Vec models</a></span></li><li><span><a href=\"#Train-best-XGBoost-model\" data-toc-modified-id=\"Train-best-XGBoost-model-12.1.2\"><span class=\"toc-item-num\">12.1.2&nbsp;&nbsp;</span>Train best XGBoost model</a></span></li><li><span><a href=\"#Examine-predictions\" data-toc-modified-id=\"Examine-predictions-12.1.3\"><span class=\"toc-item-num\">12.1.3&nbsp;&nbsp;</span>Examine predictions</a></span></li></ul></li><li><span><a href=\"#Training-and-validation-on-the-entire-dataset-with-stemming-and-contractions\" data-toc-modified-id=\"Training-and-validation-on-the-entire-dataset-with-stemming-and-contractions-12.2\"><span class=\"toc-item-num\">12.2&nbsp;&nbsp;</span>Training and validation on the entire dataset with stemming and contractions</a></span></li></ul></li><li><span><a href=\"#Summary\" data-toc-modified-id=\"Summary-13\"><span class=\"toc-item-num\">13&nbsp;&nbsp;</span>Summary</a></span></li></ul></div>"
   ]
  },
  {
   "cell_type": "markdown",
   "metadata": {},
   "source": [
    "<h1>IMDB Movie Review Sentiment Classification</h1>"
   ]
  },
  {
   "cell_type": "markdown",
   "metadata": {},
   "source": [
    "<img style=\"float: left; margin-right: 15px; width: 30%; height: 30%;\" src=\"images/imdb.jpg\" />"
   ]
  },
  {
   "cell_type": "markdown",
   "metadata": {},
   "source": [
    "# Purpose\n",
    "\n",
    "The purpose of this write-up is to:\n",
    "\n",
    "1. Clean and process the IMDb source data\n",
    "1. Develop an ensemble:\n",
    "   1. Create and optimize two Doc2Vec models: Distributed bag of words (PV-DBOW) and Distributed memory (PV-DM)\n",
    "   1. Combine the outputs of these two models\n",
    "   1. Feed the combined output to a XGBoost classification model\n",
    "   1. Perform tuning on the XGBoost classification model\n",
    "1. Examine accuracy scores against the evaluation data set\n",
    "1. Submit results to Kaggle if improvements occur against our current best score of 0.88840 achieved via a CNN\n",
    "\n",
    "References:\n",
    "* [Gensim Doc2Vec](https://radimrehurek.com/gensim/models/doc2vec.html)\n",
    "* [Original paper](https://arxiv.org/abs/1405.4053) by Mikilov and Le\n",
    "* [XGBoost API](https://xgboost.readthedocs.io/en/latest/python/python_api.html)\n",
    "\n",
    "Dataset source:  [IMDB Movie Reviews](https://www.kaggle.com/c/word2vec-nlp-tutorial/data)"
   ]
  },
  {
   "cell_type": "markdown",
   "metadata": {},
   "source": [
    "# Methodology\n",
    "\n",
    "First, I normally develop the code and go through the process before finishing the narrative.  As such we'll cut some portions of the process out for brevity's sake where appropriate.  I will make note when this occurs.\n",
    "\n",
    "Next, progress and model performance was assessed against 1st) evaluation data set accuracy (which so far has shown positive correlation to Kaggle score), and then 2nd) Kaggle submission score.  \n",
    "\n",
    "(So far the best Kaggle score we've achieved is 0.88840 utilizing a CNN in (this write-up)[].)\n",
    "\n",
    "I also read in papers--and experienced personally via hands-on testing--that hyperparameter tuning only provided small, incremental improvements.  The largest improvements in classification accuracy came from preparation of the source data.  As such I added steps for resolving contractions, added a NLTK Lemmatizer, etc. to the data cleaning/processing steps.\n",
    "\n",
    "And finally the Doc2Vec and XGBoost models were first created and baselined with 'sane' defaults which I aggregated from research and reading followed by rounds of tuning to (hopefully) optimize performance. "
   ]
  },
  {
   "cell_type": "markdown",
   "metadata": {},
   "source": [
    "# Configure notebook, import libraries, and import dataset"
   ]
  },
  {
   "cell_type": "markdown",
   "metadata": {
    "ExecuteTime": {
     "end_time": "2018-10-16T15:16:22.416553Z",
     "start_time": "2018-10-16T15:16:22.413553Z"
    }
   },
   "source": [
    "## Import libraries"
   ]
  },
  {
   "cell_type": "code",
   "execution_count": 369,
   "metadata": {
    "ExecuteTime": {
     "end_time": "2018-12-10T20:49:57.327497Z",
     "start_time": "2018-12-10T20:49:56.251062Z"
    }
   },
   "outputs": [
    {
     "name": "stdout",
     "output_type": "stream",
     "text": [
      "The autoreload extension is already loaded. To reload it, use:\n",
      "  %reload_ext autoreload\n"
     ]
    }
   ],
   "source": [
    "%matplotlib inline\n",
    "%load_ext autoreload\n",
    "%autoreload 2\n",
    "\n",
    "import warnings\n",
    "warnings.filterwarnings('ignore')\n",
    "warnings.filterwarnings(\"ignore\", category=DeprecationWarning) \n",
    "\n",
    "import os, re, csv, copy, pickle, random\n",
    "import numpy as np\n",
    "from timeit import default_timer as timer\n",
    "from random import shuffle\n",
    "\n",
    "import matplotlib.pyplot as plt\n",
    "\n",
    "import pandas as pd\n",
    "from pandas import set_option\n",
    "\n",
    "from tqdm.autonotebook import tqdm\n",
    "\n",
    "import xgboost as xg\n",
    "\n",
    "from sklearn.linear_model import LogisticRegression\n",
    "\n",
    "from sklearn.model_selection import train_test_split\n",
    "from sklearn.model_selection import cross_val_score\n",
    "from sklearn.metrics import confusion_matrix, accuracy_score\n",
    "\n",
    "# http://www.nltk.org/index.html\n",
    "# pip install nltk\n",
    "import nltk\n",
    "from nltk.corpus import stopwords\n",
    "\n",
    "\n",
    "# Creating function implementing punkt tokenizer for sentence splitting\n",
    "import nltk.data\n",
    "\n",
    "# Only need this the first time...\n",
    "# nltk.download('punkt')\n",
    "\n",
    "# Opens a GUI that allows us to download the NLTK data\n",
    "# nltk.download()\n",
    "\n",
    "#from nltk.stem import WordNetLemmatizer as lemm\n",
    "\n",
    "\n",
    "# conda install -c conda-forge spacy\n",
    "# -OR-\n",
    "# pip install spacy\n",
    "# -then-\n",
    "# python -m spacy download en\n",
    "\n",
    "import spacy\n",
    "nlp = spacy.load('en', disable=['parser', 'ner'])\n",
    "\n",
    "\n",
    "# https://www.crummy.com/software/BeautifulSoup/bs4/doc/\n",
    "# pip install BeautifulSoup4\n",
    "from bs4 import BeautifulSoup\n",
    "\n",
    "\n",
    "# https://pypi.org/project/gensim/\n",
    "# pip install gensim\n",
    "import gensim.models.doc2vec\n",
    "from gensim.models.doc2vec import Doc2Vec\n",
    "from gensim.models.doc2vec import TaggedDocument\n",
    "\n",
    "import multiprocessing\n",
    "\n",
    "cores = multiprocessing.cpu_count()\n",
    "assert(gensim.models.doc2vec.FAST_VERSION > -1)"
   ]
  },
  {
   "cell_type": "markdown",
   "metadata": {},
   "source": [
    "## Define global variables"
   ]
  },
  {
   "cell_type": "code",
   "execution_count": 2,
   "metadata": {
    "ExecuteTime": {
     "end_time": "2018-12-05T17:38:26.172891Z",
     "start_time": "2018-12-05T17:38:23.139805Z"
    }
   },
   "outputs": [],
   "source": [
    "# Set the seeds\n",
    "seedVal = 10\n",
    "\n",
    "from numpy.random import seed\n",
    "seed(seedVal)\n",
    "\n",
    "from tensorflow import set_random_seed\n",
    "set_random_seed(seedVal)"
   ]
  },
  {
   "cell_type": "code",
   "execution_count": 3,
   "metadata": {
    "ExecuteTime": {
     "end_time": "2018-12-05T17:38:26.494750Z",
     "start_time": "2018-12-05T17:38:26.175899Z"
    }
   },
   "outputs": [],
   "source": [
    "contractions = { \n",
    "\"ain't\": \"am not / are not / is not / has not / have not\",\n",
    "\"aren't\": \"are not / am not\",\n",
    "\"can't\": \"cannot\",\n",
    "\"can't've\": \"cannot have\",\n",
    "\"'cause\": \"because\",\n",
    "\"could've\": \"could have\",\n",
    "\"couldn't\": \"could not\",\n",
    "\"couldn't've\": \"could not have\",\n",
    "\"didn't\": \"did not\",\n",
    "\"doesn't\": \"does not\",\n",
    "\"don't\": \"do not\",\n",
    "\"hadn't\": \"had not\",\n",
    "\"hadn't've\": \"had not have\",\n",
    "\"hasn't\": \"has not\",\n",
    "\"haven't\": \"have not\",\n",
    "\"he'd\": \"he had / he would\",\n",
    "\"he'd've\": \"he would have\",\n",
    "\"he'll\": \"he shall / he will\",\n",
    "\"he'll've\": \"he shall have / he will have\",\n",
    "\"he's\": \"he has / he is\",\n",
    "\"how'd\": \"how did\",\n",
    "\"how'd'y\": \"how do you\",\n",
    "\"how'll\": \"how will\",\n",
    "\"how's\": \"how has / how is / how does\",\n",
    "\"I'd\": \"I had / I would\",\n",
    "\"I'd've\": \"I would have\",\n",
    "\"I'll\": \"I shall / I will\",\n",
    "\"I'll've\": \"I shall have / I will have\",\n",
    "\"I'm\": \"I am\",\n",
    "\"I've\": \"I have\",\n",
    "\"isn't\": \"is not\",\n",
    "\"it'd\": \"it had / it would\",\n",
    "\"it'd've\": \"it would have\",\n",
    "\"it'll\": \"it shall / it will\",\n",
    "\"it'll've\": \"it shall have / it will have\",\n",
    "\"it's\": \"it has / it is\",\n",
    "\"let's\": \"let us\",\n",
    "\"ma'am\": \"madam\",\n",
    "\"mayn't\": \"may not\",\n",
    "\"might've\": \"might have\",\n",
    "\"mightn't\": \"might not\",\n",
    "\"mightn't've\": \"might not have\",\n",
    "\"must've\": \"must have\",\n",
    "\"mustn't\": \"must not\",\n",
    "\"mustn't've\": \"must not have\",\n",
    "\"needn't\": \"need not\",\n",
    "\"needn't've\": \"need not have\",\n",
    "\"o'clock\": \"of the clock\",\n",
    "\"oughtn't\": \"ought not\",\n",
    "\"oughtn't've\": \"ought not have\",\n",
    "\"shan't\": \"shall not\",\n",
    "\"sha'n't\": \"shall not\",\n",
    "\"shan't've\": \"shall not have\",\n",
    "\"she'd\": \"she had / she would\",\n",
    "\"she'd've\": \"she would have\",\n",
    "\"she'll\": \"she shall / she will\",\n",
    "\"she'll've\": \"she shall have / she will have\",\n",
    "\"she's\": \"she has / she is\",\n",
    "\"should've\": \"should have\",\n",
    "\"shouldn't\": \"should not\",\n",
    "\"shouldn't've\": \"should not have\",\n",
    "\"so've\": \"so have\",\n",
    "\"so's\": \"so as / so is\",\n",
    "\"that'd\": \"that would / that had\",\n",
    "\"that'd've\": \"that would have\",\n",
    "\"that's\": \"that has / that is\",\n",
    "\"there'd\": \"there had / there would\",\n",
    "\"there'd've\": \"there would have\",\n",
    "\"there's\": \"there has / there is\",\n",
    "\"they'd\": \"they had / they would\",\n",
    "\"they'd've\": \"they would have\",\n",
    "\"they'll\": \"they shall / they will\",\n",
    "\"they'll've\": \"they shall have / they will have\",\n",
    "\"they're\": \"they are\",\n",
    "\"they've\": \"they have\",\n",
    "\"to've\": \"to have\",\n",
    "\"wasn't\": \"was not\",\n",
    "\"we'd\": \"we had / we would\",\n",
    "\"we'd've\": \"we would have\",\n",
    "\"we'll\": \"we will\",\n",
    "\"we'll've\": \"we will have\",\n",
    "\"we're\": \"we are\",\n",
    "\"we've\": \"we have\",\n",
    "\"weren't\": \"were not\",\n",
    "\"what'll\": \"what shall / what will\",\n",
    "\"what'll've\": \"what shall have / what will have\",\n",
    "\"what're\": \"what are\",\n",
    "\"what's\": \"what has / what is\",\n",
    "\"what've\": \"what have\",\n",
    "\"when's\": \"when has / when is\",\n",
    "\"when've\": \"when have\",\n",
    "\"where'd\": \"where did\",\n",
    "\"where's\": \"where has / where is\",\n",
    "\"where've\": \"where have\",\n",
    "\"who'll\": \"who shall / who will\",\n",
    "\"who'll've\": \"who shall have / who will have\",\n",
    "\"who's\": \"who has / who is\",\n",
    "\"who've\": \"who have\",\n",
    "\"why's\": \"why has / why is\",\n",
    "\"why've\": \"why have\",\n",
    "\"will've\": \"will have\",\n",
    "\"won't\": \"will not\",\n",
    "\"won't've\": \"will not have\",\n",
    "\"would've\": \"would have\",\n",
    "\"wouldn't\": \"would not\",\n",
    "\"wouldn't've\": \"would not have\",\n",
    "\"y'all\": \"you all\",\n",
    "\"y'all'd\": \"you all would\",\n",
    "\"y'all'd've\": \"you all would have\",\n",
    "\"y'all're\": \"you all are\",\n",
    "\"y'all've\": \"you all have\",\n",
    "\"you'd\": \"you had / you would\",\n",
    "\"you'd've\": \"you would have\",\n",
    "\"you'll\": \"you shall / you will\",\n",
    "\"you'll've\": \"you shall have / you will have\",\n",
    "\"you're\": \"you are\",\n",
    "\"you've\": \"you have\"\n",
    "}\n",
    "\n",
    "contractionsObj = re.compile('(%s)' % '|'.join(contractions.keys()))"
   ]
  },
  {
   "cell_type": "markdown",
   "metadata": {},
   "source": [
    "## Load in data sets"
   ]
  },
  {
   "cell_type": "code",
   "execution_count": 4,
   "metadata": {
    "ExecuteTime": {
     "end_time": "2018-12-05T17:38:28.419882Z",
     "start_time": "2018-12-05T17:38:26.496756Z"
    }
   },
   "outputs": [
    {
     "name": "stdout",
     "output_type": "stream",
     "text": [
      "labDat.shape : (25000, 3)\n",
      "unlabDat.shape : (50000, 2)\n",
      "testDat.shape : (25000, 2)\n",
      "\n",
      "\n",
      "<class 'pandas.core.frame.DataFrame'>\n",
      "RangeIndex: 25000 entries, 0 to 24999\n",
      "Data columns (total 3 columns):\n",
      "id           25000 non-null object\n",
      "sentiment    25000 non-null int64\n",
      "review       25000 non-null object\n",
      "dtypes: int64(1), object(2)\n",
      "memory usage: 586.0+ KB\n",
      "labDat.info() : None\n",
      "\n",
      "\n",
      "<class 'pandas.core.frame.DataFrame'>\n",
      "RangeIndex: 50000 entries, 0 to 49999\n",
      "Data columns (total 3 columns):\n",
      "id           50000 non-null object\n",
      "review       50000 non-null object\n",
      "sentiment    0 non-null object\n",
      "dtypes: object(3)\n",
      "memory usage: 1.1+ MB\n",
      "unlabDat.info() : None\n",
      "\n",
      "\n",
      "<class 'pandas.core.frame.DataFrame'>\n",
      "RangeIndex: 25000 entries, 0 to 24999\n",
      "Data columns (total 3 columns):\n",
      "id           25000 non-null object\n",
      "review       25000 non-null object\n",
      "sentiment    0 non-null object\n",
      "dtypes: object(3)\n",
      "memory usage: 586.0+ KB\n",
      "testDat.info() : None\n"
     ]
    }
   ],
   "source": [
    "dataPath = os.path.join('.', 'datasets', 'imdb_movie_reviews')\n",
    "labeledTrainData = os.path.join(dataPath, 'labeledTrainData.tsv')\n",
    "unlabeledTrainData = os.path.join(dataPath, 'unlabeledTrainData.tsv')\n",
    "testData = os.path.join(dataPath, 'testData.tsv')\n",
    "\n",
    "\n",
    "labDat = pd.read_csv(labeledTrainData, sep = '\\t', header = 0, quoting = 3)\n",
    "unlabDat = pd.read_csv(unlabeledTrainData, sep = '\\t', header = 0, quoting = 3)\n",
    "testDat = pd.read_csv(testData, sep = '\\t', header = 0, quoting = 3)\n",
    "\n",
    "\n",
    "# Sanity check\n",
    "print('labDat.shape :', labDat.shape)\n",
    "print('unlabDat.shape :', unlabDat.shape)\n",
    "print('testDat.shape :', testDat.shape)\n",
    "\n",
    "unlabDat['sentiment'] = None\n",
    "testDat['sentiment'] = None\n",
    "\n",
    "print(\"\\n\")\n",
    "print('labDat.info() :', labDat.info())\n",
    "print(\"\\n\")\n",
    "print('unlabDat.info() :', unlabDat.info())\n",
    "print(\"\\n\")\n",
    "print('testDat.info() :', testDat.info())"
   ]
  },
  {
   "cell_type": "code",
   "execution_count": 5,
   "metadata": {
    "ExecuteTime": {
     "end_time": "2018-12-05T17:38:28.793876Z",
     "start_time": "2018-12-05T17:38:28.420885Z"
    },
    "scrolled": true
   },
   "outputs": [
    {
     "name": "stdout",
     "output_type": "stream",
     "text": [
      "(100000, 3)\n",
      "\n",
      "\n",
      "<class 'pandas.core.frame.DataFrame'>\n",
      "RangeIndex: 100000 entries, 0 to 99999\n",
      "Data columns (total 3 columns):\n",
      "id           100000 non-null object\n",
      "review       100000 non-null object\n",
      "sentiment    25000 non-null object\n",
      "dtypes: object(3)\n",
      "memory usage: 2.3+ MB\n",
      "None\n"
     ]
    }
   ],
   "source": [
    "combinedDat = pd.concat(objs=[labDat, unlabDat, testDat], axis=0).reset_index(drop=True)\n",
    "print(combinedDat.shape)\n",
    "print(\"\\n\")\n",
    "print(combinedDat.info())"
   ]
  },
  {
   "cell_type": "markdown",
   "metadata": {},
   "source": [
    "# Helper Functions"
   ]
  },
  {
   "cell_type": "code",
   "execution_count": 6,
   "metadata": {
    "ExecuteTime": {
     "end_time": "2018-12-05T17:38:29.123756Z",
     "start_time": "2018-12-05T17:38:28.794879Z"
    }
   },
   "outputs": [],
   "source": [
    "def expandContractions(txt, contractions = contractions):\n",
    "    def replace(match):\n",
    "        return contractions[match.group(0)]\n",
    "    return contractionsObj.sub(replace, txt)"
   ]
  },
  {
   "cell_type": "markdown",
   "metadata": {},
   "source": [
    "# Examine the data\n",
    "\n",
    "Previously covered [here](./Model-06.ipynb#Examine-the-data)."
   ]
  },
  {
   "cell_type": "markdown",
   "metadata": {},
   "source": [
    "# Cleaning and preprocessing"
   ]
  },
  {
   "cell_type": "markdown",
   "metadata": {},
   "source": [
    "## Write helper functions\n",
    "\n",
    "Doc2Vec expects a list of `TaggedDocument` objects.  The first argument of the `TaggedDocument` constructor is a contiguous list of words (which we'll clean as usual), and the second argument is a unique tag.  For example, here is what a sample `TaggedDocument` object looks like:\n",
    "\n",
    "```\n",
    "TaggedDocument(words=['with', 'all', 'this', 'stuff', 'going', 'down', 'at', 'the', 'moment', 'with', 'mj', 'i', 've', 'started', 'listening', 'to', 'his', ...... <SNIP>], tags=[0])\n",
    "```\n",
    "\n",
    "In order to facilitate this we'll first write the \"cleaner\" function to process the review text:"
   ]
  },
  {
   "cell_type": "markdown",
   "metadata": {},
   "source": [
    "### Sentence cleaner\n",
    "\n",
    "Take a given sentence and process/clean it (i.e. remove HTML and other cruft, lower case the text, etc.)."
   ]
  },
  {
   "cell_type": "code",
   "execution_count": 39,
   "metadata": {
    "ExecuteTime": {
     "end_time": "2018-12-05T17:51:30.802800Z",
     "start_time": "2018-12-05T17:51:30.430807Z"
    }
   },
   "outputs": [],
   "source": [
    "# Clean IMDB review text\n",
    "def cleanReview(review, removeStopWords = False, applyLemmatizing = False):\n",
    "    # Convert the stop words to a set\n",
    "    stopWords = set(stopwords.words(\"english\"))\n",
    "    \n",
    "    # Remove HTML\n",
    "    clean = BeautifulSoup(review).get_text()\n",
    "    \n",
    "    # Expand contractions (i.e. wasn't => was not)\n",
    "    clean = expandContractions(clean)\n",
    "    \n",
    "    # Remove non-alpha chars\n",
    "    clean = re.sub(\"[^a-zA-Z]\", ' ', clean)\n",
    "    \n",
    "    # Lemmatizer\n",
    "    if applyLemmatizing:\n",
    "        # This also results in the words being lower cased and tokenized\n",
    "        clean = nlp(clean)\n",
    "        clean = [token.lemma_ for token in clean]\n",
    "        # Remove any strings containing only spaces\n",
    "        clean = [x for x in clean if x.strip()]\n",
    "    else:\n",
    "        # Convert to lower case and \"tokenize\"\n",
    "        clean = clean.lower().split()\n",
    "    \n",
    "    # Remove stop words\n",
    "    if removeStopWords:\n",
    "        clean = [x for x in clean if not x in stopWords]\n",
    "    \n",
    "    # Return results\n",
    "    return clean"
   ]
  },
  {
   "cell_type": "markdown",
   "metadata": {},
   "source": [
    "A quick examination of the raw text and then the processed output:"
   ]
  },
  {
   "cell_type": "code",
   "execution_count": 40,
   "metadata": {
    "ExecuteTime": {
     "end_time": "2018-12-05T17:51:31.199816Z",
     "start_time": "2018-12-05T17:51:30.871940Z"
    }
   },
   "outputs": [
    {
     "data": {
      "text/plain": [
       "'\"Looking for Quo Vadis at my local video store, I found this 1985 version that looked interesting. Wow! It was amazing! Very much a Ken Russell kind of film -quirky, stylized, very artistic, and of course \\\\\"different.\\\\\" Nero was presented not so much as evil incarnate, but as a wacky, unfulfilled emperor who would rather have had a circus career. He probably wondered why on earth he was put in the position of \\\\\"leading\\\\\" an empire -it wasn\\'t much fun, and fun is what he longed for. Klause Maria Bandaur had a tremendous time with this role and played it for all it was worth. Yes, Nero persecuted the Christians with a vengeance; one of many who did so. At one point one of his henchmen murmurs: \\\\\"No one will ever understand we were simply protecting ourselves.\\\\\" He got that right.\"'"
      ]
     },
     "execution_count": 40,
     "metadata": {},
     "output_type": "execute_result"
    }
   ],
   "source": [
    "# Examine raw\n",
    "combinedDat.iloc[25,1]"
   ]
  },
  {
   "cell_type": "code",
   "execution_count": 41,
   "metadata": {
    "ExecuteTime": {
     "end_time": "2018-12-05T17:51:31.663054Z",
     "start_time": "2018-12-05T17:51:31.202824Z"
    },
    "scrolled": true
   },
   "outputs": [
    {
     "data": {
      "text/plain": [
       "['look',\n",
       " 'quo',\n",
       " 'vadis',\n",
       " '-PRON-',\n",
       " 'local',\n",
       " 'video',\n",
       " 'store',\n",
       " '-PRON-',\n",
       " 'find',\n",
       " 'version',\n",
       " 'look',\n",
       " 'interesting']"
      ]
     },
     "execution_count": 41,
     "metadata": {},
     "output_type": "execute_result"
    }
   ],
   "source": [
    "# Examine processed\n",
    "cleanReview(combinedDat.iloc[25,1], True, True)[:12]"
   ]
  },
  {
   "cell_type": "markdown",
   "metadata": {},
   "source": [
    "## Create list of cleaned and processed Doc2Vec TaggedDocument objects\n",
    "\n",
    "Next we need to create a collection of cleaned and processed `TaggedDocument` objects using the helper functions we just wrote.  We'll want one TaggedDocument object for each review:"
   ]
  },
  {
   "cell_type": "code",
   "execution_count": 188,
   "metadata": {
    "ExecuteTime": {
     "end_time": "2018-12-05T22:44:09.776000Z",
     "start_time": "2018-12-05T22:44:09.437096Z"
    }
   },
   "outputs": [],
   "source": [
    "# Allows us to write various cleaning/processing methods to different files if required\n",
    "#docsFileName = \"taggedDocs.p\"\n",
    "docsFileName = \"taggedDocsTrainOnly.p\""
   ]
  },
  {
   "cell_type": "code",
   "execution_count": 189,
   "metadata": {
    "ExecuteTime": {
     "end_time": "2018-12-05T22:44:11.735726Z",
     "start_time": "2018-12-05T22:44:10.510459Z"
    }
   },
   "outputs": [],
   "source": [
    "# Run this cell if you've already cleaned and proccessed the reviews and want to load the previous results\n",
    "taggedDocs = pickle.load( open(docsFileName, \"rb\") )"
   ]
  },
  {
   "cell_type": "code",
   "execution_count": 83,
   "metadata": {
    "ExecuteTime": {
     "end_time": "2018-12-05T20:31:03.714427Z",
     "start_time": "2018-12-05T20:25:58.000337Z"
    }
   },
   "outputs": [
    {
     "data": {
      "application/vnd.jupyter.widget-view+json": {
       "model_id": "6a5e8fbd5dcf4108a0bf7198b15465fd",
       "version_major": 2,
       "version_minor": 0
      },
      "text/plain": [
       "HBox(children=(IntProgress(value=1, bar_style='info', max=1), HTML(value='')))"
      ]
     },
     "metadata": {},
     "output_type": "display_data"
    }
   ],
   "source": [
    "# Run this cell if you need to clean and proccesse the reviews\n",
    "writeToDisk = True\n",
    "trainOnly = True\n",
    "taggedDocs = []\n",
    "\n",
    "# Cleaning and processing params - Alter these to configure the cleaning/processing of the review text\n",
    "removeStopWords = True\n",
    "applyLemmatizing = True\n",
    "\n",
    "for i, s in tqdm(enumerate(combinedDat.iloc[:,1])):\n",
    "    # Allows us to only process the training data... useful if we want to explore the\n",
    "    # impact of different cleaning pipelines later on w/ various models\n",
    "    if (trainOnly) and (i == 25000):\n",
    "        break\n",
    "    # Remove stop words and apply Lemmatizing\n",
    "    clean = cleanReview(s, removeStopWords, applyLemmatizing)\n",
    "    taggedDocs.append(TaggedDocument(clean, [i]))\n",
    "    \n",
    "if writeToDisk:\n",
    "    # Write to disk, so we can load if/when we run the notebook again\n",
    "    pickle.dump( taggedDocs, open(docsFileName, \"wb\") )"
   ]
  },
  {
   "cell_type": "code",
   "execution_count": 190,
   "metadata": {
    "ExecuteTime": {
     "end_time": "2018-12-05T22:44:15.267029Z",
     "start_time": "2018-12-05T22:44:14.941161Z"
    }
   },
   "outputs": [
    {
     "data": {
      "text/plain": [
       "25000"
      ]
     },
     "execution_count": 190,
     "metadata": {},
     "output_type": "execute_result"
    }
   ],
   "source": [
    "# Sanity check we have the same number of objects as reviews\n",
    "len(taggedDocs)"
   ]
  },
  {
   "cell_type": "code",
   "execution_count": 191,
   "metadata": {
    "ExecuteTime": {
     "end_time": "2018-12-05T22:44:15.803811Z",
     "start_time": "2018-12-05T22:44:15.485960Z"
    }
   },
   "outputs": [
    {
     "data": {
      "text/plain": [
       "TaggedDocument(words=['look', 'quo', 'vadis', '-PRON-', 'local', 'video', 'store', '-PRON-', 'find', 'version', 'look', 'interesting', 'wow', '-PRON-', 'amazing', 'much', 'ken', 'russell', 'kind', 'film', 'quirky', 'stylize', 'artistic', 'course', 'different', 'nero', 'present', 'much', 'evil', 'incarnate', 'wacky', 'unfulfilled', 'emperor', 'would', 'rather', 'circus', 'career', '-PRON-', 'probably', 'wonder', 'earth', '-PRON-', 'put', 'position', 'lead', 'empire', '-PRON-', 'much', 'fun', 'fun', '-PRON-', 'long', 'klause', 'maria', 'bandaur', 'tremendous', 'time', 'role', 'play', '-PRON-', '-PRON-', 'worth', 'yes', 'nero', 'persecute', 'christians', 'vengeance', 'one', 'many', 'one', 'point', 'one', '-PRON-', 'henchman', 'murmur', 'one', 'ever', 'understand', '-PRON-', 'simply', 'protect', '-PRON-', '-PRON-', 'get', 'right'], tags=[25])"
      ]
     },
     "execution_count": 191,
     "metadata": {},
     "output_type": "execute_result"
    }
   ],
   "source": [
    "# Examine an example:\n",
    "taggedDocs[25]"
   ]
  },
  {
   "cell_type": "markdown",
   "metadata": {},
   "source": [
    "# Doc2Vec model tuning \n",
    "\n",
    "We are now ready to train the Doc2Vec models.  The process will go something like this:\n",
    "1. Define two Doc2Vec model objects:  PV-DBOW and PV-DM\n",
    "2. Build vocabulary from a sequence of sentences (i.e. our cleaned and processed reviews)\n",
    "3. Train the Doc2Vec models (Doc2Vec uses a inner shallow neural network to create the embeddings)\n",
    "4. Create a combined feature set utilizing the trained Doc2Vec models\n",
    "5. Pass the combined feature set to the XGBoost model for evaluation\n",
    "\n",
    "Two very helpful resources for tuning:\n",
    "\n",
    "1. [The original paper itself](https://arxiv.org/abs/1405.4053) by Mikilov and Le\n",
    "2. [Gensim's Doc2Vec Tutorial](https://github.com/RaRe-Technologies/gensim/blob/develop/docs/notebooks/doc2vec-IMDB.ipynb)\n",
    "\n",
    "One note however:  During my research I came across some discussion/controversy about the validity of the final accuracy score in the original paper.  This also included skepticism voiced by one of the paper's authors, Mikilov.  As such we won't try to replicate the paper's accuracy metrics exactly, as there is some question as to whether that is possible or not on this data set."
   ]
  },
  {
   "cell_type": "markdown",
   "metadata": {},
   "source": [
    "## Ensemble process sanity check\n",
    "\n",
    "Let's begin by ensuring the process we outlined above works.  First we'll create a single Doc2Vec model instance, run the collection of tagged documents through it, and then feed the results to a XGBoost model.  We'll examine the accuracy and confirm the ensemble pipeline we wish to utilize outputs sane results.\n",
    "\n",
    "### Sanity check - Create Doc2Vec model, build vocab, and train"
   ]
  },
  {
   "cell_type": "code",
   "execution_count": 146,
   "metadata": {
    "ExecuteTime": {
     "end_time": "2018-12-05T21:20:55.186264Z",
     "start_time": "2018-12-05T21:20:21.959552Z"
    },
    "scrolled": true
   },
   "outputs": [],
   "source": [
    "doc2vecModel = Doc2Vec(dm = 0, vector_size = 100, negative = 5, hs = 0, min_count = 2, sample = 0, epochs = 20, workers = cores)\n",
    "doc2vecModel.build_vocab(taggedDocs)\n",
    "doc2vecModel.train(taggedDocs, total_examples = doc2vecModel.corpus_count, epochs = doc2vecModel.epochs)"
   ]
  },
  {
   "cell_type": "code",
   "execution_count": 147,
   "metadata": {
    "ExecuteTime": {
     "end_time": "2018-12-05T21:20:55.540198Z",
     "start_time": "2018-12-05T21:20:55.187266Z"
    }
   },
   "outputs": [
    {
     "name": "stdout",
     "output_type": "stream",
     "text": [
      "25000\n"
     ]
    }
   ],
   "source": [
    "print(len(doc2vecModel.docvecs))"
   ]
  },
  {
   "cell_type": "markdown",
   "metadata": {},
   "source": [
    "### Sanity check - Split Doc2Vec vectors into train, validation, and test sets"
   ]
  },
  {
   "cell_type": "code",
   "execution_count": 148,
   "metadata": {
    "ExecuteTime": {
     "end_time": "2018-12-05T21:20:55.872077Z",
     "start_time": "2018-12-05T21:20:55.541203Z"
    }
   },
   "outputs": [
    {
     "name": "stdout",
     "output_type": "stream",
     "text": [
      "25000\n",
      "25000\n"
     ]
    }
   ],
   "source": [
    "trainVecs = doc2vecModel.docvecs.doctag_syn0[:25000]\n",
    "\n",
    "if not trainOnly:\n",
    "    valVecs = doc2vecModel.docvecs.doctag_syn0[25000:75000]\n",
    "    testVecs = doc2vecModel.docvecs.doctag_syn0[75000:]\n",
    "\n",
    "trainLabels = list(combinedDat['sentiment'][:25000])\n",
    "\n",
    "print(len(trainVecs))\n",
    "print(len(trainLabels))\n",
    "\n",
    "if not trainOnly:\n",
    "    print(len(valVecs))\n",
    "    print(len(testVecs))"
   ]
  },
  {
   "cell_type": "code",
   "execution_count": 149,
   "metadata": {
    "ExecuteTime": {
     "end_time": "2018-12-05T21:20:56.226010Z",
     "start_time": "2018-12-05T21:20:55.876088Z"
    }
   },
   "outputs": [],
   "source": [
    "X_train, X_eval, y_train, y_eval = train_test_split(\n",
    "    trainVecs, \n",
    "    trainLabels, \n",
    "    test_size = 0.1, \n",
    "    shuffle = True, \n",
    "    random_state = seedVal, \n",
    "    stratify = trainLabels\n",
    ")"
   ]
  },
  {
   "cell_type": "markdown",
   "metadata": {},
   "source": [
    "### Sanity check - Train and assess classifier"
   ]
  },
  {
   "cell_type": "code",
   "execution_count": 150,
   "metadata": {
    "ExecuteTime": {
     "end_time": "2018-12-05T21:20:56.591977Z",
     "start_time": "2018-12-05T21:20:56.227013Z"
    }
   },
   "outputs": [],
   "source": [
    "def plotHistory(history):\n",
    "    fig, (ax1) = plt.subplots(nrows = 1, ncols = 1, figsize = (8, 4))\n",
    "    \n",
    "    # summarize history for accuracy\n",
    "    ax1.plot(history['validation_0']['auc'])\n",
    "    ax1.plot(history['validation_1']['auc'])\n",
    "    ax1.set_title('Model AUC')\n",
    "    ax1.set_ylabel('AUC')\n",
    "    ax1.set_xlabel('Epoch')\n",
    "    ax1.legend(['Train', 'Val'], loc='upper left')\n",
    "    \n",
    "    plt.show()"
   ]
  },
  {
   "cell_type": "code",
   "execution_count": 151,
   "metadata": {
    "ExecuteTime": {
     "end_time": "2018-12-05T21:21:21.564900Z",
     "start_time": "2018-12-05T21:20:56.592980Z"
    }
   },
   "outputs": [
    {
     "name": "stdout",
     "output_type": "stream",
     "text": [
      "[0]\tvalidation_0-auc:0.768587\tvalidation_1-auc:0.757861\n",
      "[50]\tvalidation_0-auc:0.921614\tvalidation_1-auc:0.899597\n",
      "[99]\tvalidation_0-auc:0.946207\tvalidation_1-auc:0.922702\n"
     ]
    },
    {
     "data": {
      "text/plain": [
       "XGBClassifier(base_score=0.5, booster='gbtree', colsample_bylevel=1,\n",
       "       colsample_bytree=1, gamma=0, learning_rate=0.1, max_delta_step=0,\n",
       "       max_depth=3, min_child_weight=1, missing=None, n_estimators=100,\n",
       "       n_jobs=1, nthread=None, objective='binary:logistic',\n",
       "       random_state=10, reg_alpha=0, reg_lambda=1, scale_pos_weight=1,\n",
       "       seed=None, silent=True, subsample=1)"
      ]
     },
     "execution_count": 151,
     "metadata": {},
     "output_type": "execute_result"
    }
   ],
   "source": [
    "model = xg.XGBClassifier(\n",
    "    objective = \"binary:logistic\",\n",
    "    random_state = seedVal\n",
    ")\n",
    "\n",
    "model.fit(\n",
    "    X_train, \n",
    "    y_train, \n",
    "    eval_set = [(X_train, y_train), (X_eval, y_eval)],\n",
    "    eval_metric = \"auc\",\n",
    "    verbose = False,\n",
    "    early_stopping_rounds = 5,\n",
    "    callbacks=[\n",
    "        xg.callback.print_evaluation(period = 50, show_stdv = True)\n",
    "    ]\n",
    ")"
   ]
  },
  {
   "cell_type": "code",
   "execution_count": 152,
   "metadata": {
    "ExecuteTime": {
     "end_time": "2018-12-05T21:21:21.921844Z",
     "start_time": "2018-12-05T21:21:21.566904Z"
    }
   },
   "outputs": [
    {
     "name": "stdout",
     "output_type": "stream",
     "text": [
      "[[1052  198]\n",
      " [ 182 1068]]\n",
      "0.848\n"
     ]
    }
   ],
   "source": [
    "preds = model.predict(X_eval)\n",
    "print(confusion_matrix(y_eval, preds))\n",
    "print(accuracy_score(y_eval, preds))"
   ]
  },
  {
   "cell_type": "code",
   "execution_count": 153,
   "metadata": {
    "ExecuteTime": {
     "end_time": "2018-12-05T21:21:22.440210Z",
     "start_time": "2018-12-05T21:21:21.922847Z"
    }
   },
   "outputs": [
    {
     "data": {
      "image/png": "[encoded data removed]",
      "text/plain": [
       "<Figure size 576x288 with 1 Axes>"
      ]
     },
     "metadata": {
      "needs_background": "light"
     },
     "output_type": "display_data"
    }
   ],
   "source": [
    "plotHistory(model.evals_result())"
   ]
  },
  {
   "cell_type": "markdown",
   "metadata": {},
   "source": [
    "### Sanity check - Comments\n",
    "\n",
    "The ensemble process seems to be working well.  We achieved an eval data set accuracy rating of 0.848 right out of the gate which isn't too far off from what we achieved utilizing the best model to date (a CNN model written in a [previous write-up]().\n",
    "\n",
    "We can now continue with tuning the Doc2Vec and XGBoost models in the hopes of increasing performance."
   ]
  },
  {
   "cell_type": "markdown",
   "metadata": {},
   "source": [
    "# Combining Doc2Vec models\n",
    "\n",
    "Next we'll move on to combining the outputs of two Doc2Vec models into a single output and then evaluating performance.  We'll first explore two models with \"sane\" hyperparameter settings, record the results as a baseline, and then advance into tuning.\n",
    "\n",
    "One model will be a PV-DBOW and the other a PV-DM.\n",
    "\n",
    "(Note that I experimented with a few combinations of model parameters before I came up with good baselines, but I'll omit that testing and utilize only the two best baseline Doc2Vec models below.)"
   ]
  },
  {
   "cell_type": "markdown",
   "metadata": {},
   "source": [
    "## Create baseline Doc2Vec models, train, and evaluate"
   ]
  },
  {
   "cell_type": "markdown",
   "metadata": {},
   "source": [
    "### Create Doc2Vec models\n",
    "First, create and train the Doc2Vec models.  We'll also include a mechanism to shuffle the tagged documents each epoch, which the literature reports improves performance."
   ]
  },
  {
   "cell_type": "code",
   "execution_count": 215,
   "metadata": {
    "ExecuteTime": {
     "end_time": "2018-12-05T23:08:20.684824Z",
     "start_time": "2018-12-05T23:06:50.051995Z"
    },
    "scrolled": true
   },
   "outputs": [
    {
     "name": "stdout",
     "output_type": "stream",
     "text": [
      "Finished!\n"
     ]
    }
   ],
   "source": [
    "# Instantiate each model\n",
    "m2 = Doc2Vec(dm=0, vector_size=100, negative=5, hs=0, min_count=2, sample=0, workers=cores)\n",
    "m3 = Doc2Vec(dm=1, dm_mean=1, size=100, window=10, negative=5, hs=0, min_count=2, workers=cores)\n",
    "\n",
    "# Build vocab with first model\n",
    "m2.build_vocab(taggedDocs)\n",
    "\n",
    "# Share first model's vocab scan w/ the other model(s)\n",
    "m3.reset_from(m2)\n",
    "\n",
    "# Model training params\n",
    "alpha, min_alpha, passes = (0.025, 0.001, 20)\n",
    "alpha_delta = (alpha - min_alpha) / passes\n",
    "\n",
    "# We don't want to shuffle taggedDocs in place later on, so make a copy\n",
    "mixedUp = taggedDocs.copy()\n",
    "\n",
    "# Train the models.  We need to manually adjust the alpha since we want to \n",
    "# shuffle the tagged docs each epoch\n",
    "for epoch in range(passes):  \n",
    "    # Shuffle the documents; literature reports this provides the best results\n",
    "    random.Random(seedVal).shuffle(mixedUp)\n",
    "    \n",
    "    # Train the models  \n",
    "    m2.alpha, m2.min_alpha = alpha, alpha\n",
    "    m2.train(mixedUp, total_examples = m2.corpus_count, epochs = 1)\n",
    "    \n",
    "    m3.alpha, m3.min_alpha = alpha, alpha\n",
    "    m3.train(mixedUp, total_examples = m3.corpus_count, epochs = 1)\n",
    "   \n",
    "    alpha -= alpha_delta\n",
    "\n",
    "# From the docs:  If you’re finished training a model (=no more updates, only querying, reduce memory usage),\n",
    "# you can do \"model.delete_temporary_training_data(keep_doctags_vectors=True, keep_inference=True)\"\n",
    "m2.delete_temporary_training_data(keep_doctags_vectors=True, keep_inference=True)\n",
    "m3.delete_temporary_training_data(keep_doctags_vectors=True, keep_inference=True)\n",
    "\n",
    "# Release memory\n",
    "del mixedUp\n",
    "\n",
    "print(\"Finished!\")"
   ]
  },
  {
   "cell_type": "markdown",
   "metadata": {},
   "source": [
    "### Assess combined model outputs on XGBoost classifier\n",
    "\n",
    "Second, ensemble the Doc2Vec model vectors and feed through a XGBoost classification model, and then evaluate the ensemble's performance against the validation test set and establish a performance baseline."
   ]
  },
  {
   "cell_type": "code",
   "execution_count": 231,
   "metadata": {
    "ExecuteTime": {
     "end_time": "2018-12-05T23:44:25.119988Z",
     "start_time": "2018-12-05T23:44:24.786441Z"
    }
   },
   "outputs": [],
   "source": [
    "def assessXGB(xgModel, d2vM1, d2vM2, y):\n",
    "    # Build the feature set by combining vectors from multiple models (m1 and m2)\n",
    "    trainVecs = []\n",
    "\n",
    "    for i in range(0, 25000):\n",
    "        trainVecs.append(np.hstack((d2vM1.docvecs[i], d2vM2.docvecs[i])))\n",
    "\n",
    "    print(\"len(trainVecs)\", len(trainVecs))\n",
    "\n",
    "    X_train, X_eval, y_train, y_eval = train_test_split(\n",
    "        np.asarray(trainVecs), \n",
    "        y, \n",
    "        test_size = 0.1, \n",
    "        shuffle = True, \n",
    "        random_state = seedVal, \n",
    "        stratify = y\n",
    "    )\n",
    "    \n",
    "    xgModel.fit(\n",
    "        X_train, \n",
    "        y_train, \n",
    "        eval_set = [(X_train, y_train), (X_eval, y_eval)],\n",
    "        eval_metric = \"auc\",\n",
    "        verbose = False,\n",
    "        early_stopping_rounds = 10,\n",
    "        callbacks=[\n",
    "            xg.callback.print_evaluation(period = 50, show_stdv = True)\n",
    "        ]\n",
    "    )\n",
    "    \n",
    "    preds = model.predict(X_eval)\n",
    "    print(confusion_matrix(y_eval, preds))\n",
    "    print(accuracy_score(y_eval, preds))\n",
    "\n",
    "    plotHistory(model.evals_result())"
   ]
  },
  {
   "cell_type": "code",
   "execution_count": 217,
   "metadata": {
    "ExecuteTime": {
     "end_time": "2018-12-05T23:09:09.256975Z",
     "start_time": "2018-12-05T23:08:21.064834Z"
    }
   },
   "outputs": [
    {
     "name": "stdout",
     "output_type": "stream",
     "text": [
      "len(trainVecs) 25000\n",
      "[0]\tvalidation_0-auc:0.765762\tvalidation_1-auc:0.756649\n",
      "[50]\tvalidation_0-auc:0.928115\tvalidation_1-auc:0.91227\n",
      "[99]\tvalidation_0-auc:0.951627\tvalidation_1-auc:0.930465\n",
      "[[1078  172]\n",
      " [ 189 1061]]\n",
      "0.8556\n"
     ]
    },
    {
     "data": {
      "image/png": "[encoded data removed]",
      "text/plain": [
       "<Figure size 576x288 with 1 Axes>"
      ]
     },
     "metadata": {
      "needs_background": "light"
     },
     "output_type": "display_data"
    }
   ],
   "source": [
    "model = xg.XGBClassifier(\n",
    "    objective = \"binary:logistic\",\n",
    "    random_state = seedVal,\n",
    ")\n",
    "\n",
    "assessXGB(model, m2, m3, list(combinedDat['sentiment'][:25000]))"
   ]
  },
  {
   "cell_type": "markdown",
   "metadata": {},
   "source": [
    "### Comments\n",
    "\n",
    "Combining outputs from the PV-DBOW model and the PV-DM model seems to be heading in the right direction.  Accuracy against the evaluation test set increased from 0.848 to 0.8556.\n",
    "\n",
    "Next we'll start hyperparameter tuning for the Doc2Vec models, and see if we can further increase performance."
   ]
  },
  {
   "cell_type": "markdown",
   "metadata": {},
   "source": [
    "## Doc2Vec tuning\n",
    "\n",
    "We have two Doc2Vec models to tune hyperparameters for:  PV-DBOW and PV-DM"
   ]
  },
  {
   "cell_type": "markdown",
   "metadata": {},
   "source": [
    "### Develop helper functions\n",
    "\n",
    "First we'll need to write a function that will allow us to pass in a set of hyperparameters, create a Doc2Vec model utilizing those hyperparameters, and then train the model on the tagged documents:"
   ]
  },
  {
   "cell_type": "code",
   "execution_count": null,
   "metadata": {
    "ExecuteTime": {
     "end_time": "2018-12-07T15:35:16.240643Z",
     "start_time": "2018-12-07T15:35:05.499Z"
    }
   },
   "outputs": [],
   "source": [
    "def trainDoc2Vec(params):\n",
    "    m = Doc2Vec(\n",
    "        dm=params['dm'], \n",
    "        dm_concat=params['dm_concat'], \n",
    "        dm_mean=params['dm_mean'],\n",
    "        size=params['size'], \n",
    "        window=params['window'], \n",
    "        negative=params['negative'], \n",
    "        hs=params['hs'], \n",
    "        min_count=params['min_count'], \n",
    "        workers=cores,\n",
    "        vector_size=['vector_size'],\n",
    "        dbow_words=params['dbow_words'],\n",
    "        seed = seedVal\n",
    "    )\n",
    "    \n",
    "    # Build vocab\n",
    "    m.build_vocab(taggedDocs)\n",
    "\n",
    "    # Calculate alpha delta\n",
    "    alpha = params['alpha']\n",
    "    alpha_delta = (params['alpha'] - params['minAlpha']) / params['passes']\n",
    "    \n",
    "    # We don't want to shuffle taggedDocs in place later on, so make a copy\n",
    "    mixedUp = taggedDocs.copy()\n",
    "\n",
    "    # Train the models\n",
    "    for epoch in range(params['passes']):  \n",
    "        # Shuffle the documents; literature reports this provides the best results\n",
    "        random.Random(seedVal).shuffle(mixedUp)\n",
    "\n",
    "        # Train the models\n",
    "        m.alpha, m.min_alpha = alpha, alpha\n",
    "        m.train(taggedDocs, total_examples = m.corpus_count, epochs = 1)\n",
    "        \n",
    "        alpha -= alpha_delta\n",
    "    \n",
    "    # Release memory\n",
    "    m.delete_temporary_training_data(keep_doctags_vectors=True, keep_inference=True)\n",
    "    del mixedUp\n",
    "        \n",
    "    return m"
   ]
  },
  {
   "cell_type": "markdown",
   "metadata": {},
   "source": [
    "---\n",
    "\n",
    "Next we need a function that combines the document vectors of the trained Doc2Vec models, splits them into training and evaluation sets, feeds the vectors into a XGBoost model to create predictions, and then assess the accuracy of the predictions against the evaluation labels."
   ]
  },
  {
   "cell_type": "code",
   "execution_count": null,
   "metadata": {
    "ExecuteTime": {
     "end_time": "2018-12-06T16:01:04.613019Z",
     "start_time": "2018-12-06T16:00:35.992Z"
    }
   },
   "outputs": [],
   "source": [
    "def assessXGB(xgModel, d2vM1, d2vM2, y, silent = True):\n",
    "    # Build the feature set by combining vectors from multiple models (m1 and m2)\n",
    "    # Or from just a single model if only one Doc2Vec model was passed to the function\n",
    "\n",
    "    # Do we have two Doc2Vec models to combine?\n",
    "    if (d2vM2 is not None):\n",
    "        # Yes, combine\n",
    "        trainVecs = []\n",
    "        for i in range(0, 25000):\n",
    "            trainVecs.append(np.hstack((d2vM1.docvecs[i], d2vM2.docvecs[i])))\n",
    "    else:\n",
    "        # No, just use the values from the single model\n",
    "        trainVecs = d2vM1.docvecs.doctag_syn0[:25000]\n",
    "    \n",
    "    if not silent:\n",
    "        print(\"len(trainVecs)\", len(trainVecs))\n",
    "\n",
    "    # Split the Doc2Vec vectors into training and evaluation data sets\n",
    "    X_train, X_eval, y_train, y_eval = train_test_split(\n",
    "        np.asarray(trainVecs), \n",
    "        trainLabels, \n",
    "        test_size = 0.1, \n",
    "        shuffle = True, \n",
    "        random_state = seedVal, \n",
    "        stratify = trainLabels\n",
    "    )\n",
    "    \n",
    "    # Train the XGBoost model\n",
    "    xgModel.fit(\n",
    "        X_train, \n",
    "        y_train, \n",
    "        eval_set = [(X_train, y_train), (X_eval, y_eval)],\n",
    "        eval_metric = \"auc\",\n",
    "        verbose = False,\n",
    "        early_stopping_rounds = 10,\n",
    "        callbacks=[\n",
    "            #xg.callback.print_evaluation(period = 50, show_stdv = True)\n",
    "        ]\n",
    "    )\n",
    "    \n",
    "    #print(X_eval.__class__)\n",
    "    #print(X_eval)\n",
    "    #return 1\n",
    "    \n",
    "    # Make predictions\n",
    "    preds = xgModel.predict(X_eval)\n",
    "    \n",
    "    if not silent:\n",
    "        print(confusion_matrix(y_eval, preds))\n",
    "        print(accuracy_score(y_eval, preds))\n",
    "\n",
    "        plotHistory(xgModel.evals_result())\n",
    "    else:\n",
    "        # Return the accuracy on the evaluation data set labels\n",
    "        return accuracy_score(y_eval, preds)"
   ]
  },
  {
   "cell_type": "markdown",
   "metadata": {
    "ExecuteTime": {
     "end_time": "2018-12-05T23:54:13.257908Z",
     "start_time": "2018-12-05T23:54:12.916000Z"
    }
   },
   "source": [
    "---\n",
    "\n",
    "And finally we need another function that passes various hyperparameter combinations to the Doc2Vec model we are tuning:"
   ]
  },
  {
   "cell_type": "code",
   "execution_count": 267,
   "metadata": {
    "ExecuteTime": {
     "end_time": "2018-12-06T16:17:04.159010Z",
     "start_time": "2018-12-06T16:17:03.807347Z"
    }
   },
   "outputs": [],
   "source": [
    "def searchDoc2VecParamsBase(params, silent = True):\n",
    "    \n",
    "    resultsDF = pd.DataFrame(columns = ['Model', 'Accuracy', 'Params'])\n",
    "    labels = list(combinedDat['sentiment'][:25000])\n",
    "    \n",
    "    for i, p in enumerate(params):\n",
    "        if not silent:\n",
    "                print(\"  Starting param run\", i, \"out of\", len(params)-1, \"...\")\n",
    "        \n",
    "        start = timer()\n",
    "        doc2vecModel = trainDoc2Vec(p)\n",
    "        end = timer()\n",
    "        if not silent:\n",
    "            print(\"    Doc2Vec training finished in\", round((end-start)/60, 2), \" mins\")\n",
    "        \n",
    "        xgModel = xg.XGBClassifier(\n",
    "            objective = \"binary:logistic\",\n",
    "            random_state = seedVal\n",
    "        )\n",
    "        \n",
    "        start = timer()\n",
    "        results = assessXGB(xgModel, doc2vecModel, None, labels, silent = True)\n",
    "        end = timer()\n",
    "        if not silent:\n",
    "            print(\"    xgModel training finished in\", round((end-start)/60, 2), \" mins with accuracy\", results)\n",
    "    \n",
    "        resultsDF.loc[len(resultsDF)] = list([\n",
    "            'Pass ' +  str(len(resultsDF)), \n",
    "            results,\n",
    "            p,\n",
    "        ])\n",
    "    \n",
    "    return resultsDF"
   ]
  },
  {
   "cell_type": "markdown",
   "metadata": {},
   "source": [
    "### PV-DM (dm = 1) model tuning\n",
    "\n",
    "Now that the helper functions are written we'll start tuning the PV-DM model.\n",
    "\n",
    "(Note that I've already done some tuning not shown here for brevity's sake.)\n",
    "\n",
    "---\n",
    "\n",
    "We'll start with `negative`, `min_count`, and `vector_size`:"
   ]
  },
  {
   "cell_type": "code",
   "execution_count": 280,
   "metadata": {
    "ExecuteTime": {
     "end_time": "2018-12-06T17:51:56.420360Z",
     "start_time": "2018-12-06T17:51:56.067629Z"
    }
   },
   "outputs": [],
   "source": [
    "def tunePVDM_1(silent = True):\n",
    "    print(\"**Starting run!\")\n",
    "    \n",
    "    params = []\n",
    "    base = {'dm':1, 'dm_concat':0, 'dm_mean': 1, 'size':500, 'window':3, 'negative':5, \n",
    "            'hs':0, 'min_count':2, 'passes':10, 'vector_size':300, 'dbow_words':0,\n",
    "            'alpha':0.025, 'minAlpha':0.001}\n",
    "    \n",
    "    for negative_ in [7, 9, 11]:\n",
    "        for min_count_ in np.linspace(2, 5, 4):\n",
    "            for vector_size_ in [500]:\n",
    "                _ = copy.deepcopy(base)\n",
    "                _['negative'] = negative_\n",
    "                _['min_count'] = min_count_\n",
    "                _['vector_size'] = vector_size_\n",
    "                params.append(_)\n",
    "    \n",
    "    results = searchDoc2VecParamsBase(params, silent)\n",
    "    print(\"**Finished!\")\n",
    "    \n",
    "    return results"
   ]
  },
  {
   "cell_type": "code",
   "execution_count": 281,
   "metadata": {
    "ExecuteTime": {
     "end_time": "2018-12-06T18:23:05.123150Z",
     "start_time": "2018-12-06T17:51:56.421363Z"
    }
   },
   "outputs": [
    {
     "name": "stdout",
     "output_type": "stream",
     "text": [
      "**Starting run!\n",
      "**Finished!\n"
     ]
    },
    {
     "data": {
      "text/html": [
       "<div>\n",
       "<style scoped>\n",
       "    .dataframe tbody tr th:only-of-type {\n",
       "        vertical-align: middle;\n",
       "    }\n",
       "\n",
       "    .dataframe tbody tr th {\n",
       "        vertical-align: top;\n",
       "    }\n",
       "\n",
       "    .dataframe thead th {\n",
       "        text-align: right;\n",
       "    }\n",
       "</style>\n",
       "<table border=\"1\" class=\"dataframe\">\n",
       "  <thead>\n",
       "    <tr style=\"text-align: right;\">\n",
       "      <th></th>\n",
       "      <th>Model</th>\n",
       "      <th>Accuracy</th>\n",
       "      <th>Params</th>\n",
       "    </tr>\n",
       "  </thead>\n",
       "  <tbody>\n",
       "    <tr>\n",
       "      <th>2</th>\n",
       "      <td>Pass 2</td>\n",
       "      <td>0.8496</td>\n",
       "      <td>{'dm': 1, 'dm_concat': 0, 'dm_mean': 1, 'size': 500, 'window': 3, 'negative': 7, 'hs': 0, 'min_count': 4.0, 'passes': 10, 'vector_size': 500, 'dbow_words': 0, 'alpha': 0.025, 'minAlpha': 0.001}</td>\n",
       "    </tr>\n",
       "    <tr>\n",
       "      <th>4</th>\n",
       "      <td>Pass 4</td>\n",
       "      <td>0.8492</td>\n",
       "      <td>{'dm': 1, 'dm_concat': 0, 'dm_mean': 1, 'size': 500, 'window': 3, 'negative': 9, 'hs': 0, 'min_count': 2.0, 'passes': 10, 'vector_size': 500, 'dbow_words': 0, 'alpha': 0.025, 'minAlpha': 0.001}</td>\n",
       "    </tr>\n",
       "    <tr>\n",
       "      <th>9</th>\n",
       "      <td>Pass 9</td>\n",
       "      <td>0.8460</td>\n",
       "      <td>{'dm': 1, 'dm_concat': 0, 'dm_mean': 1, 'size': 500, 'window': 3, 'negative': 11, 'hs': 0, 'min_count': 3.0, 'passes': 10, 'vector_size': 500, 'dbow_words': 0, 'alpha': 0.025, 'minAlpha': 0.001}</td>\n",
       "    </tr>\n",
       "    <tr>\n",
       "      <th>10</th>\n",
       "      <td>Pass 10</td>\n",
       "      <td>0.8448</td>\n",
       "      <td>{'dm': 1, 'dm_concat': 0, 'dm_mean': 1, 'size': 500, 'window': 3, 'negative': 11, 'hs': 0, 'min_count': 4.0, 'passes': 10, 'vector_size': 500, 'dbow_words': 0, 'alpha': 0.025, 'minAlpha': 0.001}</td>\n",
       "    </tr>\n",
       "    <tr>\n",
       "      <th>3</th>\n",
       "      <td>Pass 3</td>\n",
       "      <td>0.8420</td>\n",
       "      <td>{'dm': 1, 'dm_concat': 0, 'dm_mean': 1, 'size': 500, 'window': 3, 'negative': 7, 'hs': 0, 'min_count': 5.0, 'passes': 10, 'vector_size': 500, 'dbow_words': 0, 'alpha': 0.025, 'minAlpha': 0.001}</td>\n",
       "    </tr>\n",
       "  </tbody>\n",
       "</table>\n",
       "</div>"
      ],
      "text/plain": [
       "      Model  Accuracy  \\\n",
       "2   Pass 2   0.8496     \n",
       "4   Pass 4   0.8492     \n",
       "9   Pass 9   0.8460     \n",
       "10  Pass 10  0.8448     \n",
       "3   Pass 3   0.8420     \n",
       "\n",
       "                                                                                                                                                                                                Params  \n",
       "2   {'dm': 1, 'dm_concat': 0, 'dm_mean': 1, 'size': 500, 'window': 3, 'negative': 7, 'hs': 0, 'min_count': 4.0, 'passes': 10, 'vector_size': 500, 'dbow_words': 0, 'alpha': 0.025, 'minAlpha': 0.001}   \n",
       "4   {'dm': 1, 'dm_concat': 0, 'dm_mean': 1, 'size': 500, 'window': 3, 'negative': 9, 'hs': 0, 'min_count': 2.0, 'passes': 10, 'vector_size': 500, 'dbow_words': 0, 'alpha': 0.025, 'minAlpha': 0.001}   \n",
       "9   {'dm': 1, 'dm_concat': 0, 'dm_mean': 1, 'size': 500, 'window': 3, 'negative': 11, 'hs': 0, 'min_count': 3.0, 'passes': 10, 'vector_size': 500, 'dbow_words': 0, 'alpha': 0.025, 'minAlpha': 0.001}  \n",
       "10  {'dm': 1, 'dm_concat': 0, 'dm_mean': 1, 'size': 500, 'window': 3, 'negative': 11, 'hs': 0, 'min_count': 4.0, 'passes': 10, 'vector_size': 500, 'dbow_words': 0, 'alpha': 0.025, 'minAlpha': 0.001}  \n",
       "3   {'dm': 1, 'dm_concat': 0, 'dm_mean': 1, 'size': 500, 'window': 3, 'negative': 7, 'hs': 0, 'min_count': 5.0, 'passes': 10, 'vector_size': 500, 'dbow_words': 0, 'alpha': 0.025, 'minAlpha': 0.001}   "
      ]
     },
     "execution_count": 281,
     "metadata": {},
     "output_type": "execute_result"
    }
   ],
   "source": [
    "_df = tunePVDM_1()\n",
    "\n",
    "# Print results sorted by Accuracy desc\n",
    "pd.set_option('display.max_colwidth', -1)\n",
    "_df.sort_values(by = ['Accuracy'], ascending = [False]).head()"
   ]
  },
  {
   "cell_type": "markdown",
   "metadata": {},
   "source": [
    "---\n",
    "\n",
    "And now the `alpha` and `minAlpha` values:"
   ]
  },
  {
   "cell_type": "code",
   "execution_count": 286,
   "metadata": {
    "ExecuteTime": {
     "end_time": "2018-12-06T18:44:31.981839Z",
     "start_time": "2018-12-06T18:44:31.641941Z"
    }
   },
   "outputs": [],
   "source": [
    "def tunePVDM_2(silent = True):\n",
    "    print(\"**Starting run!\")\n",
    "    \n",
    "    params = []\n",
    "    base = {'dm':1, 'dm_concat':0, 'dm_mean': 1, 'size':500, 'window':3, 'negative':7, \n",
    "            'hs':0, 'min_count':4, 'passes':10, 'vector_size':500, 'dbow_words':0,\n",
    "            'alpha':0.025, 'minAlpha':0.001}\n",
    "    \n",
    "\n",
    "    for alpha in [0.001, 0.025, 0.075]:\n",
    "        for minAlpha in [0.0001, 0.001, 0.01]:\n",
    "            _ = copy.deepcopy(base)\n",
    "            _['alpha'] = alpha\n",
    "            _['minAlpha'] = minAlpha\n",
    "            params.append(_)\n",
    "    \n",
    "    results = searchDoc2VecParamsBase(params, silent)\n",
    "    print(\"**Finished!\")\n",
    "    \n",
    "    return results"
   ]
  },
  {
   "cell_type": "code",
   "execution_count": 287,
   "metadata": {
    "ExecuteTime": {
     "end_time": "2018-12-06T19:06:05.936845Z",
     "start_time": "2018-12-06T18:44:31.982842Z"
    }
   },
   "outputs": [
    {
     "name": "stdout",
     "output_type": "stream",
     "text": [
      "**Starting run!\n",
      "**Finished!\n"
     ]
    },
    {
     "data": {
      "text/html": [
       "<div>\n",
       "<style scoped>\n",
       "    .dataframe tbody tr th:only-of-type {\n",
       "        vertical-align: middle;\n",
       "    }\n",
       "\n",
       "    .dataframe tbody tr th {\n",
       "        vertical-align: top;\n",
       "    }\n",
       "\n",
       "    .dataframe thead th {\n",
       "        text-align: right;\n",
       "    }\n",
       "</style>\n",
       "<table border=\"1\" class=\"dataframe\">\n",
       "  <thead>\n",
       "    <tr style=\"text-align: right;\">\n",
       "      <th></th>\n",
       "      <th>Model</th>\n",
       "      <th>Accuracy</th>\n",
       "      <th>Params</th>\n",
       "    </tr>\n",
       "  </thead>\n",
       "  <tbody>\n",
       "    <tr>\n",
       "      <th>4</th>\n",
       "      <td>Pass 4</td>\n",
       "      <td>0.8416</td>\n",
       "      <td>{'dm': 1, 'dm_concat': 0, 'dm_mean': 1, 'size': 500, 'window': 3, 'negative': 7, 'hs': 0, 'min_count': 4, 'passes': 10, 'vector_size': 500, 'dbow_words': 0, 'alpha': 0.025, 'minAlpha': 0.001}</td>\n",
       "    </tr>\n",
       "    <tr>\n",
       "      <th>7</th>\n",
       "      <td>Pass 7</td>\n",
       "      <td>0.8412</td>\n",
       "      <td>{'dm': 1, 'dm_concat': 0, 'dm_mean': 1, 'size': 500, 'window': 3, 'negative': 7, 'hs': 0, 'min_count': 4, 'passes': 10, 'vector_size': 500, 'dbow_words': 0, 'alpha': 0.075, 'minAlpha': 0.001}</td>\n",
       "    </tr>\n",
       "    <tr>\n",
       "      <th>3</th>\n",
       "      <td>Pass 3</td>\n",
       "      <td>0.8376</td>\n",
       "      <td>{'dm': 1, 'dm_concat': 0, 'dm_mean': 1, 'size': 500, 'window': 3, 'negative': 7, 'hs': 0, 'min_count': 4, 'passes': 10, 'vector_size': 500, 'dbow_words': 0, 'alpha': 0.025, 'minAlpha': 0.0001}</td>\n",
       "    </tr>\n",
       "    <tr>\n",
       "      <th>5</th>\n",
       "      <td>Pass 5</td>\n",
       "      <td>0.8352</td>\n",
       "      <td>{'dm': 1, 'dm_concat': 0, 'dm_mean': 1, 'size': 500, 'window': 3, 'negative': 7, 'hs': 0, 'min_count': 4, 'passes': 10, 'vector_size': 500, 'dbow_words': 0, 'alpha': 0.025, 'minAlpha': 0.01}</td>\n",
       "    </tr>\n",
       "    <tr>\n",
       "      <th>6</th>\n",
       "      <td>Pass 6</td>\n",
       "      <td>0.8264</td>\n",
       "      <td>{'dm': 1, 'dm_concat': 0, 'dm_mean': 1, 'size': 500, 'window': 3, 'negative': 7, 'hs': 0, 'min_count': 4, 'passes': 10, 'vector_size': 500, 'dbow_words': 0, 'alpha': 0.075, 'minAlpha': 0.0001}</td>\n",
       "    </tr>\n",
       "  </tbody>\n",
       "</table>\n",
       "</div>"
      ],
      "text/plain": [
       "    Model  Accuracy  \\\n",
       "4  Pass 4  0.8416     \n",
       "7  Pass 7  0.8412     \n",
       "3  Pass 3  0.8376     \n",
       "5  Pass 5  0.8352     \n",
       "6  Pass 6  0.8264     \n",
       "\n",
       "                                                                                                                                                                                             Params  \n",
       "4  {'dm': 1, 'dm_concat': 0, 'dm_mean': 1, 'size': 500, 'window': 3, 'negative': 7, 'hs': 0, 'min_count': 4, 'passes': 10, 'vector_size': 500, 'dbow_words': 0, 'alpha': 0.025, 'minAlpha': 0.001}   \n",
       "7  {'dm': 1, 'dm_concat': 0, 'dm_mean': 1, 'size': 500, 'window': 3, 'negative': 7, 'hs': 0, 'min_count': 4, 'passes': 10, 'vector_size': 500, 'dbow_words': 0, 'alpha': 0.075, 'minAlpha': 0.001}   \n",
       "3  {'dm': 1, 'dm_concat': 0, 'dm_mean': 1, 'size': 500, 'window': 3, 'negative': 7, 'hs': 0, 'min_count': 4, 'passes': 10, 'vector_size': 500, 'dbow_words': 0, 'alpha': 0.025, 'minAlpha': 0.0001}  \n",
       "5  {'dm': 1, 'dm_concat': 0, 'dm_mean': 1, 'size': 500, 'window': 3, 'negative': 7, 'hs': 0, 'min_count': 4, 'passes': 10, 'vector_size': 500, 'dbow_words': 0, 'alpha': 0.025, 'minAlpha': 0.01}    \n",
       "6  {'dm': 1, 'dm_concat': 0, 'dm_mean': 1, 'size': 500, 'window': 3, 'negative': 7, 'hs': 0, 'min_count': 4, 'passes': 10, 'vector_size': 500, 'dbow_words': 0, 'alpha': 0.075, 'minAlpha': 0.0001}  "
      ]
     },
     "execution_count": 287,
     "metadata": {},
     "output_type": "execute_result"
    }
   ],
   "source": [
    "_df2 = tunePVDM_2()\n",
    "\n",
    "# Print results sorted by Accuracy desc\n",
    "pd.set_option('display.max_colwidth', -1)\n",
    "_df2.sort_values(by = ['Accuracy'], ascending = [False]).head()"
   ]
  },
  {
   "cell_type": "markdown",
   "metadata": {},
   "source": [
    "#### PV-DM (dm = 1) model tuning comments"
   ]
  },
  {
   "cell_type": "markdown",
   "metadata": {},
   "source": [
    "So far the best set of hyperparameters (see variance comments below) achieved an accuracy rating of 0.8496 for the PV-DM model.  They are as follows:\n",
    "\n",
    "```python\n",
    "{'dm': 1, 'dm_concat': 0, 'dm_mean': 1, 'size': 500, 'window': 3, 'negative': 7, 'hs': 0, \n",
    "'min_count': 4.0, 'passes': 10, 'vector_size': 500, 'dbow_words': 0, 'alpha': 0.025, 'minAlpha': 0.001}\n",
    "```    \n",
    "\n",
    "__HOWEVER BIG NOTE ON VARIANCE__:  You'll notice if you run the training code you'll get slightly different accuracy rates each run!  This appears to be a non-deterministic function of how Doc2Vec works that I haven't found a solution for as of yet.  So, we'll have to look for more significant movements of the accuracy instead of small changes.  For example, if we went from 75% to 81% we could probably feel comfortable whatever adjustment we just made to the model had an effect and wasn't just statistical noise.\n",
    "\n",
    "Here is an example:"
   ]
  },
  {
   "cell_type": "markdown",
   "metadata": {},
   "source": [
    "##### Variance illustration\n",
    "\n",
    "--- \n",
    "Helper function"
   ]
  },
  {
   "cell_type": "code",
   "execution_count": 303,
   "metadata": {
    "ExecuteTime": {
     "end_time": "2018-12-07T15:36:50.382979Z",
     "start_time": "2018-12-07T15:36:49.996960Z"
    }
   },
   "outputs": [],
   "source": [
    "def tunePVDM_3(silent = True):\n",
    "    print(\"**Starting run!\")\n",
    "    \n",
    "    params = []\n",
    "    base = {'dm':1, 'dm_concat':0, 'dm_mean': 1, 'size':500, 'window':3, 'negative':7, \n",
    "            'hs':0, 'min_count':4, 'passes':10, 'vector_size':500, 'dbow_words':0,\n",
    "            'alpha':0.025, 'minAlpha':0.001}\n",
    "    \n",
    "\n",
    "    for alpha in [0.001, 0.025]:\n",
    "        for minAlpha in [0.0001, 0.001]:\n",
    "            _ = copy.deepcopy(base)\n",
    "            _['alpha'] = alpha\n",
    "            _['minAlpha'] = minAlpha\n",
    "            params.append(_)\n",
    "    \n",
    "    results = searchDoc2VecParamsBase(params, silent)\n",
    "    print(\"**Finished!\")\n",
    "    \n",
    "    return results"
   ]
  },
  {
   "cell_type": "markdown",
   "metadata": {},
   "source": [
    "---\n",
    "Variance one"
   ]
  },
  {
   "cell_type": "code",
   "execution_count": 304,
   "metadata": {
    "ExecuteTime": {
     "end_time": "2018-12-07T15:46:46.240685Z",
     "start_time": "2018-12-07T15:36:50.730128Z"
    }
   },
   "outputs": [
    {
     "name": "stdout",
     "output_type": "stream",
     "text": [
      "**Starting run!\n",
      "**Finished!\n"
     ]
    },
    {
     "data": {
      "text/html": [
       "<div>\n",
       "<style scoped>\n",
       "    .dataframe tbody tr th:only-of-type {\n",
       "        vertical-align: middle;\n",
       "    }\n",
       "\n",
       "    .dataframe tbody tr th {\n",
       "        vertical-align: top;\n",
       "    }\n",
       "\n",
       "    .dataframe thead th {\n",
       "        text-align: right;\n",
       "    }\n",
       "</style>\n",
       "<table border=\"1\" class=\"dataframe\">\n",
       "  <thead>\n",
       "    <tr style=\"text-align: right;\">\n",
       "      <th></th>\n",
       "      <th>Model</th>\n",
       "      <th>Accuracy</th>\n",
       "      <th>Params</th>\n",
       "    </tr>\n",
       "  </thead>\n",
       "  <tbody>\n",
       "    <tr>\n",
       "      <th>3</th>\n",
       "      <td>Pass 3</td>\n",
       "      <td>0.8352</td>\n",
       "      <td>{'dm': 1, 'dm_concat': 0, 'dm_mean': 1, 'size': 500, 'window': 3, 'negative': 7, 'hs': 0, 'min_count': 4, 'passes': 10, 'vector_size': 500, 'dbow_words': 0, 'alpha': 0.025, 'minAlpha': 0.001}</td>\n",
       "    </tr>\n",
       "    <tr>\n",
       "      <th>2</th>\n",
       "      <td>Pass 2</td>\n",
       "      <td>0.8272</td>\n",
       "      <td>{'dm': 1, 'dm_concat': 0, 'dm_mean': 1, 'size': 500, 'window': 3, 'negative': 7, 'hs': 0, 'min_count': 4, 'passes': 10, 'vector_size': 500, 'dbow_words': 0, 'alpha': 0.025, 'minAlpha': 0.0001}</td>\n",
       "    </tr>\n",
       "    <tr>\n",
       "      <th>1</th>\n",
       "      <td>Pass 1</td>\n",
       "      <td>0.6012</td>\n",
       "      <td>{'dm': 1, 'dm_concat': 0, 'dm_mean': 1, 'size': 500, 'window': 3, 'negative': 7, 'hs': 0, 'min_count': 4, 'passes': 10, 'vector_size': 500, 'dbow_words': 0, 'alpha': 0.001, 'minAlpha': 0.001}</td>\n",
       "    </tr>\n",
       "    <tr>\n",
       "      <th>0</th>\n",
       "      <td>Pass 0</td>\n",
       "      <td>0.5764</td>\n",
       "      <td>{'dm': 1, 'dm_concat': 0, 'dm_mean': 1, 'size': 500, 'window': 3, 'negative': 7, 'hs': 0, 'min_count': 4, 'passes': 10, 'vector_size': 500, 'dbow_words': 0, 'alpha': 0.001, 'minAlpha': 0.0001}</td>\n",
       "    </tr>\n",
       "  </tbody>\n",
       "</table>\n",
       "</div>"
      ],
      "text/plain": [
       "    Model  Accuracy  \\\n",
       "3  Pass 3  0.8352     \n",
       "2  Pass 2  0.8272     \n",
       "1  Pass 1  0.6012     \n",
       "0  Pass 0  0.5764     \n",
       "\n",
       "                                                                                                                                                                                             Params  \n",
       "3  {'dm': 1, 'dm_concat': 0, 'dm_mean': 1, 'size': 500, 'window': 3, 'negative': 7, 'hs': 0, 'min_count': 4, 'passes': 10, 'vector_size': 500, 'dbow_words': 0, 'alpha': 0.025, 'minAlpha': 0.001}   \n",
       "2  {'dm': 1, 'dm_concat': 0, 'dm_mean': 1, 'size': 500, 'window': 3, 'negative': 7, 'hs': 0, 'min_count': 4, 'passes': 10, 'vector_size': 500, 'dbow_words': 0, 'alpha': 0.025, 'minAlpha': 0.0001}  \n",
       "1  {'dm': 1, 'dm_concat': 0, 'dm_mean': 1, 'size': 500, 'window': 3, 'negative': 7, 'hs': 0, 'min_count': 4, 'passes': 10, 'vector_size': 500, 'dbow_words': 0, 'alpha': 0.001, 'minAlpha': 0.001}   \n",
       "0  {'dm': 1, 'dm_concat': 0, 'dm_mean': 1, 'size': 500, 'window': 3, 'negative': 7, 'hs': 0, 'min_count': 4, 'passes': 10, 'vector_size': 500, 'dbow_words': 0, 'alpha': 0.001, 'minAlpha': 0.0001}  "
      ]
     },
     "execution_count": 304,
     "metadata": {},
     "output_type": "execute_result"
    }
   ],
   "source": [
    "_df3 = tunePVDM_3()\n",
    "\n",
    "# Print results sorted by Accuracy desc\n",
    "pd.set_option('display.max_colwidth', -1)\n",
    "_df3.sort_values(by = ['Accuracy'], ascending = [False]).head()"
   ]
  },
  {
   "cell_type": "markdown",
   "metadata": {},
   "source": [
    "---\n",
    "Variance two"
   ]
  },
  {
   "cell_type": "code",
   "execution_count": 305,
   "metadata": {
    "ExecuteTime": {
     "end_time": "2018-12-07T15:56:01.270404Z",
     "start_time": "2018-12-07T15:46:46.244696Z"
    }
   },
   "outputs": [
    {
     "name": "stdout",
     "output_type": "stream",
     "text": [
      "**Starting run!\n",
      "**Finished!\n"
     ]
    },
    {
     "data": {
      "text/html": [
       "<div>\n",
       "<style scoped>\n",
       "    .dataframe tbody tr th:only-of-type {\n",
       "        vertical-align: middle;\n",
       "    }\n",
       "\n",
       "    .dataframe tbody tr th {\n",
       "        vertical-align: top;\n",
       "    }\n",
       "\n",
       "    .dataframe thead th {\n",
       "        text-align: right;\n",
       "    }\n",
       "</style>\n",
       "<table border=\"1\" class=\"dataframe\">\n",
       "  <thead>\n",
       "    <tr style=\"text-align: right;\">\n",
       "      <th></th>\n",
       "      <th>Model</th>\n",
       "      <th>Accuracy</th>\n",
       "      <th>Params</th>\n",
       "    </tr>\n",
       "  </thead>\n",
       "  <tbody>\n",
       "    <tr>\n",
       "      <th>2</th>\n",
       "      <td>Pass 2</td>\n",
       "      <td>0.8296</td>\n",
       "      <td>{'dm': 1, 'dm_concat': 0, 'dm_mean': 1, 'size': 500, 'window': 3, 'negative': 7, 'hs': 0, 'min_count': 4, 'passes': 10, 'vector_size': 500, 'dbow_words': 0, 'alpha': 0.025, 'minAlpha': 0.0001}</td>\n",
       "    </tr>\n",
       "    <tr>\n",
       "      <th>3</th>\n",
       "      <td>Pass 3</td>\n",
       "      <td>0.8296</td>\n",
       "      <td>{'dm': 1, 'dm_concat': 0, 'dm_mean': 1, 'size': 500, 'window': 3, 'negative': 7, 'hs': 0, 'min_count': 4, 'passes': 10, 'vector_size': 500, 'dbow_words': 0, 'alpha': 0.025, 'minAlpha': 0.001}</td>\n",
       "    </tr>\n",
       "    <tr>\n",
       "      <th>1</th>\n",
       "      <td>Pass 1</td>\n",
       "      <td>0.5992</td>\n",
       "      <td>{'dm': 1, 'dm_concat': 0, 'dm_mean': 1, 'size': 500, 'window': 3, 'negative': 7, 'hs': 0, 'min_count': 4, 'passes': 10, 'vector_size': 500, 'dbow_words': 0, 'alpha': 0.001, 'minAlpha': 0.001}</td>\n",
       "    </tr>\n",
       "    <tr>\n",
       "      <th>0</th>\n",
       "      <td>Pass 0</td>\n",
       "      <td>0.5616</td>\n",
       "      <td>{'dm': 1, 'dm_concat': 0, 'dm_mean': 1, 'size': 500, 'window': 3, 'negative': 7, 'hs': 0, 'min_count': 4, 'passes': 10, 'vector_size': 500, 'dbow_words': 0, 'alpha': 0.001, 'minAlpha': 0.0001}</td>\n",
       "    </tr>\n",
       "  </tbody>\n",
       "</table>\n",
       "</div>"
      ],
      "text/plain": [
       "    Model  Accuracy  \\\n",
       "2  Pass 2  0.8296     \n",
       "3  Pass 3  0.8296     \n",
       "1  Pass 1  0.5992     \n",
       "0  Pass 0  0.5616     \n",
       "\n",
       "                                                                                                                                                                                             Params  \n",
       "2  {'dm': 1, 'dm_concat': 0, 'dm_mean': 1, 'size': 500, 'window': 3, 'negative': 7, 'hs': 0, 'min_count': 4, 'passes': 10, 'vector_size': 500, 'dbow_words': 0, 'alpha': 0.025, 'minAlpha': 0.0001}  \n",
       "3  {'dm': 1, 'dm_concat': 0, 'dm_mean': 1, 'size': 500, 'window': 3, 'negative': 7, 'hs': 0, 'min_count': 4, 'passes': 10, 'vector_size': 500, 'dbow_words': 0, 'alpha': 0.025, 'minAlpha': 0.001}   \n",
       "1  {'dm': 1, 'dm_concat': 0, 'dm_mean': 1, 'size': 500, 'window': 3, 'negative': 7, 'hs': 0, 'min_count': 4, 'passes': 10, 'vector_size': 500, 'dbow_words': 0, 'alpha': 0.001, 'minAlpha': 0.001}   \n",
       "0  {'dm': 1, 'dm_concat': 0, 'dm_mean': 1, 'size': 500, 'window': 3, 'negative': 7, 'hs': 0, 'min_count': 4, 'passes': 10, 'vector_size': 500, 'dbow_words': 0, 'alpha': 0.001, 'minAlpha': 0.0001}  "
      ]
     },
     "execution_count": 305,
     "metadata": {},
     "output_type": "execute_result"
    }
   ],
   "source": [
    "_df3 = tunePVDM_3()\n",
    "\n",
    "# Print results sorted by Accuracy desc\n",
    "pd.set_option('display.max_colwidth', -1)\n",
    "_df3.sort_values(by = ['Accuracy'], ascending = [False]).head()"
   ]
  },
  {
   "cell_type": "markdown",
   "metadata": {},
   "source": [
    "---\n",
    "Variance three"
   ]
  },
  {
   "cell_type": "code",
   "execution_count": 306,
   "metadata": {
    "ExecuteTime": {
     "end_time": "2018-12-07T16:05:00.617058Z",
     "start_time": "2018-12-07T15:56:01.271407Z"
    }
   },
   "outputs": [
    {
     "name": "stdout",
     "output_type": "stream",
     "text": [
      "**Starting run!\n",
      "**Finished!\n"
     ]
    },
    {
     "data": {
      "text/html": [
       "<div>\n",
       "<style scoped>\n",
       "    .dataframe tbody tr th:only-of-type {\n",
       "        vertical-align: middle;\n",
       "    }\n",
       "\n",
       "    .dataframe tbody tr th {\n",
       "        vertical-align: top;\n",
       "    }\n",
       "\n",
       "    .dataframe thead th {\n",
       "        text-align: right;\n",
       "    }\n",
       "</style>\n",
       "<table border=\"1\" class=\"dataframe\">\n",
       "  <thead>\n",
       "    <tr style=\"text-align: right;\">\n",
       "      <th></th>\n",
       "      <th>Model</th>\n",
       "      <th>Accuracy</th>\n",
       "      <th>Params</th>\n",
       "    </tr>\n",
       "  </thead>\n",
       "  <tbody>\n",
       "    <tr>\n",
       "      <th>2</th>\n",
       "      <td>Pass 2</td>\n",
       "      <td>0.8468</td>\n",
       "      <td>{'dm': 1, 'dm_concat': 0, 'dm_mean': 1, 'size': 500, 'window': 3, 'negative': 7, 'hs': 0, 'min_count': 4, 'passes': 10, 'vector_size': 500, 'dbow_words': 0, 'alpha': 0.025, 'minAlpha': 0.0001}</td>\n",
       "    </tr>\n",
       "    <tr>\n",
       "      <th>3</th>\n",
       "      <td>Pass 3</td>\n",
       "      <td>0.8392</td>\n",
       "      <td>{'dm': 1, 'dm_concat': 0, 'dm_mean': 1, 'size': 500, 'window': 3, 'negative': 7, 'hs': 0, 'min_count': 4, 'passes': 10, 'vector_size': 500, 'dbow_words': 0, 'alpha': 0.025, 'minAlpha': 0.001}</td>\n",
       "    </tr>\n",
       "    <tr>\n",
       "      <th>1</th>\n",
       "      <td>Pass 1</td>\n",
       "      <td>0.6080</td>\n",
       "      <td>{'dm': 1, 'dm_concat': 0, 'dm_mean': 1, 'size': 500, 'window': 3, 'negative': 7, 'hs': 0, 'min_count': 4, 'passes': 10, 'vector_size': 500, 'dbow_words': 0, 'alpha': 0.001, 'minAlpha': 0.001}</td>\n",
       "    </tr>\n",
       "    <tr>\n",
       "      <th>0</th>\n",
       "      <td>Pass 0</td>\n",
       "      <td>0.5572</td>\n",
       "      <td>{'dm': 1, 'dm_concat': 0, 'dm_mean': 1, 'size': 500, 'window': 3, 'negative': 7, 'hs': 0, 'min_count': 4, 'passes': 10, 'vector_size': 500, 'dbow_words': 0, 'alpha': 0.001, 'minAlpha': 0.0001}</td>\n",
       "    </tr>\n",
       "  </tbody>\n",
       "</table>\n",
       "</div>"
      ],
      "text/plain": [
       "    Model  Accuracy  \\\n",
       "2  Pass 2  0.8468     \n",
       "3  Pass 3  0.8392     \n",
       "1  Pass 1  0.6080     \n",
       "0  Pass 0  0.5572     \n",
       "\n",
       "                                                                                                                                                                                             Params  \n",
       "2  {'dm': 1, 'dm_concat': 0, 'dm_mean': 1, 'size': 500, 'window': 3, 'negative': 7, 'hs': 0, 'min_count': 4, 'passes': 10, 'vector_size': 500, 'dbow_words': 0, 'alpha': 0.025, 'minAlpha': 0.0001}  \n",
       "3  {'dm': 1, 'dm_concat': 0, 'dm_mean': 1, 'size': 500, 'window': 3, 'negative': 7, 'hs': 0, 'min_count': 4, 'passes': 10, 'vector_size': 500, 'dbow_words': 0, 'alpha': 0.025, 'minAlpha': 0.001}   \n",
       "1  {'dm': 1, 'dm_concat': 0, 'dm_mean': 1, 'size': 500, 'window': 3, 'negative': 7, 'hs': 0, 'min_count': 4, 'passes': 10, 'vector_size': 500, 'dbow_words': 0, 'alpha': 0.001, 'minAlpha': 0.001}   \n",
       "0  {'dm': 1, 'dm_concat': 0, 'dm_mean': 1, 'size': 500, 'window': 3, 'negative': 7, 'hs': 0, 'min_count': 4, 'passes': 10, 'vector_size': 500, 'dbow_words': 0, 'alpha': 0.001, 'minAlpha': 0.0001}  "
      ]
     },
     "execution_count": 306,
     "metadata": {},
     "output_type": "execute_result"
    }
   ],
   "source": [
    "_df3 = tunePVDM_3()\n",
    "\n",
    "# Print results sorted by Accuracy desc\n",
    "pd.set_option('display.max_colwidth', -1)\n",
    "_df3.sort_values(by = ['Accuracy'], ascending = [False]).head()"
   ]
  },
  {
   "cell_type": "markdown",
   "metadata": {},
   "source": [
    "### Tune PV-DBOW (dm = 0) model tuning\n",
    "\n",
    "I was curious if there would be much of a difference between tuning all the parameters at once vs. in groups.  I tried both methods and achieved the same results.  I'll include only the former below to save space.\n",
    "\n",
    "---\n",
    "\n",
    "Tuning all hyperparamters at once:"
   ]
  },
  {
   "cell_type": "code",
   "execution_count": 295,
   "metadata": {
    "ExecuteTime": {
     "end_time": "2018-12-06T21:10:40.882751Z",
     "start_time": "2018-12-06T21:10:40.551873Z"
    }
   },
   "outputs": [],
   "source": [
    "def tunePVDBOW_3(silent = True):\n",
    "    print(\"**Starting run!\")\n",
    "    \n",
    "    params = []\n",
    "    base = {'dm':0, 'dm_concat':1, 'dm_mean': 1, 'size':100, 'window':3, 'negative':5, \n",
    "            'hs':0, 'min_count':2, 'passes':10, 'vector_size':300, 'dbow_words':0,\n",
    "            'alpha':0.025, 'minAlpha':0.001}\n",
    "    \n",
    "\n",
    "    for size_ in np.linspace(100, 500, 3):\n",
    "        for window_ in np.linspace(3, 7, 3):\n",
    "            for vector_size_ in np.linspace(100, 700, 4):\n",
    "                for negative in [2, 5, 8]:\n",
    "                    for min_count in [1, 2, 5, 7]:\n",
    "                        _ = copy.deepcopy(base)\n",
    "                        _['size'] = size_\n",
    "                        _['window'] = window_\n",
    "                        _['vector_size'] = vector_size_\n",
    "                        _['negative'] = negative\n",
    "                        _['min_count'] = min_count\n",
    "                        params.append(_)\n",
    "    \n",
    "    results = searchDoc2VecParamsBase(params, silent)\n",
    "    print(\"**Finished!\")\n",
    "    \n",
    "    return results"
   ]
  },
  {
   "cell_type": "code",
   "execution_count": 296,
   "metadata": {
    "ExecuteTime": {
     "end_time": "2018-12-07T08:42:42.352388Z",
     "start_time": "2018-12-06T21:10:40.883754Z"
    }
   },
   "outputs": [
    {
     "name": "stdout",
     "output_type": "stream",
     "text": [
      "**Starting run!\n",
      "**Finished!\n"
     ]
    },
    {
     "data": {
      "text/html": [
       "<div>\n",
       "<style scoped>\n",
       "    .dataframe tbody tr th:only-of-type {\n",
       "        vertical-align: middle;\n",
       "    }\n",
       "\n",
       "    .dataframe tbody tr th {\n",
       "        vertical-align: top;\n",
       "    }\n",
       "\n",
       "    .dataframe thead th {\n",
       "        text-align: right;\n",
       "    }\n",
       "</style>\n",
       "<table border=\"1\" class=\"dataframe\">\n",
       "  <thead>\n",
       "    <tr style=\"text-align: right;\">\n",
       "      <th></th>\n",
       "      <th>Model</th>\n",
       "      <th>Accuracy</th>\n",
       "      <th>Params</th>\n",
       "    </tr>\n",
       "  </thead>\n",
       "  <tbody>\n",
       "    <tr>\n",
       "      <th>416</th>\n",
       "      <td>Pass 416</td>\n",
       "      <td>0.8656</td>\n",
       "      <td>{'dm': 0, 'dm_concat': 1, 'dm_mean': 1, 'size': 500.0, 'window': 7.0, 'negative': 8, 'hs': 0, 'min_count': 1, 'passes': 10, 'vector_size': 500.0, 'dbow_words': 0, 'alpha': 0.025, 'minAlpha': 0.001}</td>\n",
       "    </tr>\n",
       "    <tr>\n",
       "      <th>418</th>\n",
       "      <td>Pass 418</td>\n",
       "      <td>0.8648</td>\n",
       "      <td>{'dm': 0, 'dm_concat': 1, 'dm_mean': 1, 'size': 500.0, 'window': 7.0, 'negative': 8, 'hs': 0, 'min_count': 5, 'passes': 10, 'vector_size': 500.0, 'dbow_words': 0, 'alpha': 0.025, 'minAlpha': 0.001}</td>\n",
       "    </tr>\n",
       "    <tr>\n",
       "      <th>190</th>\n",
       "      <td>Pass 190</td>\n",
       "      <td>0.8640</td>\n",
       "      <td>{'dm': 0, 'dm_concat': 1, 'dm_mean': 1, 'size': 300.0, 'window': 3.0, 'negative': 8, 'hs': 0, 'min_count': 5, 'passes': 10, 'vector_size': 700.0, 'dbow_words': 0, 'alpha': 0.025, 'minAlpha': 0.001}</td>\n",
       "    </tr>\n",
       "    <tr>\n",
       "      <th>429</th>\n",
       "      <td>Pass 429</td>\n",
       "      <td>0.8632</td>\n",
       "      <td>{'dm': 0, 'dm_concat': 1, 'dm_mean': 1, 'size': 500.0, 'window': 7.0, 'negative': 8, 'hs': 0, 'min_count': 2, 'passes': 10, 'vector_size': 700.0, 'dbow_words': 0, 'alpha': 0.025, 'minAlpha': 0.001}</td>\n",
       "    </tr>\n",
       "    <tr>\n",
       "      <th>368</th>\n",
       "      <td>Pass 368</td>\n",
       "      <td>0.8620</td>\n",
       "      <td>{'dm': 0, 'dm_concat': 1, 'dm_mean': 1, 'size': 500.0, 'window': 5.0, 'negative': 8, 'hs': 0, 'min_count': 1, 'passes': 10, 'vector_size': 500.0, 'dbow_words': 0, 'alpha': 0.025, 'minAlpha': 0.001}</td>\n",
       "    </tr>\n",
       "  </tbody>\n",
       "</table>\n",
       "</div>"
      ],
      "text/plain": [
       "        Model  Accuracy  \\\n",
       "416  Pass 416  0.8656     \n",
       "418  Pass 418  0.8648     \n",
       "190  Pass 190  0.8640     \n",
       "429  Pass 429  0.8632     \n",
       "368  Pass 368  0.8620     \n",
       "\n",
       "                                                                                                                                                                                                    Params  \n",
       "416  {'dm': 0, 'dm_concat': 1, 'dm_mean': 1, 'size': 500.0, 'window': 7.0, 'negative': 8, 'hs': 0, 'min_count': 1, 'passes': 10, 'vector_size': 500.0, 'dbow_words': 0, 'alpha': 0.025, 'minAlpha': 0.001}  \n",
       "418  {'dm': 0, 'dm_concat': 1, 'dm_mean': 1, 'size': 500.0, 'window': 7.0, 'negative': 8, 'hs': 0, 'min_count': 5, 'passes': 10, 'vector_size': 500.0, 'dbow_words': 0, 'alpha': 0.025, 'minAlpha': 0.001}  \n",
       "190  {'dm': 0, 'dm_concat': 1, 'dm_mean': 1, 'size': 300.0, 'window': 3.0, 'negative': 8, 'hs': 0, 'min_count': 5, 'passes': 10, 'vector_size': 700.0, 'dbow_words': 0, 'alpha': 0.025, 'minAlpha': 0.001}  \n",
       "429  {'dm': 0, 'dm_concat': 1, 'dm_mean': 1, 'size': 500.0, 'window': 7.0, 'negative': 8, 'hs': 0, 'min_count': 2, 'passes': 10, 'vector_size': 700.0, 'dbow_words': 0, 'alpha': 0.025, 'minAlpha': 0.001}  \n",
       "368  {'dm': 0, 'dm_concat': 1, 'dm_mean': 1, 'size': 500.0, 'window': 5.0, 'negative': 8, 'hs': 0, 'min_count': 1, 'passes': 10, 'vector_size': 500.0, 'dbow_words': 0, 'alpha': 0.025, 'minAlpha': 0.001}  "
      ]
     },
     "execution_count": 296,
     "metadata": {},
     "output_type": "execute_result"
    }
   ],
   "source": [
    "_df3 = tunePVDBOW_3()\n",
    "\n",
    "# Print results sorted by Accuracy desc\n",
    "pd.set_option('display.max_colwidth', -1)\n",
    "_df3.sort_values(by = ['Accuracy'], ascending = [False]).head()"
   ]
  },
  {
   "cell_type": "markdown",
   "metadata": {},
   "source": [
    "####  PV-DBOW (dm = 0) model tuning comments"
   ]
  },
  {
   "cell_type": "markdown",
   "metadata": {},
   "source": [
    "So far the best set of hyperparameters (see variance comments below) achieved an accuracy rating of 0.8656 for the PV-DBOW model.  They are as follows:\n",
    "\n",
    "```python\n",
    "{'dm': 0, 'dm_concat': 1, 'dm_mean': 1, 'size': 500.0, 'window': 7.0, 'negative': 8, 'hs': 0, \n",
    " 'min_count': 1, 'passes': 10, 'vector_size': 500.0, 'dbow_words': 0, 'alpha': 0.025, 'minAlpha': 0.001}\n",
    "```    "
   ]
  },
  {
   "cell_type": "markdown",
   "metadata": {},
   "source": [
    "# Create instances of tuned Doc2Vec models and create feature set\n",
    "\n",
    "We'll train and assign the best two Doc2Vec models into variables for further use below, and we'll also combine their document vectors into a single feature set."
   ]
  },
  {
   "cell_type": "code",
   "execution_count": 310,
   "metadata": {
    "ExecuteTime": {
     "end_time": "2018-12-07T16:27:55.627067Z",
     "start_time": "2018-12-07T16:26:43.821864Z"
    }
   },
   "outputs": [],
   "source": [
    "m1 = trainDoc2Vec({'dm': 0, 'dm_concat': 1, 'dm_mean': 1, 'size': 500.0, 'window': 7.0, 'negative': 8, \n",
    "                   'hs': 0, 'min_count': 1, 'passes': 10, 'vector_size': 500.0, 'dbow_words': 0, \n",
    "                   'alpha': 0.025, 'minAlpha': 0.001})\n",
    "\n",
    "m2 = trainDoc2Vec({'dm': 1, 'dm_concat': 0, 'dm_mean': 1, 'size': 500, 'window': 3, 'negative': 7, \n",
    "                   'hs': 0, 'min_count': 4.0, 'passes': 10, 'vector_size': 500, 'dbow_words': 0, \n",
    "                   'alpha': 0.025, 'minAlpha': 0.001})"
   ]
  },
  {
   "cell_type": "code",
   "execution_count": 356,
   "metadata": {
    "ExecuteTime": {
     "end_time": "2018-12-10T19:27:43.581445Z",
     "start_time": "2018-12-10T19:27:43.251565Z"
    }
   },
   "outputs": [
    {
     "name": "stdout",
     "output_type": "stream",
     "text": [
      "(25000, 500)\n",
      "(25000, 500)\n"
     ]
    }
   ],
   "source": [
    "print(m1.docvecs.doctag_syn0.shape)\n",
    "print(m2.docvecs.doctag_syn0.shape)"
   ]
  },
  {
   "cell_type": "code",
   "execution_count": 312,
   "metadata": {
    "ExecuteTime": {
     "end_time": "2018-12-07T16:28:07.052766Z",
     "start_time": "2018-12-07T16:28:06.683789Z"
    }
   },
   "outputs": [
    {
     "name": "stdout",
     "output_type": "stream",
     "text": [
      "(25000, 1000)\n"
     ]
    }
   ],
   "source": [
    "featureSet = np.hstack((m1.docvecs.doctag_syn0, m2.docvecs.doctag_syn0))\n",
    "print(featureSet.shape)"
   ]
  },
  {
   "cell_type": "code",
   "execution_count": 313,
   "metadata": {
    "ExecuteTime": {
     "end_time": "2018-12-07T16:28:10.906470Z",
     "start_time": "2018-12-07T16:28:10.508417Z"
    }
   },
   "outputs": [],
   "source": [
    "y = list(combinedDat['sentiment'][:25000])\n",
    "\n",
    "X_train, X_eval, y_train, y_eval = train_test_split(\n",
    "    featureSet,  \n",
    "    y, \n",
    "    test_size = 0.1, \n",
    "    shuffle = True, \n",
    "    random_state = seedVal, \n",
    "    stratify = y\n",
    ")"
   ]
  },
  {
   "cell_type": "markdown",
   "metadata": {},
   "source": [
    "# Tune XGBoost using best Doc2Vec models\n",
    "\n",
    "Training XGBoost isn't as straightforward as other models.  Our strategy will be as follows:\n",
    "\n",
    "1. Pick some sane model param defaults\n",
    "2. Calculate best initial n_estimators value (i.e. number of trees)\n",
    "3. Tune max_depth and min_child_weight\n",
    "4. Tune gamma, subsample and colsample_bytree\n",
    "5. Tune regularization params, reg_alpha and reg_lambda\n",
    "6. Obtain new n_estimators value\n",
    "7. Tune the learning rate and re-eval n_estimators\n",
    "\n",
    "References:\n",
    "* https://www.analyticsvidhya.com/blog/2016/03/complete-guide-parameter-tuning-xgboost-with-codes-python/\n",
    "* https://towardsdatascience.com/fine-tuning-xgboost-in-python-like-a-boss-b4543ed8b1e"
   ]
  },
  {
   "cell_type": "markdown",
   "metadata": {
    "ExecuteTime": {
     "end_time": "2018-12-03T17:58:32.035638Z",
     "start_time": "2018-12-03T17:58:31.661972Z"
    }
   },
   "source": [
    "### Pick sane model param defaults"
   ]
  },
  {
   "cell_type": "code",
   "execution_count": 314,
   "metadata": {
    "ExecuteTime": {
     "end_time": "2018-12-07T16:28:23.161402Z",
     "start_time": "2018-12-07T16:28:22.748647Z"
    }
   },
   "outputs": [],
   "source": [
    "xgb1 = xg.XGBClassifier(\n",
    "    learning_rate =0.1,\n",
    "    n_estimators=5000,\n",
    "    max_depth=5,\n",
    "    min_child_weight=1,\n",
    "    gamma=0,\n",
    "    subsample=0.8,\n",
    "    colsample_bytree=0.8,\n",
    "    objective= 'binary:logistic',\n",
    "    nthread=4,\n",
    "    scale_pos_weight=1,\n",
    "    random_state=10\n",
    ")"
   ]
  },
  {
   "cell_type": "markdown",
   "metadata": {},
   "source": [
    "### Calculate best initial n_estimators value (i.e. number of trees)"
   ]
  },
  {
   "cell_type": "code",
   "execution_count": 315,
   "metadata": {
    "ExecuteTime": {
     "end_time": "2018-12-07T16:37:04.886922Z",
     "start_time": "2018-12-07T16:28:31.435961Z"
    }
   },
   "outputs": [
    {
     "data": {
      "text/plain": [
       "XGBClassifier(base_score=0.5, booster='gbtree', colsample_bylevel=1,\n",
       "       colsample_bytree=0.8, gamma=0, learning_rate=0.1, max_delta_step=0,\n",
       "       max_depth=5, min_child_weight=1, missing=None, n_estimators=202,\n",
       "       n_jobs=1, nthread=4, objective='binary:logistic', random_state=10,\n",
       "       reg_alpha=0, reg_lambda=1, scale_pos_weight=1, seed=None,\n",
       "       silent=True, subsample=0.8)"
      ]
     },
     "execution_count": 315,
     "metadata": {},
     "output_type": "execute_result"
    }
   ],
   "source": [
    "params = xgb1.get_xgb_params()\n",
    "dmatrix = xg.DMatrix(X_train, label=y_train)\n",
    "\n",
    "cv = xg.cv(\n",
    "    params, \n",
    "    dmatrix, \n",
    "    num_boost_round = xgb1.get_params()['n_estimators'], \n",
    "    nfold = 5,\n",
    "    metrics = 'auc',\n",
    "    early_stopping_rounds=25\n",
    ")\n",
    "\n",
    "# Assign best n_estimators value to our model\n",
    "xgb1.set_params(n_estimators = cv.shape[0])"
   ]
  },
  {
   "cell_type": "markdown",
   "metadata": {},
   "source": [
    "---\n",
    "The `cv` function determined that `n_estimators = 202` is optimal.  We'll examine the model's accuracy on the Doc2Vec feature set:"
   ]
  },
  {
   "cell_type": "code",
   "execution_count": 316,
   "metadata": {
    "ExecuteTime": {
     "end_time": "2018-12-07T16:39:00.240431Z",
     "start_time": "2018-12-07T16:37:26.566294Z"
    }
   },
   "outputs": [
    {
     "name": "stdout",
     "output_type": "stream",
     "text": [
      "Accuracy on eval data:  0.8676\n"
     ]
    }
   ],
   "source": [
    "xgb1.fit(\n",
    "    X_train, \n",
    "    y_train, \n",
    "    eval_set = [(X_train, y_train), (X_eval, y_eval)],\n",
    "    eval_metric = \"auc\",\n",
    "    verbose = False,\n",
    "    early_stopping_rounds = 5,\n",
    ")\n",
    "    \n",
    "preds = xgb1.predict(X_eval)\n",
    "print(\"Accuracy on eval data: \", accuracy_score(y_eval, preds))"
   ]
  },
  {
   "cell_type": "markdown",
   "metadata": {},
   "source": [
    "---\n",
    "The baseline accuracy in section 9 of this write-up was 0.8556.  We've clearly made improvements with a new best accuracy value of 0.8676 against the validation set."
   ]
  },
  {
   "cell_type": "markdown",
   "metadata": {},
   "source": [
    "### Tune max_depth and min_child_weight\n",
    "\n",
    "Start by writing two helper functions:"
   ]
  },
  {
   "cell_type": "code",
   "execution_count": 328,
   "metadata": {
    "ExecuteTime": {
     "end_time": "2018-12-07T17:56:56.756386Z",
     "start_time": "2018-12-07T17:56:56.401443Z"
    }
   },
   "outputs": [],
   "source": [
    "def getXGBModel():\n",
    "    model = xg.XGBClassifier(base_score=0.5, booster='gbtree', colsample_bylevel=1,\n",
    "       colsample_bytree=0.8, gamma=0, learning_rate=0.1, max_delta_step=0,\n",
    "       max_depth=5, min_child_weight=1, missing=None, n_estimators=202,\n",
    "       n_jobs=1, nthread=4, objective='binary:logistic', random_state=10,\n",
    "       reg_alpha=0, reg_lambda=1, scale_pos_weight=1, seed=None,\n",
    "       silent=True, subsample=0.8)\n",
    "    return model"
   ]
  },
  {
   "cell_type": "code",
   "execution_count": 331,
   "metadata": {
    "ExecuteTime": {
     "end_time": "2018-12-07T17:57:35.040180Z",
     "start_time": "2018-12-07T17:57:34.704288Z"
    }
   },
   "outputs": [],
   "source": [
    "def evalXGB(model, silent = True, early_stopping_rounds = 25):\n",
    "    start = timer()\n",
    "    \n",
    "    model.fit(\n",
    "        X_train, \n",
    "        y_train, \n",
    "        eval_set = [(X_train, y_train), (X_eval, y_eval)],\n",
    "        eval_metric = \"auc\",\n",
    "        verbose = False,\n",
    "        early_stopping_rounds = early_stopping_rounds,\n",
    "    )\n",
    "    \n",
    "    preds = model.predict(X_eval)\n",
    "    acc = accuracy_score(y_eval, preds)\n",
    "    \n",
    "    end = timer()\n",
    "    \n",
    "    if not silent:\n",
    "        print(\"    Model training finished in\", round((end-start)/60, 2), \"mins with accuracy\", acc)\n",
    "            \n",
    "    return(acc)"
   ]
  },
  {
   "cell_type": "markdown",
   "metadata": {},
   "source": [
    "---\n",
    "\n",
    "Perform the hyperparameter tuning grid search:"
   ]
  },
  {
   "cell_type": "code",
   "execution_count": 332,
   "metadata": {
    "ExecuteTime": {
     "end_time": "2018-12-07T18:46:17.537962Z",
     "start_time": "2018-12-07T17:57:35.042185Z"
    },
    "scrolled": true
   },
   "outputs": [
    {
     "name": "stdout",
     "output_type": "stream",
     "text": [
      "\n",
      "Finished!\n"
     ]
    }
   ],
   "source": [
    "resultsDF = pd.DataFrame(columns = ['Accuracy', 'Params'])\n",
    "counter = 1\n",
    "\n",
    "for max_depth in np.linspace(2, 10, 5):\n",
    "    for min_child_weight in np.linspace(2, 8, 4):\n",
    "        xgb1 = getXGBModel()\n",
    "        xgb1.set_params(max_depth = int(max_depth), min_child_weight = int(min_child_weight))\n",
    "        acc = evalXGB(xgb1)\n",
    "            \n",
    "        resultsDF.loc[len(resultsDF)] = list([\n",
    "            acc,\n",
    "            xgb1.get_params()\n",
    "        ])\n",
    "        \n",
    "        counter += 1\n",
    "        \n",
    "print(\"\\nFinished!\")"
   ]
  },
  {
   "cell_type": "code",
   "execution_count": 333,
   "metadata": {
    "ExecuteTime": {
     "end_time": "2018-12-07T18:47:04.754573Z",
     "start_time": "2018-12-07T18:47:04.382923Z"
    },
    "scrolled": true
   },
   "outputs": [
    {
     "data": {
      "text/html": [
       "<div>\n",
       "<style scoped>\n",
       "    .dataframe tbody tr th:only-of-type {\n",
       "        vertical-align: middle;\n",
       "    }\n",
       "\n",
       "    .dataframe tbody tr th {\n",
       "        vertical-align: top;\n",
       "    }\n",
       "\n",
       "    .dataframe thead th {\n",
       "        text-align: right;\n",
       "    }\n",
       "</style>\n",
       "<table border=\"1\" class=\"dataframe\">\n",
       "  <thead>\n",
       "    <tr style=\"text-align: right;\">\n",
       "      <th></th>\n",
       "      <th>Accuracy</th>\n",
       "      <th>Params</th>\n",
       "    </tr>\n",
       "  </thead>\n",
       "  <tbody>\n",
       "    <tr>\n",
       "      <th>19</th>\n",
       "      <td>0.8748</td>\n",
       "      <td>{'base_score': 0.5, 'booster': 'gbtree', 'colsample_bylevel': 1, 'colsample_bytree': 0.8, 'gamma': 0, 'learning_rate': 0.1, 'max_delta_step': 0, 'max_depth': 10, 'min_child_weight': 8, 'missing': None, 'n_estimators': 202, 'n_jobs': 1, 'nthread': 4, 'objective': 'binary:logistic', 'random_state': 10, 'reg_alpha': 0, 'reg_lambda': 1, 'scale_pos_weight': 1, 'seed': None, 'silent': True, 'subsample': 0.8}</td>\n",
       "    </tr>\n",
       "    <tr>\n",
       "      <th>12</th>\n",
       "      <td>0.8732</td>\n",
       "      <td>{'base_score': 0.5, 'booster': 'gbtree', 'colsample_bylevel': 1, 'colsample_bytree': 0.8, 'gamma': 0, 'learning_rate': 0.1, 'max_delta_step': 0, 'max_depth': 8, 'min_child_weight': 2, 'missing': None, 'n_estimators': 202, 'n_jobs': 1, 'nthread': 4, 'objective': 'binary:logistic', 'random_state': 10, 'reg_alpha': 0, 'reg_lambda': 1, 'scale_pos_weight': 1, 'seed': None, 'silent': True, 'subsample': 0.8}</td>\n",
       "    </tr>\n",
       "    <tr>\n",
       "      <th>17</th>\n",
       "      <td>0.8724</td>\n",
       "      <td>{'base_score': 0.5, 'booster': 'gbtree', 'colsample_bylevel': 1, 'colsample_bytree': 0.8, 'gamma': 0, 'learning_rate': 0.1, 'max_delta_step': 0, 'max_depth': 10, 'min_child_weight': 4, 'missing': None, 'n_estimators': 202, 'n_jobs': 1, 'nthread': 4, 'objective': 'binary:logistic', 'random_state': 10, 'reg_alpha': 0, 'reg_lambda': 1, 'scale_pos_weight': 1, 'seed': None, 'silent': True, 'subsample': 0.8}</td>\n",
       "    </tr>\n",
       "    <tr>\n",
       "      <th>18</th>\n",
       "      <td>0.8720</td>\n",
       "      <td>{'base_score': 0.5, 'booster': 'gbtree', 'colsample_bylevel': 1, 'colsample_bytree': 0.8, 'gamma': 0, 'learning_rate': 0.1, 'max_delta_step': 0, 'max_depth': 10, 'min_child_weight': 6, 'missing': None, 'n_estimators': 202, 'n_jobs': 1, 'nthread': 4, 'objective': 'binary:logistic', 'random_state': 10, 'reg_alpha': 0, 'reg_lambda': 1, 'scale_pos_weight': 1, 'seed': None, 'silent': True, 'subsample': 0.8}</td>\n",
       "    </tr>\n",
       "    <tr>\n",
       "      <th>9</th>\n",
       "      <td>0.8720</td>\n",
       "      <td>{'base_score': 0.5, 'booster': 'gbtree', 'colsample_bylevel': 1, 'colsample_bytree': 0.8, 'gamma': 0, 'learning_rate': 0.1, 'max_delta_step': 0, 'max_depth': 6, 'min_child_weight': 4, 'missing': None, 'n_estimators': 202, 'n_jobs': 1, 'nthread': 4, 'objective': 'binary:logistic', 'random_state': 10, 'reg_alpha': 0, 'reg_lambda': 1, 'scale_pos_weight': 1, 'seed': None, 'silent': True, 'subsample': 0.8}</td>\n",
       "    </tr>\n",
       "  </tbody>\n",
       "</table>\n",
       "</div>"
      ],
      "text/plain": [
       "    Accuracy  \\\n",
       "19  0.8748     \n",
       "12  0.8732     \n",
       "17  0.8724     \n",
       "18  0.8720     \n",
       "9   0.8720     \n",
       "\n",
       "                                                                                                                                                                                                                                                                                                                                                                                                                   Params  \n",
       "19  {'base_score': 0.5, 'booster': 'gbtree', 'colsample_bylevel': 1, 'colsample_bytree': 0.8, 'gamma': 0, 'learning_rate': 0.1, 'max_delta_step': 0, 'max_depth': 10, 'min_child_weight': 8, 'missing': None, 'n_estimators': 202, 'n_jobs': 1, 'nthread': 4, 'objective': 'binary:logistic', 'random_state': 10, 'reg_alpha': 0, 'reg_lambda': 1, 'scale_pos_weight': 1, 'seed': None, 'silent': True, 'subsample': 0.8}  \n",
       "12  {'base_score': 0.5, 'booster': 'gbtree', 'colsample_bylevel': 1, 'colsample_bytree': 0.8, 'gamma': 0, 'learning_rate': 0.1, 'max_delta_step': 0, 'max_depth': 8, 'min_child_weight': 2, 'missing': None, 'n_estimators': 202, 'n_jobs': 1, 'nthread': 4, 'objective': 'binary:logistic', 'random_state': 10, 'reg_alpha': 0, 'reg_lambda': 1, 'scale_pos_weight': 1, 'seed': None, 'silent': True, 'subsample': 0.8}   \n",
       "17  {'base_score': 0.5, 'booster': 'gbtree', 'colsample_bylevel': 1, 'colsample_bytree': 0.8, 'gamma': 0, 'learning_rate': 0.1, 'max_delta_step': 0, 'max_depth': 10, 'min_child_weight': 4, 'missing': None, 'n_estimators': 202, 'n_jobs': 1, 'nthread': 4, 'objective': 'binary:logistic', 'random_state': 10, 'reg_alpha': 0, 'reg_lambda': 1, 'scale_pos_weight': 1, 'seed': None, 'silent': True, 'subsample': 0.8}  \n",
       "18  {'base_score': 0.5, 'booster': 'gbtree', 'colsample_bylevel': 1, 'colsample_bytree': 0.8, 'gamma': 0, 'learning_rate': 0.1, 'max_delta_step': 0, 'max_depth': 10, 'min_child_weight': 6, 'missing': None, 'n_estimators': 202, 'n_jobs': 1, 'nthread': 4, 'objective': 'binary:logistic', 'random_state': 10, 'reg_alpha': 0, 'reg_lambda': 1, 'scale_pos_weight': 1, 'seed': None, 'silent': True, 'subsample': 0.8}  \n",
       "9   {'base_score': 0.5, 'booster': 'gbtree', 'colsample_bylevel': 1, 'colsample_bytree': 0.8, 'gamma': 0, 'learning_rate': 0.1, 'max_delta_step': 0, 'max_depth': 6, 'min_child_weight': 4, 'missing': None, 'n_estimators': 202, 'n_jobs': 1, 'nthread': 4, 'objective': 'binary:logistic', 'random_state': 10, 'reg_alpha': 0, 'reg_lambda': 1, 'scale_pos_weight': 1, 'seed': None, 'silent': True, 'subsample': 0.8}   "
      ]
     },
     "execution_count": 333,
     "metadata": {},
     "output_type": "execute_result"
    }
   ],
   "source": [
    "pd.set_option('display.max_colwidth', -1)\n",
    "resultsDF.sort_values(by = ['Accuracy'], ascending = [False]).head()"
   ]
  },
  {
   "cell_type": "markdown",
   "metadata": {},
   "source": [
    "#### Fine tune \n",
    "\n",
    "Best parameter value for `max_depth` was 10, and the best parameter value for `min_child_weight` was 8.  The accuracy rate for this combination was 0.8748 against the evaluation data set.  \n",
    "\n",
    "Next we'll fine tune since the initial grid was wide (increased in steps of 2)."
   ]
  },
  {
   "cell_type": "code",
   "execution_count": 334,
   "metadata": {
    "ExecuteTime": {
     "end_time": "2018-12-07T19:15:40.423183Z",
     "start_time": "2018-12-07T18:47:20.945381Z"
    },
    "scrolled": false
   },
   "outputs": [
    {
     "name": "stdout",
     "output_type": "stream",
     "text": [
      "\n",
      "Finished!\n"
     ]
    },
    {
     "data": {
      "text/html": [
       "<div>\n",
       "<style scoped>\n",
       "    .dataframe tbody tr th:only-of-type {\n",
       "        vertical-align: middle;\n",
       "    }\n",
       "\n",
       "    .dataframe tbody tr th {\n",
       "        vertical-align: top;\n",
       "    }\n",
       "\n",
       "    .dataframe thead th {\n",
       "        text-align: right;\n",
       "    }\n",
       "</style>\n",
       "<table border=\"1\" class=\"dataframe\">\n",
       "  <thead>\n",
       "    <tr style=\"text-align: right;\">\n",
       "      <th></th>\n",
       "      <th>Accuracy</th>\n",
       "      <th>Params</th>\n",
       "    </tr>\n",
       "  </thead>\n",
       "  <tbody>\n",
       "    <tr>\n",
       "      <th>4</th>\n",
       "      <td>0.8748</td>\n",
       "      <td>{'base_score': 0.5, 'booster': 'gbtree', 'colsample_bylevel': 1, 'colsample_bytree': 0.8, 'gamma': 0, 'learning_rate': 0.1, 'max_delta_step': 0, 'max_depth': 10, 'min_child_weight': 8, 'missing': None, 'n_estimators': 202, 'n_jobs': 1, 'nthread': 4, 'objective': 'binary:logistic', 'random_state': 10, 'reg_alpha': 0, 'reg_lambda': 1, 'scale_pos_weight': 1, 'seed': None, 'silent': True, 'subsample': 0.8}</td>\n",
       "    </tr>\n",
       "    <tr>\n",
       "      <th>7</th>\n",
       "      <td>0.8724</td>\n",
       "      <td>{'base_score': 0.5, 'booster': 'gbtree', 'colsample_bylevel': 1, 'colsample_bytree': 0.8, 'gamma': 0, 'learning_rate': 0.1, 'max_delta_step': 0, 'max_depth': 11, 'min_child_weight': 8, 'missing': None, 'n_estimators': 202, 'n_jobs': 1, 'nthread': 4, 'objective': 'binary:logistic', 'random_state': 10, 'reg_alpha': 0, 'reg_lambda': 1, 'scale_pos_weight': 1, 'seed': None, 'silent': True, 'subsample': 0.8}</td>\n",
       "    </tr>\n",
       "    <tr>\n",
       "      <th>6</th>\n",
       "      <td>0.8720</td>\n",
       "      <td>{'base_score': 0.5, 'booster': 'gbtree', 'colsample_bylevel': 1, 'colsample_bytree': 0.8, 'gamma': 0, 'learning_rate': 0.1, 'max_delta_step': 0, 'max_depth': 11, 'min_child_weight': 7, 'missing': None, 'n_estimators': 202, 'n_jobs': 1, 'nthread': 4, 'objective': 'binary:logistic', 'random_state': 10, 'reg_alpha': 0, 'reg_lambda': 1, 'scale_pos_weight': 1, 'seed': None, 'silent': True, 'subsample': 0.8}</td>\n",
       "    </tr>\n",
       "    <tr>\n",
       "      <th>8</th>\n",
       "      <td>0.8712</td>\n",
       "      <td>{'base_score': 0.5, 'booster': 'gbtree', 'colsample_bylevel': 1, 'colsample_bytree': 0.8, 'gamma': 0, 'learning_rate': 0.1, 'max_delta_step': 0, 'max_depth': 11, 'min_child_weight': 9, 'missing': None, 'n_estimators': 202, 'n_jobs': 1, 'nthread': 4, 'objective': 'binary:logistic', 'random_state': 10, 'reg_alpha': 0, 'reg_lambda': 1, 'scale_pos_weight': 1, 'seed': None, 'silent': True, 'subsample': 0.8}</td>\n",
       "    </tr>\n",
       "    <tr>\n",
       "      <th>2</th>\n",
       "      <td>0.8700</td>\n",
       "      <td>{'base_score': 0.5, 'booster': 'gbtree', 'colsample_bylevel': 1, 'colsample_bytree': 0.8, 'gamma': 0, 'learning_rate': 0.1, 'max_delta_step': 0, 'max_depth': 9, 'min_child_weight': 9, 'missing': None, 'n_estimators': 202, 'n_jobs': 1, 'nthread': 4, 'objective': 'binary:logistic', 'random_state': 10, 'reg_alpha': 0, 'reg_lambda': 1, 'scale_pos_weight': 1, 'seed': None, 'silent': True, 'subsample': 0.8}</td>\n",
       "    </tr>\n",
       "  </tbody>\n",
       "</table>\n",
       "</div>"
      ],
      "text/plain": [
       "   Accuracy  \\\n",
       "4  0.8748     \n",
       "7  0.8724     \n",
       "6  0.8720     \n",
       "8  0.8712     \n",
       "2  0.8700     \n",
       "\n",
       "                                                                                                                                                                                                                                                                                                                                                                                                                  Params  \n",
       "4  {'base_score': 0.5, 'booster': 'gbtree', 'colsample_bylevel': 1, 'colsample_bytree': 0.8, 'gamma': 0, 'learning_rate': 0.1, 'max_delta_step': 0, 'max_depth': 10, 'min_child_weight': 8, 'missing': None, 'n_estimators': 202, 'n_jobs': 1, 'nthread': 4, 'objective': 'binary:logistic', 'random_state': 10, 'reg_alpha': 0, 'reg_lambda': 1, 'scale_pos_weight': 1, 'seed': None, 'silent': True, 'subsample': 0.8}  \n",
       "7  {'base_score': 0.5, 'booster': 'gbtree', 'colsample_bylevel': 1, 'colsample_bytree': 0.8, 'gamma': 0, 'learning_rate': 0.1, 'max_delta_step': 0, 'max_depth': 11, 'min_child_weight': 8, 'missing': None, 'n_estimators': 202, 'n_jobs': 1, 'nthread': 4, 'objective': 'binary:logistic', 'random_state': 10, 'reg_alpha': 0, 'reg_lambda': 1, 'scale_pos_weight': 1, 'seed': None, 'silent': True, 'subsample': 0.8}  \n",
       "6  {'base_score': 0.5, 'booster': 'gbtree', 'colsample_bylevel': 1, 'colsample_bytree': 0.8, 'gamma': 0, 'learning_rate': 0.1, 'max_delta_step': 0, 'max_depth': 11, 'min_child_weight': 7, 'missing': None, 'n_estimators': 202, 'n_jobs': 1, 'nthread': 4, 'objective': 'binary:logistic', 'random_state': 10, 'reg_alpha': 0, 'reg_lambda': 1, 'scale_pos_weight': 1, 'seed': None, 'silent': True, 'subsample': 0.8}  \n",
       "8  {'base_score': 0.5, 'booster': 'gbtree', 'colsample_bylevel': 1, 'colsample_bytree': 0.8, 'gamma': 0, 'learning_rate': 0.1, 'max_delta_step': 0, 'max_depth': 11, 'min_child_weight': 9, 'missing': None, 'n_estimators': 202, 'n_jobs': 1, 'nthread': 4, 'objective': 'binary:logistic', 'random_state': 10, 'reg_alpha': 0, 'reg_lambda': 1, 'scale_pos_weight': 1, 'seed': None, 'silent': True, 'subsample': 0.8}  \n",
       "2  {'base_score': 0.5, 'booster': 'gbtree', 'colsample_bylevel': 1, 'colsample_bytree': 0.8, 'gamma': 0, 'learning_rate': 0.1, 'max_delta_step': 0, 'max_depth': 9, 'min_child_weight': 9, 'missing': None, 'n_estimators': 202, 'n_jobs': 1, 'nthread': 4, 'objective': 'binary:logistic', 'random_state': 10, 'reg_alpha': 0, 'reg_lambda': 1, 'scale_pos_weight': 1, 'seed': None, 'silent': True, 'subsample': 0.8}   "
      ]
     },
     "execution_count": 334,
     "metadata": {},
     "output_type": "execute_result"
    }
   ],
   "source": [
    "resultsDF = pd.DataFrame(columns = ['Accuracy', 'Params'])\n",
    "counter = 1\n",
    "\n",
    "for max_depth in [9, 10, 11]:\n",
    "    for min_child_weight in [7, 8, 9]:\n",
    "        xgb1 = getXGBModel()\n",
    "        xgb1.set_params(max_depth = int(max_depth), min_child_weight = int(min_child_weight))\n",
    "        acc = evalXGB(xgb1)\n",
    "            \n",
    "        resultsDF.loc[len(resultsDF)] = list([\n",
    "            acc,\n",
    "            xgb1.get_params()\n",
    "        ])\n",
    "        \n",
    "        counter += 1\n",
    "        \n",
    "print(\"\\nFinished!\")\n",
    "\n",
    "pd.set_option('display.max_colwidth', -1)\n",
    "resultsDF.sort_values(by = ['Accuracy'], ascending = [False]).head()"
   ]
  },
  {
   "cell_type": "markdown",
   "metadata": {},
   "source": [
    "---\n",
    "There was no change, so we'll keep the original values for `max_depth` and `min_child_weight`."
   ]
  },
  {
   "cell_type": "markdown",
   "metadata": {},
   "source": [
    "## Tune gamma, subsample and colsample_bytree"
   ]
  },
  {
   "cell_type": "markdown",
   "metadata": {},
   "source": [
    "### Gamma tuning\n",
    "\n",
    "From my research there wasn't a clear consensus on a good, initial value for gamma tuning.  As such we'll start with a wide range and then zero in on the best value for our problem."
   ]
  },
  {
   "cell_type": "markdown",
   "metadata": {},
   "source": [
    "Training results--not shown here--for the following gamma values had no effect on the model's performance:\n",
    "\n",
    "* [.1, .5, 1, 5]\n",
    "* [10, 15, 20]\n",
    "* [.01, .001, .0001]\n",
    "\n",
    "As such the gamma value of zero will be retained."
   ]
  },
  {
   "cell_type": "markdown",
   "metadata": {
    "ExecuteTime": {
     "end_time": "2018-12-03T21:35:06.309933Z",
     "start_time": "2018-12-03T21:35:05.989563Z"
    }
   },
   "source": [
    "### Calculate optimal n_estimators value\n",
    "\n",
    "Let's go ahead and update--if required--the optimal n_estimators value:"
   ]
  },
  {
   "cell_type": "code",
   "execution_count": 336,
   "metadata": {
    "ExecuteTime": {
     "end_time": "2018-12-07T19:53:14.355176Z",
     "start_time": "2018-12-07T19:22:50.274678Z"
    }
   },
   "outputs": [
    {
     "data": {
      "text/plain": [
       "XGBClassifier(base_score=0.5, booster='gbtree', colsample_bylevel=1,\n",
       "       colsample_bytree=0.8, gamma=0, learning_rate=0.1, max_delta_step=0,\n",
       "       max_depth=10, min_child_weight=8, missing=None, n_estimators=630,\n",
       "       n_jobs=1, nthread=4, objective='binary:logistic', random_state=10,\n",
       "       reg_alpha=0, reg_lambda=1, scale_pos_weight=1, seed=None,\n",
       "       silent=True, subsample=0.8)"
      ]
     },
     "execution_count": 336,
     "metadata": {},
     "output_type": "execute_result"
    }
   ],
   "source": [
    "xgb1 = getXGBModelv2()\n",
    "xgb1.set_params(gamma = 0, n_estimators=5000)\n",
    "\n",
    "params = xgb1.get_xgb_params()\n",
    "dmatrix = xg.DMatrix(X_train, label=y_train)\n",
    "\n",
    "cv = xg.cv(\n",
    "    params, \n",
    "    dmatrix, \n",
    "    num_boost_round = xgb1.get_params()['n_estimators'], \n",
    "    nfold = 5,\n",
    "    metrics = 'auc',\n",
    "    early_stopping_rounds=25\n",
    ")\n",
    "\n",
    "# Assign best n_estimators value to our model\n",
    "xgb1.set_params(n_estimators = cv.shape[0])"
   ]
  },
  {
   "cell_type": "markdown",
   "metadata": {},
   "source": [
    "The n_estimators value has changed to 630."
   ]
  },
  {
   "cell_type": "markdown",
   "metadata": {},
   "source": [
    "###  subsample and colsample_bytree tuning\n",
    "\n",
    "* subsample [default=1]\n",
    "  * Same as the subsample of GBM. Denotes the fraction of observations to be randomly samples for each tree.\n",
    "  * Lower values make the algorithm more conservative and prevents overfitting but too small values might lead to under-fitting.\n",
    "  * Typical values: 0.5-1\n",
    "\n",
    "\n",
    "* colsample_bytree [default=1]\n",
    "  * Similar to max_features in GBM. Denotes the fraction of columns to be randomly samples for each tree.\n",
    "  * Typical values: 0.5-1"
   ]
  },
  {
   "cell_type": "code",
   "execution_count": 337,
   "metadata": {
    "ExecuteTime": {
     "end_time": "2018-12-07T20:53:28.446966Z",
     "start_time": "2018-12-07T20:53:28.050917Z"
    }
   },
   "outputs": [],
   "source": [
    "def getXGBModelv3():\n",
    "    model = xg.XGBClassifier(base_score=0.5, booster='gbtree', colsample_bylevel=1,\n",
    "       colsample_bytree=0.8, gamma=0, learning_rate=0.1, max_delta_step=0,\n",
    "       max_depth=10, min_child_weight=8, missing=None, n_estimators=630,\n",
    "       n_jobs=1, nthread=4, objective='binary:logistic', random_state=10,\n",
    "       reg_alpha=0, reg_lambda=1, scale_pos_weight=1, seed=None,\n",
    "       silent=True, subsample=0.8)\n",
    "    return model"
   ]
  },
  {
   "cell_type": "code",
   "execution_count": 338,
   "metadata": {
    "ExecuteTime": {
     "end_time": "2018-12-07T22:27:23.736732Z",
     "start_time": "2018-12-07T20:54:04.159878Z"
    },
    "scrolled": false
   },
   "outputs": [
    {
     "name": "stdout",
     "output_type": "stream",
     "text": [
      "\n",
      "Finished!\n"
     ]
    },
    {
     "data": {
      "text/html": [
       "<div>\n",
       "<style scoped>\n",
       "    .dataframe tbody tr th:only-of-type {\n",
       "        vertical-align: middle;\n",
       "    }\n",
       "\n",
       "    .dataframe tbody tr th {\n",
       "        vertical-align: top;\n",
       "    }\n",
       "\n",
       "    .dataframe thead th {\n",
       "        text-align: right;\n",
       "    }\n",
       "</style>\n",
       "<table border=\"1\" class=\"dataframe\">\n",
       "  <thead>\n",
       "    <tr style=\"text-align: right;\">\n",
       "      <th></th>\n",
       "      <th>Accuracy</th>\n",
       "      <th>Params</th>\n",
       "    </tr>\n",
       "  </thead>\n",
       "  <tbody>\n",
       "    <tr>\n",
       "      <th>1</th>\n",
       "      <td>0.8784</td>\n",
       "      <td>{'base_score': 0.5, 'booster': 'gbtree', 'colsample_bylevel': 1, 'colsample_bytree': 0.6, 'gamma': 0, 'learning_rate': 0.1, 'max_delta_step': 0, 'max_depth': 10, 'min_child_weight': 8, 'missing': None, 'n_estimators': 630, 'n_jobs': 1, 'nthread': 4, 'objective': 'binary:logistic', 'random_state': 10, 'reg_alpha': 0, 'reg_lambda': 1, 'scale_pos_weight': 1, 'seed': None, 'silent': True, 'subsample': 0.5}</td>\n",
       "    </tr>\n",
       "    <tr>\n",
       "      <th>14</th>\n",
       "      <td>0.8764</td>\n",
       "      <td>{'base_score': 0.5, 'booster': 'gbtree', 'colsample_bylevel': 1, 'colsample_bytree': 0.9, 'gamma': 0, 'learning_rate': 0.1, 'max_delta_step': 0, 'max_depth': 10, 'min_child_weight': 8, 'missing': None, 'n_estimators': 630, 'n_jobs': 1, 'nthread': 4, 'objective': 'binary:logistic', 'random_state': 10, 'reg_alpha': 0, 'reg_lambda': 1, 'scale_pos_weight': 1, 'seed': None, 'silent': True, 'subsample': 0.7}</td>\n",
       "    </tr>\n",
       "    <tr>\n",
       "      <th>10</th>\n",
       "      <td>0.8760</td>\n",
       "      <td>{'base_score': 0.5, 'booster': 'gbtree', 'colsample_bylevel': 1, 'colsample_bytree': 0.5, 'gamma': 0, 'learning_rate': 0.1, 'max_delta_step': 0, 'max_depth': 10, 'min_child_weight': 8, 'missing': None, 'n_estimators': 630, 'n_jobs': 1, 'nthread': 4, 'objective': 'binary:logistic', 'random_state': 10, 'reg_alpha': 0, 'reg_lambda': 1, 'scale_pos_weight': 1, 'seed': None, 'silent': True, 'subsample': 0.7}</td>\n",
       "    </tr>\n",
       "    <tr>\n",
       "      <th>7</th>\n",
       "      <td>0.8760</td>\n",
       "      <td>{'base_score': 0.5, 'booster': 'gbtree', 'colsample_bylevel': 1, 'colsample_bytree': 0.7, 'gamma': 0, 'learning_rate': 0.1, 'max_delta_step': 0, 'max_depth': 10, 'min_child_weight': 8, 'missing': None, 'n_estimators': 630, 'n_jobs': 1, 'nthread': 4, 'objective': 'binary:logistic', 'random_state': 10, 'reg_alpha': 0, 'reg_lambda': 1, 'scale_pos_weight': 1, 'seed': None, 'silent': True, 'subsample': 0.6}</td>\n",
       "    </tr>\n",
       "    <tr>\n",
       "      <th>20</th>\n",
       "      <td>0.8760</td>\n",
       "      <td>{'base_score': 0.5, 'booster': 'gbtree', 'colsample_bylevel': 1, 'colsample_bytree': 0.5, 'gamma': 0, 'learning_rate': 0.1, 'max_delta_step': 0, 'max_depth': 10, 'min_child_weight': 8, 'missing': None, 'n_estimators': 630, 'n_jobs': 1, 'nthread': 4, 'objective': 'binary:logistic', 'random_state': 10, 'reg_alpha': 0, 'reg_lambda': 1, 'scale_pos_weight': 1, 'seed': None, 'silent': True, 'subsample': 0.9}</td>\n",
       "    </tr>\n",
       "  </tbody>\n",
       "</table>\n",
       "</div>"
      ],
      "text/plain": [
       "    Accuracy  \\\n",
       "1   0.8784     \n",
       "14  0.8764     \n",
       "10  0.8760     \n",
       "7   0.8760     \n",
       "20  0.8760     \n",
       "\n",
       "                                                                                                                                                                                                                                                                                                                                                                                                                   Params  \n",
       "1   {'base_score': 0.5, 'booster': 'gbtree', 'colsample_bylevel': 1, 'colsample_bytree': 0.6, 'gamma': 0, 'learning_rate': 0.1, 'max_delta_step': 0, 'max_depth': 10, 'min_child_weight': 8, 'missing': None, 'n_estimators': 630, 'n_jobs': 1, 'nthread': 4, 'objective': 'binary:logistic', 'random_state': 10, 'reg_alpha': 0, 'reg_lambda': 1, 'scale_pos_weight': 1, 'seed': None, 'silent': True, 'subsample': 0.5}  \n",
       "14  {'base_score': 0.5, 'booster': 'gbtree', 'colsample_bylevel': 1, 'colsample_bytree': 0.9, 'gamma': 0, 'learning_rate': 0.1, 'max_delta_step': 0, 'max_depth': 10, 'min_child_weight': 8, 'missing': None, 'n_estimators': 630, 'n_jobs': 1, 'nthread': 4, 'objective': 'binary:logistic', 'random_state': 10, 'reg_alpha': 0, 'reg_lambda': 1, 'scale_pos_weight': 1, 'seed': None, 'silent': True, 'subsample': 0.7}  \n",
       "10  {'base_score': 0.5, 'booster': 'gbtree', 'colsample_bylevel': 1, 'colsample_bytree': 0.5, 'gamma': 0, 'learning_rate': 0.1, 'max_delta_step': 0, 'max_depth': 10, 'min_child_weight': 8, 'missing': None, 'n_estimators': 630, 'n_jobs': 1, 'nthread': 4, 'objective': 'binary:logistic', 'random_state': 10, 'reg_alpha': 0, 'reg_lambda': 1, 'scale_pos_weight': 1, 'seed': None, 'silent': True, 'subsample': 0.7}  \n",
       "7   {'base_score': 0.5, 'booster': 'gbtree', 'colsample_bylevel': 1, 'colsample_bytree': 0.7, 'gamma': 0, 'learning_rate': 0.1, 'max_delta_step': 0, 'max_depth': 10, 'min_child_weight': 8, 'missing': None, 'n_estimators': 630, 'n_jobs': 1, 'nthread': 4, 'objective': 'binary:logistic', 'random_state': 10, 'reg_alpha': 0, 'reg_lambda': 1, 'scale_pos_weight': 1, 'seed': None, 'silent': True, 'subsample': 0.6}  \n",
       "20  {'base_score': 0.5, 'booster': 'gbtree', 'colsample_bylevel': 1, 'colsample_bytree': 0.5, 'gamma': 0, 'learning_rate': 0.1, 'max_delta_step': 0, 'max_depth': 10, 'min_child_weight': 8, 'missing': None, 'n_estimators': 630, 'n_jobs': 1, 'nthread': 4, 'objective': 'binary:logistic', 'random_state': 10, 'reg_alpha': 0, 'reg_lambda': 1, 'scale_pos_weight': 1, 'seed': None, 'silent': True, 'subsample': 0.9}  "
      ]
     },
     "execution_count": 338,
     "metadata": {},
     "output_type": "execute_result"
    }
   ],
   "source": [
    "resultsDF = pd.DataFrame(columns = ['Accuracy', 'Params'])\n",
    "counter = 1\n",
    "\n",
    "for subsample in np.linspace(0.5, 0.9, 5):\n",
    "    for colsample_bytree in np.linspace(0.5, 0.9, 5):\n",
    "        xgb1 = getXGBModelv3()\n",
    "        xgb1.set_params(subsample = subsample, colsample_bytree = colsample_bytree)\n",
    "        acc = evalXGB(xgb1)\n",
    "            \n",
    "        resultsDF.loc[len(resultsDF)] = list([\n",
    "            acc,\n",
    "            xgb1.get_params()\n",
    "        ])\n",
    "        \n",
    "        counter += 1\n",
    "        \n",
    "print(\"\\nFinished!\")\n",
    "\n",
    "pd.set_option('display.max_colwidth', -1)\n",
    "resultsDF.sort_values(by = ['Accuracy'], ascending = [False]).head()"
   ]
  },
  {
   "cell_type": "markdown",
   "metadata": {},
   "source": [
    "---\n",
    "Best parameter value for `subsample` was 0.5, and the best parameter value for `colsample_bytree` was 0.6.  The accuracy rate for this combination went up slightly from 0.8748 to 0.8784."
   ]
  },
  {
   "cell_type": "markdown",
   "metadata": {},
   "source": [
    "## Tune regularization params, reg_alpha and reg_lambda"
   ]
  },
  {
   "cell_type": "markdown",
   "metadata": {},
   "source": [
    "* reg_lambda [default=1]\n",
    "  * L2 regularization term on weights (analogous to Ridge regression)\n",
    "  * This used to handle the regularization part of XGBoost. Though many data scientists don’t use it often, it should be explored to reduce overfitting.\n",
    "\n",
    "\n",
    "* reg_alpha [default=0]\n",
    "  * L1 regularization term on weight (analogous to Lasso regression)\n",
    "  * Can be used in case of very high dimensionality so that the algorithm runs faster when implemented"
   ]
  },
  {
   "cell_type": "code",
   "execution_count": 339,
   "metadata": {
    "ExecuteTime": {
     "end_time": "2018-12-07T23:16:13.639153Z",
     "start_time": "2018-12-07T23:16:13.295239Z"
    }
   },
   "outputs": [],
   "source": [
    "def getXGBModelv4():\n",
    "    model = xg.XGBClassifier(base_score=0.5, booster='gbtree', colsample_bylevel=1,\n",
    "       colsample_bytree=0.6, gamma=0, learning_rate=0.1, max_delta_step=0,\n",
    "       max_depth=10, min_child_weight=8, missing=None, n_estimators=630,\n",
    "       n_jobs=1, nthread=4, objective='binary:logistic', random_state=10,\n",
    "       reg_alpha=0, reg_lambda=1, scale_pos_weight=1, seed=None,\n",
    "       silent=True, subsample=0.5)\n",
    "    return model"
   ]
  },
  {
   "cell_type": "code",
   "execution_count": 340,
   "metadata": {
    "ExecuteTime": {
     "end_time": "2018-12-08T00:18:40.065915Z",
     "start_time": "2018-12-07T23:16:35.118579Z"
    },
    "scrolled": true
   },
   "outputs": [
    {
     "name": "stdout",
     "output_type": "stream",
     "text": [
      "\n",
      "Finished!\n"
     ]
    },
    {
     "data": {
      "text/html": [
       "<div>\n",
       "<style scoped>\n",
       "    .dataframe tbody tr th:only-of-type {\n",
       "        vertical-align: middle;\n",
       "    }\n",
       "\n",
       "    .dataframe tbody tr th {\n",
       "        vertical-align: top;\n",
       "    }\n",
       "\n",
       "    .dataframe thead th {\n",
       "        text-align: right;\n",
       "    }\n",
       "</style>\n",
       "<table border=\"1\" class=\"dataframe\">\n",
       "  <thead>\n",
       "    <tr style=\"text-align: right;\">\n",
       "      <th></th>\n",
       "      <th>Accuracy</th>\n",
       "      <th>Params</th>\n",
       "    </tr>\n",
       "  </thead>\n",
       "  <tbody>\n",
       "    <tr>\n",
       "      <th>10</th>\n",
       "      <td>0.8784</td>\n",
       "      <td>{'base_score': 0.5, 'booster': 'gbtree', 'colsample_bylevel': 1, 'colsample_bytree': 0.6, 'gamma': 0, 'learning_rate': 0.1, 'max_delta_step': 0, 'max_depth': 10, 'min_child_weight': 8, 'missing': None, 'n_estimators': 630, 'n_jobs': 1, 'nthread': 4, 'objective': 'binary:logistic', 'random_state': 10, 'reg_alpha': 0, 'reg_lambda': 1, 'scale_pos_weight': 1, 'seed': None, 'silent': True, 'subsample': 0.5}</td>\n",
       "    </tr>\n",
       "    <tr>\n",
       "      <th>11</th>\n",
       "      <td>0.8784</td>\n",
       "      <td>{'base_score': 0.5, 'booster': 'gbtree', 'colsample_bylevel': 1, 'colsample_bytree': 0.6, 'gamma': 0, 'learning_rate': 0.1, 'max_delta_step': 0, 'max_depth': 10, 'min_child_weight': 8, 'missing': None, 'n_estimators': 630, 'n_jobs': 1, 'nthread': 4, 'objective': 'binary:logistic', 'random_state': 10, 'reg_alpha': 0.0001, 'reg_lambda': 1, 'scale_pos_weight': 1, 'seed': None, 'silent': True, 'subsample': 0.5}</td>\n",
       "    </tr>\n",
       "    <tr>\n",
       "      <th>6</th>\n",
       "      <td>0.8764</td>\n",
       "      <td>{'base_score': 0.5, 'booster': 'gbtree', 'colsample_bylevel': 1, 'colsample_bytree': 0.6, 'gamma': 0, 'learning_rate': 0.1, 'max_delta_step': 0, 'max_depth': 10, 'min_child_weight': 8, 'missing': None, 'n_estimators': 630, 'n_jobs': 1, 'nthread': 4, 'objective': 'binary:logistic', 'random_state': 10, 'reg_alpha': 0.0001, 'reg_lambda': 0.5, 'scale_pos_weight': 1, 'seed': None, 'silent': True, 'subsample': 0.5}</td>\n",
       "    </tr>\n",
       "    <tr>\n",
       "      <th>1</th>\n",
       "      <td>0.8756</td>\n",
       "      <td>{'base_score': 0.5, 'booster': 'gbtree', 'colsample_bylevel': 1, 'colsample_bytree': 0.6, 'gamma': 0, 'learning_rate': 0.1, 'max_delta_step': 0, 'max_depth': 10, 'min_child_weight': 8, 'missing': None, 'n_estimators': 630, 'n_jobs': 1, 'nthread': 4, 'objective': 'binary:logistic', 'random_state': 10, 'reg_alpha': 0.0001, 'reg_lambda': 0.1, 'scale_pos_weight': 1, 'seed': None, 'silent': True, 'subsample': 0.5}</td>\n",
       "    </tr>\n",
       "    <tr>\n",
       "      <th>22</th>\n",
       "      <td>0.8756</td>\n",
       "      <td>{'base_score': 0.5, 'booster': 'gbtree', 'colsample_bylevel': 1, 'colsample_bytree': 0.6, 'gamma': 0, 'learning_rate': 0.1, 'max_delta_step': 0, 'max_depth': 10, 'min_child_weight': 8, 'missing': None, 'n_estimators': 630, 'n_jobs': 1, 'nthread': 4, 'objective': 'binary:logistic', 'random_state': 10, 'reg_alpha': 0.001, 'reg_lambda': 2, 'scale_pos_weight': 1, 'seed': None, 'silent': True, 'subsample': 0.5}</td>\n",
       "    </tr>\n",
       "  </tbody>\n",
       "</table>\n",
       "</div>"
      ],
      "text/plain": [
       "    Accuracy  \\\n",
       "10  0.8784     \n",
       "11  0.8784     \n",
       "6   0.8764     \n",
       "1   0.8756     \n",
       "22  0.8756     \n",
       "\n",
       "                                                                                                                                                                                                                                                                                                                                                                                                                          Params  \n",
       "10  {'base_score': 0.5, 'booster': 'gbtree', 'colsample_bylevel': 1, 'colsample_bytree': 0.6, 'gamma': 0, 'learning_rate': 0.1, 'max_delta_step': 0, 'max_depth': 10, 'min_child_weight': 8, 'missing': None, 'n_estimators': 630, 'n_jobs': 1, 'nthread': 4, 'objective': 'binary:logistic', 'random_state': 10, 'reg_alpha': 0, 'reg_lambda': 1, 'scale_pos_weight': 1, 'seed': None, 'silent': True, 'subsample': 0.5}         \n",
       "11  {'base_score': 0.5, 'booster': 'gbtree', 'colsample_bylevel': 1, 'colsample_bytree': 0.6, 'gamma': 0, 'learning_rate': 0.1, 'max_delta_step': 0, 'max_depth': 10, 'min_child_weight': 8, 'missing': None, 'n_estimators': 630, 'n_jobs': 1, 'nthread': 4, 'objective': 'binary:logistic', 'random_state': 10, 'reg_alpha': 0.0001, 'reg_lambda': 1, 'scale_pos_weight': 1, 'seed': None, 'silent': True, 'subsample': 0.5}    \n",
       "6   {'base_score': 0.5, 'booster': 'gbtree', 'colsample_bylevel': 1, 'colsample_bytree': 0.6, 'gamma': 0, 'learning_rate': 0.1, 'max_delta_step': 0, 'max_depth': 10, 'min_child_weight': 8, 'missing': None, 'n_estimators': 630, 'n_jobs': 1, 'nthread': 4, 'objective': 'binary:logistic', 'random_state': 10, 'reg_alpha': 0.0001, 'reg_lambda': 0.5, 'scale_pos_weight': 1, 'seed': None, 'silent': True, 'subsample': 0.5}  \n",
       "1   {'base_score': 0.5, 'booster': 'gbtree', 'colsample_bylevel': 1, 'colsample_bytree': 0.6, 'gamma': 0, 'learning_rate': 0.1, 'max_delta_step': 0, 'max_depth': 10, 'min_child_weight': 8, 'missing': None, 'n_estimators': 630, 'n_jobs': 1, 'nthread': 4, 'objective': 'binary:logistic', 'random_state': 10, 'reg_alpha': 0.0001, 'reg_lambda': 0.1, 'scale_pos_weight': 1, 'seed': None, 'silent': True, 'subsample': 0.5}  \n",
       "22  {'base_score': 0.5, 'booster': 'gbtree', 'colsample_bylevel': 1, 'colsample_bytree': 0.6, 'gamma': 0, 'learning_rate': 0.1, 'max_delta_step': 0, 'max_depth': 10, 'min_child_weight': 8, 'missing': None, 'n_estimators': 630, 'n_jobs': 1, 'nthread': 4, 'objective': 'binary:logistic', 'random_state': 10, 'reg_alpha': 0.001, 'reg_lambda': 2, 'scale_pos_weight': 1, 'seed': None, 'silent': True, 'subsample': 0.5}     "
      ]
     },
     "execution_count": 340,
     "metadata": {},
     "output_type": "execute_result"
    }
   ],
   "source": [
    "resultsDF = pd.DataFrame(columns = ['Accuracy', 'Params'])\n",
    "counter = 1\n",
    "\n",
    "for reg_lambda in [0.1, 0.5, 1, 1.5, 2]:\n",
    "    for reg_alpha in [0, 0.0001, 0.001, 0.1, 1]:\n",
    "        xgb1 = getXGBModelv4()\n",
    "        xgb1.set_params(reg_lambda = reg_lambda, reg_alpha = reg_alpha)\n",
    "        acc = evalXGB(xgb1)\n",
    "            \n",
    "        resultsDF.loc[len(resultsDF)] = list([\n",
    "            acc,\n",
    "            xgb1.get_params()\n",
    "        ])\n",
    "        \n",
    "        counter += 1\n",
    "        \n",
    "print(\"\\nFinished!\")\n",
    "\n",
    "pd.set_option('display.max_colwidth', -1)\n",
    "resultsDF.sort_values(by = ['Accuracy'], ascending = [False]).head()"
   ]
  },
  {
   "cell_type": "markdown",
   "metadata": {},
   "source": [
    "---\n",
    "There was no improvement in accuracy against the validation set after tuning the regularization parameters, so we'll keep the existing regularization default parameter values."
   ]
  },
  {
   "cell_type": "markdown",
   "metadata": {},
   "source": [
    "## Obtain new n_estimators value"
   ]
  },
  {
   "cell_type": "code",
   "execution_count": 341,
   "metadata": {
    "ExecuteTime": {
     "end_time": "2018-12-10T15:28:27.491604Z",
     "start_time": "2018-12-10T15:17:32.457153Z"
    }
   },
   "outputs": [
    {
     "data": {
      "text/plain": [
       "XGBClassifier(base_score=0.5, booster='gbtree', colsample_bylevel=1,\n",
       "       colsample_bytree=0.6, gamma=0, learning_rate=0.1, max_delta_step=0,\n",
       "       max_depth=10, min_child_weight=8, missing=None, n_estimators=377,\n",
       "       n_jobs=1, nthread=4, objective='binary:logistic', random_state=10,\n",
       "       reg_alpha=0, reg_lambda=1, scale_pos_weight=1, seed=None,\n",
       "       silent=True, subsample=0.5)"
      ]
     },
     "execution_count": 341,
     "metadata": {},
     "output_type": "execute_result"
    }
   ],
   "source": [
    "xgb1 = getXGBModelv4()\n",
    "xgb1.set_params(n_estimators=5000)\n",
    "\n",
    "params = xgb1.get_xgb_params()\n",
    "dmatrix = xg.DMatrix(X_train, label=y_train)\n",
    "\n",
    "cv = xg.cv(\n",
    "    params, \n",
    "    dmatrix, \n",
    "    num_boost_round = xgb1.get_params()['n_estimators'], \n",
    "    nfold = 5,\n",
    "    metrics = 'auc',\n",
    "    early_stopping_rounds=25\n",
    ")\n",
    "\n",
    "# Assign best n_estimators value to our model\n",
    "xgb1.set_params(n_estimators = cv.shape[0])"
   ]
  },
  {
   "cell_type": "markdown",
   "metadata": {},
   "source": [
    "The optimal `n_estimators` value has changed to 377."
   ]
  },
  {
   "cell_type": "markdown",
   "metadata": {},
   "source": [
    "## Tune the learning rate and re-eval n_estimators\n",
    "\n",
    "Next we'll examine tuning the learning rate.  As in previous cells we'll start with a wide spread of potential best values, and then narrow down if it appears we've found a effective new parameter value that differs from the default."
   ]
  },
  {
   "cell_type": "code",
   "execution_count": 343,
   "metadata": {
    "ExecuteTime": {
     "end_time": "2018-12-10T15:49:02.348410Z",
     "start_time": "2018-12-10T15:49:02.013361Z"
    }
   },
   "outputs": [],
   "source": [
    "def getXGBModelv5():\n",
    "    model = xg.XGBClassifier(base_score=0.5, booster='gbtree', colsample_bylevel=1,\n",
    "       colsample_bytree=0.6, gamma=0, learning_rate=0.1, max_delta_step=0,\n",
    "       max_depth=10, min_child_weight=8, missing=None, n_estimators=377,\n",
    "       n_jobs=1, nthread=4, objective='binary:logistic', random_state=10,\n",
    "       reg_alpha=0, reg_lambda=1, scale_pos_weight=1, seed=None,\n",
    "       silent=True, subsample=0.5)\n",
    "    return model"
   ]
  },
  {
   "cell_type": "code",
   "execution_count": 344,
   "metadata": {
    "ExecuteTime": {
     "end_time": "2018-12-10T15:52:11.372559Z",
     "start_time": "2018-12-10T15:49:15.209648Z"
    }
   },
   "outputs": [
    {
     "name": "stdout",
     "output_type": "stream",
     "text": [
      "\n",
      "Finished!\n"
     ]
    },
    {
     "data": {
      "text/html": [
       "<div>\n",
       "<style scoped>\n",
       "    .dataframe tbody tr th:only-of-type {\n",
       "        vertical-align: middle;\n",
       "    }\n",
       "\n",
       "    .dataframe tbody tr th {\n",
       "        vertical-align: top;\n",
       "    }\n",
       "\n",
       "    .dataframe thead th {\n",
       "        text-align: right;\n",
       "    }\n",
       "</style>\n",
       "<table border=\"1\" class=\"dataframe\">\n",
       "  <thead>\n",
       "    <tr style=\"text-align: right;\">\n",
       "      <th></th>\n",
       "      <th>Accuracy</th>\n",
       "      <th>Params</th>\n",
       "    </tr>\n",
       "  </thead>\n",
       "  <tbody>\n",
       "    <tr>\n",
       "      <th>1</th>\n",
       "      <td>0.8508</td>\n",
       "      <td>{'base_score': 0.5, 'booster': 'gbtree', 'colsample_bylevel': 1, 'colsample_bytree': 0.6, 'gamma': 0, 'learning_rate': 0.5, 'max_delta_step': 0, 'max_depth': 10, 'min_child_weight': 8, 'missing': None, 'n_estimators': 377, 'n_jobs': 1, 'nthread': 4, 'objective': 'binary:logistic', 'random_state': 10, 'reg_alpha': 0, 'reg_lambda': 1, 'scale_pos_weight': 1, 'seed': None, 'silent': True, 'subsample': 0.5}</td>\n",
       "    </tr>\n",
       "    <tr>\n",
       "      <th>0</th>\n",
       "      <td>0.8504</td>\n",
       "      <td>{'base_score': 0.5, 'booster': 'gbtree', 'colsample_bylevel': 1, 'colsample_bytree': 0.6, 'gamma': 0, 'learning_rate': 0.001, 'max_delta_step': 0, 'max_depth': 10, 'min_child_weight': 8, 'missing': None, 'n_estimators': 377, 'n_jobs': 1, 'nthread': 4, 'objective': 'binary:logistic', 'random_state': 10, 'reg_alpha': 0, 'reg_lambda': 1, 'scale_pos_weight': 1, 'seed': None, 'silent': True, 'subsample': 0.5}</td>\n",
       "    </tr>\n",
       "    <tr>\n",
       "      <th>2</th>\n",
       "      <td>0.7920</td>\n",
       "      <td>{'base_score': 0.5, 'booster': 'gbtree', 'colsample_bylevel': 1, 'colsample_bytree': 0.6, 'gamma': 0, 'learning_rate': 1.5, 'max_delta_step': 0, 'max_depth': 10, 'min_child_weight': 8, 'missing': None, 'n_estimators': 377, 'n_jobs': 1, 'nthread': 4, 'objective': 'binary:logistic', 'random_state': 10, 'reg_alpha': 0, 'reg_lambda': 1, 'scale_pos_weight': 1, 'seed': None, 'silent': True, 'subsample': 0.5}</td>\n",
       "    </tr>\n",
       "    <tr>\n",
       "      <th>3</th>\n",
       "      <td>0.7708</td>\n",
       "      <td>{'base_score': 0.5, 'booster': 'gbtree', 'colsample_bylevel': 1, 'colsample_bytree': 0.6, 'gamma': 0, 'learning_rate': 3, 'max_delta_step': 0, 'max_depth': 10, 'min_child_weight': 8, 'missing': None, 'n_estimators': 377, 'n_jobs': 1, 'nthread': 4, 'objective': 'binary:logistic', 'random_state': 10, 'reg_alpha': 0, 'reg_lambda': 1, 'scale_pos_weight': 1, 'seed': None, 'silent': True, 'subsample': 0.5}</td>\n",
       "    </tr>\n",
       "  </tbody>\n",
       "</table>\n",
       "</div>"
      ],
      "text/plain": [
       "   Accuracy  \\\n",
       "1  0.8508     \n",
       "0  0.8504     \n",
       "2  0.7920     \n",
       "3  0.7708     \n",
       "\n",
       "                                                                                                                                                                                                                                                                                                                                                                                                                    Params  \n",
       "1  {'base_score': 0.5, 'booster': 'gbtree', 'colsample_bylevel': 1, 'colsample_bytree': 0.6, 'gamma': 0, 'learning_rate': 0.5, 'max_delta_step': 0, 'max_depth': 10, 'min_child_weight': 8, 'missing': None, 'n_estimators': 377, 'n_jobs': 1, 'nthread': 4, 'objective': 'binary:logistic', 'random_state': 10, 'reg_alpha': 0, 'reg_lambda': 1, 'scale_pos_weight': 1, 'seed': None, 'silent': True, 'subsample': 0.5}    \n",
       "0  {'base_score': 0.5, 'booster': 'gbtree', 'colsample_bylevel': 1, 'colsample_bytree': 0.6, 'gamma': 0, 'learning_rate': 0.001, 'max_delta_step': 0, 'max_depth': 10, 'min_child_weight': 8, 'missing': None, 'n_estimators': 377, 'n_jobs': 1, 'nthread': 4, 'objective': 'binary:logistic', 'random_state': 10, 'reg_alpha': 0, 'reg_lambda': 1, 'scale_pos_weight': 1, 'seed': None, 'silent': True, 'subsample': 0.5}  \n",
       "2  {'base_score': 0.5, 'booster': 'gbtree', 'colsample_bylevel': 1, 'colsample_bytree': 0.6, 'gamma': 0, 'learning_rate': 1.5, 'max_delta_step': 0, 'max_depth': 10, 'min_child_weight': 8, 'missing': None, 'n_estimators': 377, 'n_jobs': 1, 'nthread': 4, 'objective': 'binary:logistic', 'random_state': 10, 'reg_alpha': 0, 'reg_lambda': 1, 'scale_pos_weight': 1, 'seed': None, 'silent': True, 'subsample': 0.5}    \n",
       "3  {'base_score': 0.5, 'booster': 'gbtree', 'colsample_bylevel': 1, 'colsample_bytree': 0.6, 'gamma': 0, 'learning_rate': 3, 'max_delta_step': 0, 'max_depth': 10, 'min_child_weight': 8, 'missing': None, 'n_estimators': 377, 'n_jobs': 1, 'nthread': 4, 'objective': 'binary:logistic', 'random_state': 10, 'reg_alpha': 0, 'reg_lambda': 1, 'scale_pos_weight': 1, 'seed': None, 'silent': True, 'subsample': 0.5}      "
      ]
     },
     "execution_count": 344,
     "metadata": {},
     "output_type": "execute_result"
    }
   ],
   "source": [
    "resultsDF = pd.DataFrame(columns = ['Accuracy', 'Params'])\n",
    "counter = 1\n",
    "\n",
    "for learning_rate in [0.001, .5, 1.5, 3]:\n",
    "    xgb1 = getXGBModelv5()\n",
    "    xgb1.set_params(learning_rate = learning_rate)\n",
    "    acc = evalXGB(xgb1)\n",
    "\n",
    "    resultsDF.loc[len(resultsDF)] = list([\n",
    "        acc,\n",
    "        xgb1.get_params()\n",
    "    ])\n",
    "\n",
    "    counter += 1\n",
    "        \n",
    "print(\"\\nFinished!\")\n",
    "\n",
    "pd.set_option('display.max_colwidth', -1)\n",
    "resultsDF.sort_values(by = ['Accuracy'], ascending = [False]).head()"
   ]
  },
  {
   "cell_type": "markdown",
   "metadata": {},
   "source": [
    "---\n",
    "No improvement at all.  We'll try one more time with small steps around the default learning rate of 0.1"
   ]
  },
  {
   "cell_type": "code",
   "execution_count": 345,
   "metadata": {
    "ExecuteTime": {
     "end_time": "2018-12-10T16:19:11.481209Z",
     "start_time": "2018-12-10T16:09:21.580614Z"
    }
   },
   "outputs": [
    {
     "name": "stdout",
     "output_type": "stream",
     "text": [
      "\n",
      "Finished!\n"
     ]
    },
    {
     "data": {
      "text/html": [
       "<div>\n",
       "<style scoped>\n",
       "    .dataframe tbody tr th:only-of-type {\n",
       "        vertical-align: middle;\n",
       "    }\n",
       "\n",
       "    .dataframe tbody tr th {\n",
       "        vertical-align: top;\n",
       "    }\n",
       "\n",
       "    .dataframe thead th {\n",
       "        text-align: right;\n",
       "    }\n",
       "</style>\n",
       "<table border=\"1\" class=\"dataframe\">\n",
       "  <thead>\n",
       "    <tr style=\"text-align: right;\">\n",
       "      <th></th>\n",
       "      <th>Accuracy</th>\n",
       "      <th>Params</th>\n",
       "    </tr>\n",
       "  </thead>\n",
       "  <tbody>\n",
       "    <tr>\n",
       "      <th>1</th>\n",
       "      <td>0.8712</td>\n",
       "      <td>{'base_score': 0.5, 'booster': 'gbtree', 'colsample_bylevel': 1, 'colsample_bytree': 0.6, 'gamma': 0, 'learning_rate': 0.09, 'max_delta_step': 0, 'max_depth': 10, 'min_child_weight': 8, 'missing': None, 'n_estimators': 377, 'n_jobs': 1, 'nthread': 4, 'objective': 'binary:logistic', 'random_state': 10, 'reg_alpha': 0, 'reg_lambda': 1, 'scale_pos_weight': 1, 'seed': None, 'silent': True, 'subsample': 0.5}</td>\n",
       "    </tr>\n",
       "    <tr>\n",
       "      <th>3</th>\n",
       "      <td>0.8672</td>\n",
       "      <td>{'base_score': 0.5, 'booster': 'gbtree', 'colsample_bylevel': 1, 'colsample_bytree': 0.6, 'gamma': 0, 'learning_rate': 0.3, 'max_delta_step': 0, 'max_depth': 10, 'min_child_weight': 8, 'missing': None, 'n_estimators': 377, 'n_jobs': 1, 'nthread': 4, 'objective': 'binary:logistic', 'random_state': 10, 'reg_alpha': 0, 'reg_lambda': 1, 'scale_pos_weight': 1, 'seed': None, 'silent': True, 'subsample': 0.5}</td>\n",
       "    </tr>\n",
       "    <tr>\n",
       "      <th>2</th>\n",
       "      <td>0.8660</td>\n",
       "      <td>{'base_score': 0.5, 'booster': 'gbtree', 'colsample_bylevel': 1, 'colsample_bytree': 0.6, 'gamma': 0, 'learning_rate': 0.2, 'max_delta_step': 0, 'max_depth': 10, 'min_child_weight': 8, 'missing': None, 'n_estimators': 377, 'n_jobs': 1, 'nthread': 4, 'objective': 'binary:logistic', 'random_state': 10, 'reg_alpha': 0, 'reg_lambda': 1, 'scale_pos_weight': 1, 'seed': None, 'silent': True, 'subsample': 0.5}</td>\n",
       "    </tr>\n",
       "    <tr>\n",
       "      <th>0</th>\n",
       "      <td>0.8656</td>\n",
       "      <td>{'base_score': 0.5, 'booster': 'gbtree', 'colsample_bylevel': 1, 'colsample_bytree': 0.6, 'gamma': 0, 'learning_rate': 0.08, 'max_delta_step': 0, 'max_depth': 10, 'min_child_weight': 8, 'missing': None, 'n_estimators': 377, 'n_jobs': 1, 'nthread': 4, 'objective': 'binary:logistic', 'random_state': 10, 'reg_alpha': 0, 'reg_lambda': 1, 'scale_pos_weight': 1, 'seed': None, 'silent': True, 'subsample': 0.5}</td>\n",
       "    </tr>\n",
       "  </tbody>\n",
       "</table>\n",
       "</div>"
      ],
      "text/plain": [
       "   Accuracy  \\\n",
       "1  0.8712     \n",
       "3  0.8672     \n",
       "2  0.8660     \n",
       "0  0.8656     \n",
       "\n",
       "                                                                                                                                                                                                                                                                                                                                                                                                                   Params  \n",
       "1  {'base_score': 0.5, 'booster': 'gbtree', 'colsample_bylevel': 1, 'colsample_bytree': 0.6, 'gamma': 0, 'learning_rate': 0.09, 'max_delta_step': 0, 'max_depth': 10, 'min_child_weight': 8, 'missing': None, 'n_estimators': 377, 'n_jobs': 1, 'nthread': 4, 'objective': 'binary:logistic', 'random_state': 10, 'reg_alpha': 0, 'reg_lambda': 1, 'scale_pos_weight': 1, 'seed': None, 'silent': True, 'subsample': 0.5}  \n",
       "3  {'base_score': 0.5, 'booster': 'gbtree', 'colsample_bylevel': 1, 'colsample_bytree': 0.6, 'gamma': 0, 'learning_rate': 0.3, 'max_delta_step': 0, 'max_depth': 10, 'min_child_weight': 8, 'missing': None, 'n_estimators': 377, 'n_jobs': 1, 'nthread': 4, 'objective': 'binary:logistic', 'random_state': 10, 'reg_alpha': 0, 'reg_lambda': 1, 'scale_pos_weight': 1, 'seed': None, 'silent': True, 'subsample': 0.5}   \n",
       "2  {'base_score': 0.5, 'booster': 'gbtree', 'colsample_bylevel': 1, 'colsample_bytree': 0.6, 'gamma': 0, 'learning_rate': 0.2, 'max_delta_step': 0, 'max_depth': 10, 'min_child_weight': 8, 'missing': None, 'n_estimators': 377, 'n_jobs': 1, 'nthread': 4, 'objective': 'binary:logistic', 'random_state': 10, 'reg_alpha': 0, 'reg_lambda': 1, 'scale_pos_weight': 1, 'seed': None, 'silent': True, 'subsample': 0.5}   \n",
       "0  {'base_score': 0.5, 'booster': 'gbtree', 'colsample_bylevel': 1, 'colsample_bytree': 0.6, 'gamma': 0, 'learning_rate': 0.08, 'max_delta_step': 0, 'max_depth': 10, 'min_child_weight': 8, 'missing': None, 'n_estimators': 377, 'n_jobs': 1, 'nthread': 4, 'objective': 'binary:logistic', 'random_state': 10, 'reg_alpha': 0, 'reg_lambda': 1, 'scale_pos_weight': 1, 'seed': None, 'silent': True, 'subsample': 0.5}  "
      ]
     },
     "execution_count": 345,
     "metadata": {},
     "output_type": "execute_result"
    }
   ],
   "source": [
    "resultsDF = pd.DataFrame(columns = ['Accuracy', 'Params'])\n",
    "counter = 1\n",
    "\n",
    "for learning_rate in [.08, .09, .2, .3]:\n",
    "    xgb1 = getXGBModelv5()\n",
    "    xgb1.set_params(learning_rate = learning_rate)\n",
    "    acc = evalXGB(xgb1)\n",
    "\n",
    "    resultsDF.loc[len(resultsDF)] = list([\n",
    "        acc,\n",
    "        xgb1.get_params()\n",
    "    ])\n",
    "\n",
    "    counter += 1\n",
    "        \n",
    "print(\"\\nFinished!\")\n",
    "\n",
    "pd.set_option('display.max_colwidth', -1)\n",
    "resultsDF.sort_values(by = ['Accuracy'], ascending = [False]).head()"
   ]
  },
  {
   "cell_type": "markdown",
   "metadata": {},
   "source": [
    "---\n",
    "Again no improvement, so we'll continue to utilize the default learning rate of 0.1"
   ]
  },
  {
   "cell_type": "code",
   "execution_count": null,
   "metadata": {},
   "outputs": [],
   "source": []
  },
  {
   "cell_type": "code",
   "execution_count": null,
   "metadata": {},
   "outputs": [],
   "source": []
  },
  {
   "cell_type": "code",
   "execution_count": null,
   "metadata": {},
   "outputs": [],
   "source": []
  },
  {
   "cell_type": "markdown",
   "metadata": {},
   "source": [
    "# Test set predictions and Kaggle score\n",
    "\n",
    "Let's go ahead and train the models on the entire training set, make predictions against the test set, and see what our Kaggle score is."
   ]
  },
  {
   "cell_type": "code",
   "execution_count": 348,
   "metadata": {
    "ExecuteTime": {
     "end_time": "2018-12-10T19:08:18.411001Z",
     "start_time": "2018-12-10T19:04:42.414737Z"
    }
   },
   "outputs": [
    {
     "data": {
      "text/plain": [
       "XGBClassifier(base_score=0.5, booster='gbtree', colsample_bylevel=1,\n",
       "       colsample_bytree=0.6, gamma=0, learning_rate=0.1, max_delta_step=0,\n",
       "       max_depth=10, min_child_weight=8, missing=None, n_estimators=377,\n",
       "       n_jobs=1, nthread=4, objective='binary:logistic', random_state=10,\n",
       "       reg_alpha=0, reg_lambda=1, scale_pos_weight=1, seed=None,\n",
       "       silent=True, subsample=0.5)"
      ]
     },
     "execution_count": 348,
     "metadata": {},
     "output_type": "execute_result"
    }
   ],
   "source": [
    "# We've already trained the two Doc2Vec models on the training data\n",
    "# They are assigned to variables m1 and m2\n",
    "\n",
    "# Fit the XGBoost model to the entire training set\n",
    "xgbModel = getXGBModelv5()\n",
    "xgbModel.fit(featureSet, y)"
   ]
  },
  {
   "cell_type": "code",
   "execution_count": 353,
   "metadata": {
    "ExecuteTime": {
     "end_time": "2018-12-10T19:16:05.679295Z",
     "start_time": "2018-12-10T19:10:59.088058Z"
    }
   },
   "outputs": [
    {
     "data": {
      "application/vnd.jupyter.widget-view+json": {
       "model_id": "fb0f3a79030c40b5a2234fef09870164",
       "version_major": 2,
       "version_minor": 0
      },
      "text/plain": [
       "HBox(children=(IntProgress(value=0, max=25000), HTML(value='')))"
      ]
     },
     "metadata": {},
     "output_type": "display_data"
    },
    {
     "name": "stdout",
     "output_type": "stream",
     "text": [
      "25000\n",
      "['naturally', 'film', 'main', 'theme', 'mortality', 'nostalgia', 'loss', 'innocence', '-PRON-', 'perhaps', 'surprising', '-PRON-', 'rat', 'highly', 'old', 'viewer', 'young', 'one', 'however', 'craftsmanship', 'completeness', 'film', 'anyone', 'enjoy', 'pace', 'steady', 'constant', 'character', 'full', 'engage', 'relationship', 'interaction', 'natural', 'showing', '-PRON-', 'need', 'flood', 'tear', 'show', 'emotion', 'scream', 'show', 'fear', 'shout', 'show', 'dispute', 'violence', 'show', 'anger', 'naturally', 'joyce', 'short', 'story', 'lend', 'film', 'ready', 'make', 'structure', 'perfect', 'polished', 'diamond', 'small', 'change', 'huston', 'make', 'inclusion', 'poem', 'fit', 'neatly', '-PRON-', 'truly', 'masterpiece', 'tact', 'subtlety', 'overwhelming', 'beauty']\n"
     ]
    }
   ],
   "source": [
    "# Process and clean the test data set\n",
    "cleanTest = []\n",
    "\n",
    "for review in tqdm(combinedDat.iloc[75000:,1]):\n",
    "    cleanTest.append(cleanReview(review, True, True))\n",
    "    \n",
    "print(len(cleanTest))\n",
    "print(cleanTest[0])\n",
    "\n",
    "pickle.dump( \"cleanedDocsTestOnly.p\", open(docsFileName, \"wb\") )"
   ]
  },
  {
   "cell_type": "code",
   "execution_count": 358,
   "metadata": {
    "ExecuteTime": {
     "end_time": "2018-12-10T19:30:54.813551Z",
     "start_time": "2018-12-10T19:28:45.045012Z"
    }
   },
   "outputs": [],
   "source": [
    "testVecs = []\n",
    "\n",
    "for i in cleanTest:\n",
    "    inf1 = m1.infer_vector(i)\n",
    "    inf2 = m2.infer_vector(i)\n",
    "    testVecs.append(np.hstack((inf1, inf2)))\n",
    "    \n",
    "pickle.dump( \"inferedVectorsTestOnly.p\", open(docsFileName, \"wb\") )"
   ]
  },
  {
   "cell_type": "code",
   "execution_count": 372,
   "metadata": {
    "ExecuteTime": {
     "end_time": "2018-12-10T20:55:28.711757Z",
     "start_time": "2018-12-10T20:55:26.469829Z"
    }
   },
   "outputs": [
    {
     "name": "stdout",
     "output_type": "stream",
     "text": [
      "            sentiment\n",
      "id                   \n",
      "\"12311_10\"  1        \n",
      "\"8348_2\"    0        \n",
      "\"5828_4\"    0        \n",
      "\"7186_2\"    0        \n",
      "\"12128_7\"   1        \n"
     ]
    }
   ],
   "source": [
    "preds = xgbModel.predict(testVecs)\n",
    "\n",
    "df_results = pd.DataFrame({'id': combinedDat.iloc[75000:, 0], 'sentiment': preds}).set_index('id')\n",
    "print(df_results.head())\n",
    "\n",
    "# create a submission csv file\n",
    "df_results.to_csv('kaggle_submission_xgb.csv', quoting = csv.QUOTE_NONE) \n",
    "# XGBoost v1.0"
   ]
  },
  {
   "cell_type": "markdown",
   "metadata": {
    "ExecuteTime": {
     "end_time": "2018-12-10T20:53:29.392611Z",
     "start_time": "2018-12-10T20:53:29.000573Z"
    }
   },
   "source": [
    "Kaggle score:  0.83628"
   ]
  },
  {
   "cell_type": "markdown",
   "metadata": {},
   "source": [
    "## Training and validation on the entire dataset\n",
    "\n",
    "The final question is if utilizing the entire data set (labeled and unlabeled data) for training the Doc2Vec models will help or hinder.  We'll explore that next."
   ]
  },
  {
   "cell_type": "markdown",
   "metadata": {},
   "source": [
    "### Train best Doc2Vec models"
   ]
  },
  {
   "cell_type": "code",
   "execution_count": 147,
   "metadata": {
    "ExecuteTime": {
     "end_time": "2018-12-04T23:44:47.570186Z",
     "start_time": "2018-12-04T23:33:11.401634Z"
    }
   },
   "outputs": [
    {
     "name": "stdout",
     "output_type": "stream",
     "text": [
      "Finished!\n",
      "(100000, 100)\n",
      "(100000, 500)\n",
      "(25000, 600)\n"
     ]
    }
   ],
   "source": [
    "# Instantiate each model\n",
    "m1 = Doc2Vec(dm=0, dm_concat=1, dm_mean=1, size=100, window=7, negative=5,  hs=0, min_count=2, vector_size=100, workers=cores)\n",
    "m2 = Doc2Vec(dm=1, dm_concat=0, dm_mean=1, size=500, window=3, negative=11, hs=0, min_count=3, vector_size=300, workers=cores)\n",
    "\n",
    "# Build vocab with first model\n",
    "m1.build_vocab(taggedDocs)\n",
    "\n",
    "# Share first model's vocab scan w/ the other models\n",
    "m2.reset_from(m1)\n",
    "\n",
    "# Model training params\n",
    "alpha, min_alpha, passes = (0.025, 0.001, 20)\n",
    "\n",
    "# Train each model on the labeled training data\n",
    "m1.train(taggedDocs, total_examples = m1.corpus_count, start_alpha = alpha, end_alpha = min_alpha, epochs = passes)\n",
    "m2.train(taggedDocs, total_examples = m2.corpus_count, start_alpha = alpha, end_alpha = min_alpha, epochs = passes)\n",
    "\n",
    "print(\"Finished!\")\n",
    "\n",
    "print(m1.docvecs.doctag_syn0.shape)\n",
    "print(m2.docvecs.doctag_syn0.shape)\n",
    "\n",
    "featureSet = np.hstack((m1.docvecs.doctag_syn0[:25000], m2.docvecs.doctag_syn0[:25000]))\n",
    "print(featureSet.shape)\n",
    "\n",
    "y = list(combinedDat['sentiment'][:25000])\n",
    "\n",
    "X_train, X_eval, y_train, y_eval = train_test_split(\n",
    "    featureSet,  \n",
    "    y, \n",
    "    test_size = 0.1, \n",
    "    shuffle = True, \n",
    "    random_state = seedVal, \n",
    "    stratify = y \n",
    ")"
   ]
  },
  {
   "cell_type": "markdown",
   "metadata": {},
   "source": [
    "### Train best XGBoost model"
   ]
  },
  {
   "cell_type": "code",
   "execution_count": 148,
   "metadata": {
    "ExecuteTime": {
     "end_time": "2018-12-04T23:47:12.116627Z",
     "start_time": "2018-12-04T23:44:47.571189Z"
    }
   },
   "outputs": [
    {
     "data": {
      "text/plain": [
       "XGBClassifier(base_score=0.5, booster='gbtree', colsample_bylevel=1,\n",
       "       colsample_bytree=0.8, gamma=0, learning_rate=0.1, max_delta_step=0,\n",
       "       max_depth=7, min_child_weight=7, missing=None, n_estimators=800,\n",
       "       n_jobs=1, nthread=4, objective='binary:logistic', random_state=10,\n",
       "       reg_alpha=0, reg_lambda=1, scale_pos_weight=1, seed=None,\n",
       "       silent=True, subsample=0.8)"
      ]
     },
     "execution_count": 148,
     "metadata": {},
     "output_type": "execute_result"
    }
   ],
   "source": [
    "xgb1 = getXGBModelv5()\n",
    "\n",
    "xgb1.fit(\n",
    "    X_train, \n",
    "    y_train, \n",
    "    eval_set = [(X_train, y_train), (X_eval, y_eval)],\n",
    "    eval_metric = \"auc\",\n",
    "    verbose = False,\n",
    "    early_stopping_rounds = 25,\n",
    ")"
   ]
  },
  {
   "cell_type": "markdown",
   "metadata": {},
   "source": [
    "### Examine predictions"
   ]
  },
  {
   "cell_type": "code",
   "execution_count": 149,
   "metadata": {
    "ExecuteTime": {
     "end_time": "2018-12-04T23:47:12.480596Z",
     "start_time": "2018-12-04T23:47:12.117630Z"
    }
   },
   "outputs": [
    {
     "name": "stdout",
     "output_type": "stream",
     "text": [
      "Accuracy on eval data:  0.8824\n"
     ]
    }
   ],
   "source": [
    "preds = xgb1.predict(X_eval)\n",
    "print(\"Accuracy on eval data: \", accuracy_score(y_eval, preds))"
   ]
  },
  {
   "cell_type": "markdown",
   "metadata": {},
   "source": [
    "So, we see that utilizing the whole set of reviews seems to actually drop performance.  Thus our best model to date is an ensemble from the PV-DBOW and PV-DM Dov2Vec models fed into a XGBoost implementation with an evaluation data set accuracy of 0.8948.  The hyper parameters for the entities are as follows:\n",
    "\n",
    "* Distributed bag of words (PV-DBOW) (i.e. dm-0)\n",
    "  * {'dm': 0, 'dm_concat': 1, 'dm_mean': 1, 'size': 100, 'window': 7, 'negative': 5, 'hs': 0, 'min_count': 2, 'passes': 2, 'vector_size': 100}\n",
    "\n",
    "\n",
    "* Distributed memory (PV-DM) (i.e. dm=1)\n",
    "  * {'dm': 1, 'dm_concat': 0, 'dm_mean': 1, 'size': 500, 'window': 3, 'negative': 11.0, 'hs': 0, 'min_count': 3, 'passes': 2, 'vector_size': 300}\n",
    "\n",
    "\n",
    "* XGBoost\n",
    "  * {'base_score': 0.5, 'booster': 'gbtree', 'colsample_bylevel': 1, 'colsample_bytree': 0.8, 'gamma': 0, 'learning_rate': 0.1, 'max_delta_step': 0, 'max_depth': 7, 'min_child_weight': 7, 'missing': None, 'n_estimators': 800, 'n_jobs': 1, 'nthread': 4, 'objective': 'binary:logistic', 'random_state': 10, 'reg_alpha': 0, 'reg_lambda': 1, 'scale_pos_weight': 1, 'seed': None, 'silent': True, 'subsample': 0.8}"
   ]
  },
  {
   "cell_type": "code",
   "execution_count": null,
   "metadata": {},
   "outputs": [],
   "source": []
  },
  {
   "cell_type": "code",
   "execution_count": null,
   "metadata": {},
   "outputs": [],
   "source": [
    "\n"
   ]
  },
  {
   "cell_type": "code",
   "execution_count": null,
   "metadata": {},
   "outputs": [],
   "source": []
  },
  {
   "cell_type": "code",
   "execution_count": null,
   "metadata": {},
   "outputs": [],
   "source": []
  },
  {
   "cell_type": "code",
   "execution_count": null,
   "metadata": {},
   "outputs": [],
   "source": []
  },
  {
   "cell_type": "markdown",
   "metadata": {},
   "source": [
    "## Training and validation on the entire dataset with stemming and contractions"
   ]
  },
  {
   "cell_type": "code",
   "execution_count": null,
   "metadata": {},
   "outputs": [],
   "source": []
  },
  {
   "cell_type": "code",
   "execution_count": null,
   "metadata": {},
   "outputs": [],
   "source": []
  },
  {
   "cell_type": "code",
   "execution_count": null,
   "metadata": {},
   "outputs": [],
   "source": []
  },
  {
   "cell_type": "code",
   "execution_count": null,
   "metadata": {},
   "outputs": [],
   "source": []
  },
  {
   "cell_type": "markdown",
   "metadata": {},
   "source": [
    "# Summary"
   ]
  },
  {
   "cell_type": "code",
   "execution_count": 34,
   "metadata": {
    "ExecuteTime": {
     "end_time": "2018-11-08T18:51:23.751678Z",
     "start_time": "2018-11-08T18:51:23.283886Z"
    }
   },
   "outputs": [
    {
     "data": {
      "text/html": [
       "<style>\n",
       "table {float:left}\n",
       "</style>"
      ],
      "text/plain": [
       "<IPython.core.display.HTML object>"
      ]
     },
     "metadata": {},
     "output_type": "display_data"
    }
   ],
   "source": [
    "%%html\n",
    "<style>\n",
    "table {float:left}\n",
    "</style>"
   ]
  },
  {
   "cell_type": "markdown",
   "metadata": {},
   "source": [
    "In this write-up we accomplished the following:\n",
    "\n",
    "1. Created a set of document vectors from the IMDb movie review text utilizing [Doc2Vec](https://radimrehurek.com/gensim/models/doc2vec.html)\n",
    "2. Tuned and trained a number of Doc2Vec models on the movie review corpus \n",
    "2. Ran the models from the [first write-up](./Model-06.ipynb) against the Doc2Vec feature set outputs\n",
    "3. Evaluated if utilizing Doc2Vec improved our ability to correctly classify movie review sentiment\n",
    "\n",
    "\n",
    "Performance metrics so far:\n",
    "\n",
    "|Model|Accuracy|Best Params                                      |\n",
    "|--------------------------|--------|-----------------------------------|\n",
    "|LR (baseline)             |86.35%  |{'LR__C': 0.1, 'LR__penalty': 'l1'}|\n",
    "|SVM centroid              |86.36%  |Scikit-learn defaults              |\n",
    "|SVM Doc2Vec               |84.48%  |Scikit-learn defaults              |\n",
    "|SVM Doc2Vec Init tuning   |88.45%  |dm0, vs100, ng5, hs0, mc2, sm0, e20|\n",
    "|LR manual/combined        |89.51%  |model1, model2, model3             |\n",
    "<div style=\"clear:both\"></div>\n",
    "\n",
    "\n",
    "Utilizing Doc2Vec with manual training and combining model outputs has given us the best classification results to date.  We were able to gain over 3 percentage points in performance from the LR baseline model.\n",
    "\n",
    "If we were to continue this write-up it would be interesting to explore adding many models together and seeing how that affected the output  similar to bagging.  We could also likely spend a lot of time with further tuning, because both the Doc2Vec and Scikit-learn models have a large number of tunable parameters we could leverage.  The best strategy would likely be to start with a randomized grid search due to the large number of parameters, and then focus in on a more narrow set once the more performant combinations started to emerge.\n",
    "\n",
    "And lastly, I'd also like to try taking the combined model feature set and feeding it to a neural network or LSTM for final classification.  It would be interesting to see how one of these more complex algorithms compared against the Scikit-learn linear regression model."
   ]
  },
  {
   "cell_type": "code",
   "execution_count": null,
   "metadata": {},
   "outputs": [],
   "source": []
  }
 ],
 "metadata": {
  "kernelspec": {
   "display_name": "Python 3",
   "language": "python",
   "name": "python3"
  },
  "language_info": {
   "codemirror_mode": {
    "name": "ipython",
    "version": 3
   },
   "file_extension": ".py",
   "mimetype": "text/x-python",
   "name": "python",
   "nbconvert_exporter": "python",
   "pygments_lexer": "ipython3",
   "version": "3.6.6"
  },
  "toc": {
   "base_numbering": 1,
   "nav_menu": {},
   "number_sections": true,
   "sideBar": true,
   "skip_h1_title": false,
   "title_cell": "Table of Contents",
   "title_sidebar": "Contents",
   "toc_cell": true,
   "toc_position": {},
   "toc_section_display": true,
   "toc_window_display": false
  }
 },
 "nbformat": 4,
 "nbformat_minor": 2
}
