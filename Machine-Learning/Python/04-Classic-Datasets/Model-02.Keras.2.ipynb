{
 "cells": [
  {
   "cell_type": "markdown",
   "metadata": {
    "toc": true
   },
   "source": [
    "<h1>Table of Contents<span class=\"tocSkip\"></span></h1>\n",
    "<div class=\"toc\"><ul class=\"toc-item\"><li><span><a href=\"#Boston-Housing-Prices-Regression-Modeling-with-Keras\" data-toc-modified-id=\"Boston-Housing-Prices-Regression-Modeling-with-Keras-1\"><span class=\"toc-item-num\">1&nbsp;&nbsp;</span>Boston Housing Prices Regression Modeling with Keras</a></span></li><li><span><a href=\"#Purpose\" data-toc-modified-id=\"Purpose-2\"><span class=\"toc-item-num\">2&nbsp;&nbsp;</span>Purpose</a></span></li><li><span><a href=\"#Load-libraries-and-data\" data-toc-modified-id=\"Load-libraries-and-data-3\"><span class=\"toc-item-num\">3&nbsp;&nbsp;</span>Load libraries and data</a></span></li><li><span><a href=\"#Helper-functions\" data-toc-modified-id=\"Helper-functions-4\"><span class=\"toc-item-num\">4&nbsp;&nbsp;</span>Helper functions</a></span></li><li><span><a href=\"#Inspect-and-visualize-the-data\" data-toc-modified-id=\"Inspect-and-visualize-the-data-5\"><span class=\"toc-item-num\">5&nbsp;&nbsp;</span>Inspect and visualize the data</a></span></li><li><span><a href=\"#Model-the-data\" data-toc-modified-id=\"Model-the-data-6\"><span class=\"toc-item-num\">6&nbsp;&nbsp;</span>Model the data</a></span><ul class=\"toc-item\"><li><span><a href=\"#Create-validation-data-set\" data-toc-modified-id=\"Create-validation-data-set-6.1\"><span class=\"toc-item-num\">6.1&nbsp;&nbsp;</span>Create validation data set</a></span></li><li><span><a href=\"#Build-models\" data-toc-modified-id=\"Build-models-6.2\"><span class=\"toc-item-num\">6.2&nbsp;&nbsp;</span>Build models</a></span><ul class=\"toc-item\"><li><span><a href=\"#Build-model-function\" data-toc-modified-id=\"Build-model-function-6.2.1\"><span class=\"toc-item-num\">6.2.1&nbsp;&nbsp;</span>Build model function</a></span></li><li><span><a href=\"#Initial-pass\" data-toc-modified-id=\"Initial-pass-6.2.2\"><span class=\"toc-item-num\">6.2.2&nbsp;&nbsp;</span>Initial pass</a></span></li><li><span><a href=\"#Grid-search-hyperparameter-tuning\" data-toc-modified-id=\"Grid-search-hyperparameter-tuning-6.2.3\"><span class=\"toc-item-num\">6.2.3&nbsp;&nbsp;</span>Grid search hyperparameter tuning</a></span><ul class=\"toc-item\"><li><span><a href=\"#Alter-tuneModel-for-RandomizedSearchCV-support\" data-toc-modified-id=\"Alter-tuneModel-for-RandomizedSearchCV-support-6.2.3.1\"><span class=\"toc-item-num\">6.2.3.1&nbsp;&nbsp;</span>Alter tuneModel for RandomizedSearchCV support</a></span></li><li><span><a href=\"#RandomizedSearchCV-hyperparameter-search\" data-toc-modified-id=\"RandomizedSearchCV-hyperparameter-search-6.2.3.2\"><span class=\"toc-item-num\">6.2.3.2&nbsp;&nbsp;</span>RandomizedSearchCV hyperparameter search</a></span></li><li><span><a href=\"#Comments\" data-toc-modified-id=\"Comments-6.2.3.3\"><span class=\"toc-item-num\">6.2.3.3&nbsp;&nbsp;</span>Comments</a></span></li><li><span><a href=\"#Tune-network-topology\" data-toc-modified-id=\"Tune-network-topology-6.2.3.4\"><span class=\"toc-item-num\">6.2.3.4&nbsp;&nbsp;</span>Tune network topology</a></span></li><li><span><a href=\"#Comments\" data-toc-modified-id=\"Comments-6.2.3.5\"><span class=\"toc-item-num\">6.2.3.5&nbsp;&nbsp;</span>Comments</a></span></li><li><span><a href=\"#Graph-final-model-performance\" data-toc-modified-id=\"Graph-final-model-performance-6.2.3.6\"><span class=\"toc-item-num\">6.2.3.6&nbsp;&nbsp;</span>Graph final model performance</a></span></li></ul></li></ul></li></ul></li><li><span><a href=\"#Final-comments\" data-toc-modified-id=\"Final-comments-7\"><span class=\"toc-item-num\">7&nbsp;&nbsp;</span>Final comments</a></span></li></ul></div>"
   ]
  },
  {
   "cell_type": "markdown",
   "metadata": {},
   "source": [
    "<h1>Boston Housing Prices Regression Modeling with Keras</h1>"
   ]
  },
  {
   "cell_type": "markdown",
   "metadata": {},
   "source": [
    "<img style=\"float: left; margin-right: 15px; width: 40%; height: 40%; \" src=\"images/boston.jpg\" />"
   ]
  },
  {
   "cell_type": "markdown",
   "metadata": {},
   "source": [
    "# Purpose\n",
    "\n",
    "The purpose of this write-up is to build upon the [first](https://nbviewer.jupyter.org/github/nrasch/Portfolio/blob/master/Machine-Learning/Python/04-Classic-Datasets/Model-02.ipynb) and [second](https://nbviewer.jupyter.org/github/nrasch/Portfolio/blob/master/Machine-Learning/Python/04-Classic-Datasets/Model-02.Keras.1.ipynb) write-ups involving the Boston housing prices dataset.  \n",
    "\n",
    "Goals include:\n",
    "* Utilize RandomizedSearchCV for hyperparameter tuning\n",
    "* Feature selection with SelectKBest\n",
    "* Examine algorithm performance visually"
   ]
  },
  {
   "cell_type": "markdown",
   "metadata": {},
   "source": [
    "Dataset source:  [UC Irvine Machine Learning Repository](https://archive.ics.uci.edu/ml/index.php)"
   ]
  },
  {
   "cell_type": "markdown",
   "metadata": {},
   "source": [
    "# Load libraries and data"
   ]
  },
  {
   "cell_type": "code",
   "execution_count": 1,
   "metadata": {
    "ExecuteTime": {
     "end_time": "2018-08-29T23:48:58.543423Z",
     "start_time": "2018-08-29T23:48:46.981606Z"
    }
   },
   "outputs": [],
   "source": [
    "%matplotlib inline\n",
    "%load_ext autoreload\n",
    "%autoreload 2\n",
    "\n",
    "import warnings\n",
    "warnings.filterwarnings('ignore')"
   ]
  },
  {
   "cell_type": "code",
   "execution_count": 2,
   "metadata": {
    "ExecuteTime": {
     "end_time": "2018-08-29T23:49:31.371897Z",
     "start_time": "2018-08-29T23:48:58.543423Z"
    }
   },
   "outputs": [
    {
     "name": "stderr",
     "output_type": "stream",
     "text": [
      "Using TensorFlow backend.\n"
     ]
    }
   ],
   "source": [
    "# Load libraries\n",
    "import os\n",
    "\n",
    "#import multiprocessing\n",
    "\n",
    "import numpy as np\n",
    "from numpy import arange\n",
    "\n",
    "from math import sqrt\n",
    "\n",
    "from matplotlib import pyplot\n",
    "\n",
    "from pandas import read_csv\n",
    "from pandas import set_option\n",
    "from pandas.plotting import scatter_matrix\n",
    "from pandas import DataFrame\n",
    "\n",
    "from sklearn.preprocessing import StandardScaler\n",
    "\n",
    "from sklearn.decomposition import PCA\n",
    "\n",
    "from keras.wrappers.scikit_learn import KerasRegressor\n",
    "from keras.models import Sequential\n",
    "from keras.layers import Dense\n",
    "\n",
    "from keras.optimizers import Adam\n",
    "from keras.optimizers import SGD\n",
    "\n",
    "from keras.callbacks import History\n",
    "\n",
    "from sklearn.neural_network import MLPRegressor\n",
    "\n",
    "from sklearn.model_selection import cross_val_score\n",
    "from sklearn.model_selection import KFold\n",
    "from sklearn.model_selection import GridSearchCV\n",
    "from sklearn.model_selection import RandomizedSearchCV\n",
    "from sklearn.model_selection import train_test_split\n",
    "\n",
    "from sklearn.feature_selection import SelectKBest\n",
    "from sklearn.feature_selection import f_classif\n",
    "from sklearn.feature_selection import chi2\n",
    "from sklearn.feature_selection import f_regression\n",
    "from sklearn.feature_selection import RFE\n",
    "\n",
    "from sklearn.pipeline import Pipeline\n",
    "from sklearn.pipeline import FeatureUnion\n",
    "\n",
    "from sklearn.metrics import mean_squared_error"
   ]
  },
  {
   "cell_type": "code",
   "execution_count": 3,
   "metadata": {
    "ExecuteTime": {
     "end_time": "2018-08-29T23:49:31.700097Z",
     "start_time": "2018-08-29T23:49:31.371897Z"
    }
   },
   "outputs": [],
   "source": [
    "dataFile = os.path.join(\".\", \"datasets\", \"housing.csv\")\n",
    "data = read_csv(dataFile, header = 0, delim_whitespace = True)"
   ]
  },
  {
   "cell_type": "markdown",
   "metadata": {},
   "source": [
    "# Helper functions"
   ]
  },
  {
   "cell_type": "code",
   "execution_count": 4,
   "metadata": {
    "ExecuteTime": {
     "end_time": "2018-08-29T23:49:31.903215Z",
     "start_time": "2018-08-29T23:49:31.700097Z"
    }
   },
   "outputs": [],
   "source": [
    "def corrTableColors(value):\n",
    "    color = 'black'\n",
    "\n",
    "    if value == 1:\n",
    "        color = 'white'\n",
    "    elif value < -0.7:\n",
    "        color = 'red'\n",
    "    elif value > 0.7:\n",
    "        color = 'green'\n",
    "\n",
    "    return 'color: %s' % color"
   ]
  },
  {
   "cell_type": "code",
   "execution_count": 5,
   "metadata": {
    "ExecuteTime": {
     "end_time": "2018-08-29T23:49:32.090620Z",
     "start_time": "2018-08-29T23:49:31.903215Z"
    }
   },
   "outputs": [],
   "source": [
    "def makeRange(start, stop, step = 1, multi = 1, dec = 1):\n",
    "    vals = []\n",
    "    for i in range(start, stop, step):\n",
    "        vals.append(np.round(multi * i, decimals = dec))\n",
    "        \n",
    "    return vals"
   ]
  },
  {
   "cell_type": "markdown",
   "metadata": {},
   "source": [
    "# Inspect and visualize the data"
   ]
  },
  {
   "cell_type": "markdown",
   "metadata": {},
   "source": [
    "Please the [first Boston housing data's write-up](https://nbviewer.jupyter.org/github/nrasch/Portfolio/blob/master/Machine-Learning/Python/04-Classic-Datasets/Model-02.ipynb#Inspect-and-visualize-the-data) details on this topic."
   ]
  },
  {
   "cell_type": "markdown",
   "metadata": {},
   "source": [
    "# Model the data"
   ]
  },
  {
   "cell_type": "markdown",
   "metadata": {},
   "source": [
    "## Create validation data set"
   ]
  },
  {
   "cell_type": "code",
   "execution_count": 6,
   "metadata": {
    "ExecuteTime": {
     "end_time": "2018-08-29T23:49:32.309426Z",
     "start_time": "2018-08-29T23:49:32.090620Z"
    }
   },
   "outputs": [
    {
     "name": "stdout",
     "output_type": "stream",
     "text": [
      "x.shape =  (506, 13)\n",
      "y.shape =  (506,)\n",
      "--------\n",
      "xTrain.shape =  (404, 13)\n",
      "yTrain.shape =  (404,)\n",
      "xVal.shape =  (102, 13)\n",
      "yVal.shape =  (102,)\n"
     ]
    }
   ],
   "source": [
    "# Seperate X and Y values\n",
    "x = data.values[:, 0:len(data.columns) - 1]\n",
    "y = data.values[:, len(data.columns) - 1]\n",
    "\n",
    "# Uncomment if you want a smaller subset that runs faster for testing\n",
    "# x = data.values[1:50, 0:len(data.columns) - 1]\n",
    "# y = data.values[1:50, len(data.columns) - 1]\n",
    "\n",
    "print(\"x.shape = \", x.shape)\n",
    "print(\"y.shape = \", y.shape)\n",
    "\n",
    "# Split out validation set -- 80/20 split\n",
    "seed = 10\n",
    "valSize = 0.2\n",
    "\n",
    "xTrain, xVal, yTrain, yVal = train_test_split(x, y, test_size = valSize, random_state = seed)\n",
    "\n",
    "print(\"--------\")\n",
    "print(\"xTrain.shape = \", xTrain.shape)\n",
    "print(\"yTrain.shape = \", yTrain.shape)\n",
    "print(\"xVal.shape = \", xVal.shape)\n",
    "print(\"yVal.shape = \", yVal.shape)"
   ]
  },
  {
   "cell_type": "markdown",
   "metadata": {},
   "source": [
    "## Build models"
   ]
  },
  {
   "cell_type": "markdown",
   "metadata": {},
   "source": [
    "### Build model function"
   ]
  },
  {
   "cell_type": "markdown",
   "metadata": {},
   "source": [
    "More info on the `kernal_initializer`:  https://keras.io/initializers/"
   ]
  },
  {
   "cell_type": "code",
   "execution_count": 13,
   "metadata": {
    "ExecuteTime": {
     "end_time": "2018-08-29T23:59:06.039291Z",
     "start_time": "2018-08-29T23:59:05.820496Z"
    }
   },
   "outputs": [],
   "source": [
    "def wrapper(optimizer = 'Adam', lr = 0.001, decay = 0.0, epsilon = None):\n",
    "    \n",
    "    def buildModel():\n",
    "    \n",
    "        opt = None\n",
    "\n",
    "        model = Sequential()\n",
    "\n",
    "        # kernel_initializer='normal' -> Initializer capable of adapting its scale to the shape of weights\n",
    "        # bias_initializer -> 'zeros' (default per the docs) \n",
    "        model.add(Dense(20, kernel_initializer='normal', activation = 'relu'))\n",
    "        model.add(Dense(10, kernel_initializer='normal', activation = 'relu'))\n",
    "        model.add(Dense(1, kernel_initializer='normal'))\n",
    "\n",
    "        if optimizer.lower() == 'adam':\n",
    "            opt = Adam(lr = lr, decay = decay, epsilon = epsilon)\n",
    "        else:\n",
    "            # Please don't ever use eval where you're recieving input from non-trusted sources!\n",
    "            # A Jupyter notebook is OK; a public facing service is certainly not\n",
    "            opt = eval(optimizer)()\n",
    "\n",
    "        model.compile(loss = 'mean_squared_error', optimizer = opt)\n",
    "\n",
    "        return model   \n",
    "    \n",
    "    return buildModel"
   ]
  },
  {
   "cell_type": "markdown",
   "metadata": {},
   "source": [
    "### Initial pass"
   ]
  },
  {
   "cell_type": "markdown",
   "metadata": {},
   "source": [
    "For this first pass an educated guess is taken for what might work well on the dataset.  This provides an initial baseline, and then we can tune the hyperparameters to hopefully improve the model."
   ]
  },
  {
   "cell_type": "code",
   "execution_count": 9,
   "metadata": {
    "ExecuteTime": {
     "end_time": "2018-08-29T23:52:30.731991Z",
     "start_time": "2018-08-29T23:49:32.746934Z"
    },
    "deletable": false,
    "editable": false,
    "run_control": {
     "frozen": true
    }
   },
   "outputs": [
    {
     "name": "stdout",
     "output_type": "stream",
     "text": [
      "MSE: -17.87 (7.24)\n"
     ]
    }
   ],
   "source": [
    "# Define vars and init\n",
    "folds = 10\n",
    "seed = 10\n",
    "\n",
    "np.random.seed(seed)\n",
    "\n",
    "model = KerasRegressor(build_fn = wrapper(), epochs = 200, batch_size = 5, verbose = 0)\n",
    "kFold = KFold(n_splits = folds, random_state = seed)\n",
    "results = cross_val_score(model, xTrain, yTrain, cv = kFold)\n",
    "\n",
    "print(\"MSE: %.2f (%.2f)\" % (results.mean(), results.std()))"
   ]
  },
  {
   "cell_type": "markdown",
   "metadata": {},
   "source": [
    "This is better then what the [previous](https://nbviewer.jupyter.org/github/nrasch/Portfolio/blob/master/Machine-Learning/Python/04-Classic-Datasets/Model-02.ipynb) write-up's models accomplished with no tuning as of yet:\n",
    "\n",
    "<pre>\n",
    "         Model    MSE  StdDev\n",
    "3    scaledKNN -20.35   11.87\n",
    "0     scaledLR -21.26    7.11\n",
    "4   scaledCART -22.66    9.31\n",
    "1  scaledLASSO -26.94   10.38\n",
    "5    scaledSVR -28.52   13.98\n",
    "2     scaledEN -28.60   11.65\n",
    "</pre>\n",
    "\n",
    "It does not; however, compare to the results achieved via the ensemble methods:\n",
    "\n",
    "<pre>\n",
    "       Model     MSE  StdDev\n",
    "1  scaledGBM -9.700   5.342 \n",
    "3  scaledET  -10.339  5.399 \n",
    "2  scaledRF  -13.695  7.276 \n",
    "0  scaledAB  -14.176  8.917\n",
    "</pre>"
   ]
  },
  {
   "cell_type": "markdown",
   "metadata": {},
   "source": [
    "### Grid search hyperparameter tuning"
   ]
  },
  {
   "cell_type": "markdown",
   "metadata": {},
   "source": [
    "In a [previous write-up](https://nbviewer.jupyter.org/github/nrasch/Portfolio/blob/master/Machine-Learning/Python/04-Classic-Datasets/Model-02.Keras.1.ipynb) we utilized [GridSearchCV](http://scikit-learn.org/stable/modules/generated/sklearn.model_selection.GridSearchCV.html).  We'd like to now examine [RandomizedSearchCV](http://scikit-learn.org/stable/modules/generated/sklearn.model_selection.RandomizedSearchCV.html).\n",
    "\n",
    "We observed in the last write-up that the `KerasRegressor` estimator utilizing the `Adam` optimizer give us good results.  We'll continue working with this combination."
   ]
  },
  {
   "cell_type": "markdown",
   "metadata": {},
   "source": [
    "#### Alter tuneModel for RandomizedSearchCV support \n",
    "\n",
    "We need to alter the `tuneModel` function to support `RandomizedSearchCV`."
   ]
  },
  {
   "cell_type": "code",
   "execution_count": 10,
   "metadata": {
    "ExecuteTime": {
     "end_time": "2018-08-29T23:52:31.013241Z",
     "start_time": "2018-08-29T23:52:30.731991Z"
    }
   },
   "outputs": [],
   "source": [
    "def tuneModel(modelName, modelObj, params, iterations = 20, returnModel = False, showSummary = True):\n",
    "    # Init vars and params\n",
    "    featureResults = {}\n",
    "    featureFolds = 10\n",
    "    featureSeed = 10\n",
    "    \n",
    "    np.random.seed(featureSeed)\n",
    "    \n",
    "    # Use MSE since this is a regression problem\n",
    "    score = 'neg_mean_squared_error'\n",
    "\n",
    "    # Create a Pandas DF to hold all our spiffy results\n",
    "    featureDF = DataFrame(columns = ['Model', 'MSE', 'StdDev', 'Best Params'])\n",
    "\n",
    "    # Create feature union (adding SelectKBest)\n",
    "    features = []\n",
    "    features.append(('Scaler', StandardScaler()))\n",
    "    features.append(('SelectKBest', SelectKBest()))\n",
    "    featureUnion = FeatureUnion(features)\n",
    "\n",
    "    # Search for the best combination of parameters\n",
    "    featureResults = RandomizedSearchCV(\n",
    "        Pipeline(\n",
    "            steps = [\n",
    "                ('FeatureUnion', featureUnion),\n",
    "                (modelName, modelObj)\n",
    "        ]),\n",
    "        param_distributions = params,\n",
    "        n_iter = iterations,\n",
    "        scoring = score,\n",
    "        cv = KFold(n_splits = featureFolds, random_state = featureSeed),\n",
    "        random_state = featureSeed\n",
    "    ).fit(xTrain, yTrain)\n",
    "\n",
    "    featureDF.loc[len(featureDF)] = list([\n",
    "        modelName, \n",
    "        featureResults.best_score_,\n",
    "        featureResults.cv_results_['std_test_score'][featureResults.best_index_],\n",
    "        featureResults.best_params_,\n",
    "    ])\n",
    "\n",
    "    if showSummary:\n",
    "        set_option('display.max_colwidth', -1)\n",
    "        display(featureDF)\n",
    "    \n",
    "    if returnModel:\n",
    "        return featureResults"
   ]
  },
  {
   "cell_type": "markdown",
   "metadata": {},
   "source": [
    "#### RandomizedSearchCV hyperparameter search"
   ]
  },
  {
   "cell_type": "markdown",
   "metadata": {},
   "source": [
    "OK, let's dig in and see what sort of parameter combinations `RandomizedSearchCV` might be able to find for us that provide good algorithm performance.  If we would have utilized `GridSearchCV` as in the [previous write-up](https://nbviewer.jupyter.org/github/nrasch/Portfolio/blob/master/Machine-Learning/Python/04-Classic-Datasets/Model-02.Keras.1.ipynb) we'd probably be here all week waiting for the combinations below to finish.  ;)"
   ]
  },
  {
   "cell_type": "code",
   "execution_count": 41,
   "metadata": {
    "ExecuteTime": {
     "end_time": "2018-08-28T19:20:26.574462Z",
     "start_time": "2018-08-28T17:59:33.228185Z"
    },
    "deletable": false,
    "editable": false,
    "run_control": {
     "frozen": true
    }
   },
   "outputs": [
    {
     "data": {
      "text/html": [
       "<div>\n",
       "<style scoped>\n",
       "    .dataframe tbody tr th:only-of-type {\n",
       "        vertical-align: middle;\n",
       "    }\n",
       "\n",
       "    .dataframe tbody tr th {\n",
       "        vertical-align: top;\n",
       "    }\n",
       "\n",
       "    .dataframe thead th {\n",
       "        text-align: right;\n",
       "    }\n",
       "</style>\n",
       "<table border=\"1\" class=\"dataframe\">\n",
       "  <thead>\n",
       "    <tr style=\"text-align: right;\">\n",
       "      <th></th>\n",
       "      <th>Model</th>\n",
       "      <th>MSE</th>\n",
       "      <th>StdDev</th>\n",
       "      <th>Best Params</th>\n",
       "    </tr>\n",
       "  </thead>\n",
       "  <tbody>\n",
       "    <tr>\n",
       "      <th>0</th>\n",
       "      <td>housingModel</td>\n",
       "      <td>-12.923</td>\n",
       "      <td>10.544</td>\n",
       "      <td>{'housingModel__optimizer': 'Adam', 'housingModel__lr': 0.005, 'housingModel__epsilon': 1.5, 'housingModel__epochs': 350, 'housingModel__batch_size': 36, 'FeatureUnion__SelectKBest__k': 2}</td>\n",
       "    </tr>\n",
       "  </tbody>\n",
       "</table>\n",
       "</div>"
      ],
      "text/plain": [
       "          Model     MSE  StdDev  \\\n",
       "0  housingModel -12.923  10.544   \n",
       "\n",
       "                                                                                                                                                                                    Best Params  \n",
       "0  {'housingModel__optimizer': 'Adam', 'housingModel__lr': 0.005, 'housingModel__epsilon': 1.5, 'housingModel__epochs': 350, 'housingModel__batch_size': 36, 'FeatureUnion__SelectKBest__k': 2}  "
      ]
     },
     "metadata": {},
     "output_type": "display_data"
    }
   ],
   "source": [
    "modelName = \"housingModel\"\n",
    "modelObj =  KerasRegressor(build_fn = wrapper(), verbose = 0)\n",
    "params = {\n",
    "    'housingModel__optimizer' : ['Adam'],\n",
    "    'housingModel__epochs' : makeRange(200, 600, 50),\n",
    "    'housingModel__batch_size' : makeRange(4, 68, 4),\n",
    "    'FeatureUnion__SelectKBest__k': makeRange(1, xTrain.shape[1]),\n",
    "    'housingModel__lr' : makeRange(1, 9, 1, .001, 3),\n",
    "    'housingModel__epsilon' : makeRange(2, 8, 1, .5, 1),\n",
    "}\n",
    "\n",
    "set1 = tuneModel(modelName, modelObj, params, 10, True, True)"
   ]
  },
  {
   "cell_type": "code",
   "execution_count": 42,
   "metadata": {
    "ExecuteTime": {
     "end_time": "2018-08-28T19:20:26.777691Z",
     "start_time": "2018-08-28T19:20:26.574462Z"
    },
    "deletable": false,
    "editable": false,
    "run_control": {
     "frozen": true
    }
   },
   "outputs": [
    {
     "data": {
      "text/html": [
       "<div>\n",
       "<style scoped>\n",
       "    .dataframe tbody tr th:only-of-type {\n",
       "        vertical-align: middle;\n",
       "    }\n",
       "\n",
       "    .dataframe tbody tr th {\n",
       "        vertical-align: top;\n",
       "    }\n",
       "\n",
       "    .dataframe thead th {\n",
       "        text-align: right;\n",
       "    }\n",
       "</style>\n",
       "<table border=\"1\" class=\"dataframe\">\n",
       "  <thead>\n",
       "    <tr style=\"text-align: right;\">\n",
       "      <th></th>\n",
       "      <th>mean_fit_time</th>\n",
       "      <th>mean_score_time</th>\n",
       "      <th>mean_test_score</th>\n",
       "      <th>mean_train_score</th>\n",
       "      <th>param_FeatureUnion__SelectKBest__k</th>\n",
       "      <th>param_housingModel__batch_size</th>\n",
       "      <th>param_housingModel__epochs</th>\n",
       "      <th>param_housingModel__epsilon</th>\n",
       "      <th>param_housingModel__lr</th>\n",
       "      <th>param_housingModel__optimizer</th>\n",
       "      <th>...</th>\n",
       "      <th>split7_test_score</th>\n",
       "      <th>split7_train_score</th>\n",
       "      <th>split8_test_score</th>\n",
       "      <th>split8_train_score</th>\n",
       "      <th>split9_test_score</th>\n",
       "      <th>split9_train_score</th>\n",
       "      <th>std_fit_time</th>\n",
       "      <th>std_score_time</th>\n",
       "      <th>std_test_score</th>\n",
       "      <th>std_train_score</th>\n",
       "    </tr>\n",
       "  </thead>\n",
       "  <tbody>\n",
       "    <tr>\n",
       "      <th>1</th>\n",
       "      <td>12.162</td>\n",
       "      <td>0.975</td>\n",
       "      <td>-12.923</td>\n",
       "      <td>-5.768</td>\n",
       "      <td>2</td>\n",
       "      <td>36</td>\n",
       "      <td>350</td>\n",
       "      <td>1.5</td>\n",
       "      <td>0.005</td>\n",
       "      <td>Adam</td>\n",
       "      <td>...</td>\n",
       "      <td>-39.856</td>\n",
       "      <td>-5.547</td>\n",
       "      <td>-9.200</td>\n",
       "      <td>-6.600</td>\n",
       "      <td>-25.413</td>\n",
       "      <td>-4.548</td>\n",
       "      <td>0.551</td>\n",
       "      <td>0.054</td>\n",
       "      <td>10.544</td>\n",
       "      <td>0.755</td>\n",
       "    </tr>\n",
       "    <tr>\n",
       "      <th>2</th>\n",
       "      <td>13.126</td>\n",
       "      <td>1.164</td>\n",
       "      <td>-13.062</td>\n",
       "      <td>-7.470</td>\n",
       "      <td>2</td>\n",
       "      <td>44</td>\n",
       "      <td>400</td>\n",
       "      <td>2.5</td>\n",
       "      <td>0.002</td>\n",
       "      <td>Adam</td>\n",
       "      <td>...</td>\n",
       "      <td>-33.158</td>\n",
       "      <td>-6.962</td>\n",
       "      <td>-6.769</td>\n",
       "      <td>-7.158</td>\n",
       "      <td>-29.250</td>\n",
       "      <td>-5.741</td>\n",
       "      <td>0.490</td>\n",
       "      <td>0.050</td>\n",
       "      <td>9.324</td>\n",
       "      <td>0.706</td>\n",
       "    </tr>\n",
       "    <tr>\n",
       "      <th>3</th>\n",
       "      <td>81.680</td>\n",
       "      <td>1.363</td>\n",
       "      <td>-14.276</td>\n",
       "      <td>-7.638</td>\n",
       "      <td>7</td>\n",
       "      <td>8</td>\n",
       "      <td>550</td>\n",
       "      <td>1.5</td>\n",
       "      <td>0.006</td>\n",
       "      <td>Adam</td>\n",
       "      <td>...</td>\n",
       "      <td>-30.706</td>\n",
       "      <td>-4.547</td>\n",
       "      <td>-6.938</td>\n",
       "      <td>-7.380</td>\n",
       "      <td>-31.150</td>\n",
       "      <td>-7.372</td>\n",
       "      <td>3.276</td>\n",
       "      <td>0.053</td>\n",
       "      <td>8.743</td>\n",
       "      <td>1.411</td>\n",
       "    </tr>\n",
       "    <tr>\n",
       "      <th>9</th>\n",
       "      <td>245.504</td>\n",
       "      <td>2.589</td>\n",
       "      <td>-14.861</td>\n",
       "      <td>-9.099</td>\n",
       "      <td>10</td>\n",
       "      <td>4</td>\n",
       "      <td>450</td>\n",
       "      <td>2</td>\n",
       "      <td>0.001</td>\n",
       "      <td>Adam</td>\n",
       "      <td>...</td>\n",
       "      <td>-24.559</td>\n",
       "      <td>-9.178</td>\n",
       "      <td>-12.357</td>\n",
       "      <td>-7.707</td>\n",
       "      <td>-21.949</td>\n",
       "      <td>-6.987</td>\n",
       "      <td>4.468</td>\n",
       "      <td>0.074</td>\n",
       "      <td>5.186</td>\n",
       "      <td>2.525</td>\n",
       "    </tr>\n",
       "    <tr>\n",
       "      <th>8</th>\n",
       "      <td>21.193</td>\n",
       "      <td>2.366</td>\n",
       "      <td>-15.473</td>\n",
       "      <td>-8.751</td>\n",
       "      <td>2</td>\n",
       "      <td>36</td>\n",
       "      <td>250</td>\n",
       "      <td>2.5</td>\n",
       "      <td>0.002</td>\n",
       "      <td>Adam</td>\n",
       "      <td>...</td>\n",
       "      <td>-43.321</td>\n",
       "      <td>-8.241</td>\n",
       "      <td>-8.194</td>\n",
       "      <td>-8.593</td>\n",
       "      <td>-30.608</td>\n",
       "      <td>-6.901</td>\n",
       "      <td>0.540</td>\n",
       "      <td>0.072</td>\n",
       "      <td>11.361</td>\n",
       "      <td>0.837</td>\n",
       "    </tr>\n",
       "    <tr>\n",
       "      <th>5</th>\n",
       "      <td>15.455</td>\n",
       "      <td>1.752</td>\n",
       "      <td>-15.506</td>\n",
       "      <td>-11.334</td>\n",
       "      <td>3</td>\n",
       "      <td>44</td>\n",
       "      <td>300</td>\n",
       "      <td>2</td>\n",
       "      <td>0.002</td>\n",
       "      <td>Adam</td>\n",
       "      <td>...</td>\n",
       "      <td>-30.041</td>\n",
       "      <td>-11.962</td>\n",
       "      <td>-9.391</td>\n",
       "      <td>-10.604</td>\n",
       "      <td>-28.895</td>\n",
       "      <td>-9.480</td>\n",
       "      <td>0.539</td>\n",
       "      <td>0.065</td>\n",
       "      <td>7.814</td>\n",
       "      <td>2.542</td>\n",
       "    </tr>\n",
       "    <tr>\n",
       "      <th>4</th>\n",
       "      <td>15.434</td>\n",
       "      <td>1.562</td>\n",
       "      <td>-15.764</td>\n",
       "      <td>-12.118</td>\n",
       "      <td>3</td>\n",
       "      <td>60</td>\n",
       "      <td>450</td>\n",
       "      <td>1</td>\n",
       "      <td>0.001</td>\n",
       "      <td>Adam</td>\n",
       "      <td>...</td>\n",
       "      <td>-23.848</td>\n",
       "      <td>-10.908</td>\n",
       "      <td>-8.697</td>\n",
       "      <td>-10.701</td>\n",
       "      <td>-28.050</td>\n",
       "      <td>-10.452</td>\n",
       "      <td>0.755</td>\n",
       "      <td>0.086</td>\n",
       "      <td>6.847</td>\n",
       "      <td>2.520</td>\n",
       "    </tr>\n",
       "    <tr>\n",
       "      <th>0</th>\n",
       "      <td>22.618</td>\n",
       "      <td>0.830</td>\n",
       "      <td>-16.429</td>\n",
       "      <td>-10.603</td>\n",
       "      <td>9</td>\n",
       "      <td>16</td>\n",
       "      <td>400</td>\n",
       "      <td>1</td>\n",
       "      <td>0.001</td>\n",
       "      <td>Adam</td>\n",
       "      <td>...</td>\n",
       "      <td>-37.575</td>\n",
       "      <td>-12.045</td>\n",
       "      <td>-9.254</td>\n",
       "      <td>-9.697</td>\n",
       "      <td>-36.836</td>\n",
       "      <td>-10.174</td>\n",
       "      <td>0.619</td>\n",
       "      <td>0.045</td>\n",
       "      <td>10.529</td>\n",
       "      <td>0.718</td>\n",
       "    </tr>\n",
       "    <tr>\n",
       "      <th>7</th>\n",
       "      <td>16.628</td>\n",
       "      <td>2.328</td>\n",
       "      <td>-17.656</td>\n",
       "      <td>-13.179</td>\n",
       "      <td>2</td>\n",
       "      <td>36</td>\n",
       "      <td>200</td>\n",
       "      <td>1.5</td>\n",
       "      <td>0.001</td>\n",
       "      <td>Adam</td>\n",
       "      <td>...</td>\n",
       "      <td>-31.712</td>\n",
       "      <td>-10.148</td>\n",
       "      <td>-9.390</td>\n",
       "      <td>-14.949</td>\n",
       "      <td>-43.857</td>\n",
       "      <td>-10.971</td>\n",
       "      <td>0.592</td>\n",
       "      <td>0.316</td>\n",
       "      <td>11.727</td>\n",
       "      <td>1.596</td>\n",
       "    </tr>\n",
       "    <tr>\n",
       "      <th>6</th>\n",
       "      <td>20.488</td>\n",
       "      <td>2.080</td>\n",
       "      <td>-18.634</td>\n",
       "      <td>-11.783</td>\n",
       "      <td>7</td>\n",
       "      <td>64</td>\n",
       "      <td>550</td>\n",
       "      <td>3.5</td>\n",
       "      <td>0.003</td>\n",
       "      <td>Adam</td>\n",
       "      <td>...</td>\n",
       "      <td>-36.326</td>\n",
       "      <td>-8.258</td>\n",
       "      <td>-11.253</td>\n",
       "      <td>-11.688</td>\n",
       "      <td>-42.961</td>\n",
       "      <td>-12.149</td>\n",
       "      <td>1.454</td>\n",
       "      <td>0.365</td>\n",
       "      <td>11.097</td>\n",
       "      <td>1.657</td>\n",
       "    </tr>\n",
       "  </tbody>\n",
       "</table>\n",
       "<p>10 rows × 36 columns</p>\n",
       "</div>"
      ],
      "text/plain": [
       "   mean_fit_time  mean_score_time  mean_test_score  mean_train_score  \\\n",
       "1  12.162         0.975           -12.923          -5.768              \n",
       "2  13.126         1.164           -13.062          -7.470              \n",
       "3  81.680         1.363           -14.276          -7.638              \n",
       "9  245.504        2.589           -14.861          -9.099              \n",
       "8  21.193         2.366           -15.473          -8.751              \n",
       "5  15.455         1.752           -15.506          -11.334             \n",
       "4  15.434         1.562           -15.764          -12.118             \n",
       "0  22.618         0.830           -16.429          -10.603             \n",
       "7  16.628         2.328           -17.656          -13.179             \n",
       "6  20.488         2.080           -18.634          -11.783             \n",
       "\n",
       "  param_FeatureUnion__SelectKBest__k param_housingModel__batch_size  \\\n",
       "1  2                                  36                              \n",
       "2  2                                  44                              \n",
       "3  7                                  8                               \n",
       "9  10                                 4                               \n",
       "8  2                                  36                              \n",
       "5  3                                  44                              \n",
       "4  3                                  60                              \n",
       "0  9                                  16                              \n",
       "7  2                                  36                              \n",
       "6  7                                  64                              \n",
       "\n",
       "  param_housingModel__epochs param_housingModel__epsilon  \\\n",
       "1  350                        1.5                          \n",
       "2  400                        2.5                          \n",
       "3  550                        1.5                          \n",
       "9  450                        2                            \n",
       "8  250                        2.5                          \n",
       "5  300                        2                            \n",
       "4  450                        1                            \n",
       "0  400                        1                            \n",
       "7  200                        1.5                          \n",
       "6  550                        3.5                          \n",
       "\n",
       "  param_housingModel__lr param_housingModel__optimizer       ...         \\\n",
       "1  0.005                  Adam                               ...          \n",
       "2  0.002                  Adam                               ...          \n",
       "3  0.006                  Adam                               ...          \n",
       "9  0.001                  Adam                               ...          \n",
       "8  0.002                  Adam                               ...          \n",
       "5  0.002                  Adam                               ...          \n",
       "4  0.001                  Adam                               ...          \n",
       "0  0.001                  Adam                               ...          \n",
       "7  0.001                  Adam                               ...          \n",
       "6  0.003                  Adam                               ...          \n",
       "\n",
       "  split7_test_score  split7_train_score  split8_test_score  \\\n",
       "1 -39.856           -5.547              -9.200               \n",
       "2 -33.158           -6.962              -6.769               \n",
       "3 -30.706           -4.547              -6.938               \n",
       "9 -24.559           -9.178              -12.357              \n",
       "8 -43.321           -8.241              -8.194               \n",
       "5 -30.041           -11.962             -9.391               \n",
       "4 -23.848           -10.908             -8.697               \n",
       "0 -37.575           -12.045             -9.254               \n",
       "7 -31.712           -10.148             -9.390               \n",
       "6 -36.326           -8.258              -11.253              \n",
       "\n",
       "   split8_train_score  split9_test_score  split9_train_score  std_fit_time  \\\n",
       "1 -6.600              -25.413            -4.548               0.551          \n",
       "2 -7.158              -29.250            -5.741               0.490          \n",
       "3 -7.380              -31.150            -7.372               3.276          \n",
       "9 -7.707              -21.949            -6.987               4.468          \n",
       "8 -8.593              -30.608            -6.901               0.540          \n",
       "5 -10.604             -28.895            -9.480               0.539          \n",
       "4 -10.701             -28.050            -10.452              0.755          \n",
       "0 -9.697              -36.836            -10.174              0.619          \n",
       "7 -14.949             -43.857            -10.971              0.592          \n",
       "6 -11.688             -42.961            -12.149              1.454          \n",
       "\n",
       "   std_score_time  std_test_score  std_train_score  \n",
       "1  0.054           10.544          0.755            \n",
       "2  0.050           9.324           0.706            \n",
       "3  0.053           8.743           1.411            \n",
       "9  0.074           5.186           2.525            \n",
       "8  0.072           11.361          0.837            \n",
       "5  0.065           7.814           2.542            \n",
       "4  0.086           6.847           2.520            \n",
       "0  0.045           10.529          0.718            \n",
       "7  0.316           11.727          1.596            \n",
       "6  0.365           11.097          1.657            \n",
       "\n",
       "[10 rows x 36 columns]"
      ]
     },
     "execution_count": 42,
     "metadata": {},
     "output_type": "execute_result"
    }
   ],
   "source": [
    "set_option('precision', 3)\n",
    "DataFrame(set1.cv_results_).sort_values(by=['mean_test_score', 'std_test_score'], ascending=False)"
   ]
  },
  {
   "cell_type": "markdown",
   "metadata": {
    "ExecuteTime": {
     "end_time": "2018-08-28T19:20:27.136971Z",
     "start_time": "2018-08-28T19:20:26.965128Z"
    }
   },
   "source": [
    "#### Comments\n",
    "\n",
    "From the results above it's pretty clear we're likely at a point of diminishing returns for further tuning with this set of hyperparamter options. (I also tested a number of additional iterations outside of this notebook which further confirmed this conclusion.)\n",
    "\n",
    "Likely the next logical step would be to experiment with the topology of the neural network itself such as adding additional layers and/or neurons, or we could simply disregard neural networks as an options for this problem and utilize one of the effective algorithms covered in previous write-ups. So let's do a few rounds of topology modification testing next, make a final model choice, examine some predictions, and then wrap up."
   ]
  },
  {
   "cell_type": "markdown",
   "metadata": {},
   "source": [
    "#### Tune network topology"
   ]
  },
  {
   "cell_type": "markdown",
   "metadata": {
    "ExecuteTime": {
     "end_time": "2018-08-30T00:03:14.629238Z",
     "start_time": "2018-08-30T00:03:14.457322Z"
    }
   },
   "source": [
    "We'll first build a function to return a deep neural network model:"
   ]
  },
  {
   "cell_type": "code",
   "execution_count": 32,
   "metadata": {
    "ExecuteTime": {
     "end_time": "2018-08-30T00:11:38.683847Z",
     "start_time": "2018-08-30T00:11:38.511925Z"
    }
   },
   "outputs": [],
   "source": [
    "def buildModelDeep(optimizer = 'Adam', lr = 0.001, decay = 0.0, epsilon = None):\n",
    "    opt = Adam(lr = lr, decay = decay, epsilon = epsilon)\n",
    "    model = Sequential()\n",
    "    model.add(Dense(20, kernel_initializer='normal', activation = 'relu'))\n",
    "    model.add(Dense(10, kernel_initializer='normal', activation = 'relu'))\n",
    "    model.add(Dense(5, kernel_initializer='normal', activation = 'relu'))\n",
    "    model.add(Dense(1, kernel_initializer='normal'))\n",
    "    model.compile(loss = 'mean_squared_error', optimizer = opt)\n",
    "    return model   "
   ]
  },
  {
   "cell_type": "markdown",
   "metadata": {},
   "source": [
    "And another function to return a wide neural network model:"
   ]
  },
  {
   "cell_type": "code",
   "execution_count": 33,
   "metadata": {
    "ExecuteTime": {
     "end_time": "2018-08-30T00:11:39.652599Z",
     "start_time": "2018-08-30T00:11:39.465105Z"
    }
   },
   "outputs": [],
   "source": [
    "def buildModelWide(optimizer = 'Adam', lr = 0.001, decay = 0.0, epsilon = None):\n",
    "    opt = Adam(lr = lr, decay = decay, epsilon = epsilon)\n",
    "    model = Sequential()\n",
    "    model.add(Dense(30, kernel_initializer='normal', activation = 'relu'))\n",
    "    model.add(Dense(1, kernel_initializer='normal'))\n",
    "    model.compile(loss = 'mean_squared_error', optimizer = opt)\n",
    "    return model   "
   ]
  },
  {
   "cell_type": "markdown",
   "metadata": {},
   "source": [
    "And one final tweak to the tuning function:"
   ]
  },
  {
   "cell_type": "code",
   "execution_count": 34,
   "metadata": {
    "ExecuteTime": {
     "end_time": "2018-08-30T00:11:41.484372Z",
     "start_time": "2018-08-30T00:11:41.265517Z"
    }
   },
   "outputs": [],
   "source": [
    "def tuneFinalModel(modelName, modelObj, params, iterations = 20, returnModel = False, showSummary = True):\n",
    "    # Init vars and params\n",
    "    featureResults = {}\n",
    "    featureFolds = 10\n",
    "    featureSeed = 10\n",
    "    \n",
    "    np.random.seed(featureSeed)\n",
    "    \n",
    "    # Use MSE since this is a regression problem\n",
    "    score = 'neg_mean_squared_error'\n",
    "\n",
    "    # Create a Pandas DF to hold all our spiffy results\n",
    "    featureDF = DataFrame(columns = ['Model', 'MSE', 'StdDev', 'Best Params'])\n",
    "\n",
    "    # Create feature union (adding SelectKBest)\n",
    "    features = []\n",
    "    features.append(('Scaler', StandardScaler()))\n",
    "    features.append(('SelectKBest', SelectKBest()))\n",
    "    featureUnion = FeatureUnion(features)\n",
    "\n",
    "    # Search for the best combination of parameters\n",
    "    featureResults = GridSearchCV(\n",
    "        Pipeline(\n",
    "            steps = [\n",
    "                ('FeatureUnion', featureUnion),\n",
    "                (modelName, modelObj)\n",
    "        ]),\n",
    "        param_grid = params,\n",
    "        scoring = score,\n",
    "        cv = KFold(n_splits = featureFolds, random_state = featureSeed),\n",
    "    ).fit(xTrain, yTrain)\n",
    "\n",
    "    featureDF.loc[len(featureDF)] = list([\n",
    "        modelName, \n",
    "        featureResults.best_score_,\n",
    "        featureResults.cv_results_['std_test_score'][featureResults.best_index_],\n",
    "        featureResults.best_params_,\n",
    "    ])\n",
    "\n",
    "    if showSummary:\n",
    "        set_option('display.max_colwidth', -1)\n",
    "        display(featureDF)\n",
    "    \n",
    "    if returnModel:\n",
    "        return featureResults"
   ]
  },
  {
   "cell_type": "markdown",
   "metadata": {
    "ExecuteTime": {
     "end_time": "2018-08-30T00:20:18.878047Z",
     "start_time": "2018-08-30T00:20:18.706133Z"
    }
   },
   "source": [
    "##### Execute deep model"
   ]
  },
  {
   "cell_type": "code",
   "execution_count": 35,
   "metadata": {
    "ExecuteTime": {
     "end_time": "2018-08-30T00:15:10.435077Z",
     "start_time": "2018-08-30T00:12:16.259885Z"
    },
    "deletable": false,
    "editable": false,
    "run_control": {
     "frozen": true
    }
   },
   "outputs": [
    {
     "data": {
      "text/html": [
       "<div>\n",
       "<style scoped>\n",
       "    .dataframe tbody tr th:only-of-type {\n",
       "        vertical-align: middle;\n",
       "    }\n",
       "\n",
       "    .dataframe tbody tr th {\n",
       "        vertical-align: top;\n",
       "    }\n",
       "\n",
       "    .dataframe thead th {\n",
       "        text-align: right;\n",
       "    }\n",
       "</style>\n",
       "<table border=\"1\" class=\"dataframe\">\n",
       "  <thead>\n",
       "    <tr style=\"text-align: right;\">\n",
       "      <th></th>\n",
       "      <th>Model</th>\n",
       "      <th>MSE</th>\n",
       "      <th>StdDev</th>\n",
       "      <th>Best Params</th>\n",
       "    </tr>\n",
       "  </thead>\n",
       "  <tbody>\n",
       "    <tr>\n",
       "      <th>0</th>\n",
       "      <td>housingModel</td>\n",
       "      <td>-13.262929</td>\n",
       "      <td>9.448623</td>\n",
       "      <td>{'FeatureUnion__SelectKBest__k': 2, 'housingModel__batch_size': 36, 'housingModel__epochs': 350, 'housingModel__epsilon': 1.5, 'housingModel__lr': 0.005, 'housingModel__optimizer': 'Adam'}</td>\n",
       "    </tr>\n",
       "  </tbody>\n",
       "</table>\n",
       "</div>"
      ],
      "text/plain": [
       "          Model        MSE    StdDev  \\\n",
       "0  housingModel -13.262929  9.448623   \n",
       "\n",
       "                                                                                                                                                                                    Best Params  \n",
       "0  {'FeatureUnion__SelectKBest__k': 2, 'housingModel__batch_size': 36, 'housingModel__epochs': 350, 'housingModel__epsilon': 1.5, 'housingModel__lr': 0.005, 'housingModel__optimizer': 'Adam'}  "
      ]
     },
     "metadata": {},
     "output_type": "display_data"
    }
   ],
   "source": [
    "finalModelName = \"housingModel\"\n",
    "finalModelObj =  KerasRegressor(build_fn = buildModelDeep, verbose = 0)\n",
    "finalParams = {\n",
    "    'housingModel__optimizer' : ['Adam'],\n",
    "    'housingModel__epochs' : [350],\n",
    "    'housingModel__batch_size' : [36],\n",
    "    'FeatureUnion__SelectKBest__k': [2, 3],\n",
    "    'housingModel__lr' : [0.005],\n",
    "    'housingModel__epsilon' : [1.5],\n",
    "}\n",
    "\n",
    "final = tuneFinalModel(finalModelName, finalModelObj, finalParams, 2, True, True)"
   ]
  },
  {
   "cell_type": "markdown",
   "metadata": {},
   "source": [
    "##### Execute wide model"
   ]
  },
  {
   "cell_type": "code",
   "execution_count": 36,
   "metadata": {
    "ExecuteTime": {
     "end_time": "2018-08-30T00:18:46.370363Z",
     "start_time": "2018-08-30T00:15:10.435077Z"
    },
    "deletable": false,
    "editable": false,
    "run_control": {
     "frozen": true
    }
   },
   "outputs": [
    {
     "data": {
      "text/html": [
       "<div>\n",
       "<style scoped>\n",
       "    .dataframe tbody tr th:only-of-type {\n",
       "        vertical-align: middle;\n",
       "    }\n",
       "\n",
       "    .dataframe tbody tr th {\n",
       "        vertical-align: top;\n",
       "    }\n",
       "\n",
       "    .dataframe thead th {\n",
       "        text-align: right;\n",
       "    }\n",
       "</style>\n",
       "<table border=\"1\" class=\"dataframe\">\n",
       "  <thead>\n",
       "    <tr style=\"text-align: right;\">\n",
       "      <th></th>\n",
       "      <th>Model</th>\n",
       "      <th>MSE</th>\n",
       "      <th>StdDev</th>\n",
       "      <th>Best Params</th>\n",
       "    </tr>\n",
       "  </thead>\n",
       "  <tbody>\n",
       "    <tr>\n",
       "      <th>0</th>\n",
       "      <td>housingModel</td>\n",
       "      <td>-13.167054</td>\n",
       "      <td>10.427444</td>\n",
       "      <td>{'FeatureUnion__SelectKBest__k': 2, 'housingModel__batch_size': 36, 'housingModel__epochs': 350, 'housingModel__epsilon': 1.5, 'housingModel__lr': 0.005, 'housingModel__optimizer': 'Adam'}</td>\n",
       "    </tr>\n",
       "  </tbody>\n",
       "</table>\n",
       "</div>"
      ],
      "text/plain": [
       "          Model        MSE     StdDev  \\\n",
       "0  housingModel -13.167054  10.427444   \n",
       "\n",
       "                                                                                                                                                                                    Best Params  \n",
       "0  {'FeatureUnion__SelectKBest__k': 2, 'housingModel__batch_size': 36, 'housingModel__epochs': 350, 'housingModel__epsilon': 1.5, 'housingModel__lr': 0.005, 'housingModel__optimizer': 'Adam'}  "
      ]
     },
     "metadata": {},
     "output_type": "display_data"
    }
   ],
   "source": [
    "finalModelName = \"housingModel\"\n",
    "finalModelObj =  KerasRegressor(build_fn = buildModelWide, verbose = 0)\n",
    "finalParams = {\n",
    "    'housingModel__optimizer' : ['Adam'],\n",
    "    'housingModel__epochs' : [350],\n",
    "    'housingModel__batch_size' : [36],\n",
    "    'FeatureUnion__SelectKBest__k': [2, 3],\n",
    "    'housingModel__lr' : [0.005],\n",
    "    'housingModel__epsilon' : [1.5],\n",
    "}\n",
    "\n",
    "final = tuneFinalModel(finalModelName, finalModelObj, finalParams, 2, True, True)"
   ]
  },
  {
   "cell_type": "markdown",
   "metadata": {},
   "source": [
    "#### Comments\n",
    "\n",
    "There doesn't really seem to be much of an improvement, so sticking with the original neural network we trained and tuned seems fine to continue on with.  Also, frankly at this point if this was a real problem I'd likely revert to the Gradient Boosting ensemble we tested in the [first write-up](https://nbviewer.jupyter.org/github/nrasch/Portfolio/blob/master/Machine-Learning/Python/04-Classic-Datasets/Model-02.ipynb), and see what kind of additional performance could be gained with that model.\n",
    "\n",
    "For reference here were the results of the ensemble algorithms:\n",
    "\n",
    "<pre>\n",
    "       Model     MSE  StdDev\n",
    "1  scaledGBM -9.700   5.342 \n",
    "3  scaledET  -10.339  5.399 \n",
    "2  scaledRF  -13.695  7.276 \n",
    "0  scaledAB  -14.176  8.917 \n",
    "</pre>\n"
   ]
  },
  {
   "cell_type": "markdown",
   "metadata": {
    "ExecuteTime": {
     "end_time": "2018-08-28T19:20:26.965128Z",
     "start_time": "2018-08-28T19:20:26.777691Z"
    }
   },
   "source": [
    "#### Graph final model performance\n",
    "\n",
    "Let's go ahead and do a little more testing on the final model, because frankly I'm a little unconvinced that K = 2 is a good choice for mitigating correlated features.  It seems like we might remove some desired detail from the data with such an aggressive feature pruning.\n",
    "\n",
    "##### Final model tuning for K best features:"
   ]
  },
  {
   "cell_type": "code",
   "execution_count": 39,
   "metadata": {
    "ExecuteTime": {
     "end_time": "2018-08-30T01:25:14.392120Z",
     "start_time": "2018-08-30T00:33:41.150293Z"
    }
   },
   "outputs": [
    {
     "name": "stdout",
     "output_type": "stream",
     "text": [
      "Fitting 10 folds for each of 12 candidates, totalling 120 fits\n"
     ]
    },
    {
     "name": "stderr",
     "output_type": "stream",
     "text": [
      "[Parallel(n_jobs=1)]: Done 120 out of 120 | elapsed: 50.9min finished\n"
     ]
    },
    {
     "name": "stdout",
     "output_type": "stream",
     "text": [
      "-13.961790543418225\n"
     ]
    }
   ],
   "source": [
    "# Init vars and params\n",
    "folds = 10\n",
    "seed = 10\n",
    "np.random.seed(seed)\n",
    "modelName = 'finalModel'\n",
    "\n",
    "# Use MSE since this is a regression problem\n",
    "score = 'neg_mean_squared_error'\n",
    "\n",
    "# Create a Pandas DF to hold all our spiffy results\n",
    "df = DataFrame(columns = ['Model', 'MSE', 'StdDev'])\n",
    "\n",
    "# Build the model\n",
    "model = KerasRegressor(\n",
    "    build_fn = wrapper(\n",
    "        optimizer = 'Adam', \n",
    "        lr = 0.005, \n",
    "        epsilon = 1.5\n",
    "    ), \n",
    "    epochs = 350,\n",
    "    batch_size = 36,\n",
    "    verbose = 0\n",
    ")\n",
    "\n",
    "# Create feature union\n",
    "combined = FeatureUnion([\n",
    "    (\"scaler\", StandardScaler()), \n",
    "    (\"select\", SelectKBest())\n",
    "])\n",
    "\n",
    "# Create the pipeline\n",
    "pipeline = Pipeline([(\"features\", combined), (modelName, model)])\n",
    "\n",
    "# Define param grid to search over\n",
    "param_grid = dict(\n",
    "    features__select__k = [2, 3, 4, 5, 6, 7, 8, 9, 10, 11, 12, 13],\n",
    ")\n",
    "\n",
    "# Create cross validation object\n",
    "kFold = KFold(n_splits = folds, random_state = seed)\n",
    "\n",
    "# Create the grid search object\n",
    "grid_search = GridSearchCV(\n",
    "    pipeline, \n",
    "    param_grid = param_grid, \n",
    "    scoring = score,\n",
    "    cv = kFold,\n",
    "    verbose = 1)\n",
    "\n",
    "# Train the model and search for optimal hyperparams\n",
    "grid_search.fit(xTrain, yTrain)\n",
    "\n",
    "# Output\n",
    "print(grid_search.best_score_)"
   ]
  },
  {
   "cell_type": "code",
   "execution_count": 40,
   "metadata": {
    "ExecuteTime": {
     "end_time": "2018-08-30T01:25:14.630135Z",
     "start_time": "2018-08-30T01:25:14.395123Z"
    }
   },
   "outputs": [
    {
     "name": "stdout",
     "output_type": "stream",
     "text": [
      "    mean_test_score  std_test_score                       params\n",
      "0  -13.961791        11.748834       {'features__select__k': 2} \n",
      "1  -14.346668        10.508962       {'features__select__k': 3} \n",
      "2  -15.122275        10.261842       {'features__select__k': 4} \n",
      "5  -16.356510        8.218922        {'features__select__k': 7} \n",
      "7  -16.430802        6.577576        {'features__select__k': 9} \n",
      "3  -16.843143        11.069252       {'features__select__k': 5} \n",
      "11 -17.088482        8.540777        {'features__select__k': 13}\n",
      "9  -17.318703        4.992174        {'features__select__k': 11}\n",
      "4  -17.832024        10.696923       {'features__select__k': 6} \n",
      "6  -18.295784        10.542066       {'features__select__k': 8} \n",
      "8  -18.450330        12.740765       {'features__select__k': 10}\n",
      "10 -31.943834        41.436519       {'features__select__k': 12}\n"
     ]
    }
   ],
   "source": [
    "_df = DataFrame(grid_search.cv_results_)\n",
    "print(_df.loc[:, ['mean_test_score', 'std_test_score', 'params']].sort_values(by = ['mean_test_score', 'std_test_score'], ascending = False))"
   ]
  },
  {
   "cell_type": "markdown",
   "metadata": {},
   "source": [
    "Hrmmph!  It appears our model insists on K = 2, so that's what we'll go with.  ;)"
   ]
  },
  {
   "cell_type": "markdown",
   "metadata": {},
   "source": [
    "##### Graph the model's loss\n",
    "\n",
    "OK, now we have the hyperparameters picked out for the final model.  We'll go ahead and fit it, graph the performance during training, and then make some predictions."
   ]
  },
  {
   "cell_type": "code",
   "execution_count": 41,
   "metadata": {
    "ExecuteTime": {
     "end_time": "2018-08-30T01:28:30.879926Z",
     "start_time": "2018-08-30T01:27:41.363388Z"
    }
   },
   "outputs": [
    {
     "data": {
      "text/plain": [
       "dict_keys(['val_loss', 'loss'])"
      ]
     },
     "execution_count": 41,
     "metadata": {},
     "output_type": "execute_result"
    }
   ],
   "source": [
    "# Create feature union\n",
    "combined = FeatureUnion([\n",
    "    (\"scaler\", StandardScaler()), \n",
    "    (\"select\", SelectKBest(k = 2))\n",
    "])\n",
    "\n",
    "xFeatures     = combined.fit(xTrain, yTrain).transform(xTrain)\n",
    "xValFeatures  = combined.fit(xTrain, yTrain).transform(xVal)\n",
    "\n",
    "history = model.fit(xFeatures, yTrain, validation_data=(xValFeatures, yVal))\n",
    "history.history.keys()"
   ]
  },
  {
   "cell_type": "code",
   "execution_count": 65,
   "metadata": {
    "ExecuteTime": {
     "end_time": "2018-08-30T06:03:49.728302Z",
     "start_time": "2018-08-30T06:03:49.371345Z"
    }
   },
   "outputs": [
    {
     "data": {
      "image/png": "[encoded data removed]",
      "text/plain": [
       "<matplotlib.figure.Figure at 0x1908bcd208>"
      ]
     },
     "metadata": {},
     "output_type": "display_data"
    }
   ],
   "source": [
    "figure = pyplot.figure(figsize = (7,5))\n",
    "axis = figure.add_subplot(111)\n",
    "axis.plot(history.history['loss'])\n",
    "axis.plot(history.history['val_loss'])\n",
    "pyplot.title('Model Loss')\n",
    "pyplot.ylabel('Loss')\n",
    "pyplot.xlabel('Epoch')\n",
    "axis.legend(['Train', 'Test'], loc='upper left')\n",
    "pyplot.show()"
   ]
  },
  {
   "cell_type": "markdown",
   "metadata": {},
   "source": [
    "The loss graph looks pretty good.  We have a nice smooth curve the slopes downwards. and then it flattens out as the model converges.  We don't for example have a large gap between the Test and Train results, or have the Test line flatten out while the Train line continues to decrease.  (Both of these would indicate an overfitting issue.)"
   ]
  },
  {
   "cell_type": "markdown",
   "metadata": {},
   "source": [
    "##### Calculate predictions"
   ]
  },
  {
   "cell_type": "code",
   "execution_count": 67,
   "metadata": {
    "ExecuteTime": {
     "end_time": "2018-08-30T06:05:49.628303Z",
     "start_time": "2018-08-30T06:05:04.355466Z"
    }
   },
   "outputs": [],
   "source": [
    "model.fit(xFeatures, yTrain)\n",
    "preds = model.predict(xValFeatures)\n",
    "mse = mean_squared_error(yVal, preds)\n",
    "rmse = sqrt(mse)"
   ]
  },
  {
   "cell_type": "code",
   "execution_count": 68,
   "metadata": {
    "ExecuteTime": {
     "end_time": "2018-08-30T06:05:49.798297Z",
     "start_time": "2018-08-30T06:05:49.631259Z"
    }
   },
   "outputs": [
    {
     "name": "stdout",
     "output_type": "stream",
     "text": [
      "MSE =  14.257438902440343\n",
      "RMSE =  3.7759023957777753\n"
     ]
    }
   ],
   "source": [
    "print(\"MSE = \", mse)\n",
    "print(\"RMSE = \", rmse)"
   ]
  },
  {
   "cell_type": "code",
   "execution_count": 69,
   "metadata": {
    "ExecuteTime": {
     "end_time": "2018-08-30T06:05:49.981246Z",
     "start_time": "2018-08-30T06:05:49.804238Z"
    }
   },
   "outputs": [
    {
     "data": {
      "text/plain": [
       "{'batch_size': 36,\n",
       " 'build_fn': <function __main__.wrapper.<locals>.buildModel>,\n",
       " 'epochs': 350,\n",
       " 'verbose': 0}"
      ]
     },
     "execution_count": 69,
     "metadata": {},
     "output_type": "execute_result"
    }
   ],
   "source": [
    "model.get_params()"
   ]
  },
  {
   "cell_type": "markdown",
   "metadata": {},
   "source": [
    "# Final comments\n",
    "\n",
    "I as noted above the Gradient Boosting ensemble outperforms the neural network implementation explored in this write-up.  For a real project at this point I'd likely stop working on improving the neural network and explore increasing performance with Gradient Boosting.\n",
    "\n",
    "For reference:\n",
    "\n",
    "|Model     |Write-up              |Prediction MSE|\n",
    "|----------|------------------------|--------------|\n",
    "|GB        | Model-02.Keras         | 12.24        |\n",
    "|Neural Net| Model-02.Keras.1.ipynb | 11.94        |\n",
    "|Neural Net| Model-02.Keras.2.ipynb | 14.26        |"
   ]
  },
  {
   "cell_type": "code",
   "execution_count": null,
   "metadata": {},
   "outputs": [],
   "source": []
  }
 ],
 "metadata": {
  "kernelspec": {
   "display_name": "Python 3",
   "language": "python",
   "name": "python3"
  },
  "language_info": {
   "codemirror_mode": {
    "name": "ipython",
    "version": 3
   },
   "file_extension": ".py",
   "mimetype": "text/x-python",
   "name": "python",
   "nbconvert_exporter": "python",
   "pygments_lexer": "ipython3",
   "version": "3.6.5"
  },
  "notify_time": "30",
  "toc": {
   "base_numbering": 1,
   "nav_menu": {},
   "number_sections": true,
   "sideBar": true,
   "skip_h1_title": false,
   "title_cell": "Table of Contents",
   "title_sidebar": "Contents",
   "toc_cell": true,
   "toc_position": {},
   "toc_section_display": true,
   "toc_window_display": false
  }
 },
 "nbformat": 4,
 "nbformat_minor": 2
}
