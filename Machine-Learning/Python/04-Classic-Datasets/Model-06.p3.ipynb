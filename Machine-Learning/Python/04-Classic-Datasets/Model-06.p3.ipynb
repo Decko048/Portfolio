{
 "cells": [
  {
   "cell_type": "markdown",
   "metadata": {
    "toc": true
   },
   "source": [
    "<h1>Table of Contents<span class=\"tocSkip\"></span></h1>\n",
    "<div class=\"toc\"><ul class=\"toc-item\"><li><span><a href=\"#IMDB-Movie-Review-Sentiment-Classification\" data-toc-modified-id=\"IMDB-Movie-Review-Sentiment-Classification-1\"><span class=\"toc-item-num\">1&nbsp;&nbsp;</span>IMDB Movie Review Sentiment Classification</a></span></li><li><span><a href=\"#Purpose\" data-toc-modified-id=\"Purpose-2\"><span class=\"toc-item-num\">2&nbsp;&nbsp;</span>Purpose</a></span></li><li><span><a href=\"#Process\" data-toc-modified-id=\"Process-3\"><span class=\"toc-item-num\">3&nbsp;&nbsp;</span>Process</a></span></li><li><span><a href=\"#Configure-notebook,-import-libraries,-and-import-dataset\" data-toc-modified-id=\"Configure-notebook,-import-libraries,-and-import-dataset-4\"><span class=\"toc-item-num\">4&nbsp;&nbsp;</span>Configure notebook, import libraries, and import dataset</a></span><ul class=\"toc-item\"><li><span><a href=\"#Import-libraries\" data-toc-modified-id=\"Import-libraries-4.1\"><span class=\"toc-item-num\">4.1&nbsp;&nbsp;</span>Import libraries</a></span></li><li><span><a href=\"#Define-global-variables\" data-toc-modified-id=\"Define-global-variables-4.2\"><span class=\"toc-item-num\">4.2&nbsp;&nbsp;</span>Define global variables</a></span></li><li><span><a href=\"#Import-labeled-data\" data-toc-modified-id=\"Import-labeled-data-4.3\"><span class=\"toc-item-num\">4.3&nbsp;&nbsp;</span>Import labeled data</a></span></li></ul></li><li><span><a href=\"#Examine-the-data\" data-toc-modified-id=\"Examine-the-data-5\"><span class=\"toc-item-num\">5&nbsp;&nbsp;</span>Examine the data</a></span></li><li><span><a href=\"#Cleaning-and-preprocessing\" data-toc-modified-id=\"Cleaning-and-preprocessing-6\"><span class=\"toc-item-num\">6&nbsp;&nbsp;</span>Cleaning and preprocessing</a></span><ul class=\"toc-item\"><li><span><a href=\"#Load-training-data\" data-toc-modified-id=\"Load-training-data-6.1\"><span class=\"toc-item-num\">6.1&nbsp;&nbsp;</span>Load training data</a></span></li><li><span><a href=\"#Write-helper-functions\" data-toc-modified-id=\"Write-helper-functions-6.2\"><span class=\"toc-item-num\">6.2&nbsp;&nbsp;</span>Write helper functions</a></span><ul class=\"toc-item\"><li><span><a href=\"#Sentence-cleaner\" data-toc-modified-id=\"Sentence-cleaner-6.2.1\"><span class=\"toc-item-num\">6.2.1&nbsp;&nbsp;</span>Sentence cleaner</a></span></li><li><span><a href=\"#Review-tokenizer\" data-toc-modified-id=\"Review-tokenizer-6.2.2\"><span class=\"toc-item-num\">6.2.2&nbsp;&nbsp;</span>Review tokenizer</a></span></li></ul></li><li><span><a href=\"#Process-training-data\" data-toc-modified-id=\"Process-training-data-6.3\"><span class=\"toc-item-num\">6.3&nbsp;&nbsp;</span>Process training data</a></span></li><li><span><a href=\"#Train-Word2Vec\" data-toc-modified-id=\"Train-Word2Vec-6.4\"><span class=\"toc-item-num\">6.4&nbsp;&nbsp;</span>Train Word2Vec</a></span></li><li><span><a href=\"#Centroid-development\" data-toc-modified-id=\"Centroid-development-6.5\"><span class=\"toc-item-num\">6.5&nbsp;&nbsp;</span>Centroid development</a></span><ul class=\"toc-item\"><li><span><a href=\"#Feature-array-creation\" data-toc-modified-id=\"Feature-array-creation-6.5.1\"><span class=\"toc-item-num\">6.5.1&nbsp;&nbsp;</span>Feature array creation</a></span><ul class=\"toc-item\"><li><span><a href=\"#Write-helper-function\" data-toc-modified-id=\"Write-helper-function-6.5.1.1\"><span class=\"toc-item-num\">6.5.1.1&nbsp;&nbsp;</span>Write helper function</a></span></li><li><span><a href=\"#Tokenize-and-clean-labeled-training-data\" data-toc-modified-id=\"Tokenize-and-clean-labeled-training-data-6.5.1.2\"><span class=\"toc-item-num\">6.5.1.2&nbsp;&nbsp;</span>Tokenize and clean labeled training data</a></span></li><li><span><a href=\"#Create-feature-set-centroids\" data-toc-modified-id=\"Create-feature-set-centroids-6.5.1.3\"><span class=\"toc-item-num\">6.5.1.3&nbsp;&nbsp;</span>Create feature set centroids</a></span></li></ul></li></ul></li></ul></li><li><span><a href=\"#Model-training-and-evaluation\" data-toc-modified-id=\"Model-training-and-evaluation-7\"><span class=\"toc-item-num\">7&nbsp;&nbsp;</span>Model training and evaluation</a></span><ul class=\"toc-item\"><li><span><a href=\"#Kaggle-model\" data-toc-modified-id=\"Kaggle-model-7.1\"><span class=\"toc-item-num\">7.1&nbsp;&nbsp;</span>Kaggle model</a></span></li><li><span><a href=\"#Standard-write-up-models\" data-toc-modified-id=\"Standard-write-up-models-7.2\"><span class=\"toc-item-num\">7.2&nbsp;&nbsp;</span>Standard write-up models</a></span></li></ul></li><li><span><a href=\"#Summary\" data-toc-modified-id=\"Summary-8\"><span class=\"toc-item-num\">8&nbsp;&nbsp;</span>Summary</a></span></li></ul></div>"
   ]
  },
  {
   "cell_type": "markdown",
   "metadata": {},
   "source": [
    "<h1>IMDB Movie Review Sentiment Classification</h1>"
   ]
  },
  {
   "cell_type": "markdown",
   "metadata": {},
   "source": [
    "<img style=\"float: left; margin-right: 15px; width: 30%; height: 30%;\" src=\"images/imdb.jpg\" />"
   ]
  },
  {
   "cell_type": "markdown",
   "metadata": {},
   "source": [
    "# Purpose\n",
    "\n",
    "The overall goal of this set of write-ups is to explore a number of machine learning algorithms utilizing natural language processing (NLP) to classify sentiment IMDB movie reviews.\n",
    "\n",
    "The specific goals of this write-up include:\n",
    "1. Create a set of word embeddings from the IMDb movie review text utilizing [Word2vec](https://en.wikipedia.org/wiki/Word2vec)\n",
    "2. Cluster the embeddings utilizing a K-nearest neighbors algorithm into a set of centroids\n",
    "2. Run the models from the [last write-up](./Model-06.ipynb) against the centroid feature set\n",
    "3. Determine if the centroid feature set improves our ability to correctly classify movie review sentiment\n",
    "\n",
    "This series of write-ups is inspired by the Kaggle [\n",
    "Bag of Words Meets Bags of Popcorn](https://www.kaggle.com/c/word2vec-nlp-tutorial) competition.    \n",
    "\n",
    "Dataset source:  [IMDB Movie Reviews](https://www.kaggle.com/c/word2vec-nlp-tutorial/data)"
   ]
  },
  {
   "cell_type": "markdown",
   "metadata": {},
   "source": [
    "# Process\n",
    "\n",
    "Previously covered [here](./Model-06.ipynb#Process)."
   ]
  },
  {
   "cell_type": "markdown",
   "metadata": {},
   "source": [
    "# Configure notebook, import libraries, and import dataset"
   ]
  },
  {
   "cell_type": "markdown",
   "metadata": {
    "ExecuteTime": {
     "end_time": "2018-10-16T15:16:22.416553Z",
     "start_time": "2018-10-16T15:16:22.413553Z"
    }
   },
   "source": [
    "## Import libraries"
   ]
  },
  {
   "cell_type": "code",
   "execution_count": 33,
   "metadata": {
    "ExecuteTime": {
     "end_time": "2018-11-05T15:57:56.046440Z",
     "start_time": "2018-11-05T15:57:55.437249Z"
    }
   },
   "outputs": [
    {
     "name": "stdout",
     "output_type": "stream",
     "text": [
      "The autoreload extension is already loaded. To reload it, use:\n",
      "  %reload_ext autoreload\n"
     ]
    }
   ],
   "source": [
    "%matplotlib inline\n",
    "%load_ext autoreload\n",
    "%autoreload 2\n",
    "\n",
    "import warnings\n",
    "warnings.filterwarnings('ignore')\n",
    "\n",
    "import os\n",
    "import re\n",
    "import numpy as np\n",
    "import matplotlib.pyplot as plt\n",
    "import seaborn as sns\n",
    "\n",
    "import pandas as pd\n",
    "from pandas import set_option\n",
    "\n",
    "from sklearn.feature_extraction.text import CountVectorizer\n",
    "\n",
    "from sklearn.linear_model import LogisticRegression\n",
    "from sklearn.tree import DecisionTreeClassifier\n",
    "from sklearn.neighbors import KNeighborsClassifier\n",
    "from sklearn.discriminant_analysis import LinearDiscriminantAnalysis\n",
    "from sklearn.naive_bayes import GaussianNB\n",
    "from sklearn.svm import SVC\n",
    "\n",
    "from sklearn.feature_selection import SelectKBest\n",
    "from sklearn.feature_selection import f_regression\n",
    "\n",
    "from sklearn.pipeline import Pipeline\n",
    "from sklearn.pipeline import FeatureUnion\n",
    "\n",
    "from sklearn.ensemble import AdaBoostClassifier\n",
    "from sklearn.ensemble import GradientBoostingClassifier\n",
    "from sklearn.ensemble import RandomForestClassifier\n",
    "from sklearn.ensemble import ExtraTreesClassifier\n",
    "\n",
    "from sklearn.model_selection import train_test_split\n",
    "from sklearn.model_selection import KFold\n",
    "from sklearn.model_selection import cross_val_score\n",
    "from sklearn.model_selection import GridSearchCV\n",
    "\n",
    "from sklearn.preprocessing import StandardScaler\n",
    "\n",
    "from sklearn.metrics import classification_report\n",
    "from sklearn.metrics import confusion_matrix\n",
    "from sklearn.metrics import accuracy_score\n",
    "\n",
    "from sklearn.cluster import KMeans\n",
    "\n",
    "\n",
    "# http://www.nltk.org/index.html\n",
    "# pip install nltk\n",
    "import nltk\n",
    "from nltk.corpus import stopwords\n",
    "\n",
    "\n",
    "# Creating function implementing punkt tokenizer for sentence splitting\n",
    "import nltk.data\n",
    "\n",
    "# Only need this the first time...\n",
    "# nltk.download('punkt')\n",
    "\n",
    "\n",
    "# https://www.crummy.com/software/BeautifulSoup/bs4/doc/\n",
    "# pip install BeautifulSoup4\n",
    "from bs4 import BeautifulSoup\n",
    "\n",
    "\n",
    "# https://pypi.org/project/gensim/\n",
    "# pip install gensim\n",
    "from gensim.models import word2vec\n",
    "\n",
    "\n",
    "import logging\n",
    "logging.basicConfig(format='%(asctime)s : %(levelname)s : %(message)s', level = logging.INFO)"
   ]
  },
  {
   "cell_type": "markdown",
   "metadata": {},
   "source": [
    "## Define global variables"
   ]
  },
  {
   "cell_type": "code",
   "execution_count": 2,
   "metadata": {
    "ExecuteTime": {
     "end_time": "2018-11-01T20:15:01.505995Z",
     "start_time": "2018-11-01T20:15:01.142995Z"
    }
   },
   "outputs": [],
   "source": [
    "seed = 10\n",
    "np.random.seed(seed)\n",
    "\n",
    "# Opens a GUI that allows us to download the NLTK data\n",
    "# nltk.download()\n",
    "\n",
    "dataPath = os.path.join('.', 'datasets', 'imdb_movie_reviews')\n",
    "labeledTrainData = os.path.join(dataPath, 'labeledTrainData.tsv')"
   ]
  },
  {
   "cell_type": "markdown",
   "metadata": {},
   "source": [
    "## Import labeled data"
   ]
  },
  {
   "cell_type": "code",
   "execution_count": 3,
   "metadata": {
    "ExecuteTime": {
     "end_time": "2018-11-01T20:15:02.211995Z",
     "start_time": "2018-11-01T20:15:01.507995Z"
    }
   },
   "outputs": [],
   "source": [
    "df = pd.read_csv(labeledTrainData, sep = '\\t', header = 0, quoting = 3)"
   ]
  },
  {
   "cell_type": "markdown",
   "metadata": {},
   "source": [
    "# Examine the data\n",
    "\n",
    "Previously covered [here](./Model-06.ipynb#Examine-the-data)."
   ]
  },
  {
   "cell_type": "markdown",
   "metadata": {},
   "source": [
    "# Cleaning and preprocessing"
   ]
  },
  {
   "cell_type": "markdown",
   "metadata": {},
   "source": [
    "## Load training data"
   ]
  },
  {
   "cell_type": "markdown",
   "metadata": {},
   "source": [
    "(Previous process justification and methodology also previously covered [here](./Model-06.ipynb#Cleaning-and-preprocessing).)\n",
    "\n",
    "First, read in the labeled training data (which we've done before) as well as the unlabeled training data (which is new to this write-up).  The more data we can feed to Word2Vec the better, and this will help the algorithm associate related words more accurately."
   ]
  },
  {
   "cell_type": "code",
   "execution_count": 6,
   "metadata": {
    "ExecuteTime": {
     "end_time": "2018-11-01T20:15:13.730995Z",
     "start_time": "2018-11-01T20:15:12.242995Z"
    }
   },
   "outputs": [],
   "source": [
    "# Pull in the labeled data\n",
    "labeledTrainData = os.path.join(dataPath, 'labeledTrainData.tsv')\n",
    "df = pd.read_csv(labeledTrainData, sep = '\\t', header = 0, quoting = 3)\n",
    "\n",
    "# Pull in the unlabeled data since it can also be utilized by Word2Vec\n",
    "unlabeledTrainData = os.path.join(dataPath, 'unlabeledTrainData.tsv')\n",
    "dfUn = pd.read_csv(unlabeledTrainData, sep = '\\t', header = 0, quoting = 3)"
   ]
  },
  {
   "cell_type": "code",
   "execution_count": 7,
   "metadata": {
    "ExecuteTime": {
     "end_time": "2018-11-01T20:15:14.062995Z",
     "start_time": "2018-11-01T20:15:13.731995Z"
    }
   },
   "outputs": [
    {
     "name": "stdout",
     "output_type": "stream",
     "text": [
      "df.shape : (25000, 3)\n",
      "dfUn.shape : (50000, 2)\n"
     ]
    }
   ],
   "source": [
    "# Validation\n",
    "print('df.shape :', df.shape)\n",
    "print('dfUn.shape :', dfUn.shape)"
   ]
  },
  {
   "cell_type": "markdown",
   "metadata": {},
   "source": [
    "## Write helper functions\n",
    "\n",
    "Word2Vec expects single sentences as inputs, and each sentence formated as a list of words (i.e. a list of lists).  Let's write two functions to achieve this next."
   ]
  },
  {
   "cell_type": "markdown",
   "metadata": {},
   "source": [
    "### Sentence cleaner\n",
    "\n",
    "Take a given sentence and process/clean it (i.e. remove HTML and other cruft, lower case the text, etc.)."
   ]
  },
  {
   "cell_type": "code",
   "execution_count": 8,
   "metadata": {
    "ExecuteTime": {
     "end_time": "2018-11-01T20:15:14.357995Z",
     "start_time": "2018-11-01T20:15:14.064995Z"
    }
   },
   "outputs": [],
   "source": [
    "# Update stop word helper function to output a list of words\n",
    "\n",
    "# Clean IMDB review text\n",
    "def cleanReview(review, removeStopWords = False):\n",
    "    # Convert the stop words to a set\n",
    "    stopWords = set(stopwords.words(\"english\"))\n",
    "    \n",
    "    # Remove HTML\n",
    "    clean = BeautifulSoup(review)\n",
    "    \n",
    "    # Remove non-alpha chars\n",
    "    clean = re.sub(\"[^a-zA-Z]\", ' ', clean.get_text())\n",
    "    \n",
    "    # Convert to lower case and \"tokenize\"\n",
    "    clean = clean.lower().split()\n",
    "    \n",
    "    # Remove stop words\n",
    "    if removeStopWords:\n",
    "        clean = [x for x in clean if not x in stopWords]\n",
    "    \n",
    "    # Return results\n",
    "    return clean"
   ]
  },
  {
   "cell_type": "markdown",
   "metadata": {},
   "source": [
    "A quick examination of the output:"
   ]
  },
  {
   "cell_type": "code",
   "execution_count": 9,
   "metadata": {
    "ExecuteTime": {
     "end_time": "2018-11-01T20:15:14.652995Z",
     "start_time": "2018-11-01T20:15:14.359995Z"
    }
   },
   "outputs": [
    {
     "data": {
      "text/plain": [
       "['looking',\n",
       " 'for',\n",
       " 'quo',\n",
       " 'vadis',\n",
       " 'at',\n",
       " 'my',\n",
       " 'local',\n",
       " 'video',\n",
       " 'store',\n",
       " 'i',\n",
       " 'found',\n",
       " 'this']"
      ]
     },
     "execution_count": 9,
     "metadata": {},
     "output_type": "execute_result"
    }
   ],
   "source": [
    "# Examine\n",
    "cleanReview(df.iloc[25,2])[:12]"
   ]
  },
  {
   "cell_type": "code",
   "execution_count": 10,
   "metadata": {
    "ExecuteTime": {
     "end_time": "2018-11-01T20:15:14.944995Z",
     "start_time": "2018-11-01T20:15:14.654995Z"
    }
   },
   "outputs": [
    {
     "data": {
      "text/plain": [
       "['watching',\n",
       " 'time',\n",
       " 'chasers',\n",
       " 'it',\n",
       " 'obvious',\n",
       " 'that',\n",
       " 'it',\n",
       " 'was',\n",
       " 'made',\n",
       " 'by',\n",
       " 'a',\n",
       " 'bunch']"
      ]
     },
     "execution_count": 10,
     "metadata": {},
     "output_type": "execute_result"
    }
   ],
   "source": [
    "# Examine\n",
    "cleanReview(dfUn.iloc[0,1])[:12]"
   ]
  },
  {
   "cell_type": "markdown",
   "metadata": {},
   "source": [
    "### Review tokenizer\n",
    "\n",
    "Given a blob of review text tokenize it into individual sentences, and then feed those sentences to the sentence cleaner function for processing.  The final output should be a list of lists suitable for use by Word2Vec."
   ]
  },
  {
   "cell_type": "code",
   "execution_count": 11,
   "metadata": {
    "ExecuteTime": {
     "end_time": "2018-11-01T20:15:15.286995Z",
     "start_time": "2018-11-01T20:15:14.945995Z"
    }
   },
   "outputs": [],
   "source": [
    "# Load the punkt tokenizer\n",
    "tokenizer = nltk.data.load('tokenizers/punkt/english.pickle')\n",
    "\n",
    "# Define a function to split a review into parsed sentences\n",
    "def createSentences(review, tokenizer, remove_stopwords = False):\n",
    "    # Init container to hold results\n",
    "    sentences = []\n",
    "    \n",
    "    # Split review string into sentences\n",
    "    tokenSentences = tokenizer.tokenize(review.strip())\n",
    "\n",
    "    # Clean the sentences via cleanReview() function\n",
    "    for s in tokenSentences:\n",
    "        # If a sentence is empty, skip it\n",
    "        if len(s) > 0:\n",
    "            # Clean sentence\n",
    "            sentences.append( cleanReview( s, remove_stopwords ))\n",
    "    \n",
    "    # Return list of clean sentences\n",
    "    return sentences"
   ]
  },
  {
   "cell_type": "markdown",
   "metadata": {},
   "source": [
    "A quick examination of the output:"
   ]
  },
  {
   "cell_type": "code",
   "execution_count": 12,
   "metadata": {
    "ExecuteTime": {
     "end_time": "2018-11-01T20:15:15.623995Z",
     "start_time": "2018-11-01T20:15:15.287995Z"
    }
   },
   "outputs": [
    {
     "name": "stdout",
     "output_type": "stream",
     "text": [
      "['looking', 'for', 'quo', 'vadis', 'at', 'my', 'local', 'video', 'store', 'i', 'found', 'this']\n",
      "8\n"
     ]
    }
   ],
   "source": [
    "# Examine\n",
    "_ = createSentences(df.iloc[25,2], tokenizer)\n",
    "print(_[0][:12])\n",
    "print(len(_))"
   ]
  },
  {
   "cell_type": "code",
   "execution_count": 13,
   "metadata": {
    "ExecuteTime": {
     "end_time": "2018-11-01T20:15:15.977995Z",
     "start_time": "2018-11-01T20:15:15.624995Z"
    }
   },
   "outputs": [
    {
     "name": "stdout",
     "output_type": "stream",
     "text": [
      "['watching', 'time', 'chasers', 'it', 'obvious', 'that', 'it', 'was', 'made', 'by', 'a', 'bunch']\n",
      "5\n"
     ]
    }
   ],
   "source": [
    "# Examine\n",
    "_ = createSentences(dfUn.iloc[0,1], tokenizer)\n",
    "print(_[0][:12])\n",
    "print(len(_))"
   ]
  },
  {
   "cell_type": "markdown",
   "metadata": {},
   "source": [
    "## Process training data \n",
    "\n",
    "Now we'll combine the labeled and unlabeled training data and output the list of lists utilizing the helper functions we wrote above:"
   ]
  },
  {
   "cell_type": "code",
   "execution_count": 14,
   "metadata": {
    "ExecuteTime": {
     "end_time": "2018-11-01T20:21:49.476995Z",
     "start_time": "2018-11-01T20:15:15.978995Z"
    }
   },
   "outputs": [],
   "source": [
    "combined = []\n",
    "\n",
    "for s in df.iloc[:,2]:\n",
    "    combined += createSentences(s, tokenizer)"
   ]
  },
  {
   "cell_type": "code",
   "execution_count": 15,
   "metadata": {
    "ExecuteTime": {
     "end_time": "2018-11-01T20:34:27.650550Z",
     "start_time": "2018-11-01T20:21:49.478995Z"
    }
   },
   "outputs": [],
   "source": [
    "for s in dfUn.iloc[:,1]:\n",
    "    combined += createSentences(s, tokenizer)"
   ]
  },
  {
   "cell_type": "markdown",
   "metadata": {},
   "source": [
    "Quick examination:"
   ]
  },
  {
   "cell_type": "code",
   "execution_count": 16,
   "metadata": {
    "ExecuteTime": {
     "end_time": "2018-11-01T20:34:27.964550Z",
     "start_time": "2018-11-01T20:34:27.652550Z"
    }
   },
   "outputs": [
    {
     "name": "stdout",
     "output_type": "stream",
     "text": [
      "len(combined):  795538\n",
      "\n",
      "Sample sentence:\n",
      "['with', 'all', 'this', 'stuff', 'going', 'down', 'at', 'the', 'moment', 'with', 'mj', 'i', 've', 'started', 'listening', 'to', 'his', 'music', 'watching', 'the', 'odd', 'documentary', 'here', 'and', 'there', 'watched', 'the', 'wiz', 'and', 'watched', 'moonwalker', 'again']\n"
     ]
    }
   ],
   "source": [
    "print('len(combined): ', len(combined))\n",
    "print(\"\\nSample sentence:\")\n",
    "print(combined[0])"
   ]
  },
  {
   "cell_type": "markdown",
   "metadata": {},
   "source": [
    "## Train Word2Vec\n",
    "\n",
    "Train the Word2Vec model on the processed training data (labled and unlabeled) from the previous steps:"
   ]
  },
  {
   "cell_type": "code",
   "execution_count": 17,
   "metadata": {
    "ExecuteTime": {
     "end_time": "2018-11-01T20:35:49.305549Z",
     "start_time": "2018-11-01T20:34:27.967550Z"
    },
    "scrolled": true
   },
   "outputs": [
    {
     "name": "stderr",
     "output_type": "stream",
     "text": [
      "2018-11-01 14:34:28,272 : INFO : collecting all words and their counts\n",
      "2018-11-01 14:34:28,272 : INFO : PROGRESS: at sentence #0, processed 0 words, keeping 0 word types\n",
      "2018-11-01 14:34:28,315 : INFO : PROGRESS: at sentence #10000, processed 225803 words, keeping 17776 word types\n",
      "2018-11-01 14:34:28,357 : INFO : PROGRESS: at sentence #20000, processed 451892 words, keeping 24948 word types\n",
      "2018-11-01 14:34:28,397 : INFO : PROGRESS: at sentence #30000, processed 671315 words, keeping 30034 word types\n",
      "2018-11-01 14:34:28,441 : INFO : PROGRESS: at sentence #40000, processed 897815 words, keeping 34348 word types\n",
      "2018-11-01 14:34:28,482 : INFO : PROGRESS: at sentence #50000, processed 1116963 words, keeping 37761 word types\n",
      "2018-11-01 14:34:28,524 : INFO : PROGRESS: at sentence #60000, processed 1338404 words, keeping 40723 word types\n",
      "2018-11-01 14:34:28,566 : INFO : PROGRESS: at sentence #70000, processed 1561580 words, keeping 43333 word types\n",
      "2018-11-01 14:34:28,609 : INFO : PROGRESS: at sentence #80000, processed 1780887 words, keeping 45714 word types\n",
      "2018-11-01 14:34:28,652 : INFO : PROGRESS: at sentence #90000, processed 2004996 words, keeping 48135 word types\n",
      "2018-11-01 14:34:28,697 : INFO : PROGRESS: at sentence #100000, processed 2226966 words, keeping 50207 word types\n",
      "2018-11-01 14:34:28,739 : INFO : PROGRESS: at sentence #110000, processed 2446580 words, keeping 52081 word types\n",
      "2018-11-01 14:34:28,781 : INFO : PROGRESS: at sentence #120000, processed 2668775 words, keeping 54119 word types\n",
      "2018-11-01 14:34:28,825 : INFO : PROGRESS: at sentence #130000, processed 2894303 words, keeping 55847 word types\n",
      "2018-11-01 14:34:28,866 : INFO : PROGRESS: at sentence #140000, processed 3107005 words, keeping 57346 word types\n",
      "2018-11-01 14:34:28,910 : INFO : PROGRESS: at sentence #150000, processed 3332627 words, keeping 59055 word types\n",
      "2018-11-01 14:34:28,957 : INFO : PROGRESS: at sentence #160000, processed 3555315 words, keeping 60617 word types\n",
      "2018-11-01 14:34:29,001 : INFO : PROGRESS: at sentence #170000, processed 3778655 words, keeping 62077 word types\n",
      "2018-11-01 14:34:29,044 : INFO : PROGRESS: at sentence #180000, processed 3999236 words, keeping 63496 word types\n",
      "2018-11-01 14:34:29,088 : INFO : PROGRESS: at sentence #190000, processed 4224449 words, keeping 64794 word types\n",
      "2018-11-01 14:34:29,133 : INFO : PROGRESS: at sentence #200000, processed 4448603 words, keeping 66087 word types\n",
      "2018-11-01 14:34:29,176 : INFO : PROGRESS: at sentence #210000, processed 4669967 words, keeping 67390 word types\n",
      "2018-11-01 14:34:29,226 : INFO : PROGRESS: at sentence #220000, processed 4894968 words, keeping 68697 word types\n",
      "2018-11-01 14:34:29,273 : INFO : PROGRESS: at sentence #230000, processed 5117545 words, keeping 69958 word types\n",
      "2018-11-01 14:34:29,318 : INFO : PROGRESS: at sentence #240000, processed 5345050 words, keeping 71167 word types\n",
      "2018-11-01 14:34:29,365 : INFO : PROGRESS: at sentence #250000, processed 5559165 words, keeping 72351 word types\n",
      "2018-11-01 14:34:29,422 : INFO : PROGRESS: at sentence #260000, processed 5779146 words, keeping 73478 word types\n",
      "2018-11-01 14:34:29,478 : INFO : PROGRESS: at sentence #270000, processed 6000435 words, keeping 74767 word types\n",
      "2018-11-01 14:34:29,534 : INFO : PROGRESS: at sentence #280000, processed 6226314 words, keeping 76369 word types\n",
      "2018-11-01 14:34:29,585 : INFO : PROGRESS: at sentence #290000, processed 6449474 words, keeping 77839 word types\n",
      "2018-11-01 14:34:29,635 : INFO : PROGRESS: at sentence #300000, processed 6674077 words, keeping 79171 word types\n",
      "2018-11-01 14:34:29,684 : INFO : PROGRESS: at sentence #310000, processed 6899391 words, keeping 80480 word types\n",
      "2018-11-01 14:34:29,730 : INFO : PROGRESS: at sentence #320000, processed 7124278 words, keeping 81808 word types\n",
      "2018-11-01 14:34:29,773 : INFO : PROGRESS: at sentence #330000, processed 7346021 words, keeping 83030 word types\n",
      "2018-11-01 14:34:29,819 : INFO : PROGRESS: at sentence #340000, processed 7575533 words, keeping 84280 word types\n",
      "2018-11-01 14:34:29,864 : INFO : PROGRESS: at sentence #350000, processed 7798803 words, keeping 85425 word types\n",
      "2018-11-01 14:34:29,908 : INFO : PROGRESS: at sentence #360000, processed 8019427 words, keeping 86596 word types\n",
      "2018-11-01 14:34:29,960 : INFO : PROGRESS: at sentence #370000, processed 8246619 words, keeping 87708 word types\n",
      "2018-11-01 14:34:30,007 : INFO : PROGRESS: at sentence #380000, processed 8471766 words, keeping 88878 word types\n",
      "2018-11-01 14:34:30,052 : INFO : PROGRESS: at sentence #390000, processed 8701497 words, keeping 89907 word types\n",
      "2018-11-01 14:34:30,096 : INFO : PROGRESS: at sentence #400000, processed 8924446 words, keeping 90916 word types\n",
      "2018-11-01 14:34:30,139 : INFO : PROGRESS: at sentence #410000, processed 9145796 words, keeping 91880 word types\n",
      "2018-11-01 14:34:30,181 : INFO : PROGRESS: at sentence #420000, processed 9366876 words, keeping 92912 word types\n",
      "2018-11-01 14:34:30,224 : INFO : PROGRESS: at sentence #430000, processed 9594413 words, keeping 93932 word types\n",
      "2018-11-01 14:34:30,267 : INFO : PROGRESS: at sentence #440000, processed 9821166 words, keeping 94906 word types\n",
      "2018-11-01 14:34:30,310 : INFO : PROGRESS: at sentence #450000, processed 10044928 words, keeping 96036 word types\n",
      "2018-11-01 14:34:30,355 : INFO : PROGRESS: at sentence #460000, processed 10277688 words, keeping 97088 word types\n",
      "2018-11-01 14:34:30,400 : INFO : PROGRESS: at sentence #470000, processed 10505613 words, keeping 97933 word types\n",
      "2018-11-01 14:34:30,444 : INFO : PROGRESS: at sentence #480000, processed 10725997 words, keeping 98862 word types\n",
      "2018-11-01 14:34:30,487 : INFO : PROGRESS: at sentence #490000, processed 10952741 words, keeping 99871 word types\n",
      "2018-11-01 14:34:30,530 : INFO : PROGRESS: at sentence #500000, processed 11174397 words, keeping 100765 word types\n",
      "2018-11-01 14:34:30,573 : INFO : PROGRESS: at sentence #510000, processed 11399672 words, keeping 101699 word types\n",
      "2018-11-01 14:34:30,615 : INFO : PROGRESS: at sentence #520000, processed 11623020 words, keeping 102598 word types\n",
      "2018-11-01 14:34:30,659 : INFO : PROGRESS: at sentence #530000, processed 11847418 words, keeping 103400 word types\n",
      "2018-11-01 14:34:30,704 : INFO : PROGRESS: at sentence #540000, processed 12072033 words, keeping 104265 word types\n",
      "2018-11-01 14:34:30,749 : INFO : PROGRESS: at sentence #550000, processed 12297571 words, keeping 105133 word types\n",
      "2018-11-01 14:34:30,799 : INFO : PROGRESS: at sentence #560000, processed 12518861 words, keeping 105997 word types\n",
      "2018-11-01 14:34:30,851 : INFO : PROGRESS: at sentence #570000, processed 12747916 words, keeping 106787 word types\n",
      "2018-11-01 14:34:30,897 : INFO : PROGRESS: at sentence #580000, processed 12969412 words, keeping 107665 word types\n",
      "2018-11-01 14:34:30,945 : INFO : PROGRESS: at sentence #590000, processed 13194937 words, keeping 108501 word types\n",
      "2018-11-01 14:34:30,994 : INFO : PROGRESS: at sentence #600000, processed 13417135 words, keeping 109218 word types\n",
      "2018-11-01 14:34:31,042 : INFO : PROGRESS: at sentence #610000, processed 13638158 words, keeping 110092 word types\n",
      "2018-11-01 14:34:31,092 : INFO : PROGRESS: at sentence #620000, processed 13864483 words, keeping 110837 word types\n",
      "2018-11-01 14:34:31,140 : INFO : PROGRESS: at sentence #630000, processed 14088769 words, keeping 111610 word types\n",
      "2018-11-01 14:34:31,185 : INFO : PROGRESS: at sentence #640000, processed 14309552 words, keeping 112416 word types\n",
      "2018-11-01 14:34:31,232 : INFO : PROGRESS: at sentence #650000, processed 14535308 words, keeping 113196 word types\n",
      "2018-11-01 14:34:31,277 : INFO : PROGRESS: at sentence #660000, processed 14758098 words, keeping 113945 word types\n",
      "2018-11-01 14:34:31,319 : INFO : PROGRESS: at sentence #670000, processed 14981482 words, keeping 114643 word types\n",
      "2018-11-01 14:34:31,363 : INFO : PROGRESS: at sentence #680000, processed 15206314 words, keeping 115354 word types\n",
      "2018-11-01 14:34:31,407 : INFO : PROGRESS: at sentence #690000, processed 15428507 words, keeping 116131 word types\n",
      "2018-11-01 14:34:31,451 : INFO : PROGRESS: at sentence #700000, processed 15657213 words, keeping 116943 word types\n",
      "2018-11-01 14:34:31,495 : INFO : PROGRESS: at sentence #710000, processed 15880202 words, keeping 117596 word types\n"
     ]
    },
    {
     "name": "stderr",
     "output_type": "stream",
     "text": [
      "2018-11-01 14:34:31,540 : INFO : PROGRESS: at sentence #720000, processed 16105489 words, keeping 118221 word types\n",
      "2018-11-01 14:34:31,585 : INFO : PROGRESS: at sentence #730000, processed 16331870 words, keeping 118954 word types\n",
      "2018-11-01 14:34:31,629 : INFO : PROGRESS: at sentence #740000, processed 16552903 words, keeping 119668 word types\n",
      "2018-11-01 14:34:31,673 : INFO : PROGRESS: at sentence #750000, processed 16771230 words, keeping 120295 word types\n",
      "2018-11-01 14:34:31,716 : INFO : PROGRESS: at sentence #760000, processed 16990622 words, keeping 120930 word types\n",
      "2018-11-01 14:34:31,760 : INFO : PROGRESS: at sentence #770000, processed 17217759 words, keeping 121703 word types\n",
      "2018-11-01 14:34:31,804 : INFO : PROGRESS: at sentence #780000, processed 17447905 words, keeping 122402 word types\n",
      "2018-11-01 14:34:31,850 : INFO : PROGRESS: at sentence #790000, processed 17674981 words, keeping 123066 word types\n",
      "2018-11-01 14:34:31,874 : INFO : collected 123504 word types from a corpus of 17798082 raw words and 795538 sentences\n",
      "2018-11-01 14:34:31,875 : INFO : Loading a fresh vocabulary\n",
      "2018-11-01 14:34:31,944 : INFO : effective_min_count=40 retains 16490 unique words (13% of original 123504, drops 107014)\n",
      "2018-11-01 14:34:31,945 : INFO : effective_min_count=40 leaves 17238940 word corpus (96% of original 17798082, drops 559142)\n",
      "2018-11-01 14:34:31,989 : INFO : deleting the raw counts dictionary of 123504 items\n",
      "2018-11-01 14:34:31,992 : INFO : sample=0.001 downsamples 48 most-common words\n",
      "2018-11-01 14:34:31,993 : INFO : downsampling leaves estimated 12749658 word corpus (74.0% of prior 17238940)\n",
      "2018-11-01 14:34:32,042 : INFO : estimated required memory for 16490 words and 300 dimensions: 47821000 bytes\n",
      "2018-11-01 14:34:32,043 : INFO : resetting layer weights\n",
      "2018-11-01 14:34:32,253 : INFO : training model with 4 workers on 16490 vocabulary and 300 features, using sg=0 hs=0 sample=0.001 negative=5 window=10\n",
      "2018-11-01 14:34:33,265 : INFO : EPOCH 1 - PROGRESS: at 7.30% examples, 925694 words/s, in_qsize 7, out_qsize 2\n",
      "2018-11-01 14:34:34,279 : INFO : EPOCH 1 - PROGRESS: at 15.50% examples, 975033 words/s, in_qsize 7, out_qsize 1\n",
      "2018-11-01 14:34:35,283 : INFO : EPOCH 1 - PROGRESS: at 23.60% examples, 989478 words/s, in_qsize 7, out_qsize 1\n",
      "2018-11-01 14:34:36,308 : INFO : EPOCH 1 - PROGRESS: at 31.03% examples, 971904 words/s, in_qsize 7, out_qsize 1\n",
      "2018-11-01 14:34:37,309 : INFO : EPOCH 1 - PROGRESS: at 39.64% examples, 995897 words/s, in_qsize 7, out_qsize 0\n",
      "2018-11-01 14:34:38,310 : INFO : EPOCH 1 - PROGRESS: at 47.04% examples, 988263 words/s, in_qsize 7, out_qsize 0\n",
      "2018-11-01 14:34:39,315 : INFO : EPOCH 1 - PROGRESS: at 55.10% examples, 993510 words/s, in_qsize 7, out_qsize 0\n",
      "2018-11-01 14:34:40,329 : INFO : EPOCH 1 - PROGRESS: at 62.82% examples, 991705 words/s, in_qsize 7, out_qsize 2\n",
      "2018-11-01 14:34:41,352 : INFO : EPOCH 1 - PROGRESS: at 70.66% examples, 990282 words/s, in_qsize 5, out_qsize 1\n",
      "2018-11-01 14:34:42,354 : INFO : EPOCH 1 - PROGRESS: at 78.26% examples, 988304 words/s, in_qsize 5, out_qsize 0\n",
      "2018-11-01 14:34:43,366 : INFO : EPOCH 1 - PROGRESS: at 84.94% examples, 974927 words/s, in_qsize 7, out_qsize 2\n",
      "2018-11-01 14:34:44,371 : INFO : EPOCH 1 - PROGRESS: at 93.57% examples, 984953 words/s, in_qsize 5, out_qsize 0\n",
      "2018-11-01 14:34:45,241 : INFO : worker thread finished; awaiting finish of 3 more threads\n",
      "2018-11-01 14:34:45,251 : INFO : worker thread finished; awaiting finish of 2 more threads\n",
      "2018-11-01 14:34:45,254 : INFO : worker thread finished; awaiting finish of 1 more threads\n",
      "2018-11-01 14:34:45,259 : INFO : worker thread finished; awaiting finish of 0 more threads\n",
      "2018-11-01 14:34:45,260 : INFO : EPOCH - 1 : training on 17798082 raw words (12749886 effective words) took 13.0s, 980856 effective words/s\n",
      "2018-11-01 14:34:46,292 : INFO : EPOCH 2 - PROGRESS: at 8.33% examples, 1034981 words/s, in_qsize 7, out_qsize 3\n",
      "2018-11-01 14:34:47,295 : INFO : EPOCH 2 - PROGRESS: at 15.45% examples, 967981 words/s, in_qsize 6, out_qsize 0\n",
      "2018-11-01 14:34:48,297 : INFO : EPOCH 2 - PROGRESS: at 22.59% examples, 945074 words/s, in_qsize 7, out_qsize 0\n",
      "2018-11-01 14:34:49,324 : INFO : EPOCH 2 - PROGRESS: at 30.55% examples, 956015 words/s, in_qsize 7, out_qsize 3\n",
      "2018-11-01 14:34:50,337 : INFO : EPOCH 2 - PROGRESS: at 38.23% examples, 956792 words/s, in_qsize 7, out_qsize 0\n",
      "2018-11-01 14:34:51,348 : INFO : EPOCH 2 - PROGRESS: at 45.29% examples, 945766 words/s, in_qsize 7, out_qsize 0\n",
      "2018-11-01 14:34:52,349 : INFO : EPOCH 2 - PROGRESS: at 51.53% examples, 925339 words/s, in_qsize 7, out_qsize 0\n",
      "2018-11-01 14:34:53,363 : INFO : EPOCH 2 - PROGRESS: at 57.31% examples, 901201 words/s, in_qsize 8, out_qsize 1\n",
      "2018-11-01 14:34:54,367 : INFO : EPOCH 2 - PROGRESS: at 63.27% examples, 885830 words/s, in_qsize 7, out_qsize 0\n",
      "2018-11-01 14:34:55,443 : INFO : EPOCH 2 - PROGRESS: at 69.31% examples, 868063 words/s, in_qsize 8, out_qsize 3\n",
      "2018-11-01 14:34:56,443 : INFO : EPOCH 2 - PROGRESS: at 76.88% examples, 876742 words/s, in_qsize 7, out_qsize 0\n",
      "2018-11-01 14:34:57,477 : INFO : EPOCH 2 - PROGRESS: at 82.82% examples, 864612 words/s, in_qsize 8, out_qsize 1\n",
      "2018-11-01 14:34:58,498 : INFO : EPOCH 2 - PROGRESS: at 87.96% examples, 847604 words/s, in_qsize 7, out_qsize 0\n",
      "2018-11-01 14:34:59,505 : INFO : EPOCH 2 - PROGRESS: at 93.12% examples, 834104 words/s, in_qsize 6, out_qsize 0\n",
      "2018-11-01 14:35:00,510 : INFO : EPOCH 2 - PROGRESS: at 99.44% examples, 831892 words/s, in_qsize 7, out_qsize 0\n",
      "2018-11-01 14:35:00,599 : INFO : worker thread finished; awaiting finish of 3 more threads\n",
      "2018-11-01 14:35:00,605 : INFO : worker thread finished; awaiting finish of 2 more threads\n",
      "2018-11-01 14:35:00,608 : INFO : worker thread finished; awaiting finish of 1 more threads\n",
      "2018-11-01 14:35:00,624 : INFO : worker thread finished; awaiting finish of 0 more threads\n",
      "2018-11-01 14:35:00,625 : INFO : EPOCH - 2 : training on 17798082 raw words (12748834 effective words) took 15.4s, 830258 effective words/s\n",
      "2018-11-01 14:35:01,767 : INFO : EPOCH 3 - PROGRESS: at 4.10% examples, 520761 words/s, in_qsize 7, out_qsize 0\n",
      "2018-11-01 14:35:02,769 : INFO : EPOCH 3 - PROGRESS: at 9.12% examples, 577218 words/s, in_qsize 8, out_qsize 0\n",
      "2018-11-01 14:35:03,770 : INFO : EPOCH 3 - PROGRESS: at 14.45% examples, 609225 words/s, in_qsize 5, out_qsize 2\n",
      "2018-11-01 14:35:04,780 : INFO : EPOCH 3 - PROGRESS: at 19.04% examples, 600199 words/s, in_qsize 7, out_qsize 0\n",
      "2018-11-01 14:35:05,822 : INFO : EPOCH 3 - PROGRESS: at 24.33% examples, 609614 words/s, in_qsize 3, out_qsize 4\n",
      "2018-11-01 14:35:06,825 : INFO : EPOCH 3 - PROGRESS: at 29.76% examples, 622992 words/s, in_qsize 5, out_qsize 2\n",
      "2018-11-01 14:35:07,840 : INFO : EPOCH 3 - PROGRESS: at 35.44% examples, 634541 words/s, in_qsize 4, out_qsize 3\n",
      "2018-11-01 14:35:08,857 : INFO : EPOCH 3 - PROGRESS: at 41.38% examples, 648512 words/s, in_qsize 8, out_qsize 1\n",
      "2018-11-01 14:35:09,927 : INFO : EPOCH 3 - PROGRESS: at 45.61% examples, 632135 words/s, in_qsize 4, out_qsize 3\n",
      "2018-11-01 14:35:10,932 : INFO : EPOCH 3 - PROGRESS: at 50.00% examples, 625256 words/s, in_qsize 7, out_qsize 0\n",
      "2018-11-01 14:35:11,934 : INFO : EPOCH 3 - PROGRESS: at 54.87% examples, 624829 words/s, in_qsize 5, out_qsize 2\n",
      "2018-11-01 14:35:12,957 : INFO : EPOCH 3 - PROGRESS: at 60.30% examples, 629854 words/s, in_qsize 5, out_qsize 2\n",
      "2018-11-01 14:35:13,969 : INFO : EPOCH 3 - PROGRESS: at 65.96% examples, 636316 words/s, in_qsize 7, out_qsize 0\n",
      "2018-11-01 14:35:14,986 : INFO : EPOCH 3 - PROGRESS: at 73.17% examples, 655741 words/s, in_qsize 6, out_qsize 1\n",
      "2018-11-01 14:35:15,990 : INFO : EPOCH 3 - PROGRESS: at 79.34% examples, 664195 words/s, in_qsize 6, out_qsize 1\n",
      "2018-11-01 14:35:16,996 : INFO : EPOCH 3 - PROGRESS: at 85.91% examples, 674570 words/s, in_qsize 6, out_qsize 1\n",
      "2018-11-01 14:35:18,001 : INFO : EPOCH 3 - PROGRESS: at 92.33% examples, 682964 words/s, in_qsize 7, out_qsize 0\n",
      "2018-11-01 14:35:19,010 : INFO : EPOCH 3 - PROGRESS: at 98.94% examples, 691423 words/s, in_qsize 7, out_qsize 0\n",
      "2018-11-01 14:35:19,149 : INFO : worker thread finished; awaiting finish of 3 more threads\n",
      "2018-11-01 14:35:19,152 : INFO : worker thread finished; awaiting finish of 2 more threads\n"
     ]
    },
    {
     "name": "stderr",
     "output_type": "stream",
     "text": [
      "2018-11-01 14:35:19,159 : INFO : worker thread finished; awaiting finish of 1 more threads\n",
      "2018-11-01 14:35:19,168 : INFO : worker thread finished; awaiting finish of 0 more threads\n",
      "2018-11-01 14:35:19,169 : INFO : EPOCH - 3 : training on 17798082 raw words (12750654 effective words) took 18.4s, 692815 effective words/s\n",
      "2018-11-01 14:35:20,180 : INFO : EPOCH 4 - PROGRESS: at 7.42% examples, 940288 words/s, in_qsize 7, out_qsize 0\n",
      "2018-11-01 14:35:21,181 : INFO : EPOCH 4 - PROGRESS: at 13.25% examples, 838239 words/s, in_qsize 5, out_qsize 0\n",
      "2018-11-01 14:35:22,204 : INFO : EPOCH 4 - PROGRESS: at 20.84% examples, 871527 words/s, in_qsize 8, out_qsize 2\n",
      "2018-11-01 14:35:23,217 : INFO : EPOCH 4 - PROGRESS: at 27.58% examples, 865464 words/s, in_qsize 7, out_qsize 0\n",
      "2018-11-01 14:35:24,237 : INFO : EPOCH 4 - PROGRESS: at 34.70% examples, 868652 words/s, in_qsize 8, out_qsize 2\n",
      "2018-11-01 14:35:25,255 : INFO : EPOCH 4 - PROGRESS: at 41.65% examples, 869165 words/s, in_qsize 7, out_qsize 5\n",
      "2018-11-01 14:35:26,299 : INFO : EPOCH 4 - PROGRESS: at 48.82% examples, 871262 words/s, in_qsize 8, out_qsize 5\n",
      "2018-11-01 14:35:27,302 : INFO : EPOCH 4 - PROGRESS: at 56.21% examples, 879752 words/s, in_qsize 8, out_qsize 0\n",
      "2018-11-01 14:35:28,320 : INFO : EPOCH 4 - PROGRESS: at 62.77% examples, 874143 words/s, in_qsize 7, out_qsize 1\n",
      "2018-11-01 14:35:29,320 : INFO : EPOCH 4 - PROGRESS: at 70.28% examples, 882467 words/s, in_qsize 8, out_qsize 0\n",
      "2018-11-01 14:35:30,321 : INFO : EPOCH 4 - PROGRESS: at 76.66% examples, 876339 words/s, in_qsize 8, out_qsize 0\n",
      "2018-11-01 14:35:31,326 : INFO : EPOCH 4 - PROGRESS: at 83.84% examples, 879144 words/s, in_qsize 2, out_qsize 0\n",
      "2018-11-01 14:35:32,357 : INFO : EPOCH 4 - PROGRESS: at 89.74% examples, 867897 words/s, in_qsize 8, out_qsize 2\n",
      "2018-11-01 14:35:33,363 : INFO : EPOCH 4 - PROGRESS: at 97.24% examples, 873374 words/s, in_qsize 6, out_qsize 0\n",
      "2018-11-01 14:35:33,788 : INFO : worker thread finished; awaiting finish of 3 more threads\n",
      "2018-11-01 14:35:33,799 : INFO : worker thread finished; awaiting finish of 2 more threads\n",
      "2018-11-01 14:35:33,804 : INFO : worker thread finished; awaiting finish of 1 more threads\n",
      "2018-11-01 14:35:33,819 : INFO : worker thread finished; awaiting finish of 0 more threads\n",
      "2018-11-01 14:35:33,822 : INFO : EPOCH - 4 : training on 17798082 raw words (12746995 effective words) took 14.6s, 870416 effective words/s\n",
      "2018-11-01 14:35:34,857 : INFO : EPOCH 5 - PROGRESS: at 7.42% examples, 920292 words/s, in_qsize 8, out_qsize 2\n",
      "2018-11-01 14:35:35,863 : INFO : EPOCH 5 - PROGRESS: at 14.05% examples, 876865 words/s, in_qsize 8, out_qsize 1\n",
      "2018-11-01 14:35:36,866 : INFO : EPOCH 5 - PROGRESS: at 21.34% examples, 891130 words/s, in_qsize 7, out_qsize 0\n",
      "2018-11-01 14:35:37,903 : INFO : EPOCH 5 - PROGRESS: at 28.08% examples, 874635 words/s, in_qsize 8, out_qsize 7\n",
      "2018-11-01 14:35:38,917 : INFO : EPOCH 5 - PROGRESS: at 35.56% examples, 885619 words/s, in_qsize 7, out_qsize 1\n",
      "2018-11-01 14:35:39,926 : INFO : EPOCH 5 - PROGRESS: at 42.75% examples, 890372 words/s, in_qsize 8, out_qsize 1\n",
      "2018-11-01 14:35:40,936 : INFO : EPOCH 5 - PROGRESS: at 49.44% examples, 884511 words/s, in_qsize 7, out_qsize 0\n",
      "2018-11-01 14:35:41,940 : INFO : EPOCH 5 - PROGRESS: at 56.93% examples, 893223 words/s, in_qsize 7, out_qsize 1\n",
      "2018-11-01 14:35:42,954 : INFO : EPOCH 5 - PROGRESS: at 63.16% examples, 881719 words/s, in_qsize 5, out_qsize 0\n",
      "2018-11-01 14:35:43,972 : INFO : EPOCH 5 - PROGRESS: at 70.05% examples, 879966 words/s, in_qsize 8, out_qsize 1\n",
      "2018-11-01 14:35:44,983 : INFO : EPOCH 5 - PROGRESS: at 76.93% examples, 879156 words/s, in_qsize 8, out_qsize 2\n",
      "2018-11-01 14:35:45,983 : INFO : EPOCH 5 - PROGRESS: at 83.79% examples, 878555 words/s, in_qsize 7, out_qsize 1\n",
      "2018-11-01 14:35:46,985 : INFO : EPOCH 5 - PROGRESS: at 90.24% examples, 874714 words/s, in_qsize 7, out_qsize 0\n",
      "2018-11-01 14:35:48,015 : INFO : EPOCH 5 - PROGRESS: at 96.13% examples, 863652 words/s, in_qsize 8, out_qsize 2\n",
      "2018-11-01 14:35:48,531 : INFO : worker thread finished; awaiting finish of 3 more threads\n",
      "2018-11-01 14:35:48,537 : INFO : worker thread finished; awaiting finish of 2 more threads\n",
      "2018-11-01 14:35:48,549 : INFO : worker thread finished; awaiting finish of 1 more threads\n",
      "2018-11-01 14:35:48,550 : INFO : worker thread finished; awaiting finish of 0 more threads\n",
      "2018-11-01 14:35:48,550 : INFO : EPOCH - 5 : training on 17798082 raw words (12749443 effective words) took 14.7s, 866196 effective words/s\n",
      "2018-11-01 14:35:48,551 : INFO : training on a 88990410 raw words (63745812 effective words) took 76.3s, 835511 effective words/s\n",
      "2018-11-01 14:35:48,551 : INFO : precomputing L2-norms of word weight vectors\n",
      "2018-11-01 14:35:48,676 : INFO : saving Word2Vec object under 300features_40minwords_10context, separately None\n",
      "2018-11-01 14:35:48,677 : INFO : not storing attribute vectors_norm\n",
      "2018-11-01 14:35:48,678 : INFO : not storing attribute cum_table\n",
      "2018-11-01 14:35:49,300 : INFO : saved 300features_40minwords_10context\n"
     ]
    }
   ],
   "source": [
    "# Set Word2Vec params\n",
    "features = 300       # Word vector dimensionality                      \n",
    "minWordCount = 40    # Minimum word count                        \n",
    "workers = 4          # Number of threads to run in parallel\n",
    "context = 10         # Context window size                                                                                    \n",
    "downSampling = 1e-3  # Downsample setting for frequent words\n",
    "\n",
    "model = word2vec.Word2Vec(combined, \n",
    "                          workers=workers,\n",
    "                          size=features, \n",
    "                          min_count = minWordCount,\n",
    "                          window = context, \n",
    "                          sample = downSampling)\n",
    "\n",
    "# https://tedboy.github.io/nlps/generated/generated/gensim.models.Word2Vec.init_sims.html\n",
    "# If replace is set, forget the original vectors and only keep the normalized ones = saves lots of memory!\n",
    "# Note that you cannot continue training after doing a replace. \n",
    "# The model becomes effectively read-only = you can call most_similar, similarity etc., but not train.\n",
    "model.init_sims(replace = True)\n",
    "\n",
    "# Save model to disk\n",
    "model.save(\"300features_40minwords_10context\")"
   ]
  },
  {
   "cell_type": "markdown",
   "metadata": {},
   "source": [
    "Explore the results:"
   ]
  },
  {
   "cell_type": "code",
   "execution_count": 18,
   "metadata": {
    "ExecuteTime": {
     "end_time": "2018-11-01T20:35:49.641549Z",
     "start_time": "2018-11-01T20:35:49.308549Z"
    }
   },
   "outputs": [
    {
     "data": {
      "text/plain": [
       "[('terrific', 0.730087399482727),\n",
       " ('fantastic', 0.7199629545211792),\n",
       " ('wonderful', 0.7167843580245972),\n",
       " ('superb', 0.6425317525863647),\n",
       " ('fine', 0.6420440673828125),\n",
       " ('brilliant', 0.6286628246307373),\n",
       " ('marvelous', 0.6202216148376465),\n",
       " ('excellent', 0.6188085079193115),\n",
       " ('good', 0.6166402101516724),\n",
       " ('amazing', 0.5603896975517273)]"
      ]
     },
     "execution_count": 18,
     "metadata": {},
     "output_type": "execute_result"
    }
   ],
   "source": [
    "model.most_similar(\"great\")"
   ]
  },
  {
   "cell_type": "code",
   "execution_count": 19,
   "metadata": {
    "ExecuteTime": {
     "end_time": "2018-11-01T20:35:49.964549Z",
     "start_time": "2018-11-01T20:35:49.642549Z"
    }
   },
   "outputs": [
    {
     "data": {
      "text/plain": [
       "[('terrible', 0.777208149433136),\n",
       " ('horrible', 0.7345371246337891),\n",
       " ('abysmal', 0.7309399247169495),\n",
       " ('atrocious', 0.7255470156669617),\n",
       " ('dreadful', 0.7129322290420532),\n",
       " ('horrendous', 0.6862552165985107),\n",
       " ('horrid', 0.6757344007492065),\n",
       " ('appalling', 0.6731106042861938),\n",
       " ('amateurish', 0.632673978805542),\n",
       " ('lousy', 0.6291776895523071)]"
      ]
     },
     "execution_count": 19,
     "metadata": {},
     "output_type": "execute_result"
    }
   ],
   "source": [
    "model.most_similar(\"awful\")"
   ]
  },
  {
   "cell_type": "markdown",
   "metadata": {},
   "source": [
    "One of the reviews we referred to often in previous write-ups was a zombie movie, so let's see what words are similar/associated with the word 'zombie':"
   ]
  },
  {
   "cell_type": "code",
   "execution_count": 20,
   "metadata": {
    "ExecuteTime": {
     "end_time": "2018-11-01T20:35:50.266549Z",
     "start_time": "2018-11-01T20:35:49.966549Z"
    }
   },
   "outputs": [
    {
     "data": {
      "text/plain": [
       "[('cannibal', 0.6610051393508911),\n",
       " ('slasher', 0.6199641227722168),\n",
       " ('horror', 0.6184082627296448),\n",
       " ('zombies', 0.613161027431488),\n",
       " ('monster', 0.6093231439590454),\n",
       " ('vampire', 0.6016378402709961),\n",
       " ('fulci', 0.5893048048019409),\n",
       " ('splatter', 0.5890129804611206),\n",
       " ('werewolf', 0.5860388278961182),\n",
       " ('chainsaw', 0.5515424013137817)]"
      ]
     },
     "execution_count": 20,
     "metadata": {},
     "output_type": "execute_result"
    }
   ],
   "source": [
    "model.most_similar(\"zombie\")"
   ]
  },
  {
   "cell_type": "markdown",
   "metadata": {},
   "source": [
    "That looks pretty good!  \n",
    "\n",
    "Note that [Fulci](https://en.wikipedia.org/wiki/Lucio_Fulci) is the name of a movie director renowned for zombie movies, which I think is actually the most interesting result of the associations and really show the power of the algorithm....\n",
    "\n",
    "And we'll finish off with a quick check of how many words had vectors created:"
   ]
  },
  {
   "cell_type": "code",
   "execution_count": 21,
   "metadata": {
    "ExecuteTime": {
     "end_time": "2018-11-01T20:35:50.575549Z",
     "start_time": "2018-11-01T20:35:50.267549Z"
    }
   },
   "outputs": [
    {
     "data": {
      "text/plain": [
       "16490"
      ]
     },
     "execution_count": 21,
     "metadata": {},
     "output_type": "execute_result"
    }
   ],
   "source": [
    "len(model.wv.index2word)"
   ]
  },
  {
   "cell_type": "markdown",
   "metadata": {
    "ExecuteTime": {
     "end_time": "2018-10-18T16:57:41.655689Z",
     "start_time": "2018-10-18T16:57:41.138899Z"
    }
   },
   "source": [
    "## Centroid development\n",
    "\n",
    "Now that we have a trained Word2Vec model with some semantic understanding of words, how should we use it?\n",
    "\n",
    "We'll try clustering (i.e. centroids)--even though according to Kaggle it doesn't offer an improvement--as a programming exercise before moving on to other methods.\n",
    "\n",
    "Note that the Word2Vec model we trained consists of a feature vector for each word in the vocabulary.  The feature vectors can be accessed via the \"syn0\" object property.\n"
   ]
  },
  {
   "cell_type": "code",
   "execution_count": 22,
   "metadata": {
    "ExecuteTime": {
     "end_time": "2018-11-01T20:46:16.085137Z",
     "start_time": "2018-11-01T20:35:50.577549Z"
    }
   },
   "outputs": [],
   "source": [
    "# Set \"k\" to be 1/5th of the vocabulary size, or an average of 5 words per cluster\n",
    "wordVecs = model.wv.syn0\n",
    "k = int(wordVecs.shape[0] / 5)\n",
    "\n",
    "# Initalize a k-means object and use it to extract centroids\n",
    "kMeans = KMeans( n_clusters = k )\n",
    "kModel = kMeans.fit_predict(wordVecs)"
   ]
  },
  {
   "cell_type": "markdown",
   "metadata": {},
   "source": [
    "So now we have K clusters, and each word in the Word2Vec vocabulary has been assigned to one of the clusters.  Next we want to combine the actual words with their cluster assignments.  We can pull the words themselves from the Word2Vec object with the following property:\n",
    "\n",
    "```python\n",
    "model.wv.index2word\n",
    "```\n",
    "\n",
    "Let's ensure the list lengths match and then combine the words and their assignments into a dictionary object:"
   ]
  },
  {
   "cell_type": "code",
   "execution_count": 23,
   "metadata": {
    "ExecuteTime": {
     "end_time": "2018-11-01T20:46:16.404137Z",
     "start_time": "2018-11-01T20:46:16.086137Z"
    }
   },
   "outputs": [
    {
     "name": "stdout",
     "output_type": "stream",
     "text": [
      "16490\n",
      "16490\n",
      "['the', 'and', 'a', 'of', 'to']\n",
      "[2546  171 2750 2445 2349]\n"
     ]
    }
   ],
   "source": [
    "print(len(model.wv.index2word))\n",
    "print(len(kModel))\n",
    "\n",
    "print(model.wv.index2word[:5])\n",
    "print(kModel[:5])"
   ]
  },
  {
   "cell_type": "code",
   "execution_count": 24,
   "metadata": {
    "ExecuteTime": {
     "end_time": "2018-11-01T20:46:16.703137Z",
     "start_time": "2018-11-01T20:46:16.406137Z"
    }
   },
   "outputs": [],
   "source": [
    "clusterDict = dict(zip(model.wv.index2word, kModel))"
   ]
  },
  {
   "cell_type": "markdown",
   "metadata": {},
   "source": [
    "Quick visual inspection:"
   ]
  },
  {
   "cell_type": "code",
   "execution_count": 25,
   "metadata": {
    "ExecuteTime": {
     "end_time": "2018-11-01T20:46:17.003137Z",
     "start_time": "2018-11-01T20:46:16.705137Z"
    }
   },
   "outputs": [
    {
     "name": "stdout",
     "output_type": "stream",
     "text": [
      "the = 2546\n",
      "and = 171\n",
      "a = 2750\n",
      "of = 2445\n",
      "to = 2349\n"
     ]
    }
   ],
   "source": [
    "for i, k in enumerate(clusterDict.keys()):\n",
    "    print(k, \"=\", clusterDict[k])\n",
    "    \n",
    "    if i > 3:\n",
    "        break"
   ]
  },
  {
   "cell_type": "code",
   "execution_count": 26,
   "metadata": {
    "ExecuteTime": {
     "end_time": "2018-11-01T20:46:34.850921Z",
     "start_time": "2018-11-01T20:46:17.007137Z"
    }
   },
   "outputs": [
    {
     "name": "stdout",
     "output_type": "stream",
     "text": [
      "\n",
      "Cluster 0\n",
      "['courtroom', 'pivotal', 'stealer']\n",
      "\n",
      "Cluster 1\n",
      "['francis', 'fleming', 'diaz', 'crane', 'cristina', 'regal', 'rhonda', 'reyes', 'petulia']\n",
      "\n",
      "Cluster 2\n",
      "['charged', 'cunning', 'cerebral', 'elusive', 'evolving', 'heated', 'volatile', 'comforting', 'guiding', 'shamefully', 'smarts']\n",
      "\n",
      "Cluster 3\n",
      "['underwear', 'cleavage', 'panties', 'baring', 'strut']\n",
      "\n",
      "Cluster 4\n",
      "['ancient', 'underground', 'forbidden', 'egyptian', 'occult', 'mythological', 'aztec', 'kells']\n",
      "\n",
      "Cluster 5\n",
      "['repetitive', 'tiresome', 'monotonous', 'tiring']\n",
      "\n",
      "Cluster 6\n",
      "['bang', 'stairs', 'scratch', 'climbing', 'pin', 'climb', 'ladder']\n",
      "\n",
      "Cluster 7\n",
      "['association']\n",
      "\n",
      "Cluster 8\n",
      "['madness', 'menace', 'paranoia', 'relentless', 'izo', 'increases', 'decay', 'deceit', 'treachery', 'intrigues']\n",
      "\n",
      "Cluster 9\n",
      "['creepy', 'effective', 'stylish', 'atmospheric', 'eerie', 'spooky', 'gothic', 'moody', 'claustrophobic', 'ominous', 'unnerving']\n"
     ]
    }
   ],
   "source": [
    "# Examine the first 10 clusters\n",
    "for cluster in range(0,10):\n",
    "    #\n",
    "    # Print the cluster number  \n",
    "    print(\"\\nCluster %d\" % cluster)\n",
    "    #\n",
    "    # Find all of the words for that cluster number, and print them out\n",
    "    words = []\n",
    "    for i in range(0,len(clusterDict.values())):\n",
    "        if( list(clusterDict.values())[i] == cluster ):\n",
    "            words.append(list(clusterDict.keys())[i])\n",
    "    print(words)"
   ]
  },
  {
   "cell_type": "markdown",
   "metadata": {},
   "source": [
    "### Feature array creation\n",
    "\n",
    "Previously when we implemented bag-of-words we counted up how many times a certain word appeared in each review.  We were hoping that word count patterns would emerge in similar reviews, and that would help us classify unseen reviews as good or bad by comparing their word count patterns.  \n",
    "\n",
    "In this instance we are doing the same thing, but instead of counting word occurrences we are counting how many times the cluster containing a given word appears in the review.  Again, we are hoping that cluster count patterns emerge that are similar between like reviews, and that we can use this to identify unseen reviews as good or bad.  We are switching from individual words to semantically related cluster comparisons.\n",
    "\n",
    "The first thing we need to do is write a function that returns a an array for a given review.  Each entry in the array should correspond to a cluster in our set, and the values for the array entries will the number of times the cluster was found in the review text.  The output of this work will be the feature set we feed to the models for training."
   ]
  },
  {
   "cell_type": "markdown",
   "metadata": {
    "ExecuteTime": {
     "end_time": "2018-11-05T16:37:02.258523Z",
     "start_time": "2018-11-05T16:37:01.739733Z"
    }
   },
   "source": [
    "#### Write helper function"
   ]
  },
  {
   "cell_type": "code",
   "execution_count": 27,
   "metadata": {
    "ExecuteTime": {
     "end_time": "2018-11-01T20:46:35.171920Z",
     "start_time": "2018-11-01T20:46:34.852921Z"
    }
   },
   "outputs": [],
   "source": [
    "def createFeatureArray(sentences, clusterDict):\n",
    "\n",
    "    # Init result array to return\n",
    "    results = np.zeros(centroids, dtype=\"float32\")\n",
    "    \n",
    "    # The number of clusters is equal to the highest cluster index in the word / centroid map\n",
    "    centroids = max(clusterDict.values()) + 1\n",
    "  \n",
    "    # Loop over review word(s) and count which cluster it belonged to\n",
    "    for sentence in sentences:\n",
    "        for word in sentence:\n",
    "            # Check if the word is in our vocabulary, if so increment its cluster\n",
    "            if word in clusterDict:\n",
    "                index = clusterDict[word]\n",
    "                results[index] += 1\n",
    "\n",
    "    # Return centroid counts\n",
    "    return results"
   ]
  },
  {
   "cell_type": "markdown",
   "metadata": {},
   "source": [
    "#### Tokenize and clean labeled training data"
   ]
  },
  {
   "cell_type": "code",
   "execution_count": 28,
   "metadata": {
    "ExecuteTime": {
     "end_time": "2018-11-01T20:52:59.036421Z",
     "start_time": "2018-11-01T20:46:35.171920Z"
    }
   },
   "outputs": [],
   "source": [
    "trainSentences = []\n",
    "\n",
    "for s in df.iloc[:,2]:\n",
    "    trainSentences.append(createSentences(s, tokenizer, remove_stopwords = True))"
   ]
  },
  {
   "cell_type": "markdown",
   "metadata": {},
   "source": [
    "#### Create feature set centroids\n",
    "\n",
    "We'll take the output from above and create the centroid feature set to pass to the models for training"
   ]
  },
  {
   "cell_type": "code",
   "execution_count": 29,
   "metadata": {
    "ExecuteTime": {
     "end_time": "2018-11-01T20:53:15.634109Z",
     "start_time": "2018-11-01T20:52:59.036421Z"
    }
   },
   "outputs": [],
   "source": [
    "k = int(wordVecs.shape[0] / 5)\n",
    "\n",
    "# Init training variable\n",
    "xTrain = np.zeros( (df.iloc[:,2].size, k), dtype=\"float32\")\n",
    "\n",
    "# Transform the training set reviews into bags of centroids\n",
    "counter = 0\n",
    "for review in trainSentences:\n",
    "    xTrain[counter,:] = createFeatureArray(review, clusterDict)\n",
    "    counter += 1"
   ]
  },
  {
   "cell_type": "markdown",
   "metadata": {},
   "source": [
    "# Model training and evaluation"
   ]
  },
  {
   "cell_type": "markdown",
   "metadata": {},
   "source": [
    "## Kaggle model\n",
    "\n",
    "First we'll evalute the Kaggle model:"
   ]
  },
  {
   "cell_type": "code",
   "execution_count": 30,
   "metadata": {
    "ExecuteTime": {
     "end_time": "2018-11-01T20:58:44.913924Z",
     "start_time": "2018-11-01T20:53:15.634109Z"
    }
   },
   "outputs": [
    {
     "data": {
      "text/html": [
       "<div>\n",
       "<style scoped>\n",
       "    .dataframe tbody tr th:only-of-type {\n",
       "        vertical-align: middle;\n",
       "    }\n",
       "\n",
       "    .dataframe tbody tr th {\n",
       "        vertical-align: top;\n",
       "    }\n",
       "\n",
       "    .dataframe thead th {\n",
       "        text-align: right;\n",
       "    }\n",
       "</style>\n",
       "<table border=\"1\" class=\"dataframe\">\n",
       "  <thead>\n",
       "    <tr style=\"text-align: right;\">\n",
       "      <th></th>\n",
       "      <th>Model</th>\n",
       "      <th>Accuracy</th>\n",
       "      <th>StdDev</th>\n",
       "    </tr>\n",
       "  </thead>\n",
       "  <tbody>\n",
       "    <tr>\n",
       "      <th>0</th>\n",
       "      <td>RandomForestClassifier</td>\n",
       "      <td>0.8468</td>\n",
       "      <td>0.008575</td>\n",
       "    </tr>\n",
       "  </tbody>\n",
       "</table>\n",
       "</div>"
      ],
      "text/plain": [
       "                    Model  Accuracy    StdDev\n",
       "0  RandomForestClassifier    0.8468  0.008575"
      ]
     },
     "metadata": {},
     "output_type": "display_data"
    }
   ],
   "source": [
    "# Init vars and params\n",
    "eFolds = 10\n",
    "eSeed = 10\n",
    "\n",
    "# Use accuracy since this is a classification problem\n",
    "eScore = 'accuracy'\n",
    "\n",
    "modelName = 'RandomForestClassifier'\n",
    "RandomForestClassifier(n_estimators = 100)\n",
    "yTrain = df.iloc[:, 1]\n",
    "\n",
    "_DF = pd.DataFrame(columns = ['Model', 'Accuracy', 'StdDev'])\n",
    "_Results = {}\n",
    "_model = RandomForestClassifier(n_estimators = 100)\n",
    "\n",
    "kFold = KFold(n_splits = eFolds, random_state = eSeed)\n",
    "_Results[modelName] = cross_val_score(_model, xTrain, yTrain, cv = kFold, scoring = eScore)\n",
    "\n",
    "_DF.loc[len(_DF)] = list(['RandomForestClassifier', _Results[modelName].mean(), _Results[modelName].std()])\n",
    "display(_DF.sort_values(by = ['Accuracy', 'StdDev', 'Model'], ascending = [False, True, True]))"
   ]
  },
  {
   "cell_type": "markdown",
   "metadata": {},
   "source": [
    "This is 2% less accurate then the baseline."
   ]
  },
  {
   "cell_type": "markdown",
   "metadata": {},
   "source": [
    "## Standard write-up models\n",
    "\n",
    "Next we'll train the standard set of models (LR, LDA, etc.) we use in the majority of our write-ups for comparison:"
   ]
  },
  {
   "cell_type": "code",
   "execution_count": 32,
   "metadata": {
    "ExecuteTime": {
     "end_time": "2018-11-03T02:40:04.095666Z",
     "start_time": "2018-11-02T21:38:52.958058Z"
    }
   },
   "outputs": [
    {
     "name": "stdout",
     "output_type": "stream",
     "text": [
      "Training LR ....\n",
      "Training LDA ....\n",
      "Training KNN ....\n",
      "Training CART ....\n",
      "Training NB ....\n",
      "Training SVM ....\n"
     ]
    },
    {
     "data": {
      "text/html": [
       "<div>\n",
       "<style scoped>\n",
       "    .dataframe tbody tr th:only-of-type {\n",
       "        vertical-align: middle;\n",
       "    }\n",
       "\n",
       "    .dataframe tbody tr th {\n",
       "        vertical-align: top;\n",
       "    }\n",
       "\n",
       "    .dataframe thead th {\n",
       "        text-align: right;\n",
       "    }\n",
       "</style>\n",
       "<table border=\"1\" class=\"dataframe\">\n",
       "  <thead>\n",
       "    <tr style=\"text-align: right;\">\n",
       "      <th></th>\n",
       "      <th>Model</th>\n",
       "      <th>Accuracy</th>\n",
       "      <th>StdDev</th>\n",
       "    </tr>\n",
       "  </thead>\n",
       "  <tbody>\n",
       "    <tr>\n",
       "      <th>5</th>\n",
       "      <td>SVM</td>\n",
       "      <td>0.86360</td>\n",
       "      <td>0.007302</td>\n",
       "    </tr>\n",
       "    <tr>\n",
       "      <th>0</th>\n",
       "      <td>LR</td>\n",
       "      <td>0.86116</td>\n",
       "      <td>0.007448</td>\n",
       "    </tr>\n",
       "    <tr>\n",
       "      <th>1</th>\n",
       "      <td>LDA</td>\n",
       "      <td>0.84468</td>\n",
       "      <td>0.007135</td>\n",
       "    </tr>\n",
       "    <tr>\n",
       "      <th>3</th>\n",
       "      <td>CART</td>\n",
       "      <td>0.72948</td>\n",
       "      <td>0.007321</td>\n",
       "    </tr>\n",
       "    <tr>\n",
       "      <th>4</th>\n",
       "      <td>NB</td>\n",
       "      <td>0.72268</td>\n",
       "      <td>0.007147</td>\n",
       "    </tr>\n",
       "    <tr>\n",
       "      <th>2</th>\n",
       "      <td>KNN</td>\n",
       "      <td>0.70520</td>\n",
       "      <td>0.010916</td>\n",
       "    </tr>\n",
       "  </tbody>\n",
       "</table>\n",
       "</div>"
      ],
      "text/plain": [
       "  Model  Accuracy    StdDev\n",
       "5   SVM   0.86360  0.007302\n",
       "0    LR   0.86116  0.007448\n",
       "1   LDA   0.84468  0.007135\n",
       "3  CART   0.72948  0.007321\n",
       "4    NB   0.72268  0.007147\n",
       "2   KNN   0.70520  0.010916"
      ]
     },
     "execution_count": 32,
     "metadata": {},
     "output_type": "execute_result"
    }
   ],
   "source": [
    "# Init vars\n",
    "folds = 10\n",
    "seed = 10\n",
    "models = []\n",
    "results = {}\n",
    "\n",
    "# Use accuracy since this is a classification\n",
    "score = 'accuracy'\n",
    "\n",
    "# Instantiate model objects\n",
    "models.append(('LR', LogisticRegression()))\n",
    "models.append(('LDA', LinearDiscriminantAnalysis()))\n",
    "models.append(('KNN', KNeighborsClassifier()))\n",
    "models.append(('CART', DecisionTreeClassifier()))\n",
    "models.append(('NB', GaussianNB()))\n",
    "models.append(('SVM', SVC()))\n",
    "\n",
    "# Create a Pandas DF to hold all our spiffy results\n",
    "_df = pd.DataFrame(columns = ['Model', 'Accuracy', 'StdDev'])\n",
    "\n",
    "# Run the models\n",
    "for modelName, model in models:\n",
    "    print(\"Training\", modelName, \"....\")\n",
    "    # Implement K-fold cross validation where K = 10\n",
    "    kFold = KFold(n_splits = folds, random_state = seed)\n",
    "    results[modelName] = cross_val_score(model, xTrain, yTrain, cv = kFold, scoring = score)\n",
    "    _df.loc[len(_df)] = list([modelName, results[modelName].mean(), results[modelName].std()])\n",
    "\n",
    "# Print results sorted by Mean desc, StdDev asc, Model asc\n",
    "_df.sort_values(by = ['Accuracy', 'StdDev', 'Model'], ascending = [False, True, True])"
   ]
  },
  {
   "cell_type": "code",
   "execution_count": 35,
   "metadata": {
    "ExecuteTime": {
     "end_time": "2018-11-05T16:47:02.252494Z",
     "start_time": "2018-11-05T16:47:01.502507Z"
    }
   },
   "outputs": [
    {
     "data": {
      "image/png": "[encoded data removed]",
      "text/plain": [
       "<Figure size 576x432 with 1 Axes>"
      ]
     },
     "metadata": {},
     "output_type": "display_data"
    }
   ],
   "source": [
    "figure = plt.figure(figsize = (8,6))\n",
    "figure.suptitle(\"Model Results\")\n",
    "axis = figure.add_subplot(111)\n",
    "plt.boxplot(results.values())\n",
    "axis.set_xticklabels(results.keys())\n",
    "plt.show()"
   ]
  },
  {
   "cell_type": "markdown",
   "metadata": {},
   "source": [
    "LR, LDA, and SVM were the clear winners here with SVM and LR kneck-in-kneck for top performance.  Both had high accuracy and lower standard deviations."
   ]
  },
  {
   "cell_type": "markdown",
   "metadata": {},
   "source": [
    "# Summary"
   ]
  },
  {
   "cell_type": "code",
   "execution_count": 31,
   "metadata": {
    "ExecuteTime": {
     "end_time": "2018-11-02T21:33:00.099912Z",
     "start_time": "2018-11-02T21:32:59.655315Z"
    }
   },
   "outputs": [
    {
     "data": {
      "text/html": [
       "<style>\n",
       "table {float:left}\n",
       "</style>"
      ],
      "text/plain": [
       "<IPython.core.display.HTML object>"
      ]
     },
     "metadata": {},
     "output_type": "display_data"
    }
   ],
   "source": [
    "%%html\n",
    "<style>\n",
    "table {float:left}\n",
    "</style>"
   ]
  },
  {
   "cell_type": "markdown",
   "metadata": {},
   "source": [
    "In this write-up we accomplished the following:\n",
    "\n",
    "1. Created a set of word embeddings from the IMDb movie review text utilizing Word2vec\n",
    "2. Clustered the embeddings utilizing a K-nearest neighbors algorithm into a set of centroids\n",
    "3. Trained and evaluated the models from the last write-up against the centroid feature set\n",
    "\n",
    "And finally, here is the baseline model's performance vs. the 'centroid' model we developed in this write-up:\n",
    "\n",
    "|Model|Accuracy|Best Params                           |\n",
    "|-------------------|--------|-----------------------------------|\n",
    "|LR (baseline)      |86.35%  |{'LR__C': 0.1, 'LR__penalty': 'l1'}|\n",
    "|Kaggle centroid    |84.68%  |Estimators = 100                   |\n",
    "|SVM centroid       |86.36%  |Scikit-learn defaults              |\n",
    "\n",
    "<div style=\"clear: both;\"></div>\n",
    "\n",
    "Similar to the last [last write-up](./Model-06.p2.ipynb) the work in this notebook was an interesting idea to explore, but ultimately didn't result in an overall performance increase versus the baseline model.  As such this line of exploration will be rejected in favor of keeping the current base line model and accuracy rating as benchmarks moving forward."
   ]
  },
  {
   "cell_type": "code",
   "execution_count": null,
   "metadata": {},
   "outputs": [],
   "source": []
  }
 ],
 "metadata": {
  "kernelspec": {
   "display_name": "Python 3",
   "language": "python",
   "name": "python3"
  },
  "language_info": {
   "codemirror_mode": {
    "name": "ipython",
    "version": 3
   },
   "file_extension": ".py",
   "mimetype": "text/x-python",
   "name": "python",
   "nbconvert_exporter": "python",
   "pygments_lexer": "ipython3",
   "version": "3.6.5"
  },
  "toc": {
   "base_numbering": 1,
   "nav_menu": {},
   "number_sections": true,
   "sideBar": true,
   "skip_h1_title": false,
   "title_cell": "Table of Contents",
   "title_sidebar": "Contents",
   "toc_cell": true,
   "toc_position": {},
   "toc_section_display": true,
   "toc_window_display": false
  }
 },
 "nbformat": 4,
 "nbformat_minor": 2
}
