{
 "cells": [
  {
   "cell_type": "markdown",
   "metadata": {
    "toc": true
   },
   "source": [
    "<h1>Table of Contents<span class=\"tocSkip\"></span></h1>\n",
    "<div class=\"toc\"><ul class=\"toc-item\"><li><span><a href=\"#IMDB-Movie-Review-Sentiment-Classification\" data-toc-modified-id=\"IMDB-Movie-Review-Sentiment-Classification-1\"><span class=\"toc-item-num\">1&nbsp;&nbsp;</span>IMDB Movie Review Sentiment Classification</a></span></li><li><span><a href=\"#Purpose\" data-toc-modified-id=\"Purpose-2\"><span class=\"toc-item-num\">2&nbsp;&nbsp;</span>Purpose</a></span></li><li><span><a href=\"#Process\" data-toc-modified-id=\"Process-3\"><span class=\"toc-item-num\">3&nbsp;&nbsp;</span>Process</a></span></li><li><span><a href=\"#Configure-notebook,-import-libraries,-and-import-dataset\" data-toc-modified-id=\"Configure-notebook,-import-libraries,-and-import-dataset-4\"><span class=\"toc-item-num\">4&nbsp;&nbsp;</span>Configure notebook, import libraries, and import dataset</a></span></li><li><span><a href=\"#Examine-the-data\" data-toc-modified-id=\"Examine-the-data-5\"><span class=\"toc-item-num\">5&nbsp;&nbsp;</span>Examine the data</a></span></li><li><span><a href=\"#Cleaning-and-preprocessing\" data-toc-modified-id=\"Cleaning-and-preprocessing-6\"><span class=\"toc-item-num\">6&nbsp;&nbsp;</span>Cleaning and preprocessing</a></span></li><li><span><a href=\"#Bag-of-words-feature-creation\" data-toc-modified-id=\"Bag-of-words-feature-creation-7\"><span class=\"toc-item-num\">7&nbsp;&nbsp;</span>Bag-of-words feature creation</a></span></li><li><span><a href=\"#Baseline-Model-development\" data-toc-modified-id=\"Baseline-Model-development-8\"><span class=\"toc-item-num\">8&nbsp;&nbsp;</span>Baseline Model development</a></span></li></ul></div>"
   ]
  },
  {
   "cell_type": "markdown",
   "metadata": {},
   "source": [
    "<h1>IMDB Movie Review Sentiment Classification</h1>"
   ]
  },
  {
   "cell_type": "markdown",
   "metadata": {},
   "source": [
    "<img style=\"float: left; margin-right: 15px; width: 30%; height: 30%;\" src=\"images/imdb.jpg\" />"
   ]
  },
  {
   "cell_type": "markdown",
   "metadata": {},
   "source": [
    "# Purpose\n",
    "\n",
    "The overall goal of this set of write-ups is to explore a number of machine learning algorithms utilizing natural language processing (NLP) to classify the sentiment in a set of IMDB movie reviews.\n",
    "\n",
    "The specific goals of this write-up include:\n",
    "1. Create a sparser feature set by removing words not directly related to sentiment\n",
    "2. Run the models from the [last write-up](./Model-06.ipynb) against the new feature set\n",
    "3. Determine if the new feature set improves our ability to correctly classify movie review sentiment\n",
    "\n",
    "This series of write-ups is inspired by the Kaggle [\n",
    "Bag of Words Meets Bags of Popcorn](https://www.kaggle.com/c/word2vec-nlp-tutorial) competition.    \n",
    "\n",
    "Dataset source:  [IMDB Movie Reviews](https://www.kaggle.com/c/word2vec-nlp-tutorial/data)"
   ]
  },
  {
   "cell_type": "markdown",
   "metadata": {},
   "source": [
    "# Process\n",
    "\n",
    "Previously covered [here](./Model-06.ipynb#Process)."
   ]
  },
  {
   "cell_type": "markdown",
   "metadata": {},
   "source": [
    "# Configure notebook, import libraries, and import dataset"
   ]
  },
  {
   "cell_type": "markdown",
   "metadata": {
    "ExecuteTime": {
     "end_time": "2018-10-16T15:16:22.416553Z",
     "start_time": "2018-10-16T15:16:22.413553Z"
    }
   },
   "source": [
    "##### Import libraries"
   ]
  },
  {
   "cell_type": "code",
   "execution_count": 1,
   "metadata": {
    "ExecuteTime": {
     "end_time": "2018-10-19T14:34:58.808417Z",
     "start_time": "2018-10-19T14:34:31.375141Z"
    }
   },
   "outputs": [],
   "source": [
    "%matplotlib inline\n",
    "%load_ext autoreload\n",
    "%autoreload 2\n",
    "\n",
    "import warnings\n",
    "warnings.filterwarnings('ignore')\n",
    "\n",
    "import os\n",
    "import re\n",
    "import numpy as np\n",
    "import matplotlib.pyplot as plt\n",
    "import seaborn as sns\n",
    "\n",
    "import pandas as pd\n",
    "from pandas import set_option\n",
    "\n",
    "from sklearn.feature_extraction.text import CountVectorizer\n",
    "\n",
    "from sklearn.linear_model import LogisticRegression\n",
    "from sklearn.tree import DecisionTreeClassifier\n",
    "from sklearn.neighbors import KNeighborsClassifier\n",
    "from sklearn.discriminant_analysis import LinearDiscriminantAnalysis\n",
    "from sklearn.naive_bayes import GaussianNB\n",
    "from sklearn.svm import SVC\n",
    "\n",
    "from sklearn.feature_selection import SelectKBest\n",
    "from sklearn.feature_selection import f_regression\n",
    "\n",
    "from sklearn.pipeline import Pipeline\n",
    "from sklearn.pipeline import FeatureUnion\n",
    "\n",
    "from sklearn.ensemble import AdaBoostClassifier\n",
    "from sklearn.ensemble import GradientBoostingClassifier\n",
    "from sklearn.ensemble import RandomForestClassifier\n",
    "from sklearn.ensemble import ExtraTreesClassifier\n",
    "\n",
    "from sklearn.model_selection import train_test_split\n",
    "from sklearn.model_selection import KFold\n",
    "from sklearn.model_selection import cross_val_score\n",
    "from sklearn.model_selection import GridSearchCV\n",
    "\n",
    "from sklearn.preprocessing import StandardScaler\n",
    "\n",
    "from sklearn.metrics import classification_report\n",
    "from sklearn.metrics import confusion_matrix\n",
    "from sklearn.metrics import accuracy_score\n",
    "\n",
    "# http://www.nltk.org/index.html\n",
    "# pip install nltk\n",
    "import nltk\n",
    "from nltk.corpus import stopwords\n",
    "\n",
    "# https://www.crummy.com/software/BeautifulSoup/bs4/doc/\n",
    "# pip install BeautifulSoup4\n",
    "from bs4 import BeautifulSoup\n",
    "\n",
    "# https://pypi.org/project/gensim/\n",
    "# pip install gensim\n",
    "from gensim.models import word2vec\n",
    "\n",
    "import logging\n",
    "logging.basicConfig(format='%(asctime)s : %(levelname)s : %(message)s', level = logging.INFO)"
   ]
  },
  {
   "cell_type": "markdown",
   "metadata": {},
   "source": [
    "##### Define global variables"
   ]
  },
  {
   "cell_type": "code",
   "execution_count": 2,
   "metadata": {
    "ExecuteTime": {
     "end_time": "2018-10-19T14:34:59.235204Z",
     "start_time": "2018-10-19T14:34:58.809417Z"
    }
   },
   "outputs": [],
   "source": [
    "seed = 10\n",
    "np.random.seed(seed)\n",
    "\n",
    "# Opens a GUI that allows us to download the NLTK data\n",
    "# nltk.download()\n",
    "\n",
    "dataPath = os.path.join('.', 'datasets', 'imdb_movie_reviews')\n",
    "labeledTrainData = os.path.join(dataPath, 'labeledTrainData.tsv')"
   ]
  },
  {
   "cell_type": "markdown",
   "metadata": {},
   "source": [
    "##### Import dataset"
   ]
  },
  {
   "cell_type": "code",
   "execution_count": 3,
   "metadata": {
    "ExecuteTime": {
     "end_time": "2018-10-19T14:35:00.312665Z",
     "start_time": "2018-10-19T14:34:59.236203Z"
    }
   },
   "outputs": [],
   "source": [
    "df = pd.read_csv(labeledTrainData, sep = '\\t', header = 0, quoting = 3)"
   ]
  },
  {
   "cell_type": "markdown",
   "metadata": {},
   "source": [
    "# Examine the data\n",
    "\n",
    "Previously covered [here](./Model-06.ipynb#Examine-the-data)."
   ]
  },
  {
   "cell_type": "markdown",
   "metadata": {},
   "source": [
    "# Cleaning and preprocessing\n",
    "\n",
    "Process justification and methodology previously covered [here](./Model-06.ipynb#Cleaning-and-preprocessing).\n",
    "\n",
    "Define a 'cleaning' function, and clean the training set:"
   ]
  },
  {
   "cell_type": "code",
   "execution_count": 4,
   "metadata": {
    "ExecuteTime": {
     "end_time": "2018-10-19T14:35:00.966338Z",
     "start_time": "2018-10-19T14:35:00.313664Z"
    }
   },
   "outputs": [],
   "source": [
    "# Convert the stop words to a set\n",
    "stopWords = set(stopwords.words(\"english\"))\n",
    "\n",
    "# Clean IMDB review text\n",
    "def cleanReview(review, stopWords):\n",
    "    # Remove HTML\n",
    "    clean = BeautifulSoup(review)\n",
    "    \n",
    "    # Remove non-alpha chars\n",
    "    clean = re.sub(\"[^a-zA-Z]\", ' ', clean.get_text())\n",
    "    \n",
    "    # Convert to lower case and \"tokenize\"\n",
    "    clean = clean.lower().split()\n",
    "    \n",
    "    # Remove stop words\n",
    "    clean = [x for x in clean if not x in stopWords]\n",
    "\n",
    "    # Prepare final, cleaned review\n",
    "    clean = \" \".join(clean)\n",
    "    \n",
    "    # Return results\n",
    "    return clean\n",
    "    "
   ]
  },
  {
   "cell_type": "code",
   "execution_count": 5,
   "metadata": {
    "ExecuteTime": {
     "end_time": "2018-10-19T14:35:10.324656Z",
     "start_time": "2018-10-19T14:35:00.971335Z"
    }
   },
   "outputs": [],
   "source": [
    "cleanReviews = [cleanReview(x, stopWords) for x in df['review']]\n",
    "assert(len(df) == (len(cleanReviews)))"
   ]
  },
  {
   "cell_type": "markdown",
   "metadata": {},
   "source": [
    "# Bag-of-words feature creation\n",
    "\n",
    "Initial discussion of the `bag-of-words` algorithm was previously covered [here](./Model-06.ipynb#Bag-of-words-feature-creation)."
   ]
  },
  {
   "cell_type": "markdown",
   "metadata": {},
   "source": [
    "Next, in the [first write-up](http://localhost:8888/notebooks/Machine-Learning/Python/04-Classic-Datasets/Model-06.ipynb) of this series we examined a sample review--index 108--during the analysis, cleaning, and preprocessing.  We'll post it here again for reference:"
   ]
  },
  {
   "cell_type": "code",
   "execution_count": 6,
   "metadata": {
    "ExecuteTime": {
     "end_time": "2018-10-19T14:35:10.752442Z",
     "start_time": "2018-10-19T14:35:10.325656Z"
    }
   },
   "outputs": [
    {
     "data": {
      "text/plain": [
       "'question one sees movie bad necessarily movie bad get made even see awful first place learned experience learned rules horror movies catalogued satirized countless times last ten years mean someone go ahead make movie uses without shred humor irony movie described loosely based video game script problems black character may always die first asian character always know kung fu may proud figured matrix effect budget necessarily mean use ad nausea ron howard brother guarantee choice roles whenever scene edit together use footage video game one notice cousin rap metal band offers write movie theme free politely decline zombie movies people killing zombies zombies killing people preferably gruesome way possible makes scary white people pay get rave deserve die find old book tell everything need know anything else figure two lines someone asks bare breasts horror movie panacea helicopter boom shot licensing deal sega magically transforms movie student film major studio release try name drop three living dead movies make george romero even paul w anderson seen worse movies seen mortal kombat annihilation'"
      ]
     },
     "execution_count": 6,
     "metadata": {},
     "output_type": "execute_result"
    }
   ],
   "source": [
    "cleanReviews[108]"
   ]
  },
  {
   "cell_type": "markdown",
   "metadata": {},
   "source": [
    "Since the bag-of-words creation is doing a word count analysis I wanted to explore what would happen if we removed the 'noise' from the reviews.  (And by 'noise' I mean words that likely wouldn't help or hinder sentiment.)  From the review text above we have this string sample for instance:\n",
    "\n",
    "```\n",
    "whenever scene edit together use footage video game one notice cousin rap metal band offers\n",
    "```\n",
    "\n",
    "It is doubtful this series of words will give the model any 'insights' into if this is a positive or negative review.  However, this next string sample does seem like it would give an indication to review sentiment:\n",
    "\n",
    "```\n",
    "question one sees movie bad necessarily movie bad get made even see awful\n",
    "```\n",
    "\n",
    "In order to explore this idea let's load a sentiment lexicon into the notebook, and then remove any 'noise' words not found in the sentiment lexicon from the review texts.  We'll then run the 'de-noised' review texts through the same models as we did in the [previous write-up](./Model-06.ipynb), and see if we gain any improvements in speed and/or accuracy."
   ]
  },
  {
   "cell_type": "markdown",
   "metadata": {},
   "source": [
    "##### Download the sentiment lexicon\n",
    "\n",
    "The sentiment lexicon we'll utilize can be found here:  https://www.cs.uic.edu/~liub/FBS/sentiment-analysis.html#lexicon\n",
    "\n",
    "Using a few commands we can download and extract it:\n",
    "\n",
    "```\n",
    "wget https://www.cs.uic.edu/~liub/FBS/opinion-lexicon-English.rar\n",
    "unrar e opinion-lexicon-English.rar\n",
    "```"
   ]
  },
  {
   "cell_type": "markdown",
   "metadata": {},
   "source": [
    "##### Applying the sentiment lexicon  - Single observation\n",
    "\n",
    "Next we'll want to combine all the positive and negative sentiment words into a single list, and then remove any words from the reviews not found in the sentiment lexicon:"
   ]
  },
  {
   "cell_type": "code",
   "execution_count": 7,
   "metadata": {
    "ExecuteTime": {
     "end_time": "2018-10-19T14:35:11.182227Z",
     "start_time": "2018-10-19T14:35:10.754441Z"
    }
   },
   "outputs": [],
   "source": [
    "# Combine the positive and negative lists of sentiment lexicon words\n",
    "\n",
    "with open(os.path.join('.', 'datasets', 'positive-words.txt')) as f:\n",
    "    _positive = f.read().splitlines()\n",
    "    \n",
    "with open(os.path.join('.', 'datasets', 'negative-words.txt')) as f:\n",
    "    _negative = f.read().splitlines()\n",
    "    \n",
    "allWords = _positive[35:] + _negative[35:]\n",
    "\n",
    "assert( len(allWords) == (len(_positive[35:]) + len(_negative[35:])) )"
   ]
  },
  {
   "cell_type": "code",
   "execution_count": 8,
   "metadata": {
    "ExecuteTime": {
     "end_time": "2018-10-19T14:35:11.603017Z",
     "start_time": "2018-10-19T14:35:11.184226Z"
    }
   },
   "outputs": [
    {
     "data": {
      "text/plain": [
       "'question one sees movie bad necessarily movie bad get made even see awful first place learned experience learned rules horror movies catalogued satirized countless times last ten years mean someone go ahead make movie uses without shred humor irony movie described loosely based video game script problems black character may always die first asian character always know kung fu may proud figured matrix effect budget necessarily mean use ad nausea ron howard brother guarantee choice roles whenever scene edit together use footage video game one notice cousin rap metal band offers write movie theme free politely decline zombie movies people killing zombies zombies killing people preferably gruesome way possible makes scary white people pay get rave deserve die find old book tell everything need know anything else figure two lines someone asks bare breasts horror movie panacea helicopter boom shot licensing deal sega magically transforms movie student film major studio release try name drop three living dead movies make george romero even paul w anderson seen worse movies seen mortal kombat annihilation'"
      ]
     },
     "execution_count": 8,
     "metadata": {},
     "output_type": "execute_result"
    }
   ],
   "source": [
    "# Preview our sample review before sentiment lexicon parsing\n",
    "cleanReviews[108]"
   ]
  },
  {
   "cell_type": "code",
   "execution_count": 9,
   "metadata": {
    "ExecuteTime": {
     "end_time": "2018-10-19T14:35:12.043796Z",
     "start_time": "2018-10-19T14:35:11.604016Z"
    }
   },
   "outputs": [],
   "source": [
    "# Apply the sentiment lexicon parsing\n",
    "_tmp = [x for x in cleanReviews[108].split() if x in allWords]"
   ]
  },
  {
   "cell_type": "code",
   "execution_count": 10,
   "metadata": {
    "ExecuteTime": {
     "end_time": "2018-10-19T14:35:12.465585Z",
     "start_time": "2018-10-19T14:35:12.045795Z"
    }
   },
   "outputs": [
    {
     "data": {
      "text/plain": [
       "['bad',\n",
       " 'bad',\n",
       " 'awful',\n",
       " 'humor',\n",
       " 'irony',\n",
       " 'problems',\n",
       " 'die',\n",
       " 'proud',\n",
       " 'guarantee',\n",
       " 'free',\n",
       " 'decline',\n",
       " 'zombie',\n",
       " 'killing',\n",
       " 'killing',\n",
       " 'preferably',\n",
       " 'gruesome',\n",
       " 'scary',\n",
       " 'die',\n",
       " 'boom',\n",
       " 'dead',\n",
       " 'worse',\n",
       " 'annihilation']"
      ]
     },
     "execution_count": 10,
     "metadata": {},
     "output_type": "execute_result"
    }
   ],
   "source": [
    "# Example the 'de-noised' list of remaining words\n",
    "_tmp"
   ]
  },
  {
   "cell_type": "markdown",
   "metadata": {},
   "source": [
    "##### Applying the sentiment lexicon  - All observations\n",
    "\n",
    "Everything looks good so far, so let's 'de-noise' the entire dataset:"
   ]
  },
  {
   "cell_type": "code",
   "execution_count": 11,
   "metadata": {
    "ExecuteTime": {
     "end_time": "2018-10-19T14:38:32.472532Z",
     "start_time": "2018-10-19T14:35:12.467584Z"
    }
   },
   "outputs": [],
   "source": [
    "sparseCleanReviews = []\n",
    "\n",
    "for review in cleanReviews:\n",
    "    _tmp = [x for x in review.split() if x in allWords]\n",
    "    sparseCleanReviews.append(\" \".join(_tmp))"
   ]
  },
  {
   "cell_type": "code",
   "execution_count": 12,
   "metadata": {
    "ExecuteTime": {
     "end_time": "2018-10-19T14:38:32.918309Z",
     "start_time": "2018-10-19T14:38:32.474531Z"
    }
   },
   "outputs": [
    {
     "data": {
      "text/plain": [
       "'bad bad awful humor irony problems die proud guarantee free decline zombie killing killing preferably gruesome scary die boom dead worse annihilation'"
      ]
     },
     "execution_count": 12,
     "metadata": {},
     "output_type": "execute_result"
    }
   ],
   "source": [
    "# Sanity check examination\n",
    "\n",
    "sparseCleanReviews[108]"
   ]
  },
  {
   "cell_type": "markdown",
   "metadata": {},
   "source": [
    "##### CountVectorizer application\n",
    "\n",
    "We'll now simply repeat the CountVectorizer steps as we did in the [first write-up](./Model-06.ipynb) to create the 'bags-of-words' numeric representation of the 'de-noised' reviews suitable for the machine learning model."
   ]
  },
  {
   "cell_type": "code",
   "execution_count": 13,
   "metadata": {
    "ExecuteTime": {
     "end_time": "2018-10-19T14:38:33.941797Z",
     "start_time": "2018-10-19T14:38:32.920308Z"
    }
   },
   "outputs": [
    {
     "name": "stdout",
     "output_type": "stream",
     "text": [
      "Features shape:  (25000, 5000)\n"
     ]
    }
   ],
   "source": [
    "# Utilize the defaults for the object instantiation other than max_features\n",
    "vec = CountVectorizer(max_features = 5000)\n",
    "\n",
    "# Similar to how almost every other Scikit-Learn objects works we'll call the fit() and transform() methods\n",
    "features = vec.fit_transform(sparseCleanReviews)\n",
    "\n",
    "# And finally we'll convert to a np.array\n",
    "features = features.toarray()\n",
    "\n",
    "print(\"Features shape: \", features.shape)"
   ]
  },
  {
   "cell_type": "markdown",
   "metadata": {},
   "source": [
    "##### Examine vocabulary\n",
    "\n",
    "We'll examine what the 'de-noising' did to the top ten top and bottom vocabulary listings:"
   ]
  },
  {
   "cell_type": "code",
   "execution_count": 14,
   "metadata": {
    "ExecuteTime": {
     "end_time": "2018-10-19T14:38:34.369583Z",
     "start_time": "2018-10-19T14:38:33.943796Z"
    }
   },
   "outputs": [
    {
     "name": "stdout",
     "output_type": "stream",
     "text": [
      "['abnormal', 'abolish', 'abominable', 'abominably', 'abomination', 'abort', 'aborted', 'aborts', 'abound', 'abounds']\n"
     ]
    }
   ],
   "source": [
    "# Take a look at the first 10 words in the vocabulary\n",
    "vocab = vec.get_feature_names()\n",
    "print(vocab[:10])"
   ]
  },
  {
   "cell_type": "code",
   "execution_count": 15,
   "metadata": {
    "ExecuteTime": {
     "end_time": "2018-10-19T14:38:35.828853Z",
     "start_time": "2018-10-19T14:38:34.371582Z"
    }
   },
   "outputs": [],
   "source": [
    "_df = pd.DataFrame(data = features, columns = vocab).sum()\n",
    "_df.sort_values(ascending = False, inplace = True)"
   ]
  },
  {
   "cell_type": "code",
   "execution_count": 16,
   "metadata": {
    "ExecuteTime": {
     "end_time": "2018-10-19T14:38:36.256639Z",
     "start_time": "2018-10-19T14:38:35.830852Z"
    }
   },
   "outputs": [
    {
     "name": "stdout",
     "output_type": "stream",
     "text": [
      "Top 10:\n",
      "\n",
      "like      20274\n",
      "good      15140\n",
      "well      10662\n",
      "bad        9301\n",
      "great      9058\n",
      "plot       6585\n",
      "love       6454\n",
      "best       6416\n",
      "better     5737\n",
      "work       4372\n",
      "dtype: int64\n"
     ]
    }
   ],
   "source": [
    "print(\"Top 10:\\n\")\n",
    "print(_df.head(10))"
   ]
  },
  {
   "cell_type": "markdown",
   "metadata": {},
   "source": [
    "Original 'Top 10' before 'de-noising':\n",
    "\n",
    "```\n",
    "Top 10:\n",
    "\n",
    "movie     44031\n",
    "film      40147\n",
    "one       26788\n",
    "like      20274\n",
    "good      15140\n",
    "time      12724\n",
    "even      12646\n",
    "would     12436\n",
    "story     11983\n",
    "really    11736\n",
    "```"
   ]
  },
  {
   "cell_type": "code",
   "execution_count": 17,
   "metadata": {
    "ExecuteTime": {
     "end_time": "2018-10-19T14:38:36.680427Z",
     "start_time": "2018-10-19T14:38:36.258638Z"
    }
   },
   "outputs": [
    {
     "name": "stdout",
     "output_type": "stream",
     "text": [
      "Bottom 10:\n",
      "\n",
      "hothead          1\n",
      "pillory          1\n",
      "immorally        1\n",
      "immodest         1\n",
      "beckoned         1\n",
      "beckoning        1\n",
      "immoderate       1\n",
      "horrify          1\n",
      "hotbeds          1\n",
      "overbearingly    1\n",
      "dtype: int64\n"
     ]
    }
   ],
   "source": [
    "print(\"Bottom 10:\\n\")\n",
    "print(_df.tail(10))"
   ]
  },
  {
   "cell_type": "markdown",
   "metadata": {},
   "source": [
    "Original 'Bottom 10' before 'de-noising':\n",
    "\n",
    "```\n",
    "Bottom 10:\n",
    "\n",
    "skull       78\n",
    "sopranos    78\n",
    "premiere    78\n",
    "bunny       78\n",
    "flair       78\n",
    "fishing     78\n",
    "awhile      78\n",
    "stumbled    78\n",
    "amused      78\n",
    "cream       78\n",
    "```"
   ]
  },
  {
   "cell_type": "markdown",
   "metadata": {},
   "source": [
    "# Baseline Model development"
   ]
  },
  {
   "cell_type": "markdown",
   "metadata": {},
   "source": [
    "We are finally ready to develop the baseline model on the data we've explored, cleaned, and processed.  Because the IMDB data set doesn't include a validation set we'll create one from a portion of the training data.  The processes is similar to our work in previous write-ups such as the [Iris classifier](.//Model-01.ipynb)."
   ]
  },
  {
   "cell_type": "code",
   "execution_count": 18,
   "metadata": {
    "ExecuteTime": {
     "end_time": "2018-10-19T14:38:38.300616Z",
     "start_time": "2018-10-19T14:38:36.681426Z"
    }
   },
   "outputs": [],
   "source": [
    "# Pull in the labeled data\n",
    "labeledTrainData = os.path.join(dataPath, 'labeledTrainData.tsv')\n",
    "df = pd.read_csv(labeledTrainData, sep = '\\t', header = 0, quoting = 3)\n",
    "\n",
    "# Pull in the unlabeled data since it can be utilized by Word2Vec\n",
    "unlabeledTrainData = os.path.join(dataPath, 'unlabeledTrainData.tsv')\n",
    "dfUn = pd.read_csv(unlabeledTrainData, sep = '\\t', header = 0, quoting = 3)"
   ]
  },
  {
   "cell_type": "code",
   "execution_count": 19,
   "metadata": {
    "ExecuteTime": {
     "end_time": "2018-10-19T14:38:38.759387Z",
     "start_time": "2018-10-19T14:38:38.301616Z"
    }
   },
   "outputs": [
    {
     "name": "stdout",
     "output_type": "stream",
     "text": [
      "df.shape : (25000, 3)\n",
      "dfUn.shape : (50000, 2)\n"
     ]
    }
   ],
   "source": [
    "# Validation\n",
    "print('df.shape :', df.shape)\n",
    "print('dfUn.shape :', dfUn.shape)"
   ]
  },
  {
   "cell_type": "markdown",
   "metadata": {},
   "source": [
    "Word2Vec expects single sentences, each one as a list of words. In other words, the input format is a list of lists."
   ]
  },
  {
   "cell_type": "code",
   "execution_count": 20,
   "metadata": {
    "ExecuteTime": {
     "end_time": "2018-10-19T14:38:39.200166Z",
     "start_time": "2018-10-19T14:38:38.761386Z"
    }
   },
   "outputs": [],
   "source": [
    "# Update stop word helper function to output a list of words\n",
    "\n",
    "# Clean IMDB review text\n",
    "def cleanReview(review, removeStopWords = False):\n",
    "    # Convert the stop words to a set\n",
    "    stopWords = set(stopwords.words(\"english\"))\n",
    "    \n",
    "    # Remove HTML\n",
    "    clean = BeautifulSoup(review)\n",
    "    \n",
    "    # Remove non-alpha chars\n",
    "    clean = re.sub(\"[^a-zA-Z]\", ' ', clean.get_text())\n",
    "    \n",
    "    # Convert to lower case and \"tokenize\"\n",
    "    clean = clean.lower().split()\n",
    "    \n",
    "    # Remove stop words\n",
    "    if removeStopWords:\n",
    "        clean = [x for x in clean if not x in stopWords]\n",
    "    \n",
    "    # Return results\n",
    "    return clean"
   ]
  },
  {
   "cell_type": "code",
   "execution_count": 21,
   "metadata": {
    "ExecuteTime": {
     "end_time": "2018-10-19T14:38:39.654939Z",
     "start_time": "2018-10-19T14:38:39.202165Z"
    }
   },
   "outputs": [
    {
     "data": {
      "text/plain": [
       "['looking',\n",
       " 'for',\n",
       " 'quo',\n",
       " 'vadis',\n",
       " 'at',\n",
       " 'my',\n",
       " 'local',\n",
       " 'video',\n",
       " 'store',\n",
       " 'i',\n",
       " 'found',\n",
       " 'this']"
      ]
     },
     "execution_count": 21,
     "metadata": {},
     "output_type": "execute_result"
    }
   ],
   "source": [
    "# Examine\n",
    "cleanReview(df.iloc[25,2])[:12]"
   ]
  },
  {
   "cell_type": "code",
   "execution_count": 22,
   "metadata": {
    "ExecuteTime": {
     "end_time": "2018-10-19T14:38:40.091720Z",
     "start_time": "2018-10-19T14:38:39.655938Z"
    }
   },
   "outputs": [
    {
     "data": {
      "text/plain": [
       "['watching',\n",
       " 'time',\n",
       " 'chasers',\n",
       " 'it',\n",
       " 'obvious',\n",
       " 'that',\n",
       " 'it',\n",
       " 'was',\n",
       " 'made',\n",
       " 'by',\n",
       " 'a',\n",
       " 'bunch']"
      ]
     },
     "execution_count": 22,
     "metadata": {},
     "output_type": "execute_result"
    }
   ],
   "source": [
    "# Examine\n",
    "cleanReview(dfUn.iloc[0,1])[:12]"
   ]
  },
  {
   "cell_type": "markdown",
   "metadata": {},
   "source": [
    "Create function to break review into a list of sentences which are list of words (i.e. list of lists)"
   ]
  },
  {
   "cell_type": "code",
   "execution_count": 23,
   "metadata": {
    "ExecuteTime": {
     "end_time": "2018-10-19T14:38:40.612460Z",
     "start_time": "2018-10-19T14:38:40.093719Z"
    }
   },
   "outputs": [],
   "source": [
    "# Creating function implementing punkt tokenizer for sentence splitting\n",
    "import nltk.data\n",
    "\n",
    "# Only need this the first time...\n",
    "# nltk.download('punkt')\n",
    "\n",
    "# Load the punkt tokenizer\n",
    "tokenizer = nltk.data.load('tokenizers/punkt/english.pickle')\n",
    "\n",
    "# Define a function to split a review into parsed sentences\n",
    "def createSentences(review, tokenizer, remove_stopwords = False):\n",
    "    # Init container to hold results\n",
    "    sentences = []\n",
    "    \n",
    "    # Split review string into sentences\n",
    "    tokenSentences = tokenizer.tokenize(review.strip())\n",
    "\n",
    "    # Clean the sentences via cleanReview() function\n",
    "    for s in tokenSentences:\n",
    "        # If a sentence is empty, skip it\n",
    "        if len(s) > 0:\n",
    "            # Clean sentence\n",
    "            sentences.append( cleanReview( s, remove_stopwords ))\n",
    "    \n",
    "    # Return list of clean sentences\n",
    "    return sentences"
   ]
  },
  {
   "cell_type": "code",
   "execution_count": 24,
   "metadata": {
    "ExecuteTime": {
     "end_time": "2018-10-19T14:38:41.062235Z",
     "start_time": "2018-10-19T14:38:40.613459Z"
    }
   },
   "outputs": [
    {
     "name": "stdout",
     "output_type": "stream",
     "text": [
      "['looking', 'for', 'quo', 'vadis', 'at', 'my', 'local', 'video', 'store', 'i', 'found', 'this']\n",
      "8\n"
     ]
    }
   ],
   "source": [
    "# Examine\n",
    "_ = createSentences(df.iloc[25,2], tokenizer)\n",
    "print(_[0][:12])\n",
    "print(len(_))"
   ]
  },
  {
   "cell_type": "code",
   "execution_count": 25,
   "metadata": {
    "ExecuteTime": {
     "end_time": "2018-10-19T14:38:41.517007Z",
     "start_time": "2018-10-19T14:38:41.064234Z"
    }
   },
   "outputs": [
    {
     "name": "stdout",
     "output_type": "stream",
     "text": [
      "['watching', 'time', 'chasers', 'it', 'obvious', 'that', 'it', 'was', 'made', 'by', 'a', 'bunch']\n",
      "5\n"
     ]
    }
   ],
   "source": [
    "# Examine\n",
    "_ = createSentences(dfUn.iloc[0,1], tokenizer)\n",
    "print(_[0][:12])\n",
    "print(len(_))"
   ]
  },
  {
   "cell_type": "markdown",
   "metadata": {},
   "source": [
    "Now combine the labeled and unlabeled list of lists:"
   ]
  },
  {
   "cell_type": "code",
   "execution_count": 26,
   "metadata": {
    "ExecuteTime": {
     "end_time": "2018-10-19T14:46:25.299337Z",
     "start_time": "2018-10-19T14:38:41.519006Z"
    }
   },
   "outputs": [],
   "source": [
    "combined = []\n",
    "\n",
    "for s in df.iloc[:,2]:\n",
    "    combined += createSentences(s, tokenizer)"
   ]
  },
  {
   "cell_type": "code",
   "execution_count": 27,
   "metadata": {
    "ExecuteTime": {
     "end_time": "2018-10-19T14:58:48.745842Z",
     "start_time": "2018-10-19T14:46:25.301337Z"
    }
   },
   "outputs": [],
   "source": [
    "for s in dfUn.iloc[:,1]:\n",
    "    combined += createSentences(s, tokenizer)"
   ]
  },
  {
   "cell_type": "markdown",
   "metadata": {},
   "source": [
    "Quick examination:"
   ]
  },
  {
   "cell_type": "code",
   "execution_count": 28,
   "metadata": {
    "ExecuteTime": {
     "end_time": "2018-10-19T14:58:49.161925Z",
     "start_time": "2018-10-19T14:58:48.746842Z"
    }
   },
   "outputs": [
    {
     "name": "stdout",
     "output_type": "stream",
     "text": [
      "len(combined):  795538\n",
      "\n",
      "Sample sentence:\n",
      "['with', 'all', 'this', 'stuff', 'going', 'down', 'at', 'the', 'moment', 'with', 'mj', 'i', 've', 'started', 'listening', 'to', 'his', 'music', 'watching', 'the', 'odd', 'documentary', 'here', 'and', 'there', 'watched', 'the', 'wiz', 'and', 'watched', 'moonwalker', 'again']\n"
     ]
    }
   ],
   "source": [
    "print('len(combined): ', len(combined))\n",
    "print(\"\\nSample sentence:\")\n",
    "print(combined[0])"
   ]
  },
  {
   "cell_type": "markdown",
   "metadata": {},
   "source": [
    "Train the Word2Vec model:"
   ]
  },
  {
   "cell_type": "code",
   "execution_count": 29,
   "metadata": {
    "ExecuteTime": {
     "end_time": "2018-10-19T14:59:50.588208Z",
     "start_time": "2018-10-19T14:58:49.163926Z"
    },
    "scrolled": true
   },
   "outputs": [
    {
     "name": "stderr",
     "output_type": "stream",
     "text": [
      "2018-10-19 08:58:49,660 : INFO : collecting all words and their counts\n",
      "2018-10-19 08:58:49,661 : INFO : PROGRESS: at sentence #0, processed 0 words, keeping 0 word types\n",
      "2018-10-19 08:58:49,709 : INFO : PROGRESS: at sentence #10000, processed 225803 words, keeping 17776 word types\n",
      "2018-10-19 08:58:49,751 : INFO : PROGRESS: at sentence #20000, processed 451892 words, keeping 24948 word types\n",
      "2018-10-19 08:58:49,794 : INFO : PROGRESS: at sentence #30000, processed 671315 words, keeping 30034 word types\n",
      "2018-10-19 08:58:49,833 : INFO : PROGRESS: at sentence #40000, processed 897815 words, keeping 34348 word types\n",
      "2018-10-19 08:58:49,874 : INFO : PROGRESS: at sentence #50000, processed 1116963 words, keeping 37761 word types\n",
      "2018-10-19 08:58:49,914 : INFO : PROGRESS: at sentence #60000, processed 1338404 words, keeping 40723 word types\n",
      "2018-10-19 08:58:49,954 : INFO : PROGRESS: at sentence #70000, processed 1561580 words, keeping 43333 word types\n",
      "2018-10-19 08:58:49,995 : INFO : PROGRESS: at sentence #80000, processed 1780887 words, keeping 45714 word types\n",
      "2018-10-19 08:58:50,038 : INFO : PROGRESS: at sentence #90000, processed 2004996 words, keeping 48135 word types\n",
      "2018-10-19 08:58:50,079 : INFO : PROGRESS: at sentence #100000, processed 2226966 words, keeping 50207 word types\n",
      "2018-10-19 08:58:50,118 : INFO : PROGRESS: at sentence #110000, processed 2446580 words, keeping 52081 word types\n",
      "2018-10-19 08:58:50,160 : INFO : PROGRESS: at sentence #120000, processed 2668775 words, keeping 54119 word types\n",
      "2018-10-19 08:58:50,200 : INFO : PROGRESS: at sentence #130000, processed 2894303 words, keeping 55847 word types\n",
      "2018-10-19 08:58:50,238 : INFO : PROGRESS: at sentence #140000, processed 3107005 words, keeping 57346 word types\n",
      "2018-10-19 08:58:50,278 : INFO : PROGRESS: at sentence #150000, processed 3332627 words, keeping 59055 word types\n",
      "2018-10-19 08:58:50,317 : INFO : PROGRESS: at sentence #160000, processed 3555315 words, keeping 60617 word types\n",
      "2018-10-19 08:58:50,358 : INFO : PROGRESS: at sentence #170000, processed 3778655 words, keeping 62077 word types\n",
      "2018-10-19 08:58:50,399 : INFO : PROGRESS: at sentence #180000, processed 3999236 words, keeping 63496 word types\n",
      "2018-10-19 08:58:50,441 : INFO : PROGRESS: at sentence #190000, processed 4224449 words, keeping 64794 word types\n",
      "2018-10-19 08:58:50,480 : INFO : PROGRESS: at sentence #200000, processed 4448603 words, keeping 66087 word types\n",
      "2018-10-19 08:58:50,521 : INFO : PROGRESS: at sentence #210000, processed 4669967 words, keeping 67390 word types\n",
      "2018-10-19 08:58:50,563 : INFO : PROGRESS: at sentence #220000, processed 4894968 words, keeping 68697 word types\n",
      "2018-10-19 08:58:50,602 : INFO : PROGRESS: at sentence #230000, processed 5117545 words, keeping 69958 word types\n",
      "2018-10-19 08:58:50,644 : INFO : PROGRESS: at sentence #240000, processed 5345050 words, keeping 71167 word types\n",
      "2018-10-19 08:58:50,683 : INFO : PROGRESS: at sentence #250000, processed 5559165 words, keeping 72351 word types\n",
      "2018-10-19 08:58:50,726 : INFO : PROGRESS: at sentence #260000, processed 5779146 words, keeping 73478 word types\n",
      "2018-10-19 08:58:50,767 : INFO : PROGRESS: at sentence #270000, processed 6000435 words, keeping 74767 word types\n",
      "2018-10-19 08:58:50,811 : INFO : PROGRESS: at sentence #280000, processed 6226314 words, keeping 76369 word types\n",
      "2018-10-19 08:58:50,851 : INFO : PROGRESS: at sentence #290000, processed 6449474 words, keeping 77839 word types\n",
      "2018-10-19 08:58:50,892 : INFO : PROGRESS: at sentence #300000, processed 6674077 words, keeping 79171 word types\n",
      "2018-10-19 08:58:50,935 : INFO : PROGRESS: at sentence #310000, processed 6899391 words, keeping 80480 word types\n",
      "2018-10-19 08:58:50,975 : INFO : PROGRESS: at sentence #320000, processed 7124278 words, keeping 81808 word types\n",
      "2018-10-19 08:58:51,016 : INFO : PROGRESS: at sentence #330000, processed 7346021 words, keeping 83030 word types\n",
      "2018-10-19 08:58:51,058 : INFO : PROGRESS: at sentence #340000, processed 7575533 words, keeping 84280 word types\n",
      "2018-10-19 08:58:51,097 : INFO : PROGRESS: at sentence #350000, processed 7798803 words, keeping 85425 word types\n",
      "2018-10-19 08:58:51,138 : INFO : PROGRESS: at sentence #360000, processed 8019427 words, keeping 86596 word types\n",
      "2018-10-19 08:58:51,183 : INFO : PROGRESS: at sentence #370000, processed 8246619 words, keeping 87708 word types\n",
      "2018-10-19 08:58:51,224 : INFO : PROGRESS: at sentence #380000, processed 8471766 words, keeping 88878 word types\n",
      "2018-10-19 08:58:51,266 : INFO : PROGRESS: at sentence #390000, processed 8701497 words, keeping 89907 word types\n",
      "2018-10-19 08:58:51,307 : INFO : PROGRESS: at sentence #400000, processed 8924446 words, keeping 90916 word types\n",
      "2018-10-19 08:58:51,349 : INFO : PROGRESS: at sentence #410000, processed 9145796 words, keeping 91880 word types\n",
      "2018-10-19 08:58:51,392 : INFO : PROGRESS: at sentence #420000, processed 9366876 words, keeping 92912 word types\n",
      "2018-10-19 08:58:51,433 : INFO : PROGRESS: at sentence #430000, processed 9594413 words, keeping 93932 word types\n",
      "2018-10-19 08:58:51,477 : INFO : PROGRESS: at sentence #440000, processed 9821166 words, keeping 94906 word types\n",
      "2018-10-19 08:58:51,518 : INFO : PROGRESS: at sentence #450000, processed 10044928 words, keeping 96036 word types\n",
      "2018-10-19 08:58:51,561 : INFO : PROGRESS: at sentence #460000, processed 10277688 words, keeping 97088 word types\n",
      "2018-10-19 08:58:51,601 : INFO : PROGRESS: at sentence #470000, processed 10505613 words, keeping 97933 word types\n",
      "2018-10-19 08:58:51,645 : INFO : PROGRESS: at sentence #480000, processed 10725997 words, keeping 98862 word types\n",
      "2018-10-19 08:58:51,686 : INFO : PROGRESS: at sentence #490000, processed 10952741 words, keeping 99871 word types\n",
      "2018-10-19 08:58:51,728 : INFO : PROGRESS: at sentence #500000, processed 11174397 words, keeping 100765 word types\n",
      "2018-10-19 08:58:51,769 : INFO : PROGRESS: at sentence #510000, processed 11399672 words, keeping 101699 word types\n",
      "2018-10-19 08:58:51,811 : INFO : PROGRESS: at sentence #520000, processed 11623020 words, keeping 102598 word types\n",
      "2018-10-19 08:58:51,853 : INFO : PROGRESS: at sentence #530000, processed 11847418 words, keeping 103400 word types\n",
      "2018-10-19 08:58:51,897 : INFO : PROGRESS: at sentence #540000, processed 12072033 words, keeping 104265 word types\n",
      "2018-10-19 08:58:51,939 : INFO : PROGRESS: at sentence #550000, processed 12297571 words, keeping 105133 word types\n",
      "2018-10-19 08:58:51,982 : INFO : PROGRESS: at sentence #560000, processed 12518861 words, keeping 105997 word types\n",
      "2018-10-19 08:58:52,025 : INFO : PROGRESS: at sentence #570000, processed 12747916 words, keeping 106787 word types\n",
      "2018-10-19 08:58:52,067 : INFO : PROGRESS: at sentence #580000, processed 12969412 words, keeping 107665 word types\n",
      "2018-10-19 08:58:52,109 : INFO : PROGRESS: at sentence #590000, processed 13194937 words, keeping 108501 word types\n",
      "2018-10-19 08:58:52,151 : INFO : PROGRESS: at sentence #600000, processed 13417135 words, keeping 109218 word types\n",
      "2018-10-19 08:58:52,192 : INFO : PROGRESS: at sentence #610000, processed 13638158 words, keeping 110092 word types\n",
      "2018-10-19 08:58:52,234 : INFO : PROGRESS: at sentence #620000, processed 13864483 words, keeping 110837 word types\n",
      "2018-10-19 08:58:52,276 : INFO : PROGRESS: at sentence #630000, processed 14088769 words, keeping 111610 word types\n",
      "2018-10-19 08:58:52,316 : INFO : PROGRESS: at sentence #640000, processed 14309552 words, keeping 112416 word types\n",
      "2018-10-19 08:58:52,359 : INFO : PROGRESS: at sentence #650000, processed 14535308 words, keeping 113196 word types\n",
      "2018-10-19 08:58:52,400 : INFO : PROGRESS: at sentence #660000, processed 14758098 words, keeping 113945 word types\n",
      "2018-10-19 08:58:52,440 : INFO : PROGRESS: at sentence #670000, processed 14981482 words, keeping 114643 word types\n",
      "2018-10-19 08:58:52,482 : INFO : PROGRESS: at sentence #680000, processed 15206314 words, keeping 115354 word types\n",
      "2018-10-19 08:58:52,525 : INFO : PROGRESS: at sentence #690000, processed 15428507 words, keeping 116131 word types\n",
      "2018-10-19 08:58:52,568 : INFO : PROGRESS: at sentence #700000, processed 15657213 words, keeping 116943 word types\n",
      "2018-10-19 08:58:52,608 : INFO : PROGRESS: at sentence #710000, processed 15880202 words, keeping 117596 word types\n"
     ]
    },
    {
     "name": "stderr",
     "output_type": "stream",
     "text": [
      "2018-10-19 08:58:52,652 : INFO : PROGRESS: at sentence #720000, processed 16105489 words, keeping 118221 word types\n",
      "2018-10-19 08:58:52,695 : INFO : PROGRESS: at sentence #730000, processed 16331870 words, keeping 118954 word types\n",
      "2018-10-19 08:58:52,739 : INFO : PROGRESS: at sentence #740000, processed 16552903 words, keeping 119668 word types\n",
      "2018-10-19 08:58:52,783 : INFO : PROGRESS: at sentence #750000, processed 16771230 words, keeping 120295 word types\n",
      "2018-10-19 08:58:52,824 : INFO : PROGRESS: at sentence #760000, processed 16990622 words, keeping 120930 word types\n",
      "2018-10-19 08:58:52,866 : INFO : PROGRESS: at sentence #770000, processed 17217759 words, keeping 121703 word types\n",
      "2018-10-19 08:58:52,910 : INFO : PROGRESS: at sentence #780000, processed 17447905 words, keeping 122402 word types\n",
      "2018-10-19 08:58:52,951 : INFO : PROGRESS: at sentence #790000, processed 17674981 words, keeping 123066 word types\n",
      "2018-10-19 08:58:52,974 : INFO : collected 123504 word types from a corpus of 17798082 raw words and 795538 sentences\n",
      "2018-10-19 08:58:52,975 : INFO : Loading a fresh vocabulary\n",
      "2018-10-19 08:58:53,040 : INFO : effective_min_count=40 retains 16490 unique words (13% of original 123504, drops 107014)\n",
      "2018-10-19 08:58:53,041 : INFO : effective_min_count=40 leaves 17238940 word corpus (96% of original 17798082, drops 559142)\n",
      "2018-10-19 08:58:53,083 : INFO : deleting the raw counts dictionary of 123504 items\n",
      "2018-10-19 08:58:53,087 : INFO : sample=0.001 downsamples 48 most-common words\n",
      "2018-10-19 08:58:53,088 : INFO : downsampling leaves estimated 12749658 word corpus (74.0% of prior 17238940)\n",
      "2018-10-19 08:58:53,132 : INFO : estimated required memory for 16490 words and 300 dimensions: 47821000 bytes\n",
      "2018-10-19 08:58:53,133 : INFO : resetting layer weights\n",
      "2018-10-19 08:58:53,354 : INFO : training model with 4 workers on 16490 vocabulary and 300 features, using sg=0 hs=0 sample=0.001 negative=5 window=10\n",
      "2018-10-19 08:58:54,366 : INFO : EPOCH 1 - PROGRESS: at 9.06% examples, 1146578 words/s, in_qsize 8, out_qsize 0\n",
      "2018-10-19 08:58:55,383 : INFO : EPOCH 1 - PROGRESS: at 18.25% examples, 1143613 words/s, in_qsize 7, out_qsize 2\n",
      "2018-10-19 08:58:56,386 : INFO : EPOCH 1 - PROGRESS: at 27.52% examples, 1154541 words/s, in_qsize 7, out_qsize 0\n",
      "2018-10-19 08:58:57,386 : INFO : EPOCH 1 - PROGRESS: at 36.62% examples, 1153291 words/s, in_qsize 6, out_qsize 1\n",
      "2018-10-19 08:58:58,390 : INFO : EPOCH 1 - PROGRESS: at 45.71% examples, 1154721 words/s, in_qsize 5, out_qsize 0\n",
      "2018-10-19 08:58:59,394 : INFO : EPOCH 1 - PROGRESS: at 54.87% examples, 1157144 words/s, in_qsize 6, out_qsize 0\n",
      "2018-10-19 08:59:00,395 : INFO : EPOCH 1 - PROGRESS: at 64.05% examples, 1160290 words/s, in_qsize 7, out_qsize 0\n",
      "2018-10-19 08:59:01,414 : INFO : EPOCH 1 - PROGRESS: at 73.06% examples, 1156603 words/s, in_qsize 7, out_qsize 3\n",
      "2018-10-19 08:59:02,416 : INFO : EPOCH 1 - PROGRESS: at 82.38% examples, 1159520 words/s, in_qsize 7, out_qsize 0\n",
      "2018-10-19 08:59:03,432 : INFO : EPOCH 1 - PROGRESS: at 91.37% examples, 1156976 words/s, in_qsize 4, out_qsize 4\n",
      "2018-10-19 08:59:04,331 : INFO : worker thread finished; awaiting finish of 3 more threads\n",
      "2018-10-19 08:59:04,333 : INFO : worker thread finished; awaiting finish of 2 more threads\n",
      "2018-10-19 08:59:04,345 : INFO : worker thread finished; awaiting finish of 1 more threads\n",
      "2018-10-19 08:59:04,350 : INFO : worker thread finished; awaiting finish of 0 more threads\n",
      "2018-10-19 08:59:04,351 : INFO : EPOCH - 1 : training on 17798082 raw words (12748719 effective words) took 11.0s, 1160303 effective words/s\n",
      "2018-10-19 08:59:05,367 : INFO : EPOCH 2 - PROGRESS: at 8.88% examples, 1120097 words/s, in_qsize 7, out_qsize 0\n",
      "2018-10-19 08:59:06,374 : INFO : EPOCH 2 - PROGRESS: at 17.47% examples, 1096557 words/s, in_qsize 7, out_qsize 0\n",
      "2018-10-19 08:59:07,384 : INFO : EPOCH 2 - PROGRESS: at 26.18% examples, 1096898 words/s, in_qsize 6, out_qsize 1\n",
      "2018-10-19 08:59:08,388 : INFO : EPOCH 2 - PROGRESS: at 35.33% examples, 1110605 words/s, in_qsize 7, out_qsize 0\n",
      "2018-10-19 08:59:09,389 : INFO : EPOCH 2 - PROGRESS: at 44.20% examples, 1115899 words/s, in_qsize 7, out_qsize 0\n",
      "2018-10-19 08:59:10,391 : INFO : EPOCH 2 - PROGRESS: at 53.22% examples, 1121595 words/s, in_qsize 5, out_qsize 0\n",
      "2018-10-19 08:59:11,395 : INFO : EPOCH 2 - PROGRESS: at 62.08% examples, 1123974 words/s, in_qsize 7, out_qsize 0\n",
      "2018-10-19 08:59:12,399 : INFO : EPOCH 2 - PROGRESS: at 71.22% examples, 1128734 words/s, in_qsize 7, out_qsize 0\n",
      "2018-10-19 08:59:13,400 : INFO : EPOCH 2 - PROGRESS: at 80.02% examples, 1127930 words/s, in_qsize 8, out_qsize 4\n",
      "2018-10-19 08:59:14,420 : INFO : EPOCH 2 - PROGRESS: at 89.37% examples, 1132326 words/s, in_qsize 8, out_qsize 2\n",
      "2018-10-19 08:59:15,430 : INFO : EPOCH 2 - PROGRESS: at 98.56% examples, 1135069 words/s, in_qsize 7, out_qsize 1\n",
      "2018-10-19 08:59:15,565 : INFO : worker thread finished; awaiting finish of 3 more threads\n",
      "2018-10-19 08:59:15,578 : INFO : worker thread finished; awaiting finish of 2 more threads\n",
      "2018-10-19 08:59:15,580 : INFO : worker thread finished; awaiting finish of 1 more threads\n",
      "2018-10-19 08:59:15,584 : INFO : worker thread finished; awaiting finish of 0 more threads\n",
      "2018-10-19 08:59:15,585 : INFO : EPOCH - 2 : training on 17798082 raw words (12748974 effective words) took 11.2s, 1135968 effective words/s\n",
      "2018-10-19 08:59:16,613 : INFO : EPOCH 3 - PROGRESS: at 8.88% examples, 1106165 words/s, in_qsize 4, out_qsize 3\n",
      "2018-10-19 08:59:17,622 : INFO : EPOCH 3 - PROGRESS: at 18.19% examples, 1134464 words/s, in_qsize 7, out_qsize 0\n",
      "2018-10-19 08:59:18,623 : INFO : EPOCH 3 - PROGRESS: at 27.25% examples, 1139296 words/s, in_qsize 7, out_qsize 0\n",
      "2018-10-19 08:59:19,625 : INFO : EPOCH 3 - PROGRESS: at 36.45% examples, 1145349 words/s, in_qsize 7, out_qsize 0\n",
      "2018-10-19 08:59:20,630 : INFO : EPOCH 3 - PROGRESS: at 45.46% examples, 1145407 words/s, in_qsize 7, out_qsize 0\n",
      "2018-10-19 08:59:21,630 : INFO : EPOCH 3 - PROGRESS: at 54.37% examples, 1145257 words/s, in_qsize 6, out_qsize 1\n",
      "2018-10-19 08:59:22,640 : INFO : EPOCH 3 - PROGRESS: at 63.27% examples, 1143355 words/s, in_qsize 4, out_qsize 3\n",
      "2018-10-19 08:59:23,644 : INFO : EPOCH 3 - PROGRESS: at 72.26% examples, 1143980 words/s, in_qsize 6, out_qsize 1\n",
      "2018-10-19 08:59:24,650 : INFO : EPOCH 3 - PROGRESS: at 81.48% examples, 1146447 words/s, in_qsize 7, out_qsize 0\n",
      "2018-10-19 08:59:25,650 : INFO : EPOCH 3 - PROGRESS: at 90.12% examples, 1142691 words/s, in_qsize 7, out_qsize 0\n",
      "2018-10-19 08:59:26,665 : INFO : EPOCH 3 - PROGRESS: at 97.67% examples, 1124515 words/s, in_qsize 5, out_qsize 2\n",
      "2018-10-19 08:59:26,942 : INFO : worker thread finished; awaiting finish of 3 more threads\n",
      "2018-10-19 08:59:26,947 : INFO : worker thread finished; awaiting finish of 2 more threads\n",
      "2018-10-19 08:59:26,953 : INFO : worker thread finished; awaiting finish of 1 more threads\n",
      "2018-10-19 08:59:26,956 : INFO : worker thread finished; awaiting finish of 0 more threads\n",
      "2018-10-19 08:59:26,956 : INFO : EPOCH - 3 : training on 17798082 raw words (12749739 effective words) took 11.4s, 1122078 effective words/s\n",
      "2018-10-19 08:59:27,968 : INFO : EPOCH 4 - PROGRESS: at 7.83% examples, 989224 words/s, in_qsize 7, out_qsize 0\n",
      "2018-10-19 08:59:28,988 : INFO : EPOCH 4 - PROGRESS: at 15.84% examples, 992996 words/s, in_qsize 7, out_qsize 4\n",
      "2018-10-19 08:59:30,002 : INFO : EPOCH 4 - PROGRESS: at 23.93% examples, 998620 words/s, in_qsize 5, out_qsize 0\n",
      "2018-10-19 08:59:31,011 : INFO : EPOCH 4 - PROGRESS: at 32.29% examples, 1010826 words/s, in_qsize 7, out_qsize 0\n",
      "2018-10-19 08:59:32,012 : INFO : EPOCH 4 - PROGRESS: at 40.46% examples, 1017250 words/s, in_qsize 7, out_qsize 0\n",
      "2018-10-19 08:59:33,015 : INFO : EPOCH 4 - PROGRESS: at 48.77% examples, 1024773 words/s, in_qsize 7, out_qsize 0\n",
      "2018-10-19 08:59:34,017 : INFO : EPOCH 4 - PROGRESS: at 57.84% examples, 1044256 words/s, in_qsize 7, out_qsize 0\n",
      "2018-10-19 08:59:35,026 : INFO : EPOCH 4 - PROGRESS: at 66.80% examples, 1055670 words/s, in_qsize 7, out_qsize 0\n",
      "2018-10-19 08:59:36,028 : INFO : EPOCH 4 - PROGRESS: at 75.82% examples, 1065951 words/s, in_qsize 5, out_qsize 0\n",
      "2018-10-19 08:59:37,028 : INFO : EPOCH 4 - PROGRESS: at 84.17% examples, 1065856 words/s, in_qsize 6, out_qsize 0\n"
     ]
    },
    {
     "name": "stderr",
     "output_type": "stream",
     "text": [
      "2018-10-19 08:59:38,042 : INFO : EPOCH 4 - PROGRESS: at 93.01% examples, 1070262 words/s, in_qsize 7, out_qsize 0\n",
      "2018-10-19 08:59:38,794 : INFO : worker thread finished; awaiting finish of 3 more threads\n",
      "2018-10-19 08:59:38,800 : INFO : worker thread finished; awaiting finish of 2 more threads\n",
      "2018-10-19 08:59:38,805 : INFO : worker thread finished; awaiting finish of 1 more threads\n",
      "2018-10-19 08:59:38,812 : INFO : worker thread finished; awaiting finish of 0 more threads\n",
      "2018-10-19 08:59:38,813 : INFO : EPOCH - 4 : training on 17798082 raw words (12748587 effective words) took 11.8s, 1076128 effective words/s\n",
      "2018-10-19 08:59:39,823 : INFO : EPOCH 5 - PROGRESS: at 8.88% examples, 1126747 words/s, in_qsize 7, out_qsize 1\n",
      "2018-10-19 08:59:40,828 : INFO : EPOCH 5 - PROGRESS: at 18.25% examples, 1150927 words/s, in_qsize 5, out_qsize 0\n",
      "2018-10-19 08:59:41,829 : INFO : EPOCH 5 - PROGRESS: at 27.36% examples, 1152695 words/s, in_qsize 7, out_qsize 0\n",
      "2018-10-19 08:59:42,830 : INFO : EPOCH 5 - PROGRESS: at 36.40% examples, 1150169 words/s, in_qsize 8, out_qsize 0\n",
      "2018-10-19 08:59:43,836 : INFO : EPOCH 5 - PROGRESS: at 45.40% examples, 1149154 words/s, in_qsize 7, out_qsize 0\n",
      "2018-10-19 08:59:44,845 : INFO : EPOCH 5 - PROGRESS: at 54.49% examples, 1150378 words/s, in_qsize 7, out_qsize 0\n",
      "2018-10-19 08:59:45,847 : INFO : EPOCH 5 - PROGRESS: at 63.55% examples, 1151981 words/s, in_qsize 7, out_qsize 0\n",
      "2018-10-19 08:59:46,853 : INFO : EPOCH 5 - PROGRESS: at 72.61% examples, 1152029 words/s, in_qsize 7, out_qsize 0\n",
      "2018-10-19 08:59:47,867 : INFO : EPOCH 5 - PROGRESS: at 81.81% examples, 1152615 words/s, in_qsize 7, out_qsize 1\n",
      "2018-10-19 08:59:48,875 : INFO : EPOCH 5 - PROGRESS: at 90.93% examples, 1153011 words/s, in_qsize 7, out_qsize 0\n",
      "2018-10-19 08:59:49,853 : INFO : worker thread finished; awaiting finish of 3 more threads\n",
      "2018-10-19 08:59:49,862 : INFO : worker thread finished; awaiting finish of 2 more threads\n",
      "2018-10-19 08:59:49,867 : INFO : worker thread finished; awaiting finish of 1 more threads\n",
      "2018-10-19 08:59:49,873 : INFO : worker thread finished; awaiting finish of 0 more threads\n",
      "2018-10-19 08:59:49,874 : INFO : EPOCH - 5 : training on 17798082 raw words (12749982 effective words) took 11.1s, 1153763 effective words/s\n",
      "2018-10-19 08:59:49,874 : INFO : training on a 88990410 raw words (63746001 effective words) took 56.5s, 1128121 effective words/s\n",
      "2018-10-19 08:59:49,875 : INFO : precomputing L2-norms of word weight vectors\n",
      "2018-10-19 08:59:49,986 : INFO : saving Word2Vec object under 300features_40minwords_10context, separately None\n",
      "2018-10-19 08:59:49,987 : INFO : not storing attribute vectors_norm\n",
      "2018-10-19 08:59:49,988 : INFO : not storing attribute cum_table\n",
      "2018-10-19 08:59:50,584 : INFO : saved 300features_40minwords_10context\n"
     ]
    }
   ],
   "source": [
    "# Set Word2Vec params\n",
    "features = 300       # Word vector dimensionality                      \n",
    "minWordCount = 40    # Minimum word count                        \n",
    "workers = 4          # Number of threads to run in parallel\n",
    "context = 10         # Context window size                                                                                    \n",
    "downSampling = 1e-3  # Downsample setting for frequent words\n",
    "\n",
    "model = word2vec.Word2Vec(combined, \n",
    "                          workers=workers,\n",
    "                          size=features, \n",
    "                          min_count = minWordCount,\n",
    "                          window = context, \n",
    "                          sample = downSampling)\n",
    "\n",
    "# https://tedboy.github.io/nlps/generated/generated/gensim.models.Word2Vec.init_sims.html\n",
    "# If replace is set, forget the original vectors and only keep the normalized ones = saves lots of memory!\n",
    "# Note that you cannot continue training after doing a replace. \n",
    "# The model becomes effectively read-only = you can call most_similar, similarity etc., but not train.\n",
    "model.init_sims(replace = True)\n",
    "\n",
    "# Save model to disk\n",
    "model.save(\"300features_40minwords_10context\")"
   ]
  },
  {
   "cell_type": "markdown",
   "metadata": {},
   "source": [
    "Explore the results:"
   ]
  },
  {
   "cell_type": "code",
   "execution_count": 30,
   "metadata": {
    "ExecuteTime": {
     "end_time": "2018-10-19T14:59:51.028296Z",
     "start_time": "2018-10-19T14:59:50.591209Z"
    }
   },
   "outputs": [
    {
     "data": {
      "text/plain": [
       "[('fantastic', 0.7339777946472168),\n",
       " ('terrific', 0.7324297428131104),\n",
       " ('wonderful', 0.7300347685813904),\n",
       " ('superb', 0.634523868560791),\n",
       " ('fine', 0.6318458318710327),\n",
       " ('good', 0.6126289367675781),\n",
       " ('marvelous', 0.6096097826957703),\n",
       " ('excellent', 0.6084640026092529),\n",
       " ('brilliant', 0.6066595315933228),\n",
       " ('fabulous', 0.6053268909454346)]"
      ]
     },
     "execution_count": 30,
     "metadata": {},
     "output_type": "execute_result"
    }
   ],
   "source": [
    "model.most_similar(\"great\")"
   ]
  },
  {
   "cell_type": "code",
   "execution_count": 31,
   "metadata": {
    "ExecuteTime": {
     "end_time": "2018-10-19T14:59:51.444379Z",
     "start_time": "2018-10-19T14:59:51.030296Z"
    }
   },
   "outputs": [
    {
     "data": {
      "text/plain": [
       "[('terrible', 0.7501150965690613),\n",
       " ('atrocious', 0.7334952354431152),\n",
       " ('dreadful', 0.723301351070404),\n",
       " ('horrible', 0.7197309136390686),\n",
       " ('abysmal', 0.709122896194458),\n",
       " ('horrendous', 0.6842007040977478),\n",
       " ('horrid', 0.6649243831634521),\n",
       " ('appalling', 0.6638507843017578),\n",
       " ('amateurish', 0.6086978912353516),\n",
       " ('lousy', 0.6026760339736938)]"
      ]
     },
     "execution_count": 31,
     "metadata": {},
     "output_type": "execute_result"
    }
   ],
   "source": [
    "model.most_similar(\"awful\")"
   ]
  },
  {
   "cell_type": "code",
   "execution_count": 32,
   "metadata": {
    "ExecuteTime": {
     "end_time": "2018-10-19T14:59:51.861463Z",
     "start_time": "2018-10-19T14:59:51.446380Z"
    }
   },
   "outputs": [
    {
     "data": {
      "text/plain": [
       "[('cannibal', 0.674963116645813),\n",
       " ('horror', 0.6222474575042725),\n",
       " ('slasher', 0.6154731512069702),\n",
       " ('zombies', 0.6051949858665466),\n",
       " ('werewolf', 0.5976965427398682),\n",
       " ('vampire', 0.5963820219039917),\n",
       " ('fulci', 0.5891251564025879),\n",
       " ('splatter', 0.5795792937278748),\n",
       " ('monster', 0.5760996341705322),\n",
       " ('mummy', 0.5549553632736206)]"
      ]
     },
     "execution_count": 32,
     "metadata": {},
     "output_type": "execute_result"
    }
   ],
   "source": [
    "# One of the reviews we referred to often in previous write-ups was of a zombie movie,\n",
    "# so let's see what words are similar/associated with the word 'zombie'\n",
    "model.most_similar(\"zombie\")"
   ]
  },
  {
   "cell_type": "code",
   "execution_count": null,
   "metadata": {},
   "outputs": [],
   "source": []
  },
  {
   "cell_type": "code",
   "execution_count": null,
   "metadata": {},
   "outputs": [],
   "source": []
  },
  {
   "cell_type": "code",
   "execution_count": 33,
   "metadata": {
    "ExecuteTime": {
     "end_time": "2018-10-19T14:59:52.273545Z",
     "start_time": "2018-10-19T14:59:51.863463Z"
    }
   },
   "outputs": [
    {
     "data": {
      "text/plain": [
       "16490"
      ]
     },
     "execution_count": 33,
     "metadata": {},
     "output_type": "execute_result"
    }
   ],
   "source": [
    "len(model.wv.index2word)"
   ]
  },
  {
   "cell_type": "code",
   "execution_count": null,
   "metadata": {},
   "outputs": [],
   "source": []
  },
  {
   "cell_type": "markdown",
   "metadata": {
    "ExecuteTime": {
     "end_time": "2018-10-18T16:57:41.655689Z",
     "start_time": "2018-10-18T16:57:41.138899Z"
    }
   },
   "source": [
    "Now that we have a trained model with some semantic understanding of words, how should we use it?\n",
    "\n",
    "We'll try clustering--even though according to Kaggle it doesn't offer an improvement--as a programming exercise before moving on to other methods.\n",
    "\n",
    "Note that the Word2Vec model we trained consists of a feature vector for each word in the vocabulary.  The feature vectors can be accessed via the \"syn0\" object property.\n"
   ]
  },
  {
   "cell_type": "code",
   "execution_count": 34,
   "metadata": {
    "ExecuteTime": {
     "end_time": "2018-10-19T15:09:21.900054Z",
     "start_time": "2018-10-19T14:59:52.275545Z"
    }
   },
   "outputs": [],
   "source": [
    "from sklearn.cluster import KMeans\n",
    "\n",
    "# Set \"k\" to be 1/5th of the vocabulary size, or an average of 5 words per cluster\n",
    "wordVecs = model.wv.syn0\n",
    "k = int(wordVecs.shape[0] / 5)\n",
    "\n",
    "# Initalize a k-means object and use it to extract centroids\n",
    "kMeans = KMeans( n_clusters = k )\n",
    "kModel = kMeans.fit_predict(wordVecs)"
   ]
  },
  {
   "cell_type": "markdown",
   "metadata": {},
   "source": [
    "So now we have K clusters, and each word in the Word2Vec vocabulary has been assigned to one of the clusters.  Next we want to combine the actual words with their cluster assignments.  We can pull the words themselves from the Word2Vec object with the following property:\n",
    "\n",
    "```python\n",
    "model.wv.index2word\n",
    "```\n",
    "\n",
    "Let's ensure the list lengths match and then combine the words and their assignments into a dictionary object:"
   ]
  },
  {
   "cell_type": "code",
   "execution_count": 52,
   "metadata": {
    "ExecuteTime": {
     "end_time": "2018-10-19T16:12:56.016453Z",
     "start_time": "2018-10-19T16:12:55.586453Z"
    }
   },
   "outputs": [
    {
     "name": "stdout",
     "output_type": "stream",
     "text": [
      "16490\n",
      "16490\n",
      "['the', 'and', 'a', 'of', 'to']\n",
      "[1962 1020 2828 2121 2846]\n"
     ]
    }
   ],
   "source": [
    "print(len(model.wv.index2word))\n",
    "print(len(kModel))\n",
    "\n",
    "print(model.wv.index2word[:5])\n",
    "print(kModel[:5])"
   ]
  },
  {
   "cell_type": "code",
   "execution_count": 55,
   "metadata": {
    "ExecuteTime": {
     "end_time": "2018-10-19T16:13:20.278453Z",
     "start_time": "2018-10-19T16:13:19.843453Z"
    }
   },
   "outputs": [],
   "source": [
    "clusterDict = dict(zip(model.wv.index2word, kModel))"
   ]
  },
  {
   "cell_type": "markdown",
   "metadata": {},
   "source": [
    "Quick visual inspection:"
   ]
  },
  {
   "cell_type": "code",
   "execution_count": 56,
   "metadata": {
    "ExecuteTime": {
     "end_time": "2018-10-19T16:13:35.562453Z",
     "start_time": "2018-10-19T16:13:35.125453Z"
    }
   },
   "outputs": [
    {
     "name": "stdout",
     "output_type": "stream",
     "text": [
      "the = 1962\n",
      "and = 1020\n",
      "a = 2828\n",
      "of = 2121\n",
      "to = 2846\n"
     ]
    }
   ],
   "source": [
    "for i, k in enumerate(clusterDict.keys()):\n",
    "    print(k, \"=\", clusterDict[k])\n",
    "    \n",
    "    if i > 3:\n",
    "        break"
   ]
  },
  {
   "cell_type": "code",
   "execution_count": 70,
   "metadata": {
    "ExecuteTime": {
     "end_time": "2018-10-19T16:58:42.230453Z",
     "start_time": "2018-10-19T16:58:24.277453Z"
    }
   },
   "outputs": [
    {
     "name": "stdout",
     "output_type": "stream",
     "text": [
      "\n",
      "Cluster 0\n",
      "['uninteresting', 'meaningless', 'incoherent', 'unoriginal', 'inane', 'senseless', 'illogical', 'derivative', 'nonsensical', 'incomprehensible', 'banal', 'messy', 'jumbled', 'aimless', 'untrue']\n",
      "\n",
      "Cluster 1\n",
      "['ariel', 'creasy', 'morgana']\n",
      "\n",
      "Cluster 2\n",
      "['myra', 'hoax', 'sic']\n",
      "\n",
      "Cluster 3\n",
      "['island', 'enterprise', 'expedition', 'alliance', 'intruder']\n",
      "\n",
      "Cluster 4\n",
      "['bam', 'cart']\n",
      "\n",
      "Cluster 5\n",
      "['preaching', 'civilized', 'divide', 'persecution', 'discrimination', 'fundamentalist', 'secular']\n",
      "\n",
      "Cluster 6\n",
      "['nature', 'dilemma', 'fundamental', 'implications', 'rooted', 'complexities', 'subtleties', 'contradictions', 'conflicting']\n",
      "\n",
      "Cluster 7\n",
      "['gregory']\n",
      "\n",
      "Cluster 8\n",
      "['passionate', 'sensual', 'seductive', 'strikingly', 'tasteful', 'sensuous', 'forceful']\n",
      "\n",
      "Cluster 9\n",
      "['widow', 'waitress', 'housewife', 'heiress', 'fated', 'socialite', 'suitor', 'spinster', 'counselor', 'penniless']\n"
     ]
    }
   ],
   "source": [
    "# Examine the first 10 clusters\n",
    "for cluster in range(0,10):\n",
    "    #\n",
    "    # Print the cluster number  \n",
    "    print(\"\\nCluster %d\" % cluster)\n",
    "    #\n",
    "    # Find all of the words for that cluster number, and print them out\n",
    "    words = []\n",
    "    for i in range(0,len(clusterDict.values())):\n",
    "        if( list(clusterDict.values())[i] == cluster ):\n",
    "            words.append(list(clusterDict.keys())[i])\n",
    "    print(words)"
   ]
  },
  {
   "cell_type": "code",
   "execution_count": 65,
   "metadata": {
    "ExecuteTime": {
     "end_time": "2018-10-19T16:56:27.070453Z",
     "start_time": "2018-10-19T16:56:26.636453Z"
    }
   },
   "outputs": [
    {
     "ename": "TypeError",
     "evalue": "'dict_values' object does not support indexing",
     "output_type": "error",
     "traceback": [
      "\u001b[1;31m---------------------------------------------------------------------------\u001b[0m",
      "\u001b[1;31mTypeError\u001b[0m                                 Traceback (most recent call last)",
      "\u001b[1;32m<ipython-input-65-72a59fa6f14c>\u001b[0m in \u001b[0;36m<module>\u001b[1;34m()\u001b[0m\n\u001b[1;32m----> 1\u001b[1;33m \u001b[0mprint\u001b[0m\u001b[1;33m(\u001b[0m\u001b[0m_vals\u001b[0m\u001b[1;33m[\u001b[0m\u001b[1;36m0\u001b[0m\u001b[1;33m]\u001b[0m\u001b[1;33m)\u001b[0m\u001b[1;33m\u001b[0m\u001b[0m\n\u001b[0m",
      "\u001b[1;31mTypeError\u001b[0m: 'dict_values' object does not support indexing"
     ]
    }
   ],
   "source": [
    "print(_vals)"
   ]
  },
  {
   "cell_type": "markdown",
   "metadata": {},
   "source": [
    "Previously when we implemented bag-of-words we counted up how many times a certain word appeared in each review.  We were hoping that word count patterns would emerge in similar reviews, and that would help us classify unseen reviews as good or bad by comparing their word count patterns.  \n",
    "\n",
    "In this instance we are doing the same thing, but instead of counting word occurrences we are counting how many times the cluster containing a given word appears in the review.  Again, we are hoping that cluster count patterns emerge that are similar between like reviews, and that we can use this to identify unseen reviews as good or bad.  We are switching from individual words to semantically related clusters comparisons.\n",
    "\n",
    "The first thing we need to do is write a function that returns a an array for a given review   Each entry in the array should correspond to a cluster in our set, and the values for the array entries will the number of times the cluster was found in the review text.\n",
    "\n",
    "Next we need to collect each of the feature arrays into a single object suitable for being passed to a machine learning algorithm for training."
   ]
  },
  {
   "cell_type": "markdown",
   "metadata": {},
   "source": [
    "##### Feature array creation"
   ]
  },
  {
   "cell_type": "code",
   "execution_count": 71,
   "metadata": {
    "ExecuteTime": {
     "end_time": "2018-10-19T17:28:51.287453Z",
     "start_time": "2018-10-19T17:28:50.844453Z"
    }
   },
   "outputs": [],
   "source": [
    "def createFeatureArray(wordlist, clusterDict):\n",
    "    #\n",
    "    # The number of clusters is equal to the highest cluster index\n",
    "    # in the word / centroid map\n",
    "    num_centroids = max( clusterDict.values() ) + 1\n",
    "    #\n",
    "    # Pre-allocate the bag of centroids vector (for speed)\n",
    "    bag_of_centroids = np.zeros( num_centroids, dtype=\"float32\" )\n",
    "    #\n",
    "    # Loop over the words in the review. If the word is in the vocabulary,\n",
    "    # find which cluster it belongs to, and increment that cluster count \n",
    "    # by one\n",
    "    for word in wordlist:\n",
    "        if word in clusterDict:\n",
    "            index = clusterDict[word]\n",
    "            bag_of_centroids[index] += 1\n",
    "    #\n",
    "    # Return the \"bag of centroids\"\n",
    "    return bag_of_centroids"
   ]
  },
  {
   "cell_type": "code",
   "execution_count": 92,
   "metadata": {
    "ExecuteTime": {
     "end_time": "2018-10-19T19:55:19.594453Z",
     "start_time": "2018-10-19T19:48:36.753453Z"
    }
   },
   "outputs": [],
   "source": [
    "trainSentences = []\n",
    "\n",
    "for s in df.iloc[:,2]:\n",
    "    trainSentences.append(createSentences(s, tokenizer, remove_stopwords = True))\n",
    "    \n"
   ]
  },
  {
   "cell_type": "code",
   "execution_count": 93,
   "metadata": {
    "ExecuteTime": {
     "end_time": "2018-10-19T19:55:20.050453Z",
     "start_time": "2018-10-19T19:55:19.595453Z"
    }
   },
   "outputs": [],
   "source": [
    "k = int(wordVecs.shape[0] / 5)\n",
    "\n",
    "# Pre-allocate an array for the training set bags of centroids (for speed)\n",
    "train_centroids = np.zeros( (df.iloc[:,2].size, k), dtype=\"float32\" )\n",
    "\n",
    "# Transform the training set reviews into bags of centroids\n",
    "counter = 0\n",
    "for review in trainSentences:\n",
    "    #train_centroids[counter,:] = createFeatureArray(review, clusterDict)\n",
    "    counter += 1"
   ]
  },
  {
   "cell_type": "code",
   "execution_count": 97,
   "metadata": {
    "ExecuteTime": {
     "end_time": "2018-10-19T20:26:30.327432Z",
     "start_time": "2018-10-19T20:17:33.124436Z"
    }
   },
   "outputs": [
    {
     "data": {
      "text/html": [
       "<div>\n",
       "<style scoped>\n",
       "    .dataframe tbody tr th:only-of-type {\n",
       "        vertical-align: middle;\n",
       "    }\n",
       "\n",
       "    .dataframe tbody tr th {\n",
       "        vertical-align: top;\n",
       "    }\n",
       "\n",
       "    .dataframe thead th {\n",
       "        text-align: right;\n",
       "    }\n",
       "</style>\n",
       "<table border=\"1\" class=\"dataframe\">\n",
       "  <thead>\n",
       "    <tr style=\"text-align: right;\">\n",
       "      <th></th>\n",
       "      <th>Model</th>\n",
       "      <th>Accuracy</th>\n",
       "      <th>StdDev</th>\n",
       "    </tr>\n",
       "  </thead>\n",
       "  <tbody>\n",
       "    <tr>\n",
       "      <th>0</th>\n",
       "      <td>RandomForestClassifier</td>\n",
       "      <td>0.49264</td>\n",
       "      <td>0.008644</td>\n",
       "    </tr>\n",
       "  </tbody>\n",
       "</table>\n",
       "</div>"
      ],
      "text/plain": [
       "                    Model  Accuracy    StdDev\n",
       "0  RandomForestClassifier   0.49264  0.008644"
      ]
     },
     "metadata": {},
     "output_type": "display_data"
    }
   ],
   "source": [
    "# Init vars and params\n",
    "eFolds = 10\n",
    "eSeed = 10\n",
    "\n",
    "# Use accuracy since this is a classification problem\n",
    "eScore = 'accuracy'\n",
    "\n",
    "modelName = 'RandomForestClassifier'\n",
    "\n",
    "xTrain = train_centroids\n",
    "yTrain = df.iloc[:, 1]\n",
    "\n",
    "_DF = pd.DataFrame(columns = ['Model', 'Accuracy', 'StdDev'])\n",
    "_Results = {}\n",
    "_model = RandomForestClassifier(n_estimators = 100)\n",
    "\n",
    "kFold = KFold(n_splits = eFolds, random_state = eSeed)\n",
    "_Results[modelName] = cross_val_score(_model, xTrain, yTrain, cv = kFold, scoring = eScore)\n",
    "\n",
    "_DF.loc[len(_DF)] = list(['RandomForestClassifier', _Results[modelName].mean(), _Results[modelName].std()])\n",
    "display(_DF.sort_values(by = ['Accuracy', 'StdDev', 'Model'], ascending = [False, True, True]))"
   ]
  },
  {
   "cell_type": "code",
   "execution_count": null,
   "metadata": {},
   "outputs": [],
   "source": []
  },
  {
   "cell_type": "code",
   "execution_count": null,
   "metadata": {},
   "outputs": [],
   "source": []
  },
  {
   "cell_type": "code",
   "execution_count": 81,
   "metadata": {
    "ExecuteTime": {
     "end_time": "2018-10-19T17:49:49.680453Z",
     "start_time": "2018-10-19T17:49:49.229453Z"
    }
   },
   "outputs": [
    {
     "data": {
      "text/plain": [
       "3298"
      ]
     },
     "execution_count": 81,
     "metadata": {},
     "output_type": "execute_result"
    }
   ],
   "source": [
    "k"
   ]
  },
  {
   "cell_type": "code",
   "execution_count": 79,
   "metadata": {
    "ExecuteTime": {
     "end_time": "2018-10-19T17:48:58.340453Z",
     "start_time": "2018-10-19T17:48:57.884453Z"
    }
   },
   "outputs": [
    {
     "data": {
      "text/plain": [
       "25000"
      ]
     },
     "execution_count": 79,
     "metadata": {},
     "output_type": "execute_result"
    }
   ],
   "source": [
    "df.iloc[:,2].size"
   ]
  },
  {
   "cell_type": "code",
   "execution_count": 80,
   "metadata": {
    "ExecuteTime": {
     "end_time": "2018-10-19T17:49:40.688453Z",
     "start_time": "2018-10-19T17:49:40.227453Z"
    }
   },
   "outputs": [
    {
     "data": {
      "text/plain": [
       "(25001, 3298)"
      ]
     },
     "execution_count": 80,
     "metadata": {},
     "output_type": "execute_result"
    }
   ],
   "source": [
    "train_centroids.shape"
   ]
  },
  {
   "cell_type": "code",
   "execution_count": 82,
   "metadata": {
    "ExecuteTime": {
     "end_time": "2018-10-19T17:50:09.733453Z",
     "start_time": "2018-10-19T17:50:09.277453Z"
    }
   },
   "outputs": [
    {
     "data": {
      "text/plain": [
       "266551"
      ]
     },
     "execution_count": 82,
     "metadata": {},
     "output_type": "execute_result"
    }
   ],
   "source": [
    "len(trainSentences)"
   ]
  },
  {
   "cell_type": "code",
   "execution_count": 83,
   "metadata": {
    "ExecuteTime": {
     "end_time": "2018-10-19T19:40:08.372453Z",
     "start_time": "2018-10-19T19:40:07.923453Z"
    }
   },
   "outputs": [
    {
     "data": {
      "text/plain": [
       "3298"
      ]
     },
     "execution_count": 83,
     "metadata": {},
     "output_type": "execute_result"
    }
   ],
   "source": [
    "max( clusterDict.values() ) + 1"
   ]
  },
  {
   "cell_type": "code",
   "execution_count": 86,
   "metadata": {
    "ExecuteTime": {
     "end_time": "2018-10-19T19:44:49.202453Z",
     "start_time": "2018-10-19T19:44:48.729453Z"
    }
   },
   "outputs": [
    {
     "data": {
      "text/plain": [
       "25000"
      ]
     },
     "execution_count": 86,
     "metadata": {},
     "output_type": "execute_result"
    }
   ],
   "source": [
    "len(train_centroids)"
   ]
  },
  {
   "cell_type": "code",
   "execution_count": 89,
   "metadata": {
    "ExecuteTime": {
     "end_time": "2018-10-19T19:45:16.810453Z",
     "start_time": "2018-10-19T19:45:16.368453Z"
    }
   },
   "outputs": [
    {
     "data": {
      "text/plain": [
       "266551"
      ]
     },
     "execution_count": 89,
     "metadata": {},
     "output_type": "execute_result"
    }
   ],
   "source": [
    "counter"
   ]
  },
  {
   "cell_type": "code",
   "execution_count": 90,
   "metadata": {
    "ExecuteTime": {
     "end_time": "2018-10-19T19:46:30.726453Z",
     "start_time": "2018-10-19T19:46:30.280453Z"
    }
   },
   "outputs": [
    {
     "data": {
      "text/plain": [
       "266551"
      ]
     },
     "execution_count": 90,
     "metadata": {},
     "output_type": "execute_result"
    }
   ],
   "source": [
    "len(trainSentences)"
   ]
  },
  {
   "cell_type": "code",
   "execution_count": null,
   "metadata": {},
   "outputs": [],
   "source": []
  }
 ],
 "metadata": {
  "kernelspec": {
   "display_name": "Python 3",
   "language": "python",
   "name": "python3"
  },
  "language_info": {
   "codemirror_mode": {
    "name": "ipython",
    "version": 3
   },
   "file_extension": ".py",
   "mimetype": "text/x-python",
   "name": "python",
   "nbconvert_exporter": "python",
   "pygments_lexer": "ipython3",
   "version": "3.6.5"
  },
  "toc": {
   "base_numbering": 1,
   "nav_menu": {},
   "number_sections": true,
   "sideBar": true,
   "skip_h1_title": false,
   "title_cell": "Table of Contents",
   "title_sidebar": "Contents",
   "toc_cell": true,
   "toc_position": {},
   "toc_section_display": true,
   "toc_window_display": false
  }
 },
 "nbformat": 4,
 "nbformat_minor": 2
}
