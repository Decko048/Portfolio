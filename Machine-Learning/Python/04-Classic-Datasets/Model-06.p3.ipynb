{
 "cells": [
  {
   "cell_type": "markdown",
   "metadata": {
    "toc": true
   },
   "source": [
    "<h1>Table of Contents<span class=\"tocSkip\"></span></h1>\n",
    "<div class=\"toc\"><ul class=\"toc-item\"><li><span><a href=\"#IMDB-Movie-Review-Sentiment-Classification\" data-toc-modified-id=\"IMDB-Movie-Review-Sentiment-Classification-1\"><span class=\"toc-item-num\">1&nbsp;&nbsp;</span>IMDB Movie Review Sentiment Classification</a></span></li><li><span><a href=\"#Purpose\" data-toc-modified-id=\"Purpose-2\"><span class=\"toc-item-num\">2&nbsp;&nbsp;</span>Purpose</a></span></li><li><span><a href=\"#Process\" data-toc-modified-id=\"Process-3\"><span class=\"toc-item-num\">3&nbsp;&nbsp;</span>Process</a></span></li><li><span><a href=\"#Configure-notebook,-import-libraries,-and-import-dataset\" data-toc-modified-id=\"Configure-notebook,-import-libraries,-and-import-dataset-4\"><span class=\"toc-item-num\">4&nbsp;&nbsp;</span>Configure notebook, import libraries, and import dataset</a></span></li><li><span><a href=\"#Examine-the-data\" data-toc-modified-id=\"Examine-the-data-5\"><span class=\"toc-item-num\">5&nbsp;&nbsp;</span>Examine the data</a></span></li><li><span><a href=\"#Cleaning-and-preprocessing\" data-toc-modified-id=\"Cleaning-and-preprocessing-6\"><span class=\"toc-item-num\">6&nbsp;&nbsp;</span>Cleaning and preprocessing</a></span></li><li><span><a href=\"#Bag-of-words-feature-creation\" data-toc-modified-id=\"Bag-of-words-feature-creation-7\"><span class=\"toc-item-num\">7&nbsp;&nbsp;</span>Bag-of-words feature creation</a></span></li><li><span><a href=\"#Baseline-Model-development\" data-toc-modified-id=\"Baseline-Model-development-8\"><span class=\"toc-item-num\">8&nbsp;&nbsp;</span>Baseline Model development</a></span></li></ul></div>"
   ]
  },
  {
   "cell_type": "markdown",
   "metadata": {},
   "source": [
    "<h1>IMDB Movie Review Sentiment Classification</h1>"
   ]
  },
  {
   "cell_type": "markdown",
   "metadata": {},
   "source": [
    "<img style=\"float: left; margin-right: 15px; width: 30%; height: 30%;\" src=\"images/imdb.jpg\" />"
   ]
  },
  {
   "cell_type": "markdown",
   "metadata": {},
   "source": [
    "# Purpose\n",
    "\n",
    "The overall goal of this set of write-ups is to explore a number of machine learning algorithms utilizing natural language processing (NLP) to classify the sentiment in a set of IMDB movie reviews.\n",
    "\n",
    "The specific goals of this write-up include:\n",
    "1. Create a sparser feature set by removing words not directly related to sentiment\n",
    "2. Run the models from the [last write-up](./Model-06.ipynb) against the new feature set\n",
    "3. Determine if the new feature set improves our ability to correctly classify movie review sentiment\n",
    "\n",
    "This series of write-ups is inspired by the Kaggle [\n",
    "Bag of Words Meets Bags of Popcorn](https://www.kaggle.com/c/word2vec-nlp-tutorial) competition.    \n",
    "\n",
    "Dataset source:  [IMDB Movie Reviews](https://www.kaggle.com/c/word2vec-nlp-tutorial/data)"
   ]
  },
  {
   "cell_type": "markdown",
   "metadata": {},
   "source": [
    "# Process\n",
    "\n",
    "Previously covered [here](./Model-06.ipynb#Process)."
   ]
  },
  {
   "cell_type": "markdown",
   "metadata": {},
   "source": [
    "# Configure notebook, import libraries, and import dataset"
   ]
  },
  {
   "cell_type": "markdown",
   "metadata": {
    "ExecuteTime": {
     "end_time": "2018-10-16T15:16:22.416553Z",
     "start_time": "2018-10-16T15:16:22.413553Z"
    }
   },
   "source": [
    "##### Import libraries"
   ]
  },
  {
   "cell_type": "code",
   "execution_count": 105,
   "metadata": {
    "ExecuteTime": {
     "end_time": "2018-10-17T22:02:15.485808Z",
     "start_time": "2018-10-17T22:02:14.987808Z"
    }
   },
   "outputs": [
    {
     "name": "stdout",
     "output_type": "stream",
     "text": [
      "The autoreload extension is already loaded. To reload it, use:\n",
      "  %reload_ext autoreload\n"
     ]
    }
   ],
   "source": [
    "%matplotlib inline\n",
    "%load_ext autoreload\n",
    "%autoreload 2\n",
    "\n",
    "import warnings\n",
    "warnings.filterwarnings('ignore')\n",
    "\n",
    "import os\n",
    "import re\n",
    "import numpy as np\n",
    "import matplotlib.pyplot as plt\n",
    "import seaborn as sns\n",
    "\n",
    "import pandas as pd\n",
    "from pandas import set_option\n",
    "\n",
    "from sklearn.feature_extraction.text import CountVectorizer\n",
    "\n",
    "from sklearn.linear_model import LogisticRegression\n",
    "from sklearn.tree import DecisionTreeClassifier\n",
    "from sklearn.neighbors import KNeighborsClassifier\n",
    "from sklearn.discriminant_analysis import LinearDiscriminantAnalysis\n",
    "from sklearn.naive_bayes import GaussianNB\n",
    "from sklearn.svm import SVC\n",
    "\n",
    "from sklearn.feature_selection import SelectKBest\n",
    "from sklearn.feature_selection import f_regression\n",
    "\n",
    "from sklearn.pipeline import Pipeline\n",
    "from sklearn.pipeline import FeatureUnion\n",
    "\n",
    "from sklearn.ensemble import AdaBoostClassifier\n",
    "from sklearn.ensemble import GradientBoostingClassifier\n",
    "from sklearn.ensemble import RandomForestClassifier\n",
    "from sklearn.ensemble import ExtraTreesClassifier\n",
    "\n",
    "from sklearn.model_selection import train_test_split\n",
    "from sklearn.model_selection import KFold\n",
    "from sklearn.model_selection import cross_val_score\n",
    "from sklearn.model_selection import GridSearchCV\n",
    "\n",
    "from sklearn.preprocessing import StandardScaler\n",
    "\n",
    "from sklearn.metrics import classification_report\n",
    "from sklearn.metrics import confusion_matrix\n",
    "from sklearn.metrics import accuracy_score\n",
    "\n",
    "# http://www.nltk.org/index.html\n",
    "# pip install nltk\n",
    "import nltk\n",
    "from nltk.corpus import stopwords\n",
    "\n",
    "# https://www.crummy.com/software/BeautifulSoup/bs4/doc/\n",
    "# pip install BeautifulSoup4\n",
    "from bs4 import BeautifulSoup\n",
    "\n",
    "# https://pypi.org/project/gensim/\n",
    "# pip install gensim\n",
    "from gensim.models import word2vec\n",
    "\n",
    "import logging\n",
    "logging.basicConfig(format='%(asctime)s : %(levelname)s : %(message)s', level = logging.INFO)"
   ]
  },
  {
   "cell_type": "markdown",
   "metadata": {},
   "source": [
    "##### Define global variables"
   ]
  },
  {
   "cell_type": "code",
   "execution_count": 3,
   "metadata": {
    "ExecuteTime": {
     "end_time": "2018-10-17T17:23:15.594597Z",
     "start_time": "2018-10-17T17:23:15.217603Z"
    }
   },
   "outputs": [],
   "source": [
    "seed = 10\n",
    "np.random.seed(seed)\n",
    "\n",
    "# Opens a GUI that allows us to download the NLTK data\n",
    "# nltk.download()\n",
    "\n",
    "dataPath = os.path.join('.', 'datasets', 'imdb_movie_reviews')\n",
    "labeledTrainData = os.path.join(dataPath, 'labeledTrainData.tsv')"
   ]
  },
  {
   "cell_type": "markdown",
   "metadata": {},
   "source": [
    "##### Import dataset"
   ]
  },
  {
   "cell_type": "code",
   "execution_count": 4,
   "metadata": {
    "ExecuteTime": {
     "end_time": "2018-10-17T17:23:16.360585Z",
     "start_time": "2018-10-17T17:23:15.594597Z"
    }
   },
   "outputs": [],
   "source": [
    "df = pd.read_csv(labeledTrainData, sep = '\\t', header = 0, quoting = 3)"
   ]
  },
  {
   "cell_type": "markdown",
   "metadata": {},
   "source": [
    "# Examine the data\n",
    "\n",
    "Previously covered [here](./Model-06.ipynb#Examine-the-data)."
   ]
  },
  {
   "cell_type": "markdown",
   "metadata": {},
   "source": [
    "# Cleaning and preprocessing\n",
    "\n",
    "Process justification and methodology previously covered [here](./Model-06.ipynb#Cleaning-and-preprocessing).\n",
    "\n",
    "Define a 'cleaning' function, and clean the training set:"
   ]
  },
  {
   "cell_type": "code",
   "execution_count": 5,
   "metadata": {
    "ExecuteTime": {
     "end_time": "2018-10-17T17:23:16.807577Z",
     "start_time": "2018-10-17T17:23:16.360585Z"
    }
   },
   "outputs": [],
   "source": [
    "# Convert the stop words to a set\n",
    "stopWords = set(stopwords.words(\"english\"))\n",
    "\n",
    "# Clean IMDB review text\n",
    "def cleanReview(review, stopWords):\n",
    "    # Remove HTML\n",
    "    clean = BeautifulSoup(review)\n",
    "    \n",
    "    # Remove non-alpha chars\n",
    "    clean = re.sub(\"[^a-zA-Z]\", ' ', clean.get_text())\n",
    "    \n",
    "    # Convert to lower case and \"tokenize\"\n",
    "    clean = clean.lower().split()\n",
    "    \n",
    "    # Remove stop words\n",
    "    clean = [x for x in clean if not x in stopWords]\n",
    "\n",
    "    # Prepare final, cleaned review\n",
    "    clean = \" \".join(clean)\n",
    "    \n",
    "    # Return results\n",
    "    return clean\n",
    "    "
   ]
  },
  {
   "cell_type": "code",
   "execution_count": 6,
   "metadata": {
    "ExecuteTime": {
     "end_time": "2018-10-17T17:23:27.003417Z",
     "start_time": "2018-10-17T17:23:16.807577Z"
    }
   },
   "outputs": [],
   "source": [
    "cleanReviews = [cleanReview(x, stopWords) for x in df['review']]\n",
    "assert(len(df) == (len(cleanReviews)))"
   ]
  },
  {
   "cell_type": "markdown",
   "metadata": {},
   "source": [
    "# Bag-of-words feature creation\n",
    "\n",
    "Initial discussion of the `bag-of-words` algorithm was previously covered [here](./Model-06.ipynb#Bag-of-words-feature-creation)."
   ]
  },
  {
   "cell_type": "markdown",
   "metadata": {},
   "source": [
    "Next, in the [first write-up](http://localhost:8888/notebooks/Machine-Learning/Python/04-Classic-Datasets/Model-06.ipynb) of this series we examined a sample review--index 108--during the analysis, cleaning, and preprocessing.  We'll post it here again for reference:"
   ]
  },
  {
   "cell_type": "code",
   "execution_count": 7,
   "metadata": {
    "ExecuteTime": {
     "end_time": "2018-10-17T17:23:27.380415Z",
     "start_time": "2018-10-17T17:23:27.003417Z"
    }
   },
   "outputs": [
    {
     "data": {
      "text/plain": [
       "'question one sees movie bad necessarily movie bad get made even see awful first place learned experience learned rules horror movies catalogued satirized countless times last ten years mean someone go ahead make movie uses without shred humor irony movie described loosely based video game script problems black character may always die first asian character always know kung fu may proud figured matrix effect budget necessarily mean use ad nausea ron howard brother guarantee choice roles whenever scene edit together use footage video game one notice cousin rap metal band offers write movie theme free politely decline zombie movies people killing zombies zombies killing people preferably gruesome way possible makes scary white people pay get rave deserve die find old book tell everything need know anything else figure two lines someone asks bare breasts horror movie panacea helicopter boom shot licensing deal sega magically transforms movie student film major studio release try name drop three living dead movies make george romero even paul w anderson seen worse movies seen mortal kombat annihilation'"
      ]
     },
     "execution_count": 7,
     "metadata": {},
     "output_type": "execute_result"
    }
   ],
   "source": [
    "cleanReviews[108]"
   ]
  },
  {
   "cell_type": "markdown",
   "metadata": {},
   "source": [
    "Since the bag-of-words creation is doing a word count analysis I wanted to explore what would happen if we removed the 'noise' from the reviews.  (And by 'noise' I mean words that likely wouldn't help or hinder sentiment.)  From the review text above we have this string sample for instance:\n",
    "\n",
    "```\n",
    "whenever scene edit together use footage video game one notice cousin rap metal band offers\n",
    "```\n",
    "\n",
    "It is doubtful this series of words will give the model any 'insights' into if this is a positive or negative review.  However, this next string sample does seem like it would give an indication to review sentiment:\n",
    "\n",
    "```\n",
    "question one sees movie bad necessarily movie bad get made even see awful\n",
    "```\n",
    "\n",
    "In order to explore this idea let's load a sentiment lexicon into the notebook, and then remove any 'noise' words not found in the sentiment lexicon from the review texts.  We'll then run the 'de-noised' review texts through the same models as we did in the [previous write-up](./Model-06.ipynb), and see if we gain any improvements in speed and/or accuracy."
   ]
  },
  {
   "cell_type": "markdown",
   "metadata": {},
   "source": [
    "##### Download the sentiment lexicon\n",
    "\n",
    "The sentiment lexicon we'll utilize can be found here:  https://www.cs.uic.edu/~liub/FBS/sentiment-analysis.html#lexicon\n",
    "\n",
    "Using a few commands we can download and extract it:\n",
    "\n",
    "```\n",
    "wget https://www.cs.uic.edu/~liub/FBS/opinion-lexicon-English.rar\n",
    "unrar e opinion-lexicon-English.rar\n",
    "```"
   ]
  },
  {
   "cell_type": "markdown",
   "metadata": {},
   "source": [
    "##### Applying the sentiment lexicon  - Single observation\n",
    "\n",
    "Next we'll want to combine all the positive and negative sentiment words into a single list, and then remove any words from the reviews not found in the sentiment lexicon:"
   ]
  },
  {
   "cell_type": "code",
   "execution_count": 8,
   "metadata": {
    "ExecuteTime": {
     "end_time": "2018-10-17T17:23:27.807412Z",
     "start_time": "2018-10-17T17:23:27.382415Z"
    }
   },
   "outputs": [],
   "source": [
    "# Combine the positive and negative lists of sentiment lexicon words\n",
    "\n",
    "with open(os.path.join('.', 'datasets', 'positive-words.txt')) as f:\n",
    "    _positive = f.read().splitlines()\n",
    "    \n",
    "with open(os.path.join('.', 'datasets', 'negative-words.txt')) as f:\n",
    "    _negative = f.read().splitlines()\n",
    "    \n",
    "allWords = _positive[35:] + _negative[35:]\n",
    "\n",
    "assert( len(allWords) == (len(_positive[35:]) + len(_negative[35:])) )"
   ]
  },
  {
   "cell_type": "code",
   "execution_count": 9,
   "metadata": {
    "ExecuteTime": {
     "end_time": "2018-10-17T17:23:28.198411Z",
     "start_time": "2018-10-17T17:23:27.809412Z"
    }
   },
   "outputs": [
    {
     "data": {
      "text/plain": [
       "'question one sees movie bad necessarily movie bad get made even see awful first place learned experience learned rules horror movies catalogued satirized countless times last ten years mean someone go ahead make movie uses without shred humor irony movie described loosely based video game script problems black character may always die first asian character always know kung fu may proud figured matrix effect budget necessarily mean use ad nausea ron howard brother guarantee choice roles whenever scene edit together use footage video game one notice cousin rap metal band offers write movie theme free politely decline zombie movies people killing zombies zombies killing people preferably gruesome way possible makes scary white people pay get rave deserve die find old book tell everything need know anything else figure two lines someone asks bare breasts horror movie panacea helicopter boom shot licensing deal sega magically transforms movie student film major studio release try name drop three living dead movies make george romero even paul w anderson seen worse movies seen mortal kombat annihilation'"
      ]
     },
     "execution_count": 9,
     "metadata": {},
     "output_type": "execute_result"
    }
   ],
   "source": [
    "# Preview our sample review before sentiment lexicon parsing\n",
    "cleanReviews[108]"
   ]
  },
  {
   "cell_type": "code",
   "execution_count": 10,
   "metadata": {
    "ExecuteTime": {
     "end_time": "2018-10-17T17:23:28.629407Z",
     "start_time": "2018-10-17T17:23:28.202411Z"
    }
   },
   "outputs": [],
   "source": [
    "# Apply the sentiment lexicon parsing\n",
    "_tmp = [x for x in cleanReviews[108].split() if x in allWords]"
   ]
  },
  {
   "cell_type": "code",
   "execution_count": 11,
   "metadata": {
    "ExecuteTime": {
     "end_time": "2018-10-17T17:23:28.984401Z",
     "start_time": "2018-10-17T17:23:28.629407Z"
    }
   },
   "outputs": [
    {
     "data": {
      "text/plain": [
       "['bad',\n",
       " 'bad',\n",
       " 'awful',\n",
       " 'humor',\n",
       " 'irony',\n",
       " 'problems',\n",
       " 'die',\n",
       " 'proud',\n",
       " 'guarantee',\n",
       " 'free',\n",
       " 'decline',\n",
       " 'zombie',\n",
       " 'killing',\n",
       " 'killing',\n",
       " 'preferably',\n",
       " 'gruesome',\n",
       " 'scary',\n",
       " 'die',\n",
       " 'boom',\n",
       " 'dead',\n",
       " 'worse',\n",
       " 'annihilation']"
      ]
     },
     "execution_count": 11,
     "metadata": {},
     "output_type": "execute_result"
    }
   ],
   "source": [
    "# Example the 'de-noised' list of remaining words\n",
    "_tmp"
   ]
  },
  {
   "cell_type": "markdown",
   "metadata": {},
   "source": [
    "##### Applying the sentiment lexicon  - All observations\n",
    "\n",
    "Everything looks good so far, so let's 'de-noise' the entire dataset:"
   ]
  },
  {
   "cell_type": "code",
   "execution_count": 12,
   "metadata": {
    "ExecuteTime": {
     "end_time": "2018-10-17T17:26:47.717181Z",
     "start_time": "2018-10-17T17:23:28.986401Z"
    }
   },
   "outputs": [],
   "source": [
    "sparseCleanReviews = []\n",
    "\n",
    "for review in cleanReviews:\n",
    "    _tmp = [x for x in review.split() if x in allWords]\n",
    "    sparseCleanReviews.append(\" \".join(_tmp))"
   ]
  },
  {
   "cell_type": "code",
   "execution_count": 13,
   "metadata": {
    "ExecuteTime": {
     "end_time": "2018-10-17T17:26:48.110178Z",
     "start_time": "2018-10-17T17:26:47.717181Z"
    }
   },
   "outputs": [
    {
     "data": {
      "text/plain": [
       "'bad bad awful humor irony problems die proud guarantee free decline zombie killing killing preferably gruesome scary die boom dead worse annihilation'"
      ]
     },
     "execution_count": 13,
     "metadata": {},
     "output_type": "execute_result"
    }
   ],
   "source": [
    "# Sanity check examination\n",
    "\n",
    "sparseCleanReviews[108]"
   ]
  },
  {
   "cell_type": "markdown",
   "metadata": {},
   "source": [
    "##### CountVectorizer application\n",
    "\n",
    "We'll now simply repeat the CountVectorizer steps as we did in the [first write-up](./Model-06.ipynb) to create the 'bags-of-words' numeric representation of the 'de-noised' reviews suitable for the machine learning model."
   ]
  },
  {
   "cell_type": "code",
   "execution_count": 14,
   "metadata": {
    "ExecuteTime": {
     "end_time": "2018-10-17T17:26:49.075162Z",
     "start_time": "2018-10-17T17:26:48.110178Z"
    }
   },
   "outputs": [
    {
     "name": "stdout",
     "output_type": "stream",
     "text": [
      "Features shape:  (25000, 5000)\n"
     ]
    }
   ],
   "source": [
    "# Utilize the defaults for the object instantiation other than max_features\n",
    "vec = CountVectorizer(max_features = 5000)\n",
    "\n",
    "# Similar to how almost every other Scikit-Learn objects works we'll call the fit() and transform() methods\n",
    "features = vec.fit_transform(sparseCleanReviews)\n",
    "\n",
    "# And finally we'll convert to a np.array\n",
    "features = features.toarray()\n",
    "\n",
    "print(\"Features shape: \", features.shape)"
   ]
  },
  {
   "cell_type": "markdown",
   "metadata": {},
   "source": [
    "##### Examine vocabulary\n",
    "\n",
    "We'll examine what the 'de-noising' did to the top ten top and bottom vocabulary listings:"
   ]
  },
  {
   "cell_type": "code",
   "execution_count": 15,
   "metadata": {
    "ExecuteTime": {
     "end_time": "2018-10-17T17:26:49.424157Z",
     "start_time": "2018-10-17T17:26:49.075162Z"
    }
   },
   "outputs": [
    {
     "name": "stdout",
     "output_type": "stream",
     "text": [
      "['abnormal', 'abolish', 'abominable', 'abominably', 'abomination', 'abort', 'aborted', 'aborts', 'abound', 'abounds']\n"
     ]
    }
   ],
   "source": [
    "# Take a look at the first 10 words in the vocabulary\n",
    "vocab = vec.get_feature_names()\n",
    "print(vocab[:10])"
   ]
  },
  {
   "cell_type": "code",
   "execution_count": 16,
   "metadata": {
    "ExecuteTime": {
     "end_time": "2018-10-17T17:26:50.980134Z",
     "start_time": "2018-10-17T17:26:49.427157Z"
    }
   },
   "outputs": [],
   "source": [
    "_df = pd.DataFrame(data = features, columns = vocab).sum()\n",
    "_df.sort_values(ascending = False, inplace = True)"
   ]
  },
  {
   "cell_type": "code",
   "execution_count": 17,
   "metadata": {
    "ExecuteTime": {
     "end_time": "2018-10-17T17:26:51.376129Z",
     "start_time": "2018-10-17T17:26:50.983134Z"
    }
   },
   "outputs": [
    {
     "name": "stdout",
     "output_type": "stream",
     "text": [
      "Top 10:\n",
      "\n",
      "like      20274\n",
      "good      15140\n",
      "well      10662\n",
      "bad        9301\n",
      "great      9058\n",
      "plot       6585\n",
      "love       6454\n",
      "best       6416\n",
      "better     5737\n",
      "work       4372\n",
      "dtype: int64\n"
     ]
    }
   ],
   "source": [
    "print(\"Top 10:\\n\")\n",
    "print(_df.head(10))"
   ]
  },
  {
   "cell_type": "markdown",
   "metadata": {},
   "source": [
    "Original 'Top 10' before 'de-noising':\n",
    "\n",
    "```\n",
    "Top 10:\n",
    "\n",
    "movie     44031\n",
    "film      40147\n",
    "one       26788\n",
    "like      20274\n",
    "good      15140\n",
    "time      12724\n",
    "even      12646\n",
    "would     12436\n",
    "story     11983\n",
    "really    11736\n",
    "```"
   ]
  },
  {
   "cell_type": "code",
   "execution_count": 18,
   "metadata": {
    "ExecuteTime": {
     "end_time": "2018-10-17T17:26:51.753122Z",
     "start_time": "2018-10-17T17:26:51.376129Z"
    }
   },
   "outputs": [
    {
     "name": "stdout",
     "output_type": "stream",
     "text": [
      "Bottom 10:\n",
      "\n",
      "hothead          1\n",
      "pillory          1\n",
      "immorally        1\n",
      "immodest         1\n",
      "beckoned         1\n",
      "beckoning        1\n",
      "immoderate       1\n",
      "horrify          1\n",
      "hotbeds          1\n",
      "overbearingly    1\n",
      "dtype: int64\n"
     ]
    }
   ],
   "source": [
    "print(\"Bottom 10:\\n\")\n",
    "print(_df.tail(10))"
   ]
  },
  {
   "cell_type": "markdown",
   "metadata": {},
   "source": [
    "Original 'Bottom 10' before 'de-noising':\n",
    "\n",
    "```\n",
    "Bottom 10:\n",
    "\n",
    "skull       78\n",
    "sopranos    78\n",
    "premiere    78\n",
    "bunny       78\n",
    "flair       78\n",
    "fishing     78\n",
    "awhile      78\n",
    "stumbled    78\n",
    "amused      78\n",
    "cream       78\n",
    "```"
   ]
  },
  {
   "cell_type": "markdown",
   "metadata": {},
   "source": [
    "# Baseline Model development"
   ]
  },
  {
   "cell_type": "markdown",
   "metadata": {},
   "source": [
    "We are finally ready to develop the baseline model on the data we've explored, cleaned, and processed.  Because the IMDB data set doesn't include a validation set we'll create one from a portion of the training data.  The processes is similar to our work in previous write-ups such as the [Iris classifier](.//Model-01.ipynb)."
   ]
  },
  {
   "cell_type": "code",
   "execution_count": 25,
   "metadata": {
    "ExecuteTime": {
     "end_time": "2018-10-17T19:25:37.760033Z",
     "start_time": "2018-10-17T19:25:36.118060Z"
    }
   },
   "outputs": [],
   "source": [
    "# Pull in the labeled data\n",
    "labeledTrainData = os.path.join(dataPath, 'labeledTrainData.tsv')\n",
    "df = pd.read_csv(labeledTrainData, sep = '\\t', header = 0, quoting = 3)\n",
    "\n",
    "# Pull in the unlabeled data since it can be utilized by Word2Vec\n",
    "unlabeledTrainData = os.path.join(dataPath, 'unlabeledTrainData.tsv')\n",
    "dfUn = pd.read_csv(unlabeledTrainData, sep = '\\t', header = 0, quoting = 3)"
   ]
  },
  {
   "cell_type": "code",
   "execution_count": 27,
   "metadata": {
    "ExecuteTime": {
     "end_time": "2018-10-17T19:25:48.198845Z",
     "start_time": "2018-10-17T19:25:47.795851Z"
    }
   },
   "outputs": [
    {
     "name": "stdout",
     "output_type": "stream",
     "text": [
      "df.shape : (25000, 3)\n",
      "dfUn.shape : (50000, 2)\n"
     ]
    }
   ],
   "source": [
    "# Validation\n",
    "print('df.shape :', df.shape)\n",
    "print('dfUn.shape :', dfUn.shape)"
   ]
  },
  {
   "cell_type": "markdown",
   "metadata": {},
   "source": [
    "Word2Vec expects single sentences, each one as a list of words. In other words, the input format is a list of lists."
   ]
  },
  {
   "cell_type": "code",
   "execution_count": 54,
   "metadata": {
    "ExecuteTime": {
     "end_time": "2018-10-17T19:50:35.837127Z",
     "start_time": "2018-10-17T19:50:35.423134Z"
    }
   },
   "outputs": [],
   "source": [
    "# Update stop word helper function to output a list of words\n",
    "\n",
    "# Clean IMDB review text\n",
    "def cleanReview(review, removeStopWords = False):\n",
    "    # Convert the stop words to a set\n",
    "    stopWords = set(stopwords.words(\"english\"))\n",
    "    \n",
    "    # Remove HTML\n",
    "    clean = BeautifulSoup(review)\n",
    "    \n",
    "    # Remove non-alpha chars\n",
    "    clean = re.sub(\"[^a-zA-Z]\", ' ', clean.get_text())\n",
    "    \n",
    "    # Convert to lower case and \"tokenize\"\n",
    "    clean = clean.lower().split()\n",
    "    \n",
    "    # Remove stop words\n",
    "    if removeStopWords:\n",
    "        clean = [x for x in clean if not x in stopWords]\n",
    "    \n",
    "    # Return results\n",
    "    return clean"
   ]
  },
  {
   "cell_type": "code",
   "execution_count": 62,
   "metadata": {
    "ExecuteTime": {
     "end_time": "2018-10-17T19:51:29.242158Z",
     "start_time": "2018-10-17T19:51:28.854166Z"
    }
   },
   "outputs": [
    {
     "data": {
      "text/plain": [
       "['looking',\n",
       " 'for',\n",
       " 'quo',\n",
       " 'vadis',\n",
       " 'at',\n",
       " 'my',\n",
       " 'local',\n",
       " 'video',\n",
       " 'store',\n",
       " 'i',\n",
       " 'found',\n",
       " 'this']"
      ]
     },
     "execution_count": 62,
     "metadata": {},
     "output_type": "execute_result"
    }
   ],
   "source": [
    "# Examine\n",
    "cleanReview(df.iloc[25,2])[:12]"
   ]
  },
  {
   "cell_type": "code",
   "execution_count": 64,
   "metadata": {
    "ExecuteTime": {
     "end_time": "2018-10-17T19:51:37.710006Z",
     "start_time": "2018-10-17T19:51:37.318013Z"
    }
   },
   "outputs": [
    {
     "data": {
      "text/plain": [
       "['watching',\n",
       " 'time',\n",
       " 'chasers',\n",
       " 'it',\n",
       " 'obvious',\n",
       " 'that',\n",
       " 'it',\n",
       " 'was',\n",
       " 'made',\n",
       " 'by',\n",
       " 'a',\n",
       " 'bunch']"
      ]
     },
     "execution_count": 64,
     "metadata": {},
     "output_type": "execute_result"
    }
   ],
   "source": [
    "# Examine\n",
    "cleanReview(dfUn.iloc[0,1])[:12]"
   ]
  },
  {
   "cell_type": "markdown",
   "metadata": {},
   "source": [
    "Create function to break review into a list of sentences which are list of words (i.e. list of lists)"
   ]
  },
  {
   "cell_type": "code",
   "execution_count": 65,
   "metadata": {
    "ExecuteTime": {
     "end_time": "2018-10-17T19:51:56.520663Z",
     "start_time": "2018-10-17T19:51:56.142670Z"
    }
   },
   "outputs": [],
   "source": [
    "# Creating function implementing punkt tokenizer for sentence splitting\n",
    "import nltk.data\n",
    "\n",
    "# Only need this the first time...\n",
    "# nltk.download('punkt')\n",
    "\n",
    "# Load the punkt tokenizer\n",
    "tokenizer = nltk.data.load('tokenizers/punkt/english.pickle')\n",
    "\n",
    "# Define a function to split a review into parsed sentences\n",
    "def createSentences(review, tokenizer, remove_stopwords = False):\n",
    "    # Init container to hold results\n",
    "    sentences = []\n",
    "    \n",
    "    # Split review string into sentences\n",
    "    tokenSentences = tokenizer.tokenize(review.strip())\n",
    "\n",
    "    # Clean the sentences via cleanReview() function\n",
    "    for s in tokenSentences:\n",
    "        # If a sentence is empty, skip it\n",
    "        if len(s) > 0:\n",
    "            # Clean sentence\n",
    "            sentences.append( cleanReview( s, remove_stopwords ))\n",
    "    \n",
    "    # Return list of clean sentences\n",
    "    return sentences"
   ]
  },
  {
   "cell_type": "code",
   "execution_count": 74,
   "metadata": {
    "ExecuteTime": {
     "end_time": "2018-10-17T19:53:46.733675Z",
     "start_time": "2018-10-17T19:53:46.310682Z"
    }
   },
   "outputs": [
    {
     "name": "stdout",
     "output_type": "stream",
     "text": [
      "['looking', 'for', 'quo', 'vadis', 'at', 'my', 'local', 'video', 'store', 'i', 'found', 'this']\n",
      "8\n"
     ]
    }
   ],
   "source": [
    "# Examine\n",
    "_ = createSentences(df.iloc[25,2], tokenizer)\n",
    "print(_[0][:12])\n",
    "print(len(_))"
   ]
  },
  {
   "cell_type": "code",
   "execution_count": 75,
   "metadata": {
    "ExecuteTime": {
     "end_time": "2018-10-17T19:54:04.773346Z",
     "start_time": "2018-10-17T19:54:04.368353Z"
    }
   },
   "outputs": [
    {
     "name": "stdout",
     "output_type": "stream",
     "text": [
      "['watching', 'time', 'chasers', 'it', 'obvious', 'that', 'it', 'was', 'made', 'by', 'a', 'bunch']\n",
      "5\n"
     ]
    }
   ],
   "source": [
    "# Examine\n",
    "_ = createSentences(dfUn.iloc[0,1], tokenizer)\n",
    "print(_[0][:12])\n",
    "print(len(_))"
   ]
  },
  {
   "cell_type": "markdown",
   "metadata": {},
   "source": [
    "Now combine the labeled and unlabeled list of lists:"
   ]
  },
  {
   "cell_type": "code",
   "execution_count": 87,
   "metadata": {
    "ExecuteTime": {
     "end_time": "2018-10-17T20:55:28.525808Z",
     "start_time": "2018-10-17T20:47:02.004808Z"
    }
   },
   "outputs": [],
   "source": [
    "combined = []\n",
    "\n",
    "for s in df.iloc[:,2]:\n",
    "    combined += createSentences(s, tokenizer)"
   ]
  },
  {
   "cell_type": "code",
   "execution_count": 94,
   "metadata": {
    "ExecuteTime": {
     "end_time": "2018-10-17T21:39:10.097808Z",
     "start_time": "2018-10-17T21:21:36.728808Z"
    }
   },
   "outputs": [],
   "source": [
    "for s in dfUn.iloc[:,1]:\n",
    "    combined += createSentences(s, tokenizer)"
   ]
  },
  {
   "cell_type": "markdown",
   "metadata": {},
   "source": [
    "Quick examination:"
   ]
  },
  {
   "cell_type": "code",
   "execution_count": 103,
   "metadata": {
    "ExecuteTime": {
     "end_time": "2018-10-17T21:57:47.138808Z",
     "start_time": "2018-10-17T21:57:46.657808Z"
    }
   },
   "outputs": [
    {
     "name": "stdout",
     "output_type": "stream",
     "text": [
      "len(combined):  795538\n",
      "\n",
      "Sample sentence:\n",
      "['with', 'all', 'this', 'stuff', 'going', 'down', 'at', 'the', 'moment', 'with', 'mj', 'i', 've', 'started', 'listening', 'to', 'his', 'music', 'watching', 'the', 'odd', 'documentary', 'here', 'and', 'there', 'watched', 'the', 'wiz', 'and', 'watched', 'moonwalker', 'again']\n"
     ]
    }
   ],
   "source": [
    "print('len(combined): ', len(combined))\n",
    "print(\"\\nSample sentence:\")\n",
    "print(combined[0])"
   ]
  },
  {
   "cell_type": "markdown",
   "metadata": {},
   "source": [
    "Train the Word2Vec model:"
   ]
  },
  {
   "cell_type": "code",
   "execution_count": 95,
   "metadata": {
    "ExecuteTime": {
     "end_time": "2018-10-17T21:40:31.203808Z",
     "start_time": "2018-10-17T21:39:10.099808Z"
    }
   },
   "outputs": [
    {
     "name": "stderr",
     "output_type": "stream",
     "text": [
      "2018-10-17 15:39:10,579 : INFO : collecting all words and their counts\n",
      "2018-10-17 15:39:10,580 : INFO : PROGRESS: at sentence #0, processed 0 words, keeping 0 word types\n",
      "2018-10-17 15:39:10,626 : INFO : PROGRESS: at sentence #10000, processed 225803 words, keeping 17776 word types\n",
      "2018-10-17 15:39:10,672 : INFO : PROGRESS: at sentence #20000, processed 451892 words, keeping 24948 word types\n",
      "2018-10-17 15:39:10,719 : INFO : PROGRESS: at sentence #30000, processed 671315 words, keeping 30034 word types\n",
      "2018-10-17 15:39:10,769 : INFO : PROGRESS: at sentence #40000, processed 897815 words, keeping 34348 word types\n"
     ]
    },
    {
     "name": "stdout",
     "output_type": "stream",
     "text": [
      "Training model...\n"
     ]
    },
    {
     "name": "stderr",
     "output_type": "stream",
     "text": [
      "2018-10-17 15:39:10,811 : INFO : PROGRESS: at sentence #50000, processed 1116963 words, keeping 37761 word types\n",
      "2018-10-17 15:39:10,861 : INFO : PROGRESS: at sentence #60000, processed 1338404 words, keeping 40723 word types\n",
      "2018-10-17 15:39:10,909 : INFO : PROGRESS: at sentence #70000, processed 1561580 words, keeping 43333 word types\n",
      "2018-10-17 15:39:10,959 : INFO : PROGRESS: at sentence #80000, processed 1780887 words, keeping 45714 word types\n",
      "2018-10-17 15:39:11,008 : INFO : PROGRESS: at sentence #90000, processed 2004996 words, keeping 48135 word types\n",
      "2018-10-17 15:39:11,055 : INFO : PROGRESS: at sentence #100000, processed 2226966 words, keeping 50207 word types\n",
      "2018-10-17 15:39:11,102 : INFO : PROGRESS: at sentence #110000, processed 2446580 words, keeping 52081 word types\n",
      "2018-10-17 15:39:11,151 : INFO : PROGRESS: at sentence #120000, processed 2668775 words, keeping 54119 word types\n",
      "2018-10-17 15:39:11,205 : INFO : PROGRESS: at sentence #130000, processed 2894303 words, keeping 55847 word types\n",
      "2018-10-17 15:39:11,249 : INFO : PROGRESS: at sentence #140000, processed 3107005 words, keeping 57346 word types\n",
      "2018-10-17 15:39:11,302 : INFO : PROGRESS: at sentence #150000, processed 3332627 words, keeping 59055 word types\n",
      "2018-10-17 15:39:11,349 : INFO : PROGRESS: at sentence #160000, processed 3555315 words, keeping 60617 word types\n",
      "2018-10-17 15:39:11,398 : INFO : PROGRESS: at sentence #170000, processed 3778655 words, keeping 62077 word types\n",
      "2018-10-17 15:39:11,447 : INFO : PROGRESS: at sentence #180000, processed 3999236 words, keeping 63496 word types\n",
      "2018-10-17 15:39:11,497 : INFO : PROGRESS: at sentence #190000, processed 4224449 words, keeping 64794 word types\n",
      "2018-10-17 15:39:11,549 : INFO : PROGRESS: at sentence #200000, processed 4448603 words, keeping 66087 word types\n",
      "2018-10-17 15:39:11,597 : INFO : PROGRESS: at sentence #210000, processed 4669967 words, keeping 67390 word types\n",
      "2018-10-17 15:39:11,644 : INFO : PROGRESS: at sentence #220000, processed 4894968 words, keeping 68697 word types\n",
      "2018-10-17 15:39:11,693 : INFO : PROGRESS: at sentence #230000, processed 5117545 words, keeping 69958 word types\n",
      "2018-10-17 15:39:11,742 : INFO : PROGRESS: at sentence #240000, processed 5345050 words, keeping 71167 word types\n",
      "2018-10-17 15:39:11,790 : INFO : PROGRESS: at sentence #250000, processed 5559165 words, keeping 72351 word types\n",
      "2018-10-17 15:39:11,838 : INFO : PROGRESS: at sentence #260000, processed 5779146 words, keeping 73478 word types\n",
      "2018-10-17 15:39:11,884 : INFO : PROGRESS: at sentence #270000, processed 6000435 words, keeping 74767 word types\n",
      "2018-10-17 15:39:11,938 : INFO : PROGRESS: at sentence #280000, processed 6226314 words, keeping 76369 word types\n",
      "2018-10-17 15:39:11,990 : INFO : PROGRESS: at sentence #290000, processed 6449474 words, keeping 77839 word types\n",
      "2018-10-17 15:39:12,038 : INFO : PROGRESS: at sentence #300000, processed 6674077 words, keeping 79171 word types\n",
      "2018-10-17 15:39:12,090 : INFO : PROGRESS: at sentence #310000, processed 6899391 words, keeping 80480 word types\n",
      "2018-10-17 15:39:12,136 : INFO : PROGRESS: at sentence #320000, processed 7124278 words, keeping 81808 word types\n",
      "2018-10-17 15:39:12,190 : INFO : PROGRESS: at sentence #330000, processed 7346021 words, keeping 83030 word types\n",
      "2018-10-17 15:39:12,240 : INFO : PROGRESS: at sentence #340000, processed 7575533 words, keeping 84280 word types\n",
      "2018-10-17 15:39:12,291 : INFO : PROGRESS: at sentence #350000, processed 7798803 words, keeping 85425 word types\n",
      "2018-10-17 15:39:12,347 : INFO : PROGRESS: at sentence #360000, processed 8019427 words, keeping 86596 word types\n",
      "2018-10-17 15:39:12,400 : INFO : PROGRESS: at sentence #370000, processed 8246619 words, keeping 87708 word types\n",
      "2018-10-17 15:39:12,451 : INFO : PROGRESS: at sentence #380000, processed 8471766 words, keeping 88878 word types\n",
      "2018-10-17 15:39:12,510 : INFO : PROGRESS: at sentence #390000, processed 8701497 words, keeping 89907 word types\n",
      "2018-10-17 15:39:12,566 : INFO : PROGRESS: at sentence #400000, processed 8924446 words, keeping 90916 word types\n",
      "2018-10-17 15:39:12,613 : INFO : PROGRESS: at sentence #410000, processed 9145796 words, keeping 91880 word types\n",
      "2018-10-17 15:39:12,668 : INFO : PROGRESS: at sentence #420000, processed 9366876 words, keeping 92912 word types\n",
      "2018-10-17 15:39:12,722 : INFO : PROGRESS: at sentence #430000, processed 9594413 words, keeping 93932 word types\n",
      "2018-10-17 15:39:12,774 : INFO : PROGRESS: at sentence #440000, processed 9821166 words, keeping 94906 word types\n",
      "2018-10-17 15:39:12,826 : INFO : PROGRESS: at sentence #450000, processed 10044928 words, keeping 96036 word types\n",
      "2018-10-17 15:39:12,883 : INFO : PROGRESS: at sentence #460000, processed 10277688 words, keeping 97088 word types\n",
      "2018-10-17 15:39:12,932 : INFO : PROGRESS: at sentence #470000, processed 10505613 words, keeping 97933 word types\n",
      "2018-10-17 15:39:12,982 : INFO : PROGRESS: at sentence #480000, processed 10725997 words, keeping 98862 word types\n",
      "2018-10-17 15:39:13,037 : INFO : PROGRESS: at sentence #490000, processed 10952741 words, keeping 99871 word types\n",
      "2018-10-17 15:39:13,088 : INFO : PROGRESS: at sentence #500000, processed 11174397 words, keeping 100765 word types\n",
      "2018-10-17 15:39:13,137 : INFO : PROGRESS: at sentence #510000, processed 11399672 words, keeping 101699 word types\n",
      "2018-10-17 15:39:13,193 : INFO : PROGRESS: at sentence #520000, processed 11623020 words, keeping 102598 word types\n",
      "2018-10-17 15:39:13,244 : INFO : PROGRESS: at sentence #530000, processed 11847418 words, keeping 103400 word types\n",
      "2018-10-17 15:39:13,292 : INFO : PROGRESS: at sentence #540000, processed 12072033 words, keeping 104265 word types\n",
      "2018-10-17 15:39:13,348 : INFO : PROGRESS: at sentence #550000, processed 12297571 words, keeping 105133 word types\n",
      "2018-10-17 15:39:13,402 : INFO : PROGRESS: at sentence #560000, processed 12518861 words, keeping 105997 word types\n",
      "2018-10-17 15:39:13,456 : INFO : PROGRESS: at sentence #570000, processed 12747916 words, keeping 106787 word types\n",
      "2018-10-17 15:39:13,506 : INFO : PROGRESS: at sentence #580000, processed 12969412 words, keeping 107665 word types\n",
      "2018-10-17 15:39:13,563 : INFO : PROGRESS: at sentence #590000, processed 13194937 words, keeping 108501 word types\n",
      "2018-10-17 15:39:13,611 : INFO : PROGRESS: at sentence #600000, processed 13417135 words, keeping 109218 word types\n",
      "2018-10-17 15:39:13,664 : INFO : PROGRESS: at sentence #610000, processed 13638158 words, keeping 110092 word types\n",
      "2018-10-17 15:39:13,718 : INFO : PROGRESS: at sentence #620000, processed 13864483 words, keeping 110837 word types\n",
      "2018-10-17 15:39:13,771 : INFO : PROGRESS: at sentence #630000, processed 14088769 words, keeping 111610 word types\n",
      "2018-10-17 15:39:13,820 : INFO : PROGRESS: at sentence #640000, processed 14309552 words, keeping 112416 word types\n",
      "2018-10-17 15:39:13,875 : INFO : PROGRESS: at sentence #650000, processed 14535308 words, keeping 113196 word types\n",
      "2018-10-17 15:39:13,930 : INFO : PROGRESS: at sentence #660000, processed 14758098 words, keeping 113945 word types\n",
      "2018-10-17 15:39:13,981 : INFO : PROGRESS: at sentence #670000, processed 14981482 words, keeping 114643 word types\n",
      "2018-10-17 15:39:14,030 : INFO : PROGRESS: at sentence #680000, processed 15206314 words, keeping 115354 word types\n",
      "2018-10-17 15:39:14,085 : INFO : PROGRESS: at sentence #690000, processed 15428507 words, keeping 116131 word types\n",
      "2018-10-17 15:39:14,136 : INFO : PROGRESS: at sentence #700000, processed 15657213 words, keeping 116943 word types\n",
      "2018-10-17 15:39:14,193 : INFO : PROGRESS: at sentence #710000, processed 15880202 words, keeping 117596 word types\n",
      "2018-10-17 15:39:14,246 : INFO : PROGRESS: at sentence #720000, processed 16105489 words, keeping 118221 word types\n",
      "2018-10-17 15:39:14,295 : INFO : PROGRESS: at sentence #730000, processed 16331870 words, keeping 118954 word types\n",
      "2018-10-17 15:39:14,348 : INFO : PROGRESS: at sentence #740000, processed 16552903 words, keeping 119668 word types\n",
      "2018-10-17 15:39:14,403 : INFO : PROGRESS: at sentence #750000, processed 16771230 words, keeping 120295 word types\n",
      "2018-10-17 15:39:14,456 : INFO : PROGRESS: at sentence #760000, processed 16990622 words, keeping 120930 word types\n"
     ]
    },
    {
     "name": "stderr",
     "output_type": "stream",
     "text": [
      "2018-10-17 15:39:14,509 : INFO : PROGRESS: at sentence #770000, processed 17217759 words, keeping 121703 word types\n",
      "2018-10-17 15:39:14,567 : INFO : PROGRESS: at sentence #780000, processed 17447905 words, keeping 122402 word types\n",
      "2018-10-17 15:39:14,624 : INFO : PROGRESS: at sentence #790000, processed 17674981 words, keeping 123066 word types\n",
      "2018-10-17 15:39:14,652 : INFO : collected 123504 word types from a corpus of 17798082 raw words and 795538 sentences\n",
      "2018-10-17 15:39:14,653 : INFO : Loading a fresh vocabulary\n",
      "2018-10-17 15:39:14,747 : INFO : effective_min_count=40 retains 16490 unique words (13% of original 123504, drops 107014)\n",
      "2018-10-17 15:39:14,748 : INFO : effective_min_count=40 leaves 17238940 word corpus (96% of original 17798082, drops 559142)\n",
      "2018-10-17 15:39:14,797 : INFO : deleting the raw counts dictionary of 123504 items\n",
      "2018-10-17 15:39:14,801 : INFO : sample=0.001 downsamples 48 most-common words\n",
      "2018-10-17 15:39:14,802 : INFO : downsampling leaves estimated 12749658 word corpus (74.0% of prior 17238940)\n",
      "2018-10-17 15:39:14,865 : INFO : estimated required memory for 16490 words and 300 dimensions: 47821000 bytes\n",
      "2018-10-17 15:39:14,866 : INFO : resetting layer weights\n",
      "2018-10-17 15:39:15,075 : INFO : training model with 4 workers on 16490 vocabulary and 300 features, using sg=0 hs=0 sample=0.001 negative=5 window=10\n",
      "2018-10-17 15:39:16,089 : INFO : EPOCH 1 - PROGRESS: at 6.23% examples, 789354 words/s, in_qsize 7, out_qsize 0\n",
      "2018-10-17 15:39:17,090 : INFO : EPOCH 1 - PROGRESS: at 12.92% examples, 816385 words/s, in_qsize 8, out_qsize 0\n",
      "2018-10-17 15:39:18,097 : INFO : EPOCH 1 - PROGRESS: at 19.82% examples, 832669 words/s, in_qsize 7, out_qsize 0\n",
      "2018-10-17 15:39:19,100 : INFO : EPOCH 1 - PROGRESS: at 26.51% examples, 836732 words/s, in_qsize 7, out_qsize 0\n",
      "2018-10-17 15:39:20,144 : INFO : EPOCH 1 - PROGRESS: at 32.80% examples, 820779 words/s, in_qsize 7, out_qsize 5\n",
      "2018-10-17 15:39:21,147 : INFO : EPOCH 1 - PROGRESS: at 39.81% examples, 832492 words/s, in_qsize 7, out_qsize 0\n",
      "2018-10-17 15:39:22,158 : INFO : EPOCH 1 - PROGRESS: at 46.83% examples, 840935 words/s, in_qsize 8, out_qsize 0\n",
      "2018-10-17 15:39:23,164 : INFO : EPOCH 1 - PROGRESS: at 53.72% examples, 845123 words/s, in_qsize 7, out_qsize 0\n",
      "2018-10-17 15:39:24,167 : INFO : EPOCH 1 - PROGRESS: at 60.36% examples, 846239 words/s, in_qsize 7, out_qsize 1\n",
      "2018-10-17 15:39:25,171 : INFO : EPOCH 1 - PROGRESS: at 67.06% examples, 847096 words/s, in_qsize 7, out_qsize 0\n",
      "2018-10-17 15:39:26,183 : INFO : EPOCH 1 - PROGRESS: at 73.74% examples, 846605 words/s, in_qsize 8, out_qsize 0\n",
      "2018-10-17 15:39:27,188 : INFO : EPOCH 1 - PROGRESS: at 80.70% examples, 849581 words/s, in_qsize 6, out_qsize 1\n",
      "2018-10-17 15:39:28,192 : INFO : EPOCH 1 - PROGRESS: at 87.59% examples, 851644 words/s, in_qsize 7, out_qsize 0\n",
      "2018-10-17 15:39:29,198 : INFO : EPOCH 1 - PROGRESS: at 94.66% examples, 854800 words/s, in_qsize 7, out_qsize 0\n",
      "2018-10-17 15:39:29,968 : INFO : worker thread finished; awaiting finish of 3 more threads\n",
      "2018-10-17 15:39:29,971 : INFO : worker thread finished; awaiting finish of 2 more threads\n",
      "2018-10-17 15:39:29,975 : INFO : worker thread finished; awaiting finish of 1 more threads\n",
      "2018-10-17 15:39:29,988 : INFO : worker thread finished; awaiting finish of 0 more threads\n",
      "2018-10-17 15:39:29,988 : INFO : EPOCH - 1 : training on 17798082 raw words (12751199 effective words) took 14.9s, 855532 effective words/s\n",
      "2018-10-17 15:39:31,010 : INFO : EPOCH 2 - PROGRESS: at 6.79% examples, 853210 words/s, in_qsize 4, out_qsize 3\n",
      "2018-10-17 15:39:32,023 : INFO : EPOCH 2 - PROGRESS: at 13.60% examples, 850325 words/s, in_qsize 5, out_qsize 2\n",
      "2018-10-17 15:39:33,033 : INFO : EPOCH 2 - PROGRESS: at 20.45% examples, 852631 words/s, in_qsize 7, out_qsize 0\n",
      "2018-10-17 15:39:34,041 : INFO : EPOCH 2 - PROGRESS: at 27.20% examples, 852201 words/s, in_qsize 6, out_qsize 1\n",
      "2018-10-17 15:39:35,043 : INFO : EPOCH 2 - PROGRESS: at 34.22% examples, 858542 words/s, in_qsize 5, out_qsize 2\n",
      "2018-10-17 15:39:36,046 : INFO : EPOCH 2 - PROGRESS: at 41.09% examples, 861522 words/s, in_qsize 7, out_qsize 0\n",
      "2018-10-17 15:39:37,047 : INFO : EPOCH 2 - PROGRESS: at 47.56% examples, 856776 words/s, in_qsize 7, out_qsize 0\n",
      "2018-10-17 15:39:38,058 : INFO : EPOCH 2 - PROGRESS: at 54.65% examples, 862011 words/s, in_qsize 7, out_qsize 0\n",
      "2018-10-17 15:39:39,060 : INFO : EPOCH 2 - PROGRESS: at 61.36% examples, 862097 words/s, in_qsize 6, out_qsize 1\n",
      "2018-10-17 15:39:40,083 : INFO : EPOCH 2 - PROGRESS: at 68.50% examples, 864748 words/s, in_qsize 5, out_qsize 2\n",
      "2018-10-17 15:39:41,085 : INFO : EPOCH 2 - PROGRESS: at 75.31% examples, 865252 words/s, in_qsize 7, out_qsize 0\n",
      "2018-10-17 15:39:42,090 : INFO : EPOCH 2 - PROGRESS: at 81.98% examples, 863725 words/s, in_qsize 6, out_qsize 1\n",
      "2018-10-17 15:39:43,091 : INFO : EPOCH 2 - PROGRESS: at 88.81% examples, 864417 words/s, in_qsize 6, out_qsize 1\n",
      "2018-10-17 15:39:44,095 : INFO : EPOCH 2 - PROGRESS: at 95.86% examples, 866189 words/s, in_qsize 7, out_qsize 0\n",
      "2018-10-17 15:39:44,694 : INFO : worker thread finished; awaiting finish of 3 more threads\n",
      "2018-10-17 15:39:44,699 : INFO : worker thread finished; awaiting finish of 2 more threads\n",
      "2018-10-17 15:39:44,703 : INFO : worker thread finished; awaiting finish of 1 more threads\n",
      "2018-10-17 15:39:44,706 : INFO : worker thread finished; awaiting finish of 0 more threads\n",
      "2018-10-17 15:39:44,707 : INFO : EPOCH - 2 : training on 17798082 raw words (12748612 effective words) took 14.7s, 866645 effective words/s\n",
      "2018-10-17 15:39:45,717 : INFO : EPOCH 3 - PROGRESS: at 6.68% examples, 850772 words/s, in_qsize 7, out_qsize 0\n",
      "2018-10-17 15:39:46,720 : INFO : EPOCH 3 - PROGRESS: at 13.37% examples, 846341 words/s, in_qsize 8, out_qsize 2\n",
      "2018-10-17 15:39:47,727 : INFO : EPOCH 3 - PROGRESS: at 20.33% examples, 855188 words/s, in_qsize 7, out_qsize 0\n",
      "2018-10-17 15:39:48,739 : INFO : EPOCH 3 - PROGRESS: at 26.58% examples, 837431 words/s, in_qsize 7, out_qsize 0\n",
      "2018-10-17 15:39:49,741 : INFO : EPOCH 3 - PROGRESS: at 33.61% examples, 846592 words/s, in_qsize 4, out_qsize 1\n",
      "2018-10-17 15:39:50,752 : INFO : EPOCH 3 - PROGRESS: at 40.69% examples, 855305 words/s, in_qsize 4, out_qsize 0\n",
      "2018-10-17 15:39:51,766 : INFO : EPOCH 3 - PROGRESS: at 47.50% examples, 856089 words/s, in_qsize 7, out_qsize 0\n",
      "2018-10-17 15:39:52,768 : INFO : EPOCH 3 - PROGRESS: at 54.26% examples, 857006 words/s, in_qsize 7, out_qsize 0\n",
      "2018-10-17 15:39:53,770 : INFO : EPOCH 3 - PROGRESS: at 61.13% examples, 859959 words/s, in_qsize 6, out_qsize 0\n",
      "2018-10-17 15:39:54,776 : INFO : EPOCH 3 - PROGRESS: at 67.75% examples, 857866 words/s, in_qsize 4, out_qsize 0\n",
      "2018-10-17 15:39:55,779 : INFO : EPOCH 3 - PROGRESS: at 74.29% examples, 855691 words/s, in_qsize 6, out_qsize 0\n",
      "2018-10-17 15:39:56,783 : INFO : EPOCH 3 - PROGRESS: at 80.93% examples, 854455 words/s, in_qsize 8, out_qsize 0\n",
      "2018-10-17 15:39:57,787 : INFO : EPOCH 3 - PROGRESS: at 87.59% examples, 853907 words/s, in_qsize 6, out_qsize 0\n",
      "2018-10-17 15:39:58,796 : INFO : EPOCH 3 - PROGRESS: at 94.09% examples, 851593 words/s, in_qsize 7, out_qsize 0\n",
      "2018-10-17 15:39:59,656 : INFO : worker thread finished; awaiting finish of 3 more threads\n",
      "2018-10-17 15:39:59,659 : INFO : worker thread finished; awaiting finish of 2 more threads\n",
      "2018-10-17 15:39:59,665 : INFO : worker thread finished; awaiting finish of 1 more threads\n",
      "2018-10-17 15:39:59,671 : INFO : worker thread finished; awaiting finish of 0 more threads\n",
      "2018-10-17 15:39:59,671 : INFO : EPOCH - 3 : training on 17798082 raw words (12748310 effective words) took 15.0s, 852460 effective words/s\n",
      "2018-10-17 15:40:00,692 : INFO : EPOCH 4 - PROGRESS: at 6.62% examples, 833188 words/s, in_qsize 7, out_qsize 0\n",
      "2018-10-17 15:40:01,695 : INFO : EPOCH 4 - PROGRESS: at 13.60% examples, 855919 words/s, in_qsize 7, out_qsize 0\n",
      "2018-10-17 15:40:02,704 : INFO : EPOCH 4 - PROGRESS: at 20.51% examples, 858447 words/s, in_qsize 6, out_qsize 0\n",
      "2018-10-17 15:40:03,714 : INFO : EPOCH 4 - PROGRESS: at 27.47% examples, 863395 words/s, in_qsize 5, out_qsize 0\n",
      "2018-10-17 15:40:04,714 : INFO : EPOCH 4 - PROGRESS: at 34.88% examples, 877827 words/s, in_qsize 7, out_qsize 0\n",
      "2018-10-17 15:40:05,731 : INFO : EPOCH 4 - PROGRESS: at 41.27% examples, 865013 words/s, in_qsize 8, out_qsize 3\n"
     ]
    },
    {
     "name": "stderr",
     "output_type": "stream",
     "text": [
      "2018-10-17 15:40:06,733 : INFO : EPOCH 4 - PROGRESS: at 47.56% examples, 856704 words/s, in_qsize 7, out_qsize 0\n",
      "2018-10-17 15:40:07,733 : INFO : EPOCH 4 - PROGRESS: at 54.15% examples, 855010 words/s, in_qsize 7, out_qsize 0\n",
      "2018-10-17 15:40:08,734 : INFO : EPOCH 4 - PROGRESS: at 60.18% examples, 846510 words/s, in_qsize 6, out_qsize 1\n",
      "2018-10-17 15:40:09,740 : INFO : EPOCH 4 - PROGRESS: at 65.85% examples, 833630 words/s, in_qsize 8, out_qsize 3\n",
      "2018-10-17 15:40:10,742 : INFO : EPOCH 4 - PROGRESS: at 72.10% examples, 830640 words/s, in_qsize 6, out_qsize 0\n",
      "2018-10-17 15:40:11,749 : INFO : EPOCH 4 - PROGRESS: at 78.61% examples, 830056 words/s, in_qsize 8, out_qsize 0\n",
      "2018-10-17 15:40:12,754 : INFO : EPOCH 4 - PROGRESS: at 84.94% examples, 827971 words/s, in_qsize 6, out_qsize 0\n",
      "2018-10-17 15:40:13,767 : INFO : EPOCH 4 - PROGRESS: at 91.26% examples, 825788 words/s, in_qsize 7, out_qsize 2\n",
      "2018-10-17 15:40:14,780 : INFO : EPOCH 4 - PROGRESS: at 98.11% examples, 828199 words/s, in_qsize 6, out_qsize 1\n",
      "2018-10-17 15:40:15,115 : INFO : worker thread finished; awaiting finish of 3 more threads\n",
      "2018-10-17 15:40:15,141 : INFO : worker thread finished; awaiting finish of 2 more threads\n",
      "2018-10-17 15:40:15,141 : INFO : worker thread finished; awaiting finish of 1 more threads\n",
      "2018-10-17 15:40:15,142 : INFO : worker thread finished; awaiting finish of 0 more threads\n",
      "2018-10-17 15:40:15,143 : INFO : EPOCH - 4 : training on 17798082 raw words (12748094 effective words) took 15.5s, 824473 effective words/s\n",
      "2018-10-17 15:40:16,185 : INFO : EPOCH 5 - PROGRESS: at 5.98% examples, 748801 words/s, in_qsize 7, out_qsize 1\n",
      "2018-10-17 15:40:17,193 : INFO : EPOCH 5 - PROGRESS: at 12.68% examples, 792895 words/s, in_qsize 5, out_qsize 0\n",
      "2018-10-17 15:40:18,196 : INFO : EPOCH 5 - PROGRESS: at 19.50% examples, 813373 words/s, in_qsize 7, out_qsize 0\n",
      "2018-10-17 15:40:19,205 : INFO : EPOCH 5 - PROGRESS: at 26.57% examples, 833281 words/s, in_qsize 8, out_qsize 0\n",
      "2018-10-17 15:40:20,218 : INFO : EPOCH 5 - PROGRESS: at 33.04% examples, 827367 words/s, in_qsize 8, out_qsize 0\n",
      "2018-10-17 15:40:21,219 : INFO : EPOCH 5 - PROGRESS: at 39.70% examples, 831150 words/s, in_qsize 8, out_qsize 0\n",
      "2018-10-17 15:40:22,232 : INFO : EPOCH 5 - PROGRESS: at 46.34% examples, 832347 words/s, in_qsize 7, out_qsize 0\n",
      "2018-10-17 15:40:23,256 : INFO : EPOCH 5 - PROGRESS: at 53.32% examples, 837523 words/s, in_qsize 6, out_qsize 3\n",
      "2018-10-17 15:40:24,258 : INFO : EPOCH 5 - PROGRESS: at 59.95% examples, 839499 words/s, in_qsize 7, out_qsize 2\n",
      "2018-10-17 15:40:25,261 : INFO : EPOCH 5 - PROGRESS: at 66.74% examples, 841792 words/s, in_qsize 7, out_qsize 0\n",
      "2018-10-17 15:40:26,272 : INFO : EPOCH 5 - PROGRESS: at 73.62% examples, 844417 words/s, in_qsize 8, out_qsize 2\n",
      "2018-10-17 15:40:27,274 : INFO : EPOCH 5 - PROGRESS: at 80.42% examples, 845936 words/s, in_qsize 6, out_qsize 1\n",
      "2018-10-17 15:40:28,278 : INFO : EPOCH 5 - PROGRESS: at 86.59% examples, 841228 words/s, in_qsize 7, out_qsize 0\n",
      "2018-10-17 15:40:29,281 : INFO : EPOCH 5 - PROGRESS: at 92.45% examples, 834664 words/s, in_qsize 7, out_qsize 0\n",
      "2018-10-17 15:40:30,300 : INFO : EPOCH 5 - PROGRESS: at 98.61% examples, 830461 words/s, in_qsize 8, out_qsize 3\n",
      "2018-10-17 15:40:30,453 : INFO : worker thread finished; awaiting finish of 3 more threads\n",
      "2018-10-17 15:40:30,466 : INFO : worker thread finished; awaiting finish of 2 more threads\n",
      "2018-10-17 15:40:30,476 : INFO : worker thread finished; awaiting finish of 1 more threads\n",
      "2018-10-17 15:40:30,479 : INFO : worker thread finished; awaiting finish of 0 more threads\n",
      "2018-10-17 15:40:30,479 : INFO : EPOCH - 5 : training on 17798082 raw words (12748675 effective words) took 15.3s, 832381 effective words/s\n",
      "2018-10-17 15:40:30,480 : INFO : training on a 88990410 raw words (63744890 effective words) took 75.4s, 845390 effective words/s\n",
      "2018-10-17 15:40:30,485 : INFO : precomputing L2-norms of word weight vectors\n",
      "2018-10-17 15:40:30,606 : INFO : saving Word2Vec object under 300features_40minwords_10context, separately None\n",
      "2018-10-17 15:40:30,607 : INFO : not storing attribute vectors_norm\n",
      "2018-10-17 15:40:30,608 : INFO : not storing attribute cum_table\n",
      "2018-10-17 15:40:31,199 : INFO : saved 300features_40minwords_10context\n"
     ]
    }
   ],
   "source": [
    "# Set Word2Vec params\n",
    "features = 300       # Word vector dimensionality                      \n",
    "minWordCount = 40    # Minimum word count                        \n",
    "workers = 4          # Number of threads to run in parallel\n",
    "context = 10         # Context window size                                                                                    \n",
    "downSampling = 1e-3  # Downsample setting for frequent words\n",
    "\n",
    "model = word2vec.Word2Vec(combined, \n",
    "                          workers=workers,\n",
    "                          size=features, \n",
    "                          min_count = minWordCount,\n",
    "                          window = context, \n",
    "                          sample = downSampling)\n",
    "\n",
    "# https://tedboy.github.io/nlps/generated/generated/gensim.models.Word2Vec.init_sims.html\n",
    "# If replace is set, forget the original vectors and only keep the normalized ones = saves lots of memory!\n",
    "# Note that you cannot continue training after doing a replace. \n",
    "# The model becomes effectively read-only = you can call most_similar, similarity etc., but not train.\n",
    "model.init_sims(replace = True)\n",
    "\n",
    "# Save model to disk\n",
    "model.save(\"300features_40minwords_10context\")"
   ]
  },
  {
   "cell_type": "markdown",
   "metadata": {},
   "source": [
    "Explore the results:"
   ]
  },
  {
   "cell_type": "code",
   "execution_count": 109,
   "metadata": {
    "ExecuteTime": {
     "end_time": "2018-10-17T22:05:32.539808Z",
     "start_time": "2018-10-17T22:05:32.063808Z"
    }
   },
   "outputs": [
    {
     "data": {
      "text/plain": [
       "[('fantastic', 0.744966983795166),\n",
       " ('terrific', 0.7254248857498169),\n",
       " ('wonderful', 0.7222756743431091),\n",
       " ('superb', 0.6488494873046875),\n",
       " ('fine', 0.6268933415412903),\n",
       " ('brilliant', 0.6259881854057312),\n",
       " ('excellent', 0.6108428835868835),\n",
       " ('good', 0.6105794310569763),\n",
       " ('marvelous', 0.5988600254058838),\n",
       " ('fabulous', 0.5846982598304749)]"
      ]
     },
     "execution_count": 109,
     "metadata": {},
     "output_type": "execute_result"
    }
   ],
   "source": [
    "model.most_similar(\"great\")"
   ]
  },
  {
   "cell_type": "code",
   "execution_count": 101,
   "metadata": {
    "ExecuteTime": {
     "end_time": "2018-10-17T21:55:43.936808Z",
     "start_time": "2018-10-17T21:55:43.452808Z"
    }
   },
   "outputs": [
    {
     "data": {
      "text/plain": [
       "[('terrible', 0.7702630758285522),\n",
       " ('atrocious', 0.7353411912918091),\n",
       " ('horrible', 0.7253411412239075),\n",
       " ('abysmal', 0.6938037276268005),\n",
       " ('dreadful', 0.6896001100540161),\n",
       " ('horrid', 0.6868517994880676),\n",
       " ('horrendous', 0.6746305823326111),\n",
       " ('appalling', 0.6509989500045776),\n",
       " ('lousy', 0.6151514053344727),\n",
       " ('laughable', 0.610934853553772)]"
      ]
     },
     "execution_count": 101,
     "metadata": {},
     "output_type": "execute_result"
    }
   ],
   "source": [
    "model.most_similar(\"awful\")"
   ]
  },
  {
   "cell_type": "code",
   "execution_count": 110,
   "metadata": {
    "ExecuteTime": {
     "end_time": "2018-10-17T22:14:11.448808Z",
     "start_time": "2018-10-17T22:14:10.962808Z"
    }
   },
   "outputs": [
    {
     "data": {
      "text/plain": [
       "[('cannibal', 0.6876082420349121),\n",
       " ('horror', 0.6336225867271423),\n",
       " ('slasher', 0.6316038370132446),\n",
       " ('splatter', 0.6017206907272339),\n",
       " ('fulci', 0.578565239906311),\n",
       " ('mummy', 0.5776978731155396),\n",
       " ('vampire', 0.5766961574554443),\n",
       " ('zombies', 0.5759209394454956),\n",
       " ('monster', 0.5732545256614685),\n",
       " ('werewolf', 0.5728244185447693)]"
      ]
     },
     "execution_count": 110,
     "metadata": {},
     "output_type": "execute_result"
    }
   ],
   "source": [
    "# One of the reviews we referred to often in previous write-ups was of a zombie movie,\n",
    "# so let's see what words are similar/associated with the word 'zombie'\n",
    "model.most_similar(\"zombie\")"
   ]
  },
  {
   "cell_type": "code",
   "execution_count": null,
   "metadata": {},
   "outputs": [],
   "source": []
  }
 ],
 "metadata": {
  "kernelspec": {
   "display_name": "Python 3",
   "language": "python",
   "name": "python3"
  },
  "language_info": {
   "codemirror_mode": {
    "name": "ipython",
    "version": 3
   },
   "file_extension": ".py",
   "mimetype": "text/x-python",
   "name": "python",
   "nbconvert_exporter": "python",
   "pygments_lexer": "ipython3",
   "version": "3.6.5"
  },
  "toc": {
   "base_numbering": 1,
   "nav_menu": {},
   "number_sections": true,
   "sideBar": true,
   "skip_h1_title": false,
   "title_cell": "Table of Contents",
   "title_sidebar": "Contents",
   "toc_cell": true,
   "toc_position": {},
   "toc_section_display": true,
   "toc_window_display": false
  }
 },
 "nbformat": 4,
 "nbformat_minor": 2
}
