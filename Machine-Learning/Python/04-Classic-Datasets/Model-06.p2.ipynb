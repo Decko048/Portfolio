{
 "cells": [
  {
   "cell_type": "markdown",
   "metadata": {
    "toc": true
   },
   "source": [
    "<h1>Table of Contents<span class=\"tocSkip\"></span></h1>\n",
    "<div class=\"toc\"><ul class=\"toc-item\"><li><span><a href=\"#IMDB-Movie-Review-Sentiment-Classification\" data-toc-modified-id=\"IMDB-Movie-Review-Sentiment-Classification-1\"><span class=\"toc-item-num\">1&nbsp;&nbsp;</span>IMDB Movie Review Sentiment Classification</a></span></li><li><span><a href=\"#Purpose\" data-toc-modified-id=\"Purpose-2\"><span class=\"toc-item-num\">2&nbsp;&nbsp;</span>Purpose</a></span></li><li><span><a href=\"#Process\" data-toc-modified-id=\"Process-3\"><span class=\"toc-item-num\">3&nbsp;&nbsp;</span>Process</a></span></li><li><span><a href=\"#Configure-notebook,-import-libraries,-and-import-dataset\" data-toc-modified-id=\"Configure-notebook,-import-libraries,-and-import-dataset-4\"><span class=\"toc-item-num\">4&nbsp;&nbsp;</span>Configure notebook, import libraries, and import dataset</a></span></li><li><span><a href=\"#Examine-the-data\" data-toc-modified-id=\"Examine-the-data-5\"><span class=\"toc-item-num\">5&nbsp;&nbsp;</span>Examine the data</a></span></li><li><span><a href=\"#Cleaning-and-preprocessing\" data-toc-modified-id=\"Cleaning-and-preprocessing-6\"><span class=\"toc-item-num\">6&nbsp;&nbsp;</span>Cleaning and preprocessing</a></span></li><li><span><a href=\"#Bag-of-words-feature-creation\" data-toc-modified-id=\"Bag-of-words-feature-creation-7\"><span class=\"toc-item-num\">7&nbsp;&nbsp;</span>Bag-of-words feature creation</a></span></li><li><span><a href=\"#Baseline-Model-development\" data-toc-modified-id=\"Baseline-Model-development-8\"><span class=\"toc-item-num\">8&nbsp;&nbsp;</span>Baseline Model development</a></span><ul class=\"toc-item\"><li><span><a href=\"#Helper-functions\" data-toc-modified-id=\"Helper-functions-8.1\"><span class=\"toc-item-num\">8.1&nbsp;&nbsp;</span>Helper functions</a></span></li><li><span><a href=\"#Create-validation-data-set\" data-toc-modified-id=\"Create-validation-data-set-8.2\"><span class=\"toc-item-num\">8.2&nbsp;&nbsp;</span>Create validation data set</a></span></li><li><span><a href=\"#Initial-pass---Non-ensemble-methods\" data-toc-modified-id=\"Initial-pass---Non-ensemble-methods-8.3\"><span class=\"toc-item-num\">8.3&nbsp;&nbsp;</span>Initial pass - Non-ensemble methods</a></span><ul class=\"toc-item\"><li><span><a href=\"#LR-Tuning\" data-toc-modified-id=\"LR-Tuning-8.3.1\"><span class=\"toc-item-num\">8.3.1&nbsp;&nbsp;</span>LR Tuning</a></span></li><li><span><a href=\"#LR-Tuning-Comments\" data-toc-modified-id=\"LR-Tuning-Comments-8.3.2\"><span class=\"toc-item-num\">8.3.2&nbsp;&nbsp;</span>LR Tuning Comments</a></span></li></ul></li><li><span><a href=\"#Initial-pass---Ensemble-methods\" data-toc-modified-id=\"Initial-pass---Ensemble-methods-8.4\"><span class=\"toc-item-num\">8.4&nbsp;&nbsp;</span>Initial pass - Ensemble methods</a></span></li><li><span><a href=\"#Kaggle-model\" data-toc-modified-id=\"Kaggle-model-8.5\"><span class=\"toc-item-num\">8.5&nbsp;&nbsp;</span>Kaggle model</a></span></li></ul></li><li><span><a href=\"#Summary\" data-toc-modified-id=\"Summary-9\"><span class=\"toc-item-num\">9&nbsp;&nbsp;</span>Summary</a></span></li></ul></div>"
   ]
  },
  {
   "cell_type": "markdown",
   "metadata": {},
   "source": [
    "<h1>IMDB Movie Review Sentiment Classification</h1>"
   ]
  },
  {
   "cell_type": "markdown",
   "metadata": {},
   "source": [
    "<img style=\"float: left; margin-right: 15px; width: 30%; height: 30%;\" src=\"images/imdb.jpg\" />"
   ]
  },
  {
   "cell_type": "markdown",
   "metadata": {},
   "source": [
    "# Purpose\n",
    "\n",
    "The overall goal of this set of write-ups is to explore a number of machine learning algorithms utilizing natural language processing (NLP) to classify the sentiment in a set of IMDB movie reviews.\n",
    "\n",
    "The specific goals of this write-up include:\n",
    "1. Create a sparser feature set by removing words not directly related to sentiment\n",
    "2. Run the models from the [last write-up](./Model-06.ipynb) against the new feature set\n",
    "3. Determine if the new feature set improves our ability to correctly classify movie review sentiment\n",
    "\n",
    "This series of write-ups is inspired by the Kaggle [\n",
    "Bag of Words Meets Bags of Popcorn](https://www.kaggle.com/c/word2vec-nlp-tutorial) competition.    \n",
    "\n",
    "Dataset source:  [IMDB Movie Reviews](https://www.kaggle.com/c/word2vec-nlp-tutorial/data)"
   ]
  },
  {
   "cell_type": "markdown",
   "metadata": {},
   "source": [
    "# Process\n",
    "\n",
    "Previously covered [here](./Model-06.ipynb#Process)."
   ]
  },
  {
   "cell_type": "markdown",
   "metadata": {},
   "source": [
    "# Configure notebook, import libraries, and import dataset"
   ]
  },
  {
   "cell_type": "markdown",
   "metadata": {
    "ExecuteTime": {
     "end_time": "2018-10-16T15:16:22.416553Z",
     "start_time": "2018-10-16T15:16:22.413553Z"
    }
   },
   "source": [
    "##### Import libraries"
   ]
  },
  {
   "cell_type": "code",
   "execution_count": 7,
   "metadata": {
    "ExecuteTime": {
     "end_time": "2018-10-16T15:18:00.709352Z",
     "start_time": "2018-10-16T15:18:00.335352Z"
    }
   },
   "outputs": [
    {
     "name": "stdout",
     "output_type": "stream",
     "text": [
      "The autoreload extension is already loaded. To reload it, use:\n",
      "  %reload_ext autoreload\n"
     ]
    }
   ],
   "source": [
    "%matplotlib inline\n",
    "%load_ext autoreload\n",
    "%autoreload 2\n",
    "\n",
    "import warnings\n",
    "warnings.filterwarnings('ignore')\n",
    "\n",
    "import os\n",
    "import re\n",
    "import numpy as np\n",
    "import matplotlib.pyplot as plt\n",
    "import seaborn as sns\n",
    "\n",
    "import pandas as pd\n",
    "from pandas import set_option\n",
    "\n",
    "from sklearn.feature_extraction.text import CountVectorizer\n",
    "\n",
    "from sklearn.linear_model import LogisticRegression\n",
    "from sklearn.tree import DecisionTreeClassifier\n",
    "from sklearn.neighbors import KNeighborsClassifier\n",
    "from sklearn.discriminant_analysis import LinearDiscriminantAnalysis\n",
    "from sklearn.naive_bayes import GaussianNB\n",
    "from sklearn.svm import SVC\n",
    "\n",
    "from sklearn.feature_selection import SelectKBest\n",
    "from sklearn.feature_selection import f_regression\n",
    "\n",
    "from sklearn.pipeline import Pipeline\n",
    "from sklearn.pipeline import FeatureUnion\n",
    "\n",
    "from sklearn.ensemble import AdaBoostClassifier\n",
    "from sklearn.ensemble import GradientBoostingClassifier\n",
    "from sklearn.ensemble import RandomForestClassifier\n",
    "from sklearn.ensemble import ExtraTreesClassifier\n",
    "\n",
    "from sklearn.model_selection import train_test_split\n",
    "from sklearn.model_selection import KFold\n",
    "from sklearn.model_selection import cross_val_score\n",
    "from sklearn.model_selection import GridSearchCV\n",
    "\n",
    "from sklearn.preprocessing import StandardScaler\n",
    "\n",
    "from sklearn.metrics import classification_report\n",
    "from sklearn.metrics import confusion_matrix\n",
    "from sklearn.metrics import accuracy_score\n",
    "\n",
    "# http://www.nltk.org/index.html\n",
    "# pip install nltk\n",
    "import nltk\n",
    "from nltk.corpus import stopwords\n",
    "\n",
    "# https://www.crummy.com/software/BeautifulSoup/bs4/doc/\n",
    "# pip install BeautifulSoup4\n",
    "from bs4 import BeautifulSoup"
   ]
  },
  {
   "cell_type": "markdown",
   "metadata": {},
   "source": [
    "##### Define global variables"
   ]
  },
  {
   "cell_type": "code",
   "execution_count": 8,
   "metadata": {
    "ExecuteTime": {
     "end_time": "2018-10-16T15:18:01.561352Z",
     "start_time": "2018-10-16T15:18:01.202352Z"
    }
   },
   "outputs": [],
   "source": [
    "seed = 10\n",
    "np.random.seed(seed)\n",
    "\n",
    "# Opens a GUI that allows us to download the NLTK data\n",
    "# nltk.download()\n",
    "\n",
    "dataPath = os.path.join('.', 'datasets', 'imdb_movie_reviews')\n",
    "labeledTrainData = os.path.join(dataPath, 'labeledTrainData.tsv')"
   ]
  },
  {
   "cell_type": "markdown",
   "metadata": {},
   "source": [
    "##### Import dataset"
   ]
  },
  {
   "cell_type": "code",
   "execution_count": 9,
   "metadata": {
    "ExecuteTime": {
     "end_time": "2018-10-16T15:18:03.530352Z",
     "start_time": "2018-10-16T15:18:02.789352Z"
    }
   },
   "outputs": [],
   "source": [
    "df = pd.read_csv(labeledTrainData, sep = '\\t', header = 0, quoting = 3)"
   ]
  },
  {
   "cell_type": "markdown",
   "metadata": {},
   "source": [
    "# Examine the data\n",
    "\n",
    "Previously covered [here](./Model-06.ipynb#Examine-the-data)."
   ]
  },
  {
   "cell_type": "markdown",
   "metadata": {},
   "source": [
    "# Cleaning and preprocessing\n",
    "\n",
    "Process justification and methodology previously covered [here](./Model-06.ipynb#Cleaning-and-preprocessing).\n",
    "\n",
    "Define a 'cleaning' function, and clean the training set:"
   ]
  },
  {
   "cell_type": "code",
   "execution_count": 10,
   "metadata": {
    "ExecuteTime": {
     "end_time": "2018-10-16T15:18:04.744352Z",
     "start_time": "2018-10-16T15:18:04.382352Z"
    }
   },
   "outputs": [],
   "source": [
    "# Convert the stop words to a set\n",
    "stopWords = set(stopwords.words(\"english\"))\n",
    "\n",
    "# Clean IMDB review text\n",
    "def cleanReview(review, stopWords):\n",
    "    # Remove HTML\n",
    "    clean = BeautifulSoup(review)\n",
    "    \n",
    "    # Remove non-alpha chars\n",
    "    clean = re.sub(\"[^a-zA-Z]\", ' ', clean.get_text())\n",
    "    \n",
    "    # Convert to lower case and \"tokenize\"\n",
    "    clean = clean.lower().split()\n",
    "    \n",
    "    # Remove stop words\n",
    "    clean = [x for x in clean if not x in stopWords]\n",
    "\n",
    "    # Prepare final, cleaned review\n",
    "    clean = \" \".join(clean)\n",
    "    \n",
    "    # Return results\n",
    "    return clean\n",
    "    "
   ]
  },
  {
   "cell_type": "code",
   "execution_count": null,
   "metadata": {
    "ExecuteTime": {
     "start_time": "2018-10-17T16:44:26.828Z"
    }
   },
   "outputs": [],
   "source": [
    "cleanReviews = [cleanReview(x, stopWords) for x in df['review']]\n",
    "assert(len(df) == (len(cleanReviews)))"
   ]
  },
  {
   "cell_type": "markdown",
   "metadata": {},
   "source": [
    "# Bag-of-words feature creation\n",
    "\n",
    "Initial discussion of the `bag-of-words` algorithm was previously covered [here](./Model-06.ipynb#Bag-of-words-feature-creation)."
   ]
  },
  {
   "cell_type": "markdown",
   "metadata": {},
   "source": [
    "Next, in the [first write-up](http://localhost:8888/notebooks/Machine-Learning/Python/04-Classic-Datasets/Model-06.ipynb) of this series we examined a sample review--index 108--during the analysis, cleaning, and preprocessing.  We'll post it here again for reference:"
   ]
  },
  {
   "cell_type": "code",
   "execution_count": 73,
   "metadata": {
    "ExecuteTime": {
     "end_time": "2018-10-17T00:40:27.040405Z",
     "start_time": "2018-10-17T00:40:26.660412Z"
    }
   },
   "outputs": [
    {
     "data": {
      "text/plain": [
       "'question one sees movie bad necessarily movie bad get made even see awful first place learned experience learned rules horror movies catalogued satirized countless times last ten years mean someone go ahead make movie uses without shred humor irony movie described loosely based video game script problems black character may always die first asian character always know kung fu may proud figured matrix effect budget necessarily mean use ad nausea ron howard brother guarantee choice roles whenever scene edit together use footage video game one notice cousin rap metal band offers write movie theme free politely decline zombie movies people killing zombies zombies killing people preferably gruesome way possible makes scary white people pay get rave deserve die find old book tell everything need know anything else figure two lines someone asks bare breasts horror movie panacea helicopter boom shot licensing deal sega magically transforms movie student film major studio release try name drop three living dead movies make george romero even paul w anderson seen worse movies seen mortal kombat annihilation'"
      ]
     },
     "execution_count": 73,
     "metadata": {},
     "output_type": "execute_result"
    }
   ],
   "source": [
    "cleanReviews[108]"
   ]
  },
  {
   "cell_type": "markdown",
   "metadata": {},
   "source": [
    "Since the bag-of-words creation is doing a word count analysis I wanted to explore what would happen if we removed the 'noise' from the reviews.  (And by 'noise' I mean words that likely wouldn't help or hinder sentiment.)  From the review text above we have this string sample for instance:\n",
    "\n",
    "```\n",
    "whenever scene edit together use footage video game one notice cousin rap metal band offers\n",
    "```\n",
    "\n",
    "It is doubtful this series of words will give the model any 'insights' into if this is a positive or negative review.  However, this next string sample does seem like it would give an indication to review sentiment:\n",
    "\n",
    "```\n",
    "question one sees movie bad necessarily movie bad get made even see awful\n",
    "```\n",
    "\n",
    "In order to explore this idea let's load a sentiment lexicon into the notebook, and then remove any 'noise' words not found in the sentiment lexicon from the review texts.  We'll then run the 'de-noised' review texts through the same models as we did in the [previous write-up](./Model-06.ipynb), and see if we gain any improvements in speed and/or accuracy."
   ]
  },
  {
   "cell_type": "markdown",
   "metadata": {},
   "source": [
    "##### Download the sentiment lexicon\n",
    "\n",
    "The sentiment lexicon we'll utilize can be found here:  https://www.cs.uic.edu/~liub/FBS/sentiment-analysis.html#lexicon\n",
    "\n",
    "Using a few commands we can download and extract it:\n",
    "\n",
    "```\n",
    "wget https://www.cs.uic.edu/~liub/FBS/opinion-lexicon-English.rar\n",
    "unrar e opinion-lexicon-English.rar\n",
    "```"
   ]
  },
  {
   "cell_type": "markdown",
   "metadata": {},
   "source": [
    "##### Applying the sentiment lexicon  - Single observation\n",
    "\n",
    "Next we'll want to combine all the positive and negative sentiment words into a single list, and then remove any words from the reviews not found in the sentiment lexicon:"
   ]
  },
  {
   "cell_type": "code",
   "execution_count": 42,
   "metadata": {
    "ExecuteTime": {
     "end_time": "2018-10-16T17:39:03.244488Z",
     "start_time": "2018-10-16T17:39:02.871488Z"
    }
   },
   "outputs": [],
   "source": [
    "# Combine the positive and negative lists of sentiment lexicon words\n",
    "\n",
    "with open(os.path.join('.', 'datasets', 'positive-words.txt')) as f:\n",
    "    _positive = f.read().splitlines()\n",
    "    \n",
    "with open(os.path.join('.', 'datasets', 'negative-words.txt')) as f:\n",
    "    _negative = f.read().splitlines()\n",
    "    \n",
    "allWords = _positive[35:] + _negative[35:]\n",
    "\n",
    "assert( len(allWords) == (len(_positive[35:]) + len(_negative[35:])) )"
   ]
  },
  {
   "cell_type": "code",
   "execution_count": 44,
   "metadata": {
    "ExecuteTime": {
     "end_time": "2018-10-16T17:40:31.889487Z",
     "start_time": "2018-10-16T17:40:31.519487Z"
    }
   },
   "outputs": [
    {
     "data": {
      "text/plain": [
       "'question one sees movie bad necessarily movie bad get made even see awful first place learned experience learned rules horror movies catalogued satirized countless times last ten years mean someone go ahead make movie uses without shred humor irony movie described loosely based video game script problems black character may always die first asian character always know kung fu may proud figured matrix effect budget necessarily mean use ad nausea ron howard brother guarantee choice roles whenever scene edit together use footage video game one notice cousin rap metal band offers write movie theme free politely decline zombie movies people killing zombies zombies killing people preferably gruesome way possible makes scary white people pay get rave deserve die find old book tell everything need know anything else figure two lines someone asks bare breasts horror movie panacea helicopter boom shot licensing deal sega magically transforms movie student film major studio release try name drop three living dead movies make george romero even paul w anderson seen worse movies seen mortal kombat annihilation'"
      ]
     },
     "execution_count": 44,
     "metadata": {},
     "output_type": "execute_result"
    }
   ],
   "source": [
    "# Preview our sample review before sentiment lexicon parsing\n",
    "cleanReviews[108]"
   ]
  },
  {
   "cell_type": "code",
   "execution_count": 51,
   "metadata": {
    "ExecuteTime": {
     "end_time": "2018-10-16T17:42:30.625486Z",
     "start_time": "2018-10-16T17:42:30.244486Z"
    }
   },
   "outputs": [],
   "source": [
    "# Apply the sentiment lexicon parsing\n",
    "_tmp = [x for x in cleanReviews[108].split() if x in allWords]"
   ]
  },
  {
   "cell_type": "code",
   "execution_count": 53,
   "metadata": {
    "ExecuteTime": {
     "end_time": "2018-10-16T17:43:50.210486Z",
     "start_time": "2018-10-16T17:43:49.835486Z"
    }
   },
   "outputs": [
    {
     "data": {
      "text/plain": [
       "['bad',\n",
       " 'bad',\n",
       " 'awful',\n",
       " 'humor',\n",
       " 'irony',\n",
       " 'problems',\n",
       " 'die',\n",
       " 'proud',\n",
       " 'guarantee',\n",
       " 'free',\n",
       " 'decline',\n",
       " 'zombie',\n",
       " 'killing',\n",
       " 'killing',\n",
       " 'preferably',\n",
       " 'gruesome',\n",
       " 'scary',\n",
       " 'die',\n",
       " 'boom',\n",
       " 'dead',\n",
       " 'worse',\n",
       " 'annihilation']"
      ]
     },
     "execution_count": 53,
     "metadata": {},
     "output_type": "execute_result"
    }
   ],
   "source": [
    "# Example the 'de-noised' list of remaining words\n",
    "_tmp"
   ]
  },
  {
   "cell_type": "markdown",
   "metadata": {},
   "source": [
    "##### Applying the sentiment lexicon  - All observations\n",
    "\n",
    "Everything looks good so far, so let's 'de-noise' the entire dataset:"
   ]
  },
  {
   "cell_type": "code",
   "execution_count": 56,
   "metadata": {
    "ExecuteTime": {
     "end_time": "2018-10-16T17:48:37.461484Z",
     "start_time": "2018-10-16T17:45:11.625485Z"
    }
   },
   "outputs": [],
   "source": [
    "sparseCleanReviews = []\n",
    "\n",
    "for review in cleanReviews:\n",
    "    _tmp = [x for x in review.split() if x in allWords]\n",
    "    sparseCleanReviews.append(\" \".join(_tmp))"
   ]
  },
  {
   "cell_type": "code",
   "execution_count": 75,
   "metadata": {
    "ExecuteTime": {
     "end_time": "2018-10-17T00:40:27.792392Z",
     "start_time": "2018-10-17T00:40:27.418399Z"
    }
   },
   "outputs": [
    {
     "data": {
      "text/plain": [
       "'bad bad awful humor irony problems die proud guarantee free decline zombie killing killing preferably gruesome scary die boom dead worse annihilation'"
      ]
     },
     "execution_count": 75,
     "metadata": {},
     "output_type": "execute_result"
    }
   ],
   "source": [
    "# Sanity check examination\n",
    "\n",
    "sparseCleanReviews[108]"
   ]
  },
  {
   "cell_type": "markdown",
   "metadata": {},
   "source": [
    "##### CountVectorizer application\n",
    "\n",
    "We'll now simply repeat the CountVectorizer steps as we did in the [first write-up](./Model-06.ipynb) to create the 'bags-of-words' numeric representation of the 'de-noised' reviews suitable for the machine learning model."
   ]
  },
  {
   "cell_type": "code",
   "execution_count": 59,
   "metadata": {
    "ExecuteTime": {
     "end_time": "2018-10-16T17:50:56.574484Z",
     "start_time": "2018-10-16T17:50:55.540484Z"
    }
   },
   "outputs": [
    {
     "name": "stdout",
     "output_type": "stream",
     "text": [
      "Features shape:  (25000, 5000)\n"
     ]
    }
   ],
   "source": [
    "# Utilize the defaults for the object instantiation other than max_features\n",
    "vec = CountVectorizer(max_features = 5000)\n",
    "\n",
    "# Similar to how almost every other Scikit-Learn objects works we'll call the fit() and transform() methods\n",
    "features = vec.fit_transform(sparseCleanReviews)\n",
    "\n",
    "# And finally we'll convert to a np.array\n",
    "features = features.toarray()\n",
    "\n",
    "print(\"Features shape: \", features.shape)"
   ]
  },
  {
   "cell_type": "markdown",
   "metadata": {},
   "source": [
    "##### Examine vocabulary\n",
    "\n",
    "We'll examine what the 'de-noising' did to the top ten top and bottom vocabulary listings:"
   ]
  },
  {
   "cell_type": "code",
   "execution_count": 60,
   "metadata": {
    "ExecuteTime": {
     "end_time": "2018-10-16T17:51:27.545484Z",
     "start_time": "2018-10-16T17:51:27.160484Z"
    }
   },
   "outputs": [
    {
     "name": "stdout",
     "output_type": "stream",
     "text": [
      "['abnormal', 'abolish', 'abominable', 'abominably', 'abomination', 'abort', 'aborted', 'aborts', 'abound', 'abounds']\n"
     ]
    }
   ],
   "source": [
    "# Take a look at the first 10 words in the vocabulary\n",
    "vocab = vec.get_feature_names()\n",
    "print(vocab[:10])"
   ]
  },
  {
   "cell_type": "code",
   "execution_count": 61,
   "metadata": {
    "ExecuteTime": {
     "end_time": "2018-10-16T17:51:45.759484Z",
     "start_time": "2018-10-16T17:51:44.254484Z"
    }
   },
   "outputs": [],
   "source": [
    "_df = pd.DataFrame(data = features, columns = vocab).sum()\n",
    "_df.sort_values(ascending = False, inplace = True)"
   ]
  },
  {
   "cell_type": "code",
   "execution_count": 62,
   "metadata": {
    "ExecuteTime": {
     "end_time": "2018-10-16T17:51:54.571484Z",
     "start_time": "2018-10-16T17:51:54.200484Z"
    }
   },
   "outputs": [
    {
     "name": "stdout",
     "output_type": "stream",
     "text": [
      "Top 10:\n",
      "\n",
      "like      20274\n",
      "good      15140\n",
      "well      10662\n",
      "bad        9301\n",
      "great      9058\n",
      "plot       6585\n",
      "love       6454\n",
      "best       6416\n",
      "better     5737\n",
      "work       4372\n",
      "dtype: int64\n"
     ]
    }
   ],
   "source": [
    "print(\"Top 10:\\n\")\n",
    "print(_df.head(10))"
   ]
  },
  {
   "cell_type": "markdown",
   "metadata": {},
   "source": [
    "Original 'Top 10' before 'de-noising':\n",
    "\n",
    "```\n",
    "Top 10:\n",
    "\n",
    "movie     44031\n",
    "film      40147\n",
    "one       26788\n",
    "like      20274\n",
    "good      15140\n",
    "time      12724\n",
    "even      12646\n",
    "would     12436\n",
    "story     11983\n",
    "really    11736\n",
    "```"
   ]
  },
  {
   "cell_type": "code",
   "execution_count": 63,
   "metadata": {
    "ExecuteTime": {
     "end_time": "2018-10-16T17:52:06.023484Z",
     "start_time": "2018-10-16T17:52:05.650484Z"
    }
   },
   "outputs": [
    {
     "name": "stdout",
     "output_type": "stream",
     "text": [
      "Bottom 10:\n",
      "\n",
      "hothead          1\n",
      "pillory          1\n",
      "immorally        1\n",
      "immodest         1\n",
      "beckoned         1\n",
      "beckoning        1\n",
      "immoderate       1\n",
      "horrify          1\n",
      "hotbeds          1\n",
      "overbearingly    1\n",
      "dtype: int64\n"
     ]
    }
   ],
   "source": [
    "print(\"Bottom 10:\\n\")\n",
    "print(_df.tail(10))"
   ]
  },
  {
   "cell_type": "markdown",
   "metadata": {},
   "source": [
    "Original 'Bottom 10' before 'de-noising':\n",
    "\n",
    "```\n",
    "Bottom 10:\n",
    "\n",
    "skull       78\n",
    "sopranos    78\n",
    "premiere    78\n",
    "bunny       78\n",
    "flair       78\n",
    "fishing     78\n",
    "awhile      78\n",
    "stumbled    78\n",
    "amused      78\n",
    "cream       78\n",
    "```"
   ]
  },
  {
   "cell_type": "markdown",
   "metadata": {},
   "source": [
    "# Baseline Model development"
   ]
  },
  {
   "cell_type": "markdown",
   "metadata": {},
   "source": [
    "We are finally ready to develop the baseline model on the data we've explored, cleaned, and processed.  Because the IMDB data set doesn't include a validation set we'll create one from a portion of the training data.  The processes is similar to our work in previous write-ups such as the [Iris classifier](.//Model-01.ipynb)."
   ]
  },
  {
   "cell_type": "markdown",
   "metadata": {},
   "source": [
    "## Helper functions"
   ]
  },
  {
   "cell_type": "code",
   "execution_count": 67,
   "metadata": {
    "ExecuteTime": {
     "end_time": "2018-10-16T17:54:08.055484Z",
     "start_time": "2018-10-16T17:54:07.683484Z"
    }
   },
   "outputs": [],
   "source": [
    "def makeRange(start, stop, step, multi, dec):\n",
    "    vals = []\n",
    "    for i in range(start, stop, step):\n",
    "        vals.append(np.round(multi * i, decimals = dec))\n",
    "        \n",
    "    return vals"
   ]
  },
  {
   "cell_type": "code",
   "execution_count": 68,
   "metadata": {
    "ExecuteTime": {
     "end_time": "2018-10-16T17:54:10.609484Z",
     "start_time": "2018-10-16T17:54:10.230484Z"
    }
   },
   "outputs": [],
   "source": [
    "def tuneModel(modelName, modelObj, params, returnModel = False, showSummary = True):\n",
    "    # Init vars and params\n",
    "    featureResults = {}\n",
    "    featureFolds = 10\n",
    "    featureSeed = 10\n",
    "\n",
    "    # Use accuracy since this is a classification problem\n",
    "    score = 'accuracy'\n",
    "\n",
    "    # Create a Pandas DF to hold all our spiffy results\n",
    "    featureDF = pd.DataFrame(columns = ['Model', 'Accuracy', 'Best Params'])\n",
    "\n",
    "    # Create feature union\n",
    "    features = []\n",
    "    # The independant variables (i.e. word counts) are already scaled; no need to do it again \n",
    "    features.append(('Scaler', StandardScaler()))\n",
    "    featureUnion = FeatureUnion(features)\n",
    "\n",
    "    # Search for the best combination of parameters\n",
    "    featureResults = GridSearchCV(\n",
    "        Pipeline(\n",
    "            steps = [\n",
    "                ('FeatureUnion', featureUnion),\n",
    "                (modelName, modelObj)\n",
    "        ]),\n",
    "        param_grid = params,\n",
    "        scoring = score,\n",
    "        cv = KFold(n_splits = featureFolds, random_state = featureSeed)      \n",
    "    ).fit(xTrain, yTrain)\n",
    "\n",
    "    featureDF.loc[len(featureDF)] = list([\n",
    "        modelName, \n",
    "        featureResults.best_score_,\n",
    "        featureResults.best_params_,\n",
    "    ])\n",
    "\n",
    "    if showSummary:\n",
    "        set_option('display.max_colwidth', -1)\n",
    "        display(featureDF)\n",
    "    \n",
    "    if returnModel:\n",
    "        return featureResults"
   ]
  },
  {
   "cell_type": "markdown",
   "metadata": {},
   "source": [
    "## Create validation data set"
   ]
  },
  {
   "cell_type": "code",
   "execution_count": 69,
   "metadata": {
    "ExecuteTime": {
     "end_time": "2018-10-16T17:54:17.891484Z",
     "start_time": "2018-10-16T17:54:17.144484Z"
    }
   },
   "outputs": [
    {
     "name": "stdout",
     "output_type": "stream",
     "text": [
      "x.shape =  (25000, 5000)\n",
      "y.shape =  (25000,)\n",
      "--------\n",
      "xTrain.shape =  (20000, 5000)\n",
      "yTrain.shape =  (20000,)\n",
      "xVal.shape =  (5000, 5000)\n",
      "yVal.shape =  (5000,)\n"
     ]
    }
   ],
   "source": [
    "# Seperate X and Y values\n",
    "x = features\n",
    "y = df[\"sentiment\"]\n",
    "\n",
    "print(\"x.shape = \", x.shape)\n",
    "print(\"y.shape = \", y.shape)\n",
    "\n",
    "# Split out validation set -- 80/20 split\n",
    "valSize = 0.2\n",
    "\n",
    "xTrain, xVal, yTrain, yVal = train_test_split(x, y, test_size = valSize, random_state = seed)\n",
    "\n",
    "print(\"--------\")\n",
    "print(\"xTrain.shape = \", xTrain.shape)\n",
    "print(\"yTrain.shape = \", yTrain.shape)\n",
    "print(\"xVal.shape = \", xVal.shape)\n",
    "print(\"yVal.shape = \", yVal.shape)"
   ]
  },
  {
   "cell_type": "markdown",
   "metadata": {},
   "source": [
    "## Initial pass - Non-ensemble methods\n",
    "\n",
    "We'll apply a number of non-ensemble algorithms to the data set to start with.  Scikit-learn makes this very easy to do along with the fact that the data set isn't overly large, and we've already done similar work in previous write-ups we can 'borrow.'\n",
    "\n",
    "*Note:  The code block below took several hours on my machine, so you may want to run this overnight.*"
   ]
  },
  {
   "cell_type": "code",
   "execution_count": 70,
   "metadata": {
    "ExecuteTime": {
     "end_time": "2018-10-17T00:40:25.875425Z",
     "start_time": "2018-10-16T17:54:36.037484Z"
    }
   },
   "outputs": [
    {
     "name": "stdout",
     "output_type": "stream",
     "text": [
      "Training LR ....\n",
      "Training LDA ....\n",
      "Training KNN ....\n",
      "Training CART ....\n",
      "Training NB ....\n",
      "Training SVM ....\n"
     ]
    },
    {
     "data": {
      "text/html": [
       "<div>\n",
       "<style scoped>\n",
       "    .dataframe tbody tr th:only-of-type {\n",
       "        vertical-align: middle;\n",
       "    }\n",
       "\n",
       "    .dataframe tbody tr th {\n",
       "        vertical-align: top;\n",
       "    }\n",
       "\n",
       "    .dataframe thead th {\n",
       "        text-align: right;\n",
       "    }\n",
       "</style>\n",
       "<table border=\"1\" class=\"dataframe\">\n",
       "  <thead>\n",
       "    <tr style=\"text-align: right;\">\n",
       "      <th></th>\n",
       "      <th>Model</th>\n",
       "      <th>Accuracy</th>\n",
       "      <th>StdDev</th>\n",
       "    </tr>\n",
       "  </thead>\n",
       "  <tbody>\n",
       "    <tr>\n",
       "      <th>0</th>\n",
       "      <td>LR</td>\n",
       "      <td>0.84255</td>\n",
       "      <td>0.012620</td>\n",
       "    </tr>\n",
       "    <tr>\n",
       "      <th>1</th>\n",
       "      <td>LDA</td>\n",
       "      <td>0.78960</td>\n",
       "      <td>0.008859</td>\n",
       "    </tr>\n",
       "    <tr>\n",
       "      <th>5</th>\n",
       "      <td>SVM</td>\n",
       "      <td>0.78680</td>\n",
       "      <td>0.009152</td>\n",
       "    </tr>\n",
       "    <tr>\n",
       "      <th>3</th>\n",
       "      <td>CART</td>\n",
       "      <td>0.72200</td>\n",
       "      <td>0.009897</td>\n",
       "    </tr>\n",
       "    <tr>\n",
       "      <th>2</th>\n",
       "      <td>KNN</td>\n",
       "      <td>0.67495</td>\n",
       "      <td>0.014413</td>\n",
       "    </tr>\n",
       "    <tr>\n",
       "      <th>4</th>\n",
       "      <td>NB</td>\n",
       "      <td>0.61830</td>\n",
       "      <td>0.011656</td>\n",
       "    </tr>\n",
       "  </tbody>\n",
       "</table>\n",
       "</div>"
      ],
      "text/plain": [
       "  Model  Accuracy    StdDev\n",
       "0    LR   0.84255  0.012620\n",
       "1   LDA   0.78960  0.008859\n",
       "5   SVM   0.78680  0.009152\n",
       "3  CART   0.72200  0.009897\n",
       "2   KNN   0.67495  0.014413\n",
       "4    NB   0.61830  0.011656"
      ]
     },
     "execution_count": 70,
     "metadata": {},
     "output_type": "execute_result"
    }
   ],
   "source": [
    "# Init vars\n",
    "folds = 10\n",
    "seed = 10\n",
    "models = []\n",
    "results = {}\n",
    "\n",
    "# Use accuracy since this is a classification\n",
    "score = 'accuracy'\n",
    "\n",
    "# Instantiate model objects\n",
    "models.append(('LR', LogisticRegression()))\n",
    "models.append(('LDA', LinearDiscriminantAnalysis()))\n",
    "models.append(('KNN', KNeighborsClassifier()))\n",
    "models.append(('CART', DecisionTreeClassifier()))\n",
    "models.append(('NB', GaussianNB()))\n",
    "models.append(('SVM', SVC()))\n",
    "\n",
    "# Create a Pandas DF to hold all our spiffy results\n",
    "_df = pd.DataFrame(columns = ['Model', 'Accuracy', 'StdDev'])\n",
    "\n",
    "# Run the models\n",
    "for modelName, model in models:\n",
    "    print(\"Training\", modelName, \"....\")\n",
    "    # Implement K-fold cross validation where K = 10\n",
    "    kFold = KFold(n_splits = folds, random_state = seed)\n",
    "    results[modelName] = cross_val_score(model, xTrain, yTrain, cv = kFold, scoring = score)\n",
    "    _df.loc[len(_df)] = list([modelName, results[modelName].mean(), results[modelName].std()])\n",
    "\n",
    "# Print results sorted by Mean desc, StdDev asc, Model asc\n",
    "_df.sort_values(by = ['Accuracy', 'StdDev', 'Model'], ascending = [False, True, True])"
   ]
  },
  {
   "cell_type": "code",
   "execution_count": 76,
   "metadata": {
    "ExecuteTime": {
     "end_time": "2018-10-17T14:18:51.767597Z",
     "start_time": "2018-10-17T14:18:50.771813Z"
    }
   },
   "outputs": [
    {
     "data": {
      "image/png": "[encoded data removed]",
      "text/plain": [
       "<Figure size 576x432 with 1 Axes>"
      ]
     },
     "metadata": {},
     "output_type": "display_data"
    }
   ],
   "source": [
    "figure = plt.figure(figsize = (8,6))\n",
    "figure.suptitle(\"Model Results\")\n",
    "axis = figure.add_subplot(111)\n",
    "plt.boxplot(results.values())\n",
    "axis.set_xticklabels(results.keys())\n",
    "plt.show()"
   ]
  },
  {
   "cell_type": "markdown",
   "metadata": {},
   "source": [
    "Once the results of these models are compared to the training results in the [first write-up](./Model-06.ipynb) of this series we can see we lost performance for every model.  We did gain; however, a boost in speed at least for the LR model.  It completed in a matter of minutes.  The SVM model did not fair so well; it took almost 5 hours for it to complete.\n",
    "\n",
    "Overall I'd say this idea--at least for this set of models--is a bust, and we'll retain our earlier work as the baseline for comparison.  \n",
    "\n",
    "Here are the original results for reference:\n",
    "\n",
    "<img style=\"float: left; margin-right: 15px; width: 65%; height: 65%;\" src=\"images/model-06-first-run-results.png\" />"
   ]
  },
  {
   "cell_type": "markdown",
   "metadata": {},
   "source": [
    "### LR Tuning"
   ]
  },
  {
   "cell_type": "code",
   "execution_count": null,
   "metadata": {
    "ExecuteTime": {
     "start_time": "2018-10-17T14:25:54.682Z"
    }
   },
   "outputs": [],
   "source": [
    "modelName = \"LR\"\n",
    "modelObj =  LogisticRegression()\n",
    "params = {\n",
    "    'LR__penalty' : [ 'l1', 'l2' ],\n",
    "    'LR__C' : makeRange(1, 21, 1, 0.1, 1),\n",
    "}\n",
    "\n",
    "tuneModel(modelName, modelObj, params)"
   ]
  },
  {
   "cell_type": "markdown",
   "metadata": {},
   "source": [
    "### LR Tuning Comments\n",
    "\n",
    "The cell above took a little over 15 hours to complete, and we gained around 1% in accuracy.  Was it worth it?  Probably not, because I'm assuming models we'll develop and assess later on will have better performance.\n",
    "\n",
    "What we did gain; however, is a solid example of why a quick and dirty model is a valuable thing to create early on in the process.  It gives you a baseline you can measure further efforts and gains against.  So in this case we know that the baseline model which took a fraction of the time is almost just as good as a time consuming model we had to run overnight.  Clearly there isn't a good ratio of efforts-to-results here, and so we either need to 1) settle on the baseline LR model to meet our needs, or 2) explore some other avenues.\n",
    "\n",
    "If we choose option two then we can continue to compare against the baseline model to guide our efforts and hopefully avoid wasting lots of time with suboptimal solutions."
   ]
  },
  {
   "cell_type": "markdown",
   "metadata": {},
   "source": [
    "## Initial pass - Ensemble methods\n",
    "\n",
    "Next up we'll see how a selection of ensemble methods perform on the 'de-noised' data.\n",
    "\n",
    "*Note:  The code block below took around 1.5 hours to complete, so you may want to run this over lunch.*"
   ]
  },
  {
   "cell_type": "code",
   "execution_count": 77,
   "metadata": {
    "ExecuteTime": {
     "end_time": "2018-10-17T15:43:39.942796Z",
     "start_time": "2018-10-17T14:19:26.665219Z"
    }
   },
   "outputs": [
    {
     "name": "stdout",
     "output_type": "stream",
     "text": [
      "Training AB ....\n",
      "Training GBM ....\n",
      "Training RF ....\n",
      "Training ET ....\n"
     ]
    },
    {
     "data": {
      "text/html": [
       "<div>\n",
       "<style scoped>\n",
       "    .dataframe tbody tr th:only-of-type {\n",
       "        vertical-align: middle;\n",
       "    }\n",
       "\n",
       "    .dataframe tbody tr th {\n",
       "        vertical-align: top;\n",
       "    }\n",
       "\n",
       "    .dataframe thead th {\n",
       "        text-align: right;\n",
       "    }\n",
       "</style>\n",
       "<table border=\"1\" class=\"dataframe\">\n",
       "  <thead>\n",
       "    <tr style=\"text-align: right;\">\n",
       "      <th></th>\n",
       "      <th>Model</th>\n",
       "      <th>Accuracy</th>\n",
       "      <th>StdDev</th>\n",
       "    </tr>\n",
       "  </thead>\n",
       "  <tbody>\n",
       "    <tr>\n",
       "      <th>3</th>\n",
       "      <td>ET</td>\n",
       "      <td>0.79860</td>\n",
       "      <td>0.009452</td>\n",
       "    </tr>\n",
       "    <tr>\n",
       "      <th>1</th>\n",
       "      <td>GBM</td>\n",
       "      <td>0.79690</td>\n",
       "      <td>0.010986</td>\n",
       "    </tr>\n",
       "    <tr>\n",
       "      <th>0</th>\n",
       "      <td>AB</td>\n",
       "      <td>0.79685</td>\n",
       "      <td>0.008989</td>\n",
       "    </tr>\n",
       "    <tr>\n",
       "      <th>2</th>\n",
       "      <td>RF</td>\n",
       "      <td>0.79155</td>\n",
       "      <td>0.009819</td>\n",
       "    </tr>\n",
       "  </tbody>\n",
       "</table>\n",
       "</div>"
      ],
      "text/plain": [
       "  Model  Accuracy    StdDev\n",
       "3    ET   0.79860  0.009452\n",
       "1   GBM   0.79690  0.010986\n",
       "0    AB   0.79685  0.008989\n",
       "2    RF   0.79155  0.009819"
      ]
     },
     "metadata": {},
     "output_type": "display_data"
    }
   ],
   "source": [
    "# Init vars and params\n",
    "eModels = []\n",
    "eResults = {}\n",
    "eFolds = 10\n",
    "eSeed = 10\n",
    "\n",
    "# Use accuracy since this is a classification problem\n",
    "eScore = 'accuracy'\n",
    "\n",
    "# Create a Pandas DF to hold all our spiffy results\n",
    "eDF = pd.DataFrame(columns = ['Model', 'Accuracy', 'StdDev'])\n",
    "\n",
    "# Create the scaled model objects\n",
    "eModels.append(('AB', AdaBoostClassifier()))\n",
    "eModels.append(('GBM', GradientBoostingClassifier()))\n",
    "eModels.append(('RF', RandomForestClassifier()))\n",
    "eModels.append(('ET', ExtraTreesClassifier()))\n",
    "\n",
    "# Run the models\n",
    "for modelName, model in eModels:\n",
    "    print(\"Training\", modelName, \"....\")\n",
    "    # Implement K-fold cross validation where K = 10\n",
    "    kFold = KFold(n_splits = eFolds, random_state = eSeed)\n",
    "    eResults[modelName] = cross_val_score(model, xTrain, yTrain, cv = kFold, scoring = eScore)\n",
    "    eDF.loc[len(eDF)] = list([modelName, eResults[modelName].mean(), eResults[modelName].std()])\n",
    "\n",
    "# Print results sorted by Mean desc, StdDev asc, Model asc\n",
    "display(eDF.sort_values(by = ['Accuracy', 'StdDev', 'Model'], ascending = [False, True, True]))"
   ]
  },
  {
   "cell_type": "code",
   "execution_count": 78,
   "metadata": {
    "ExecuteTime": {
     "end_time": "2018-10-17T15:43:40.460787Z",
     "start_time": "2018-10-17T15:43:39.942796Z"
    }
   },
   "outputs": [
    {
     "data": {
      "image/png": "[encoded data removed]",
      "text/plain": [
       "<Figure size 576x432 with 1 Axes>"
      ]
     },
     "metadata": {},
     "output_type": "display_data"
    }
   ],
   "source": [
    "figure = plt.figure(figsize = (8,6))\n",
    "figure.suptitle(\"Ensemble Results\")\n",
    "axis = figure.add_subplot(111)\n",
    "plt.boxplot(eResults.values())\n",
    "axis.set_xticklabels(eResults.keys())\n",
    "plt.show()"
   ]
  },
  {
   "cell_type": "markdown",
   "metadata": {},
   "source": [
    "Again the accuracy is less than what we had previously."
   ]
  },
  {
   "cell_type": "markdown",
   "metadata": {},
   "source": [
    "## Kaggle model\n",
    "\n",
    "And finally for completeness we'll also examine the Kaggle model again:"
   ]
  },
  {
   "cell_type": "code",
   "execution_count": 79,
   "metadata": {
    "ExecuteTime": {
     "end_time": "2018-10-17T15:52:23.175369Z",
     "start_time": "2018-10-17T15:43:40.460787Z"
    }
   },
   "outputs": [
    {
     "data": {
      "text/html": [
       "<div>\n",
       "<style scoped>\n",
       "    .dataframe tbody tr th:only-of-type {\n",
       "        vertical-align: middle;\n",
       "    }\n",
       "\n",
       "    .dataframe tbody tr th {\n",
       "        vertical-align: top;\n",
       "    }\n",
       "\n",
       "    .dataframe thead th {\n",
       "        text-align: right;\n",
       "    }\n",
       "</style>\n",
       "<table border=\"1\" class=\"dataframe\">\n",
       "  <thead>\n",
       "    <tr style=\"text-align: right;\">\n",
       "      <th></th>\n",
       "      <th>Model</th>\n",
       "      <th>Accuracy</th>\n",
       "      <th>StdDev</th>\n",
       "    </tr>\n",
       "  </thead>\n",
       "  <tbody>\n",
       "    <tr>\n",
       "      <th>0</th>\n",
       "      <td>RandomForestClassifier</td>\n",
       "      <td>0.8301</td>\n",
       "      <td>0.010476</td>\n",
       "    </tr>\n",
       "  </tbody>\n",
       "</table>\n",
       "</div>"
      ],
      "text/plain": [
       "                    Model  Accuracy    StdDev\n",
       "0  RandomForestClassifier    0.8301  0.010476"
      ]
     },
     "metadata": {},
     "output_type": "display_data"
    }
   ],
   "source": [
    "_DF = pd.DataFrame(columns = ['Model', 'Accuracy', 'StdDev'])\n",
    "_Results = {}\n",
    "_model = RandomForestClassifier(n_estimators = 100)\n",
    "\n",
    "kFold = KFold(n_splits = eFolds, random_state = eSeed)\n",
    "_Results[modelName] = cross_val_score(_model, xTrain, yTrain, cv = kFold, scoring = eScore)\n",
    "\n",
    "_DF.loc[len(_DF)] = list(['RandomForestClassifier', _Results[modelName].mean(), _Results[modelName].std()])\n",
    "display(_DF.sort_values(by = ['Accuracy', 'StdDev', 'Model'], ascending = [False, True, True]))"
   ]
  },
  {
   "cell_type": "markdown",
   "metadata": {},
   "source": [
    "And the same story here too:  Less accuracy than what we had before."
   ]
  },
  {
   "cell_type": "markdown",
   "metadata": {},
   "source": [
    "# Summary\n",
    "\n",
    "While removing 'noisy' terms not directly related to sentiment was an interesting idea to explore, it did not result in improvements to model performance.  In fact it did the opposite, and so this line of exploration will be rejected in favor of keeping the current base line model and accuracy rating as benchmarks moving forward."
   ]
  }
 ],
 "metadata": {
  "kernelspec": {
   "display_name": "Python 3",
   "language": "python",
   "name": "python3"
  },
  "language_info": {
   "codemirror_mode": {
    "name": "ipython",
    "version": 3
   },
   "file_extension": ".py",
   "mimetype": "text/x-python",
   "name": "python",
   "nbconvert_exporter": "python",
   "pygments_lexer": "ipython3",
   "version": "3.6.5"
  },
  "toc": {
   "base_numbering": 1,
   "nav_menu": {},
   "number_sections": true,
   "sideBar": true,
   "skip_h1_title": false,
   "title_cell": "Table of Contents",
   "title_sidebar": "Contents",
   "toc_cell": true,
   "toc_position": {},
   "toc_section_display": true,
   "toc_window_display": false
  }
 },
 "nbformat": 4,
 "nbformat_minor": 2
}
