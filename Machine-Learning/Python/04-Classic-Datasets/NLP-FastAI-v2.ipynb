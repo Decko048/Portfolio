{
 "cells": [
  {
   "cell_type": "markdown",
   "metadata": {
    "toc": true
   },
   "source": [
    "<h1>Table of Contents<span class=\"tocSkip\"></span></h1>\n",
    "<div class=\"toc\"><ul class=\"toc-item\"><li><span><a href=\"#Create-LM-data\" data-toc-modified-id=\"Create-LM-data-1\"><span class=\"toc-item-num\">1&nbsp;&nbsp;</span>Create LM data</a></span></li><li><span><a href=\"#Create-classifier-data\" data-toc-modified-id=\"Create-classifier-data-2\"><span class=\"toc-item-num\">2&nbsp;&nbsp;</span>Create classifier data</a></span></li><li><span><a href=\"#Save-data\" data-toc-modified-id=\"Save-data-3\"><span class=\"toc-item-num\">3&nbsp;&nbsp;</span>Save data</a></span></li></ul></div>"
   ]
  },
  {
   "cell_type": "markdown",
   "metadata": {},
   "source": [
    "This method allows us to build the LM from all reviews - labeled and unlabeled.\n",
    "\n",
    "https://docs.fast.ai/tutorial.data.html"
   ]
  },
  {
   "cell_type": "markdown",
   "metadata": {},
   "source": [
    "# Import libs and define global vars"
   ]
  },
  {
   "cell_type": "code",
   "execution_count": 6,
   "metadata": {
    "ExecuteTime": {
     "end_time": "2018-12-27T21:45:09.238181Z",
     "start_time": "2018-12-27T21:45:05.145805Z"
    }
   },
   "outputs": [],
   "source": [
    "import os\n",
    "from fastai.text import * \n",
    "\n",
    "# Set the seeds\n",
    "seedVal = 10\n",
    "from numpy.random import seed\n",
    "seed(seedVal)\n",
    "\n",
    "path = './'\n",
    "useSubset = False\n",
    "numSubset = 100"
   ]
  },
  {
   "cell_type": "markdown",
   "metadata": {},
   "source": [
    "# Load and view data"
   ]
  },
  {
   "cell_type": "code",
   "execution_count": 7,
   "metadata": {
    "ExecuteTime": {
     "end_time": "2018-12-27T21:45:10.775288Z",
     "start_time": "2018-12-27T21:45:09.240186Z"
    }
   },
   "outputs": [
    {
     "name": "stdout",
     "output_type": "stream",
     "text": [
      "labDat.shape : (25000, 4)\n",
      "unlabDat.shape : (50000, 4)\n",
      "testDat.shape : (25000, 4)\n",
      "\n",
      "\n",
      "<class 'pandas.core.frame.DataFrame'>\n",
      "RangeIndex: 25000 entries, 0 to 24999\n",
      "Data columns (total 4 columns):\n",
      "id           25000 non-null object\n",
      "sentiment    25000 non-null int64\n",
      "review       25000 non-null object\n",
      "type         25000 non-null object\n",
      "dtypes: int64(1), object(3)\n",
      "memory usage: 781.3+ KB\n",
      "labDat.info() : None\n",
      "\n",
      "\n",
      "<class 'pandas.core.frame.DataFrame'>\n",
      "RangeIndex: 50000 entries, 0 to 49999\n",
      "Data columns (total 4 columns):\n",
      "id           50000 non-null object\n",
      "review       50000 non-null object\n",
      "type         50000 non-null object\n",
      "sentiment    0 non-null object\n",
      "dtypes: object(4)\n",
      "memory usage: 1.5+ MB\n",
      "unlabDat.info() : None\n",
      "\n",
      "\n",
      "<class 'pandas.core.frame.DataFrame'>\n",
      "RangeIndex: 25000 entries, 0 to 24999\n",
      "Data columns (total 4 columns):\n",
      "id           25000 non-null object\n",
      "review       25000 non-null object\n",
      "type         25000 non-null object\n",
      "sentiment    0 non-null object\n",
      "dtypes: object(4)\n",
      "memory usage: 781.3+ KB\n",
      "testDat.info() : None\n"
     ]
    }
   ],
   "source": [
    "# Set paths to CSV files\n",
    "dataPath = os.path.join('.', 'datasets', 'imdb_movie_reviews')\n",
    "labeledTrainData = os.path.join(dataPath, 'labeledTrainData.tsv')\n",
    "unlabeledTrainData = os.path.join(dataPath, 'unlabeledTrainData.tsv')\n",
    "testData = os.path.join(dataPath, 'testData.tsv')\n",
    "\n",
    "# Read CSV files into DFs\n",
    "labDat = pd.read_csv(labeledTrainData, sep = '\\t', header = 0, quoting = 3)\n",
    "unlabDat = pd.read_csv(unlabeledTrainData, sep = '\\t', header = 0, quoting = 3)\n",
    "testDat = pd.read_csv(testData, sep = '\\t', header = 0, quoting = 3)\n",
    "\n",
    "# Add columns\n",
    "labDat['type'] = 'train'\n",
    "unlabDat['type'] = 'unlabeled'\n",
    "testDat['type'] = 'test'\n",
    "\n",
    "unlabDat['sentiment'] = None\n",
    "testDat['sentiment'] = None\n",
    "\n",
    "\n",
    "# Sanity check\n",
    "print('labDat.shape :', labDat.shape)\n",
    "print('unlabDat.shape :', unlabDat.shape)\n",
    "print('testDat.shape :', testDat.shape)\n",
    "\n",
    "# Examine results\n",
    "print(\"\\n\")\n",
    "print('labDat.info() :', labDat.info())\n",
    "print(\"\\n\")\n",
    "print('unlabDat.info() :', unlabDat.info())\n",
    "print(\"\\n\")\n",
    "print('testDat.info() :', testDat.info())"
   ]
  },
  {
   "cell_type": "code",
   "execution_count": 8,
   "metadata": {
    "ExecuteTime": {
     "end_time": "2018-12-27T21:45:10.840462Z",
     "start_time": "2018-12-27T21:45:10.776290Z"
    }
   },
   "outputs": [
    {
     "name": "stdout",
     "output_type": "stream",
     "text": [
      "(100000, 4)\n",
      "\n",
      "\n",
      "<class 'pandas.core.frame.DataFrame'>\n",
      "RangeIndex: 100000 entries, 0 to 99999\n",
      "Data columns (total 4 columns):\n",
      "id           100000 non-null object\n",
      "review       100000 non-null object\n",
      "sentiment    25000 non-null object\n",
      "type         100000 non-null object\n",
      "dtypes: object(4)\n",
      "memory usage: 3.1+ MB\n",
      "None\n"
     ]
    }
   ],
   "source": [
    "combinedDat = pd.concat(objs=[labDat, unlabDat, testDat], axis=0).reset_index(drop=True)\n",
    "print(combinedDat.shape)\n",
    "print(\"\\n\")\n",
    "print(combinedDat.info())"
   ]
  },
  {
   "cell_type": "code",
   "execution_count": 9,
   "metadata": {
    "ExecuteTime": {
     "end_time": "2018-12-27T21:45:10.874029Z",
     "start_time": "2018-12-27T21:45:10.841464Z"
    }
   },
   "outputs": [
    {
     "data": {
      "text/html": [
       "<div>\n",
       "<style scoped>\n",
       "    .dataframe tbody tr th:only-of-type {\n",
       "        vertical-align: middle;\n",
       "    }\n",
       "\n",
       "    .dataframe tbody tr th {\n",
       "        vertical-align: top;\n",
       "    }\n",
       "\n",
       "    .dataframe thead th {\n",
       "        text-align: right;\n",
       "    }\n",
       "</style>\n",
       "<table border=\"1\" class=\"dataframe\">\n",
       "  <thead>\n",
       "    <tr style=\"text-align: right;\">\n",
       "      <th></th>\n",
       "      <th>id</th>\n",
       "      <th>review</th>\n",
       "      <th>sentiment</th>\n",
       "      <th>type</th>\n",
       "    </tr>\n",
       "  </thead>\n",
       "  <tbody>\n",
       "    <tr>\n",
       "      <th>0</th>\n",
       "      <td>\"5814_8\"</td>\n",
       "      <td>\"With all this stuff going down at the moment ...</td>\n",
       "      <td>1</td>\n",
       "      <td>train</td>\n",
       "    </tr>\n",
       "    <tr>\n",
       "      <th>1</th>\n",
       "      <td>\"2381_9\"</td>\n",
       "      <td>\"\\\"The Classic War of the Worlds\\\" by Timothy ...</td>\n",
       "      <td>1</td>\n",
       "      <td>train</td>\n",
       "    </tr>\n",
       "    <tr>\n",
       "      <th>2</th>\n",
       "      <td>\"7759_3\"</td>\n",
       "      <td>\"The film starts with a manager (Nicholas Bell...</td>\n",
       "      <td>0</td>\n",
       "      <td>train</td>\n",
       "    </tr>\n",
       "    <tr>\n",
       "      <th>3</th>\n",
       "      <td>\"3630_4\"</td>\n",
       "      <td>\"It must be assumed that those who praised thi...</td>\n",
       "      <td>0</td>\n",
       "      <td>train</td>\n",
       "    </tr>\n",
       "    <tr>\n",
       "      <th>4</th>\n",
       "      <td>\"9495_8\"</td>\n",
       "      <td>\"Superbly trashy and wondrously unpretentious ...</td>\n",
       "      <td>1</td>\n",
       "      <td>train</td>\n",
       "    </tr>\n",
       "  </tbody>\n",
       "</table>\n",
       "</div>"
      ],
      "text/plain": [
       "         id                                             review sentiment  \\\n",
       "0  \"5814_8\"  \"With all this stuff going down at the moment ...         1   \n",
       "1  \"2381_9\"  \"\\\"The Classic War of the Worlds\\\" by Timothy ...         1   \n",
       "2  \"7759_3\"  \"The film starts with a manager (Nicholas Bell...         0   \n",
       "3  \"3630_4\"  \"It must be assumed that those who praised thi...         0   \n",
       "4  \"9495_8\"  \"Superbly trashy and wondrously unpretentious ...         1   \n",
       "\n",
       "    type  \n",
       "0  train  \n",
       "1  train  \n",
       "2  train  \n",
       "3  train  \n",
       "4  train  "
      ]
     },
     "execution_count": 9,
     "metadata": {},
     "output_type": "execute_result"
    }
   ],
   "source": [
    "combinedDat.head()"
   ]
  },
  {
   "cell_type": "markdown",
   "metadata": {},
   "source": [
    "# Prepare the data"
   ]
  },
  {
   "cell_type": "markdown",
   "metadata": {},
   "source": [
    "## Create LM data"
   ]
  },
  {
   "cell_type": "code",
   "execution_count": 10,
   "metadata": {
    "ExecuteTime": {
     "end_time": "2018-12-27T21:45:26.089830Z",
     "start_time": "2018-12-27T21:45:10.876034Z"
    }
   },
   "outputs": [],
   "source": [
    "# Language model data\n",
    "if useSubset:\n",
    "    data_lm = (TextList.from_df(df = combinedDat.iloc[:numSubset,:], cols = 'review')\n",
    "               .random_split_by_pct(seed=seedVal)\n",
    "               .label_for_lm()\n",
    "               .databunch())\n",
    "else:\n",
    "    data_lm = (TextList.from_df(df = combinedDat[ combinedDat['type'] == 'train'], cols = 'review')\n",
    "               .random_split_by_pct(seed=seedVal)\n",
    "               .label_for_lm()\n",
    "               .databunch())"
   ]
  },
  {
   "cell_type": "code",
   "execution_count": 11,
   "metadata": {
    "ExecuteTime": {
     "end_time": "2018-12-27T21:45:26.096849Z",
     "start_time": "2018-12-27T21:45:26.090833Z"
    }
   },
   "outputs": [
    {
     "data": {
      "text/html": [
       "<table>  <col width='5%'>  <col width='95%'>  <tr>\n",
       "    <th>idx</th>\n",
       "    <th>text</th>\n",
       "  </tr>\n",
       "  <tr>\n",
       "    <th>0</th>\n",
       "    <th>xxbos \" i loathed this film . xxmaj the original xxmaj phantasm had such wonderful ambiance and mystery . xxmaj like many 70s horror flicks , it looked and felt like some creepy , unfinished documentary . xxmaj phantasm xxup ii , from the late 80s , pumped up the action , but maintained this nice attention to mood . xxmaj sadly , xxmaj phantasm xxup iii is just awful</th>\n",
       "  </tr>\n",
       "  <tr>\n",
       "    <th>1</th>\n",
       "    <th>it 's definitely one that he will be remembered for . xxmaj he 's a stubborn old man , not unlike a lot of the old men that you and i probably know . \\n\\n \" xxmaj the xxmaj straight xxmaj story \" is a movie that everyone should watch at least once in their lives . xxmaj it will reach down and touch some part of you , at</th>\n",
       "  </tr>\n",
       "  <tr>\n",
       "    <th>2</th>\n",
       "    <th>by all of the cast , even the smallest parts were done with believability . \\n\\n xxmaj this is not a fast - paced action thriller ; in fact , it moves at times like a slow drama , but it is worth it . xxmaj very satisfying and not exploitative about the crimes at all . \\n\\n \" xxbos \" xxmaj generally i like horror movies , but unfortunately</th>\n",
       "  </tr>\n",
       "  <tr>\n",
       "    <th>3</th>\n",
       "    <th>bringing this story to the masses in a way that never demeaned the tragedy . xxmaj the film was made with such humanity . \\n\\n xxmaj another reviewer said it better than i ever could : xxmaj open up your hearts to xxmaj titanic , and you will not be disappointed . \" xxbos \" xxmaj robert xxmaj siodmak does a fabulous job with this b noir starring xxmaj ella</th>\n",
       "  </tr>\n",
       "  <tr>\n",
       "    <th>4</th>\n",
       "    <th>. ) xxmaj orcs are different matter , since they are meant to look very distinctive from other characters . xxmaj orcs , while played by humans with animation mix , look far superior to xxmaj jacksons version . xxmaj they have brownish - green skin , shiny red eyes , flat face and pointed teeth . \\n\\n xxmaj biggest screw up in this films visuals , xxunk , are</th>\n",
       "  </tr>\n",
       "</table>\n"
      ],
      "text/plain": [
       "<IPython.core.display.HTML object>"
      ]
     },
     "metadata": {},
     "output_type": "display_data"
    }
   ],
   "source": [
    "data_lm.show_batch()"
   ]
  },
  {
   "cell_type": "markdown",
   "metadata": {},
   "source": [
    "## Create classifier data"
   ]
  },
  {
   "cell_type": "code",
   "execution_count": 12,
   "metadata": {
    "ExecuteTime": {
     "end_time": "2018-12-27T21:45:39.911407Z",
     "start_time": "2018-12-27T21:45:26.097852Z"
    }
   },
   "outputs": [],
   "source": [
    "if useSubset:\n",
    "    data_clas = (TextList.from_df(df = combinedDat[ combinedDat['type'] == 'train'].iloc[:numSubset,:], cols='review', vocab=data_lm.vocab)\n",
    "                 .random_split_by_pct(valid_pct=0.1, seed=seedVal)\n",
    "                 .label_from_df(cols='sentiment')\n",
    "                 .databunch(bs=32))\n",
    "else:\n",
    "    data_clas = (TextList.from_df(df = combinedDat[ combinedDat['type'] == 'train'], cols='review', vocab=data_lm.vocab)\n",
    "                 .random_split_by_pct(valid_pct=0.1, seed=seedVal)\n",
    "                 .label_from_df(cols='sentiment')\n",
    "                 .databunch(bs=32))"
   ]
  },
  {
   "cell_type": "code",
   "execution_count": 13,
   "metadata": {},
   "outputs": [
    {
     "name": "stdout",
     "output_type": "stream",
     "text": [
      "Train DF size: 22500\n",
      "Valid DF size: 2500\n"
     ]
    }
   ],
   "source": [
    "print(\"Train DF size:\", len(data_clas.train_ds))\n",
    "print(\"Valid DF size:\", len(data_clas.valid_ds))"
   ]
  },
  {
   "cell_type": "code",
   "execution_count": 14,
   "metadata": {
    "ExecuteTime": {
     "end_time": "2018-12-27T21:45:39.939482Z",
     "start_time": "2018-12-27T21:45:39.912410Z"
    }
   },
   "outputs": [
    {
     "data": {
      "text/html": [
       "<table>  <col width='90%'>  <col width='10%'>  <tr>\n",
       "    <th>text</th>\n",
       "    <th>target</th>\n",
       "  </tr>\n",
       "  <tr>\n",
       "    <th>xxbos \" xxmaj match 1 : xxmaj tag xxmaj team xxmaj table xxmaj match xxmaj bubba xxmaj ray and xxmaj spike xxmaj dudley vs xxmaj eddie xxmaj guerrero and xxmaj chris xxmaj benoit xxmaj bubba xxmaj ray and xxmaj spike xxmaj dudley started things off with a xxmaj tag xxmaj team xxmaj table xxmaj match against xxmaj eddie xxmaj guerrero and xxmaj chris xxmaj benoit . xxmaj according to the</th>\n",
       "    <th>1</th>\n",
       "  </tr>\n",
       "  <tr>\n",
       "    <th>xxbos \" xxmaj it has said that xxmaj the xxmaj movies and xxmaj baseball both thrived during xxmaj the xxmaj great xxmaj depression . xxmaj it appears that the grim realities of a xxmaj nation caught up in the aftermath of this xxmaj economic xxmaj disaster created a need for occasional relief for the populace . a temporary escape could be found in the on going soap opera that is</th>\n",
       "    <th>1</th>\n",
       "  </tr>\n",
       "  <tr>\n",
       "    <th>xxbos \" xxup spoilers xxup herein \\n\\n xxmaj my xxmaj high xxmaj school did all they could to try and motivate us for exams . xxmaj but the most memorable method they used to get us into the right state of mind was a guest speaker , who was none other than xxmaj australian xxmaj kickboxing 's favorite son , xxmaj stan \" xxmaj the xxmaj man \" xxmaj xxunk</th>\n",
       "    <th>0</th>\n",
       "  </tr>\n",
       "  <tr>\n",
       "    <th>xxbos \" i wo n't try to speculate as to what xxmaj brando was attempting . xxmaj at his best he turns in such oddball performances , insinuating so many things at once , that it does n't seem he does anything so much as play by unfailing instinct . xxmaj often it seems he is calling attention to some favored aspect of his character over all others , a</th>\n",
       "    <th>1</th>\n",
       "  </tr>\n",
       "  <tr>\n",
       "    <th>xxbos \" xxup ok xxup ok , it might be hard to put the entirety of a man 's life in one film . xxmaj traditionally therefore , biopics focus on one or two significant parts in the subject 's life . xxmaj now , xxmaj byron was a \" my week beats your year \" fellow , which makes selecting parts that are representative even harder . xxmaj furthermore</th>\n",
       "    <th>0</th>\n",
       "  </tr>\n",
       "</table>\n"
      ],
      "text/plain": [
       "<IPython.core.display.HTML object>"
      ]
     },
     "metadata": {},
     "output_type": "display_data"
    }
   ],
   "source": [
    "data_clas.show_batch()"
   ]
  },
  {
   "cell_type": "code",
   "execution_count": 15,
   "metadata": {
    "ExecuteTime": {
     "end_time": "2018-12-27T21:45:40.011675Z",
     "start_time": "2018-12-27T21:45:39.940485Z"
    }
   },
   "outputs": [
    {
     "name": "stdout",
     "output_type": "stream",
     "text": [
      "xxbos \" \" xxmaj the xxmaj classic xxmaj war of the xxmaj worlds \" by xxmaj timothy xxmaj hines is a very entertaining film that obviously goes to great effort and lengths to faithfully recreate xxup h. xxup g. xxmaj wells ' classic book . xxmaj mr. xxmaj hines succeeds in doing so . i , and those who watched his film with me , appreciated the fact that it was not the standard , predictable xxmaj hollywood fare that comes out every year , e.g. the xxmaj spielberg version with xxmaj tom xxmaj cruise that had only the slightest resemblance to the book . xxmaj obviously , everyone looks for different things in a movie . xxmaj those who envision themselves as amateur \" critics \" look only to criticize everything they can . xxmaj others rate a movie on more important bases , like being entertained , which is why most people never agree with the \" critics \" . xxmaj we enjoyed the effort xxmaj mr. xxmaj hines put into being faithful to xxup h.g. xxmaj wells ' classic novel , and we found it to be very entertaining . xxmaj this made it easy to overlook what the \" critics \" perceive to be its shortcomings . \"\n",
      "1\n"
     ]
    }
   ],
   "source": [
    "# How can we view the results of the preprocessing?\n",
    "\n",
    "# Look at record number three...  The FloatItem at the end is the label\n",
    "#data_clas.train_ds[2]\n",
    "\n",
    "#data_clas.train_ds.__class__\n",
    "# fastai.data_block.LabelList\n",
    "# https://github.com/fastai/fastai/blob/master/fastai/data_block.py\n",
    "\n",
    "print(data_clas.train_ds.x[1])\n",
    "print(data_clas.train_ds.y[1])\n",
    "\n",
    "#len(data_clas.train_ds.x)\n",
    "#len(data_clas.valid_ds.x)\n",
    "#print(len(data_clas.train_ds.x) + len(data_clas.valid_ds.x))\n",
    "#print(len(labDat))"
   ]
  },
  {
   "cell_type": "markdown",
   "metadata": {},
   "source": [
    "## Save data"
   ]
  },
  {
   "cell_type": "code",
   "execution_count": 16,
   "metadata": {
    "ExecuteTime": {
     "end_time": "2018-12-27T21:45:40.145447Z",
     "start_time": "2018-12-27T21:45:40.014683Z"
    }
   },
   "outputs": [],
   "source": [
    "data_lm.save()\n",
    "data_clas.save()"
   ]
  },
  {
   "cell_type": "code",
   "execution_count": 5,
   "metadata": {
    "ExecuteTime": {
     "end_time": "2018-12-27T21:45:40.244406Z",
     "start_time": "2018-12-27T21:45:40.147805Z"
    }
   },
   "outputs": [],
   "source": [
    "data_lm = TextLMDataBunch.load(path)\n",
    "data_clas = TextClasDataBunch.load(path, bs=32)"
   ]
  },
  {
   "cell_type": "markdown",
   "metadata": {},
   "source": [
    "# Create and fine tune language model\n",
    "\n",
    "We can use the data_lm object we created earlier to fine-tune a pretrained language model. fast.ai has an English model available that we can download. We can create a learner object that will directly create a model, download the pretrained weights and be ready for fine-tuning."
   ]
  },
  {
   "cell_type": "code",
   "execution_count": 18,
   "metadata": {
    "ExecuteTime": {
     "end_time": "2018-12-27T21:46:14.256149Z",
     "start_time": "2018-12-27T21:45:40.245409Z"
    }
   },
   "outputs": [
    {
     "data": {
      "text/html": [
       "Total time: 12:52 <p><table style='width:300px; margin-bottom:10px'>\n",
       "  <tr>\n",
       "    <th>epoch</th>\n",
       "    <th>train_loss</th>\n",
       "    <th>valid_loss</th>\n",
       "    <th>accuracy</th>\n",
       "  </tr>\n",
       "  <tr>\n",
       "    <th>1</th>\n",
       "    <th>4.240496</th>\n",
       "    <th>4.009834</th>\n",
       "    <th>0.293506</th>\n",
       "  </tr>\n",
       "</table>\n"
      ],
      "text/plain": [
       "<IPython.core.display.HTML object>"
      ]
     },
     "metadata": {},
     "output_type": "display_data"
    },
    {
     "data": {
      "image/png": "[encoded data removed]",
      "text/plain": [
       "<Figure size 432x288 with 1 Axes>"
      ]
     },
     "metadata": {},
     "output_type": "display_data"
    }
   ],
   "source": [
    "learn = language_model_learner(data_lm, pretrained_model=URLs.WT103_1, drop_mult=0.5)\n",
    "learn.fit_one_cycle(1, 1e-2)\n",
    "learn.recorder.plot_losses()"
   ]
  },
  {
   "cell_type": "code",
   "execution_count": 19,
   "metadata": {},
   "outputs": [],
   "source": [
    "learn.save_encoder('ft_enc')"
   ]
  },
  {
   "cell_type": "code",
   "execution_count": null,
   "metadata": {},
   "outputs": [],
   "source": [
    "# See if this avoids memory issues on the GPU:\n",
    "torch.cuda.empty_cache()\n",
    "\n",
    "# Ref:  https://forums.fast.ai/t/clearing-gpu-memory-pytorch/14637/3"
   ]
  },
  {
   "cell_type": "markdown",
   "metadata": {},
   "source": [
    "---\n",
    "Next, fine tune the model:"
   ]
  },
  {
   "cell_type": "code",
   "execution_count": 20,
   "metadata": {
    "ExecuteTime": {
     "end_time": "2018-12-27T21:47:43.789376Z",
     "start_time": "2018-12-27T21:46:14.372460Z"
    }
   },
   "outputs": [
    {
     "data": {
      "text/html": [
       "Total time: 1:14:44 <p><table style='width:300px; margin-bottom:10px'>\n",
       "  <tr>\n",
       "    <th>epoch</th>\n",
       "    <th>train_loss</th>\n",
       "    <th>valid_loss</th>\n",
       "    <th>accuracy</th>\n",
       "  </tr>\n",
       "  <tr>\n",
       "    <th>1</th>\n",
       "    <th>4.001006</th>\n",
       "    <th>3.908088</th>\n",
       "    <th>0.304922</th>\n",
       "  </tr>\n",
       "  <tr>\n",
       "    <th>2</th>\n",
       "    <th>3.896524</th>\n",
       "    <th>3.830257</th>\n",
       "    <th>0.313611</th>\n",
       "  </tr>\n",
       "  <tr>\n",
       "    <th>3</th>\n",
       "    <th>3.767224</th>\n",
       "    <th>3.776322</th>\n",
       "    <th>0.319304</th>\n",
       "  </tr>\n",
       "  <tr>\n",
       "    <th>4</th>\n",
       "    <th>3.686470</th>\n",
       "    <th>3.748913</th>\n",
       "    <th>0.322630</th>\n",
       "  </tr>\n",
       "  <tr>\n",
       "    <th>5</th>\n",
       "    <th>3.623901</th>\n",
       "    <th>3.743937</th>\n",
       "    <th>0.323372</th>\n",
       "  </tr>\n",
       "</table>\n"
      ],
      "text/plain": [
       "<IPython.core.display.HTML object>"
      ]
     },
     "metadata": {},
     "output_type": "display_data"
    },
    {
     "data": {
      "image/png": "[encoded data removed]",
      "text/plain": [
       "<Figure size 432x288 with 1 Axes>"
      ]
     },
     "metadata": {},
     "output_type": "display_data"
    }
   ],
   "source": [
    "#learn.load_encoder('ft_enc')\n",
    "learn.unfreeze()\n",
    "learn.fit_one_cycle(5, 1e-3)\n",
    "learn.recorder.plot_losses()"
   ]
  },
  {
   "cell_type": "markdown",
   "metadata": {},
   "source": [
    "---\n",
    "Save the encoder for classification in the next section."
   ]
  },
  {
   "cell_type": "code",
   "execution_count": 22,
   "metadata": {
    "ExecuteTime": {
     "end_time": "2018-12-27T21:47:44.076191Z",
     "start_time": "2018-12-27T21:47:43.915713Z"
    }
   },
   "outputs": [],
   "source": [
    "learn.save_encoder('ft_enc')"
   ]
  },
  {
   "cell_type": "markdown",
   "metadata": {},
   "source": [
    "# Build and train the classifier"
   ]
  },
  {
   "cell_type": "code",
   "execution_count": null,
   "metadata": {
    "ExecuteTime": {
     "end_time": "2018-12-27T21:47:44.338888Z",
     "start_time": "2018-12-27T21:47:44.077189Z"
    }
   },
   "outputs": [],
   "source": [
    "learn = text_classifier_learner(data_clas)\n",
    "learn.load_encoder('ft_enc')"
   ]
  },
  {
   "cell_type": "code",
   "execution_count": null,
   "metadata": {
    "ExecuteTime": {
     "end_time": "2018-12-27T21:47:44.373982Z",
     "start_time": "2018-12-27T21:47:44.345907Z"
    }
   },
   "outputs": [],
   "source": [
    "data_clas.show_batch()"
   ]
  },
  {
   "cell_type": "code",
   "execution_count": null,
   "metadata": {
    "ExecuteTime": {
     "end_time": "2018-12-27T21:48:38.868547Z",
     "start_time": "2018-12-27T21:47:44.374985Z"
    }
   },
   "outputs": [],
   "source": [
    "learn.fit_one_cycle(1, 1e-2)"
   ]
  },
  {
   "cell_type": "code",
   "execution_count": null,
   "metadata": {
    "ExecuteTime": {
     "end_time": "2018-12-27T21:48:38.983851Z",
     "start_time": "2018-12-27T21:48:38.869551Z"
    }
   },
   "outputs": [],
   "source": [
    "learn.recorder.plot_losses()"
   ]
  },
  {
   "cell_type": "code",
   "execution_count": null,
   "metadata": {
    "ExecuteTime": {
     "end_time": "2018-12-27T21:50:07.973628Z",
     "start_time": "2018-12-27T21:48:38.984854Z"
    }
   },
   "outputs": [],
   "source": [
    "learn.freeze_to(-2)\n",
    "learn.fit_one_cycle(1, slice(5e-3/2., 5e-3))\n",
    "learn.recorder.plot_losses()"
   ]
  },
  {
   "cell_type": "code",
   "execution_count": null,
   "metadata": {
    "ExecuteTime": {
     "end_time": "2018-12-27T21:56:39.648155Z",
     "start_time": "2018-12-27T21:50:08.084925Z"
    }
   },
   "outputs": [],
   "source": [
    "learn.unfreeze()\n",
    "learn.fit_one_cycle(5, slice(2e-3/100, 2e-3))\n",
    "learn.recorder.plot_losses()"
   ]
  },
  {
   "cell_type": "markdown",
   "metadata": {},
   "source": [
    "---"
   ]
  },
  {
   "cell_type": "code",
   "execution_count": null,
   "metadata": {
    "ExecuteTime": {
     "end_time": "2018-12-27T21:56:40.173248Z",
     "start_time": "2018-12-27T21:56:39.778502Z"
    }
   },
   "outputs": [],
   "source": [
    "learn.save('imdb_train_clas')"
   ]
  },
  {
   "cell_type": "code",
   "execution_count": null,
   "metadata": {
    "ExecuteTime": {
     "end_time": "2018-12-27T21:56:59.749551Z",
     "start_time": "2018-12-27T21:56:40.175252Z"
    }
   },
   "outputs": [],
   "source": [
    "learn.show_results(5)"
   ]
  },
  {
   "cell_type": "markdown",
   "metadata": {},
   "source": [
    "# Predictions"
   ]
  },
  {
   "cell_type": "code",
   "execution_count": null,
   "metadata": {
    "ExecuteTime": {
     "end_time": "2018-12-27T21:59:04.127649Z",
     "start_time": "2018-12-27T21:59:04.109601Z"
    }
   },
   "outputs": [],
   "source": [
    "item = list(combinedDat[ combinedDat['type'] == 'test']['review'])[0]\n",
    "item"
   ]
  },
  {
   "cell_type": "code",
   "execution_count": null,
   "metadata": {
    "ExecuteTime": {
     "end_time": "2018-12-27T21:59:06.317315Z",
     "start_time": "2018-12-27T21:59:05.757820Z"
    }
   },
   "outputs": [],
   "source": [
    "print(learn.predict(item))\n",
    "print(int(torch.argmax(learn.predict(item)[2])))"
   ]
  },
  {
   "cell_type": "markdown",
   "metadata": {},
   "source": [
    "---------------------------------------------------------------------"
   ]
  },
  {
   "cell_type": "code",
   "execution_count": null,
   "metadata": {
    "ExecuteTime": {
     "end_time": "2018-12-27T21:57:01.736208Z",
     "start_time": "2018-12-27T21:57:01.733200Z"
    }
   },
   "outputs": [],
   "source": [
    "data_lm.__class__\n",
    "method_list = [func for func in dir(data_lm) if callable(getattr(data_lm, func))]\n",
    "method_list"
   ]
  },
  {
   "cell_type": "code",
   "execution_count": null,
   "metadata": {},
   "outputs": [],
   "source": []
  }
 ],
 "metadata": {
  "kernelspec": {
   "display_name": "Python 3",
   "language": "python",
   "name": "python3"
  },
  "language_info": {
   "codemirror_mode": {
    "name": "ipython",
    "version": 3
   },
   "file_extension": ".py",
   "mimetype": "text/x-python",
   "name": "python",
   "nbconvert_exporter": "python",
   "pygments_lexer": "ipython3",
   "version": "3.6.5"
  },
  "toc": {
   "base_numbering": 1,
   "nav_menu": {},
   "number_sections": true,
   "sideBar": true,
   "skip_h1_title": true,
   "title_cell": "Table of Contents",
   "title_sidebar": "Contents",
   "toc_cell": true,
   "toc_position": {},
   "toc_section_display": true,
   "toc_window_display": false
  }
 },
 "nbformat": 4,
 "nbformat_minor": 2
}
