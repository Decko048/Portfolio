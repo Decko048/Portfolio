{
 "cells": [
  {
   "cell_type": "markdown",
   "metadata": {
    "toc": true
   },
   "source": [
    "<h1>Table of Contents<span class=\"tocSkip\"></span></h1>\n",
    "<div class=\"toc\"><ul class=\"toc-item\"><li><span><a href=\"#Create-LM-data\" data-toc-modified-id=\"Create-LM-data-1\"><span class=\"toc-item-num\">1&nbsp;&nbsp;</span>Create LM data</a></span></li><li><span><a href=\"#Create-classifier-data\" data-toc-modified-id=\"Create-classifier-data-2\"><span class=\"toc-item-num\">2&nbsp;&nbsp;</span>Create classifier data</a></span></li><li><span><a href=\"#Save-data\" data-toc-modified-id=\"Save-data-3\"><span class=\"toc-item-num\">3&nbsp;&nbsp;</span>Save data</a></span></li></ul></div>"
   ]
  },
  {
   "cell_type": "markdown",
   "metadata": {},
   "source": [
    "This method allows us to build the LM from all reviews - labeled and unlabeled.\n",
    "\n",
    "https://docs.fast.ai/tutorial.data.html"
   ]
  },
  {
   "cell_type": "markdown",
   "metadata": {},
   "source": [
    "# Import libs and define global vars"
   ]
  },
  {
   "cell_type": "code",
   "execution_count": 31,
   "metadata": {
    "ExecuteTime": {
     "end_time": "2018-12-27T21:45:09.238181Z",
     "start_time": "2018-12-27T21:45:05.145805Z"
    }
   },
   "outputs": [],
   "source": [
    "import os\n",
    "from fastai.text import * \n",
    "from fastai import callbacks\n",
    "\n",
    "# Set the seeds\n",
    "seedVal = 10\n",
    "from numpy.random import seed\n",
    "seed(seedVal)\n",
    "\n",
    "path = './'\n",
    "useSubset = True\n",
    "numSubset = 50\n",
    "\n",
    "from fastai import torch_core\n",
    "\n",
    "#torch_core.defaults.device = 'cpu'\n",
    "torch_core.defaults.device = 'gpu'"
   ]
  },
  {
   "cell_type": "markdown",
   "metadata": {},
   "source": [
    "# Load and view data"
   ]
  },
  {
   "cell_type": "code",
   "execution_count": 32,
   "metadata": {
    "ExecuteTime": {
     "end_time": "2018-12-27T21:45:10.775288Z",
     "start_time": "2018-12-27T21:45:09.240186Z"
    }
   },
   "outputs": [
    {
     "name": "stdout",
     "output_type": "stream",
     "text": [
      "labDat.shape : (25000, 4)\n",
      "unlabDat.shape : (50000, 4)\n",
      "testDat.shape : (25000, 4)\n",
      "\n",
      "\n",
      "<class 'pandas.core.frame.DataFrame'>\n",
      "RangeIndex: 25000 entries, 0 to 24999\n",
      "Data columns (total 4 columns):\n",
      "id           25000 non-null object\n",
      "sentiment    25000 non-null int64\n",
      "review       25000 non-null object\n",
      "type         25000 non-null object\n",
      "dtypes: int64(1), object(3)\n",
      "memory usage: 781.3+ KB\n",
      "labDat.info() : None\n",
      "\n",
      "\n",
      "<class 'pandas.core.frame.DataFrame'>\n",
      "RangeIndex: 50000 entries, 0 to 49999\n",
      "Data columns (total 4 columns):\n",
      "id           50000 non-null object\n",
      "review       50000 non-null object\n",
      "type         50000 non-null object\n",
      "sentiment    0 non-null object\n",
      "dtypes: object(4)\n",
      "memory usage: 1.5+ MB\n",
      "unlabDat.info() : None\n",
      "\n",
      "\n",
      "<class 'pandas.core.frame.DataFrame'>\n",
      "RangeIndex: 25000 entries, 0 to 24999\n",
      "Data columns (total 4 columns):\n",
      "id           25000 non-null object\n",
      "review       25000 non-null object\n",
      "type         25000 non-null object\n",
      "sentiment    0 non-null object\n",
      "dtypes: object(4)\n",
      "memory usage: 781.3+ KB\n",
      "testDat.info() : None\n"
     ]
    }
   ],
   "source": [
    "# Set paths to CSV files\n",
    "dataPath = os.path.join('.', 'datasets', 'imdb_movie_reviews')\n",
    "labeledTrainData = os.path.join(dataPath, 'labeledTrainData.tsv')\n",
    "unlabeledTrainData = os.path.join(dataPath, 'unlabeledTrainData.tsv')\n",
    "testData = os.path.join(dataPath, 'testData.tsv')\n",
    "\n",
    "# Read CSV files into DFs\n",
    "labDat = pd.read_csv(labeledTrainData, sep = '\\t', header = 0, quoting = 3)\n",
    "unlabDat = pd.read_csv(unlabeledTrainData, sep = '\\t', header = 0, quoting = 3)\n",
    "testDat = pd.read_csv(testData, sep = '\\t', header = 0, quoting = 3)\n",
    "\n",
    "# Add columns\n",
    "labDat['type'] = 'train'\n",
    "unlabDat['type'] = 'unlabeled'\n",
    "testDat['type'] = 'test'\n",
    "\n",
    "unlabDat['sentiment'] = None\n",
    "testDat['sentiment'] = None\n",
    "\n",
    "\n",
    "# Sanity check\n",
    "print('labDat.shape :', labDat.shape)\n",
    "print('unlabDat.shape :', unlabDat.shape)\n",
    "print('testDat.shape :', testDat.shape)\n",
    "\n",
    "# Examine results\n",
    "print(\"\\n\")\n",
    "print('labDat.info() :', labDat.info())\n",
    "print(\"\\n\")\n",
    "print('unlabDat.info() :', unlabDat.info())\n",
    "print(\"\\n\")\n",
    "print('testDat.info() :', testDat.info())"
   ]
  },
  {
   "cell_type": "code",
   "execution_count": 33,
   "metadata": {
    "ExecuteTime": {
     "end_time": "2018-12-27T21:45:10.840462Z",
     "start_time": "2018-12-27T21:45:10.776290Z"
    }
   },
   "outputs": [
    {
     "name": "stderr",
     "output_type": "stream",
     "text": [
      "F:\\Anaconda3\\envs\\fastai\\lib\\site-packages\\ipykernel_launcher.py:1: FutureWarning: Sorting because non-concatenation axis is not aligned. A future version\n",
      "of pandas will change to not sort by default.\n",
      "\n",
      "To accept the future behavior, pass 'sort=False'.\n",
      "\n",
      "To retain the current behavior and silence the warning, pass 'sort=True'.\n",
      "\n",
      "  \"\"\"Entry point for launching an IPython kernel.\n"
     ]
    },
    {
     "name": "stdout",
     "output_type": "stream",
     "text": [
      "(100000, 4)\n",
      "\n",
      "\n",
      "<class 'pandas.core.frame.DataFrame'>\n",
      "RangeIndex: 100000 entries, 0 to 99999\n",
      "Data columns (total 4 columns):\n",
      "id           100000 non-null object\n",
      "review       100000 non-null object\n",
      "sentiment    25000 non-null object\n",
      "type         100000 non-null object\n",
      "dtypes: object(4)\n",
      "memory usage: 3.1+ MB\n",
      "None\n"
     ]
    }
   ],
   "source": [
    "combinedDat = pd.concat(objs=[labDat, unlabDat, testDat], axis=0).reset_index(drop=True)\n",
    "print(combinedDat.shape)\n",
    "print(\"\\n\")\n",
    "print(combinedDat.info())"
   ]
  },
  {
   "cell_type": "code",
   "execution_count": 34,
   "metadata": {
    "ExecuteTime": {
     "end_time": "2018-12-27T21:45:10.874029Z",
     "start_time": "2018-12-27T21:45:10.841464Z"
    }
   },
   "outputs": [
    {
     "data": {
      "text/html": [
       "<div>\n",
       "<style scoped>\n",
       "    .dataframe tbody tr th:only-of-type {\n",
       "        vertical-align: middle;\n",
       "    }\n",
       "\n",
       "    .dataframe tbody tr th {\n",
       "        vertical-align: top;\n",
       "    }\n",
       "\n",
       "    .dataframe thead th {\n",
       "        text-align: right;\n",
       "    }\n",
       "</style>\n",
       "<table border=\"1\" class=\"dataframe\">\n",
       "  <thead>\n",
       "    <tr style=\"text-align: right;\">\n",
       "      <th></th>\n",
       "      <th>id</th>\n",
       "      <th>review</th>\n",
       "      <th>sentiment</th>\n",
       "      <th>type</th>\n",
       "    </tr>\n",
       "  </thead>\n",
       "  <tbody>\n",
       "    <tr>\n",
       "      <th>0</th>\n",
       "      <td>\"5814_8\"</td>\n",
       "      <td>\"With all this stuff going down at the moment ...</td>\n",
       "      <td>1</td>\n",
       "      <td>train</td>\n",
       "    </tr>\n",
       "    <tr>\n",
       "      <th>1</th>\n",
       "      <td>\"2381_9\"</td>\n",
       "      <td>\"\\\"The Classic War of the Worlds\\\" by Timothy ...</td>\n",
       "      <td>1</td>\n",
       "      <td>train</td>\n",
       "    </tr>\n",
       "    <tr>\n",
       "      <th>2</th>\n",
       "      <td>\"7759_3\"</td>\n",
       "      <td>\"The film starts with a manager (Nicholas Bell...</td>\n",
       "      <td>0</td>\n",
       "      <td>train</td>\n",
       "    </tr>\n",
       "    <tr>\n",
       "      <th>3</th>\n",
       "      <td>\"3630_4\"</td>\n",
       "      <td>\"It must be assumed that those who praised thi...</td>\n",
       "      <td>0</td>\n",
       "      <td>train</td>\n",
       "    </tr>\n",
       "    <tr>\n",
       "      <th>4</th>\n",
       "      <td>\"9495_8\"</td>\n",
       "      <td>\"Superbly trashy and wondrously unpretentious ...</td>\n",
       "      <td>1</td>\n",
       "      <td>train</td>\n",
       "    </tr>\n",
       "  </tbody>\n",
       "</table>\n",
       "</div>"
      ],
      "text/plain": [
       "         id                                             review sentiment  \\\n",
       "0  \"5814_8\"  \"With all this stuff going down at the moment ...         1   \n",
       "1  \"2381_9\"  \"\\\"The Classic War of the Worlds\\\" by Timothy ...         1   \n",
       "2  \"7759_3\"  \"The film starts with a manager (Nicholas Bell...         0   \n",
       "3  \"3630_4\"  \"It must be assumed that those who praised thi...         0   \n",
       "4  \"9495_8\"  \"Superbly trashy and wondrously unpretentious ...         1   \n",
       "\n",
       "    type  \n",
       "0  train  \n",
       "1  train  \n",
       "2  train  \n",
       "3  train  \n",
       "4  train  "
      ]
     },
     "execution_count": 34,
     "metadata": {},
     "output_type": "execute_result"
    }
   ],
   "source": [
    "combinedDat.head()"
   ]
  },
  {
   "cell_type": "markdown",
   "metadata": {},
   "source": [
    "# Prepare the data"
   ]
  },
  {
   "cell_type": "markdown",
   "metadata": {},
   "source": [
    "## Create LM data"
   ]
  },
  {
   "cell_type": "code",
   "execution_count": 35,
   "metadata": {
    "ExecuteTime": {
     "end_time": "2018-12-27T21:45:26.089830Z",
     "start_time": "2018-12-27T21:45:10.876034Z"
    }
   },
   "outputs": [],
   "source": [
    "# Language model data\n",
    "if useSubset:\n",
    "    data_lm = (TextList.from_df(df = combinedDat[ combinedDat['type'] == 'train'].iloc[:numSubset,:], cols = 'review')\n",
    "               .random_split_by_pct(seed=seedVal)\n",
    "               .label_for_lm()\n",
    "               .databunch())\n",
    "else:\n",
    "    data_lm = (TextList.from_df(df = combinedDat[ combinedDat['type'] == 'train'], cols = 'review')\n",
    "               .random_split_by_pct(seed=seedVal)\n",
    "               .label_for_lm()\n",
    "               .databunch())"
   ]
  },
  {
   "cell_type": "code",
   "execution_count": 36,
   "metadata": {
    "ExecuteTime": {
     "end_time": "2018-12-27T21:45:26.096849Z",
     "start_time": "2018-12-27T21:45:26.090833Z"
    }
   },
   "outputs": [
    {
     "data": {
      "text/html": [
       "<table>  <col width='5%'>  <col width='95%'>  <tr>\n",
       "    <th>idx</th>\n",
       "    <th>text</th>\n",
       "  </tr>\n",
       "  <tr>\n",
       "    <th>0</th>\n",
       "    <th>xxbos \" xxmaj the script for this movie was probably found in a xxunk - xxunk xxunk xxunk up by a really old xxunk . xxmaj xxunk an xxunk film with xxunk xxup xxunk . xxmaj for you xxmaj xxunk - xxmaj xxunk xxunk : she has the xxunk of one xxmaj mr. xxmaj xxunk . \" xxbos \" xxmaj xxunk xxmaj xxunk 's xxunk film ' xxmaj the xxmaj</th>\n",
       "  </tr>\n",
       "  <tr>\n",
       "    <th>1</th>\n",
       "    <th>boogey xxmaj man . ' xxmaj when i found out it was a sequel to the xxunk films i was happy to xxunk out a few xxunk for it ... i should have xxunk better . xxmaj though the opening title is ' xxmaj boogey xxmaj man xxunk , ' this is no sequel to those two far xxunk films i named above . xxmaj well , not totally anyway</th>\n",
       "  </tr>\n",
       "  <tr>\n",
       "    <th>2</th>\n",
       "    <th>\" are most xxunk xxunk of the director who had no acting xxunk xxunk before , and probably none since . xxmaj the plot is xxunk and script xxunk written . xxmaj the xxunk is just xxunk awful . xxmaj the director tries to make the film look all xxunk xxunk by making the camera xxunk around , xxunk xxunk , and with xxunk , but it xxunk nothing .</th>\n",
       "  </tr>\n",
       "  <tr>\n",
       "    <th>3</th>\n",
       "    <th>xxmaj it 's one thing if that had been an original film that was the director 's first and xxunk . xxmaj but xxunk it 's supposed to be a sequel to film that is no xxunk , but is xxunk sure far more interesting and entertaining than this . xxmaj if there ever is another sequel , which i doubt it , then it needs to xxunk this one</th>\n",
       "  </tr>\n",
       "  <tr>\n",
       "    <th>4</th>\n",
       "    <th>the ' xxmaj xxunk xxmaj xxunk ' three xxunk one . xxmaj xxunk to me he is box office xxunk and xxmaj jeroen xxmaj krabbé is worse than that . xxmaj the poor man 's box office xxunk xxrep 4 . really that is not being xxunk to the xxunk xxunk . xxmaj if the ' xxunk xxmaj man ' is supposed to be some sort of xxunk of the</th>\n",
       "  </tr>\n",
       "</table>\n"
      ],
      "text/plain": [
       "<IPython.core.display.HTML object>"
      ]
     },
     "metadata": {},
     "output_type": "display_data"
    }
   ],
   "source": [
    "data_lm.show_batch()"
   ]
  },
  {
   "cell_type": "markdown",
   "metadata": {},
   "source": [
    "## Create classifier data"
   ]
  },
  {
   "cell_type": "code",
   "execution_count": 37,
   "metadata": {
    "ExecuteTime": {
     "end_time": "2018-12-27T21:45:39.911407Z",
     "start_time": "2018-12-27T21:45:26.097852Z"
    }
   },
   "outputs": [],
   "source": [
    "if useSubset:\n",
    "    data_clas = (TextList.from_df(df = combinedDat[ combinedDat['type'] == 'train'].iloc[:numSubset,:], cols='review', vocab=data_lm.vocab)\n",
    "                 .random_split_by_pct(valid_pct=0.1, seed=seedVal)\n",
    "                 .label_from_df(cols='sentiment')\n",
    "                 .databunch(bs=32))\n",
    "else:\n",
    "    data_clas = (TextList.from_df(df = combinedDat[ combinedDat['type'] == 'train'], cols='review', vocab=data_lm.vocab)\n",
    "                 .random_split_by_pct(valid_pct=0.1, seed=seedVal)\n",
    "                 .label_from_df(cols='sentiment')\n",
    "                 .databunch(bs=32))"
   ]
  },
  {
   "cell_type": "code",
   "execution_count": 38,
   "metadata": {},
   "outputs": [
    {
     "name": "stdout",
     "output_type": "stream",
     "text": [
      "Train DF size: 45\n",
      "Valid DF size: 5\n"
     ]
    }
   ],
   "source": [
    "print(\"Train DF size:\", len(data_clas.train_ds))\n",
    "print(\"Valid DF size:\", len(data_clas.valid_ds))"
   ]
  },
  {
   "cell_type": "code",
   "execution_count": 39,
   "metadata": {
    "ExecuteTime": {
     "end_time": "2018-12-27T21:45:39.939482Z",
     "start_time": "2018-12-27T21:45:39.912410Z"
    }
   },
   "outputs": [
    {
     "data": {
      "text/html": [
       "<table>  <col width='90%'>  <col width='10%'>  <tr>\n",
       "    <th>text</th>\n",
       "    <th>target</th>\n",
       "  </tr>\n",
       "  <tr>\n",
       "    <th>xxbos \" xxmaj xxunk by the xxunk ( every gay video these xxunk has a xxunk on the xxunk ; this is not xxunk to be xxunk as a good xxunk ) i xxunk xxup ben xxup and xxup arthur without xxunk a thing about it . xxmaj this is my second ( and i xxunk you it will be my last ) purchase of a xxup culture q xxup</th>\n",
       "    <th>0</th>\n",
       "  </tr>\n",
       "  <tr>\n",
       "    <th>xxbos \" i 'll xxunk with the usual xxunk to a certain xxunk xxunk xxunk for his xxunk xxmaj xxunk xxmaj xxunk xxunk , because quite xxunk , to xxunk xxunk with xxunk xxunk xxmaj xxunk xxmaj kornbluth , is just an xxunk to any such director . i will also avoid xxunk the xxunk - on satire ` xxmaj office xxmaj xxunk ' in the same xxunk as this</th>\n",
       "    <th>0</th>\n",
       "  </tr>\n",
       "  <tr>\n",
       "    <th>xxbos \" xxmaj xxunk xxmaj xxunk 's xxunk film ' xxmaj the xxmaj boogey xxmaj man ' is no classic , but it 's an above average xxunk xxunk xxunk that 's worth a look . xxmaj the sequel , xxunk ' xxmaj boogey xxmaj man xxup ii ' is xxunk a waste of time , but at the very least it 's an entertaining one if not xxunk the</th>\n",
       "    <th>0</th>\n",
       "  </tr>\n",
       "  <tr>\n",
       "    <th>xxbos \" ` xxmaj the xxmaj matrix ' was an xxunk xxunk xxunk that was xxunk xxunk but also xxunk thought xxunk in its ` xxmaj xxunk xxmaj xxunk xxunk . xxmaj the xxunk xxunk xxunk xxunk and this sequel does n't xxunk up to its xxunk . xxmaj worse than that , it does n't even xxunk with it . \\n\\n ` xxmaj reloaded ' xxunk xxunk the screen</th>\n",
       "    <th>0</th>\n",
       "  </tr>\n",
       "  <tr>\n",
       "    <th>xxbos \" xxmaj with all this xxunk going down at the moment with xxup mj i 've xxunk xxunk to his music , watching the xxunk xxunk here and there , watched xxmaj the xxmaj xxunk and watched xxmaj xxunk again . xxmaj maybe i just want to get a certain xxunk into this guy who i thought was really xxunk in the xxunk just to maybe make up my</th>\n",
       "    <th>1</th>\n",
       "  </tr>\n",
       "</table>\n"
      ],
      "text/plain": [
       "<IPython.core.display.HTML object>"
      ]
     },
     "metadata": {},
     "output_type": "display_data"
    }
   ],
   "source": [
    "data_clas.show_batch()"
   ]
  },
  {
   "cell_type": "code",
   "execution_count": 40,
   "metadata": {
    "ExecuteTime": {
     "end_time": "2018-12-27T21:45:40.011675Z",
     "start_time": "2018-12-27T21:45:39.940485Z"
    }
   },
   "outputs": [
    {
     "name": "stdout",
     "output_type": "stream",
     "text": [
      "xxbos \" \" xxmaj the xxmaj classic xxmaj xxunk of the xxmaj xxunk \" by xxmaj xxunk xxmaj hines is a very entertaining film that xxunk goes to great xxunk and xxunk to xxunk xxunk xxup xxunk xxup xxunk xxmaj xxunk ' classic book . xxmaj mr. xxmaj hines xxunk in doing so . i , and those who watched his film with me , xxunk the fact that it was not the xxunk , xxunk xxmaj hollywood xxunk that comes out every xxunk , xxunk the xxmaj xxunk version with xxmaj xxunk xxmaj xxunk that had only the xxunk xxunk to the book . xxmaj xxunk , everyone xxunk for different things in a movie . xxmaj those who xxunk themselves as xxunk \" critics \" look only to xxunk xxunk they can . xxmaj others rate a movie on more xxunk xxunk , like being xxunk , which is why most people never xxunk with the \" critics \" . xxmaj we xxunk the xxunk xxmaj mr. xxmaj hines put into being xxunk to xxup xxunk xxmaj xxunk ' classic novel , and we found it to be very entertaining . xxmaj this made it xxunk to xxunk what the \" critics \" xxunk to be its xxunk . \"\n",
      "1\n"
     ]
    }
   ],
   "source": [
    "# How can we view the results of the preprocessing?\n",
    "\n",
    "# Look at record number three...  The FloatItem at the end is the label\n",
    "#data_clas.train_ds[2]\n",
    "\n",
    "#data_clas.train_ds.__class__\n",
    "# fastai.data_block.LabelList\n",
    "# https://github.com/fastai/fastai/blob/master/fastai/data_block.py\n",
    "\n",
    "print(data_clas.train_ds.x[1])\n",
    "print(data_clas.train_ds.y[1])\n",
    "\n",
    "#len(data_clas.train_ds.x)\n",
    "#len(data_clas.valid_ds.x)\n",
    "#print(len(data_clas.train_ds.x) + len(data_clas.valid_ds.x))\n",
    "#print(len(labDat))"
   ]
  },
  {
   "cell_type": "markdown",
   "metadata": {},
   "source": [
    "## Save data"
   ]
  },
  {
   "cell_type": "code",
   "execution_count": 41,
   "metadata": {
    "ExecuteTime": {
     "end_time": "2018-12-27T21:45:40.145447Z",
     "start_time": "2018-12-27T21:45:40.014683Z"
    }
   },
   "outputs": [],
   "source": [
    "data_lm.save()\n",
    "data_clas.save()"
   ]
  },
  {
   "cell_type": "code",
   "execution_count": 42,
   "metadata": {
    "ExecuteTime": {
     "end_time": "2018-12-27T21:45:40.244406Z",
     "start_time": "2018-12-27T21:45:40.147805Z"
    }
   },
   "outputs": [],
   "source": [
    "data_lm = TextLMDataBunch.load(path)\n",
    "data_clas = TextClasDataBunch.load(path, bs=32)"
   ]
  },
  {
   "cell_type": "markdown",
   "metadata": {},
   "source": [
    "# Create and fine tune language model\n",
    "\n",
    "We can use the data_lm object we created earlier to fine-tune a pretrained language model. fast.ai has an English model available that we can download. We can create a learner object that will directly create a model, download the pretrained weights and be ready for fine-tuning."
   ]
  },
  {
   "cell_type": "code",
   "execution_count": 43,
   "metadata": {
    "ExecuteTime": {
     "end_time": "2018-12-27T21:46:14.256149Z",
     "start_time": "2018-12-27T21:45:40.245409Z"
    }
   },
   "outputs": [
    {
     "data": {
      "text/html": [
       "Total time: 00:41 <p><table style='width:300px; margin-bottom:10px'>\n",
       "  <tr>\n",
       "    <th>epoch</th>\n",
       "    <th>train_loss</th>\n",
       "    <th>valid_loss</th>\n",
       "    <th>accuracy</th>\n",
       "  </tr>\n",
       "  <tr>\n",
       "    <th>1</th>\n",
       "    <th>3.807021</th>\n",
       "    <th>3.447389</th>\n",
       "    <th>0.285511</th>\n",
       "  </tr>\n",
       "</table>\n"
      ],
      "text/plain": [
       "<IPython.core.display.HTML object>"
      ]
     },
     "metadata": {},
     "output_type": "display_data"
    },
    {
     "data": {
      "image/png": "[encoded data removed]",
      "text/plain": [
       "<Figure size 432x288 with 1 Axes>"
      ]
     },
     "metadata": {
      "needs_background": "light"
     },
     "output_type": "display_data"
    }
   ],
   "source": [
    "learn = language_model_learner(\n",
    "    data_lm, \n",
    "    pretrained_model=URLs.WT103_1, \n",
    "    drop_mult=0.5, \n",
    "    callback_fns=[callbacks.SaveModelCallback]\n",
    ")\n",
    "\n",
    "learn.fit_one_cycle(1, 1e-2)\n",
    "learn.recorder.plot_losses()"
   ]
  },
  {
   "cell_type": "code",
   "execution_count": 44,
   "metadata": {},
   "outputs": [],
   "source": [
    "learn.save_encoder('ft_enc')"
   ]
  },
  {
   "cell_type": "markdown",
   "metadata": {},
   "source": [
    "---\n",
    "Next, fine tune the model:"
   ]
  },
  {
   "cell_type": "code",
   "execution_count": 45,
   "metadata": {
    "ExecuteTime": {
     "end_time": "2018-12-27T21:47:43.789376Z",
     "start_time": "2018-12-27T21:46:14.372460Z"
    }
   },
   "outputs": [
    {
     "data": {
      "text/html": [
       "Total time: 07:51 <p><table style='width:300px; margin-bottom:10px'>\n",
       "  <tr>\n",
       "    <th>epoch</th>\n",
       "    <th>train_loss</th>\n",
       "    <th>valid_loss</th>\n",
       "    <th>accuracy</th>\n",
       "  </tr>\n",
       "  <tr>\n",
       "    <th>1</th>\n",
       "    <th>3.701239</th>\n",
       "    <th>3.404020</th>\n",
       "    <th>0.302557</th>\n",
       "  </tr>\n",
       "  <tr>\n",
       "    <th>2</th>\n",
       "    <th>3.620372</th>\n",
       "    <th>3.279838</th>\n",
       "    <th>0.305398</th>\n",
       "  </tr>\n",
       "  <tr>\n",
       "    <th>3</th>\n",
       "    <th>3.534713</th>\n",
       "    <th>3.219057</th>\n",
       "    <th>0.335227</th>\n",
       "  </tr>\n",
       "  <tr>\n",
       "    <th>4</th>\n",
       "    <th>3.474338</th>\n",
       "    <th>3.170114</th>\n",
       "    <th>0.339489</th>\n",
       "  </tr>\n",
       "  <tr>\n",
       "    <th>5</th>\n",
       "    <th>3.423969</th>\n",
       "    <th>3.207299</th>\n",
       "    <th>0.348011</th>\n",
       "  </tr>\n",
       "</table>\n"
      ],
      "text/plain": [
       "<IPython.core.display.HTML object>"
      ]
     },
     "metadata": {},
     "output_type": "display_data"
    },
    {
     "data": {
      "image/png": "[encoded data removed]",
      "text/plain": [
       "<Figure size 432x288 with 1 Axes>"
      ]
     },
     "metadata": {
      "needs_background": "light"
     },
     "output_type": "display_data"
    }
   ],
   "source": [
    "#learn.load_encoder('ft_enc')\n",
    "learn.unfreeze()\n",
    "learn.fit_one_cycle(5, 1e-3)\n",
    "learn.recorder.plot_losses()"
   ]
  },
  {
   "cell_type": "markdown",
   "metadata": {},
   "source": [
    "---\n",
    "Save the encoder for classification in the next section."
   ]
  },
  {
   "cell_type": "code",
   "execution_count": 46,
   "metadata": {
    "ExecuteTime": {
     "end_time": "2018-12-27T21:47:44.076191Z",
     "start_time": "2018-12-27T21:47:43.915713Z"
    }
   },
   "outputs": [],
   "source": [
    "learn.save_encoder('ft_enc')\n",
    "\n",
    "del learn\n",
    "torch.cuda.empty_cache()"
   ]
  },
  {
   "cell_type": "markdown",
   "metadata": {},
   "source": [
    "# Build and train the classifier"
   ]
  },
  {
   "cell_type": "code",
   "execution_count": 47,
   "metadata": {
    "ExecuteTime": {
     "end_time": "2018-12-27T21:47:44.338888Z",
     "start_time": "2018-12-27T21:47:44.077189Z"
    }
   },
   "outputs": [],
   "source": [
    "learn = text_classifier_learner(data_clas, callback_fns=[callbacks.SaveModelCallback])\n",
    "learn.load_encoder('ft_enc')"
   ]
  },
  {
   "cell_type": "code",
   "execution_count": 48,
   "metadata": {
    "ExecuteTime": {
     "end_time": "2018-12-27T21:47:44.373982Z",
     "start_time": "2018-12-27T21:47:44.345907Z"
    }
   },
   "outputs": [
    {
     "data": {
      "text/html": [
       "<table>  <col width='90%'>  <col width='10%'>  <tr>\n",
       "    <th>text</th>\n",
       "    <th>target</th>\n",
       "  </tr>\n",
       "  <tr>\n",
       "    <th>xxbos \" xxmaj xxunk by the xxunk ( every gay video these xxunk has a xxunk on the xxunk ; this is not xxunk to be xxunk as a good xxunk ) i xxunk xxup ben xxup and xxup arthur without xxunk a thing about it . xxmaj this is my second ( and i xxunk you it will be my last ) purchase of a xxup culture q xxup</th>\n",
       "    <th>0</th>\n",
       "  </tr>\n",
       "  <tr>\n",
       "    <th>xxbos \" i 'll xxunk with the usual xxunk to a certain xxunk xxunk xxunk for his xxunk xxmaj xxunk xxmaj xxunk xxunk , because quite xxunk , to xxunk xxunk with xxunk xxunk xxmaj xxunk xxmaj kornbluth , is just an xxunk to any such director . i will also avoid xxunk the xxunk - on satire ` xxmaj office xxmaj xxunk ' in the same xxunk as this</th>\n",
       "    <th>0</th>\n",
       "  </tr>\n",
       "  <tr>\n",
       "    <th>xxbos \" xxmaj xxunk xxmaj xxunk 's xxunk film ' xxmaj the xxmaj boogey xxmaj man ' is no classic , but it 's an above average xxunk xxunk xxunk that 's worth a look . xxmaj the sequel , xxunk ' xxmaj boogey xxmaj man xxup ii ' is xxunk a waste of time , but at the very least it 's an entertaining one if not xxunk the</th>\n",
       "    <th>0</th>\n",
       "  </tr>\n",
       "  <tr>\n",
       "    <th>xxbos \" ` xxmaj the xxmaj matrix ' was an xxunk xxunk xxunk that was xxunk xxunk but also xxunk thought xxunk in its ` xxmaj xxunk xxmaj xxunk xxunk . xxmaj the xxunk xxunk xxunk xxunk and this sequel does n't xxunk up to its xxunk . xxmaj worse than that , it does n't even xxunk with it . \\n\\n ` xxmaj reloaded ' xxunk xxunk the screen</th>\n",
       "    <th>0</th>\n",
       "  </tr>\n",
       "  <tr>\n",
       "    <th>xxbos \" xxmaj with all this xxunk going down at the moment with xxup mj i 've xxunk xxunk to his music , watching the xxunk xxunk here and there , watched xxmaj the xxmaj xxunk and watched xxmaj xxunk again . xxmaj maybe i just want to get a certain xxunk into this guy who i thought was really xxunk in the xxunk just to maybe make up my</th>\n",
       "    <th>1</th>\n",
       "  </tr>\n",
       "</table>\n"
      ],
      "text/plain": [
       "<IPython.core.display.HTML object>"
      ]
     },
     "metadata": {},
     "output_type": "display_data"
    }
   ],
   "source": [
    "data_clas.show_batch()"
   ]
  },
  {
   "cell_type": "code",
   "execution_count": 49,
   "metadata": {
    "ExecuteTime": {
     "end_time": "2018-12-27T21:48:38.868547Z",
     "start_time": "2018-12-27T21:47:44.374985Z"
    }
   },
   "outputs": [
    {
     "data": {
      "text/html": [
       "Total time: 01:06 <p><table style='width:300px; margin-bottom:10px'>\n",
       "  <tr>\n",
       "    <th>epoch</th>\n",
       "    <th>train_loss</th>\n",
       "    <th>valid_loss</th>\n",
       "    <th>accuracy</th>\n",
       "  </tr>\n",
       "  <tr>\n",
       "    <th>1</th>\n",
       "    <th>0.802033</th>\n",
       "    <th>0.682875</th>\n",
       "    <th>0.600000</th>\n",
       "  </tr>\n",
       "</table>\n"
      ],
      "text/plain": [
       "<IPython.core.display.HTML object>"
      ]
     },
     "metadata": {},
     "output_type": "display_data"
    }
   ],
   "source": [
    "learn.fit_one_cycle(1, 1e-2)"
   ]
  },
  {
   "cell_type": "code",
   "execution_count": 50,
   "metadata": {
    "ExecuteTime": {
     "end_time": "2018-12-27T21:48:38.983851Z",
     "start_time": "2018-12-27T21:48:38.869551Z"
    }
   },
   "outputs": [
    {
     "data": {
      "image/png": "[encoded data removed]",
      "text/plain": [
       "<Figure size 432x288 with 1 Axes>"
      ]
     },
     "metadata": {
      "needs_background": "light"
     },
     "output_type": "display_data"
    }
   ],
   "source": [
    "learn.recorder.plot_losses()"
   ]
  },
  {
   "cell_type": "code",
   "execution_count": 51,
   "metadata": {
    "ExecuteTime": {
     "end_time": "2018-12-27T21:50:07.973628Z",
     "start_time": "2018-12-27T21:48:38.984854Z"
    }
   },
   "outputs": [
    {
     "data": {
      "text/html": [
       "Total time: 01:35 <p><table style='width:300px; margin-bottom:10px'>\n",
       "  <tr>\n",
       "    <th>epoch</th>\n",
       "    <th>train_loss</th>\n",
       "    <th>valid_loss</th>\n",
       "    <th>accuracy</th>\n",
       "  </tr>\n",
       "  <tr>\n",
       "    <th>1</th>\n",
       "    <th>0.672066</th>\n",
       "    <th>0.683427</th>\n",
       "    <th>0.600000</th>\n",
       "  </tr>\n",
       "</table>\n"
      ],
      "text/plain": [
       "<IPython.core.display.HTML object>"
      ]
     },
     "metadata": {},
     "output_type": "display_data"
    },
    {
     "data": {
      "image/png": "[encoded data removed]",
      "text/plain": [
       "<Figure size 432x288 with 1 Axes>"
      ]
     },
     "metadata": {
      "needs_background": "light"
     },
     "output_type": "display_data"
    }
   ],
   "source": [
    "learn.freeze_to(-2)\n",
    "learn.fit_one_cycle(1, slice(5e-3/2., 5e-3))\n",
    "learn.recorder.plot_losses()"
   ]
  },
  {
   "cell_type": "code",
   "execution_count": 52,
   "metadata": {
    "ExecuteTime": {
     "end_time": "2018-12-27T21:56:39.648155Z",
     "start_time": "2018-12-27T21:50:08.084925Z"
    }
   },
   "outputs": [
    {
     "data": {
      "text/html": [
       "Total time: 45:20 <p><table style='width:300px; margin-bottom:10px'>\n",
       "  <tr>\n",
       "    <th>epoch</th>\n",
       "    <th>train_loss</th>\n",
       "    <th>valid_loss</th>\n",
       "    <th>accuracy</th>\n",
       "  </tr>\n",
       "  <tr>\n",
       "    <th>1</th>\n",
       "    <th>0.774845</th>\n",
       "    <th>0.686152</th>\n",
       "    <th>0.600000</th>\n",
       "  </tr>\n",
       "  <tr>\n",
       "    <th>2</th>\n",
       "    <th>0.733409</th>\n",
       "    <th>0.688397</th>\n",
       "    <th>0.600000</th>\n",
       "  </tr>\n",
       "  <tr>\n",
       "    <th>3</th>\n",
       "    <th>0.720846</th>\n",
       "    <th>0.686677</th>\n",
       "    <th>0.600000</th>\n",
       "  </tr>\n",
       "  <tr>\n",
       "    <th>4</th>\n",
       "    <th>0.730987</th>\n",
       "    <th>0.685883</th>\n",
       "    <th>0.600000</th>\n",
       "  </tr>\n",
       "  <tr>\n",
       "    <th>5</th>\n",
       "    <th>0.737296</th>\n",
       "    <th>0.686441</th>\n",
       "    <th>0.600000</th>\n",
       "  </tr>\n",
       "</table>\n"
      ],
      "text/plain": [
       "<IPython.core.display.HTML object>"
      ]
     },
     "metadata": {},
     "output_type": "display_data"
    },
    {
     "data": {
      "image/png": "[encoded data removed]",
      "text/plain": [
       "<Figure size 432x288 with 1 Axes>"
      ]
     },
     "metadata": {
      "needs_background": "light"
     },
     "output_type": "display_data"
    }
   ],
   "source": [
    "learn.unfreeze()\n",
    "learn.fit_one_cycle(5, slice(2e-3/100, 2e-3))\n",
    "learn.recorder.plot_losses()"
   ]
  },
  {
   "cell_type": "markdown",
   "metadata": {},
   "source": [
    "---"
   ]
  },
  {
   "cell_type": "code",
   "execution_count": 53,
   "metadata": {
    "ExecuteTime": {
     "end_time": "2018-12-27T21:56:40.173248Z",
     "start_time": "2018-12-27T21:56:39.778502Z"
    }
   },
   "outputs": [],
   "source": [
    "learn.save('imdb_train_clas')\n",
    "\n",
    "torch.cuda.empty_cache()"
   ]
  },
  {
   "cell_type": "code",
   "execution_count": 54,
   "metadata": {
    "ExecuteTime": {
     "end_time": "2018-12-27T21:56:59.749551Z",
     "start_time": "2018-12-27T21:56:40.175252Z"
    }
   },
   "outputs": [
    {
     "data": {
      "text/html": [
       "<table>  <col width='85%'>  <col width='7.5%'>  <col width='7.5%'>  <tr>\n",
       "    <th>text</th>\n",
       "    <th>target</th>\n",
       "    <th>prediction</th>\n",
       "  </tr>\n",
       "  <tr>\n",
       "    <th>xxbos \" xxmaj xxunk by the xxunk ( every gay video these xxunk has a xxunk on the xxunk ; this is not xxunk to be xxunk as a good xxunk ) i xxunk xxup ben xxup and xxup arthur without xxunk a thing about it . xxmaj this is my second ( and i xxunk you it will be my last ) purchase of a xxup culture q xxup</th>\n",
       "    <th>0</th>\n",
       "    <th>0</th>\n",
       "  </tr>\n",
       "  <tr>\n",
       "    <th>xxbos \" i 'll xxunk with the usual xxunk to a certain xxunk xxunk xxunk for his xxunk xxmaj xxunk xxmaj xxunk xxunk , because quite xxunk , to xxunk xxunk with xxunk xxunk xxmaj xxunk xxmaj kornbluth , is just an xxunk to any such director . i will also avoid xxunk the xxunk - on satire ` xxmaj office xxmaj xxunk ' in the same xxunk as this</th>\n",
       "    <th>0</th>\n",
       "    <th>0</th>\n",
       "  </tr>\n",
       "  <tr>\n",
       "    <th>xxbos \" xxmaj xxunk xxmaj xxunk 's xxunk film ' xxmaj the xxmaj boogey xxmaj man ' is no classic , but it 's an above average xxunk xxunk xxunk that 's worth a look . xxmaj the sequel , xxunk ' xxmaj boogey xxmaj man xxup ii ' is xxunk a waste of time , but at the very least it 's an entertaining one if not xxunk the</th>\n",
       "    <th>0</th>\n",
       "    <th>0</th>\n",
       "  </tr>\n",
       "  <tr>\n",
       "    <th>xxbos \" ` xxmaj the xxmaj matrix ' was an xxunk xxunk xxunk that was xxunk xxunk but also xxunk thought xxunk in its ` xxmaj xxunk xxmaj xxunk xxunk . xxmaj the xxunk xxunk xxunk xxunk and this sequel does n't xxunk up to its xxunk . xxmaj worse than that , it does n't even xxunk with it . \\n\\n ` xxmaj reloaded ' xxunk xxunk the screen</th>\n",
       "    <th>0</th>\n",
       "    <th>0</th>\n",
       "  </tr>\n",
       "  <tr>\n",
       "    <th>xxbos \" xxmaj with all this xxunk going down at the moment with xxup mj i 've xxunk xxunk to his music , watching the xxunk xxunk here and there , watched xxmaj the xxmaj xxunk and watched xxmaj xxunk again . xxmaj maybe i just want to get a certain xxunk into this guy who i thought was really xxunk in the xxunk just to maybe make up my</th>\n",
       "    <th>1</th>\n",
       "    <th>0</th>\n",
       "  </tr>\n",
       "</table>\n"
      ],
      "text/plain": [
       "<IPython.core.display.HTML object>"
      ]
     },
     "metadata": {},
     "output_type": "display_data"
    }
   ],
   "source": [
    "learn.show_results(5)"
   ]
  },
  {
   "cell_type": "markdown",
   "metadata": {},
   "source": [
    "# Predictions"
   ]
  },
  {
   "cell_type": "code",
   "execution_count": 55,
   "metadata": {
    "ExecuteTime": {
     "end_time": "2018-12-27T21:59:04.127649Z",
     "start_time": "2018-12-27T21:59:04.109601Z"
    }
   },
   "outputs": [
    {
     "data": {
      "text/plain": [
       "'\"Naturally in a film who\\'s main themes are of mortality, nostalgia, and loss of innocence it is perhaps not surprising that it is rated more highly by older viewers than younger ones. However there is a craftsmanship and completeness to the film which anyone can enjoy. The pace is steady and constant, the characters full and engaging, the relationships and interactions natural showing that you do not need floods of tears to show emotion, screams to show fear, shouting to show dispute or violence to show anger. Naturally Joyce\\'s short story lends the film a ready made structure as perfect as a polished diamond, but the small changes Huston makes such as the inclusion of the poem fit in neatly. It is truly a masterpiece of tact, subtlety and overwhelming beauty.\"'"
      ]
     },
     "execution_count": 55,
     "metadata": {},
     "output_type": "execute_result"
    }
   ],
   "source": [
    "item = list(combinedDat[ combinedDat['type'] == 'test']['review'])[0]\n",
    "item"
   ]
  },
  {
   "cell_type": "code",
   "execution_count": 56,
   "metadata": {
    "ExecuteTime": {
     "end_time": "2018-12-27T21:59:06.317315Z",
     "start_time": "2018-12-27T21:59:05.757820Z"
    }
   },
   "outputs": [
    {
     "name": "stdout",
     "output_type": "stream",
     "text": [
      "(Category 0, tensor(0), tensor([0.5341, 0.4659]))\n",
      "0\n"
     ]
    }
   ],
   "source": [
    "print(learn.predict(item))\n",
    "print(int(torch.argmax(learn.predict(item)[2])))"
   ]
  },
  {
   "cell_type": "markdown",
   "metadata": {},
   "source": [
    "# Create Kaggle submission"
   ]
  },
  {
   "cell_type": "code",
   "execution_count": 60,
   "metadata": {},
   "outputs": [
    {
     "name": "stdout",
     "output_type": "stream",
     "text": [
      "            sentiment\n",
      "id                   \n",
      "\"12311_10\"          0\n",
      "\"8348_2\"            0\n",
      "\"5828_4\"            0\n",
      "\"7186_2\"            0\n",
      "\"12128_7\"           0\n"
     ]
    }
   ],
   "source": [
    "yhats = []\n",
    "ids = []\n",
    "\n",
    "for i, row in testDat.iloc[:10,:].iterrows():\n",
    "    yhats.append(int(torch.argmax(learn.predict(row['review'])[2])))\n",
    "    ids.append(row['id'])\n",
    "    \n",
    "df_results = pd.DataFrame({'id': ids, 'sentiment': yhats}).set_index('id')\n",
    "print(df_results.head())\n",
    "\n",
    "# create a submission csv file\n",
    "df_results.to_csv('kaggle_submission.csv', quoting = csv.QUOTE_NONE) \n",
    "# Keras cnn + GloVe + Early Stopping v1.3"
   ]
  },
  {
   "cell_type": "markdown",
   "metadata": {},
   "source": [
    "---------------------------------------------------------------------"
   ]
  },
  {
   "cell_type": "code",
   "execution_count": null,
   "metadata": {
    "ExecuteTime": {
     "end_time": "2018-12-27T21:57:01.736208Z",
     "start_time": "2018-12-27T21:57:01.733200Z"
    }
   },
   "outputs": [],
   "source": [
    "data_lm.__class__\n",
    "method_list = [func for func in dir(data_lm) if callable(getattr(data_lm, func))]\n",
    "method_list"
   ]
  },
  {
   "cell_type": "code",
   "execution_count": null,
   "metadata": {},
   "outputs": [],
   "source": []
  }
 ],
 "metadata": {
  "kernelspec": {
   "display_name": "Python 3",
   "language": "python",
   "name": "python3"
  },
  "language_info": {
   "codemirror_mode": {
    "name": "ipython",
    "version": 3
   },
   "file_extension": ".py",
   "mimetype": "text/x-python",
   "name": "python",
   "nbconvert_exporter": "python",
   "pygments_lexer": "ipython3",
   "version": "3.6.7"
  },
  "toc": {
   "nav_menu": {},
   "number_sections": true,
   "sideBar": true,
   "skip_h1_title": true,
   "title_cell": "Table of Contents",
   "title_sidebar": "Contents",
   "toc_cell": true,
   "toc_position": {},
   "toc_section_display": true,
   "toc_window_display": false
  }
 },
 "nbformat": 4,
 "nbformat_minor": 2
}
