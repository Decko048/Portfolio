{
 "cells": [
  {
   "cell_type": "markdown",
   "metadata": {
    "toc": true
   },
   "source": [
    "<h1>Table of Contents<span class=\"tocSkip\"></span></h1>\n",
    "<div class=\"toc\"><ul class=\"toc-item\"><li><span><a href=\"#Create-LM-data\" data-toc-modified-id=\"Create-LM-data-1\"><span class=\"toc-item-num\">1&nbsp;&nbsp;</span>Create LM data</a></span></li><li><span><a href=\"#Create-classifier-data\" data-toc-modified-id=\"Create-classifier-data-2\"><span class=\"toc-item-num\">2&nbsp;&nbsp;</span>Create classifier data</a></span></li><li><span><a href=\"#Save-data\" data-toc-modified-id=\"Save-data-3\"><span class=\"toc-item-num\">3&nbsp;&nbsp;</span>Save data</a></span></li></ul></div>"
   ]
  },
  {
   "cell_type": "markdown",
   "metadata": {},
   "source": [
    "This method allows us to build the LM from all reviews - labeled and unlabeled.\n",
    "\n",
    "https://docs.fast.ai/tutorial.data.html"
   ]
  },
  {
   "cell_type": "markdown",
   "metadata": {},
   "source": [
    "# Import libs and define global vars"
   ]
  },
  {
   "cell_type": "code",
   "execution_count": 1,
   "metadata": {
    "ExecuteTime": {
     "end_time": "2018-12-27T21:45:09.238181Z",
     "start_time": "2018-12-27T21:45:05.145805Z"
    }
   },
   "outputs": [],
   "source": [
    "import os\n",
    "from fastai.text import * \n",
    "\n",
    "# Set the seeds\n",
    "seedVal = 10\n",
    "from numpy.random import seed\n",
    "seed(seedVal)\n",
    "\n",
    "path = './'"
   ]
  },
  {
   "cell_type": "markdown",
   "metadata": {},
   "source": [
    "# Load and view data"
   ]
  },
  {
   "cell_type": "code",
   "execution_count": 2,
   "metadata": {
    "ExecuteTime": {
     "end_time": "2018-12-27T21:45:10.775288Z",
     "start_time": "2018-12-27T21:45:09.240186Z"
    }
   },
   "outputs": [
    {
     "name": "stdout",
     "output_type": "stream",
     "text": [
      "labDat.shape : (25000, 4)\n",
      "unlabDat.shape : (50000, 4)\n",
      "testDat.shape : (25000, 4)\n",
      "\n",
      "\n",
      "<class 'pandas.core.frame.DataFrame'>\n",
      "RangeIndex: 25000 entries, 0 to 24999\n",
      "Data columns (total 4 columns):\n",
      "id           25000 non-null object\n",
      "sentiment    25000 non-null int64\n",
      "review       25000 non-null object\n",
      "type         25000 non-null object\n",
      "dtypes: int64(1), object(3)\n",
      "memory usage: 781.3+ KB\n",
      "labDat.info() : None\n",
      "\n",
      "\n",
      "<class 'pandas.core.frame.DataFrame'>\n",
      "RangeIndex: 50000 entries, 0 to 49999\n",
      "Data columns (total 4 columns):\n",
      "id           50000 non-null object\n",
      "review       50000 non-null object\n",
      "type         50000 non-null object\n",
      "sentiment    0 non-null object\n",
      "dtypes: object(4)\n",
      "memory usage: 1.5+ MB\n",
      "unlabDat.info() : None\n",
      "\n",
      "\n",
      "<class 'pandas.core.frame.DataFrame'>\n",
      "RangeIndex: 25000 entries, 0 to 24999\n",
      "Data columns (total 4 columns):\n",
      "id           25000 non-null object\n",
      "review       25000 non-null object\n",
      "type         25000 non-null object\n",
      "sentiment    0 non-null object\n",
      "dtypes: object(4)\n",
      "memory usage: 781.3+ KB\n",
      "testDat.info() : None\n"
     ]
    }
   ],
   "source": [
    "# Set paths to CSV files\n",
    "dataPath = os.path.join('.', 'datasets', 'imdb_movie_reviews')\n",
    "labeledTrainData = os.path.join(dataPath, 'labeledTrainData.tsv')\n",
    "unlabeledTrainData = os.path.join(dataPath, 'unlabeledTrainData.tsv')\n",
    "testData = os.path.join(dataPath, 'testData.tsv')\n",
    "\n",
    "# Read CSV files into DFs\n",
    "labDat = pd.read_csv(labeledTrainData, sep = '\\t', header = 0, quoting = 3)\n",
    "unlabDat = pd.read_csv(unlabeledTrainData, sep = '\\t', header = 0, quoting = 3)\n",
    "testDat = pd.read_csv(testData, sep = '\\t', header = 0, quoting = 3)\n",
    "\n",
    "# Add columns\n",
    "labDat['type'] = 'train'\n",
    "unlabDat['type'] = 'unlabeled'\n",
    "testDat['type'] = 'test'\n",
    "\n",
    "unlabDat['sentiment'] = None\n",
    "testDat['sentiment'] = None\n",
    "\n",
    "\n",
    "# Sanity check\n",
    "print('labDat.shape :', labDat.shape)\n",
    "print('unlabDat.shape :', unlabDat.shape)\n",
    "print('testDat.shape :', testDat.shape)\n",
    "\n",
    "# Examine results\n",
    "print(\"\\n\")\n",
    "print('labDat.info() :', labDat.info())\n",
    "print(\"\\n\")\n",
    "print('unlabDat.info() :', unlabDat.info())\n",
    "print(\"\\n\")\n",
    "print('testDat.info() :', testDat.info())"
   ]
  },
  {
   "cell_type": "markdown",
   "metadata": {},
   "source": [
    "---combinedDat = pd.concat(objs=[labDat, unlabDat, testDat], axis=0).reset_index(drop=True)\n",
    "print(combinedDat.shape)\n",
    "print(\"\\n\")\n",
    "print(combinedDat.info())\n",
    "Combine the DFs"
   ]
  },
  {
   "cell_type": "code",
   "execution_count": 3,
   "metadata": {
    "ExecuteTime": {
     "end_time": "2018-12-27T21:45:10.840462Z",
     "start_time": "2018-12-27T21:45:10.776290Z"
    }
   },
   "outputs": [
    {
     "name": "stdout",
     "output_type": "stream",
     "text": [
      "(100000, 4)\n",
      "\n",
      "\n",
      "<class 'pandas.core.frame.DataFrame'>\n",
      "RangeIndex: 100000 entries, 0 to 99999\n",
      "Data columns (total 4 columns):\n",
      "id           100000 non-null object\n",
      "sentiment    25000 non-null object\n",
      "review       100000 non-null object\n",
      "type         100000 non-null object\n",
      "dtypes: object(4)\n",
      "memory usage: 3.1+ MB\n",
      "None\n"
     ]
    }
   ],
   "source": [
    "combinedDat = pd.concat(objs=[labDat, unlabDat, testDat], axis=0, sort=False).reset_index(drop=True)\n",
    "print(combinedDat.shape)\n",
    "print(\"\\n\")\n",
    "print(combinedDat.info())"
   ]
  },
  {
   "cell_type": "code",
   "execution_count": 4,
   "metadata": {
    "ExecuteTime": {
     "end_time": "2018-12-27T21:45:10.874029Z",
     "start_time": "2018-12-27T21:45:10.841464Z"
    }
   },
   "outputs": [
    {
     "data": {
      "text/html": [
       "<div>\n",
       "<style scoped>\n",
       "    .dataframe tbody tr th:only-of-type {\n",
       "        vertical-align: middle;\n",
       "    }\n",
       "\n",
       "    .dataframe tbody tr th {\n",
       "        vertical-align: top;\n",
       "    }\n",
       "\n",
       "    .dataframe thead th {\n",
       "        text-align: right;\n",
       "    }\n",
       "</style>\n",
       "<table border=\"1\" class=\"dataframe\">\n",
       "  <thead>\n",
       "    <tr style=\"text-align: right;\">\n",
       "      <th></th>\n",
       "      <th>id</th>\n",
       "      <th>sentiment</th>\n",
       "      <th>review</th>\n",
       "      <th>type</th>\n",
       "    </tr>\n",
       "  </thead>\n",
       "  <tbody>\n",
       "    <tr>\n",
       "      <th>0</th>\n",
       "      <td>\"5814_8\"</td>\n",
       "      <td>1</td>\n",
       "      <td>\"With all this stuff going down at the moment ...</td>\n",
       "      <td>train</td>\n",
       "    </tr>\n",
       "    <tr>\n",
       "      <th>1</th>\n",
       "      <td>\"2381_9\"</td>\n",
       "      <td>1</td>\n",
       "      <td>\"\\\"The Classic War of the Worlds\\\" by Timothy ...</td>\n",
       "      <td>train</td>\n",
       "    </tr>\n",
       "    <tr>\n",
       "      <th>2</th>\n",
       "      <td>\"7759_3\"</td>\n",
       "      <td>0</td>\n",
       "      <td>\"The film starts with a manager (Nicholas Bell...</td>\n",
       "      <td>train</td>\n",
       "    </tr>\n",
       "    <tr>\n",
       "      <th>3</th>\n",
       "      <td>\"3630_4\"</td>\n",
       "      <td>0</td>\n",
       "      <td>\"It must be assumed that those who praised thi...</td>\n",
       "      <td>train</td>\n",
       "    </tr>\n",
       "    <tr>\n",
       "      <th>4</th>\n",
       "      <td>\"9495_8\"</td>\n",
       "      <td>1</td>\n",
       "      <td>\"Superbly trashy and wondrously unpretentious ...</td>\n",
       "      <td>train</td>\n",
       "    </tr>\n",
       "  </tbody>\n",
       "</table>\n",
       "</div>"
      ],
      "text/plain": [
       "         id sentiment                                             review  \\\n",
       "0  \"5814_8\"         1  \"With all this stuff going down at the moment ...   \n",
       "1  \"2381_9\"         1  \"\\\"The Classic War of the Worlds\\\" by Timothy ...   \n",
       "2  \"7759_3\"         0  \"The film starts with a manager (Nicholas Bell...   \n",
       "3  \"3630_4\"         0  \"It must be assumed that those who praised thi...   \n",
       "4  \"9495_8\"         1  \"Superbly trashy and wondrously unpretentious ...   \n",
       "\n",
       "    type  \n",
       "0  train  \n",
       "1  train  \n",
       "2  train  \n",
       "3  train  \n",
       "4  train  "
      ]
     },
     "execution_count": 4,
     "metadata": {},
     "output_type": "execute_result"
    }
   ],
   "source": [
    "combinedDat.head()"
   ]
  },
  {
   "cell_type": "markdown",
   "metadata": {},
   "source": [
    "# Prepare the data"
   ]
  },
  {
   "cell_type": "markdown",
   "metadata": {},
   "source": [
    "## Create LM data"
   ]
  },
  {
   "cell_type": "code",
   "execution_count": 5,
   "metadata": {
    "ExecuteTime": {
     "end_time": "2018-12-27T21:45:26.089830Z",
     "start_time": "2018-12-27T21:45:10.876034Z"
    }
   },
   "outputs": [],
   "source": [
    "# Language model data\n",
    "data_lm = (TextList.from_df(df = combinedDat.iloc[:164,:], cols = 'review')\n",
    "           .random_split_by_pct(seed=seedVal)\n",
    "           .label_for_lm()\n",
    "           .databunch())"
   ]
  },
  {
   "cell_type": "code",
   "execution_count": 6,
   "metadata": {
    "ExecuteTime": {
     "end_time": "2018-12-27T21:45:26.096849Z",
     "start_time": "2018-12-27T21:45:26.090833Z"
    }
   },
   "outputs": [
    {
     "data": {
      "text/html": [
       "<table>  <col width='5%'>  <col width='95%'>  <tr>\n",
       "    <th>idx</th>\n",
       "    <th>text</th>\n",
       "  </tr>\n",
       "  <tr>\n",
       "    <th>0</th>\n",
       "    <th>xxbos \" i just saw this episode this xxunk , on a recently - added xxunk by one of our local xxunk xxunk , which now presents two xxunk each xxunk . \\n\\n xxmaj as the xxunk xxunk in the other , previous comment here , i agree this may not have been one of the best xxunk of the series , but i find it entertaining xxunk . \\n\\n</th>\n",
       "  </tr>\n",
       "  <tr>\n",
       "    <th>1</th>\n",
       "    <th>xxunk , has xxunk in her . xxmaj and he has made it his xxunk mission to see that she xxunk at becoming a pilot , for he was a xxunk of the battle in which xxmaj noriko 's father was killed . \\n\\n xxmaj other characters xxunk xxmaj xxunk - xxmaj xxunk , a xxmaj xxunk xxunk pilot xxunk to xxunk with the xxunk xxmaj noriko and xxmaj xxunk</th>\n",
       "  </tr>\n",
       "  <tr>\n",
       "    <th>2</th>\n",
       "    <th>she pick ? i have to xxunk 10 lines in order to xxunk to the first comment . xxmaj what am i going to say . xxmaj xxunk da da de de . xxmaj xxunk da da de de xxunk only up to 8 how do i get to 9 almost almost xxunk 9 now i need 10 - 1 , 2 , 3 , 4 , 5 , 6</th>\n",
       "  </tr>\n",
       "  <tr>\n",
       "    <th>3</th>\n",
       "    <th>xxunk ups . i liked the film . xxmaj its not the be all and end all but it was a nice way to xxunk off an xxunk of sitting on the xxunk watching movies . \\n\\n 7 out of 10 \" xxbos \" i loved the episode but seems to me there should have been some quick reference to the xxunk getting xxunk for xxunk being an xxunk after</th>\n",
       "  </tr>\n",
       "  <tr>\n",
       "    <th>4</th>\n",
       "    <th>. xxmaj the audience is xxunk . \\n\\n xxmaj together with xxunk ` , this is definitely xxmaj xxunk 's most stupid movie . 2 stars out of 10 . \" xxbos \" \\n\\n xxmaj this movie is full of xxunk . xxmaj like \" xxmaj mad xxmaj xxunk xxup ii \" , \" xxmaj the xxunk one \" and many others . xxmaj the xxunk face xxunk a clear</th>\n",
       "  </tr>\n",
       "</table>\n"
      ],
      "text/plain": [
       "<IPython.core.display.HTML object>"
      ]
     },
     "metadata": {},
     "output_type": "display_data"
    }
   ],
   "source": [
    "data_lm.show_batch()"
   ]
  },
  {
   "cell_type": "markdown",
   "metadata": {},
   "source": [
    "## Create classifier data"
   ]
  },
  {
   "cell_type": "code",
   "execution_count": 7,
   "metadata": {
    "ExecuteTime": {
     "end_time": "2018-12-27T21:45:39.911407Z",
     "start_time": "2018-12-27T21:45:26.097852Z"
    }
   },
   "outputs": [],
   "source": [
    "data_clas = (TextList.from_df(df = combinedDat[ combinedDat['type'] == 'train'].iloc[:164,:], cols='review', vocab=data_lm.vocab)\n",
    "             .random_split_by_pct(valid_pct=0.1, seed=seedVal)\n",
    "             .label_from_df(cols='sentiment')\n",
    "             .databunch(bs=32))"
   ]
  },
  {
   "cell_type": "code",
   "execution_count": 8,
   "metadata": {
    "ExecuteTime": {
     "end_time": "2018-12-27T21:45:39.939482Z",
     "start_time": "2018-12-27T21:45:39.912410Z"
    }
   },
   "outputs": [
    {
     "data": {
      "text/html": [
       "<table>  <col width='90%'>  <col width='10%'>  <tr>\n",
       "    <th>text</th>\n",
       "    <th>target</th>\n",
       "  </tr>\n",
       "  <tr>\n",
       "    <th>xxbos \" xxmaj hello xxmaj mary xxmaj lou : xxmaj prom xxmaj night xxup ii starts at the xxmaj hamilton xxmaj high xxmaj school prom of xxunk where xxmaj mary xxmaj lou xxmaj xxunk ( xxmaj xxunk xxmaj xxunk ) is xxunk on her xxunk xxmaj bill xxmaj xxunk ( xxmaj xxunk xxmaj xxunk ) with xxmaj bud xxmaj xxunk ( xxmaj robert xxmaj xxunk ) . xxmaj bill finds</th>\n",
       "    <th>0</th>\n",
       "  </tr>\n",
       "  <tr>\n",
       "    <th>xxbos \" xxmaj zombie xxmaj review xxunk 3 \\n\\n * * xxmaj spoilers * * \\n\\n xxmaj few films are actually \" so bad they 're good \" , and xxmaj zombi 3 is not just bad , it 's xxunk , xxunk bad in so many ways that a whole new xxunk may be needed just to xxunk them all \\n\\n xxmaj more than that , it 's a</th>\n",
       "    <th>0</th>\n",
       "  </tr>\n",
       "  <tr>\n",
       "    <th>xxbos \" xxmaj xxunk by the xxunk ( every gay video these days has a xxunk on the cover ; this is not necessarily to be xxunk as a good xxunk ) i xxunk xxup ben xxup and xxup arthur without knowing a thing about it . xxmaj this is my second ( and i xxunk you it will be my last ) purchase of a xxup culture q xxup</th>\n",
       "    <th>0</th>\n",
       "  </tr>\n",
       "  <tr>\n",
       "    <th>xxbos \" xxmaj really , the use of xxunk nature documentary of swarming bats xxunk by xxup the xxup bat xxup people is some of the most effective ever . xxmaj there are shots of xxunk bats xxunk from the xxunk of caves , swarming bats xxunk out of caves or xxunk about near the xxunk of caves . xxmaj that alone is enough to be xxunk : xxmaj imagine</th>\n",
       "    <th>0</th>\n",
       "  </tr>\n",
       "  <tr>\n",
       "    <th>xxbos \" i 'll xxunk with the usual xxunk to a certain xxunk xxunk known for his xxunk xxmaj new xxmaj xxunk xxunk , because quite xxunk , to xxunk xxunk with xxunk xxunk xxmaj xxunk xxmaj xxunk , is just an xxunk to any such director . i will also avoid xxunk the xxunk - on satire ` xxmaj xxunk xxmaj xxunk ' in the same xxunk as this</th>\n",
       "    <th>0</th>\n",
       "  </tr>\n",
       "</table>\n"
      ],
      "text/plain": [
       "<IPython.core.display.HTML object>"
      ]
     },
     "metadata": {},
     "output_type": "display_data"
    }
   ],
   "source": [
    "data_clas.show_batch()"
   ]
  },
  {
   "cell_type": "code",
   "execution_count": 9,
   "metadata": {
    "ExecuteTime": {
     "end_time": "2018-12-27T21:45:40.011675Z",
     "start_time": "2018-12-27T21:45:39.940485Z"
    }
   },
   "outputs": [
    {
     "name": "stdout",
     "output_type": "stream",
     "text": [
      "xxbos \" \" xxmaj the xxmaj classic xxmaj war of the xxmaj xxunk \" by xxmaj xxunk xxmaj xxunk is a very entertaining film that xxunk goes to great effort and xxunk to xxunk xxunk xxup xxunk xxup xxunk xxmaj xxunk ' classic book . xxmaj mr. xxmaj xxunk xxunk in doing so . i , and those who watched his film with me , xxunk the fact that it was not the xxunk , xxunk xxmaj hollywood xxunk that comes out every year , xxunk the xxmaj xxunk version with xxmaj tom xxmaj xxunk that had only the xxunk xxunk to the book . xxmaj xxunk , everyone looks for different things in a movie . xxmaj those who xxunk themselves as xxunk \" xxunk \" look only to xxunk everything they can . xxmaj others rate a movie on more important xxunk , like being xxunk , which is why most people never agree with the \" xxunk \" . xxmaj we enjoyed the effort xxmaj mr. xxmaj xxunk put into being xxunk to xxup xxunk xxmaj xxunk ' classic novel , and we found it to be very entertaining . xxmaj this made it xxunk to xxunk what the \" xxunk \" xxunk to be its xxunk . \"\n",
      "1\n"
     ]
    }
   ],
   "source": [
    "# How can we view the results of the preprocessing?\n",
    "\n",
    "# Look at record number three...  The FloatItem at the end is the label\n",
    "#data_clas.train_ds[2]\n",
    "\n",
    "#data_clas.train_ds.__class__\n",
    "# fastai.data_block.LabelList\n",
    "# https://github.com/fastai/fastai/blob/master/fastai/data_block.py\n",
    "\n",
    "print(data_clas.train_ds.x[1])\n",
    "print(data_clas.train_ds.y[1])\n",
    "\n",
    "#len(data_clas.train_ds.x)\n",
    "#len(data_clas.valid_ds.x)\n",
    "#print(len(data_clas.train_ds.x) + len(data_clas.valid_ds.x))\n",
    "#print(len(labDat))"
   ]
  },
  {
   "cell_type": "markdown",
   "metadata": {},
   "source": [
    "## Save data"
   ]
  },
  {
   "cell_type": "code",
   "execution_count": 10,
   "metadata": {
    "ExecuteTime": {
     "end_time": "2018-12-27T21:45:40.145447Z",
     "start_time": "2018-12-27T21:45:40.014683Z"
    }
   },
   "outputs": [],
   "source": [
    "data_lm.save()\n",
    "data_clas.save()"
   ]
  },
  {
   "cell_type": "code",
   "execution_count": 11,
   "metadata": {
    "ExecuteTime": {
     "end_time": "2018-12-27T21:45:40.244406Z",
     "start_time": "2018-12-27T21:45:40.147805Z"
    }
   },
   "outputs": [],
   "source": [
    "data_lm = TextLMDataBunch.load(path)\n",
    "data_clas = TextClasDataBunch.load(path, bs=32)"
   ]
  },
  {
   "cell_type": "markdown",
   "metadata": {},
   "source": [
    "# Create and fine tune language model\n",
    "\n",
    "We can use the data_lm object we created earlier to fine-tune a pretrained language model. fast.ai has an English model available that we can download. We can create a learner object that will directly create a model, download the pretrained weights and be ready for fine-tuning."
   ]
  },
  {
   "cell_type": "code",
   "execution_count": 12,
   "metadata": {
    "ExecuteTime": {
     "end_time": "2018-12-27T21:46:14.256149Z",
     "start_time": "2018-12-27T21:45:40.245409Z"
    }
   },
   "outputs": [
    {
     "data": {
      "text/html": [
       "Total time: 00:33 <p><table style='width:300px; margin-bottom:10px'>\n",
       "  <tr>\n",
       "    <th>epoch</th>\n",
       "    <th>train_loss</th>\n",
       "    <th>valid_loss</th>\n",
       "    <th>accuracy</th>\n",
       "  </tr>\n",
       "  <tr>\n",
       "    <th>1</th>\n",
       "    <th>4.077188</th>\n",
       "    <th>3.489840</th>\n",
       "    <th>0.314762</th>\n",
       "  </tr>\n",
       "</table>\n"
      ],
      "text/plain": [
       "<IPython.core.display.HTML object>"
      ]
     },
     "metadata": {},
     "output_type": "display_data"
    }
   ],
   "source": [
    "learn = language_model_learner(data_lm, pretrained_model=URLs.WT103_1, drop_mult=0.5)\n",
    "learn.fit_one_cycle(1, 1e-2)"
   ]
  },
  {
   "cell_type": "code",
   "execution_count": 13,
   "metadata": {
    "ExecuteTime": {
     "end_time": "2018-12-27T21:46:14.371457Z",
     "start_time": "2018-12-27T21:46:14.257151Z"
    }
   },
   "outputs": [
    {
     "data": {
      "image/png": "[encoded data removed]",
      "text/plain": [
       "<Figure size 432x288 with 1 Axes>"
      ]
     },
     "metadata": {
      "needs_background": "light"
     },
     "output_type": "display_data"
    }
   ],
   "source": [
    "learn.recorder.plot_losses()"
   ]
  },
  {
   "cell_type": "markdown",
   "metadata": {},
   "source": [
    "---\n",
    "Next, fine tune the model:"
   ]
  },
  {
   "cell_type": "code",
   "execution_count": 14,
   "metadata": {
    "ExecuteTime": {
     "end_time": "2018-12-27T21:47:43.789376Z",
     "start_time": "2018-12-27T21:46:14.372460Z"
    }
   },
   "outputs": [
    {
     "data": {
      "text/html": [
       "Total time: 01:29 <p><table style='width:300px; margin-bottom:10px'>\n",
       "  <tr>\n",
       "    <th>epoch</th>\n",
       "    <th>train_loss</th>\n",
       "    <th>valid_loss</th>\n",
       "    <th>accuracy</th>\n",
       "  </tr>\n",
       "  <tr>\n",
       "    <th>1</th>\n",
       "    <th>3.830185</th>\n",
       "    <th>3.455946</th>\n",
       "    <th>0.334199</th>\n",
       "  </tr>\n",
       "</table>\n"
      ],
      "text/plain": [
       "<IPython.core.display.HTML object>"
      ]
     },
     "metadata": {},
     "output_type": "display_data"
    }
   ],
   "source": [
    "learn.unfreeze()\n",
    "learn.fit_one_cycle(1, 1e-3)"
   ]
  },
  {
   "cell_type": "code",
   "execution_count": 15,
   "metadata": {
    "ExecuteTime": {
     "end_time": "2018-12-27T21:47:43.914711Z",
     "start_time": "2018-12-27T21:47:43.790377Z"
    }
   },
   "outputs": [
    {
     "data": {
      "image/png": "[encoded data removed]",
      "text/plain": [
       "<Figure size 432x288 with 1 Axes>"
      ]
     },
     "metadata": {
      "needs_background": "light"
     },
     "output_type": "display_data"
    }
   ],
   "source": [
    "learn.recorder.plot_losses()"
   ]
  },
  {
   "cell_type": "markdown",
   "metadata": {},
   "source": [
    "---\n",
    "Save the encoder for classification in the next section."
   ]
  },
  {
   "cell_type": "code",
   "execution_count": 16,
   "metadata": {
    "ExecuteTime": {
     "end_time": "2018-12-27T21:47:44.076191Z",
     "start_time": "2018-12-27T21:47:43.915713Z"
    }
   },
   "outputs": [],
   "source": [
    "learn.save_encoder('ft_enc')"
   ]
  },
  {
   "cell_type": "markdown",
   "metadata": {},
   "source": [
    "# Build and train the classifier"
   ]
  },
  {
   "cell_type": "code",
   "execution_count": 17,
   "metadata": {
    "ExecuteTime": {
     "end_time": "2018-12-27T21:47:44.338888Z",
     "start_time": "2018-12-27T21:47:44.077189Z"
    }
   },
   "outputs": [],
   "source": [
    "learn = text_classifier_learner(data_clas)\n",
    "learn.load_encoder('ft_enc')"
   ]
  },
  {
   "cell_type": "code",
   "execution_count": 18,
   "metadata": {
    "ExecuteTime": {
     "end_time": "2018-12-27T21:47:44.373982Z",
     "start_time": "2018-12-27T21:47:44.345907Z"
    }
   },
   "outputs": [
    {
     "data": {
      "text/html": [
       "<table>  <col width='90%'>  <col width='10%'>  <tr>\n",
       "    <th>text</th>\n",
       "    <th>target</th>\n",
       "  </tr>\n",
       "  <tr>\n",
       "    <th>xxbos \" xxmaj hello xxmaj mary xxmaj lou : xxmaj prom xxmaj night xxup ii starts at the xxmaj hamilton xxmaj high xxmaj school prom of xxunk where xxmaj mary xxmaj lou xxmaj xxunk ( xxmaj xxunk xxmaj xxunk ) is xxunk on her xxunk xxmaj bill xxmaj xxunk ( xxmaj xxunk xxmaj xxunk ) with xxmaj bud xxmaj xxunk ( xxmaj robert xxmaj xxunk ) . xxmaj bill finds</th>\n",
       "    <th>0</th>\n",
       "  </tr>\n",
       "  <tr>\n",
       "    <th>xxbos \" xxmaj zombie xxmaj review xxunk 3 \\n\\n * * xxmaj spoilers * * \\n\\n xxmaj few films are actually \" so bad they 're good \" , and xxmaj zombi 3 is not just bad , it 's xxunk , xxunk bad in so many ways that a whole new xxunk may be needed just to xxunk them all \\n\\n xxmaj more than that , it 's a</th>\n",
       "    <th>0</th>\n",
       "  </tr>\n",
       "  <tr>\n",
       "    <th>xxbos \" xxmaj xxunk by the xxunk ( every gay video these days has a xxunk on the cover ; this is not necessarily to be xxunk as a good xxunk ) i xxunk xxup ben xxup and xxup arthur without knowing a thing about it . xxmaj this is my second ( and i xxunk you it will be my last ) purchase of a xxup culture q xxup</th>\n",
       "    <th>0</th>\n",
       "  </tr>\n",
       "  <tr>\n",
       "    <th>xxbos \" xxmaj really , the use of xxunk nature documentary of swarming bats xxunk by xxup the xxup bat xxup people is some of the most effective ever . xxmaj there are shots of xxunk bats xxunk from the xxunk of caves , swarming bats xxunk out of caves or xxunk about near the xxunk of caves . xxmaj that alone is enough to be xxunk : xxmaj imagine</th>\n",
       "    <th>0</th>\n",
       "  </tr>\n",
       "  <tr>\n",
       "    <th>xxbos \" i 'll xxunk with the usual xxunk to a certain xxunk xxunk known for his xxunk xxmaj new xxmaj xxunk xxunk , because quite xxunk , to xxunk xxunk with xxunk xxunk xxmaj xxunk xxmaj xxunk , is just an xxunk to any such director . i will also avoid xxunk the xxunk - on satire ` xxmaj xxunk xxmaj xxunk ' in the same xxunk as this</th>\n",
       "    <th>0</th>\n",
       "  </tr>\n",
       "</table>\n"
      ],
      "text/plain": [
       "<IPython.core.display.HTML object>"
      ]
     },
     "metadata": {},
     "output_type": "display_data"
    }
   ],
   "source": [
    "data_clas.show_batch()"
   ]
  },
  {
   "cell_type": "code",
   "execution_count": 19,
   "metadata": {
    "ExecuteTime": {
     "end_time": "2018-12-27T21:48:38.868547Z",
     "start_time": "2018-12-27T21:47:44.374985Z"
    }
   },
   "outputs": [
    {
     "data": {
      "text/html": [
       "Total time: 00:54 <p><table style='width:300px; margin-bottom:10px'>\n",
       "  <tr>\n",
       "    <th>epoch</th>\n",
       "    <th>train_loss</th>\n",
       "    <th>valid_loss</th>\n",
       "    <th>accuracy</th>\n",
       "  </tr>\n",
       "  <tr>\n",
       "    <th>1</th>\n",
       "    <th>0.727230</th>\n",
       "    <th>0.682437</th>\n",
       "    <th>0.750000</th>\n",
       "  </tr>\n",
       "</table>\n"
      ],
      "text/plain": [
       "<IPython.core.display.HTML object>"
      ]
     },
     "metadata": {},
     "output_type": "display_data"
    }
   ],
   "source": [
    "learn.fit_one_cycle(1, 1e-2)"
   ]
  },
  {
   "cell_type": "code",
   "execution_count": 20,
   "metadata": {
    "ExecuteTime": {
     "end_time": "2018-12-27T21:48:38.983851Z",
     "start_time": "2018-12-27T21:48:38.869551Z"
    }
   },
   "outputs": [
    {
     "data": {
      "image/png": "[encoded data removed]",
      "text/plain": [
       "<Figure size 432x288 with 1 Axes>"
      ]
     },
     "metadata": {
      "needs_background": "light"
     },
     "output_type": "display_data"
    }
   ],
   "source": [
    "learn.recorder.plot_losses()"
   ]
  },
  {
   "cell_type": "code",
   "execution_count": 21,
   "metadata": {
    "ExecuteTime": {
     "end_time": "2018-12-27T21:50:07.973628Z",
     "start_time": "2018-12-27T21:48:38.984854Z"
    }
   },
   "outputs": [
    {
     "data": {
      "text/html": [
       "Total time: 01:28 <p><table style='width:300px; margin-bottom:10px'>\n",
       "  <tr>\n",
       "    <th>epoch</th>\n",
       "    <th>train_loss</th>\n",
       "    <th>valid_loss</th>\n",
       "    <th>accuracy</th>\n",
       "  </tr>\n",
       "  <tr>\n",
       "    <th>1</th>\n",
       "    <th>0.648593</th>\n",
       "    <th>0.678771</th>\n",
       "    <th>0.562500</th>\n",
       "  </tr>\n",
       "</table>\n"
      ],
      "text/plain": [
       "<IPython.core.display.HTML object>"
      ]
     },
     "metadata": {},
     "output_type": "display_data"
    }
   ],
   "source": [
    "learn.freeze_to(-2)\n",
    "learn.fit_one_cycle(1, slice(5e-3/2., 5e-3))"
   ]
  },
  {
   "cell_type": "code",
   "execution_count": 22,
   "metadata": {
    "ExecuteTime": {
     "end_time": "2018-12-27T21:50:08.083921Z",
     "start_time": "2018-12-27T21:50:07.974630Z"
    }
   },
   "outputs": [
    {
     "data": {
      "image/png": "[encoded data removed]",
      "text/plain": [
       "<Figure size 432x288 with 1 Axes>"
      ]
     },
     "metadata": {
      "needs_background": "light"
     },
     "output_type": "display_data"
    }
   ],
   "source": [
    "learn.recorder.plot_losses()"
   ]
  },
  {
   "cell_type": "code",
   "execution_count": 23,
   "metadata": {
    "ExecuteTime": {
     "end_time": "2018-12-27T21:56:39.648155Z",
     "start_time": "2018-12-27T21:50:08.084925Z"
    }
   },
   "outputs": [
    {
     "data": {
      "text/html": [
       "Total time: 06:31 <p><table style='width:300px; margin-bottom:10px'>\n",
       "  <tr>\n",
       "    <th>epoch</th>\n",
       "    <th>train_loss</th>\n",
       "    <th>valid_loss</th>\n",
       "    <th>accuracy</th>\n",
       "  </tr>\n",
       "  <tr>\n",
       "    <th>1</th>\n",
       "    <th>0.706929</th>\n",
       "    <th>0.656623</th>\n",
       "    <th>0.625000</th>\n",
       "  </tr>\n",
       "</table>\n"
      ],
      "text/plain": [
       "<IPython.core.display.HTML object>"
      ]
     },
     "metadata": {},
     "output_type": "display_data"
    }
   ],
   "source": [
    "learn.unfreeze()\n",
    "learn.fit_one_cycle(1, slice(2e-3/100, 2e-3))"
   ]
  },
  {
   "cell_type": "code",
   "execution_count": 24,
   "metadata": {
    "ExecuteTime": {
     "end_time": "2018-12-27T21:56:39.777500Z",
     "start_time": "2018-12-27T21:56:39.649158Z"
    }
   },
   "outputs": [
    {
     "data": {
      "image/png": "[encoded data removed]",
      "text/plain": [
       "<Figure size 432x288 with 1 Axes>"
      ]
     },
     "metadata": {
      "needs_background": "light"
     },
     "output_type": "display_data"
    }
   ],
   "source": [
    "learn.recorder.plot_losses()"
   ]
  },
  {
   "cell_type": "markdown",
   "metadata": {},
   "source": [
    "---"
   ]
  },
  {
   "cell_type": "code",
   "execution_count": 25,
   "metadata": {
    "ExecuteTime": {
     "end_time": "2018-12-27T21:56:40.173248Z",
     "start_time": "2018-12-27T21:56:39.778502Z"
    }
   },
   "outputs": [],
   "source": [
    "learn.save('imdb_train_clas')"
   ]
  },
  {
   "cell_type": "code",
   "execution_count": 26,
   "metadata": {
    "ExecuteTime": {
     "end_time": "2018-12-27T21:56:59.749551Z",
     "start_time": "2018-12-27T21:56:40.175252Z"
    }
   },
   "outputs": [
    {
     "data": {
      "text/html": [
       "<table>  <col width='85%'>  <col width='7.5%'>  <col width='7.5%'>  <tr>\n",
       "    <th>text</th>\n",
       "    <th>target</th>\n",
       "    <th>prediction</th>\n",
       "  </tr>\n",
       "  <tr>\n",
       "    <th>xxbos \" xxmaj hello xxmaj mary xxmaj lou : xxmaj prom xxmaj night xxup ii starts at the xxmaj hamilton xxmaj high xxmaj school prom of xxunk where xxmaj mary xxmaj lou xxmaj xxunk ( xxmaj xxunk xxmaj xxunk ) is xxunk on her xxunk xxmaj bill xxmaj xxunk ( xxmaj xxunk xxmaj xxunk ) with xxmaj bud xxmaj xxunk ( xxmaj robert xxmaj xxunk ) . xxmaj bill finds</th>\n",
       "    <th>0</th>\n",
       "    <th>1</th>\n",
       "  </tr>\n",
       "  <tr>\n",
       "    <th>xxbos \" xxmaj zombie xxmaj review xxunk 3 \\n\\n * * xxmaj spoilers * * \\n\\n xxmaj few films are actually \" so bad they 're good \" , and xxmaj zombi 3 is not just bad , it 's xxunk , xxunk bad in so many ways that a whole new xxunk may be needed just to xxunk them all \\n\\n xxmaj more than that , it 's a</th>\n",
       "    <th>0</th>\n",
       "    <th>1</th>\n",
       "  </tr>\n",
       "  <tr>\n",
       "    <th>xxbos \" xxmaj xxunk by the xxunk ( every gay video these days has a xxunk on the cover ; this is not necessarily to be xxunk as a good xxunk ) i xxunk xxup ben xxup and xxup arthur without knowing a thing about it . xxmaj this is my second ( and i xxunk you it will be my last ) purchase of a xxup culture q xxup</th>\n",
       "    <th>0</th>\n",
       "    <th>1</th>\n",
       "  </tr>\n",
       "  <tr>\n",
       "    <th>xxbos \" xxmaj really , the use of xxunk nature documentary of swarming bats xxunk by xxup the xxup bat xxup people is some of the most effective ever . xxmaj there are shots of xxunk bats xxunk from the xxunk of caves , swarming bats xxunk out of caves or xxunk about near the xxunk of caves . xxmaj that alone is enough to be xxunk : xxmaj imagine</th>\n",
       "    <th>0</th>\n",
       "    <th>1</th>\n",
       "  </tr>\n",
       "  <tr>\n",
       "    <th>xxbos \" i 'll xxunk with the usual xxunk to a certain xxunk xxunk known for his xxunk xxmaj new xxmaj xxunk xxunk , because quite xxunk , to xxunk xxunk with xxunk xxunk xxmaj xxunk xxmaj xxunk , is just an xxunk to any such director . i will also avoid xxunk the xxunk - on satire ` xxmaj xxunk xxmaj xxunk ' in the same xxunk as this</th>\n",
       "    <th>0</th>\n",
       "    <th>1</th>\n",
       "  </tr>\n",
       "</table>\n"
      ],
      "text/plain": [
       "<IPython.core.display.HTML object>"
      ]
     },
     "metadata": {},
     "output_type": "display_data"
    }
   ],
   "source": [
    "learn.show_results(5)"
   ]
  },
  {
   "cell_type": "markdown",
   "metadata": {},
   "source": [
    "# Predictions"
   ]
  },
  {
   "cell_type": "code",
   "execution_count": 39,
   "metadata": {
    "ExecuteTime": {
     "end_time": "2018-12-27T21:59:04.127649Z",
     "start_time": "2018-12-27T21:59:04.109601Z"
    }
   },
   "outputs": [
    {
     "data": {
      "text/plain": [
       "'\"This movie is a disaster within a disaster film. It is full of great action scenes, which are only meaningful if you throw away all sense of reality. Let\\'s see, word to the wise, lava burns you; steam burns you. You can\\'t stand next to lava. Diverting a minor lava flow is difficult, let alone a significant one. Scares me to think that some might actually believe what they saw in this movie.<br /><br />Even worse is the significant amount of talent that went into making this film. I mean the acting is actually very good. The effects are above average. Hard to believe somebody read the scripts for this and allowed all this talent to be wasted. I guess my suggestion would be that if this movie is about to start on TV ... look away! It is like a train wreck: it is so awful that once you know what is coming, you just have to watch. Look away and spend your time on more meaningful content.\"'"
      ]
     },
     "execution_count": 39,
     "metadata": {},
     "output_type": "execute_result"
    }
   ],
   "source": [
    "item = list(combinedDat[ combinedDat['type'] == 'test']['review'])[1]\n",
    "item"
   ]
  },
  {
   "cell_type": "code",
   "execution_count": 40,
   "metadata": {
    "ExecuteTime": {
     "end_time": "2018-12-27T21:59:06.317315Z",
     "start_time": "2018-12-27T21:59:05.757820Z"
    }
   },
   "outputs": [
    {
     "data": {
      "text/plain": [
       "(Category 1, tensor(1), tensor([0.4393, 0.5607]))"
      ]
     },
     "execution_count": 40,
     "metadata": {},
     "output_type": "execute_result"
    }
   ],
   "source": [
    "learn.predict(item)"
   ]
  },
  {
   "cell_type": "markdown",
   "metadata": {},
   "source": [
    "---------------------------------------------------------------------"
   ]
  },
  {
   "cell_type": "code",
   "execution_count": 29,
   "metadata": {
    "ExecuteTime": {
     "end_time": "2018-12-27T21:57:01.736208Z",
     "start_time": "2018-12-27T21:57:01.733200Z"
    }
   },
   "outputs": [
    {
     "data": {
      "text/plain": [
       "['__class__',\n",
       " '__delattr__',\n",
       " '__dir__',\n",
       " '__eq__',\n",
       " '__format__',\n",
       " '__ge__',\n",
       " '__getattr__',\n",
       " '__getattribute__',\n",
       " '__gt__',\n",
       " '__hash__',\n",
       " '__init__',\n",
       " '__init_subclass__',\n",
       " '__le__',\n",
       " '__lt__',\n",
       " '__ne__',\n",
       " '__new__',\n",
       " '__reduce__',\n",
       " '__reduce_ex__',\n",
       " '__repr__',\n",
       " '__setattr__',\n",
       " '__sizeof__',\n",
       " '__str__',\n",
       " '__subclasshook__',\n",
       " '_init_ds',\n",
       " 'add_tfm',\n",
       " 'create',\n",
       " 'dl',\n",
       " 'export',\n",
       " 'from_csv',\n",
       " 'from_df',\n",
       " 'from_folder',\n",
       " 'from_ids',\n",
       " 'from_tokens',\n",
       " 'load',\n",
       " 'load_empty',\n",
       " 'loss_func',\n",
       " 'one_batch',\n",
       " 'one_item',\n",
       " 'sanity_check',\n",
       " 'save',\n",
       " 'show_batch']"
      ]
     },
     "execution_count": 29,
     "metadata": {},
     "output_type": "execute_result"
    }
   ],
   "source": [
    "data_lm.__class__\n",
    "method_list = [func for func in dir(data_lm) if callable(getattr(data_lm, func))]\n",
    "method_list"
   ]
  },
  {
   "cell_type": "code",
   "execution_count": null,
   "metadata": {},
   "outputs": [],
   "source": []
  }
 ],
 "metadata": {
  "kernelspec": {
   "display_name": "Python 3",
   "language": "python",
   "name": "python3"
  },
  "language_info": {
   "codemirror_mode": {
    "name": "ipython",
    "version": 3
   },
   "file_extension": ".py",
   "mimetype": "text/x-python",
   "name": "python",
   "nbconvert_exporter": "python",
   "pygments_lexer": "ipython3",
   "version": "3.7.1"
  },
  "toc": {
   "base_numbering": 1,
   "nav_menu": {},
   "number_sections": true,
   "sideBar": true,
   "skip_h1_title": true,
   "title_cell": "Table of Contents",
   "title_sidebar": "Contents",
   "toc_cell": true,
   "toc_position": {},
   "toc_section_display": true,
   "toc_window_display": false
  }
 },
 "nbformat": 4,
 "nbformat_minor": 2
}
