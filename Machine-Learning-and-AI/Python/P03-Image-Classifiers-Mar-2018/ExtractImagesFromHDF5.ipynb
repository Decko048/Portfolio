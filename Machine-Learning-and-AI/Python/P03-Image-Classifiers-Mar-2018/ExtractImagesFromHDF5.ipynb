{
 "cells": [
  {
   "cell_type": "code",
   "execution_count": 5,
   "metadata": {},
   "outputs": [],
   "source": [
    "from os import path\n",
    "import h5py\n",
    "import numpy as np\n",
    "from matplotlib import pyplot as plt\n",
    "from PIL import Image"
   ]
  },
  {
   "cell_type": "code",
   "execution_count": 19,
   "metadata": {},
   "outputs": [],
   "source": [
    "archiveFile = path.join(\"datasets\", \"imageData500_64pixels.hdf5\")\n",
    "\n",
    "# Open and read the HDF5 container\n",
    "with h5py.File(archiveFile, \"r\") as archive:\n",
    "    \n",
    "    imgData = np.array(archive[\"trainData\"][:])\n",
    "    imgLabels = np.squeeze(np.array(archive[\"trainLabels\"][:]))\n",
    "      \n",
    "    for i, data in enumerate(imgData):\n",
    "        result = Image.fromarray((data).astype(np.uint8))\n",
    "        if (imgLabels[i] == 0):\n",
    "            label = './datasets/catData/train/obj/obj_' + str(i) + '.png'\n",
    "        else:\n",
    "            label = './datasets/catData/train/cat/cat_' + str(i) + '.png'\n",
    "        \n",
    "        result.save(label)\n",
    "        \n",
    "        \n",
    "    imgData = np.array(archive[\"testData\"][:])\n",
    "    imgLabels = np.squeeze(np.array(archive[\"testLabels\"][:]))\n",
    "      \n",
    "    for i, data in enumerate(imgData):\n",
    "        result = Image.fromarray((data).astype(np.uint8))\n",
    "        if (imgLabels[i] == 0):\n",
    "            label = './datasets/catData/test/obj/obj_' + str(i) + '.png'\n",
    "        else:\n",
    "            label = './datasets/catData/test/cat/cat_' + str(i) + '.png'\n",
    "        \n",
    "        result.save(label)\n",
    "\n",
    "    \n",
    "    # Close the HDF5 container\n",
    "    archive.close()"
   ]
  }
 ],
 "metadata": {
  "kernelspec": {
   "display_name": "Python 3",
   "language": "python",
   "name": "python3"
  },
  "language_info": {
   "codemirror_mode": {
    "name": "ipython",
    "version": 3
   },
   "file_extension": ".py",
   "mimetype": "text/x-python",
   "name": "python",
   "nbconvert_exporter": "python",
   "pygments_lexer": "ipython3",
   "version": "3.6.5"
  },
  "toc": {
   "base_numbering": 1,
   "nav_menu": {},
   "number_sections": true,
   "sideBar": true,
   "skip_h1_title": true,
   "title_cell": "Table of Contents",
   "title_sidebar": "Contents",
   "toc_cell": true,
   "toc_position": {},
   "toc_section_display": true,
   "toc_window_display": false
  }
 },
 "nbformat": 4,
 "nbformat_minor": 2
}
